{
  "cells": [
    {
      "cell_type": "markdown",
      "metadata": {},
      "source": [
        "# Mere om funktioner"
      ],
      "id": "0d4a4677-5005-42f1-8e20-3e6e69f1ca76"
    },
    {
      "cell_type": "code",
      "execution_count": 1,
      "metadata": {},
      "outputs": [],
      "source": [
        "try:\n",
        "    import fysisk_biokemi\n",
        "    print(\"Already installed\")\n",
        "except ImportError:\n",
        "    %pip install -q \"fysisk_biokemi[colab] @ git+https://github.com/au-mbg/fysisk-biokemi.git\""
      ],
      "id": "4b55cd84"
    },
    {
      "cell_type": "markdown",
      "metadata": {},
      "source": [
        "Vi vil senere i kurset se ligninger som f.eks. den kvadratiske bindings\n",
        "ligning\n",
        "\n",
        "$$\n",
        "\\theta = \\frac{K_D + [P_{tot}] + [L_{tot}]}{2[P_{tot}]} - \\sqrt{\\left(\\frac{K_D + [P_{tot}] + [L_{tot}]}{2[P_{tot}]}\\right)^2 - \\frac{[L_{tot}]}{[P_{tot}]}},\n",
        "$$ som kan bruges til at beskrive titreringsdata, der rapporterer\n",
        "proteinets mætning som funktion af den samlede ligandkoncentration.\n",
        "\n",
        "At regne denne funktion kræver at vi er forsigtige med parenteser!\n",
        "Hvilket vi alle har lært, men eftersom det er meget vigtigt i denne\n",
        "sammenhæng er det værd at genopfriske.\n",
        "\n",
        "### Opgave 1\n",
        "\n",
        "For følgende par af udtryk beregne begge (i hånden eller i hovedet alt\n",
        "efter præference.)\n",
        "\n",
        "-   $2 + 3 \\times 4$ vs. $(2 + 3) \\times 4$\n",
        "-   $10 - 2^2$ vs. $(10 - 2)^2$\n",
        "-   $100 / 10 \\times 2$ vs. $100 / (10 \\times 2)$\n",
        "-   $\\frac{12 + 8}{4}$ vs. $12 + 8 / 4$\n",
        "\n",
        "### Opgave 2\n",
        "\n",
        "For de tre beregninger nedenfor overvej hvad resultat er **inden** du\n",
        "kører cellen."
      ],
      "id": "eef0c61d-069a-4af5-ad81-e0eb343d6b07"
    },
    {
      "cell_type": "code",
      "execution_count": 5,
      "metadata": {
        "solution": true
      },
      "outputs": [],
      "source": [
        "a = 1 + 2 * 3 ** 2"
      ],
      "id": "c8c4eb4f"
    },
    {
      "cell_type": "code",
      "execution_count": 6,
      "metadata": {
        "solution": true
      },
      "outputs": [],
      "source": [
        "b = (1 + 2) * 3 ** 2"
      ],
      "id": "8815d18d"
    },
    {
      "cell_type": "code",
      "execution_count": 7,
      "metadata": {
        "solution": true
      },
      "outputs": [],
      "source": [
        "c = 1 + 2 * (3 ** 2)"
      ],
      "id": "596bf029"
    },
    {
      "cell_type": "markdown",
      "metadata": {},
      "source": [
        "Cellen herunder printer resultat for hver beregning"
      ],
      "id": "595d67c0-449c-47b8-b6a2-5f34946c6cfd"
    },
    {
      "cell_type": "code",
      "execution_count": 8,
      "metadata": {},
      "outputs": [],
      "source": [
        "print(f\"{a = }\")\n",
        "print(f\"{b = }\")\n",
        "print(f\"{c = }\")"
      ],
      "id": "325ef51b"
    },
    {
      "cell_type": "markdown",
      "metadata": {},
      "source": [
        "### Opgave 3\n",
        "\n",
        "Vi vil gerne beregne udtrykket\n",
        "\n",
        "$$\n",
        "\\frac{a + b}{c + d}\n",
        "$$\n",
        "\n",
        "Nogen har implementeret funktionen herunder, men den er forkert - din\n",
        "opgave er at fikse den."
      ],
      "id": "4f6a41cb-d3e1-4082-aa40-9d13a8ea50fc"
    },
    {
      "cell_type": "code",
      "execution_count": 10,
      "metadata": {
        "solution": true
      },
      "outputs": [
        {
          "output_type": "stream",
          "name": "stdout",
          "text": [
            "42.0"
          ]
        }
      ],
      "source": [
        "def funktion(a, b, c, d):\n",
        "    return (a + b) / (c + d)\n",
        "\n",
        "resultat_1 = funktion(152, 16, 2, 2)\n",
        "print(resultat_1)"
      ],
      "id": "dcda90d6"
    },
    {
      "cell_type": "markdown",
      "metadata": {},
      "source": [
        "### Opgave 4\n",
        "\n",
        "Det første led af den kvadratiske bindings ligning er\n",
        "\n",
        "$$\n",
        "\\frac{K_D + [P_{tot}] + [L_{tot}]}{2[P_{tot}]} = \\frac{a + b + c}{2 b}\n",
        "$$\n",
        "\n",
        "Færdiggør funktionen nendenfor så den beregner dette udtryk"
      ],
      "id": "2d56ab66-cb59-41f8-9453-5516fb989895"
    },
    {
      "cell_type": "code",
      "execution_count": 12,
      "metadata": {
        "solution": true
      },
      "outputs": [
        {
          "output_type": "stream",
          "name": "stdout",
          "text": [
            "42.0"
          ]
        }
      ],
      "source": [
        "def første_led(a, b, c):\n",
        "    return (a + b + c) / (2 * b)\n",
        "\n",
        "resultat = første_led(100, 2, 66)\n",
        "print(resultat)"
      ],
      "id": "0816c0f8"
    }
  ],
  "nbformat": 4,
  "nbformat_minor": 5,
  "metadata": {
    "kernelspec": {
      "name": "python3",
      "display_name": "Python 3 (ipykernel)",
      "language": "python",
      "path": "/home/runner/work/fysisk-biokemi/fysisk-biokemi/.venv/share/jupyter/kernels/python3"
    },
    "language_info": {
      "name": "python",
      "codemirror_mode": {
        "name": "ipython",
        "version": "3"
      },
      "file_extension": ".py",
      "mimetype": "text/x-python",
      "nbconvert_exporter": "python",
      "pygments_lexer": "ipython3",
      "version": "3.11.13"
    }
  }
}