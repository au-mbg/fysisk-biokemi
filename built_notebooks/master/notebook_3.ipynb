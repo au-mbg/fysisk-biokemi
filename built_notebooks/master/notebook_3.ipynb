{
  "cells": [
    {
      "cell_type": "markdown",
      "metadata": {},
      "source": [
        "# Mere om funktioner"
      ],
      "id": "f01cc182-c461-427d-bd34-ed82e2c7ca88"
    },
    {
      "cell_type": "code",
      "execution_count": 1,
      "metadata": {},
      "outputs": [],
      "source": [
        "try:\n",
        "    import fysisk_biokemi\n",
        "    print(\"Already installed\")\n",
        "except ImportError:\n",
        "    %pip install \"fysisk_biokemi[colab] @ git+https://github.com/au-mbg/fysisk-biokemi.git\""
      ],
      "id": "950841aa"
    },
    {
      "cell_type": "markdown",
      "metadata": {},
      "source": [
        "Vi vil senere i kurset se ligninger som f.eks. den kvadratiske bindings\n",
        "ligning\n",
        "\n",
        "$$\n",
        "\\theta = \\frac{K_D + [P_{tot}] + [L_{tot}]}{2[P_{tot}]} - \\sqrt{\\left(\\frac{K_D + [P_{tot}] + [L_{tot}]}{2[P_{tot}]}\\right)^2 - \\frac{[L_{tot}]}{[P_{tot}]}},\n",
        "$$ som kan bruges til at beskrive titreringsdata, der rapporterer\n",
        "proteinets mætning som funktion af den samlede ligandkoncentration.\n",
        "\n",
        "At regne denne funktion kræver at vi er forsigtige med parenteser!\n",
        "Hvilket vi alle har lært, men eftersom det er meget vigtigt i denne\n",
        "sammenhæng er det værd at genopfriske.\n",
        "\n",
        "### Opgave 1\n",
        "\n",
        "For følgende par af udtryk beregne begge (i hånden eller i hovedet alt\n",
        "efter præference.)\n",
        "\n",
        "-   $2 + 3 \\times 4$ vs. $(2 + 3) \\times 4$\n",
        "-   $10 - 2^2$ vs. $(10 - 2)^2$\n",
        "-   $100 / 10 \\times 2$ vs. $100 / (10 \\times 2)$\n",
        "-   $\\frac{12 + 8}{4}$ vs. $12 + 8 / 4$\n",
        "\n",
        "### Opgave 2\n",
        "\n",
        "For de tre beregninger nedenfor overvej hvad resultat er **inden** du\n",
        "kører cellen."
      ],
      "id": "1d4cfdf2-55fb-4161-895e-f48e4971b20b"
    },
    {
      "cell_type": "code",
      "execution_count": 5,
      "metadata": {
        "solution": true
      },
      "outputs": [],
      "source": [
        "a = 1 + 2 * 3 ** 2"
      ],
      "id": "ef78bda9"
    },
    {
      "cell_type": "code",
      "execution_count": 6,
      "metadata": {
        "solution": true
      },
      "outputs": [],
      "source": [
        "b = (1 + 2) * 3 ** 2"
      ],
      "id": "8c69b613"
    },
    {
      "cell_type": "code",
      "execution_count": 7,
      "metadata": {
        "solution": true
      },
      "outputs": [],
      "source": [
        "c = 1 + 2 * (3 ** 2)"
      ],
      "id": "3eb65826"
    },
    {
      "cell_type": "markdown",
      "metadata": {},
      "source": [
        "Cellen herunder printer resultat for hver beregning"
      ],
      "id": "7240d583-0681-4e29-85b9-4b3d711e5f15"
    },
    {
      "cell_type": "code",
      "execution_count": 8,
      "metadata": {},
      "outputs": [],
      "source": [
        "print(f\"{a = }\")\n",
        "print(f\"{b = }\")\n",
        "print(f\"{c = }\")"
      ],
      "id": "eddaf621"
    },
    {
      "cell_type": "markdown",
      "metadata": {},
      "source": [
        "### Opgave 3\n",
        "\n",
        "Vi vil gerne beregne udtrykket\n",
        "\n",
        "$$\n",
        "\\frac{a + b}{c + d}\n",
        "$$\n",
        "\n",
        "Nogen har implementeret funktionen herunder, men den er forkert - din\n",
        "opgave er at fikse den."
      ],
      "id": "b316c317-141a-45c8-81ea-d2063e74fd70"
    },
    {
      "cell_type": "code",
      "execution_count": 10,
      "metadata": {
        "solution": true
      },
      "outputs": [
        {
          "output_type": "stream",
          "name": "stdout",
          "text": [
            "42.0"
          ]
        }
      ],
      "source": [
        "def funktion(a, b, c, d):\n",
        "    return (a + b) / (c + d)\n",
        "\n",
        "resultat_1 = funktion(152, 16, 2, 2)\n",
        "print(resultat_1)"
      ],
      "id": "420d344e"
    },
    {
      "cell_type": "markdown",
      "metadata": {},
      "source": [
        "### Opgave 4\n",
        "\n",
        "Det første led af den kvadratiske bindings ligning er\n",
        "\n",
        "$$\n",
        "\\frac{K_D + [P_{tot}] + [L_{tot}]}{2[P_{tot}]} = \\frac{a + b + c}{2 b}\n",
        "$$\n",
        "\n",
        "Færdiggør funktionen nendenfor så den beregner dette udtryk"
      ],
      "id": "09e0dd85-7e74-4256-9356-731dbbc46577"
    },
    {
      "cell_type": "code",
      "execution_count": 12,
      "metadata": {
        "solution": true
      },
      "outputs": [
        {
          "output_type": "stream",
          "name": "stdout",
          "text": [
            "42.0"
          ]
        }
      ],
      "source": [
        "def første_led(a, b, c):\n",
        "    return (a + b + c) / (2 * b)\n",
        "\n",
        "resultat = første_led(100, 2, 66)\n",
        "print(resultat)"
      ],
      "id": "a26af2ca"
    }
  ],
  "nbformat": 4,
  "nbformat_minor": 5,
  "metadata": {
    "kernelspec": {
      "name": "python3",
      "display_name": "Python 3 (ipykernel)",
      "language": "python",
      "path": "/home/runner/work/fysisk-biokemi/fysisk-biokemi/.venv/share/jupyter/kernels/python3"
    },
    "language_info": {
      "name": "python",
      "codemirror_mode": {
        "name": "ipython",
        "version": "3"
      },
      "file_extension": ".py",
      "mimetype": "text/x-python",
      "nbconvert_exporter": "python",
      "pygments_lexer": "ipython3",
      "version": "3.11.13"
    }
  }
}