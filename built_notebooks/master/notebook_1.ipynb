{
  "cells": [
    {
      "cell_type": "markdown",
      "metadata": {},
      "source": [
        "# Jupyter Notebooks som lommeregner"
      ],
      "id": "6544a453-0f8a-43d4-ab95-43cd10ea2e9b"
    },
    {
      "cell_type": "code",
      "execution_count": 1,
      "metadata": {},
      "outputs": [],
      "source": [
        "try:\n",
        "    import fysisk_biokemi\n",
        "    print(\"Already installed\")\n",
        "except ImportError:\n",
        "    %pip install -q \"fysisk_biokemi[colab] @ git+https://github.com/au-mbg/fysisk-biokemi.git\""
      ],
      "id": "411e700e"
    },
    {
      "cell_type": "markdown",
      "metadata": {},
      "source": [
        "## Simple beregninger\n",
        "\n",
        "Vi kan bruge Jupyter notebooks som en lommeregner med alle de\n",
        "operationer vi er vant til fra en almindelig lommeregner.\n",
        "\n",
        "``` python\n",
        "1 + 1       # Addition med +\n",
        "3 - 1       # Substraktion med - \n",
        "4 * 4       # Multiplikation med *\n",
        "20 / 5      # Division med /\n",
        "```\n",
        "\n",
        "### Opgave 1\n",
        "\n",
        "Brug Jupyter notebook til at beregne følgende:\n",
        "\n",
        "1.  $21 + 21$\n",
        "2.  $53 - 11$\n",
        "3.  $6 \\times 7$\n",
        "4.  $\\frac{546}{13}$"
      ],
      "id": "1577581f-dff0-4b16-9090-d437e49cd225"
    },
    {
      "cell_type": "code",
      "execution_count": 3,
      "metadata": {
        "solution": true
      },
      "outputs": [
        {
          "output_type": "display_data",
          "metadata": {},
          "data": {
            "text/plain": [
              "42.0"
            ]
          }
        }
      ],
      "source": [
        "21 + 21\n",
        "53 - 11\n",
        "6 * 7\n",
        "546 / 13"
      ],
      "id": "77849efa"
    },
    {
      "cell_type": "markdown",
      "metadata": {},
      "source": [
        "## Variable\n",
        "\n",
        "Som også nævnt i “Introduktion til livets Molekyler” er det oftest\n",
        "hjælpsomt at definere størrelser i variabler, hvilket giver dem et navn\n",
        "der kan bruges senere. En variable defineres ved at bruge `=`, f.eks.\n",
        "kan vi definere\n",
        "\n",
        "``` python\n",
        "a = 21 + 21\n",
        "```\n",
        "\n",
        "Som gør at resultat af beregningen er gemt i `a`.\n",
        "\n",
        "### Opgave 2\n",
        "\n",
        "Gentag beregningerne fra opgave 1, men gem nu hvert del i en variable"
      ],
      "id": "37695c5a-8474-4c3a-88eb-6136d80bb5e7"
    },
    {
      "cell_type": "code",
      "execution_count": 5,
      "metadata": {
        "solution": true
      },
      "outputs": [],
      "source": [
        "a = 21 + 21 \n",
        "b = 53 - 11\n",
        "c = 6 * 7\n",
        "d = 546 / 13"
      ],
      "id": "9cca08bf"
    },
    {
      "cell_type": "markdown",
      "metadata": {},
      "source": [
        "Vi kan så bruge de definerede variable i en ny beregning"
      ],
      "id": "3e67dac7-9abe-4201-aa90-25b6cd7e674c"
    },
    {
      "cell_type": "code",
      "execution_count": 6,
      "metadata": {},
      "outputs": [
        {
          "output_type": "stream",
          "name": "stdout",
          "text": [
            "42.0"
          ]
        }
      ],
      "source": [
        "total = (a + b + c + d) / 4\n",
        "print(total)"
      ],
      "id": "e15d77fd"
    },
    {
      "cell_type": "markdown",
      "metadata": {},
      "source": [
        "### Opgave 3\n",
        "\n",
        "I “Introduktion til livets molekyler” har vi lavet beregninger om\n",
        "antallet af celler i forskellige dele af kroppen."
      ],
      "id": "7a33c30e-6f3f-400c-98b9-e90bd01e01ef"
    },
    {
      "cell_type": "code",
      "execution_count": 7,
      "metadata": {},
      "outputs": [],
      "source": [
        "total_cells = 37_000_000_000_000\n",
        "brain_cells = 86_000_000_000\n",
        "liver_cells = 240_000_000_000\n",
        "skin_cells = 1_600_000_000_000"
      ],
      "id": "f1f99ef3"
    },
    {
      "cell_type": "markdown",
      "metadata": {},
      "source": [
        "Benyt Jupyter som lommeregner til at beregne procent-delen hver kategori\n",
        "udgør af det total antal celler i kroppen, altså for hver kategori\n",
        "beregn\n",
        "\n",
        "$$\n",
        "P = \\frac{\\mathrm{Antal}}{\\mathrm{Total}} \\times 100\n",
        "$$"
      ],
      "id": "abbfb731-1949-42cf-b5a5-c3144b3849aa"
    },
    {
      "cell_type": "code",
      "execution_count": 9,
      "metadata": {
        "solution": true
      },
      "outputs": [],
      "source": [
        "brain_pct = brain_cells / total_cells * 100\n",
        "liver_pct = liver_cells / total_cells * 100\n",
        "skin_pct = skin_cells / total_cells * 100"
      ],
      "id": "f35feae6"
    },
    {
      "cell_type": "code",
      "execution_count": 10,
      "metadata": {},
      "outputs": [
        {
          "output_type": "stream",
          "name": "stdout",
          "text": [
            "0.23243243243243245\n",
            "0.6486486486486486\n",
            "4.324324324324325"
          ]
        }
      ],
      "source": [
        "print(brain_pct)\n",
        "print(liver_pct)\n",
        "print(skin_pct)"
      ],
      "id": "960acfc1"
    },
    {
      "cell_type": "markdown",
      "metadata": {},
      "source": [
        "## Funktioner\n",
        "\n",
        "Når vi laver den samme beregning flere gange er det smart ikke at skulle\n",
        "skrive det samme kode igen, det gør koden mere læse-venlig og reducere\n",
        "chancen for at vi laver fejl. Måden at undgå dette er ved at bruge\n",
        "**funktioner**, en funktion i Python definere en opskrift når den bliver\n",
        "kaldt.\n",
        "\n",
        "Ovenfor har vi f.eks. brugt funktionen `print` til at skrive output. En\n",
        "funktion defineres sådan"
      ],
      "id": "2d1147e7-f52f-4c01-850f-311ca0fc6415"
    },
    {
      "cell_type": "code",
      "execution_count": 11,
      "metadata": {},
      "outputs": [],
      "source": [
        "def min_funktion(a, b):\n",
        "    resultat = a * b \n",
        "    return resultat"
      ],
      "id": "5ef04e1b"
    },
    {
      "cell_type": "markdown",
      "metadata": {},
      "source": [
        "Det er vigtigt at funktionen er indenteret (skubbet til højre) da Python\n",
        "har behov for dette for at læse den. Når en funktionen defineres som\n",
        "ovenfor udføres beregningen ikke, ligesom at skrive en opskrift ned ikke\n",
        "laver et måltid, først når funktionen “kaldes” bliver den udført"
      ],
      "id": "b5581e26-6b54-4841-aee8-8033beafbd41"
    },
    {
      "cell_type": "code",
      "execution_count": 12,
      "metadata": {},
      "outputs": [
        {
          "output_type": "display_data",
          "metadata": {},
          "data": {
            "text/plain": [
              "42"
            ]
          }
        }
      ],
      "source": [
        "min_funktion(6, 7)"
      ],
      "id": "17e5826e"
    },
    {
      "cell_type": "markdown",
      "metadata": {},
      "source": [
        "### Opgave 4\n",
        "\n",
        "Færdiggør funktionen nedenfor så den beregner procent-delen af `værdi`\n",
        "af `total`."
      ],
      "id": "638b52af-f8bd-419e-8487-79bd7021ea15"
    },
    {
      "cell_type": "code",
      "execution_count": 14,
      "metadata": {
        "solution": true
      },
      "outputs": [],
      "source": [
        "def procentdel(værdi, total):\n",
        "    resultat = værdi / total * 100\n",
        "    return resultat"
      ],
      "id": "499a3ec3"
    },
    {
      "cell_type": "markdown",
      "metadata": {},
      "source": [
        "Vi kan så bruge funktionen til at beregne procent delene"
      ],
      "id": "c6e2e0ac-dbfe-4a39-a5b1-3fa652d93350"
    },
    {
      "cell_type": "code",
      "execution_count": 15,
      "metadata": {},
      "outputs": [
        {
          "output_type": "stream",
          "name": "stdout",
          "text": [
            "0.23243243243243245 0.6486486486486486 4.324324324324325"
          ]
        }
      ],
      "source": [
        "brain_pct = procentdel(brain_cells, total_cells)\n",
        "liver_pct = procentdel(liver_cells, total_cells)\n",
        "skin_pct = procentdel(skin_cells, total_cells)\n",
        "print(brain_pct, liver_pct, skin_pct)"
      ],
      "id": "b37f3543"
    },
    {
      "cell_type": "markdown",
      "metadata": {},
      "source": [
        "### Specielle funktioner\n",
        "\n",
        "Vi har nu set at vi kan bruge Jupyter notebooks som lommeregner til at\n",
        "lave beregninger med de basale aritmetiske operationer. Vi har dog ofte\n",
        "behov for f.eks. at regne potensfunktioner, kvadratrødder, exponential\n",
        "funktioner eller logaritmer.\n",
        "\n",
        "Heldigvis er dette også nemt med Python, vi kan nemlig bruge en pakke\n",
        "der implementere disse operationer som funktioner - specifikt `numpy`.\n",
        "\n",
        "Potensfunktioner, altså $x^k$ kan regnes som\n",
        "\n",
        "-   x\\*\\*k\n",
        "\n",
        "De tre andre kan regnes med NumPy som\n",
        "\n",
        "-   `np.sqrt`\n",
        "-   `np.exp`\n",
        "-   `np.log`\n",
        "\n",
        "### Opgave 5\n",
        "\n",
        "Brug disse til at beregne følgende\n",
        "\n",
        "-   $6.4807^2$\n",
        "-   $\\sqrt{1764}$\n",
        "-   $e^{3.737669}$\n",
        "-   $\\log{(66.6863)}$"
      ],
      "id": "88a1fcd3-9b52-4788-b459-5f89f55e34a0"
    },
    {
      "cell_type": "code",
      "execution_count": 17,
      "metadata": {
        "solution": true
      },
      "outputs": [
        {
          "output_type": "stream",
          "name": "stdout",
          "text": [
            "42.0 41.99997403210656 4.1999995345233145"
          ]
        }
      ],
      "source": [
        "import numpy as np # Dette importere NumPy så vi kan bruge funktionerne.\n",
        "\n",
        "resultat_1 = np.sqrt(1764)\n",
        "resultat_2 = np.exp(3.737669)\n",
        "resultat_3 = np.log(66.6863)\n",
        "\n",
        "print(resultat_1, resultat_2, resultat_3)"
      ],
      "id": "a8239fc1"
    }
  ],
  "nbformat": 4,
  "nbformat_minor": 5,
  "metadata": {
    "kernelspec": {
      "name": "python3",
      "display_name": "Python 3 (ipykernel)",
      "language": "python",
      "path": "/home/runner/work/fysisk-biokemi/fysisk-biokemi/.venv/share/jupyter/kernels/python3"
    },
    "language_info": {
      "name": "python",
      "codemirror_mode": {
        "name": "ipython",
        "version": "3"
      },
      "file_extension": ".py",
      "mimetype": "text/x-python",
      "nbconvert_exporter": "python",
      "pygments_lexer": "ipython3",
      "version": "3.11.13"
    }
  }
}