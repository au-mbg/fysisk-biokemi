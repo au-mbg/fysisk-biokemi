{
  "cells": [
    {
      "cell_type": "markdown",
      "metadata": {},
      "source": [
        "# Week 47"
      ],
      "id": "19546380-c14b-4116-9a85-e8f9390eb22e"
    },
    {
      "cell_type": "code",
      "execution_count": 1,
      "metadata": {},
      "outputs": [],
      "source": [
        "try:\n",
        "    import fysisk_biokemi\n",
        "    print(\"Already installed\")\n",
        "except ImportError:\n",
        "    %pip install -q \"fysisk_biokemi[colab] @ git+https://github.com/au-mbg/fysisk-biokemi.git\""
      ],
      "id": "4985e5ff"
    },
    {
      "cell_type": "markdown",
      "metadata": {},
      "source": [
        "------------------------------------------------------------------------\n",
        "\n",
        "## The fluorescent protein “mCherry”.\n",
        "\n",
        "The spectra of many fluorescent proteins can be found at the website:\n",
        "[www.fpbase.org](https://www.fpbase.org/). Go to FPbase and search for\n",
        "“mCherry”.\n",
        "\n",
        "#### (a) Find parameters.\n",
        "\n",
        "Find the following parameters for the protein\n",
        "\n",
        "-   Extinction coefficient at absorbance maximum\n",
        "-   Quantum yield\n",
        "-   The organism from which it was originally isolated\n",
        "-   Molecular weight\n",
        "\n",
        "Save them to seperate variables in the cell below."
      ],
      "id": "d7674390-c03a-4343-b59a-211746710251"
    },
    {
      "cell_type": "code",
      "execution_count": 2,
      "metadata": {
        "solution": true
      },
      "outputs": [],
      "source": [
        "QY = 0.22\n",
        "EC = 72000 # [1/(M cm)]\n",
        "organism = \"Discosoma sp.\"\n",
        "m_w = 26.7 * 10**3 # From fpbase"
      ],
      "id": "9b259fc5"
    },
    {
      "cell_type": "markdown",
      "metadata": {},
      "source": [
        "#### (b) Adorbance\n",
        "\n",
        "What is the absorbance of a 1 µM solution of mCherry at its absorption\n",
        "maximum?"
      ],
      "id": "128bb7d0-8225-4e7c-88ca-1838ef5bed35"
    },
    {
      "cell_type": "code",
      "execution_count": 5,
      "metadata": {
        "solution": true
      },
      "outputs": [
        {
          "output_type": "stream",
          "name": "stdout",
          "text": [
            "A_max = 0.072"
          ]
        }
      ],
      "source": [
        "c = 1 * 10**(-6) # [M]\n",
        "l = 1 # [cm]\n",
        "A_max = EC * c * l\n",
        "print(f\"{A_max = :3.3f}\")"
      ],
      "id": "04f212d9"
    },
    {
      "cell_type": "markdown",
      "metadata": {},
      "source": [
        "#### (c) Extinction coefficient from sequence.\n",
        "\n",
        "The sequence of the protein is also given. From this determine the\n",
        "extinction coefficient at 280 nm.\n",
        "\n",
        "Start by taking the sequence from the website and assigning it to the\n",
        "variable `sequence` in the cell below."
      ],
      "id": "0c398052-0571-4680-b351-e42789ba3bb1"
    },
    {
      "cell_type": "code",
      "execution_count": 7,
      "metadata": {
        "solution": true
      },
      "outputs": [],
      "source": [
        "sequence=\"\"\"MVSKGEEDNM AIIKEFMRFK VHMEGSVNGH EFEIEGEGEG RPYEGTQTAK LKVTKGGPLP FAWDILSPQF MYGSKAYVKH PADIPDYLKL SFPEGFKWER VMNFEDGGVV TVTQDSSLQD GEFIYKVKLR GTNFPSDGPV MQKKTMGWEA SSERMYPEDG ALKGEIKQRL KLKDGGHYDA EVKTTYKAKK PVQLPGAYNV NIKLDITSHN EDYTIVEQYE RAEGRHSTGG MDELYK\"\"\""
      ],
      "id": "24c5653d"
    },
    {
      "cell_type": "markdown",
      "metadata": {},
      "source": [
        "Now use the sequence to calculate the extinction coefficient"
      ],
      "id": "e1fd92d2-9300-4484-bc80-55b8b9a88f7a"
    },
    {
      "cell_type": "code",
      "execution_count": 9,
      "metadata": {
        "solution": true
      },
      "outputs": [
        {
          "output_type": "stream",
          "name": "stdout",
          "text": [
            "ext_coeff = 34380.000"
          ]
        }
      ],
      "source": [
        "# This is 'dictionary' with the extinction coefficients of the relevant \n",
        "# amino acid residues. Dictionaries are indexed with 'keys', so you can retrieve\n",
        "# the value for W as: ext_residue[\"W\"].\n",
        "ext_residue = {\"W\": 5500, \"Y\": 1490, \"C\": 125}\n",
        "\n",
        "# Count the number of active residues\n",
        "N_trp = sequence.count(\"W\")\n",
        "N_tyr = sequence.count(\"Y\")\n",
        "N_cys = sequence.count(\"C\")\n",
        "\n",
        "# Calculate the extinction coefficient: \n",
        "ext_coeff = N_trp * ext_residue[\"W\"] + N_tyr * ext_residue[\"Y\"] + N_cys * ext_residue[\"C\"]\n",
        "\n",
        "print(f\"{ext_coeff = :3.3f}\")"
      ],
      "id": "5211076b"
    },
    {
      "cell_type": "markdown",
      "metadata": {},
      "source": [
        "#### (d) What is the concentration of a 1 µM solution of mCherry in mg/mL?"
      ],
      "id": "e2cf0629-5e29-47ad-82ef-f233fa7c2506"
    },
    {
      "cell_type": "code",
      "execution_count": 11,
      "metadata": {
        "solution": true
      },
      "outputs": [
        {
          "output_type": "stream",
          "name": "stdout",
          "text": [
            "conc_mg_mL = 0.026699999999999998"
          ]
        }
      ],
      "source": [
        "conc_molar = 1 * 10**(-6) # From 1 [uM].\n",
        "conc_mg_mL = conc_molar * m_w \n",
        "print(f\"{conc_mg_mL = }\")"
      ],
      "id": "52b53cbf"
    },
    {
      "cell_type": "markdown",
      "metadata": {},
      "source": [
        "------------------------------------------------------------------------\n",
        "\n",
        "The excitation and emission spectra can be downloaded as a csv-file by\n",
        "clicking the download icon as highlighted below\n",
        "\n",
        "<figure>\n",
        "<img\n",
        "src=\"https://raw.githubusercontent.com/au-mbg/fysisk-biokemi/refs/heads/main/lessons/figures/week_47/download_spectra.png\"\n",
        "alt=\"Download spectra\" />\n",
        "<figcaption aria-hidden=\"true\">Download spectra</figcaption>\n",
        "</figure>\n",
        "\n",
        "------------------------------------------------------------------------\n",
        "\n",
        "#### (e) Load the dataset\n",
        "\n",
        "Use the widget below to load the dataset as a `DataFrame`"
      ],
      "id": "77fd86aa-e8b9-4706-923e-491fcc050396"
    },
    {
      "cell_type": "code",
      "execution_count": 12,
      "metadata": {},
      "outputs": [],
      "source": [
        "from fysisk_biokemi.widgets import DataUploader\n",
        "from IPython.display import display \n",
        "uploader = DataUploader()\n",
        "uploader.display()"
      ],
      "id": "edc95ce4"
    },
    {
      "cell_type": "markdown",
      "metadata": {},
      "source": [
        "Run the next cell **after** uploading the file"
      ],
      "id": "146e1ac0-7578-4016-99d8-7cb7c29b4599"
    },
    {
      "cell_type": "code",
      "execution_count": 13,
      "metadata": {},
      "outputs": [],
      "source": [
        "df = uploader.get_dataframe()\n",
        "display(df)"
      ],
      "id": "87d1a55f"
    },
    {
      "cell_type": "code",
      "execution_count": 14,
      "metadata": {
        "solution": true
      },
      "outputs": [
        {
          "output_type": "display_data",
          "metadata": {},
          "data": {
            "text/html": [
              "\n",
              "<p>1100 rows × 4 columns</p>\n",
              "</div>"
            ]
          }
        }
      ],
      "source": [
        "from IPython.display import display \n",
        "from fysisk_biokemi.datasets import load_dataset\n",
        "df = load_dataset('mCherry') # Load from package for the solution so it doesn't require to interact.\n",
        "display(df)"
      ],
      "id": "bbb3811b"
    },
    {
      "cell_type": "markdown",
      "metadata": {},
      "source": [
        "#### (f) Plot spectra\n",
        "\n",
        "Make your own plot showing the excitation and emission spectra of\n",
        "“mCherry” using the above data.\n",
        "\n",
        "> **Tip**\n",
        ">\n",
        "> You don’t have to worry about the `NaN` values in the dataset when\n",
        "> plotting, matplotlib just skips plotting that line segment."
      ],
      "id": "c73ceea6-84cc-41a5-81cf-e0f83b1b697e"
    },
    {
      "cell_type": "code",
      "execution_count": 16,
      "metadata": {
        "solution": true
      },
      "outputs": [
        {
          "output_type": "display_data",
          "metadata": {},
          "data": {
            "image/png": "[encoded data removed]"
          }
        }
      ],
      "source": [
        "import matplotlib.pyplot as plt\n",
        "fig, ax = plt.subplots(figsize=(9, 4))\n",
        "ax.plot(df['wavelength'], df['mCherry ex'], label='Excitation')\n",
        "ax.plot(df['wavelength'], df['mCherry em'], label='Emission')\n",
        "ax.legend()\n",
        "ax.set_xlabel('Wavelength')\n",
        "ax.set_ylabel('Extinction & Emission')\n",
        "plt.show()"
      ],
      "id": "f5fab5ef"
    },
    {
      "cell_type": "markdown",
      "metadata": {},
      "source": [
        "#### (g) Stokes shift\n",
        "\n",
        "What is the Stokes shift of mCherry?\n",
        "\n",
        "> **Tip**\n",
        ">\n",
        "> If you have two arrays `A` and `B` you can find the entry in `A`\n",
        "> corresponding to the largest value in `B` like this\n",
        ">\n",
        "> ``` python\n",
        "> A_at_B_max = A[np.argmax(B)]\n",
        "> ```"
      ],
      "id": "fe96d2c8-b030-4104-b0ed-fe89ecaa48f2"
    },
    {
      "cell_type": "code",
      "execution_count": 18,
      "metadata": {
        "solution": true
      },
      "outputs": [
        {
          "output_type": "stream",
          "name": "stdout",
          "text": [
            "lambda_ex = 587\n",
            "lambda_em = 610\n",
            "stokes_shift = 23"
          ]
        }
      ],
      "source": [
        "import numpy as np\n",
        "lambda_ex = df['wavelength'][np.argmax(df['mCherry ex'])]\n",
        "lambda_em = df['wavelength'][np.argmax(df['mCherry em'])]\n",
        "stokes_shift = lambda_em - lambda_ex\n",
        "\n",
        "print(f\"{lambda_ex = :d}\")\n",
        "print(f\"{lambda_em = :d}\")\n",
        "print(f\"{stokes_shift = :d}\")"
      ],
      "id": "5d3699e5"
    },
    {
      "cell_type": "markdown",
      "metadata": {},
      "source": [
        "#### (h) Colors\n",
        "\n",
        "What colors are the light that correspond to the excitation and emission\n",
        "maxima respectively?\n",
        "\n",
        "------------------------------------------------------------------------\n",
        "\n",
        "## Proteins in blood plasma.\n",
        "\n",
        "In this exercise we will learn how Python is excellent for handling\n",
        "datasets with many data points and how it can be used to apply the same\n",
        "procedure to all the data points at once.\n",
        "\n",
        "A researcher wants to determine the concentration of two proteins in\n",
        "blood plasma that is suspected to be involved in development of an\n",
        "autoimmune disease. 500 patients and 500 healthy individuals were\n",
        "included in the study and absorbance measurements of the two purified\n",
        "proteins from all blood plasma samples were measured at 280 nm. The\n",
        "molecular weight and extinction coefficients of the two proteins are\n",
        "given in the table below.\n",
        "\n",
        "| Protein | $M_w$ $[\\text{kDa}]$ | $\\epsilon$ $[\\text{M}^{-1}\\text{cm}^{-1}]$ |\n",
        "|-----------------------|---------------------|-----------------------------|\n",
        "| 1       | 130                  | 180000                                     |\n",
        "| 2       | 57                   | 80000                                      |\n",
        "\n",
        "Properties of the two proteins.\n",
        "\n",
        "#### (a) Load the dataset\n",
        "\n",
        "Use the widget to load the dataset as a dataframe from the file\n",
        "**protein_blood_plasma.xlsx**"
      ],
      "id": "e9df3fcf-018a-4dfc-a1ec-ea390dcd8f0c"
    },
    {
      "cell_type": "code",
      "execution_count": 19,
      "metadata": {},
      "outputs": [],
      "source": [
        "from IPython.display import display \n",
        "from fysisk_biokemi.widgets import DataUploader\n",
        "uploader = DataUploader()\n",
        "uploader.display()"
      ],
      "id": "481a4457"
    },
    {
      "cell_type": "markdown",
      "metadata": {},
      "source": [
        "Run this cell **after** having uploaded the file in the cell above."
      ],
      "id": "9bc60f46-4f93-41bc-a102-c7a9463c73cc"
    },
    {
      "cell_type": "code",
      "execution_count": 20,
      "metadata": {},
      "outputs": [],
      "source": [
        "df = uploader.get_dataframe()\n",
        "display(df)"
      ],
      "id": "c48070e8"
    },
    {
      "cell_type": "code",
      "execution_count": 21,
      "metadata": {
        "solution": true
      },
      "outputs": [
        {
          "output_type": "display_data",
          "metadata": {},
          "data": {
            "text/html": [
              "\n",
              "<p>500 rows × 4 columns</p>\n",
              "</div>"
            ]
          }
        }
      ],
      "source": [
        "from fysisk_biokemi.datasets import load_dataset\n",
        "from IPython.display import display \n",
        "df = load_dataset('protein_blood_plasma') # Load from package for the solution so it doesn't require to interact.\n",
        "display(df)"
      ],
      "id": "5ae63f35"
    },
    {
      "cell_type": "markdown",
      "metadata": {},
      "source": [
        "#### (b) Calculate concentrations\n",
        "\n",
        "Calculate the molar concentration of the two proteins in all samples,\n",
        "the light path for every measurement is 0.1 cm.\n",
        "\n",
        "Always a good idea to assign known values to variables"
      ],
      "id": "3df36495-c2b0-4720-be3e-b7129ac93712"
    },
    {
      "cell_type": "code",
      "execution_count": 22,
      "metadata": {},
      "outputs": [],
      "source": [
        "protein_1_ext_coeff = 180000\n",
        "protein_2_ext_coeff = 80000\n",
        "l = 0.1"
      ],
      "id": "0c02b859"
    },
    {
      "cell_type": "markdown",
      "metadata": {},
      "source": [
        "> **Tip**\n",
        ">\n",
        "> You can set new columns in a `DataFrame` by just assigning to it\n",
        ">\n",
        "> ``` python\n",
        "> df['new_column'] = [1, 2, 3, ..., 42]\n",
        "> ```\n",
        ">\n",
        "> It can also be set as a computation of a property from another row\n",
        ">\n",
        "> ``` python\n",
        "> df['new_column'] = df['current_column'] / 4\n",
        "> ```"
      ],
      "id": "47c5a93d-19cc-4255-995c-a281d600d122"
    },
    {
      "cell_type": "code",
      "execution_count": 24,
      "metadata": {
        "solution": true
      },
      "outputs": [
        {
          "output_type": "display_data",
          "metadata": {},
          "data": {
            "text/html": [
              "\n",
              "<p>500 rows × 8 columns</p>\n",
              "</div>"
            ]
          }
        }
      ],
      "source": [
        "df['protein1_healthy_molar_conc'] = df['A280_protein1_healthy'] / (protein_1_ext_coeff * l)\n",
        "df['protein1_patient_molar_conc'] = df['A280_protein1_patient'] / (protein_1_ext_coeff * l)\n",
        "df['protein2_healthy_molar_conc'] = df['A280_protein2_healthy'] / (protein_2_ext_coeff * l)\n",
        "df['protein2_patient_molar_conc'] = df['A280_protein2_patient'] / (protein_2_ext_coeff * l)\n",
        "display(df)"
      ],
      "id": "f9c76d8a"
    },
    {
      "cell_type": "markdown",
      "metadata": {},
      "source": [
        "#### (c). Concentrations in mg/mL\n",
        "\n",
        "Add another set of four columns containing the concentrations in mg/mL."
      ],
      "id": "6abc348f-34f4-4b89-acae-f708a8060425"
    },
    {
      "cell_type": "code",
      "execution_count": 25,
      "metadata": {},
      "outputs": [],
      "source": [
        "protein_1_mw = 130 * 10**3\n",
        "protein_2_mw = 57 * 10**3"
      ],
      "id": "97398693"
    },
    {
      "cell_type": "code",
      "execution_count": 27,
      "metadata": {
        "solution": true
      },
      "outputs": [
        {
          "output_type": "display_data",
          "metadata": {},
          "data": {
            "text/html": [
              "\n",
              "<p>500 rows × 4 columns</p>\n",
              "</div>"
            ]
          }
        }
      ],
      "source": [
        "df['protein1_healthy_conc'] = df['protein1_healthy_molar_conc'] * protein_1_mw\n",
        "df['protein1_patient_conc'] = df['protein1_patient_molar_conc'] * protein_1_mw\n",
        "df['protein2_healthy_conc'] = df['protein2_healthy_molar_conc'] * protein_2_mw\n",
        "df['protein2_patient_conc'] = df['protein2_patient_molar_conc'] * protein_2_mw\n",
        "\n",
        "names = ['protein1_healthy_conc', 'protein1_patient_conc', 'protein2_healthy_conc', 'protein2_patient_conc']\n",
        "display(df[names])"
      ],
      "id": "f7af4ec0"
    },
    {
      "cell_type": "markdown",
      "metadata": {},
      "source": [
        "#### (d) Mean concentration\n",
        "\n",
        "Now that we have the concentrations, calculate the concentration in the\n",
        "four categories.\n",
        "\n",
        "> **Tip**\n",
        ">\n",
        "> When displaying the dataframe above we used indexed it with `names` as\n",
        "> `df[names]`. We can do the same to compute something over just the\n",
        "> four rows.\n",
        ">\n",
        "> For example the if we have a `DataFrame` called `example_df`, we can\n",
        "> calculate the mean over the **rows** as:\n",
        ">\n",
        "> ``` python\n",
        "> df[names].mean(axis=0)\n",
        "> ```\n",
        ">\n",
        "> Here `axis=0` means that we apply the operation over the first axis\n",
        "> which by convention are the rows."
      ],
      "id": "ea91b8ec-6360-4264-b020-7b0068beaf9f"
    },
    {
      "cell_type": "code",
      "execution_count": 29,
      "metadata": {
        "solution": true
      },
      "outputs": [
        {
          "output_type": "display_data",
          "metadata": {},
          "data": {
            "text/plain": [
              "protein1_healthy_conc    0.677316\n",
              "protein1_patient_conc    0.104155\n",
              "protein2_healthy_conc    0.242293\n",
              "protein2_patient_conc    0.256983\n",
              "dtype: float64"
            ]
          }
        }
      ],
      "source": [
        "mean = df[names].mean(axis=0)\n",
        "display(mean)"
      ],
      "id": "de553f69"
    },
    {
      "cell_type": "markdown",
      "metadata": {},
      "source": [
        "#### (e) Standard deviation\n",
        "\n",
        "Calculate the standard deviation\n",
        "\n",
        "> **Tip**\n",
        ">\n",
        "> The standard deviation can be calculated using the `.std`-method that\n",
        "> works in the same way as the `.mean`-method we used above."
      ],
      "id": "b202b956-43cc-4e01-88b2-505234b65d3a"
    },
    {
      "cell_type": "code",
      "execution_count": 31,
      "metadata": {
        "solution": true
      },
      "outputs": [
        {
          "output_type": "display_data",
          "metadata": {},
          "data": {
            "text/plain": [
              "protein1_healthy_conc    0.107141\n",
              "protein1_patient_conc    0.005458\n",
              "protein2_healthy_conc    0.040127\n",
              "protein2_patient_conc    0.052373\n",
              "dtype: float64"
            ]
          }
        }
      ],
      "source": [
        "std = df[names].std(axis=0)\n",
        "display(std)"
      ],
      "id": "b84a2cfe"
    },
    {
      "cell_type": "markdown",
      "metadata": {},
      "source": [
        "#### (f) Analyze the results\n",
        "\n",
        "Consider the following questions\n",
        "\n",
        "-   By comparing healthy individuals with patients, would you expect\n",
        "    that any of the two proteins would be involved in disease\n",
        "    development?\n",
        "-   What additional information does the standard deviation provide\n",
        "    besides the average value of the protein concentration?\n",
        "\n",
        "------------------------------------------------------------------------\n",
        "\n",
        "## Dialysis experiment\n",
        "\n",
        "A dialysis experiment was set up where equal amounts of a protein were\n",
        "separately dialyzing against buffers containing different concentrations\n",
        "of a ligand – each measurement was done in triplicate. The average\n",
        "number of ligands bound per protein molecule, $\\bar{n}$ were obtained\n",
        "from these experiments. The corresponding concentrations of free ligand\n",
        "and values are given in dataset `dialysis_experiment.xlsx`.\n",
        "\n",
        "#### (a) Load the dataset"
      ],
      "id": "7d476acf-9be2-41b5-8cf6-b8d82f3b1660"
    },
    {
      "cell_type": "code",
      "execution_count": 32,
      "metadata": {},
      "outputs": [],
      "source": [
        "from fysisk_biokemi.widgets import DataUploader\n",
        "from IPython.display import display \n",
        "uploader = DataUploader()\n",
        "uploader.display()"
      ],
      "id": "d8149916"
    },
    {
      "cell_type": "markdown",
      "metadata": {},
      "source": [
        "Run the next cell **after** uploading the file"
      ],
      "id": "4105e19a-66bc-4a76-a8dd-7ae63d9f95f6"
    },
    {
      "cell_type": "code",
      "execution_count": 33,
      "metadata": {},
      "outputs": [],
      "source": [
        "df = uploader.get_dataframe()\n",
        "display(df)"
      ],
      "id": "ad821ffa"
    },
    {
      "cell_type": "code",
      "execution_count": 34,
      "metadata": {
        "solution": true
      },
      "outputs": [
        {
          "output_type": "display_data",
          "metadata": {},
          "data": {
            "text/html": [
              "\n",
              "</div>"
            ]
          }
        }
      ],
      "source": [
        "from IPython.display import display \n",
        "from fysisk_biokemi.datasets import load_dataset\n",
        "df = load_dataset('dialysis_experiment') # Load from package for the solution so it doesn't require to interact.\n",
        "display(df)"
      ],
      "id": "467b7a47"
    },
    {
      "cell_type": "markdown",
      "metadata": {},
      "source": [
        "#### (b) Explain calculation of $\\bar{n}$\n",
        "\n",
        "Explain how the values of $\\bar{n}$ is calculated when knowing the\n",
        "concentrations of ligand inside and outside the dialysis bag, as well as\n",
        "the total concentration of the protein, \\[$\\text{P}_{\\text{tot}}$\\].\n",
        "\n",
        "#### (c) Molar concentrations\n",
        "\n",
        "Convert the concentrations of free ligand to SI-units given in M, add it\n",
        "as a row to the `DataFrame`."
      ],
      "id": "e3795b6a-cd4a-42c0-aa42-c1252f8fc1a0"
    },
    {
      "cell_type": "code",
      "execution_count": 35,
      "metadata": {
        "solution": true
      },
      "outputs": [
        {
          "output_type": "display_data",
          "metadata": {},
          "data": {
            "text/html": [
              "\n",
              "</div>"
            ]
          }
        }
      ],
      "source": [
        "df['Free Ligand [L](M)'] = df['Free ligand [L](µM)'] * 10**(-6)\n",
        "display(df)"
      ],
      "id": "100aa273"
    },
    {
      "cell_type": "markdown",
      "metadata": {},
      "source": [
        "#### (c) Plot the data"
      ],
      "id": "1f2894d7-5186-4b91-ac93-eb972755375b"
    },
    {
      "cell_type": "code",
      "execution_count": 37,
      "metadata": {
        "solution": true
      },
      "outputs": [
        {
          "output_type": "display_data",
          "metadata": {},
          "data": {
            "image/png": "[encoded data removed]"
          }
        }
      ],
      "source": [
        "import matplotlib.pyplot as plt\n",
        "\n",
        "fig, ax = plt.subplots()\n",
        "ax.plot(df['Free Ligand [L](M)'], df['n-bar'], 'o')\n",
        "ax.set_xlabel('Free ligand [L] (M)', fontsize=16)\n",
        "ax.set_ylabel(r'$\\bar{n}$', fontsize=16)\n",
        "plt.show()"
      ],
      "id": "421a863a"
    },
    {
      "cell_type": "markdown",
      "metadata": {},
      "source": [
        "#### (d) Prepare for fitting\n",
        "\n",
        "Now we want to fit the data to extract $K_D$ and $\\nu_{\\text{max}}$, by\n",
        "using the equation\n",
        "\n",
        "$$\n",
        "\\nu([L_{\\text{free}}]) = \\nu_{\\text{max}} \\frac{[L_{\\text{free}}]}{K_D + [L_{\\text{free}}]}\n",
        "$$\n",
        "\n",
        "To do so we need to implmenet it as a Python function"
      ],
      "id": "8feebc97-2cb6-4bfd-81b3-0bea2947455e"
    },
    {
      "cell_type": "code",
      "execution_count": 39,
      "metadata": {
        "solution": true
      },
      "outputs": [
        {
          "output_type": "stream",
          "name": "stdout",
          "text": [
            "nu(1, 1, 1) = 0.5\n",
            "nu(21, 47, 2.5) = 42.0"
          ]
        }
      ],
      "source": [
        "def nu(L, nu_max, K_D):\n",
        "    return nu_max * L / (K_D + L)\n",
        "\n",
        "print(f\"{nu(1, 1, 1) = }\") # Should give 1/2\n",
        "print(f\"{nu(21, 47, 2.5) = }\") # Should give 42"
      ],
      "id": "1ad61fef"
    },
    {
      "cell_type": "markdown",
      "metadata": {},
      "source": [
        "#### (e) Actually fitting\n",
        "\n",
        "> **Important**\n",
        ">\n",
        "> Fitting refers to finding the parameters that make an assumed\n",
        "> functional form best ‘fit’ the data. Programmatically we will use the\n",
        "> `curve_fit` from the `scipy` package to do so. The signature of this\n",
        "> function looks like this\n",
        ">\n",
        "> ``` python\n",
        "> curve_fit(function, \n",
        ">             x_data, \n",
        ">             y_data, \n",
        ">             p0=[param_1, param_2, ...])\n",
        "> ```\n",
        ">\n",
        "> The arguments are\n",
        ">\n",
        "> -   `function`: A python function where the **first** argument is the\n",
        ">     independent variable, and other arguments are the parameters of\n",
        ">     the functions.\n",
        "> -   `x_data`: The observed values of the independent variable.\n",
        "> -   `y_data`: The observed values of the dependent variable.\n",
        "> -   `p0`: Initial guesses for the parameters.\n",
        ">\n",
        "> When called `curve_fit` starts by calculating how well the functions\n",
        "> fits the data with the initial parameters in `p0` and then iteratively\n",
        "> improves the fit by trying new values for the parameters in an\n",
        "> intelligent way.\n",
        ">\n",
        "> The found parameters will generally depend on `p0` and it is therefore\n",
        "> necessary to provide a good (or good enough) guess for `p0`.\n",
        "\n",
        "Finish the code to perform the fitting in the cell below."
      ],
      "id": "7cec426f-5b35-412b-b189-cd916cc7d29f"
    },
    {
      "cell_type": "code",
      "execution_count": 41,
      "metadata": {
        "solution": true
      },
      "outputs": [
        {
          "output_type": "stream",
          "name": "stdout",
          "text": [
            "nu_max_fit = 2.009 \n",
            "K_D_fit = 3.395997e-06"
          ]
        }
      ],
      "source": [
        "from scipy.optimize import curve_fit\n",
        "\n",
        "# Choose the variables from the dataframe\n",
        "x = df['Free Ligand [L](M)']\n",
        "y = df['n-bar']\n",
        "\n",
        "# Initial guess\n",
        "K_D_guess = 10**(-5)\n",
        "nu_max_guess = 1\n",
        "p0 = [K_D_guess, nu_max_guess]\n",
        "\n",
        "# Curve fit\n",
        "popt, pcov = curve_fit(nu, x, y, p0=p0)\n",
        "nu_max_fit, K_D_fit = popt\n",
        "print(f\"{nu_max_fit = :1.3f} \")\n",
        "print(f\"{K_D_fit = :e}\")"
      ],
      "id": "17cea441"
    },
    {
      "cell_type": "markdown",
      "metadata": {},
      "source": [
        "Are the parameters you find reasonable? How can you tell if they are\n",
        "reasonable by looking at the plot you made earlier?\n",
        "\n",
        "#### (f) Plot with fit\n",
        "\n",
        "When we have the fitted parameters we can calculate and plot the\n",
        "function. To do so we make an array of values for the independent\n",
        "variable and use our function to calculate the dependent variable"
      ],
      "id": "5dda1ae3-18a1-4713-8ffc-fdffa6851a48"
    },
    {
      "cell_type": "code",
      "execution_count": 43,
      "metadata": {
        "solution": true
      },
      "outputs": [],
      "source": [
        "# This makes 50 equally spaced points between 0 and the highest concentration x 1.2\n",
        "L = np.linspace(0, x.max()*1.2, 50) \n",
        "\n",
        "# Calculate: \n",
        "nu_calc = nu(L, nu_max_fit, K_D_fit)"
      ],
      "id": "245804ed"
    },
    {
      "cell_type": "markdown",
      "metadata": {},
      "source": [
        "Now that we calculated the dependent variable we can plot the fit along\n",
        "with the data."
      ],
      "id": "f28de3dc-3741-4e3b-b592-f74853ff8818"
    },
    {
      "cell_type": "code",
      "execution_count": 44,
      "metadata": {
        "solution": true
      },
      "outputs": [
        {
          "output_type": "display_data",
          "metadata": {},
          "data": {
            "image/png": "[encoded data removed]"
          }
        }
      ],
      "source": [
        "import matplotlib.pyplot as plt\n",
        "\n",
        "fig, ax = plt.subplots()\n",
        "\n",
        "# Plot the fitted curve\n",
        "ax.plot(L, nu_calc, label='Fit')\n",
        "\n",
        "# Straight lines indicating the parameters \n",
        "ax.axhline(nu_max_fit, color='red', label=r'$\\nu_{max}$')\n",
        "ax.axvline(K_D_fit, color='green', label=r'$K_D$')\n",
        "\n",
        "# Same as before\n",
        "ax.plot(df['Free Ligand [L](M)'], df['n-bar'], 'o', color='C0')\n",
        "ax.set_xlabel('Free ligand [L] (M)', fontsize=16)\n",
        "ax.set_ylabel(r'$\\bar{n}$', fontsize=16)\n",
        "ax.legend(fontsize=16)\n",
        "plt.show()"
      ],
      "id": "007b524b"
    }
  ],
  "nbformat": 4,
  "nbformat_minor": 5,
  "metadata": {
    "kernelspec": {
      "name": "python3",
      "display_name": "Python 3 (ipykernel)",
      "language": "python",
      "path": "/home/runner/work/fysisk-biokemi/fysisk-biokemi/.venv/share/jupyter/kernels/python3"
    },
    "language_info": {
      "name": "python",
      "codemirror_mode": {
        "name": "ipython",
        "version": "3"
      },
      "file_extension": ".py",
      "mimetype": "text/x-python",
      "nbconvert_exporter": "python",
      "pygments_lexer": "ipython3",
      "version": "3.11.13"
    }
  }
}