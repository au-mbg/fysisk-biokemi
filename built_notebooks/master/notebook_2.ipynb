{
  "cells": [
    {
      "cell_type": "markdown",
      "metadata": {},
      "source": [
        "# Funktioner og arrays"
      ],
      "id": "0a066204-0d25-4f46-bd26-0ba1d6cdba72"
    },
    {
      "cell_type": "code",
      "execution_count": 1,
      "metadata": {},
      "outputs": [],
      "source": [
        "try:\n",
        "    import fysisk_biokemi\n",
        "    print(\"Already installed\")\n",
        "except ImportError:\n",
        "    %pip install -q \"fysisk_biokemi[colab] @ git+https://github.com/au-mbg/fysisk-biokemi.git\""
      ],
      "id": "ee0272f6"
    },
    {
      "cell_type": "code",
      "execution_count": 2,
      "metadata": {},
      "outputs": [],
      "source": [
        "import numpy as np"
      ],
      "id": "b6cc420c"
    },
    {
      "cell_type": "markdown",
      "metadata": {},
      "source": [
        "## Funktioner\n",
        "\n",
        "Forrige gang så vi på funktioner, vi vil fortsætte med det denne gang.\n",
        "Husk at en funktion er en opskrift der beskriver hvordan en beregning\n",
        "skal foretages som kan genbruges mange gange.\n",
        "\n",
        "En funktion defineres med `def` hvorefter dens navn bliver sat og i\n",
        "paranteserne sættes dens parametre (også kaldet argumenter)."
      ],
      "id": "a40d5f3d-ff64-4e12-95fc-90b9682bd970"
    },
    {
      "cell_type": "code",
      "execution_count": 3,
      "metadata": {},
      "outputs": [],
      "source": [
        "def min_funktion(a, b):\n",
        "    resultat = a * b \n",
        "    return resultat"
      ],
      "id": "a569960d"
    },
    {
      "cell_type": "markdown",
      "metadata": {},
      "source": [
        "Funktionen bliver først udført når den bliver kaldt, i dette tilfælde\n",
        "f.eks."
      ],
      "id": "e6f6ed62-76f8-439a-89a1-01b381dfeff1"
    },
    {
      "cell_type": "code",
      "execution_count": 4,
      "metadata": {},
      "outputs": [
        {
          "output_type": "stream",
          "name": "stdout",
          "text": [
            "42"
          ]
        }
      ],
      "source": [
        "mit_resultat = min_funktion(6, 7)\n",
        "print(mit_resultat)"
      ],
      "id": "817c6e67"
    },
    {
      "cell_type": "markdown",
      "metadata": {},
      "source": [
        "Hvor vi så har outputtet af funktionen i variablen `mit_resultat`.\n",
        "\n",
        "### Opgave 1\n",
        "\n",
        "Tablene nedenfor viser radius af forskellige celler typer\n",
        "\n",
        "| Celle type                  | Radius      |\n",
        "|-----------------------------|:------------|\n",
        "| Mycoplasma                  | ~0,2–0,3 µm |\n",
        "| Typisk bakterie             | ~1–2 µm     |\n",
        "| Gærcelle (S. cerevisiae)    | ~5–7 µm     |\n",
        "| Røde blodlegemer (menneske) | ~7–8 µm     |\n",
        "| Lymfocyt (hvidt blodlegeme) | ~8–10 µm    |\n",
        "| Typisk dyrecelle            | ~10–20 µm   |\n",
        "| Typisk plantecelle          | ~20–100 µm  |\n",
        "| Menneskelig ægcelle (oocyt) | ~120–140 µm |\n",
        "| Neuron (cellekrop)          | ~10–100 µm  |\n",
        "\n",
        "Celle størrelser\n",
        "\n",
        "Vi har tidligere beregnet volumen af cellerne ved at antage at de er\n",
        "kugleformede, hvorved at volumen er givet ved\n",
        "\n",
        "$$\n",
        "V(r) = \\frac{4}{3}\\pi r^3\n",
        "$$\n",
        "\n",
        "Skriv en funktion den tager radius `r` som argument og beregner\n",
        "volumen - husk at du kan bruge `np.pi` istedet for at skrive $\\pi$ ind\n",
        "selv!"
      ],
      "id": "80885ebb-3ca4-428f-a216-50139abf6c5a"
    },
    {
      "cell_type": "code",
      "execution_count": 6,
      "metadata": {
        "solution": true
      },
      "outputs": [],
      "source": [
        "def volumen(r):\n",
        "    return 4/3 * np.pi * r**3"
      ],
      "id": "e10c4fe7"
    },
    {
      "cell_type": "markdown",
      "metadata": {},
      "source": [
        "Kald funktionen med nogle af de forskellige radius fra tablen"
      ],
      "id": "048f98c9-c26e-4097-869a-43c45f46061a"
    },
    {
      "cell_type": "code",
      "execution_count": 8,
      "metadata": {
        "solution": true
      },
      "outputs": [
        {
          "output_type": "stream",
          "name": "stdout",
          "text": [
            "0.11309733552923253"
          ]
        }
      ],
      "source": [
        "mycoplasma_volume = volumen(0.3)\n",
        "print(mycoplasma_volume)"
      ],
      "id": "ebbfacdd"
    },
    {
      "cell_type": "markdown",
      "metadata": {},
      "source": [
        "## Arrays\n",
        "\n",
        "Vi har tidligere set nogle af forskellige datatyper i Python\n",
        "\n",
        "-   Integers (Heltal) `int`\n",
        "-   Floats (Kommatal) `float`\n",
        "-   Strings (Tekst) `str`\n",
        "\n",
        "Men der er mange andre typer der kan være hjælpesomme i forskellige\n",
        "sammenhæng. En sådan type er numpy arrays, et eksempel på et numpy array\n",
        "er vist nedenfor"
      ],
      "id": "2b82d0c0-0bfc-48a4-9c3a-9e00422dca28"
    },
    {
      "cell_type": "code",
      "execution_count": 9,
      "metadata": {},
      "outputs": [],
      "source": [
        "A = np.array([1.0, 2.5, 3.5])"
      ],
      "id": "ea267d67"
    },
    {
      "cell_type": "markdown",
      "metadata": {},
      "source": [
        "Noget af det smarte med arrays er at vi kan lave operationer på alt\n",
        "indeholdet på engang"
      ],
      "id": "2e4c28a7-0732-4340-ae94-64b0d01a7051"
    },
    {
      "cell_type": "code",
      "execution_count": 10,
      "metadata": {},
      "outputs": [
        {
          "output_type": "stream",
          "name": "stdout",
          "text": [
            "[2. 5. 7.]"
          ]
        }
      ],
      "source": [
        "B = 2 * A \n",
        "print(B)"
      ],
      "id": "9383e0a1"
    },
    {
      "cell_type": "markdown",
      "metadata": {},
      "source": [
        "### Opgave 2\n",
        "\n",
        "Lav et array der indeholder de angivne celle radii og brug din `volumen`\n",
        "funktion til at beregne volumen af alle celler på engang"
      ],
      "id": "d4689267-67f3-4cb5-92ef-5179c5456ad1"
    },
    {
      "cell_type": "code",
      "execution_count": 13,
      "metadata": {
        "solution": true
      },
      "outputs": [],
      "source": [
        "radii = np.array([0.2, 1, 6, 7.5, 9, 15, 60, 130, 50]) # Erstat ... med din kode"
      ],
      "id": "584f2022"
    },
    {
      "cell_type": "code",
      "execution_count": 14,
      "metadata": {
        "solution": true
      },
      "outputs": [
        {
          "output_type": "stream",
          "name": "stdout",
          "text": [
            "[3.35103216e-02 4.18879020e+00 9.04778684e+02 1.76714587e+03\n",
            " 3.05362806e+03 1.41371669e+04 9.04778684e+05 9.20277208e+06\n",
            " 5.23598776e+05]"
          ]
        }
      ],
      "source": [
        "celle_volumner = volumen(radii)\n",
        "print(celle_volumner)"
      ],
      "id": "ed730b17"
    },
    {
      "cell_type": "markdown",
      "metadata": {},
      "source": [
        "## Array operationer\n",
        "\n",
        "Der er mange andre operationer vi kan lave på arrays, som f.eks. at\n",
        "finde det største eller mindste tal\n",
        "\n",
        "Vi kan finde celle-typen med den største volumen som"
      ],
      "id": "dc540810-b5b6-4040-b1db-6324aab2c6a3"
    },
    {
      "cell_type": "code",
      "execution_count": 15,
      "metadata": {},
      "outputs": [
        {
          "output_type": "display_data",
          "metadata": {},
          "data": {
            "text/plain": [
              "np.float64(9202772.0799157)"
            ]
          }
        }
      ],
      "source": [
        "np.max(celle_volumner)"
      ],
      "id": "175ea7de"
    },
    {
      "cell_type": "markdown",
      "metadata": {},
      "source": [
        "Den tilsvarende funktioner for at finde det mindste tal hedder `np.min`.\n",
        "\n",
        "### Opgave 3\n",
        "\n",
        "Cellen nedenfor laver et array med 1000 tal"
      ],
      "id": "a87d46b3-877e-4b41-a47c-965003d858cb"
    },
    {
      "cell_type": "code",
      "execution_count": 16,
      "metadata": {},
      "outputs": [],
      "source": [
        "array_med_tal = np.random.rand(1000) * np.exp(3.737669)"
      ],
      "id": "b8cbc437"
    },
    {
      "cell_type": "markdown",
      "metadata": {},
      "source": [
        "Brug `np.max` til at finde det største tal i `array_med_tal`"
      ],
      "id": "aaaffc71-5cb4-4a05-bdfe-ccb6874c553b"
    },
    {
      "cell_type": "code",
      "execution_count": 18,
      "metadata": {
        "solution": true
      },
      "outputs": [
        {
          "output_type": "stream",
          "name": "stdout",
          "text": [
            "41.94606530408412"
          ]
        }
      ],
      "source": [
        "største_tal = np.max(array_med_tal)\n",
        "print(største_tal)"
      ],
      "id": "04c4092e"
    },
    {
      "cell_type": "markdown",
      "metadata": {},
      "source": [
        "## Array indeksering\n",
        "\n",
        "Nogle gange er vi intereserede i specifikke indgange i et array, så vi\n",
        "skal også kunne trække data ud af et array. Dette er “indexing”\n",
        "(indeksering), f.eks. hvis vi har et array"
      ],
      "id": "66e21cc4-840d-4f15-afb7-db5b2131f52d"
    },
    {
      "cell_type": "code",
      "execution_count": 19,
      "metadata": {},
      "outputs": [],
      "source": [
        "mit_array = np.array([0, 2, 4, 6, 8, 10, 12, 14, 16, 18, 20])"
      ],
      "id": "1b2a59ab"
    },
    {
      "cell_type": "markdown",
      "metadata": {},
      "source": [
        "Kan vi bruge trække det fjerde tal ud sådan"
      ],
      "id": "dfcc2e10-0ca3-43ba-8824-c7dd69bcd248"
    },
    {
      "cell_type": "code",
      "execution_count": 20,
      "metadata": {},
      "outputs": [],
      "source": [
        "fjerde_tal = mit_array[3] "
      ],
      "id": "0fdeaf78"
    },
    {
      "cell_type": "markdown",
      "metadata": {},
      "source": [
        "> **Vigtigt**\n",
        ">\n",
        "> I Python starter man med at tælle fra 0, så det fjerde tal findes på\n",
        "> plads 3.\n",
        "\n",
        "### Opgave 4\n",
        "\n",
        "Brug indexing til at regne summen af\n",
        "\n",
        "-   Det sidste tal (Plads 10)\n",
        "-   Det andet tal (Plads 1)\n",
        "-   Det fjerde tal (Plads ??)\n",
        "-   Det ottende tal (Plads ??)"
      ],
      "id": "268d7aa6-42ed-4725-8444-c21a9e30f576"
    },
    {
      "cell_type": "code",
      "execution_count": 21,
      "metadata": {
        "solution": true
      },
      "outputs": [
        {
          "output_type": "stream",
          "name": "stdout",
          "text": [
            "42"
          ]
        }
      ],
      "source": [
        "sum_af_tal = mit_array[10] + mit_array[1] + mit_array[3] + mit_array[7]\n",
        "print(sum_af_tal)"
      ],
      "id": "78e89b76"
    },
    {
      "cell_type": "markdown",
      "metadata": {},
      "source": [
        "### Opgave 5\n",
        "\n",
        "I molekylær biologi arbejder vi ofte med spektra, hvor akserne f.eks. er\n",
        "\n",
        "-   $x$: Bølgelængde målt i nm\n",
        "-   $y$: Absorptions koefficient"
      ],
      "id": "a2fe8332-c6b8-49b4-a996-0b393a8251d6"
    },
    {
      "cell_type": "code",
      "execution_count": 23,
      "metadata": {},
      "outputs": [
        {
          "output_type": "stream",
          "name": "stdout",
          "text": [
            "     Wavelength(nm)  AdsorptionCoefficient\n",
            "0               300              20487.000\n",
            "1               301              20547.000\n",
            "2               302              20642.000\n",
            "3               303              20767.000\n",
            "4               304              20899.000\n",
            "..              ...                    ...\n",
            "496             796                 26.665\n",
            "497             797                 15.556\n",
            "498             798                 29.164\n",
            "499             799                 21.473\n",
            "500             800                 18.396\n",
            "\n",
            "[501 rows x 2 columns]"
          ]
        }
      ],
      "source": [
        "from fysisk_biokemi import load_dataset\n",
        "\n",
        "df = load_dataset(\"chlorophyll\")\n",
        "print(df)\n",
        "\n",
        "bølgelængder = df['Wavelength(nm)'] # Et array med 501 indgange\n",
        "adsorption = df['AdsorptionCoefficient'] # Et array med 501 indgange"
      ],
      "id": "d45ef6ec"
    },
    {
      "cell_type": "code",
      "execution_count": 24,
      "metadata": {},
      "outputs": [
        {
          "output_type": "display_data",
          "metadata": {},
          "data": {
            "text/plain": [
              "Text(0, 0.5, 'Adsorption Coefficient')"
            ]
          }
        },
        {
          "output_type": "display_data",
          "metadata": {},
          "data": {
            "image/png": "[encoded data removed]"
          }
        }
      ],
      "source": [
        "import matplotlib.pyplot as plt \n",
        "fig, ax = plt.subplots()\n",
        "ax.plot(bølgelængder, adsorption)\n",
        "ax.set_xlabel('Wavelength [nm]')\n",
        "ax.set_ylabel('Adsorption Coefficient')"
      ],
      "id": "536be4f2"
    },
    {
      "cell_type": "markdown",
      "metadata": {},
      "source": [
        "Vi vil gerne bruge NumPy til at finde hvad den maksimale adsorptions\n",
        "koefficient er, og ved hvilken bølgelængde det forekommer.\n",
        "\n",
        "Start med at finde den maksimale adsorptions koefficient ved brug af\n",
        "`np.max`"
      ],
      "id": "1b246ebd-4d1d-41b1-b9d6-093ba0d6197b"
    },
    {
      "cell_type": "code",
      "execution_count": 25,
      "metadata": {
        "solution": true
      },
      "outputs": [
        {
          "output_type": "stream",
          "name": "stdout",
          "text": [
            "111700.0"
          ]
        }
      ],
      "source": [
        "max_adsorption = np.max(adsorption)\n",
        "print(max_adsorption)"
      ],
      "id": "12e7cd09"
    },
    {
      "cell_type": "markdown",
      "metadata": {},
      "source": [
        "Vi kan bruge en anden funktion fra NumPy til at finde den bølgelængde\n",
        "hvor adsorptions koefficienter har sit maxima"
      ],
      "id": "8d3ef52d-eafc-49a5-8e1d-492f8f272562"
    },
    {
      "cell_type": "code",
      "execution_count": 27,
      "metadata": {},
      "outputs": [],
      "source": [
        "index_max_ads = np.argmax(adsorption)"
      ],
      "id": "6cc25bc8"
    },
    {
      "cell_type": "markdown",
      "metadata": {},
      "source": [
        "> **Note**\n",
        ">\n",
        "> `np.argmax` finder indekset af det **arg**ument som indeholder **max**\n",
        "> værdien.\n",
        "\n",
        "Brug nu `index_max_ads` til at trække den pågældende bølgelængde ud af\n",
        "`bølgelængder`"
      ],
      "id": "c72a1d3d-6222-4651-9465-009f411f1289"
    },
    {
      "cell_type": "code",
      "execution_count": 29,
      "metadata": {
        "solution": true
      },
      "outputs": [],
      "source": [
        "bølgelængde_max_ads = bølgelængder[index_max_ads]"
      ],
      "id": "9795d1cc"
    },
    {
      "cell_type": "code",
      "execution_count": 31,
      "metadata": {
        "solution": true
      },
      "outputs": [
        {
          "output_type": "display_data",
          "metadata": {},
          "data": {
            "text/plain": [
              "Text(0, 0.5, 'Adsorption Coefficient')"
            ]
          }
        },
        {
          "output_type": "display_data",
          "metadata": {},
          "data": {
            "image/png": "[encoded data removed]"
          }
        }
      ],
      "source": [
        "import matplotlib.pyplot as plt \n",
        "fig, ax = plt.subplots()\n",
        "ax.plot(bølgelængder, adsorption)\n",
        "ax.axvline(bølgelængde_max_ads, color='red')\n",
        "ax.set_xlabel('Wavelength [nm]')\n",
        "ax.set_ylabel('Adsorption Coefficient')"
      ],
      "id": "813395c0"
    }
  ],
  "nbformat": 4,
  "nbformat_minor": 5,
  "metadata": {
    "kernelspec": {
      "name": "python3",
      "display_name": "Python 3 (ipykernel)",
      "language": "python",
      "path": "/home/runner/work/fysisk-biokemi/fysisk-biokemi/.venv/share/jupyter/kernels/python3"
    },
    "language_info": {
      "name": "python",
      "codemirror_mode": {
        "name": "ipython",
        "version": "3"
      },
      "file_extension": ".py",
      "mimetype": "text/x-python",
      "nbconvert_exporter": "python",
      "pygments_lexer": "ipython3",
      "version": "3.11.13"
    }
  }
}