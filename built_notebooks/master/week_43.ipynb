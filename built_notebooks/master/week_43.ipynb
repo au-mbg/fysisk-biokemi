{
  "cells": [
    {
      "cell_type": "markdown",
      "metadata": {},
      "source": [
        "# Week 43"
      ],
      "id": "89e4a7a9-61b1-4c45-8ba8-472e4402867c"
    },
    {
      "cell_type": "code",
      "execution_count": 1,
      "metadata": {},
      "outputs": [],
      "source": [
        "try:\n",
        "    import fysisk_biokemi\n",
        "    print(\"Already installed\")\n",
        "except ImportError:\n",
        "    %pip install -q \"fysisk_biokemi[colab] @ git+https://github.com/au-mbg/fysisk-biokemi.git\""
      ],
      "id": "6dd5647e"
    },
    {
      "cell_type": "code",
      "execution_count": 2,
      "metadata": {},
      "outputs": [],
      "source": [
        "try: # For bedre brug af widgets i Google Colab.\n",
        "    from google.colab import output\n",
        "    output.enable_custom_widget_manager()\n",
        "except ImportError:\n",
        "    pass\n",
        "import fysisk_biokemi.widgets as fsb_widgets"
      ],
      "id": "f27b383c"
    },
    {
      "cell_type": "markdown",
      "metadata": {},
      "source": [
        "## Koncentrations enheder\n",
        "\n",
        "Widgetten nedenfor kan konvertere mellem enheder med forskellige prefix,\n",
        "som værdien af er givet i tabellen\n",
        "\n",
        "| Enhed | Navn  | Faktor     |\n",
        "|-------|-------|------------|\n",
        "| M     |       | 1          |\n",
        "| mM    | Milli | $10^{-3}$  |\n",
        "| µM    | Micro | $10^{-6}$  |\n",
        "| nM    | Nano  | $10^{-9}$  |\n",
        "| pM    | Pico  | $10^{-12}$ |\n",
        "| fM    | Femto | $10^{-15}$ |\n",
        "\n",
        "Metric prefixes commonly used for molar concentrations"
      ],
      "id": "b03237dd-3809-40fb-9f28-d8eeb8d48232"
    },
    {
      "cell_type": "code",
      "execution_count": 3,
      "metadata": {},
      "outputs": [],
      "source": [
        "fsb_widgets.concentration_unit()"
      ],
      "id": "f52d3215"
    },
    {
      "cell_type": "markdown",
      "metadata": {},
      "source": [
        "## Koncentration fra masse og volumen\n",
        "\n",
        "Ofte er det nødvendigt at regne koncentrationen baseret på massen af\n",
        "stoffet og volumen af opløsningen, f.eks. hvis vi forbedrer et\n",
        "eksperiment vil vi tit starte fra den vinkel.\n",
        "\n",
        "For at regne molar koncentrationen skal vi så regne\n",
        "\n",
        "$$\n",
        "c = \\frac{m}{M_W \\cdot V} \\xrightarrow[]{\\text{Enheder}} \\frac{\\text{g}}{\\frac{\\text{g}}{\\text{mol}} \\cdot \\text{L}} = \\frac{\\text{g}\\cdot \\text{mol}}{\\text{g}\\cdot L} = \\frac{\\text{mol}}{\\text{L}}\n",
        "$$ Hvor $m$ er massen i **gram**, $M_W$ er molekyle vægten i\n",
        "$\\frac{g}{mol}$ og V er volumen i liter Her er det vigtigt at\n",
        "konveretere til de rigtige enheder, altså ikke f.eks. at bruge $m$ i at\n",
        "$\\text{mg}$. Widgtten nedenfor tager en masse, et volumen og en\n",
        "molekylærvægt og konveretere til molar koncentration, du kan vælge hvad\n",
        "enheden af masse og volumen er."
      ],
      "id": "c6d55d65-a34c-490a-81e4-0884d04df9b4"
    },
    {
      "cell_type": "code",
      "execution_count": 4,
      "metadata": {},
      "outputs": [],
      "source": [
        "fsb_widgets.concentration_mass_volume()"
      ],
      "id": "d6d259e8"
    },
    {
      "cell_type": "markdown",
      "metadata": {},
      "source": [
        "## Molekylærvægt\n",
        "\n",
        "Molekylærvægten er en sum af atomarvægte\n",
        "\n",
        "$$\n",
        "M_W = \\sum_i^Z n_i m_Z\n",
        "$$ Hvor $n_i$ er antaller af atomer af type $i$ og $m_Z$ er vægten pr.\n",
        "mol af det atom. Widgetten nedenfor kan regne molekylærvægten af stoffer\n",
        "med de første 83 elementer fra den periodiske table."
      ],
      "id": "5e02266d-7214-4711-a4ac-2f27ce1789f6"
    },
    {
      "cell_type": "code",
      "execution_count": 5,
      "metadata": {},
      "outputs": [],
      "source": [
        "fsb_widgets.molecular_weight()"
      ],
      "id": "fe7a9710"
    },
    {
      "cell_type": "markdown",
      "metadata": {},
      "source": [
        "## Ligevægts reaktions\n",
        "\n",
        "Denne widget kan regne ligevægts koefficient af reaktioner, f.eks.\n",
        "\n",
        "$$\n",
        "aA + bB ... = xX + yY ... \n",
        "$$ Hvor ligevægtskoefficienten er givet ved\n",
        "\n",
        "$$\n",
        "K_{eq} = \\frac{[X]^x \\times [Y]^y \\times ...}{[A]^a \\times [B]^b \\times ...}\n",
        "$$\n",
        "\n",
        "Her er det igen vigtigt at koncentrationerne er givet i $mol/L$ for at\n",
        "der regnes rigtigt, men heldigvis kan widgetten konvertere dem for dig.\n",
        "\n",
        "For at bruge widgetten skal du skrive en reaktions ligningen på formen\n",
        "\n",
        "    a A + b B = c C \n",
        "\n",
        "Hvor der er mellemrum mellem ordren og stoffet, du kan så angive\n",
        "koncentrationen og ligevægtskoefficienten bliver regnet."
      ],
      "id": "9400aa84-1ebb-4568-8a27-9ba269cc4f5b"
    },
    {
      "cell_type": "code",
      "execution_count": 6,
      "metadata": {},
      "outputs": [],
      "source": [
        "fsb_widgets.reaction_equation()"
      ],
      "id": "4de2504d"
    },
    {
      "cell_type": "markdown",
      "metadata": {},
      "source": [
        "## Reaktions data analyse\n",
        "\n",
        "Denne widget kan læse en `.csv`-fil hvilket er en **c**omma\n",
        "**s**eperated **v**alues, det vil sige at forskellige data er splittet\n",
        "om i kolonner, se f.eks. eksemplet her\n",
        "\n",
        "``` {csv}\n",
        "time (s),A (mM),B (µM),X (nM),Y (µM)\n",
        "0,1.00,500.0,100.0,50.0\n",
        "10,0.95,480.0,150.0,70.0\n",
        "20,0.92,460.0,200.0,90.0\n",
        "30,0.90,445.0,240.0,110.0\n",
        "40,0.88,430.0,270.0,130.0\n",
        "50,0.87,420.0,300.0,150.0\n",
        "60,0.86,410.0,330.0,170.0\n",
        "70,0.85,400.0,360.0,190.0\n",
        "80,0.84,390.0,390.0,210.0\n",
        "90,0.83,380.0,420.0,230.0\n",
        "100,0.82,370.0,450.0,250.0\n",
        "```\n",
        "\n",
        "Her er der 5 søjler, som beskriver 5 forskellige størrelser.\n",
        "\n",
        "At bruge widgten kræver fire trin\n",
        "\n",
        "-   Kilk på “Upload CSV” og vælg en fil.\n",
        "-   Sikre at reaktionsligning er den du er interesseret i.\n",
        "-   Sikre at hvert led af reaktionsligningen er tilknyttet den rigtige\n",
        "    kolonne i datasættet og enheden er korrekt.\n",
        "-   Klik “Beregn og plot” for at beregne ligevægtskoefficienten."
      ],
      "id": "08534a5a-4de3-45c4-9407-3825e2e927c0"
    },
    {
      "cell_type": "code",
      "execution_count": 7,
      "metadata": {},
      "outputs": [],
      "source": [
        "fsb_widgets.reaction_data_analysis()"
      ],
      "id": "685422e3"
    },
    {
      "cell_type": "markdown",
      "metadata": {},
      "source": [
        "### Bufferligningen\n",
        "\n",
        "Denne widget beregener koncentrationen af syre og base givet $pH$, $pKa$\n",
        "samt total koncentrationen."
      ],
      "id": "6b3a8f6f-a0cc-4386-81f5-e006917212ec"
    },
    {
      "cell_type": "code",
      "execution_count": 8,
      "metadata": {},
      "outputs": [],
      "source": [
        "fsb_widgets.buffer_equation()"
      ],
      "id": "360abd4b"
    },
    {
      "cell_type": "markdown",
      "metadata": {},
      "source": [
        "### Bufferligning visualisering\n",
        "\n",
        "Denne widget visualisere bufferligningen (Henderson–Hasselbalch). Du kan\n",
        "styre $pKa$, total koncentratioenn og området for $pH$. Plottet viser\n",
        "koncentrationen af syre og base som funktionen af pH."
      ],
      "id": "3ffa36f7-1911-4511-ac0f-f3485582f2fc"
    },
    {
      "cell_type": "code",
      "execution_count": 9,
      "metadata": {},
      "outputs": [],
      "source": [
        "fsb_widgets.buffer_visualization()"
      ],
      "id": "5a04605e"
    }
  ],
  "nbformat": 4,
  "nbformat_minor": 5,
  "metadata": {
    "kernelspec": {
      "name": "python3",
      "display_name": "Python 3 (ipykernel)",
      "language": "python",
      "path": "/home/runner/work/fysisk-biokemi/fysisk-biokemi/.venv/share/jupyter/kernels/python3"
    },
    "language_info": {
      "name": "python",
      "codemirror_mode": {
        "name": "ipython",
        "version": "3"
      },
      "file_extension": ".py",
      "mimetype": "text/x-python",
      "nbconvert_exporter": "python",
      "pygments_lexer": "ipython3",
      "version": "3.11.13"
    }
  }
}