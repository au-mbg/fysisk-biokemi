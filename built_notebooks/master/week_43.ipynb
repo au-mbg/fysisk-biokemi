{
  "cells": [
    {
      "cell_type": "markdown",
      "metadata": {},
      "source": [
        "# Week 43"
      ],
      "id": "d5b5c972-6abf-4637-8e98-6ab454bc759c"
    },
    {
      "cell_type": "code",
      "execution_count": 1,
      "metadata": {},
      "outputs": [],
      "source": [
        "try:\n",
        "    import fysisk_biokemi\n",
        "    print(\"Already installed\")\n",
        "except ImportError:\n",
        "    %pip install \"fysisk_biokemi[colab] @ git+https://github.com/au-mbg/fysisk-biokemi.git\""
      ],
      "id": "960fb42a"
    },
    {
      "cell_type": "code",
      "execution_count": 2,
      "metadata": {},
      "outputs": [],
      "source": [
        "import fysisk_biokemi.widgets as fsb_widgets"
      ],
      "id": "65d9b2f0"
    },
    {
      "cell_type": "markdown",
      "metadata": {},
      "source": [
        "## Koncentrations enheder"
      ],
      "id": "00805228-af3e-4be3-a281-5b9d76f31c13"
    },
    {
      "cell_type": "code",
      "execution_count": 3,
      "metadata": {},
      "outputs": [],
      "source": [
        "fsb_widgets.concentration_unit()"
      ],
      "id": "3a74e199"
    },
    {
      "cell_type": "markdown",
      "metadata": {},
      "source": [
        "## Koncentration fra masse og volumen"
      ],
      "id": "2157b0e0-8d2c-44fd-a556-36175428f3c5"
    },
    {
      "cell_type": "code",
      "execution_count": 4,
      "metadata": {},
      "outputs": [],
      "source": [
        "fsb_widgets.concentration_mass_volume()"
      ],
      "id": "be5f8d99"
    },
    {
      "cell_type": "markdown",
      "metadata": {},
      "source": [
        "## Molekylær vægt"
      ],
      "id": "1eecd464-ec36-4b7b-9961-87cac6b35863"
    },
    {
      "cell_type": "code",
      "execution_count": 5,
      "metadata": {},
      "outputs": [],
      "source": [
        "fsb_widgets.molecular_weight()"
      ],
      "id": "9ac5b707"
    },
    {
      "cell_type": "markdown",
      "metadata": {},
      "source": [
        "## Ligevægts reaktions"
      ],
      "id": "8f981f9d-efe4-47bc-b8f2-e38d615bb66b"
    },
    {
      "cell_type": "code",
      "execution_count": 6,
      "metadata": {},
      "outputs": [],
      "source": [
        "fsb_widgets.reaction_equation()"
      ],
      "id": "279a33d1"
    },
    {
      "cell_type": "code",
      "execution_count": 7,
      "metadata": {},
      "outputs": [],
      "source": [
        "fsb_widgets.reaction_data_analysis()"
      ],
      "id": "b44046d2"
    }
  ],
  "nbformat": 4,
  "nbformat_minor": 5,
  "metadata": {
    "kernelspec": {
      "name": "python3",
      "display_name": "Python 3 (ipykernel)",
      "language": "python",
      "path": "/home/runner/work/fysisk-biokemi/fysisk-biokemi/.venv/share/jupyter/kernels/python3"
    },
    "language_info": {
      "name": "python",
      "codemirror_mode": {
        "name": "ipython",
        "version": "3"
      },
      "file_extension": ".py",
      "mimetype": "text/x-python",
      "nbconvert_exporter": "python",
      "pygments_lexer": "ipython3",
      "version": "3.11.13"
    }
  }
}