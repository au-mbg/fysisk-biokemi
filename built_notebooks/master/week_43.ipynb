{
  "cells": [
    {
      "cell_type": "markdown",
      "metadata": {},
      "source": [
        "# Week 43"
      ],
      "id": "fce03730-5996-441b-81ae-5d7f8b44ea7a"
    },
    {
      "cell_type": "code",
      "execution_count": 1,
      "metadata": {},
      "outputs": [],
      "source": [
        "try:\n",
        "    import fysisk_biokemi\n",
        "    print(\"Already installed\")\n",
        "except ImportError:\n",
        "    %pip install \"fysisk_biokemi[colab] @ git+https://github.com/au-mbg/fysisk-biokemi.git\""
      ],
      "id": "e4164079"
    },
    {
      "cell_type": "code",
      "execution_count": 2,
      "metadata": {},
      "outputs": [],
      "source": [
        "import fysisk_biokemi.widgets as fsb_widgets"
      ],
      "id": "2dad2deb"
    },
    {
      "cell_type": "markdown",
      "metadata": {},
      "source": [
        "## Koncentrations enheder"
      ],
      "id": "fafd099c-b1d0-4633-bb39-edad37f0f21f"
    },
    {
      "cell_type": "code",
      "execution_count": 3,
      "metadata": {},
      "outputs": [],
      "source": [
        "fsb_widgets.concentration_unit()"
      ],
      "id": "5a4e5093"
    },
    {
      "cell_type": "markdown",
      "metadata": {},
      "source": [
        "## Koncentration fra masse og volumen"
      ],
      "id": "85582b08-a6a1-4112-8f17-5fa9c89e7b52"
    },
    {
      "cell_type": "code",
      "execution_count": 4,
      "metadata": {},
      "outputs": [],
      "source": [
        "fsb_widgets.concentration_mass_volume()"
      ],
      "id": "f54eeabd"
    },
    {
      "cell_type": "markdown",
      "metadata": {},
      "source": [
        "## Molekylær vægt"
      ],
      "id": "8b6d8bb2-6981-4085-9179-5a7983861b44"
    },
    {
      "cell_type": "code",
      "execution_count": 5,
      "metadata": {},
      "outputs": [],
      "source": [
        "fsb_widgets.molecular_weight()"
      ],
      "id": "8ee79d6b"
    },
    {
      "cell_type": "markdown",
      "metadata": {},
      "source": [
        "## Ligevægts reaktions"
      ],
      "id": "0af57cb2-9c87-40b7-b2ca-3fe5bcee467c"
    },
    {
      "cell_type": "code",
      "execution_count": 6,
      "metadata": {},
      "outputs": [],
      "source": [
        "fsb_widgets.reaction_equation()"
      ],
      "id": "d3634ce9"
    }
  ],
  "nbformat": 4,
  "nbformat_minor": 5,
  "metadata": {
    "kernelspec": {
      "name": "python3",
      "display_name": "Python 3 (ipykernel)",
      "language": "python",
      "path": "/home/runner/work/fysisk-biokemi/fysisk-biokemi/.venv/share/jupyter/kernels/python3"
    },
    "language_info": {
      "name": "python",
      "codemirror_mode": {
        "name": "ipython",
        "version": "3"
      },
      "file_extension": ".py",
      "mimetype": "text/x-python",
      "nbconvert_exporter": "python",
      "pygments_lexer": "ipython3",
      "version": "3.11.13"
    }
  }
}