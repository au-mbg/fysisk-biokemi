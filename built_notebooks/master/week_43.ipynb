{
  "cells": [
    {
      "cell_type": "markdown",
      "metadata": {},
      "source": [
        "# Week 43"
      ],
      "id": "aa121802-6564-47b6-8e51-438faebe8e29"
    },
    {
      "cell_type": "code",
      "execution_count": 1,
      "metadata": {},
      "outputs": [],
      "source": [
        "try:\n",
        "    import fysisk_biokemi\n",
        "    print(\"Already installed\")\n",
        "except ImportError:\n",
        "    %pip install \"fysisk_biokemi[colab] @ git+https://github.com/au-mbg/fysisk-biokemi.git\""
      ],
      "id": "1f5cf1ce"
    },
    {
      "cell_type": "code",
      "execution_count": 2,
      "metadata": {},
      "outputs": [],
      "source": [
        "import fysisk_biokemi.widgets as fsb_widgets"
      ],
      "id": "e6694473"
    },
    {
      "cell_type": "markdown",
      "metadata": {},
      "source": [
        "## Koncentrations enheder"
      ],
      "id": "f1b29cdd-92ea-4d51-85c5-24568ea182a7"
    },
    {
      "cell_type": "code",
      "execution_count": 3,
      "metadata": {},
      "outputs": [],
      "source": [
        "fsb_widgets.concentration_unit()"
      ],
      "id": "94a6be0f"
    },
    {
      "cell_type": "markdown",
      "metadata": {},
      "source": [
        "## Koncentration fra masse og volumen"
      ],
      "id": "a94de3c1-e375-4ba3-92d8-c1eff1701909"
    },
    {
      "cell_type": "code",
      "execution_count": 4,
      "metadata": {},
      "outputs": [],
      "source": [
        "fsb_widgets.concentration_mass_volume()"
      ],
      "id": "e8d50d21"
    },
    {
      "cell_type": "markdown",
      "metadata": {},
      "source": [
        "## Molekylær vægt"
      ],
      "id": "5de27582-6138-4ea0-9e1d-4db60789f0cf"
    },
    {
      "cell_type": "code",
      "execution_count": 5,
      "metadata": {},
      "outputs": [],
      "source": [
        "fsb_widgets.molecular_weight()"
      ],
      "id": "45edc9ba"
    },
    {
      "cell_type": "markdown",
      "metadata": {},
      "source": [
        "## Ligevægts reaktions"
      ],
      "id": "b78275db-77f9-4227-9cd5-4ccfc27c0d45"
    },
    {
      "cell_type": "code",
      "execution_count": 6,
      "metadata": {},
      "outputs": [],
      "source": [
        "fsb_widgets.reaction_equation()"
      ],
      "id": "cbe063cb"
    },
    {
      "cell_type": "markdown",
      "metadata": {},
      "source": [
        "## Reaktions data analyse\n",
        "\n",
        "Denne widget kan læse en `.csv`-fil hvilket er en **c**omma\n",
        "**s**eperated **v**alues, det vil sige at forskellige data er splittet\n",
        "om i kolonner, se f.eks. eksemplet her\n",
        "\n",
        "``` {csv}\n",
        "time (s),A (mM),B (µM),X (nM),Y (µM)\n",
        "0,1.00,500.0,100.0,50.0\n",
        "10,0.95,480.0,150.0,70.0\n",
        "20,0.92,460.0,200.0,90.0\n",
        "30,0.90,445.0,240.0,110.0\n",
        "40,0.88,430.0,270.0,130.0\n",
        "50,0.87,420.0,300.0,150.0\n",
        "60,0.86,410.0,330.0,170.0\n",
        "70,0.85,400.0,360.0,190.0\n",
        "80,0.84,390.0,390.0,210.0\n",
        "90,0.83,380.0,420.0,230.0\n",
        "100,0.82,370.0,450.0,250.0\n",
        "```\n",
        "\n",
        "Her er der 5 søjler, som beskriver 5 forskellige størrelser.\n",
        "\n",
        "At bruge widgten kræver fire trin\n",
        "\n",
        "-   Kilk på “Upload CSV” og vælg en fil.\n",
        "-   Sikre at reaktions ligning er den du er interesseret i.\n",
        "-   Sikre at hvert led af reaktionsligningen er tilknyttet den rigtige\n",
        "    kolonne i datasættet og enheden er korrekt.\n",
        "-   Klik “Beregn og plot” for at beregne ligevægtskonstanten."
      ],
      "id": "06f6f5b0-fd4d-4c9f-9a33-568fedd5bd30"
    },
    {
      "cell_type": "code",
      "execution_count": 7,
      "metadata": {},
      "outputs": [],
      "source": [
        "fsb_widgets.reaction_data_analysis()"
      ],
      "id": "a1753ad5"
    }
  ],
  "nbformat": 4,
  "nbformat_minor": 5,
  "metadata": {
    "kernelspec": {
      "name": "python3",
      "display_name": "Python 3 (ipykernel)",
      "language": "python",
      "path": "/home/runner/work/fysisk-biokemi/fysisk-biokemi/.venv/share/jupyter/kernels/python3"
    },
    "language_info": {
      "name": "python",
      "codemirror_mode": {
        "name": "ipython",
        "version": "3"
      },
      "file_extension": ".py",
      "mimetype": "text/x-python",
      "nbconvert_exporter": "python",
      "pygments_lexer": "ipython3",
      "version": "3.11.13"
    }
  }
}