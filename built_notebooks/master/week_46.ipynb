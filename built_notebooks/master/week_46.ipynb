{
  "cells": [
    {
      "cell_type": "markdown",
      "metadata": {},
      "source": [
        "# Week 46"
      ],
      "id": "63c5f9dd-b82a-46cc-ba96-9877d114f5a0"
    },
    {
      "cell_type": "code",
      "execution_count": 1,
      "metadata": {},
      "outputs": [],
      "source": [
        "try:\n",
        "    import fysisk_biokemi\n",
        "    print(\"Already installed\")\n",
        "except ImportError:\n",
        "    %pip install -q \"fysisk_biokemi[colab] @ git+https://github.com/au-mbg/fysisk-biokemi.git\""
      ],
      "id": "121ca8bd"
    },
    {
      "cell_type": "markdown",
      "metadata": {},
      "source": [
        "------------------------------------------------------------------------\n",
        "\n",
        "## Python: Introduction to curve fitting"
      ],
      "id": "2a2b1e1d-dfe2-4b29-aacf-f232c3648b1e"
    },
    {
      "cell_type": "code",
      "execution_count": 2,
      "metadata": {},
      "outputs": [],
      "source": [
        "import numpy as np\n",
        "import matplotlib.pyplot as plt\n",
        "from scipy.optimize import curve_fit"
      ],
      "id": "2f8f5f68"
    },
    {
      "cell_type": "markdown",
      "metadata": {},
      "source": [
        "Curve fitting is a fundamental skill in biochemistry and biophysics for\n",
        "analyzing experimental data. We use curve fitting to determine\n",
        "parameters in mathematical models that describe biological processes\n",
        "like enzyme kinetics, binding affinity, and reaction rates.\n",
        "\n",
        "The basic idea is to find the parameters of a mathematical function that\n",
        "best describes our experimental data.\n",
        "\n",
        "#### (a) Understanding the problem\n",
        "\n",
        "Let’s start with some simple data that follows a linear relationship.\n",
        "The data below represents a theoretical experiment where we measure some\n",
        "output $y$ at different input values $x$:"
      ],
      "id": "593c8dd2-f915-4304-ab2a-f51abb00456a"
    },
    {
      "cell_type": "code",
      "execution_count": 3,
      "metadata": {},
      "outputs": [],
      "source": [
        "# Generate some data with noise\n",
        "x_data = np.array([1, 2, 3, 4, 5, 6, 7, 8, 9, 10])\n",
        "y_data = np.array([2.1, 4.2, 6.0, 7.8, 10.1, 12.2, 13.9, 16.1, 18.0, 20.2])"
      ],
      "id": "10eaa2e0"
    },
    {
      "cell_type": "code",
      "execution_count": 5,
      "metadata": {
        "solution": true
      },
      "outputs": [
        {
          "output_type": "display_data",
          "metadata": {},
          "data": {
            "text/plain": [
              "Text(0.5, 1.0, 'Experimental data points')"
            ]
          }
        },
        {
          "output_type": "display_data",
          "metadata": {},
          "data": {
            "image/png": "[encoded data removed]"
          }
        }
      ],
      "source": [
        "# Plot the data\n",
        "fig, ax = plt.subplots(figsize=(6, 4))\n",
        "ax.plot(x_data, y_data, 'o', markersize=8, label='Experimental data')\n",
        "ax.set_xlabel('x')\n",
        "ax.set_ylabel('y')\n",
        "ax.legend()\n",
        "ax.set_title('Experimental data points')"
      ],
      "id": "a20744ff"
    },
    {
      "cell_type": "markdown",
      "metadata": {},
      "source": [
        "Looking at this data, we can see it roughly follows a straight line.\n",
        "Let’s assume our model is:\n",
        "\n",
        "$$y = ax + b$$\n",
        "\n",
        "where $a$ and $b$ are parameters we want to determine from the data.\n",
        "\n",
        "#### (b) Defining a fitting function\n",
        "\n",
        "To use `scipy.optimize.curve_fit`, we need to define a function where:\n",
        "\n",
        "-   The **first** argument is the independent variable (x)  \n",
        "-   The remaining arguments are the parameters to be fitted\n",
        "\n",
        "Define a linear function for fitting:"
      ],
      "id": "1a0a82ba-363d-4d7b-8735-dbb240058a76"
    },
    {
      "cell_type": "code",
      "execution_count": 7,
      "metadata": {
        "solution": true
      },
      "outputs": [],
      "source": [
        "def linear_function(x, a, b):\n",
        "    return a * x + b"
      ],
      "id": "f9b3c5d8"
    },
    {
      "cell_type": "markdown",
      "metadata": {},
      "source": [
        "Always a good idea to check that your function works as expected"
      ],
      "id": "86d2f256-6eba-4ed5-87f2-66f4dda91936"
    },
    {
      "cell_type": "code",
      "execution_count": 8,
      "metadata": {},
      "outputs": [
        {
          "output_type": "display_data",
          "metadata": {},
          "data": {
            "text/plain": [
              "2"
            ]
          }
        }
      ],
      "source": [
        "linear_function(1, 2, 0) # Should give 2"
      ],
      "id": "27ce2e63"
    },
    {
      "cell_type": "markdown",
      "metadata": {},
      "source": [
        "Come up with another test case to check"
      ],
      "id": "39c61cc3-38ef-4b9c-bfce-b52c8a4f5362"
    },
    {
      "cell_type": "code",
      "execution_count": 10,
      "metadata": {
        "solution": true
      },
      "outputs": [
        {
          "output_type": "stream",
          "name": "stdout",
          "text": [
            "3\n",
            "5"
          ]
        }
      ],
      "source": [
        "print(linear_function(0, 2, 3)) # Should give 3 \n",
        "print(linear_function(1, 2, 3)) # Should give 5"
      ],
      "id": "35651c57"
    },
    {
      "cell_type": "markdown",
      "metadata": {},
      "source": [
        "#### (c) Your first curve fit\n",
        "\n",
        "Now we can use `curve_fit` to find the best parameters. The basic syntax\n",
        "is:\n",
        "\n",
        "``` python\n",
        "popt, pcov = curve_fit(function, x_data, y_data, p0=initial_guess)\n",
        "```\n",
        "\n",
        "Where:\n",
        "\n",
        "-   `function`: The function we defined above\n",
        "-   `x_data`, `y_data`: Our experimental data\n",
        "-   `p0`: Initial guess for parameters (optional but recommended)\n",
        "-   `popt`: The optimized parameters (what we want!)\n",
        "-   `pcov`: Covariance matrix (contains information about parameter\n",
        "    uncertainties, which you don’t need to worry about at the moment.)\n",
        "\n",
        "Finish the cell below to perform the curve fit by adding the three\n",
        "missing arguments to the call to `curve_fit`."
      ],
      "id": "5b20512b-8520-4835-b8af-07fcb561bf20"
    },
    {
      "cell_type": "code",
      "execution_count": 12,
      "metadata": {
        "solution": true
      },
      "outputs": [
        {
          "output_type": "stream",
          "name": "stdout",
          "text": [
            "Fitted parameters: a = 2.002, b = 0.047"
          ]
        }
      ],
      "source": [
        "# Initial guess: a=2, b=0\n",
        "p0 = [2, 0]\n",
        "\n",
        "# Perform the fit\n",
        "popt, pcov = curve_fit(linear_function, x_data, y_data, p0=p0)\n",
        "\n",
        "# Extract parameters\n",
        "a_fit, b_fit = popt\n",
        "print(f\"Fitted parameters: a = {a_fit:.3f}, b = {b_fit:.3f}\")"
      ],
      "id": "9ec62fab"
    },
    {
      "cell_type": "markdown",
      "metadata": {},
      "source": [
        "#### (d) Visualizing the fit\n",
        "\n",
        "It’s crucial to always plot your fit to see how well it describes the\n",
        "data. To do this we evaluate the function with the fitted parameters and\n",
        "a densely sampled independent variable."
      ],
      "id": "27694136-b56e-4f7a-9e07-a17c1ddde815"
    },
    {
      "cell_type": "code",
      "execution_count": 14,
      "metadata": {
        "solution": true
      },
      "outputs": [],
      "source": [
        "x_smooth = np.linspace(0, 11, 100)\n",
        "y_fit = linear_function(x_smooth, a_fit, b_fit)"
      ],
      "id": "0899b8ea"
    },
    {
      "cell_type": "markdown",
      "metadata": {},
      "source": [
        "Then we can plot it"
      ],
      "id": "5e735ccf-5ddf-4c87-add0-d8b428a24694"
    },
    {
      "cell_type": "code",
      "execution_count": 16,
      "metadata": {
        "solution": true
      },
      "outputs": [
        {
          "output_type": "display_data",
          "metadata": {},
          "data": {
            "text/plain": [
              "Text(0.5, 1.0, 'Fit')"
            ]
          }
        },
        {
          "output_type": "display_data",
          "metadata": {},
          "data": {
            "image/png": "[encoded data removed]"
          }
        }
      ],
      "source": [
        "fig, ax = plt.subplots(figsize=(6, 4))\n",
        "ax.plot(x_data, y_data, 'o', markersize=8, label='Experimental data')\n",
        "ax.plot(x_smooth, y_fit, '-', linewidth=2, label=f'Fit: y = {a_fit:.2f}x + {b_fit:.2f}')\n",
        "ax.set_xlabel('x')\n",
        "ax.set_ylabel('y') \n",
        "ax.legend()\n",
        "ax.set_title('Fit')"
      ],
      "id": "abb452b5"
    },
    {
      "cell_type": "markdown",
      "metadata": {},
      "source": [
        "#### (e) Nonlinear fitting: Exponential decay\n",
        "\n",
        "Many biological processes follow nonlinear relationships. Let’s work\n",
        "with exponential decay, which is common in biochemistry (e.g.,\n",
        "radioactive decay or unimolecular chemical reactions).\n",
        "\n",
        "First, let’s generate some exponential data:"
      ],
      "id": "4af51b82-344c-4186-b11a-3f50ec154974"
    },
    {
      "cell_type": "code",
      "execution_count": 18,
      "metadata": {
        "solution": true
      },
      "outputs": [
        {
          "output_type": "display_data",
          "metadata": {},
          "data": {
            "text/plain": [
              "Text(0.5, 1.0, 'Exponential decay data')"
            ]
          }
        },
        {
          "output_type": "display_data",
          "metadata": {},
          "data": {
            "image/png": "[encoded data removed]"
          }
        }
      ],
      "source": [
        "# Generate exponential decay data\n",
        "t = np.array([0, 0.5, 1.0, 1.5, 2.0, 2.5, 3.0, 3.5, 4.0, 4.5, 5.0])\n",
        "# True parameters: A=10, k=0.8\n",
        "A_true, k_true = 10, 0.8\n",
        "signal = A_true * np.exp(-k_true * t) + np.random.normal(0, 0.3, len(t))\n",
        "\n",
        "fig, ax = plt.subplots(figsize=(6, 4))\n",
        "ax.plot(t, signal, 'o', markersize=8)\n",
        "ax.set_xlabel('Time')\n",
        "ax.set_ylabel('Signal')\n",
        "ax.set_title('Exponential decay data')"
      ],
      "id": "9d5bc515"
    },
    {
      "cell_type": "markdown",
      "metadata": {},
      "source": [
        "The model we want to fit is: $$\\text{signal} = A e^{-kt}$$\n",
        "\n",
        "Define the exponential decay function:"
      ],
      "id": "acd3de00-76aa-4f43-abb4-4c1e08cb1f6c"
    },
    {
      "cell_type": "code",
      "execution_count": 20,
      "metadata": {
        "solution": true
      },
      "outputs": [],
      "source": [
        "def exponential_decay(t, A, k):\n",
        "    return A * np.exp(-k * t)"
      ],
      "id": "fe0bc9f3"
    },
    {
      "cell_type": "markdown",
      "metadata": {},
      "source": [
        "Now fit the exponential function to the data:"
      ],
      "id": "13e8c205-be8c-45ee-a6eb-0e11469ce407"
    },
    {
      "cell_type": "code",
      "execution_count": 22,
      "metadata": {
        "solution": true
      },
      "outputs": [
        {
          "output_type": "stream",
          "name": "stdout",
          "text": [
            "Fitted parameters: A = 9.921, k = 0.797\n",
            "True parameters:   A = 10.000, k = 0.800"
          ]
        }
      ],
      "source": [
        "# Initial guess: A=8, k=1\n",
        "p0 = [8, 1]\n",
        "\n",
        "# Perform the fit\n",
        "popt, pcov = curve_fit(exponential_decay, t, signal, p0=p0)\n",
        "\n",
        "# Extract parameters\n",
        "A_fit, k_fit = popt\n",
        "print(f\"Fitted parameters: A = {A_fit:.3f}, k = {k_fit:.3f}\")\n",
        "print(f\"True parameters:   A = {A_true:.3f}, k = {k_true:.3f}\")"
      ],
      "id": "330e8e61"
    },
    {
      "cell_type": "markdown",
      "metadata": {},
      "source": [
        "Again we should plot to check that it looks as expected"
      ],
      "id": "692cfd6b-3704-43b6-8135-2efba2e98473"
    },
    {
      "cell_type": "code",
      "execution_count": 24,
      "metadata": {
        "solution": true
      },
      "outputs": [],
      "source": [
        "t_smooth = np.linspace(0, 5, 100)\n",
        "signal_fit = exponential_decay(t_smooth, A_fit, k_fit)"
      ],
      "id": "aa91dcf6"
    },
    {
      "cell_type": "code",
      "execution_count": 25,
      "metadata": {
        "solution": true
      },
      "outputs": [],
      "source": [
        "fig, ax = plt.subplots(figsize=(6, 4))\n",
        "\n",
        "# Plot\n",
        "ax.plot(..., ..., 'o', markersize=8, label='Experimental data') # Plot the data\n",
        "ax.plot(..., ..., '-', linewidth=2, label=f'Fit: A={A_fit:.2f}, k={k_fit:.2f}') # Plot the fit\n",
        "\n",
        "# Customization:\n",
        "ax.set_xlabel('Time')\n",
        "ax.set_ylabel('Signal')\n",
        "ax.legend()\n",
        "ax.set_title('Exponential decay curve fit')"
      ],
      "id": "193f274e"
    },
    {
      "cell_type": "code",
      "execution_count": 26,
      "metadata": {
        "solution": true
      },
      "outputs": [
        {
          "output_type": "display_data",
          "metadata": {},
          "data": {
            "text/plain": [
              "Text(0.5, 1.0, 'Exponential decay curve fit')"
            ]
          }
        },
        {
          "output_type": "display_data",
          "metadata": {},
          "data": {
            "image/png": "[encoded data removed]"
          }
        }
      ],
      "source": [
        "fig, ax = plt.subplots(figsize=(6, 4))\n",
        "ax.plot(t, signal, 'o', markersize=8, label='Experimental data')\n",
        "ax.plot(t_smooth, signal_fit, '-', linewidth=2, label=f'Fit: A={A_fit:.2f}, k={k_fit:.2f}')\n",
        "ax.set_xlabel('Time')\n",
        "ax.set_ylabel('Signal')\n",
        "ax.legend()\n",
        "ax.set_title('Exponential decay curve fit')"
      ],
      "id": "00671115"
    },
    {
      "cell_type": "markdown",
      "metadata": {},
      "source": [
        "------------------------------------------------------------------------\n",
        "\n",
        "> **Key points for successful curve fitting:**\n",
        ">\n",
        "> 1.  **Always plot your data first** to understand what kind of\n",
        ">     function might fit\n",
        "> 2.  **Provide good initial guesses** (`p0`) - poor guesses can lead to\n",
        ">     fitting failure\n",
        "> 3.  **Use parameter bounds** when you know physical constraints\n",
        "> 4.  **Always plot the fit** to visually check if it makes sense\n",
        "> 5.  **Check if parameters are reasonable** based on your biochemical\n",
        ">     knowledge\n",
        "\n",
        "> **Common pitfalls:**\n",
        ">\n",
        "> -   **Overfitting**: Using too many parameters for the amount of data\n",
        ">     you have\n",
        "> -   **Poor initial guesses**: Can cause the fit to fail or find a\n",
        ">     local minimum\n",
        "> -   **Ignoring physical constraints**: Fitted parameters should make\n",
        ">     biological sense\n",
        "> -   **Not checking the fit visually**: Always plot to see if the fit\n",
        ">     is reasonable\n",
        "\n",
        "> **Summary of `curve_fit`**\n",
        ">\n",
        "> Fitting refers to finding the parameters that make an assumed\n",
        "> functional form best ‘fit’ the data. Programmatically we will use the\n",
        "> `curve_fit` from the `scipy` package to do so. The signature of this\n",
        "> function looks like this\n",
        ">\n",
        "> ``` python\n",
        "> curve_fit(function, \n",
        ">             x_data, \n",
        ">             y_data, \n",
        ">             p0=[param_1, param_2, ...])\n",
        "> ```\n",
        ">\n",
        "> The arguments are\n",
        ">\n",
        "> -   `function`: A python function where the **first** argument is the\n",
        ">     independent variable, and other arguments are the parameters of\n",
        ">     the functions.\n",
        "> -   `x_data`: The observed values of the independent variable.\n",
        "> -   `y_data`: The observed values of the dependent variable.\n",
        "> -   `p0`: Initial guesses for the parameters.\n",
        ">\n",
        "> When called `curve_fit` starts by calculating how well the functions\n",
        "> fits the data with the initial parameters in `p0` and then iteratively\n",
        "> improves the fit by trying new values for the parameters in an\n",
        "> intelligent way.\n",
        ">\n",
        "> The found parameters will generally depend on `p0` and it is therefore\n",
        "> necessary to provide a good (or good enough) guess for `p0`.\n",
        ">\n",
        "> Generally, the best way to learn more about a function is to read it’s\n",
        "> documentation and then play around with it. The documentation is in\n",
        "> this case on the [SciPy\n",
        "> website](https://docs.scipy.org/doc/scipy/reference/generated/scipy.optimize.curve_fit.html).\n",
        "> You don’t need to read it, unless you want more details.\n",
        "\n",
        "You now have the fundamental skills needed to fit curves to biochemical\n",
        "data! In the exercises, you’ll apply these techniques to analyze real\n",
        "experimental data and extract meaningful biological parameters.\n",
        "\n",
        "------------------------------------------------------------------------\n",
        "\n",
        "## Estimation of binding affinity\n",
        "\n",
        "#### (a) Train estimation skills\n",
        "\n",
        "Train your estimation skills using the widget below."
      ],
      "id": "c657e2dd-87b9-4f50-9684-18231bb39639"
    },
    {
      "cell_type": "code",
      "execution_count": 27,
      "metadata": {},
      "outputs": [],
      "source": [
        "from fysisk_biokemi.widgets.utils.colab import enable_custom_widget_colab\n",
        "from fysisk_biokemi.widgets import estimate_kd\n",
        "\n",
        "enable_custom_widget_colab()\n",
        "estimate_kd()"
      ],
      "id": "cf6b176c"
    },
    {
      "cell_type": "markdown",
      "metadata": {},
      "source": [
        "#### (b) Compare to quadratic\n",
        "\n",
        "The widget below shows the curves for $\\theta$ using both the simple\n",
        "expression assuming that $L = L_{tot}$ and the quadratic binding\n",
        "expression. Vary $K_D$ and $P_{total}$ to work out a rule of thumb for\n",
        "when the two equations give a similar curve."
      ],
      "id": "f5341b8c-4cff-47f6-bc9c-9af7e96b15ba"
    },
    {
      "cell_type": "code",
      "execution_count": 28,
      "metadata": {},
      "outputs": [],
      "source": [
        "from fysisk_biokemi.widgets.utils.colab import enable_custom_widget_colab\n",
        "from fysisk_biokemi.widgets import visualize_simple_vs_quadratic\n",
        "\n",
        "enable_custom_widget_colab()\n",
        "visualize_simple_vs_quadratic()"
      ],
      "id": "6e6f0543"
    },
    {
      "cell_type": "code",
      "execution_count": 29,
      "metadata": {
        "solution": true
      },
      "outputs": [],
      "source": [
        "answer = \"They are equal when P_tot << K_D\""
      ],
      "id": "818009bc"
    },
    {
      "cell_type": "markdown",
      "metadata": {},
      "source": [
        "------------------------------------------------------------------------\n",
        "\n",
        "## Dialysis experiment"
      ],
      "id": "b2d0e390-2dfa-4394-aa44-92b0522e79c1"
    },
    {
      "cell_type": "code",
      "execution_count": 30,
      "metadata": {},
      "outputs": [],
      "source": [
        "import numpy as np"
      ],
      "id": "50dbc947"
    },
    {
      "cell_type": "markdown",
      "metadata": {},
      "source": [
        "A dialysis experiment was set up where equal amounts of a protein were\n",
        "separately dialyzing against buffers containing different concentrations\n",
        "of a ligand – each measurement was done in triplicate. The average\n",
        "number of ligands bound per protein molecule, $\\bar{n}$ were obtained\n",
        "from these experiments. The corresponding concentrations of free ligand\n",
        "and values are given in dataset `dialys-exper.xlsx`.\n",
        "\n",
        "#### (a) Load the dataset"
      ],
      "id": "4eecbd75-2c07-4a98-a0df-6aecc452ce5c"
    },
    {
      "cell_type": "code",
      "execution_count": 31,
      "metadata": {},
      "outputs": [],
      "source": [
        "from fysisk_biokemi.widgets import DataUploader\n",
        "from IPython.display import display \n",
        "uploader = DataUploader()\n",
        "uploader.display()"
      ],
      "id": "f185d727"
    },
    {
      "cell_type": "markdown",
      "metadata": {},
      "source": [
        "Run the next cell **after** uploading the file"
      ],
      "id": "a424e8db-01fb-4b55-900b-d08b29a749e1"
    },
    {
      "cell_type": "code",
      "execution_count": 32,
      "metadata": {},
      "outputs": [],
      "source": [
        "df = uploader.get_dataframe()\n",
        "display(df)"
      ],
      "id": "47554478"
    },
    {
      "cell_type": "code",
      "execution_count": 33,
      "metadata": {
        "solution": true
      },
      "outputs": [
        {
          "output_type": "display_data",
          "metadata": {},
          "data": {
            "text/html": [
              "\n",
              "</div>"
            ]
          }
        }
      ],
      "source": [
        "from IPython.display import display \n",
        "from fysisk_biokemi.datasets import load_dataset\n",
        "df = load_dataset('dialysis_experiment') # Load from package for the solution so it doesn't require to interact.\n",
        "display(df)"
      ],
      "id": "78873dfd"
    },
    {
      "cell_type": "markdown",
      "metadata": {},
      "source": [
        "#### (b) Explain calculation of $\\bar{n}$\n",
        "\n",
        "Explain how the values of $\\bar{n}$ is calculated when knowing the\n",
        "concentrations of ligand inside and outside the dialysis bag, as well as\n",
        "the total concentration of the protein, \\[$\\text{P}_{\\text{tot}}$\\].\n",
        "\n",
        "#### (c) Molar concentrations\n",
        "\n",
        "Convert the concentrations of free ligand to SI-units given in M, add it\n",
        "as a row to the `DataFrame`."
      ],
      "id": "5fcd3f2c-cbb3-4fbd-9276-abf880c753cd"
    },
    {
      "cell_type": "code",
      "execution_count": 34,
      "metadata": {
        "solution": true
      },
      "outputs": [
        {
          "output_type": "display_data",
          "metadata": {},
          "data": {
            "text/html": [
              "\n",
              "</div>"
            ]
          }
        }
      ],
      "source": [
        "df['Free_ligand_(M)'] = df['Free_ligand_(uM)'] * 10**(-6)\n",
        "display(df)"
      ],
      "id": "7a0587bf"
    },
    {
      "cell_type": "markdown",
      "metadata": {},
      "source": [
        "#### (c) Plot the data"
      ],
      "id": "210dea63-4eb9-4350-a976-b3c2d2603308"
    },
    {
      "cell_type": "code",
      "execution_count": 36,
      "metadata": {
        "solution": true
      },
      "outputs": [
        {
          "output_type": "display_data",
          "metadata": {},
          "data": {
            "image/png": "[encoded data removed]"
          }
        }
      ],
      "source": [
        "import matplotlib.pyplot as plt\n",
        "\n",
        "fig, ax = plt.subplots()\n",
        "ax.plot(df['Free_ligand_(M)'], df['n_bar'], 'o')\n",
        "ax.set_xlabel('Free ligand [L] (M)', fontsize=16)\n",
        "ax.set_ylabel(r'$\\bar{n}$', fontsize=16)\n",
        "plt.show()"
      ],
      "id": "3652e1ea"
    },
    {
      "cell_type": "markdown",
      "metadata": {},
      "source": [
        "#### (d) Prepare for fitting\n",
        "\n",
        "Now we want to fit the data to extract $K_D$ and $n$, by using the\n",
        "equation\n",
        "\n",
        "$$\n",
        "\\bar{n}([L_{\\text{free}}]) = n \\frac{[L_{\\text{free}}]}{K_D + [L_{\\text{free}}]}\n",
        "$$\n",
        "\n",
        "To do so we need to implmenet it as a Python function"
      ],
      "id": "7cc6a6f7-70e3-4cd8-af93-60301ffec053"
    },
    {
      "cell_type": "code",
      "execution_count": 38,
      "metadata": {
        "solution": true
      },
      "outputs": [
        {
          "output_type": "stream",
          "name": "stdout",
          "text": [
            "nbar(1, 1, 1) = 0.5\n",
            "nbar(21, 47, 2.5) = 42.0"
          ]
        }
      ],
      "source": [
        "def nbar(L, n, K_D):\n",
        "    return n * L / (K_D + L)\n",
        "\n",
        "print(f\"{nbar(1, 1, 1) = }\") # Should give 1/2\n",
        "print(f\"{nbar(21, 47, 2.5) = }\") # Should give 42"
      ],
      "id": "31cdcc40"
    },
    {
      "cell_type": "markdown",
      "metadata": {},
      "source": [
        "#### (e) Actually fitting\n",
        "\n",
        "Finish the code to perform the fitting in the cell below."
      ],
      "id": "447daadf-4c4d-4164-9d9e-7d424d31e998"
    },
    {
      "cell_type": "code",
      "execution_count": 40,
      "metadata": {
        "solution": true
      },
      "outputs": [
        {
          "output_type": "stream",
          "name": "stdout",
          "text": [
            "n_fit = 2.009 \n",
            "K_D_fit = 3.395997e-06"
          ]
        }
      ],
      "source": [
        "from scipy.optimize import curve_fit\n",
        "\n",
        "# Choose the variables from the dataframe\n",
        "x = df['Free_ligand_(M)']\n",
        "y = df['n_bar']\n",
        "\n",
        "# Initial guess\n",
        "K_D_guess = 10**(-5)\n",
        "n_guess = 1\n",
        "p0 = [K_D_guess, n_guess]\n",
        "\n",
        "# Curve fit\n",
        "popt, pcov = curve_fit(nbar, x, y, p0=p0)\n",
        "n_fit, K_D_fit = popt\n",
        "print(f\"{n_fit = :1.3f} \")\n",
        "print(f\"{K_D_fit = :e}\")"
      ],
      "id": "a5aa6552"
    },
    {
      "cell_type": "markdown",
      "metadata": {},
      "source": [
        "Are the parameters you find reasonable? How can you tell if they are\n",
        "reasonable by looking at the plot you made earlier?\n",
        "\n",
        "#### (f) Plot with fit\n",
        "\n",
        "When we have the fitted parameters we can calculate and plot the\n",
        "function. To do so we make an array of values for the independent\n",
        "variable and use our function to calculate the dependent variable"
      ],
      "id": "5b5435ee-62a1-460d-a23b-35c20a2f8453"
    },
    {
      "cell_type": "code",
      "execution_count": 42,
      "metadata": {
        "solution": true
      },
      "outputs": [],
      "source": [
        "# This makes 50 equally spaced points between 0 and the highest concentration x 1.2\n",
        "L = np.linspace(0, x.max()*1.2, 50) \n",
        "\n",
        "# Calculate: \n",
        "nbar_calc = nbar(L, n_fit, K_D_fit)"
      ],
      "id": "766de820"
    },
    {
      "cell_type": "markdown",
      "metadata": {},
      "source": [
        "Now that we calculated the dependent variable we can plot the fit along\n",
        "with the data."
      ],
      "id": "738966af-c61e-4ae1-910b-50ca95495396"
    },
    {
      "cell_type": "code",
      "execution_count": 43,
      "metadata": {
        "solution": true
      },
      "outputs": [
        {
          "output_type": "display_data",
          "metadata": {},
          "data": {
            "image/png": "[encoded data removed]"
          }
        }
      ],
      "source": [
        "import matplotlib.pyplot as plt\n",
        "\n",
        "fig, ax = plt.subplots()\n",
        "\n",
        "# Plot the fitted curve\n",
        "ax.plot(L, nbar_calc, label='Fit')\n",
        "\n",
        "# Straight lines indicating the parameters \n",
        "ax.axhline(n_fit, color='red', label=r'$\\nu_{max}$')\n",
        "ax.axvline(K_D_fit, color='green', label=r'$K_D$')\n",
        "\n",
        "# Same as before\n",
        "ax.plot(df['Free_ligand_(M)'], df['n_bar'], 'o', color='C0')\n",
        "ax.set_xlabel('Free ligand [L] (M)', fontsize=16)\n",
        "ax.set_ylabel(r'$\\bar{n}$', fontsize=16)\n",
        "ax.legend(fontsize=16)\n",
        "plt.show()"
      ],
      "id": "daf6d45a"
    },
    {
      "cell_type": "markdown",
      "metadata": {},
      "source": [
        "------------------------------------------------------------------------\n",
        "\n",
        "## Interpretation of binding data."
      ],
      "id": "01201d3f-193c-4062-967c-212774731fee"
    },
    {
      "cell_type": "code",
      "execution_count": 45,
      "metadata": {},
      "outputs": [],
      "source": [
        "import numpy as np"
      ],
      "id": "f6c2ed25"
    },
    {
      "cell_type": "markdown",
      "metadata": {},
      "source": [
        "The `inter-bindin-data.xlsx` contains a protein binding dataset.\n",
        "\n",
        "#### (a) Load the dataset\n",
        "\n",
        "Load the dataset using the widget below"
      ],
      "id": "871d1f9e-3c2a-419a-bbe2-339eb38ac2ac"
    },
    {
      "cell_type": "code",
      "execution_count": 46,
      "metadata": {},
      "outputs": [],
      "source": [
        "import numpy as np\n",
        "from fysisk_biokemi.widgets import DataUploader\n",
        "from IPython.display import display \n",
        "uploader = DataUploader()\n",
        "uploader.display()"
      ],
      "id": "6752f55a"
    },
    {
      "cell_type": "markdown",
      "metadata": {},
      "source": [
        "Run the next cell **after** uploading the file"
      ],
      "id": "81bf48ba-94cc-4832-86c7-a8b0b44f4cfd"
    },
    {
      "cell_type": "code",
      "execution_count": 47,
      "metadata": {},
      "outputs": [],
      "source": [
        "df = uploader.get_dataframe()\n",
        "display(df)"
      ],
      "id": "c8e1b6cb"
    },
    {
      "cell_type": "code",
      "execution_count": 48,
      "metadata": {
        "solution": true
      },
      "outputs": [
        {
          "output_type": "display_data",
          "metadata": {},
          "data": {
            "text/html": [
              "\n",
              "</div>"
            ]
          }
        }
      ],
      "source": [
        "from IPython.display import display \n",
        "from fysisk_biokemi.datasets import load_dataset\n",
        "df = load_dataset('interpret_week48') # Load from package for the solution so it doesn't require to interact.\n",
        "display(df)"
      ],
      "id": "35c33031"
    },
    {
      "cell_type": "markdown",
      "metadata": {},
      "source": [
        "#### (b) SI Units\n",
        "\n",
        "Add a new column to the `DataFrame` with the ligand concentration in SI\n",
        "units."
      ],
      "id": "7a932dfd-8d80-4df3-a6aa-2430c30dd08d"
    },
    {
      "cell_type": "code",
      "execution_count": 50,
      "metadata": {
        "solution": true
      },
      "outputs": [
        {
          "output_type": "display_data",
          "metadata": {},
          "data": {
            "text/html": [
              "\n",
              "</div>"
            ]
          }
        }
      ],
      "source": [
        "df['[L]_(M)'] = df[\"[L]_(uM)\"] * 10**(-6)\n",
        "display(df)"
      ],
      "id": "144e9ef8"
    },
    {
      "cell_type": "markdown",
      "metadata": {},
      "source": [
        "#### (c) Plot the data\n",
        "\n",
        "Make plots of the binding data directly with a linear and logarithmic\n",
        "x-axis.\n",
        "\n",
        "Estimate $K_D$ by visual inspection of these plots!"
      ],
      "id": "1600b1ad-b110-416f-840d-9f7cfb02b9cc"
    },
    {
      "cell_type": "code",
      "execution_count": 52,
      "metadata": {
        "solution": true
      },
      "outputs": [
        {
          "output_type": "display_data",
          "metadata": {},
          "data": {
            "image/png": "[encoded data removed]"
          }
        }
      ],
      "source": [
        "import matplotlib.pyplot as plt\n",
        "\n",
        "# This makes a figure with two axes.\n",
        "fig, axes = plt.subplots(1, 2, figsize=(9, 4))\n",
        "\n",
        "# Can with [0] to plot in the first axis.\n",
        "ax = axes[0]\n",
        "ax.plot(df['[L]_(M)'], df['nbar'], 'o') # Replace ... with your code.\n",
        "ax.set_xlabel('[L](M)', fontsize=14)\n",
        "ax.set_ylabel(r'$\\bar{n}$', fontsize=14)\n",
        "\n",
        "ax = axes[1]\n",
        "ax.plot(df['[L]_(M)'], df['nbar'], 'o')\n",
        "ax.set_xlabel('[L](M)', fontsize=14)\n",
        "ax.set_ylabel(r'$\\bar{n}$', fontsize=14)\n",
        "ax.set_xscale('log')"
      ],
      "id": "ad693b92"
    },
    {
      "cell_type": "markdown",
      "metadata": {},
      "source": [
        "> **Note**\n",
        ">\n",
        "> Ths command `ax.set_xscale('log')` tells `matplotlib` that we want the\n",
        "> x-axis to use a log-scale."
      ],
      "id": "c0280cbe-6dc9-4238-bd67-4f365c8945f1"
    },
    {
      "cell_type": "code",
      "execution_count": 54,
      "metadata": {
        "solution": true
      },
      "outputs": [],
      "source": [
        "K_D_estimate = 5 * 10**(-5)"
      ],
      "id": "194fb2e3"
    },
    {
      "cell_type": "markdown",
      "metadata": {},
      "source": [
        "#### (d) Make a fit\n",
        "\n",
        "Make a fit to determine $K_D$, as always we start by implementing the\n",
        "function to fit with"
      ],
      "id": "e2f49aaf-3a74-4f4e-b061-4cdf471baaa4"
    },
    {
      "cell_type": "code",
      "execution_count": 56,
      "metadata": {
        "solution": true
      },
      "outputs": [],
      "source": [
        "def n_bar(L, K_D):\n",
        "    return L / (L + K_D)"
      ],
      "id": "94c6876e"
    },
    {
      "cell_type": "markdown",
      "metadata": {},
      "source": [
        "And then we can make the fit"
      ],
      "id": "4b7ee14d-afe4-46be-ba4c-af51d0537868"
    },
    {
      "cell_type": "code",
      "execution_count": 58,
      "metadata": {
        "solution": true
      },
      "outputs": [
        {
          "output_type": "stream",
          "name": "stdout",
          "text": [
            "K_D_fit = 1.245798e-05"
          ]
        }
      ],
      "source": [
        "from scipy.optimize import curve_fit\n",
        "\n",
        "# Choose the variables from the dataframe\n",
        "x = df['[L]_(M)']\n",
        "y = df['nbar']\n",
        "\n",
        "# Initial guess\n",
        "p0 = [K_D_estimate]\n",
        "\n",
        "# Bounds\n",
        "bounds = (0, np.inf) # We limit the parameters to be positve.\n",
        "\n",
        "# Curve fit\n",
        "popt, pcov = curve_fit(n_bar, x, y, p0=p0, bounds=bounds)\n",
        "\n",
        "# Print the parameters\n",
        "K_D_fit = popt[0]\n",
        "print(f\"{K_D_fit = :e}\")"
      ],
      "id": "7f62f2c2"
    },
    {
      "cell_type": "markdown",
      "metadata": {},
      "source": [
        "#### (e) Compare\n",
        "\n",
        "Make a plot to compare the fit with your estimate. Start by evaluating\n",
        "the function"
      ],
      "id": "9933f5d7-ba7e-45fa-b204-d33e2ad27b5f"
    },
    {
      "cell_type": "code",
      "execution_count": 60,
      "metadata": {
        "solution": true
      },
      "outputs": [],
      "source": [
        "# Evaluate on the fit so we can plot it.\n",
        "L_smooth = np.linspace(0, df['[L]_(M)'].max(), 100)\n",
        "nbar_fit = n_bar(L_smooth, K_D_fit)\n",
        "\n",
        "# We will also evaluate where the points are sampled on a log-scale.\n",
        "# The `geomspace` function makes points uniformly spaced on a logaritmic axis.\n",
        "L_smooth_log = np.geomspace(df['[L]_(M)'].min(), df['[L]_(M)'].max(), 100)\n",
        "nbar_fit_log = n_bar(L_smooth_log, K_D_fit)"
      ],
      "id": "b732ccab"
    },
    {
      "cell_type": "markdown",
      "metadata": {},
      "source": [
        "Now finish the code below to make the plot."
      ],
      "id": "194f85d0-0933-491e-a7c1-2f465ac54c0f"
    },
    {
      "cell_type": "code",
      "execution_count": 62,
      "metadata": {
        "solution": true
      },
      "outputs": [
        {
          "output_type": "display_data",
          "metadata": {},
          "data": {
            "image/png": "[encoded data removed]"
          }
        }
      ],
      "source": [
        "# This makes a figure with two axes.\n",
        "fig, axes = plt.subplots(1, 2, figsize=(9, 4))\n",
        "\n",
        "# Index with [0] to plot in the first axis - Linear plot\n",
        "ax = axes[0]\n",
        "ax.plot(df['[L]_(M)'], df['nbar'], 'o', color='C0')\n",
        "ax.plot(L_smooth, nbar_fit, color='C2')\n",
        "\n",
        "ax.axvline(K_D_estimate, label='Estimate', color='C1')\n",
        "ax.axvline(K_D_fit, label='Fit', color='C2')\n",
        "ax.set_xlabel('[L](M)', fontsize=14)\n",
        "ax.set_ylabel(r'$\\bar{n}$', fontsize=14)\n",
        "ax.legend()\n",
        "\n",
        "# Index with [1] to plot in the second axis - Log plot.\n",
        "ax = axes[1]\n",
        "ax.plot(df['[L]_(M)'], df['nbar'], 'o', color='C0')\n",
        "ax.plot(L_smooth_log, nbar_fit_log, color='C2')\n",
        "\n",
        "ax.set_xlabel('[L](M)', fontsize=14)\n",
        "ax.set_ylabel(r'$\\bar{n}$', fontsize=14)\n",
        "ax.axvline(K_D_estimate, label='Estimate', color='C1')\n",
        "ax.axvline(K_D_fit, label='Fit', color='C2')\n",
        "ax.legend()\n",
        "ax.set_xscale('log')"
      ],
      "id": "f2ccb3a2"
    },
    {
      "cell_type": "markdown",
      "metadata": {},
      "source": [
        "#### (f) Saturation\n",
        "\n",
        "Based on the value of $K_D$ found from the fit,\n",
        "\n",
        "-   At which concentration do you expect 10% saturation?\n",
        "-   At which concentration do you expect 90% saturation?\n",
        "\n",
        "------------------------------------------------------------------------\n",
        "\n",
        "## ADP binding to pyruvate kinase."
      ],
      "id": "62f979c3-72a3-47d9-b5af-2ad24a99f1eb"
    },
    {
      "cell_type": "code",
      "execution_count": 63,
      "metadata": {},
      "outputs": [],
      "source": [
        "import matplotlib.pyplot as plt\n",
        "import numpy as np"
      ],
      "id": "eb26bf0a"
    },
    {
      "cell_type": "markdown",
      "metadata": {},
      "source": [
        "Based on the literature, you suspect that the binding of ADP to the\n",
        "enzyme pyruvate kinase might be coopera-tive and decide to investigate\n",
        "this by measuring the binding to the enzyme using radioactive ATP. The\n",
        "enzyme concentration was 4 μM throughout the titration, and each\n",
        "measurement was done in triplicate. The binding results were obtained at\n",
        "310 K and are given in the `.csv`-file `adp-bindin-pyruva-kinase.csv`.\n",
        "\n",
        "#### (a) Load the dataset\n",
        "\n",
        "As always, use the widget to load the dataset"
      ],
      "id": "cece2ac9-3dc2-4918-9e24-6d600fd9b113"
    },
    {
      "cell_type": "code",
      "execution_count": 64,
      "metadata": {},
      "outputs": [],
      "source": [
        "from fysisk_biokemi.widgets import DataUploader\n",
        "from IPython.display import display \n",
        "uploader = DataUploader()\n",
        "uploader.display()"
      ],
      "id": "fdeb76c9"
    },
    {
      "cell_type": "markdown",
      "metadata": {},
      "source": [
        "Run the next cell **after** uploading the file"
      ],
      "id": "91cc7aa2-e4d6-4486-a8f7-f9b4ccaba56a"
    },
    {
      "cell_type": "code",
      "execution_count": 65,
      "metadata": {},
      "outputs": [],
      "source": [
        "df = uploader.get_dataframe()\n",
        "display(df)"
      ],
      "id": "ed6f75d1"
    },
    {
      "cell_type": "code",
      "execution_count": 66,
      "metadata": {
        "solution": true
      },
      "outputs": [
        {
          "output_type": "display_data",
          "metadata": {},
          "data": {
            "text/html": [
              "\n",
              "<p>30 rows × 2 columns</p>\n",
              "</div>"
            ]
          }
        }
      ],
      "source": [
        "import pandas as pd\n",
        "pd.set_option('display.max_rows', 6)\n",
        "from IPython.display import display \n",
        "from fysisk_biokemi.datasets import load_dataset\n",
        "df = load_dataset('adp_pyruvate') # Load from package for the solution so it doesn't require to interact.\n",
        "display(df)"
      ],
      "id": "68eebf06"
    },
    {
      "cell_type": "markdown",
      "metadata": {},
      "source": [
        "#### (b) Units\n",
        "\n",
        "The concentrations in the dataset are given in mM, add a new column to\n",
        "the `DataFrame` with the units given in M."
      ],
      "id": "2afbbd6e-aeaf-48b1-8be4-37e35cf6b8c7"
    },
    {
      "cell_type": "code",
      "execution_count": 68,
      "metadata": {
        "solution": true
      },
      "outputs": [
        {
          "output_type": "display_data",
          "metadata": {},
          "data": {
            "text/html": [
              "\n",
              "<p>30 rows × 3 columns</p>\n",
              "</div>"
            ]
          }
        }
      ],
      "source": [
        "df['[ADPtot](M)'] = df['[ADPtot](mM)'] * 10**(-3)\n",
        "display(df)"
      ],
      "id": "092c1ecc"
    },
    {
      "cell_type": "markdown",
      "metadata": {},
      "source": [
        "#### (c) Free ADP concentration\n",
        "\n",
        "For each value of $\\bar{n}$ calculate the concentration of\n",
        "\\[ADP$_\\text{free}$\\] from \\[ADP$_\\text{tot}$\\] and \\[enzyme\\]."
      ],
      "id": "6a16337b-c668-4995-a886-5573904164b3"
    },
    {
      "cell_type": "code",
      "execution_count": 70,
      "metadata": {
        "solution": true
      },
      "outputs": [
        {
          "output_type": "display_data",
          "metadata": {},
          "data": {
            "text/html": [
              "\n",
              "<p>30 rows × 4 columns</p>\n",
              "</div>"
            ]
          }
        }
      ],
      "source": [
        "enzyme_conc = 4 * 10**(-6)\n",
        "df['[ADPfree](M)'] = df['[ADPtot](M)'] - df['nbar'] * enzyme_conc\n",
        "display(df)"
      ],
      "id": "969ccbdc"
    },
    {
      "cell_type": "markdown",
      "metadata": {},
      "source": [
        "#### (d) Make a plot\n",
        "\n",
        "Make a plot of the free ligand concentration versus $\\bar{n}$."
      ],
      "id": "278b7678-27e6-4997-848c-df388670ad7b"
    },
    {
      "cell_type": "code",
      "execution_count": 72,
      "metadata": {
        "solution": true
      },
      "outputs": [
        {
          "output_type": "display_data",
          "metadata": {},
          "data": {
            "text/plain": [
              "Text(0, 0.5, '$\\\\bar{n}$')"
            ]
          }
        },
        {
          "output_type": "display_data",
          "metadata": {},
          "data": {
            "image/png": "[encoded data removed]"
          }
        }
      ],
      "source": [
        "fig, ax = plt.subplots(figsize=(7, 4))\n",
        "ax.plot(df['[ADPfree](M)'], df['nbar'], marker='o', linestyle='none', label='Observations')\n",
        "ax.set_xlabel(r'$[\\text{ADP}_{\\text{free}}]$', fontsize=14)\n",
        "ax.set_ylabel(r'$\\bar{n}$', fontsize=14)"
      ],
      "id": "2ce5131e"
    },
    {
      "cell_type": "markdown",
      "metadata": {},
      "source": [
        "#### (f) Preparing for fitting\n",
        "\n",
        "To fit we need a implement the function we want to fit the parameters\n",
        "of, the functional form is\n",
        "\n",
        "$$\n",
        "n = n_{\\text{max}} \\frac{[L]^h}{K_D + [L]^h}\n",
        "$$"
      ],
      "id": "495167db-965d-492c-b744-8ca19aefc209"
    },
    {
      "cell_type": "code",
      "execution_count": 74,
      "metadata": {
        "solution": true
      },
      "outputs": [
        {
          "output_type": "stream",
          "name": "stdout",
          "text": [
            "n_bound(1, 1, 1, 1) = 0.5\n",
            "n_bound(21, 47, 2.5, 1) = 42.0\n",
            "n_bound(21, 47, 2.5, 2) = 46.73506200676437"
          ]
        }
      ],
      "source": [
        "def n_bound(L, n_max, K_D, h):\n",
        "    return n_max * L**h / (K_D + L**h)\n",
        "\n",
        "print(f\"{n_bound(1, 1, 1, 1) = }\") # Should give 1/2\n",
        "print(f\"{n_bound(21, 47, 2.5, 1) = }\") # Should give 42\n",
        "print(f\"{n_bound(21, 47, 2.5, 2) = }\") # Should give 46.73.."
      ],
      "id": "8399dff7"
    },
    {
      "cell_type": "markdown",
      "metadata": {},
      "source": [
        "#### (e) Fitting\n",
        "\n",
        "Finish the code below to create a fit."
      ],
      "id": "f1042ea3-52a4-4297-a491-25bb10ebee1e"
    },
    {
      "cell_type": "code",
      "execution_count": 76,
      "metadata": {
        "solution": true
      },
      "outputs": [
        {
          "output_type": "stream",
          "name": "stdout",
          "text": [
            "n_max_fit = 4.018 \n",
            "K_D_fit = 5.450524e-04\n",
            "h_fit = 1.021 "
          ]
        }
      ],
      "source": [
        "from scipy.optimize import curve_fit\n",
        "\n",
        "# Choose the variables from the dataframe\n",
        "x = df['[ADPfree](M)']\n",
        "y = df['nbar']\n",
        "\n",
        "# Initial guess\n",
        "K_D_guess = 1*10**(-3) # Your initial guess for K_D \n",
        "n_max_guess = 1 # Your initial guess for nu_max\n",
        "h_guess = 2 # Your initial guess for the exponent.\n",
        "p0 = [K_D_guess, n_max_guess, h_guess]\n",
        "\n",
        "# Bounds\n",
        "bounds = (0, np.inf) # We limit the parameters to be positve.\n",
        "\n",
        "# Curve fit\n",
        "popt, pcov = curve_fit(n_bound, x, y, p0=p0, bounds=bounds)\n",
        "\n",
        "# Print the parameters\n",
        "n_max_fit, K_D_fit, h_fit = popt\n",
        "print(f\"{n_max_fit = :1.3f} \")\n",
        "print(f\"{K_D_fit = :e}\")\n",
        "print(f\"{h_fit = :1.3f} \")"
      ],
      "id": "a43b7e90"
    },
    {
      "cell_type": "markdown",
      "metadata": {},
      "source": [
        "Once we’ve obtained the fitted parameters we can plot the fit together\n",
        "with the data."
      ],
      "id": "31abffe0-612c-4f5d-b724-f8b51500868e"
    },
    {
      "cell_type": "code",
      "execution_count": 78,
      "metadata": {
        "solution": true
      },
      "outputs": [
        {
          "output_type": "display_data",
          "metadata": {},
          "data": {
            "image/png": "[encoded data removed]"
          }
        }
      ],
      "source": [
        "L = np.linspace(0, 1.2 * x.max(), 50)\n",
        "n = n_bound(L, n_max_fit, K_D_fit, h_fit)\n",
        "\n",
        "fig, ax = plt.subplots(figsize=(7, 4))\n",
        "ax.plot(df['[ADPfree](M)'], df['nbar'], 'o', label='Observations')\n",
        "ax.plot(L, n)\n",
        "ax.axvline(K_D_fit, color='k', linewidth=0.5, linestyle='--')\n",
        "ax.axhline(n_max_fit, color='k', linewidth=0.5, linestyle='--')\n",
        "\n",
        "\n",
        "ax.set_xlabel(r'$[\\text{ADP}_{\\text{free}}]$', fontsize=14)\n",
        "ax.set_ylabel(r'$\\bar{n}$', fontsize=14)\n",
        "ax.set_ylim([0, n.max()*1.1])"
      ],
      "id": "e75753b9"
    },
    {
      "cell_type": "markdown",
      "metadata": {},
      "source": [
        "**Question**: Is the binding cooperative?\n",
        "\n",
        "#### (f) Free energy\n",
        "\n",
        "Calculate the free energy for the association of the ADP-pyruvate kinase\n",
        "complex assuming\n",
        "$R = 8.314472 \\times 10^{-3} \\ \\frac{\\text{kJ}}{\\text{mol} \\cdot \\text{K}}$\n",
        "and $T = 310 \\ \\text{K}$.\n",
        "\n",
        "> **Tip**\n",
        ">\n",
        "> Consider the difference between association and dissociation\n",
        "\n",
        "Start by defining the two given constants as variables"
      ],
      "id": "87dad846-28a1-4f9b-8acc-e9cf0dea5e9a"
    },
    {
      "cell_type": "code",
      "execution_count": 80,
      "metadata": {
        "solution": true
      },
      "outputs": [],
      "source": [
        "R = 8.314472 * 10**(-3)\n",
        "T = 310"
      ],
      "id": "48e6be16"
    },
    {
      "cell_type": "markdown",
      "metadata": {},
      "source": [
        "And do the calculation"
      ],
      "id": "2cb9804d-c2c9-4b82-b3ee-005b53e532b0"
    },
    {
      "cell_type": "code",
      "execution_count": 81,
      "metadata": {
        "exercise": null
      },
      "outputs": [],
      "source": [
        "delta_G = ...\n",
        "print(f\"{delta_G = :.3f} kJ/mol\")"
      ],
      "id": "c02df79a"
    },
    {
      "cell_type": "code",
      "execution_count": 82,
      "metadata": {
        "solution": true
      },
      "outputs": [
        {
          "output_type": "stream",
          "name": "stdout",
          "text": [
            "delta_G = -19.369 kJ/mol"
          ]
        }
      ],
      "source": [
        "delta_G = R * T * np.log(K_D_fit)\n",
        "print(f\"{delta_G = :.3f} kJ/mol\")"
      ],
      "id": "7d674749"
    },
    {
      "cell_type": "markdown",
      "metadata": {},
      "source": [
        "------------------------------------------------------------------------\n",
        "\n",
        "## Determination of type and strength of cooperativity"
      ],
      "id": "1eedcf2f-6cbe-45cf-a042-4d12ba75c45c"
    },
    {
      "cell_type": "code",
      "execution_count": 83,
      "metadata": {},
      "outputs": [],
      "source": [
        "import matplotlib.pyplot as plt\n",
        "import numpy as np"
      ],
      "id": "ca53b368"
    },
    {
      "cell_type": "markdown",
      "metadata": {},
      "source": [
        "The binding of NAD+ to the protein yeast glyceraldehyde 3-phosphate\n",
        "dehydrogenase (GAPDH) was studied using equilibrium dialysis. The enzyme\n",
        "concentration was 71 μM. The concentration of\n",
        "$[\\text{NAD}^{+}_\\text{free}]$ and the corresponding values of $\\bar{n}$\n",
        "were determined with the resulting data found in the dataset\n",
        "`deter-type-streng-coope.xlsx`.\n",
        "\n",
        "The dataset consists of three independent repititions of the same\n",
        "experiment.\n",
        "\n",
        "#### (a) Load the dataset\n",
        "\n",
        "Load the dataset using the widget below"
      ],
      "id": "ad6dd009-96f0-4987-965e-23042362e921"
    },
    {
      "cell_type": "code",
      "execution_count": 84,
      "metadata": {},
      "outputs": [],
      "source": [
        "from fysisk_biokemi.widgets import DataUploader\n",
        "from IPython.display import display \n",
        "uploader = DataUploader()\n",
        "uploader.display()"
      ],
      "id": "14566ba3"
    },
    {
      "cell_type": "markdown",
      "metadata": {},
      "source": [
        "Run the next cell **after** uploading the file"
      ],
      "id": "65bef58a-06a7-4811-93b4-c1f2c33bb111"
    },
    {
      "cell_type": "code",
      "execution_count": 85,
      "metadata": {},
      "outputs": [],
      "source": [
        "df = uploader.get_dataframe()\n",
        "display(df)"
      ],
      "id": "3ef642a0"
    },
    {
      "cell_type": "code",
      "execution_count": 86,
      "metadata": {
        "solution": true
      },
      "outputs": [
        {
          "output_type": "display_data",
          "metadata": {},
          "data": {
            "text/html": [
              "\n",
              "<p>9 rows × 4 columns</p>\n",
              "</div>"
            ]
          }
        }
      ],
      "source": [
        "from IPython.display import display \n",
        "from fysisk_biokemi.datasets import load_dataset\n",
        "df = load_dataset('determination_coop_week48') # Load from package for the solution so it doesn't require to interact.\n",
        "display(df)"
      ],
      "id": "f532340c"
    },
    {
      "cell_type": "markdown",
      "metadata": {},
      "source": [
        "#### (b) Averaging and units.\n",
        "\n",
        "Start by adding a new column to the `DataFrame` with the average value\n",
        "of $\\bar{n}$ across the three series\n",
        "\n",
        "> **Tip**\n",
        ">\n",
        "> Remember that you can set a new column based on a computation using\n",
        "> one or more other columns, e.g. \n",
        ">\n",
        "> ``` python\n",
        "> df['new_col'] = df['col1'] + df['col2']\n",
        "> ```"
      ],
      "id": "2d7e22f3-b9b6-4447-ad61-dbe27a485d62"
    },
    {
      "cell_type": "code",
      "execution_count": 88,
      "metadata": {
        "solution": true
      },
      "outputs": [],
      "source": [
        "df['nbar_avg'] = (df['nbar1'] + df['nbar2'] + df['nbar3']) / 3"
      ],
      "id": "c08efea3"
    },
    {
      "cell_type": "markdown",
      "metadata": {},
      "source": [
        "Now also add a column with the ligand concentration in SI units with the\n",
        "column-name `[NAD+free]_(M)`."
      ],
      "id": "e8f64285-3e48-4a46-b076-895e006eb22a"
    },
    {
      "cell_type": "code",
      "execution_count": 90,
      "metadata": {
        "solution": true
      },
      "outputs": [
        {
          "output_type": "display_data",
          "metadata": {},
          "data": {
            "text/html": [
              "\n",
              "<p>9 rows × 6 columns</p>\n",
              "</div>"
            ]
          }
        }
      ],
      "source": [
        "df['[NAD+free]_(M)'] = df['[NAD+free]_(uM)'] * 10**(-6)\n",
        "display(df)"
      ],
      "id": "154e1865"
    },
    {
      "cell_type": "markdown",
      "metadata": {},
      "source": [
        "Finally, set the concentration of the GADPH in SI units"
      ],
      "id": "d4252ef8-6cc4-475d-8adf-87b47f2a54d8"
    },
    {
      "cell_type": "code",
      "execution_count": 91,
      "metadata": {},
      "outputs": [],
      "source": [
        " c_gadph = 71 * 10**(-6)"
      ],
      "id": "b935c3f9"
    },
    {
      "cell_type": "markdown",
      "metadata": {},
      "source": [
        "#### (c) Plot\n",
        "\n",
        "Make a plot of the average $\\bar{n}$ as a function of\n",
        "$[\\text{NAD}^{+}_\\text{free}]$."
      ],
      "id": "3597d98c-594f-40a5-8b7f-348af70583aa"
    },
    {
      "cell_type": "code",
      "execution_count": 93,
      "metadata": {
        "solution": true
      },
      "outputs": [
        {
          "output_type": "display_data",
          "metadata": {},
          "data": {
            "image/png": "[encoded data removed]"
          }
        }
      ],
      "source": [
        "fig, ax = plt.subplots(figsize=(8, 4))\n",
        "\n",
        "ax.plot(df['[NAD+free]_(M)'], df['nbar_avg'], 'o')\n",
        "ax.set_xlabel(r'$[\\text{NAD}^{+}_\\text{free}]$', fontsize=14)\n",
        "ax.set_ylabel(r'$\\bar{n}$', fontsize=14)\n",
        "plt.show()"
      ],
      "id": "943b8a65"
    },
    {
      "cell_type": "markdown",
      "metadata": {},
      "source": [
        "#### (d) Scatchard plot\n",
        "\n",
        "Make a Scatchard plot based on the average $\\bar{n}$."
      ],
      "id": "7f5dafc7-547e-486d-b3d9-2a9bff4d38d1"
    },
    {
      "cell_type": "code",
      "execution_count": 95,
      "metadata": {
        "solution": true
      },
      "outputs": [
        {
          "output_type": "display_data",
          "metadata": {},
          "data": {
            "image/png": "[encoded data removed]"
          }
        }
      ],
      "source": [
        "# Calculate nbar / L \n",
        "nbar_over_L = df['nbar_avg'] / df['[NAD+free]_(M)']\n",
        "\n",
        "fig, ax = plt.subplots(figsize=(6, 4)) \n",
        "ax.plot(df['nbar_avg'], nbar_over_L, 'o')\n",
        "ax.set_xlabel(r'$\\bar{n}$', fontsize=14)\n",
        "ax.set_ylabel(r'$\\bar{n}/L$', fontsize=14)\n",
        "ax.set_xlim([0, df['nbar_avg'].max()*1.2])\n",
        "ax.set_ylim([0, nbar_over_L.max() * 1.2])"
      ],
      "id": "18b0174d"
    },
    {
      "cell_type": "markdown",
      "metadata": {},
      "source": [
        "#### (e) Binding sites\n",
        "\n",
        "Estimate by eye how many bindings sites GAPDH contains for\n",
        "$\\text{NAD}^{+}$?\n",
        "\n",
        "#### (f) Cooperativity\n",
        "\n",
        "Based on a visual inspection of the plot above, are there in signs of\n",
        "cooperativity? If so, which kind?\n",
        "\n",
        "#### (g) Fit\n",
        "\n",
        "> **Note**\n",
        ">\n",
        "> The function `np.concatenate` takes a number of arrays and makes a new\n",
        "> array that consisting of the originals one after each other. For\n",
        "> example,\n",
        ">\n",
        "> ``` python\n",
        "> A = np.array([1, 2, 3])\n",
        "> B = np.array([4, 5, 6])\n",
        "> C = np.concatenate([A, B])\n",
        "> print(C)\n",
        "> ```\n",
        ">\n",
        ">     [1 2 3 4 5 6]\n",
        "\n",
        "Make a fit using the functional form\n",
        "\n",
        "$$\n",
        "\\bar{n} = N \\frac{[L]^h}{K_D + [L]^h}\n",
        "$$\n",
        "\n",
        "As usual, start by defining the function in Python"
      ],
      "id": "8acc65ab-9767-4e4c-99ca-9840ca53ecc7"
    },
    {
      "cell_type": "code",
      "execution_count": 97,
      "metadata": {
        "solution": true
      },
      "outputs": [],
      "source": [
        "def n_bar(L, N, k_d, h):\n",
        "    return N * L**h / (k_d + L**h)"
      ],
      "id": "4e4bf477"
    },
    {
      "cell_type": "markdown",
      "metadata": {},
      "source": [
        "Now we can fit"
      ],
      "id": "8cabb729-76a0-4814-9c9e-c128444759e2"
    },
    {
      "cell_type": "code",
      "execution_count": 100,
      "metadata": {
        "solution": true
      },
      "outputs": [
        {
          "output_type": "stream",
          "name": "stdout",
          "text": [
            "N_fit = 4.048\n",
            "k_d_fit = 1.278350e-08\n",
            "h_fit = 1.791"
          ]
        }
      ],
      "source": [
        "from scipy.optimize import curve_fit\n",
        "\n",
        "# Choose the variables from the dataframe\n",
        "x = np.concatenate([df['[NAD+free]_(M)'], df['[NAD+free]_(M)'], df['[NAD+free]_(M)']])\n",
        "y = np.concatenate([df['nbar1'], df['nbar2'], df['nbar3']])\n",
        "\n",
        "# Initial guess\n",
        "p0 = [4, 1*10**(-4), 1]\n",
        "\n",
        "# Bounds\n",
        "bounds = (0, np.inf) # We limit the parameters to be positve.\n",
        "\n",
        "# Curve fit\n",
        "popt, pcov = curve_fit(n_bar, x, y, p0=p0, bounds=bounds)\n",
        "\n",
        "# Print the parameters\n",
        "N_fit, k_d_fit, h_fit = popt\n",
        "print(f\"{N_fit = :.3f}\")\n",
        "print(f\"{k_d_fit = :e}\")\n",
        "print(f\"{h_fit = :.3f}\")"
      ],
      "id": "6c8ab1ae"
    },
    {
      "cell_type": "markdown",
      "metadata": {},
      "source": [
        "Do the fitted parameters support your intuitive reading of the type of\n",
        "kooperativity\n",
        "\n",
        "> **Note**\n",
        ">\n",
        "> In the data sets used, repeated experiments were given as a three\n",
        "> seperate columns, which is a quite natural way of recording data\n",
        "> during an experiment. However, it is not an appropriate format for\n",
        "> regression, where we want all the data-points in a single column. In\n",
        "> this exercise we did a bit of *data wrangling* to make the data\n",
        "> appropriate for what we want to do with it - in this case by creating\n",
        "> a new joint column containing all the data by using the\n",
        "> `np.concatenate` function.\n",
        "\n",
        "------------------------------------------------------------------------\n",
        "\n",
        "## Competition in ligand binding\n",
        "\n",
        "Below is given the general expression for saturation of a binding site\n",
        "by one of the ligands, $L$, when two ligands $L$ and $C$ are competing\n",
        "for binding to the same site on a protein. Assume that $[P_T] = 10^{-9}$\n",
        "$\\mathrm{M}$.\n",
        "\n",
        "$$\n",
        "\\theta_L = \\frac{[PL]}{[P_T]} = \\frac{1}{\\frac{K_D}{[L]}\\left(1 + \\frac{[C]}{K_C}\\right) + 1}\n",
        "$$\n",
        "\n",
        "Consider these four situations\n",
        "\n",
        "| \\# | $K_D$ | $[L_T]$ | $K_C$ | $[C_T]$ |\n",
        "|------|-----------------|-----------------|-----------------|-----------------|\n",
        "| 1 | $1·10^{-5}$ $\\mathrm{M}$ | $1·10^{-3}$ $\\mathrm{M}$ | $1·10^{-6}$ $\\mathrm{M}$ | $0$ |\n",
        "| 2 | $1·10^{-5}$ $\\mathrm{M}$ | $1·10^{-3}$ $\\mathrm{M}$ | $1·10^{-6}$ $\\mathrm{M}$ | $1·10^{-2}$ $\\mathrm{M}$ |\n",
        "| 3 | $1·10^{-5}$ $\\mathrm{M}$ | $1·10^{-3}$ $\\mathrm{M}$ | $1·10^{-5}$ $\\mathrm{M}$ | $1·10^{-3}$ $\\mathrm{M}$ |\n",
        "| 4 | $1·10^{-5}$ $\\mathrm{M}$ | $1·10^{-5}$ $\\mathrm{M}$ | $1·10^{-6}$ $\\mathrm{M}$ | $1·10^{-6}$ $\\mathrm{M}$ |\n",
        "\n",
        "##### (a) Explain simplification\n",
        "\n",
        "Explain how the fact that $[P_T]$ is much smaller than $[L_T]$ and\n",
        "$[C_T]$ simplifies the calculations using the above equation.\n",
        "\n",
        "#### (b) Ligand degree of saturation\n",
        "\n",
        "Calculate the degree of saturation of the protein with ligand $L$ in the\n",
        "four situations.\n",
        "\n",
        "Start by writing a Python function that calculates the degree of\n",
        "saturation $\\theta$."
      ],
      "id": "fd776b85-7733-4839-be78-81632b606289"
    },
    {
      "cell_type": "code",
      "execution_count": 102,
      "metadata": {
        "solution": true
      },
      "outputs": [],
      "source": [
        "def bound_fraction(L, C, Kd, Kc):\n",
        "    return 1 / ((Kd / L)*(1+(C/Kc))+1)"
      ],
      "id": "4eaf7acb"
    },
    {
      "cell_type": "markdown",
      "metadata": {},
      "source": [
        "Then use that function to calculate $\\theta_L$ for each situation."
      ],
      "id": "f4a9253a-10e3-4ee0-b6f1-4c90bf5c6a64"
    },
    {
      "cell_type": "code",
      "execution_count": 104,
      "metadata": {
        "solution": true
      },
      "outputs": [
        {
          "output_type": "stream",
          "name": "stdout",
          "text": [
            "theta_L_1 = 0.990\n",
            "theta_L_2 = 0.010\n",
            "theta_L_3 = 0.498\n",
            "theta_L_4 = 0.333"
          ]
        }
      ],
      "source": [
        "theta_L_1 = bound_fraction(10**(-3), 0, 10**(-5), 10**(-18))\n",
        "theta_L_2 = bound_fraction(10**(-3), 10**(-2), 10**(-5), 10**(-6))\n",
        "theta_L_3 = bound_fraction(10**(-3), 10**(-3), 10**(-5), 10**(-5))\n",
        "theta_L_4 = bound_fraction(10**(-5), 10**(-6), 10**(-5), 10**(-6))\n",
        "print(f\"{theta_L_1 = :.3f}\")\n",
        "print(f\"{theta_L_2 = :.3f}\")\n",
        "print(f\"{theta_L_3 = :.3f}\")\n",
        "print(f\"{theta_L_4 = :.3f}\")"
      ],
      "id": "d9dbee70"
    },
    {
      "cell_type": "markdown",
      "metadata": {},
      "source": [
        "#### (c) Competitor degree of saturation\n",
        "\n",
        "What is the degree of saturation with respect to the competitor $C$ in\n",
        "#1, #2, #3 and #4?"
      ],
      "id": "f215ae11-c0f3-466f-a7e3-6a24627a2e67"
    },
    {
      "cell_type": "code",
      "execution_count": 106,
      "metadata": {
        "solution": true
      },
      "outputs": [
        {
          "output_type": "stream",
          "name": "stdout",
          "text": [
            "theta_C_1 = 0.000\n",
            "theta_C_2 = 0.990\n",
            "theta_C_3 = 0.498\n",
            "theta_C_4 = 0.333"
          ]
        }
      ],
      "source": [
        "theta_C_1 = 0 # [C] = 0\n",
        "theta_C_2 = bound_fraction(10**(-2), 10**(-3), 10**(-6), 10**(-5))\n",
        "theta_C_3 = bound_fraction(10**(-3), 10**(-3), 10**(-5), 10**(-5))\n",
        "theta_C_4 = bound_fraction(10**(-6), 10**(-5), 10**(-6), 10**(-5))\n",
        "\n",
        "print(f\"{theta_C_1 = :.3f}\")\n",
        "print(f\"{theta_C_2 = :.3f}\")\n",
        "print(f\"{theta_C_3 = :.3f}\")\n",
        "print(f\"{theta_C_4 = :.3f}\")"
      ],
      "id": "3d5d4b36"
    },
    {
      "cell_type": "markdown",
      "metadata": {},
      "source": [
        "#### (d) Fraction of $[P_{\\mathrm{free}}]$\n",
        "\n",
        "What is the fraction of $[P_{\\mathrm{free}}]$ in #1, #2, #3 and #4?\n",
        "\n",
        "> **Tip**\n",
        ">\n",
        "> Consider how to express the fraction of $[P_{\\mathrm{free}}]$ in terms\n",
        "> of `theta_L_X` and `theta_C_X`."
      ],
      "id": "f0d0d6ea-1c87-495c-9178-1b86a3a06e38"
    },
    {
      "cell_type": "code",
      "execution_count": 108,
      "metadata": {
        "solution": true
      },
      "outputs": [
        {
          "output_type": "stream",
          "name": "stdout",
          "text": [
            "theta_free_1 = 0.010\n",
            "theta_free_2 = 0.000\n",
            "theta_free_3 = 0.005\n",
            "theta_free_4 = 0.333"
          ]
        }
      ],
      "source": [
        "theta_free_1 = 1 - (theta_L_1 + theta_C_1)\n",
        "theta_free_2 = 1 - (theta_L_2 + theta_C_2)\n",
        "theta_free_3 = 1 - (theta_L_3 + theta_C_3)\n",
        "theta_free_4 = 1 - (theta_L_4 + theta_C_4)\n",
        "\n",
        "print(f\"{theta_free_1 = :.3f}\")\n",
        "print(f\"{theta_free_2 = :.3f}\")\n",
        "print(f\"{theta_free_3 = :.3f}\")\n",
        "print(f\"{theta_free_4 = :.3f}\")"
      ],
      "id": "0228906f"
    },
    {
      "cell_type": "markdown",
      "metadata": {},
      "source": [
        "#### (e) Qualitative analysis\n",
        "\n",
        "Describe in your own words why these four competitive situations end up\n",
        "with their respective binding patterns. Consider the relative\n",
        "concentrations and affinities of ligands L and C.\n",
        "\n",
        "------------------------------------------------------------------------\n",
        "\n",
        "## Difference between $Q$ and $K_{eq}$"
      ],
      "id": "5aeb2fb3-da05-4e8e-bdb5-6aca73c9c851"
    },
    {
      "cell_type": "code",
      "execution_count": 109,
      "metadata": {},
      "outputs": [],
      "source": [
        "import matplotlib.pyplot as plt\n",
        "import pandas as pd\n",
        "pd.set_option('display.max_rows', 6)"
      ],
      "id": "b6978cbc"
    },
    {
      "cell_type": "markdown",
      "metadata": {},
      "source": [
        "Consider the reaction:\n",
        "\n",
        "$$\n",
        "A \\rightleftarrows B\n",
        "$$\n",
        "\n",
        "The time course of the reaction was followed monitoring formation of the\n",
        "product $B$. The starting concentration of $A$ was 50 µM, and as you\n",
        "will learn later in the course, the reversible reaction going from $A$\n",
        "to $B$ follows first order kinetics.\n",
        "\n",
        "#### (a) Load & convert\n",
        "\n",
        "The data is contained in the `diff_q_keq_data.xlsx` file."
      ],
      "id": "7b7ffd8d-53ff-4d48-a9ae-20d2edc24586"
    },
    {
      "cell_type": "code",
      "execution_count": 110,
      "metadata": {},
      "outputs": [],
      "source": [
        "from fysisk_biokemi.widgets import DataUploader\n",
        "from IPython.display import display \n",
        "uploader = DataUploader()\n",
        "uploader.display()"
      ],
      "id": "8d8b6ca1"
    },
    {
      "cell_type": "markdown",
      "metadata": {},
      "source": [
        "Run the next cell **after** uploading the file"
      ],
      "id": "3faae317-79dc-4692-a737-c22ed06cefe1"
    },
    {
      "cell_type": "code",
      "execution_count": 111,
      "metadata": {},
      "outputs": [],
      "source": [
        "df = uploader.get_dataframe()\n",
        "display(df)"
      ],
      "id": "f25650b7"
    },
    {
      "cell_type": "code",
      "execution_count": 112,
      "metadata": {
        "solution": true
      },
      "outputs": [
        {
          "output_type": "display_data",
          "metadata": {},
          "data": {
            "text/html": [
              "\n",
              "<p>36 rows × 2 columns</p>\n",
              "</div>"
            ]
          }
        }
      ],
      "source": [
        "from IPython.display import display \n",
        "from fysisk_biokemi.datasets import load_dataset\n",
        "df = load_dataset('diff_q_keq') # Load from package for the solution so it doesn't require to interact.\n",
        "display(df)"
      ],
      "id": "21920450"
    },
    {
      "cell_type": "markdown",
      "metadata": {},
      "source": [
        "Convert the measured concentrations of $B$, $[B]$, to concentrations in\n",
        "the SI-unit $\\mathrm{M} \\ (\\mathrm{mol/L})$. Repeat for the starting\n",
        "concentration of $A$, $[A]_0$."
      ],
      "id": "98270301-cd71-40e1-8eda-3583bbdc8bc9"
    },
    {
      "cell_type": "code",
      "execution_count": 114,
      "metadata": {
        "solution": true
      },
      "outputs": [],
      "source": [
        "df['[B]_(M)'] = df['[B]_(uM)'] * 10**(-6)\n",
        "A0 = 50 * 10**(-6)"
      ],
      "id": "20480a94"
    },
    {
      "cell_type": "markdown",
      "metadata": {},
      "source": [
        "#### (b) Law of mass balance\n",
        "\n",
        "Use the laws of mass balance to calculate $[A]$ as a function of time in\n",
        "the unit $\\mathrm{M}$, add it as a column to the `DataFrame`"
      ],
      "id": "a376c134-2ada-4540-a142-1f390a8da9d0"
    },
    {
      "cell_type": "code",
      "execution_count": 116,
      "metadata": {
        "solution": true
      },
      "outputs": [],
      "source": [
        "df['[A]_(M)'] = A0 - df['[B]_(M)']"
      ],
      "id": "6c2b901b"
    },
    {
      "cell_type": "markdown",
      "metadata": {},
      "source": [
        "#### (c) Mass action ratio\n",
        "\n",
        "Calculate and plot the mass action ratio $Q$ as a function of time."
      ],
      "id": "06d46b8f-f128-48a4-8845-f9307499a93c"
    },
    {
      "cell_type": "code",
      "execution_count": 119,
      "metadata": {
        "solution": true
      },
      "outputs": [
        {
          "output_type": "display_data",
          "metadata": {},
          "data": {
            "text/plain": [
              "Text(0, 0.5, 'Mass action ratio $Q$')"
            ]
          }
        },
        {
          "output_type": "display_data",
          "metadata": {},
          "data": {
            "image/png": "[encoded data removed]"
          }
        }
      ],
      "source": [
        "Q = df['[B]_(M)'] / df['[A]_(M)']\n",
        "\n",
        "fig, ax = plt.subplots(figsize=(6, 4))\n",
        "\n",
        "ax.plot(df['Time_(min)'], Q)\n",
        "ax.set_xlabel('Time (min)')\n",
        "ax.set_ylabel('Mass action ratio $Q$')"
      ],
      "id": "00da12e0"
    },
    {
      "cell_type": "markdown",
      "metadata": {},
      "source": [
        "#### (d) $Q$ vs $K_{eq}$\n",
        "\n",
        "What is the difference between $Q$ and $K_{eq}$?\n",
        "\n",
        "#### (e) Favoured compound\n",
        "\n",
        "Which of the two compounds $A$ and $B$ is favored at equilibrium?\n",
        "(Favored: highest concentration)\n",
        "\n",
        "#### (f) Equilibrium constant\n",
        "\n",
        "What is the equilibrium constant of this reaction?\n",
        "\n",
        "#### (g) Reequilibriate\n",
        "\n",
        "Assume that an additional $10 \\times 10^{-6} \\mathrm{M}$ $A$ is added at\n",
        "timepoint, $t=35$ min. What is the concentrations of $A$ and $B$ when\n",
        "equilibrium has been reached again say at $t > 70$ min?\n",
        "\n",
        " \n",
        "\n",
        "------------------------------------------------------------------------\n",
        "\n",
        "## Determination of ΔH° for a reaction from the van’t Hoff plot."
      ],
      "id": "7ec65db5-51a3-429b-8bce-fd280324739c"
    },
    {
      "cell_type": "code",
      "execution_count": 120,
      "metadata": {},
      "outputs": [],
      "source": [
        "import matplotlib.pyplot as plt\n",
        "from scipy.optimize import curve_fit\n",
        "import numpy as np"
      ],
      "id": "2f6c4ca8"
    },
    {
      "cell_type": "markdown",
      "metadata": {},
      "source": [
        "The equilibrium constant for a reversible reaction going from $A$ to $B$\n",
        "was measured as a function of temperature.\n",
        "\n",
        "The data obtained is given in the Excel document\n",
        "`deter_delta_h_data.xlsx` - load the data with the widget"
      ],
      "id": "2775e754-0e0f-41b9-835b-22e3847318e9"
    },
    {
      "cell_type": "code",
      "execution_count": 121,
      "metadata": {},
      "outputs": [],
      "source": [
        "from fysisk_biokemi.widgets import DataUploader\n",
        "from IPython.display import display \n",
        "uploader = DataUploader()\n",
        "uploader.display()"
      ],
      "id": "bf12ddca"
    },
    {
      "cell_type": "markdown",
      "metadata": {},
      "source": [
        "Run the next cell **after** uploading the file"
      ],
      "id": "cf8fef26-910d-4b69-a61c-42443f102af9"
    },
    {
      "cell_type": "code",
      "execution_count": 122,
      "metadata": {},
      "outputs": [],
      "source": [
        "df = uploader.get_dataframe()\n",
        "display(df)"
      ],
      "id": "80bb423a"
    },
    {
      "cell_type": "code",
      "execution_count": 123,
      "metadata": {
        "solution": true
      },
      "outputs": [
        {
          "output_type": "display_data",
          "metadata": {},
          "data": {
            "text/html": [
              "\n",
              "</div>"
            ]
          }
        }
      ],
      "source": [
        "from IPython.display import display \n",
        "from fysisk_biokemi.datasets import load_dataset\n",
        "df = load_dataset('deter_delta_h') # Load from package for the solution so it doesn't require to interact.\n",
        "display(df)"
      ],
      "id": "06aa03b9"
    },
    {
      "cell_type": "markdown",
      "metadata": {},
      "source": [
        "#### (a) Transform & plot the data\n",
        "\n",
        "> **Tip**\n",
        ">\n",
        "> In NumPy the `np.log` function calculates the natural logarithm that\n",
        "> we often write as $\\ln$ and `np.log10` calculates the base 10\n",
        "> logarithm.\n",
        "\n",
        "Add new columns to the `DataFrame` containing $\\ln(K_{eq})$ and $1/T$\n",
        "and make a plot with $1/T$ on the x-axis and $\\ln(K_{eq})$ on the\n",
        "y-axis."
      ],
      "id": "e9f3d0b4-a3a7-4fd1-a429-2375992824c8"
    },
    {
      "cell_type": "code",
      "execution_count": 125,
      "metadata": {
        "solution": true
      },
      "outputs": [],
      "source": [
        "df['1/T'] = 1/df['T_(K)']\n",
        "df['ln_Keq'] = np.log(df['Keq'])"
      ],
      "id": "ac3bdcf1"
    },
    {
      "cell_type": "markdown",
      "metadata": {},
      "source": [
        "Now you can make the plot in the cell below"
      ],
      "id": "c3a56f23-5a02-4bd5-a40b-5a463ff3ec78"
    },
    {
      "cell_type": "code",
      "execution_count": 127,
      "metadata": {
        "solution": true
      },
      "outputs": [
        {
          "output_type": "display_data",
          "metadata": {},
          "data": {
            "image/png": "[encoded data removed]"
          }
        }
      ],
      "source": [
        "fig, ax = plt.subplots(figsize=(6, 4))\n",
        "\n",
        "ax.plot(df['1/T'], df['ln_Keq'], 'o')\n",
        "ax.set_xlabel(r'1/T [K]')\n",
        "ax.set_ylabel(r'$\\ln(K_{eq})$')\n",
        "plt.show()"
      ],
      "id": "d4037588"
    },
    {
      "cell_type": "markdown",
      "metadata": {},
      "source": [
        "#### (b) Fit trendline\n",
        "\n",
        "Make a linear trendline by fitting a linear function to the data.\n",
        "\n",
        "Start by defining a linear function"
      ],
      "id": "13fa8909-a67c-493f-8993-b02a24a1eac6"
    },
    {
      "cell_type": "code",
      "execution_count": 129,
      "metadata": {
        "solution": true
      },
      "outputs": [],
      "source": [
        "def vant_hoff(T, a, b):\n",
        "    return a * T + b"
      ],
      "id": "88a82742"
    },
    {
      "cell_type": "code",
      "execution_count": 131,
      "metadata": {
        "solution": true
      },
      "outputs": [
        {
          "output_type": "stream",
          "name": "stdout",
          "text": [
            "-599.018\n",
            "1.976"
          ]
        }
      ],
      "source": [
        "popt, pcov = curve_fit(vant_hoff, df['1/T'], df['ln_Keq'])\n",
        "a, b = popt\n",
        "\n",
        "print(f\"{a:.3f}\")\n",
        "print(f\"{b:.3f}\")"
      ],
      "id": "564d89bc"
    },
    {
      "cell_type": "markdown",
      "metadata": {},
      "source": [
        "Then make a plot with the trendline added"
      ],
      "id": "3a48ce47-a990-41dd-874a-3c7cb1a6127b"
    },
    {
      "cell_type": "code",
      "execution_count": 133,
      "metadata": {
        "solution": true
      },
      "outputs": [
        {
          "output_type": "display_data",
          "metadata": {},
          "data": {
            "image/png": "[encoded data removed]"
          }
        }
      ],
      "source": [
        "fig, ax = plt.subplots(figsize=(6, 4))\n",
        "T_trend = np.array([df['1/T'].min(), df['1/T'].max()])\n",
        "\n",
        "ax.plot(df['1/T'], df['ln_Keq'], 'o')\n",
        "ax.plot(T_trend, vant_hoff(T_trend, a, b))\n",
        "\n",
        "ax.set_xlabel('1/T [K]')\n",
        "ax.set_ylabel(r'$\\ln(K_{eq})$')\n",
        "plt.show()"
      ],
      "id": "1f1577d8"
    },
    {
      "cell_type": "markdown",
      "metadata": {},
      "source": [
        "#### (c) Reaction type\n",
        "\n",
        "Calculate the reaction enthalpy and entropy, at $T = 298 \\ \\mathrm{K}$,\n",
        "assuming that\n",
        "$R = 8.314472 \\times 10^{-3} \\ \\frac{\\mathrm{kJ}}{\\mathrm{mol}\\cdot\\mathrm{K}}$.\n",
        "Is the reaction endo- or exothermic?"
      ],
      "id": "ab0376d5-454d-4719-bf4c-c03b585591db"
    },
    {
      "cell_type": "code",
      "execution_count": 134,
      "metadata": {
        "solution": true
      },
      "outputs": [
        {
          "output_type": "stream",
          "name": "stdout",
          "text": [
            "dH = 4.981\n",
            "dS = 0.016"
          ]
        }
      ],
      "source": [
        "# Define your known values:\n",
        "R = 8.314472 * 10**(-3)\n",
        "T = 298\n",
        "\n",
        "dH = -R * a\n",
        "dS = R * b\n",
        "\n",
        "print(f\"{dH = :.3f}\")\n",
        "print(f\"{dS = :.3f}\")"
      ],
      "id": "2d91afb3"
    },
    {
      "cell_type": "markdown",
      "metadata": {},
      "source": [
        "#### (d) Free energy change\n",
        "\n",
        "Calculate the free energy change, $\\Delta G^\\circ$, at\n",
        "$T = 298 \\ \\mathrm{K}$, assuming that\n",
        "$R = 8.314472 \\times 10^{-3} \\ \\frac{\\mathrm{kJ}}{\\mathrm{mol}\\cdot\\mathrm{K}}$"
      ],
      "id": "54cc0c27-6610-473f-9cc0-bda15f1d53a5"
    },
    {
      "cell_type": "code",
      "execution_count": 137,
      "metadata": {
        "solution": true
      },
      "outputs": [
        {
          "output_type": "stream",
          "name": "stdout",
          "text": [
            "dH = 4.981\n",
            "dS = 0.016\n",
            "dG = 0.085"
          ]
        }
      ],
      "source": [
        "dG = dH - T * dS\n",
        "\n",
        "print(f\"{dH = :.3f}\")\n",
        "print(f\"{dS = :.3f}\")\n",
        "print(f\"{dG = :.3f}\")"
      ],
      "id": "bbc3061b"
    },
    {
      "cell_type": "markdown",
      "metadata": {},
      "source": [
        "------------------------------------------------------------------------\n",
        "\n",
        "## ATP hydrolysis"
      ],
      "id": "b84b2654-6839-4a99-bab4-a8755648852c"
    },
    {
      "cell_type": "code",
      "execution_count": 138,
      "metadata": {},
      "outputs": [],
      "source": [
        "import numpy as np"
      ],
      "id": "8b85e011"
    },
    {
      "cell_type": "markdown",
      "metadata": {},
      "source": [
        "Below is shown the structure of ATP.\n",
        "\n",
        "$\\Delta G^\\circ$ for the hydrolysis of ATP to ADP and Pi is\n",
        "$-30.5 \\ \\mathrm{kJ/mol}$.\n",
        "\n",
        "![](https://raw.githubusercontent.com/au-mbg/fysisk-biokemi/refs/heads/main/course/lessons/figures/atp_structure.png)\n",
        "\n",
        "#### (a) $\\Delta G$\n",
        "\n",
        "In cells at $298 \\ \\mathrm{K}$ the steady state concentrations of ATP,\n",
        "ADP og Pi resulted in a value for the reaction quotient\n",
        "$Q = \\frac{\\mathrm{[ADP]}[\\mathrm{Pi}]}{[\\mathrm{ATP}]} = 0.002$.\n",
        "Calculate ΔG’ under these conditions."
      ],
      "id": "b3b0436f-3b94-4be9-9ac8-fe6ee909b2e7"
    },
    {
      "cell_type": "code",
      "execution_count": 140,
      "metadata": {
        "solution": true
      },
      "outputs": [
        {
          "output_type": "stream",
          "name": "stdout",
          "text": [
            "-45.89713901562406"
          ]
        }
      ],
      "source": [
        "# Known values:\n",
        "Q = 0.002\n",
        "T = 298 # K\n",
        "dG_std = -30.5 # kJ / mol\n",
        "R = 8.314 * 10**(-3) # kJ /(mol K)\n",
        "\n",
        "# Calculation:\n",
        "dG = dG_std + R*T*np.log(Q)\n",
        "print(dG)"
      ],
      "id": "1f24336d"
    },
    {
      "cell_type": "markdown",
      "metadata": {},
      "source": [
        "#### (b) Equilibrium or not?\n",
        "\n",
        "Assuming that the temperature within these cells is $298 \\ \\mathrm{K}$,\n",
        "are these cells in equilibrium with respect to the hydrolysis of ATP?\n",
        "\n",
        "#### (c) ATP synthesized\n",
        "\n",
        "Calculate the number of moles of ATP synthesized by a resting person in\n",
        "a period of 24 hours, assuming that the energy consumption by this\n",
        "person is $8368 \\ \\mathrm{kJ}$ per 24 hours and that 40% of this energy\n",
        "is converted directly into ATP without loss of energy. Use the ΔG’ value\n",
        "calculated in question a, and assume that $298 \\ \\mathrm{K}$."
      ],
      "id": "0116134c-4db9-44b1-9903-141fbcfac4ad"
    },
    {
      "cell_type": "code",
      "execution_count": 142,
      "metadata": {
        "solution": true
      },
      "outputs": [
        {
          "output_type": "stream",
          "name": "stdout",
          "text": [
            "72.92829295657326"
          ]
        }
      ],
      "source": [
        "energy_atp = 0.4 * 8368 # kJ\n",
        "synth_atp = energy_atp / np.absolute(dG)\n",
        "print(synth_atp)"
      ],
      "id": "7772bc70"
    },
    {
      "cell_type": "markdown",
      "metadata": {},
      "source": [
        "> **Tip**\n",
        ">\n",
        "> You can use `np.absolute` to calculate the absolute value of a number.\n",
        "\n",
        "#### (d) Turnover\n",
        "\n",
        "Next, calculate the average number of times each ATP molecule is turned\n",
        "over (synthesis followed by hydrolysis) in 24 hours when the total\n",
        "amount of ATP in the body equals $0.2 \\ \\mathrm{mol}$."
      ],
      "id": "0dfeda54-9a9e-4fd5-b6d1-a7b7685aaa7e"
    },
    {
      "cell_type": "code",
      "execution_count": 144,
      "metadata": {
        "solution": true
      },
      "outputs": [
        {
          "output_type": "stream",
          "name": "stdout",
          "text": [
            "364.64146478286625"
          ]
        }
      ],
      "source": [
        "total_atp = 0.2 \n",
        "turn_over = synth_atp / total_atp\n",
        "print(turn_over)"
      ],
      "id": "2fb8343f"
    }
  ],
  "nbformat": 4,
  "nbformat_minor": 5,
  "metadata": {
    "kernelspec": {
      "name": "python3",
      "display_name": "Python 3 (ipykernel)",
      "language": "python",
      "path": "/home/runner/work/fysisk-biokemi/fysisk-biokemi/.venv/share/jupyter/kernels/python3"
    },
    "language_info": {
      "name": "python",
      "codemirror_mode": {
        "name": "ipython",
        "version": "3"
      },
      "file_extension": ".py",
      "mimetype": "text/x-python",
      "nbconvert_exporter": "python",
      "pygments_lexer": "ipython3",
      "version": "3.11.13"
    }
  }
}