{
  "cells": [
    {
      "cell_type": "markdown",
      "metadata": {},
      "source": [
        "# Week 46"
      ],
      "id": "76e39c1f-e235-43d5-b057-4982fed9c986"
    },
    {
      "cell_type": "code",
      "execution_count": 1,
      "metadata": {},
      "outputs": [],
      "source": [
        "try:\n",
        "    import fysisk_biokemi\n",
        "    print(\"Already installed\")\n",
        "except ImportError:\n",
        "    %pip install -q \"fysisk_biokemi[colab] @ git+https://github.com/au-mbg/fysisk-biokemi.git\""
      ],
      "id": "d2c93cdb"
    },
    {
      "cell_type": "code",
      "execution_count": 2,
      "metadata": {},
      "outputs": [],
      "source": [
        "import numpy as np"
      ],
      "id": "b7f0bf77"
    },
    {
      "cell_type": "markdown",
      "metadata": {},
      "source": [
        "## Extinction coefficient of human myoglobin\n",
        "\n",
        "The protein of human myoglobin is given below"
      ],
      "id": "1a20e253-d0f8-4a8f-8616-8ac64ef4382b"
    },
    {
      "cell_type": "code",
      "execution_count": 3,
      "metadata": {},
      "outputs": [],
      "source": [
        "sequence = \"\"\"GLSDGEWQLVLNVWGKVEADIPGHGQEVLIRLFKGHPETLEKFDKFKHLKSEDEMKASEDLKKHGA\n",
        "TVLTALGGILKKKGHHEAEIKPLAQSHATKHKIPVKYLEFISECIIQVLQSKHPGDFGADAQGAMNKALELFRKDMASNY\n",
        "KELGFQG\"\"\""
      ],
      "id": "b7e70e1c"
    },
    {
      "cell_type": "markdown",
      "metadata": {},
      "source": [
        "We want to calculate the *extinction coefficient* of this protein, we\n",
        "have seen that this can be calculated using the formula\n",
        "\n",
        "<span id=\"eq-extinction\">$$\n",
        "\\epsilon(280 \\mathrm{nm}) = N_{Trp} A + N_{Tyr} B + N_{Cys} C \n",
        " \\qquad(1)$$</span>\n",
        "\n",
        "Where $N_{Trp}$ is the number of Tryptophan in the protein (and likewise\n",
        "for the other two terms), and the three constants $A$, $B$ and $C$ are\n",
        "given as\n",
        "\n",
        "$$\n",
        "\\begin{align}\n",
        "A &= 5500 \\ \\mathrm{M^{−1} cm^{−1}} \\\\\n",
        "B &= 1490 \\ \\mathrm{M^{−1} cm^{−1}} \\\\\n",
        "C &= 125 \\ \\mathrm{M^{−1} cm^{−1}}\n",
        "\\end{align}\n",
        "$$\n",
        "\n",
        "In order to calculate the formula we need to know the count of the\n",
        "relevant residues, we can use Python to get that - for example we can\n",
        "count the number of Tryptophan like so;"
      ],
      "id": "95619d57-b131-4527-8c39-35657a7e1bb6"
    },
    {
      "cell_type": "code",
      "execution_count": 4,
      "metadata": {},
      "outputs": [],
      "source": [
        "N_trp = sequence.count(\"W\")"
      ],
      "id": "291235e2"
    },
    {
      "cell_type": "markdown",
      "metadata": {},
      "source": [
        "#### (a) Determine the number of residues\n",
        "\n",
        "In the cell below find the number of residues"
      ],
      "id": "3c3d03f9-1999-4d54-8ef5-270eab0c1e78"
    },
    {
      "cell_type": "code",
      "execution_count": 5,
      "metadata": {
        "solution": true
      },
      "outputs": [],
      "source": [
        "N_tyr = sequence.count(\"Y\")\n",
        "N_cys = sequence.count(\"C\")"
      ],
      "id": "77e93b9c"
    },
    {
      "cell_type": "code",
      "execution_count": 7,
      "metadata": {},
      "outputs": [
        {
          "output_type": "stream",
          "name": "stdout",
          "text": [
            "N_trp = 2\n",
            "N_tyr = 2\n",
            "N_cys = 1"
          ]
        }
      ],
      "source": [
        "print(f\"{N_trp = }\")\n",
        "print(f\"{N_tyr = }\")\n",
        "print(f\"{N_cys = }\")"
      ],
      "id": "e5fd0f35"
    },
    {
      "cell_type": "markdown",
      "metadata": {},
      "source": [
        "#### (b) Calculate the extinction coefficient\n",
        "\n",
        "Use equation\n",
        "(<a href=\"#eq-extinction\" class=\"quarto-xref\">Equation 1</a>) to\n",
        "calculate the extinction coefficient of human myoglobin."
      ],
      "id": "454c3a79-964f-45f1-95b4-09a1d094719d"
    },
    {
      "cell_type": "code",
      "execution_count": 8,
      "metadata": {},
      "outputs": [],
      "source": [
        "A = 5500\n",
        "B = 1490\n",
        "C = 125"
      ],
      "id": "0dba9946"
    },
    {
      "cell_type": "code",
      "execution_count": 10,
      "metadata": {
        "solution": true
      },
      "outputs": [
        {
          "output_type": "stream",
          "name": "stdout",
          "text": [
            "14105"
          ]
        }
      ],
      "source": [
        "epsilon = A * N_trp + B * N_tyr + C*N_cys\n",
        "print(epsilon)"
      ],
      "id": "6bf1d76e"
    },
    {
      "cell_type": "markdown",
      "metadata": {},
      "source": [
        "What are the units of this value?\n",
        "\n",
        "#### (c) Compare residue count to ProtParam\n",
        "\n",
        "ProtParam is an online tool that calculates various physical and\n",
        "chemical parameters from a given protein sequence and is used worldwide\n",
        "in research laboratories.\n",
        "\n",
        "<figure>\n",
        "<img\n",
        "src=\"https://raw.githubusercontent.com/au-mbg/fysisk-biokemi/refs/heads/main/lessons/figures/week_46/protpram_input.png\"\n",
        "alt=\"Protpram tool input page.\" />\n",
        "<figcaption aria-hidden=\"true\">Protpram tool input page.</figcaption>\n",
        "</figure>\n",
        "\n",
        "Go to ProtPram at this link: <https://web.expasy.org/protparam/> and\n",
        "paste the sequence and click **Compute Parameters**. You should then see\n",
        "the calculated parameters, similar to in the image below\n",
        "\n",
        "<figure>\n",
        "<img\n",
        "src=\"https://raw.githubusercontent.com/au-mbg/fysisk-biokemi/refs/heads/main/lessons/figures/week_46/protpram_output.png\"\n",
        "alt=\"Protpram tool calculated properties.\" />\n",
        "<figcaption aria-hidden=\"true\">Protpram tool calculated\n",
        "properties.</figcaption>\n",
        "</figure>\n",
        "\n",
        "On the output page you will see the number of residues, does that match\n",
        "your calculation?\n",
        "\n",
        "#### (d) ProtPram extinction coefficient\n",
        "\n",
        "Scrolling further down you will find that ProtParam also gives the\n",
        "extinction coefficient for the protein. As the absorbance of Cys\n",
        "residues varies slightly dependent on whether disulfide bridges\n",
        "(cystines) are present or not, ProtParam list the extinction coefficient\n",
        "in both reduced and oxidized states of the Cys residues.\n",
        "\n",
        "Consider the following questions\n",
        "\n",
        "-   Why are the extinction coefficients of myoglobin the same whether\n",
        "    cystines are formed or not?\n",
        "\n",
        "-   Does the extinction coefficient computed in ProtParam match the\n",
        "    value you have calculated?\n",
        "\n",
        "#### (e) Calculate the absorbance\n",
        "\n",
        "Using the extinction coefficient and the molecular weight given by\n",
        "ProtParam, calculate the absorbance at 280 nm of a myoglobin solution at\n",
        "a concentration of 1 mg/mL in a cuvette with a light path of 1 cm."
      ],
      "id": "ff9d8b07-0987-4cef-b93e-7f14d7a8045f"
    },
    {
      "cell_type": "code",
      "execution_count": 11,
      "metadata": {
        "solution": true
      },
      "outputs": [],
      "source": [
        "molecular_weight = 17052.61 \n",
        "path_length = 1 # cm \n",
        "concentration = 1 # mg/mL"
      ],
      "id": "d562d134"
    },
    {
      "cell_type": "markdown",
      "metadata": {},
      "source": [
        "Remember to convert the concentration to $\\mathrm{mol/L}$."
      ],
      "id": "48ca885e-1bf5-40fa-8fc1-6fafafff771a"
    },
    {
      "cell_type": "code",
      "execution_count": 14,
      "metadata": {
        "solution": true
      },
      "outputs": [
        {
          "output_type": "stream",
          "name": "stdout",
          "text": [
            "0.827146108425631"
          ]
        }
      ],
      "source": [
        "A280 = concentration / molecular_weight * path_length * epsilon\n",
        "print(A280)"
      ],
      "id": "ee3f9254"
    },
    {
      "cell_type": "markdown",
      "metadata": {},
      "source": [
        "This value is what is known as the A280(0.1%) of a protein, i.e. the\n",
        "absorbance of a given protein at a concentration of 0.1% weight/volume\n",
        "(= 1 g/L = 1 mg/mL).\n",
        "\n",
        "#### (f) Compare the absorbance to Protpram\n",
        "\n",
        "Does the number reported by ProtParam correspond to the number you just\n",
        "calculated in (e)?\n",
        "\n",
        "------------------------------------------------------------------------\n",
        "\n",
        "## Average properties of amino acids and proteins.\n",
        "\n",
        "In the accompanying Excel file (`AA_frequency.xlsx`), you will find a\n",
        "tablet that contains the molecular weight of the 20 common amino acid\n",
        "residues, i.e. their weight as residues in a peptide chain.\n",
        "Additionally, you will find their relative frequency in E. coli\n",
        "proteins, where a frequency of 0.01 means that this residue constitutes\n",
        "1 % of the residues in a protein.\n",
        "\n",
        "#### (a) Load the data file.\n",
        "\n",
        "Use the widget below to load the `AA_frequency.xlsx` file."
      ],
      "id": "f122ba28-8cce-47e8-8f6b-cf40b3c753cd"
    },
    {
      "cell_type": "code",
      "execution_count": 15,
      "metadata": {},
      "outputs": [
        {
          "output_type": "display_data",
          "metadata": {},
          "data": {
            "application/vnd.jupyter.widget-view+json": {
              "model_id": "453b4fe7427a4de88fddfccf9eb708db",
              "version_major": 2,
              "version_minor": 0
            }
          }
        },
        {
          "output_type": "display_data",
          "metadata": {},
          "data": {
            "application/vnd.jupyter.widget-view+json": {
              "model_id": "f8205ec687a64e5bb3764fe6f0e3f322",
              "version_major": 2,
              "version_minor": 0
            }
          }
        }
      ],
      "source": [
        "from IPython.display import display \n",
        "from fysisk_biokemi.widgets import DataUploader\n",
        "uploader = DataUploader()\n",
        "uploader.display()"
      ],
      "id": "dbe3f56c"
    },
    {
      "cell_type": "code",
      "execution_count": 16,
      "metadata": {},
      "outputs": [],
      "source": [
        "df = uploader.get_dataframe()\n",
        "display(df)"
      ],
      "id": "d28377e0"
    },
    {
      "cell_type": "code",
      "execution_count": 17,
      "metadata": {
        "solution": true
      },
      "outputs": [
        {
          "output_type": "display_data",
          "metadata": {},
          "data": {
            "text/html": [
              "\n",
              "</div>"
            ]
          }
        }
      ],
      "source": [
        "from IPython.display import display \n",
        "from fysisk_biokemi.datasets import load_dataset\n",
        "df = load_dataset('AA_frequency')\n",
        "display(df)"
      ],
      "id": "a8002561"
    },
    {
      "cell_type": "markdown",
      "metadata": {},
      "source": [
        "#### (b) Average molecular weight\n",
        "\n",
        "Calculate the average molecular weight of a residue in a protein?\n",
        "\n",
        "> **Tip**\n",
        ">\n",
        "> You can use `np.sum` to sum all values in an array."
      ],
      "id": "1efe88d9-5f18-4933-a700-686e8445a421"
    },
    {
      "cell_type": "code",
      "execution_count": 19,
      "metadata": {
        "solution": true
      },
      "outputs": [
        {
          "output_type": "stream",
          "name": "stdout",
          "text": [
            "average_mw = 110.566"
          ]
        }
      ],
      "source": [
        "average_mw = np.sum(df['MW of AA residue'] * df['Frequency in proteins'])\n",
        "print(f\"{average_mw = :3.3f}\")"
      ],
      "id": "10aaaf97"
    },
    {
      "cell_type": "markdown",
      "metadata": {},
      "source": [
        "#### (c) Weight of 300-residue protein\n",
        "\n",
        "What would the molecular weight of a 300-residue protein most likely be,\n",
        "if you did not know its sequence?"
      ],
      "id": "08ece907-2c60-419b-a994-08e4c3a5f833"
    },
    {
      "cell_type": "code",
      "execution_count": 21,
      "metadata": {
        "solution": true
      },
      "outputs": [
        {
          "output_type": "stream",
          "name": "stdout",
          "text": [
            "mw_300 = 33169.941"
          ]
        }
      ],
      "source": [
        "mw_300 = average_mw * 300\n",
        "print(f\"{mw_300 = :3.3f}\")"
      ],
      "id": "a9db8622"
    },
    {
      "cell_type": "markdown",
      "metadata": {},
      "source": [
        "------------------------------------------------------------------------\n",
        "\n",
        "In many proteins, you will be working with a mixture of proteins. This\n",
        "could for example be a cell lysate or a biological fluid for protein\n",
        "abundance analysis, or the early stages of a protein purification\n",
        "process. In these situations, you cannot work with a molecule specific\n",
        "extinction coefficient. Instead, we would use the average values, which\n",
        "we will determine below.\n",
        "\n",
        "------------------------------------------------------------------------\n",
        "\n",
        "#### (d) Average concentration of residues\n",
        "\n",
        "Calculate the average concentration of amino acid residues in a protein\n",
        "mixture at 1 mg/mL."
      ],
      "id": "6a3b6ea3-fdb3-4fb6-8473-2fcf77e741f2"
    },
    {
      "cell_type": "code",
      "execution_count": 23,
      "metadata": {
        "solution": true
      },
      "outputs": [
        {
          "output_type": "stream",
          "name": "stdout",
          "text": [
            "c_residue_avg = 0.009 M"
          ]
        }
      ],
      "source": [
        "c_residue_avg = 1 / average_mw\n",
        "print(f\"{c_residue_avg = :3.3f} M\")"
      ],
      "id": "39b1b76a"
    },
    {
      "cell_type": "markdown",
      "metadata": {},
      "source": [
        "#### (e) Absorbance\n",
        "\n",
        "Calculate the absorbance from such a mixture under the assumption that\n",
        "only Trp and Tyr contribute."
      ],
      "id": "fc5c45bc-b00e-49b7-a7f9-869e0c59f8a7"
    },
    {
      "cell_type": "code",
      "execution_count": 25,
      "metadata": {
        "solution": true
      },
      "outputs": [
        {
          "output_type": "stream",
          "name": "stdout",
          "text": [
            "c_trp = 0.00012\n",
            "c_tyr = 0.00030"
          ]
        }
      ],
      "source": [
        "freq = df.set_index(\"Name\")[\"Frequency in proteins\"]\n",
        "f_trp = freq[\"Tryptophan (Trp/W)\"]\n",
        "f_tyr = freq[\"Tyrosine (Tyr/Y)\"]\n",
        "\n",
        "c_trp = c_residue_avg * f_trp\n",
        "c_tyr = c_residue_avg * f_tyr\n",
        "print(f\"{c_trp = :3.5f}\")\n",
        "print(f\"{c_tyr = :3.5f}\")"
      ],
      "id": "79b1a7e7"
    },
    {
      "cell_type": "code",
      "execution_count": 27,
      "metadata": {
        "solution": true
      },
      "outputs": [
        {
          "output_type": "stream",
          "name": "stdout",
          "text": [
            "A280 = 1.091"
          ]
        }
      ],
      "source": [
        "L = 1 # Path length\n",
        "A280 = L * (5500 * c_trp + 1490 * c_tyr)\n",
        "print(f\"{A280 = :3.3f}\")"
      ],
      "id": "e7b7839b"
    },
    {
      "cell_type": "markdown",
      "metadata": {},
      "source": [
        "#### (f) Adsorbance $\\rightarrow$ concentration\n",
        "\n",
        "For a cell lysate, you measure and absorbance of 0.78 at a path length\n",
        "of 0.5 cm. What is the protein concentration?"
      ],
      "id": "ab1a9551-10c0-4459-a7e5-a75635c63cca"
    },
    {
      "cell_type": "code",
      "execution_count": 29,
      "metadata": {
        "solution": true
      },
      "outputs": [
        {
          "output_type": "stream",
          "name": "stdout",
          "text": [
            "Protein concentration = 1.429 mg/mL"
          ]
        }
      ],
      "source": [
        "# Set known values:\n",
        "A = 0.78 # Unitless\n",
        "l = 0.5 # cm\n",
        "\n",
        "# Extract frequencies\n",
        "freq = df.set_index(\"Name\")[\"Frequency in proteins\"]\n",
        "f_trp = freq[\"Tryptophan (Trp/W)\"]\n",
        "f_tyr = freq[\"Tyrosine (Tyr/Y)\"]\n",
        "\n",
        "# Calculate extintinction coefficent in [L/(mol cm)]\n",
        "eps_mix = 5500 * f_trp + 1490 * f_tyr\n",
        "# Calculate molar concentration\n",
        "c_res = A / (l * eps_mix) # [mol/L]\n",
        "# Calculate concentration:\n",
        "conc_mg_per_mL = c_res * average_mw # [g/mol] = [mg/mL] because mw is [g/mol]\n",
        "print(f\"Protein concentration = {conc_mg_per_mL:.3f} mg/mL\")"
      ],
      "id": "080cd6f1"
    }
  ],
  "nbformat": 4,
  "nbformat_minor": 5,
  "metadata": {
    "kernelspec": {
      "name": "python3",
      "display_name": "Python 3 (ipykernel)",
      "language": "python",
      "path": "/home/runner/work/fysisk-biokemi/fysisk-biokemi/.venv/share/jupyter/kernels/python3"
    },
    "language_info": {
      "name": "python",
      "codemirror_mode": {
        "name": "ipython",
        "version": "3"
      },
      "file_extension": ".py",
      "mimetype": "text/x-python",
      "nbconvert_exporter": "python",
      "pygments_lexer": "ipython3",
      "version": "3.11.13"
    },
    "widgets": {
      "application/vnd.jupyter.widget-state+json": {
        "state": {
          "42dc82097500478485fec2f759405ee9": {
            "model_module": "@jupyter-widgets/base",
            "model_module_version": "1.2.0",
            "model_name": "LayoutModel",
            "state": {
              "_model_module": "@jupyter-widgets/base",
              "_model_module_version": "1.2.0",
              "_model_name": "LayoutModel",
              "_view_count": null,
              "_view_module": "@jupyter-widgets/base",
              "_view_module_version": "1.2.0",
              "_view_name": "LayoutView",
              "align_content": null,
              "align_items": null,
              "align_self": null,
              "border": null,
              "bottom": null,
              "display": null,
              "flex": null,
              "flex_flow": null,
              "grid_area": null,
              "grid_auto_columns": null,
              "grid_auto_flow": null,
              "grid_auto_rows": null,
              "grid_column": null,
              "grid_gap": null,
              "grid_row": null,
              "grid_template_areas": null,
              "grid_template_columns": null,
              "grid_template_rows": null,
              "height": null,
              "justify_content": null,
              "justify_items": null,
              "left": null,
              "margin": null,
              "max_height": null,
              "max_width": null,
              "min_height": null,
              "min_width": null,
              "object_fit": null,
              "object_position": null,
              "order": null,
              "overflow": null,
              "overflow_x": null,
              "overflow_y": null,
              "padding": null,
              "right": null,
              "top": null,
              "visibility": null,
              "width": null
            }
          },
          "453b4fe7427a4de88fddfccf9eb708db": {
            "model_module": "@jupyter-widgets/controls",
            "model_module_version": "1.5.0",
            "model_name": "FileUploadModel",
            "state": {
              "_counter": 0,
              "_dom_classes": [],
              "_model_module": "@jupyter-widgets/controls",
              "_model_module_version": "1.5.0",
              "_model_name": "FileUploadModel",
              "_view_count": null,
              "_view_module": "@jupyter-widgets/controls",
              "_view_module_version": "1.5.0",
              "_view_name": "FileUploadView",
              "accept": "",
              "button_style": "",
              "data": [],
              "description": "Upload",
              "description_tooltip": null,
              "disabled": false,
              "error": "",
              "icon": "upload",
              "layout": "IPY_MODEL_42dc82097500478485fec2f759405ee9",
              "metadata": [],
              "multiple": false,
              "style": "IPY_MODEL_dd31c33474d34f0a9865d1b336936822"
            }
          },
          "5eb3b6bec5944769b3c2f87c0a06f9a5": {
            "model_module": "@jupyter-widgets/base",
            "model_module_version": "1.2.0",
            "model_name": "LayoutModel",
            "state": {
              "_model_module": "@jupyter-widgets/base",
              "_model_module_version": "1.2.0",
              "_model_name": "LayoutModel",
              "_view_count": null,
              "_view_module": "@jupyter-widgets/base",
              "_view_module_version": "1.2.0",
              "_view_name": "LayoutView",
              "align_content": null,
              "align_items": null,
              "align_self": null,
              "border": null,
              "bottom": null,
              "display": null,
              "flex": null,
              "flex_flow": null,
              "grid_area": null,
              "grid_auto_columns": null,
              "grid_auto_flow": null,
              "grid_auto_rows": null,
              "grid_column": null,
              "grid_gap": null,
              "grid_row": null,
              "grid_template_areas": null,
              "grid_template_columns": null,
              "grid_template_rows": null,
              "height": null,
              "justify_content": null,
              "justify_items": null,
              "left": null,
              "margin": null,
              "max_height": null,
              "max_width": null,
              "min_height": null,
              "min_width": null,
              "object_fit": null,
              "object_position": null,
              "order": null,
              "overflow": null,
              "overflow_x": null,
              "overflow_y": null,
              "padding": null,
              "right": null,
              "top": null,
              "visibility": null,
              "width": null
            }
          },
          "dd31c33474d34f0a9865d1b336936822": {
            "model_module": "@jupyter-widgets/controls",
            "model_module_version": "1.5.0",
            "model_name": "ButtonStyleModel",
            "state": {
              "_model_module": "@jupyter-widgets/controls",
              "_model_module_version": "1.5.0",
              "_model_name": "ButtonStyleModel",
              "_view_count": null,
              "_view_module": "@jupyter-widgets/base",
              "_view_module_version": "1.2.0",
              "_view_name": "StyleView",
              "button_color": null,
              "font_weight": ""
            }
          },
          "f8205ec687a64e5bb3764fe6f0e3f322": {
            "model_module": "@jupyter-widgets/output",
            "model_module_version": "1.0.0",
            "model_name": "OutputModel",
            "state": {
              "_dom_classes": [],
              "_model_module": "@jupyter-widgets/output",
              "_model_module_version": "1.0.0",
              "_model_name": "OutputModel",
              "_view_count": null,
              "_view_module": "@jupyter-widgets/output",
              "_view_module_version": "1.0.0",
              "_view_name": "OutputView",
              "layout": "IPY_MODEL_5eb3b6bec5944769b3c2f87c0a06f9a5",
              "msg_id": "",
              "outputs": []
            }
          }
        },
        "version_major": 2,
        "version_minor": 0
      }
    }
  }
}