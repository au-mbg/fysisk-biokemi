{
  "cells": [
    {
      "cell_type": "markdown",
      "metadata": {},
      "source": [
        "# Week 45"
      ],
      "id": "dcca71b0-6d0e-4ccd-9224-8508b40a0fae"
    },
    {
      "cell_type": "code",
      "execution_count": 1,
      "metadata": {},
      "outputs": [],
      "source": [
        "try:\n",
        "    import fysisk_biokemi\n",
        "    print(\"Already installed\")\n",
        "except ImportError:\n",
        "    %pip install -q \"fysisk_biokemi[colab] @ git+https://github.com/au-mbg/fysisk-biokemi.git\""
      ],
      "id": "faaac1d3"
    },
    {
      "cell_type": "markdown",
      "metadata": {},
      "source": [
        "------------------------------------------------------------------------\n",
        "\n",
        "## Python: Calculations"
      ],
      "id": "431ce6f1-a912-4ceb-a1a1-525224df8c3e"
    },
    {
      "cell_type": "code",
      "execution_count": 2,
      "metadata": {},
      "outputs": [],
      "source": [
        "import numpy as np"
      ],
      "id": "9a2cacce"
    },
    {
      "cell_type": "markdown",
      "metadata": {},
      "source": [
        "#### (a) Simple calculations\n",
        "\n",
        "Evaluate the following expressions using Python\n",
        "\n",
        "-   $10.5 \\times 4$\n",
        "-   $5 + 10 + 15 + 12$\n",
        "-   $70 - 30 + 2$\n",
        "-   $420 / 10$\n",
        "\n",
        "> **Tip**\n",
        ">\n",
        "> Recall that the basic arithemetic operations are, in Python,\n",
        "> represented as follows\n",
        ">\n",
        "> -   $+ \\Rightarrow$ `+`\n",
        "> -   $- \\Rightarrow$ `-`\n",
        "> -   $/ \\Rightarrow$ `/`\n",
        "> -   $\\times \\Rightarrow$ `*`\n",
        "> -   $x^y \\Rightarrow$ `x**y`"
      ],
      "id": "6fe3dc65-b2ee-44c0-bb01-a7d2355cc0e6"
    },
    {
      "cell_type": "code",
      "execution_count": 4,
      "metadata": {
        "solution": true
      },
      "outputs": [
        {
          "output_type": "display_data",
          "metadata": {},
          "data": {
            "text/plain": [
              "42.0"
            ]
          }
        }
      ],
      "source": [
        "10.5 * 4\n",
        "5 + 10 + 15 + 12\n",
        "70 - 30 + 2 \n",
        "420 / 10"
      ],
      "id": "df88f8e4"
    },
    {
      "cell_type": "markdown",
      "metadata": {},
      "source": [
        "#### (b) Array calculations\n",
        "\n",
        "The cell below defines an array $a$ with all the numbers from 0 to 9.\n",
        "\n",
        "For each entry $a_i$ in the array calculate the expression\n",
        "$b_i = a_i / 3 + a_i^2$ and assign that to a new array $b$. use the fact\n",
        "that you can do elementwise operations with an array - do not calculate\n",
        "it seperately for every element of the array."
      ],
      "id": "affbfdb0-4b99-4457-96d9-424ea1095ac4"
    },
    {
      "cell_type": "code",
      "execution_count": 5,
      "metadata": {},
      "outputs": [],
      "source": [
        "a = np.arange(0, 10)"
      ],
      "id": "951028a6"
    },
    {
      "cell_type": "code",
      "execution_count": 7,
      "metadata": {
        "solution": true
      },
      "outputs": [
        {
          "output_type": "stream",
          "name": "stdout",
          "text": [
            "[ 0.          1.33333333  4.66666667 10.         17.33333333 26.66666667\n",
            " 38.         51.33333333 66.66666667 84.        ]"
          ]
        }
      ],
      "source": [
        "b = a / 3 + a**2\n",
        "print(b)"
      ],
      "id": "955ce3fb"
    },
    {
      "cell_type": "markdown",
      "metadata": {},
      "source": [
        "> **Tip**\n",
        ">\n",
        "> With an array all the basic arithemtic operations can do be done\n",
        "> elementwise, so the expression $x^2 + 1$ can be done for all elements\n",
        "> in an array as such\n",
        ">\n",
        "> ``` python\n",
        "> x = np.arange(0, 10)\n",
        "> y = x**2 + 1\n",
        "> ```\n",
        ">\n",
        "> Just like if `x` was just a single number. Similarly, expressions be\n",
        "> involve adding arrays together like\n",
        ">\n",
        "> ``` python\n",
        "> y = x**2 + x\n",
        "> ```\n",
        "\n",
        "#### (c) Variables\n",
        "\n",
        "Variables are an essential part of a program. Calculate the following\n",
        "where each intermediate is assigned to a variable\n",
        "\n",
        "$$\n",
        "\\begin{aligned}\n",
        "a &= 5 \\times 3 \\\\\n",
        "b &= a + 9 \\\\\n",
        "c &= \\frac{4}{3}a + b + 2\n",
        "\\end{aligned}\n",
        "$$"
      ],
      "id": "386b12d5-1187-4c41-97e8-7ce28c1006bd"
    },
    {
      "cell_type": "code",
      "execution_count": 9,
      "metadata": {
        "solution": true
      },
      "outputs": [
        {
          "output_type": "stream",
          "name": "stdout",
          "text": [
            "15 24 42.0"
          ]
        }
      ],
      "source": [
        "a = 5 * 3      \n",
        "b = a + 9      \n",
        "c = 4/3*a + b - 2\n",
        "print(a, b, c)"
      ],
      "id": "f165d2dc"
    },
    {
      "cell_type": "markdown",
      "metadata": {},
      "source": [
        "Bonus question: Why does `c` print as a decimal number when the others\n",
        "print without decimals?\n",
        "\n",
        "#### (d) Parentheses\n",
        "\n",
        "Parentheses a very important, one misplaced parentheses and the universe\n",
        "could have been drastically different - if parenthesis had been missing\n",
        "it is likely the universe would never have existed.\n",
        "\n",
        "Using the variables `a`, `b` and `c` you calculate in the previous\n",
        "exercise, evaluate the following expressions\n",
        "\n",
        "-   $a \\times (b + c)$\n",
        "-   $a \\times b + c$\n",
        "-   $\\frac{a + b + c}{b + c}$\n",
        "-   $(b - a)(\\frac{1}{c} + 1)$\n",
        "-   $(b - a)(\\frac{1}{c+1} + 1)$"
      ],
      "id": "fe091981-0aea-42ed-9583-31d443731f8d"
    },
    {
      "cell_type": "code",
      "execution_count": 11,
      "metadata": {
        "solution": true
      },
      "outputs": [
        {
          "output_type": "stream",
          "name": "stdout",
          "text": [
            "990.0 402.0 1.2272727272727273 9.214285714285714 9.209302325581396"
          ]
        }
      ],
      "source": [
        "q1 = a * (b + c)\n",
        "q2 = a * b + c\n",
        "q3 = (a + b + c) / (b + c)\n",
        "q4 = (b - a)*(1/c + 1)\n",
        "q5 = (b - a)*(1/(c+1)+1)\n",
        "\n",
        "print(q1, q2, q3, q4, q5)"
      ],
      "id": "6efdfa18"
    },
    {
      "cell_type": "markdown",
      "metadata": {},
      "source": [
        "#### (f) Functions\n",
        "\n",
        "For repeated computations it’s good practice to define a function.\n",
        "Define a function that calculates the following expression\n",
        "\n",
        "$$\n",
        "f(x) = \\frac{Ax + B + C}{A + B} \n",
        "$$\n",
        "\n",
        "Where $A = 10$, $B=5$, $C=2.5$"
      ],
      "id": "7f20fb85-35ea-4f88-bbeb-b0c2a8734eaa"
    },
    {
      "cell_type": "code",
      "execution_count": 13,
      "metadata": {
        "solution": true
      },
      "outputs": [],
      "source": [
        "def fun_function(x):\n",
        "    return (10*x + 5 + 2.5) / (10 + 5)"
      ],
      "id": "7c6fd852"
    },
    {
      "cell_type": "markdown",
      "metadata": {},
      "source": [
        "Now evaluate the function for $x = 62.5$,"
      ],
      "id": "716b208a-eedb-4a0a-a365-9870a25b09f0"
    },
    {
      "cell_type": "code",
      "execution_count": 15,
      "metadata": {
        "solution": true
      },
      "outputs": [
        {
          "output_type": "stream",
          "name": "stdout",
          "text": [
            "42.0"
          ]
        }
      ],
      "source": [
        "fun_output = fun_function(62.25)\n",
        "print(fun_output)"
      ],
      "id": "839469be"
    },
    {
      "cell_type": "markdown",
      "metadata": {},
      "source": [
        "------------------------------------------------------------------------\n",
        "\n",
        "## Python: Introduction to plotting"
      ],
      "id": "75839605-4f14-40f7-9cf2-c697120a2288"
    },
    {
      "cell_type": "code",
      "execution_count": 16,
      "metadata": {},
      "outputs": [],
      "source": [
        "import numpy as np\n",
        "import matplotlib.pyplot as plt"
      ],
      "id": "27545f3c"
    },
    {
      "cell_type": "markdown",
      "metadata": {},
      "source": [
        "There are many ways to plot, we will be using the `matplotlib` library -\n",
        "but the concepts are similar across most ways of plotting.\n",
        "\n",
        "We can make a plot of a straight line between two points $(x_1, y_1)$\n",
        "and $(x_2, y_2)$ like so;"
      ],
      "id": "b2d7bc37-7f9f-41f2-b01d-40b37b9640a7"
    },
    {
      "cell_type": "code",
      "execution_count": 17,
      "metadata": {},
      "outputs": [
        {
          "output_type": "display_data",
          "metadata": {},
          "data": {
            "image/png": "[encoded data removed]"
          }
        }
      ],
      "source": [
        "x = np.array([1, 2]) # This array contains all the x-coordinates\n",
        "y = np.array([0, 1]) # And this contains all the y-coordinates.\n",
        "fig, ax = plt.subplots(figsize=(6, 4))\n",
        "ax.plot(x, y)"
      ],
      "id": "c1cffed9"
    },
    {
      "cell_type": "markdown",
      "metadata": {},
      "source": [
        "> **Note**\n",
        ">\n",
        "> `ax` is a special type (like `int`, `float`, `str`), you can think of\n",
        "> it as the box that contains the plot.\n",
        "\n",
        "If we want to connect to a third point $(x_3, y_3)$ we would instead\n",
        "write"
      ],
      "id": "7962deab-bdc4-4fd0-b88e-e4588adec8d3"
    },
    {
      "cell_type": "code",
      "execution_count": 18,
      "metadata": {},
      "outputs": [
        {
          "output_type": "display_data",
          "metadata": {},
          "data": {
            "image/png": "[encoded data removed]"
          }
        }
      ],
      "source": [
        "x = np.array([1, 2, 2.5])\n",
        "y = np.array([0, 1, 2])\n",
        "fig, ax = plt.subplots(figsize=(6, 4))\n",
        "ax.plot(x, y)"
      ],
      "id": "713f42e2"
    },
    {
      "cell_type": "markdown",
      "metadata": {},
      "source": [
        "Notice that with three sets of points we plot **two** line segments.\n",
        "\n",
        "#### (a) Trying to plot a square\n",
        "\n",
        "Make a plot with lines between the following 4\n",
        "\n",
        "-   $P_1 = (0, 0)$\n",
        "-   $P_2 = (1, 0)$\n",
        "-   $P_3 = (1, 1)$\n",
        "-   $P_4 = (0, 1)$\n",
        "\n",
        "Start by defining an array for both `x` and `y`"
      ],
      "id": "8652e0b7-19b5-4c03-bfb6-bcc62f596193"
    },
    {
      "cell_type": "code",
      "execution_count": 20,
      "metadata": {
        "solution": true
      },
      "outputs": [],
      "source": [
        "x = np.array([0, 1, 1, 0])\n",
        "y = np.array([0, 0, 1, 1])"
      ],
      "id": "edf6ccde"
    },
    {
      "cell_type": "markdown",
      "metadata": {},
      "source": [
        "Now use `ax.plot` to make the plot"
      ],
      "id": "e041ce8f-ffa7-4f2c-b540-b3288de5e7e4"
    },
    {
      "cell_type": "code",
      "execution_count": 22,
      "metadata": {
        "solution": true
      },
      "outputs": [
        {
          "output_type": "display_data",
          "metadata": {},
          "data": {
            "image/png": "[encoded data removed]"
          }
        }
      ],
      "source": [
        "fig, ax = plt.subplots(figsize=(5, 5))\n",
        "ax.plot(x, y)\n",
        "ax.axis('equal')\n",
        "ax.set_xlim([-0.5, 1.5])\n",
        "ax.set_ylim([-0.5, 1.5])"
      ],
      "id": "286b8b01"
    },
    {
      "cell_type": "markdown",
      "metadata": {},
      "source": [
        "Consider the following;\n",
        "\n",
        "-   Why is it not a square?\n",
        "-   How many points did you use?\n",
        "-   How many line segments were plotted?\n",
        "\n",
        "#### (b) Actually plotting a square\n",
        "\n",
        "In order to actually plot a square you will need to update `x` and `y`,\n",
        "they both need to contain five numbers such that four line segments are\n",
        "plotted."
      ],
      "id": "9f4fe6f0-2c6f-435a-9085-1e34e7cbca3d"
    },
    {
      "cell_type": "code",
      "execution_count": 24,
      "metadata": {
        "solution": true
      },
      "outputs": [],
      "source": [
        "x = np.array([0, 1, 1, 0, 0])\n",
        "y = np.array([0, 0, 1, 1, 0])"
      ],
      "id": "b0a969f5"
    },
    {
      "cell_type": "markdown",
      "metadata": {},
      "source": [
        "Copy your code for making the plot from the previous exercise to the\n",
        "cell below"
      ],
      "id": "ff8e4861-3e91-4457-9c21-d14f8b361536"
    },
    {
      "cell_type": "code",
      "execution_count": 26,
      "metadata": {
        "solution": true
      },
      "outputs": [
        {
          "output_type": "display_data",
          "metadata": {},
          "data": {
            "image/png": "[encoded data removed]"
          }
        }
      ],
      "source": [
        "fig, ax = plt.subplots(figsize=(5, 5))\n",
        "ax.plot(x, y)\n",
        "ax.axis('equal')\n",
        "ax.set_xlim([-0.5, 1.5])\n",
        "ax.set_ylim([-0.5, 1.5])"
      ],
      "id": "6267f8f7"
    },
    {
      "cell_type": "markdown",
      "metadata": {},
      "source": [
        "#### (c) Plotting a function\n",
        "\n",
        "Often the data we plot can broadly be thought of as originating from a\n",
        "function, that is we have\n",
        "\n",
        "$$\n",
        "y = f(x)\n",
        "$$\n",
        "\n",
        "Where $f$ is the function, this might for example be an experiment that\n",
        "produces some output $y$ given some input $x$ or it might be a\n",
        "traditional mathematical function like $y = x^2$. Plotting this type of\n",
        "data is exactly the same as plotting a square - it just usually consists\n",
        "of many more data points resulting in many line segments producing a\n",
        "smooth looking curve.\n",
        "\n",
        "Make a plot of the function\n",
        "\n",
        "$$\n",
        "y = \\mathrm{e}^x\n",
        "$$"
      ],
      "id": "84ebc3a6-3704-49ce-a446-7742f534a8b1"
    },
    {
      "cell_type": "code",
      "execution_count": 28,
      "metadata": {
        "solution": true
      },
      "outputs": [
        {
          "output_type": "display_data",
          "metadata": {},
          "data": {
            "image/png": "[encoded data removed]"
          }
        }
      ],
      "source": [
        "x = np.linspace(0, 5, 50) # Make 50 points uniformly between 0 and 5. \n",
        "y = np.exp(x) # Calculate y from x.\n",
        "\n",
        "fig, ax = plt.subplots(figsize=(6, 4))\n",
        "ax.plot(x, y)"
      ],
      "id": "1844916e"
    },
    {
      "cell_type": "markdown",
      "metadata": {},
      "source": [
        "Once you’ve made the plot try changing the number of points in `x` by\n",
        "changing the last argument in the call to `np.linspace`.\n",
        "\n",
        "-   What happens if you have very few points?\n",
        "\n",
        "> **Tip**\n",
        ">\n",
        "> Remember that `np.exp` is used to calculate the exponential function.\n",
        "\n",
        "#### (d) Plotting multiple functions\n",
        "\n",
        "Often we want to plot multiple functions in the same figure as it\n",
        "enables us to compare them. Luckily, this is quite simple!\n",
        "\n",
        "Plot the function\n",
        "\n",
        "$$\n",
        "y = \\mathrm{e}^{ax}\n",
        "$$\n",
        "\n",
        "With $a = \\left[1, \\cfrac{1}{2}, 1.2\\right]$ in the same plot producing\n",
        "three curves."
      ],
      "id": "a451cae5-1b08-4d06-bcef-623d400873a1"
    },
    {
      "cell_type": "code",
      "execution_count": 30,
      "metadata": {
        "solution": true
      },
      "outputs": [
        {
          "output_type": "display_data",
          "metadata": {},
          "data": {
            "image/png": "[encoded data removed]"
          }
        }
      ],
      "source": [
        "x = np.linspace(0, 5, 50) # Make 50 points uniformly between 0 and 5. \n",
        "y1 = np.exp(1*x)\n",
        "y2 = np.exp(0.5*x)\n",
        "y3 = np.exp(1.2*x)\n",
        "\n",
        "fig, ax = plt.subplots(figsize=(6, 4))\n",
        "ax.plot(x, y1)\n",
        "ax.plot(x, y2)\n",
        "ax.plot(x, y3)"
      ],
      "id": "5ff5d5c3"
    },
    {
      "cell_type": "markdown",
      "metadata": {},
      "source": [
        "#### (e) Customizing plots\n",
        "\n",
        "We will generally need to customize plots a little bit, for example the\n",
        "plot from the previous exercise doesn’t have a label for the axis,\n",
        "there’s no way of telling which curve is which and it has no title.\n",
        "\n",
        "To add labels to the x and y axis we use the two functions\n",
        "\n",
        "-   `ax.set_xlabel('String with the name of the x-axis')`\n",
        "-   `ax.set_ylabel('String with the name of the y-axis')`\n",
        "\n",
        "Adding information about the curves we plot can be done by also giving\n",
        "them a label, that is done as an argument to the `ax.plot` call, like so\n",
        "\n",
        "``` python\n",
        "fig, ax = plt.subplots()\n",
        "\n",
        "ax.plot(x, y, label='Information about the curve.')\n",
        "ax.legend()\n",
        "ax.set_title('Title of plot')\n",
        "```\n",
        "\n",
        "Line 3  \n",
        "The `label` argument is given when the curve is plotted.\n",
        "\n",
        "Line 4  \n",
        "`ax.legend()` is called to tell matplotlib to show the a ‘legend’\n",
        "containing the `label` of all the plots that have been given one.\n",
        "\n",
        "Line 5  \n",
        "Sets the title of the plot\n",
        "\n",
        "Copy your code from the previous exercise and add labels for both the x\n",
        "and y axis aswell as each curve, for example you can label them\n",
        "according to the value of the the parameter $a$ like `a = 1` etc."
      ],
      "id": "e2dfafe8-470f-4b90-aaf8-d9d5af1e60d5"
    },
    {
      "cell_type": "code",
      "execution_count": 31,
      "metadata": {},
      "outputs": [
        {
          "output_type": "display_data",
          "metadata": {},
          "data": {
            "text/plain": [
              "Ellipsis"
            ]
          }
        }
      ],
      "source": [
        "... # Put some code here and try customizing it."
      ],
      "id": "4594ed44"
    },
    {
      "cell_type": "code",
      "execution_count": 32,
      "metadata": {
        "solution": true
      },
      "outputs": [
        {
          "output_type": "display_data",
          "metadata": {},
          "data": {
            "text/plain": [
              "Text(0.5, 1.0, 'Plots of exponential functions')"
            ]
          }
        },
        {
          "output_type": "display_data",
          "metadata": {},
          "data": {
            "image/png": "[encoded data removed]"
          }
        }
      ],
      "source": [
        "x = np.linspace(0, 5, 50) # Make 50 points uniformly between 0 and 5. \n",
        "y1 = np.exp(1*x)\n",
        "y2 = np.exp(0.5*x)\n",
        "y3 = np.exp(1.2*x)\n",
        "\n",
        "fig, ax = plt.subplots(figsize=(6, 4))\n",
        "ax.plot(x, y1, label='a = 1')\n",
        "ax.plot(x, y2, label='a = 1/2')\n",
        "ax.plot(x, y3, label='a = 1.2')\n",
        "\n",
        "# Customization:\n",
        "ax.set_xlabel('x')\n",
        "ax.set_ylabel('y')\n",
        "ax.legend()\n",
        "ax.set_title('Plots of exponential functions')"
      ],
      "id": "0c4a01e5"
    },
    {
      "cell_type": "markdown",
      "metadata": {},
      "source": [
        "> **Note**\n",
        ">\n",
        "> There are many other customization options that can be added in the\n",
        "> same way as the `label`, that is\n",
        ">\n",
        "> ``` python\n",
        "> ax.plot(x, y, option_name=option_value)\n",
        "> ```\n",
        ">\n",
        "> Some useful examples are\n",
        ">\n",
        "> -   `linestyle`: Controls if the plot is made using a full, dashed or\n",
        ">     dotted line using `-`, `--` and `:` respectively. So\n",
        ">     `ax.plot(..., ..., linestyle = \":\")` produces a dotted line.\n",
        "> -   `color`: Controls the color of the line - valid options are listed\n",
        ">     here\n",
        ">     <https://matplotlib.org/stable/gallery/color/named_colors.html>\n",
        "> -   `linewidth`: Sets the width of the line - can be any number.\n",
        "> -   `alpha`: Controls the transparency of the plot `0` being fully\n",
        ">     transparent and `1` being fully visible.\n",
        ">\n",
        "> You can try some of these options for the plot you’ve made above if\n",
        "> you want to. There are *many* other ways of customizing plots for\n",
        "> different situations. The matplotlib\n",
        "> [gallery](https://matplotlib.org/stable/gallery/index.html) shows a\n",
        "> number of them.\n",
        "\n",
        "#### (f) Other types of plots: Scatter\n",
        "\n",
        "Sometimes we don’t want to connect each point with a line segment but\n",
        "just show the points in a *scatter* plot.\n",
        "\n",
        "The next cell makes some data"
      ],
      "id": "1070386f-cf31-463a-8142-110a15c1690c"
    },
    {
      "cell_type": "code",
      "execution_count": 33,
      "metadata": {},
      "outputs": [],
      "source": [
        "x = np.random.uniform(low=0, high=10, size=100)\n",
        "y = 2*x + np.random.normal(scale=2, size=100)"
      ],
      "id": "23e87361"
    },
    {
      "cell_type": "markdown",
      "metadata": {},
      "source": [
        "Try plotting it like for the previous exercises"
      ],
      "id": "747b33fe-5da4-49a1-aa57-79a43c19d170"
    },
    {
      "cell_type": "code",
      "execution_count": 35,
      "metadata": {
        "solution": true
      },
      "outputs": [
        {
          "output_type": "display_data",
          "metadata": {},
          "data": {
            "image/png": "[encoded data removed]"
          }
        }
      ],
      "source": [
        "fig, ax = plt.subplots()\n",
        "ax.plot(x, y)"
      ],
      "id": "87235ff1"
    },
    {
      "cell_type": "markdown",
      "metadata": {},
      "source": [
        "You will see a very strange plot like when you scribble out a word on a\n",
        "piece of paper. Clearly a line plot is not a very good way of showing\n",
        "this data! There are, at least, two ways of making a scatter plot\n",
        "\n",
        "-   `ax.plot(x, y, 'o')`: Quick and dirty way of just showing the points\n",
        "    and not the lines.\n",
        "-   `ax.scatter(x, y)`: Function specifically for making these types of\n",
        "    plots - with its own set of customization arguments.\n",
        "\n",
        "Try either, or both, of these ways in the cell below"
      ],
      "id": "f647ada2-c137-4e2d-9da5-6513822a5dfd"
    },
    {
      "cell_type": "code",
      "execution_count": 37,
      "metadata": {
        "solution": true
      },
      "outputs": [
        {
          "output_type": "display_data",
          "metadata": {},
          "data": {
            "image/png": "[encoded data removed]"
          }
        }
      ],
      "source": [
        "fig, ax = plt.subplots()\n",
        "\n",
        "ax.scatter(x, y, s=100, label='ax.scatter', facecolor='orange', edgecolor='black', linewidth=1)\n",
        "ax.plot(x, y, 'o', label='ax.plot', color='mediumpurple', markersize=4)\n",
        "ax.legend()\n",
        "ax.set_xlabel('x')\n",
        "ax.set_ylabel('y')\n",
        "ax.set_title('Scatter plot in two ways.')\n",
        "plt.show()"
      ],
      "id": "dbb56695"
    },
    {
      "cell_type": "markdown",
      "metadata": {},
      "source": [
        "------------------------------------------------------------------------\n",
        "\n",
        "## Average properties of amino acids and proteins."
      ],
      "id": "eb725db6-7c7f-4d71-92db-29fa52bfe6ad"
    },
    {
      "cell_type": "code",
      "execution_count": 38,
      "metadata": {},
      "outputs": [],
      "source": [
        "import numpy as np"
      ],
      "id": "c4c06e18"
    },
    {
      "cell_type": "markdown",
      "metadata": {},
      "source": [
        "In the accompanying Excel file (`averag-prope-amino-acids.xlsx`), you\n",
        "will find a table that contains the molecular weight of the 20 common\n",
        "amino acid residues, i.e. their weight as residues in a peptide chain.\n",
        "Additionally, you will find their relative frequency in E. coli\n",
        "proteins, where a frequency of 0.01 means that this residue constitutes\n",
        "1 % of the residues in a protein.\n",
        "\n",
        "#### (a) Load the data file.\n",
        "\n",
        "Use the widget below to load the `averag-prope-amino-acids.xlsx` file."
      ],
      "id": "0d3f41f8-005c-47b3-a384-63e1cadb30f4"
    },
    {
      "cell_type": "code",
      "execution_count": 39,
      "metadata": {},
      "outputs": [
        {
          "output_type": "display_data",
          "metadata": {},
          "data": {
            "application/vnd.jupyter.widget-view+json": {
              "model_id": "4c185909e5044b58bd554318e4025cc1",
              "version_major": 2,
              "version_minor": 0
            }
          }
        },
        {
          "output_type": "display_data",
          "metadata": {},
          "data": {
            "application/vnd.jupyter.widget-view+json": {
              "model_id": "3727a4cc5daf406789d087b768f346d7",
              "version_major": 2,
              "version_minor": 0
            }
          }
        }
      ],
      "source": [
        "from IPython.display import display \n",
        "from fysisk_biokemi.widgets import DataUploader\n",
        "uploader = DataUploader()\n",
        "uploader.display()"
      ],
      "id": "56dab16d"
    },
    {
      "cell_type": "markdown",
      "metadata": {},
      "source": [
        "The command below will display the table as a `DataFrame`."
      ],
      "id": "e174a18a-d079-4970-829e-ec25eb99533a"
    },
    {
      "cell_type": "code",
      "execution_count": 40,
      "metadata": {},
      "outputs": [],
      "source": [
        "df = uploader.get_dataframe()\n",
        "display(df)"
      ],
      "id": "234030bf"
    },
    {
      "cell_type": "code",
      "execution_count": 41,
      "metadata": {
        "solution": true
      },
      "outputs": [
        {
          "output_type": "display_data",
          "metadata": {},
          "data": {
            "text/html": [
              "\n",
              "</div>"
            ]
          }
        }
      ],
      "source": [
        "from IPython.display import display \n",
        "from fysisk_biokemi.datasets import load_dataset\n",
        "df = load_dataset('AA_frequency')\n",
        "display(df)"
      ],
      "id": "60f09ca2"
    },
    {
      "cell_type": "markdown",
      "metadata": {},
      "source": [
        "#### (b) Average molecular weight\n",
        "\n",
        "Calculate the average molecular weight of a residue in a protein. To do\n",
        "this our procedure will be as follows\n",
        "\n",
        "1.  First calculate the residue weight times its frequency in proteins\n",
        "    for each residue.\n",
        "2.  Sum these together to get the average molecular weight.\n",
        "\n",
        "In the cell below finish the calculation of `weight_times_freq` by\n",
        "extracting the `\"MW of AA residue\"`-column and `\"Frequency in proteins\"`\n",
        "and multiplying them together.\n",
        "\n",
        "> **Tip**\n",
        ">\n",
        "> You can index in the dataframe by using the column name, for example\n",
        "> to get the `\"MW of AA residue\"`-column you would do\n",
        ">\n",
        "> ``` python\n",
        "> col = df[\"MW of AA residue\"]\n",
        "> ```\n",
        ">\n",
        "> Arrays also allows us to operate on every element in the array at the\n",
        "> same time, so arrays can be added, subtracted, multiplied, divided,\n",
        "> etc, see for example this figure\n",
        ">\n",
        "> ![](https://numpy.org/doc/stable/_images/np_array_dataones.png)\n",
        "> ![](https://numpy.org/doc/stable/_images/np_sub_mult_divide.png)"
      ],
      "id": "98f8e4ad-05c3-4645-8f2f-2501edb249b6"
    },
    {
      "cell_type": "code",
      "execution_count": 43,
      "metadata": {
        "solution": true
      },
      "outputs": [],
      "source": [
        "weight_times_freq = df['MW of AA residue'] * df['Frequency in proteins']"
      ],
      "id": "dd1c6e03"
    },
    {
      "cell_type": "markdown",
      "metadata": {},
      "source": [
        "> **Tip**\n",
        ">\n",
        "> You can use `np.sum` to sum all values in an array. For example\n",
        ">\n",
        "> ``` python\n",
        "> array = np.array([1, 2, 3, 4, 5])\n",
        "> sum_of_array = np.sum(array) # Gives 15 \n",
        "> ```"
      ],
      "id": "4ac8e5ca-b49f-4337-879a-642fdbe5f592"
    },
    {
      "cell_type": "code",
      "execution_count": 45,
      "metadata": {
        "solution": true
      },
      "outputs": [
        {
          "output_type": "stream",
          "name": "stdout",
          "text": [
            "average_mw = 110.566"
          ]
        }
      ],
      "source": [
        "average_mw = np.sum(weight_times_freq)\n",
        "print(f\"{average_mw = :.3f}\")"
      ],
      "id": "d60d8d72"
    },
    {
      "cell_type": "markdown",
      "metadata": {},
      "source": [
        "> **Note**\n",
        ">\n",
        "> The syntax `f\"{average_mw = :.3f}\"` is just a way of printing the\n",
        "> value with a nicer format, in this case we print the value to 3\n",
        "> decimal places. In Python these are called f-strings, you don’t need\n",
        "> to understand the details at the moment.\n",
        "\n",
        "#### (c) Weight of 300-residue protein\n",
        "\n",
        "What would the molecular weight of a 300-residue protein most likely be,\n",
        "if you did not know its sequence?"
      ],
      "id": "8b91f23d-ca7b-48c8-a6f2-010d41cfd556"
    },
    {
      "cell_type": "code",
      "execution_count": 47,
      "metadata": {
        "solution": true
      },
      "outputs": [
        {
          "output_type": "stream",
          "name": "stdout",
          "text": [
            "mw_300 = 33169.941"
          ]
        }
      ],
      "source": [
        "mw_300 = average_mw * 300\n",
        "print(f\"{mw_300 = :.3f}\")"
      ],
      "id": "4e8cb26a"
    },
    {
      "cell_type": "markdown",
      "metadata": {},
      "source": [
        "------------------------------------------------------------------------\n",
        "\n",
        "In many projects, you will be working with a mixture of proteins. This\n",
        "could for example be a cell lysate or a biological fluid for protein\n",
        "abundance analysis, or the early stages of a protein purification\n",
        "process. In these situations, you cannot work with a molecule specific\n",
        "extinction coefficient. Instead, we would use the average values, which\n",
        "we will determine below.\n",
        "\n",
        "------------------------------------------------------------------------\n",
        "\n",
        "#### (d) Average concentration of residues\n",
        "\n",
        "Calculate the average concentration of amino acid residues in a protein\n",
        "mixture at 1 mg/mL."
      ],
      "id": "32744469-46d1-4e43-bbdf-56b546611158"
    },
    {
      "cell_type": "code",
      "execution_count": 49,
      "metadata": {
        "solution": true
      },
      "outputs": [
        {
          "output_type": "stream",
          "name": "stdout",
          "text": [
            "c_residue_avg = 0.009 M"
          ]
        }
      ],
      "source": [
        "c_residue_avg = 1 / average_mw\n",
        "print(f\"{c_residue_avg = :3.3f} M\")"
      ],
      "id": "fe482aaa"
    },
    {
      "cell_type": "markdown",
      "metadata": {},
      "source": [
        "#### (e) Absorbance\n",
        "\n",
        "Calculate the absorbance from such a mixture under the assumption that\n",
        "only Trp and Tyr contribute."
      ],
      "id": "62340dc1-2eb1-4b29-b05a-1329273bfe67"
    },
    {
      "cell_type": "code",
      "execution_count": 51,
      "metadata": {
        "solution": true
      },
      "outputs": [
        {
          "output_type": "stream",
          "name": "stdout",
          "text": [
            "c_trp = 0.00012\n",
            "c_tyr = 0.00030"
          ]
        }
      ],
      "source": [
        "freq = df.set_index(\"Name\")[\"Frequency in proteins\"]\n",
        "f_trp = freq[\"Tryptophan (Trp/W)\"]\n",
        "f_tyr = freq[\"Tyrosine (Tyr/Y)\"]\n",
        "\n",
        "c_trp = c_residue_avg * f_trp\n",
        "c_tyr = c_residue_avg * f_tyr\n",
        "print(f\"{c_trp = :3.5f}\")\n",
        "print(f\"{c_tyr = :3.5f}\")"
      ],
      "id": "95e15a3a"
    },
    {
      "cell_type": "code",
      "execution_count": 53,
      "metadata": {
        "solution": true
      },
      "outputs": [
        {
          "output_type": "stream",
          "name": "stdout",
          "text": [
            "A280 = 1.091"
          ]
        }
      ],
      "source": [
        "L = 1 # Path length\n",
        "A280 = L * (5500 * c_trp + 1490 * c_tyr)\n",
        "print(f\"{A280 = :3.3f}\")"
      ],
      "id": "65d29daf"
    },
    {
      "cell_type": "markdown",
      "metadata": {},
      "source": [
        "#### (f) Adsorbance $\\rightarrow$ concentration\n",
        "\n",
        "For a cell lysate, you measure and absorbance of 0.78 at a path length\n",
        "of 0.5 cm. What is the protein concentration?"
      ],
      "id": "8fed8ca1-5c6c-4e85-a96c-b0e2a6eaba65"
    },
    {
      "cell_type": "code",
      "execution_count": 55,
      "metadata": {
        "solution": true
      },
      "outputs": [
        {
          "output_type": "stream",
          "name": "stdout",
          "text": [
            "Protein concentration = 1.429 mg/mL"
          ]
        }
      ],
      "source": [
        "# Set known values:\n",
        "A = 0.78 # Unitless\n",
        "l = 0.5 # cm\n",
        "\n",
        "# Extract frequencies\n",
        "freq = df.set_index(\"Name\")[\"Frequency in proteins\"]\n",
        "f_trp = freq[\"Tryptophan (Trp/W)\"]\n",
        "f_tyr = freq[\"Tyrosine (Tyr/Y)\"]\n",
        "\n",
        "# Calculate extintinction coefficent in [L/(mol cm)]\n",
        "eps_mix = 5500 * f_trp + 1490 * f_tyr\n",
        "# Calculate molar concentration\n",
        "c_res = A / (l * eps_mix) # [mol/L]\n",
        "# Calculate concentration:\n",
        "conc_mg_per_mL = c_res * average_mw # [g/mol] = [mg/mL] because mw is [g/mol]\n",
        "print(f\"Protein concentration = {conc_mg_per_mL:.3f} mg/mL\")"
      ],
      "id": "d09478f7"
    },
    {
      "cell_type": "markdown",
      "metadata": {},
      "source": [
        "------------------------------------------------------------------------\n",
        "\n",
        "## UV spectrum of apo- and holo-myoglobin"
      ],
      "id": "62a118b1-da9e-4cd7-970d-a227d8688d52"
    },
    {
      "cell_type": "code",
      "execution_count": 56,
      "metadata": {},
      "outputs": [],
      "source": [
        "import matplotlib.pyplot as plt"
      ],
      "id": "0797ab03"
    },
    {
      "cell_type": "markdown",
      "metadata": {},
      "source": [
        "In this exercise we will analyze the spectra of apo- and holo-myoglobin.\n",
        "The dataset is given in `uv-spec-apo-holo-myo.csv`.\n",
        "\n",
        "#### (a) Load the dataset\n",
        "\n",
        "Use the widget to load the dataset."
      ],
      "id": "f6a61b64-8e60-403b-8db9-c398c0e5e034"
    },
    {
      "cell_type": "code",
      "execution_count": 57,
      "metadata": {},
      "outputs": [],
      "source": [
        "from IPython.display import display \n",
        "from fysisk_biokemi.widgets import DataUploader\n",
        "uploader = DataUploader()\n",
        "uploader.display()"
      ],
      "id": "45b029cd"
    },
    {
      "cell_type": "markdown",
      "metadata": {},
      "source": [
        "Run this cell **after** having uploaded the file in the cell above."
      ],
      "id": "32a419dc-cb77-4915-a218-62bdf9b0fd8e"
    },
    {
      "cell_type": "code",
      "execution_count": 58,
      "metadata": {},
      "outputs": [],
      "source": [
        "df = uploader.get_dataframe()\n",
        "display(df)"
      ],
      "id": "2386be98"
    },
    {
      "cell_type": "code",
      "execution_count": 59,
      "metadata": {
        "solution": true
      },
      "outputs": [
        {
          "output_type": "display_data",
          "metadata": {},
          "data": {
            "text/html": [
              "\n",
              "<p>251 rows × 3 columns</p>\n",
              "</div>"
            ]
          }
        }
      ],
      "source": [
        "from fysisk_biokemi.datasets import load_dataset\n",
        "from IPython.display import display \n",
        "df = load_dataset('apo_holo') # Load from package for the solution so it doesn't require to interact.\n",
        "display(df)"
      ],
      "id": "81b013d7"
    },
    {
      "cell_type": "markdown",
      "metadata": {},
      "source": [
        "#### (b) Plot the spectra\n",
        "\n",
        "Using `matplotlib` plot each spectrum in the same figure as line plots."
      ],
      "id": "9273ac0e-2be2-4fa0-a140-c0f591002a79"
    },
    {
      "cell_type": "code",
      "execution_count": 61,
      "metadata": {
        "solution": true
      },
      "outputs": [
        {
          "output_type": "display_data",
          "metadata": {},
          "data": {
            "text/plain": [
              "Text(0.5, 0, 'Wavelength (nm)')"
            ]
          }
        },
        {
          "output_type": "display_data",
          "metadata": {},
          "data": {
            "image/png": "[encoded data removed]"
          }
        }
      ],
      "source": [
        "fig, ax = plt.subplots() \n",
        "\n",
        "ax.plot(df['wavelength'], df['holo_absorbance'], label='Holo')\n",
        "ax.plot(df['wavelength'], df['apo_absorbance'], label='Apo')\n",
        "\n",
        "ax.set_ylabel('Absorbance (AU)')\n",
        "ax.set_xlabel('Wavelength (nm)')"
      ],
      "id": "223858a4"
    },
    {
      "cell_type": "markdown",
      "metadata": {},
      "source": [
        "Based on the spectra explain what ApoMb and HoloMb represent?\n",
        "\n",
        "------------------------------------------------------------------------\n",
        "\n",
        "You have learned that pure proteins without any UV/Vis-absorbing\n",
        "prosthetic groups bound, have basically no absorbance at wavelengths\n",
        "above λ\\>320 nm. Nevertheless ApoMb still show some absorbance above 320\n",
        "nm. In this case, it can explained by the fact that ApoMb was generated\n",
        "from HoloMb by a procedure that will not be explained here.\n",
        "\n",
        "------------------------------------------------------------------------\n",
        "\n",
        "#### (d) Adsorption above 320 nm.\n",
        "\n",
        "Explain why ApoMb in the spectrum above absorbs light at λ\\>320 nm.\n",
        "\n",
        "#### (e) Efficiency estimate.\n",
        "\n",
        "Give a rough estimate of the efficiency of the chosen procedure of\n",
        "heme-group removal.\n",
        "\n",
        "#### (f) Isobestic points\n",
        "\n",
        "Are there any isobestic points between the two spectra?\n",
        "\n",
        "------------------------------------------------------------------------\n",
        "\n",
        "To get a better understanding of the causes for the different spectra,\n",
        "you can compare to litterature. The figure below shows the absorbance\n",
        "spectra of three states of myoglobin.\n",
        "\n",
        "$$\n",
        "\\begin{aligned}\n",
        "\\mathrm{MbFe(II)O_2} &\\Rightarrow \\mathrm{oxyMb} \\\\\n",
        "\\\\\n",
        "\\mathrm{MbFe(III)} &\\Rightarrow \\mathrm{metMb} \\\\\n",
        "\\\\\n",
        "\\mathrm{MbFe(II)} &\\Rightarrow \\mathrm{deoxyMb}\n",
        "\\end{aligned}\n",
        "$$\n",
        "\n",
        "<figure>\n",
        "<img\n",
        "src=\"https://raw.githubusercontent.com/au-mbg/fysisk-biokemi/refs/heads/main/lessons/figures/apo-holo-figure.jpg\"\n",
        "alt=\"Absorbance spectra of different states of myoglobin. \\mathrm{MbFe(II)O}_2 is “oxyMb”, \\mathrm{MbFe(III)} is “metMb” and \\mathrm{MbFe(II)} is “deoxyMb”. Taken from Barham et al (2010); ChemRev; 110 (4); pp2313-2365\" />\n",
        "<figcaption aria-hidden=\"true\">Absorbance spectra of different states of\n",
        "myoglobin. <span class=\"math inline\">MbFe(II)O<sub>2</sub></span> is\n",
        "“oxyMb”, <span class=\"math inline\">MbFe(III)</span> is “metMb” and <span\n",
        "class=\"math inline\">MbFe(II)</span> is “deoxyMb”. Taken from Barham et\n",
        "al (2010); ChemRev; 110 (4); pp2313-2365</figcaption>\n",
        "</figure>\n",
        "\n",
        "#### (g) Aged myoglobin\n",
        "\n",
        "metMb $(\\mathrm{MbFe(III)})$ is normally described as ‘aged’ myoglobin.\n",
        "What does this mean in terms of the bound iron?\n",
        "\n",
        "#### (h) Change in absorbance\n",
        "\n",
        "Give a qualitative explanation to the observed change in absorbance of\n",
        "metMb compared to fresh oxy-/deoxyMb?\n",
        "\n",
        "#### (I) Type of shift\n",
        "\n",
        "Is the spectral difference from deoxyMb to metMb a redshift or a\n",
        "blueshift?\n",
        "\n",
        "#### (J) Experiment design\n",
        "\n",
        "You would like to set up an experiment where the absorbance of myoglobin\n",
        "at defined wavelength(s) should be used to measure the level of\n",
        "$\\mathrm{O}_2$ binding. Sketch how the absorbance spectra would look\n",
        "like when going from deoxyMb and continuously increasing the\n",
        "concentration of $\\mathrm{O}_2$ (draw this for five different\n",
        "$\\mathrm{O}_2$ concentrations going from pure deoxyMb to pure oxyMb)\n",
        "\n",
        "------------------------------------------------------------------------\n",
        "\n",
        "## Proteins in blood plasma.\n",
        "\n",
        "In this exercise we will learn how Python is excellent for handling\n",
        "datasets with many data points and how it can be used to apply the same\n",
        "procedure to all the data points at once.\n",
        "\n",
        "A researcher wants to determine the concentration of two proteins in\n",
        "blood plasma that is suspected to be involved in development of an\n",
        "autoimmune disease. 500 patients and 500 healthy individuals were\n",
        "included in the study and absorbance measurements of the two purified\n",
        "proteins from all blood plasma samples were measured at 280 nm. The\n",
        "molecular weight and extinction coefficients of the two proteins are\n",
        "given in the table below.\n",
        "\n",
        "| Protein | $M_w$ $[\\text{kDa}]$ | $\\epsilon$ $[\\text{M}^{-1}\\text{cm}^{-1}]$ |\n",
        "|-----------------------|---------------------|-----------------------------|\n",
        "| 1       | 130                  | 180000                                     |\n",
        "| 2       | 57                   | 80000                                      |\n",
        "\n",
        "Properties of the two proteins.\n",
        "\n",
        "#### (a) Load the dataset\n",
        "\n",
        "Use the widget to load the dataset as a dataframe from the file\n",
        "`protei-blood-plasma.xlsx`"
      ],
      "id": "f583278f-d37b-4614-ad8e-92aef71f1314"
    },
    {
      "cell_type": "code",
      "execution_count": 62,
      "metadata": {},
      "outputs": [],
      "source": [
        "from IPython.display import display \n",
        "from fysisk_biokemi.widgets import DataUploader\n",
        "uploader = DataUploader()\n",
        "uploader.display()"
      ],
      "id": "e66d0f5c"
    },
    {
      "cell_type": "markdown",
      "metadata": {},
      "source": [
        "Run this cell **after** having uploaded the file in the cell above."
      ],
      "id": "80b4e546-9d18-4dd7-88bb-440db9211d97"
    },
    {
      "cell_type": "code",
      "execution_count": 63,
      "metadata": {},
      "outputs": [],
      "source": [
        "df = uploader.get_dataframe()\n",
        "display(df)"
      ],
      "id": "e83e8ac6"
    },
    {
      "cell_type": "code",
      "execution_count": 64,
      "metadata": {
        "solution": true
      },
      "outputs": [
        {
          "output_type": "display_data",
          "metadata": {},
          "data": {
            "text/html": [
              "\n",
              "<p>500 rows × 4 columns</p>\n",
              "</div>"
            ]
          }
        }
      ],
      "source": [
        "from fysisk_biokemi.datasets import load_dataset\n",
        "from IPython.display import display \n",
        "df = load_dataset('protein_blood_plasma') # Load from package for the solution so it doesn't require to interact.\n",
        "display(df)"
      ],
      "id": "aa4cd300"
    },
    {
      "cell_type": "markdown",
      "metadata": {},
      "source": [
        "#### (b) Calculate concentrations\n",
        "\n",
        "Calculate the molar concentration of the two proteins in all samples,\n",
        "the light path for every measurement is 0.1 cm.\n",
        "\n",
        "Always a good idea to assign known values to variables"
      ],
      "id": "0a613621-687b-4c01-baac-86a3b09c1c66"
    },
    {
      "cell_type": "code",
      "execution_count": 65,
      "metadata": {},
      "outputs": [],
      "source": [
        "protein_1_ext_coeff = 180000\n",
        "protein_2_ext_coeff = 80000\n",
        "l = 0.1"
      ],
      "id": "4dad1f54"
    },
    {
      "cell_type": "markdown",
      "metadata": {},
      "source": [
        "> **Tip**\n",
        ">\n",
        "> You can set new columns in a `DataFrame` by just assigning to it\n",
        ">\n",
        "> ``` python\n",
        "> df['new_column'] = [1, 2, 3, ..., 42]\n",
        "> ```\n",
        ">\n",
        "> It can also be set as a computation of a property from another row\n",
        ">\n",
        "> ``` python\n",
        "> df['new_column'] = df['current_column'] / 4\n",
        "> ```"
      ],
      "id": "8e02618e-028d-496b-b20e-31f38dce167d"
    },
    {
      "cell_type": "code",
      "execution_count": 67,
      "metadata": {
        "solution": true
      },
      "outputs": [
        {
          "output_type": "display_data",
          "metadata": {},
          "data": {
            "text/html": [
              "\n",
              "<p>500 rows × 8 columns</p>\n",
              "</div>"
            ]
          }
        }
      ],
      "source": [
        "df['protein1_healthy_molar_conc'] = df['A280_protein1_healthy'] / (protein_1_ext_coeff * l)\n",
        "df['protein1_patient_molar_conc'] = df['A280_protein1_patient'] / (protein_1_ext_coeff * l)\n",
        "df['protein2_healthy_molar_conc'] = df['A280_protein2_healthy'] / (protein_2_ext_coeff * l)\n",
        "df['protein2_patient_molar_conc'] = df['A280_protein2_patient'] / (protein_2_ext_coeff * l)\n",
        "display(df)"
      ],
      "id": "79aa7009"
    },
    {
      "cell_type": "markdown",
      "metadata": {},
      "source": [
        "#### (c). Concentrations in mg/mL\n",
        "\n",
        "Add another set of four columns containing the concentrations in mg/mL."
      ],
      "id": "f244de63-9fb1-41dd-91a4-40984d5dcf6f"
    },
    {
      "cell_type": "code",
      "execution_count": 68,
      "metadata": {},
      "outputs": [],
      "source": [
        "protein_1_mw = 130 * 10**3\n",
        "protein_2_mw = 57 * 10**3"
      ],
      "id": "1a49267e"
    },
    {
      "cell_type": "code",
      "execution_count": 70,
      "metadata": {
        "solution": true
      },
      "outputs": [
        {
          "output_type": "display_data",
          "metadata": {},
          "data": {
            "text/html": [
              "\n",
              "<p>500 rows × 4 columns</p>\n",
              "</div>"
            ]
          }
        }
      ],
      "source": [
        "df['protein1_healthy_conc'] = df['protein1_healthy_molar_conc'] * protein_1_mw\n",
        "df['protein1_patient_conc'] = df['protein1_patient_molar_conc'] * protein_1_mw\n",
        "df['protein2_healthy_conc'] = df['protein2_healthy_molar_conc'] * protein_2_mw\n",
        "df['protein2_patient_conc'] = df['protein2_patient_molar_conc'] * protein_2_mw\n",
        "\n",
        "names = ['protein1_healthy_conc', 'protein1_patient_conc', 'protein2_healthy_conc', 'protein2_patient_conc']\n",
        "display(df[names])"
      ],
      "id": "9d8491ba"
    },
    {
      "cell_type": "markdown",
      "metadata": {},
      "source": [
        "#### (d) Mean concentration\n",
        "\n",
        "Now that we have the concentrations, calculate the concentration in the\n",
        "four categories.\n",
        "\n",
        "> **Tip**\n",
        ">\n",
        "> When displaying the dataframe above we used indexed it with `names` as\n",
        "> `df[names]`. We can do the same to compute something over just the\n",
        "> four rows.\n",
        ">\n",
        "> For example the if we have a `DataFrame` called `example_df`, we can\n",
        "> calculate the mean over the **rows** as:\n",
        ">\n",
        "> ``` python\n",
        "> df[names].mean(axis=0)\n",
        "> ```\n",
        ">\n",
        "> Here `axis=0` means that we apply the operation over the first axis\n",
        "> which by convention are the rows. The figure below visualizes this\n",
        ">\n",
        "> ![](https://numpy.org/doc/stable/_images/np_matrix_aggregation_row.png)"
      ],
      "id": "6b48c993-32f4-4378-8689-2bfb00947289"
    },
    {
      "cell_type": "code",
      "execution_count": 72,
      "metadata": {
        "solution": true
      },
      "outputs": [
        {
          "output_type": "display_data",
          "metadata": {},
          "data": {
            "text/plain": [
              "protein1_healthy_conc    0.677316\n",
              "protein1_patient_conc    0.104155\n",
              "protein2_healthy_conc    0.242293\n",
              "protein2_patient_conc    0.256983\n",
              "dtype: float64"
            ]
          }
        }
      ],
      "source": [
        "mean = df[names].mean(axis=0)\n",
        "display(mean)"
      ],
      "id": "aacccf5c"
    },
    {
      "cell_type": "markdown",
      "metadata": {},
      "source": [
        "#### (e) Standard deviation\n",
        "\n",
        "Calculate the standard deviation\n",
        "\n",
        "> **Tip**\n",
        ">\n",
        "> The standard deviation can be calculated using the `.std`-method that\n",
        "> works in the same way as the `.mean`-method we used above."
      ],
      "id": "d2e54af7-ee89-4b40-85b0-85a5f4583022"
    },
    {
      "cell_type": "code",
      "execution_count": 74,
      "metadata": {
        "solution": true
      },
      "outputs": [
        {
          "output_type": "display_data",
          "metadata": {},
          "data": {
            "text/plain": [
              "protein1_healthy_conc    0.107141\n",
              "protein1_patient_conc    0.005458\n",
              "protein2_healthy_conc    0.040127\n",
              "protein2_patient_conc    0.052373\n",
              "dtype: float64"
            ]
          }
        }
      ],
      "source": [
        "std = df[names].std(axis=0)\n",
        "display(std)"
      ],
      "id": "8ce82a4c"
    },
    {
      "cell_type": "markdown",
      "metadata": {},
      "source": [
        "#### (f) Analyze the results\n",
        "\n",
        "Consider the following questions\n",
        "\n",
        "-   By comparing healthy individuals with patients, would you expect\n",
        "    that any of the two proteins would be involved in disease\n",
        "    development?\n",
        "-   What additional information does the standard deviation provide\n",
        "    besides the average value of the protein concentration?\n",
        "\n",
        "------------------------------------------------------------------------\n",
        "\n",
        "## The fluorescent protein “mCherry”.\n",
        "\n",
        "The spectra of many fluorescent proteins can be found at the website:\n",
        "[www.fpbase.org](https://www.fpbase.org/). Go to FPbase and search for\n",
        "“mCherry”.\n",
        "\n",
        "#### (a) Find parameters.\n",
        "\n",
        "Find the following parameters for the protein\n",
        "\n",
        "-   Extinction coefficient at absorbance maximum\n",
        "-   Quantum yield\n",
        "-   The organism from which it was originally isolated\n",
        "-   Molecular weight\n",
        "\n",
        "Save them to seperate variables in the cell below."
      ],
      "id": "c7184be6-ef67-4d0b-a866-619e4f558755"
    },
    {
      "cell_type": "code",
      "execution_count": 75,
      "metadata": {
        "solution": true
      },
      "outputs": [],
      "source": [
        "QY = 0.22\n",
        "EC = 72000 # [1/(M cm)]\n",
        "organism = \"Discosoma sp.\"\n",
        "m_w = 26.7 * 10**3 # From fpbase"
      ],
      "id": "447e73c1"
    },
    {
      "cell_type": "markdown",
      "metadata": {},
      "source": [
        "#### (b) Adorbance\n",
        "\n",
        "What is the absorbance of a 1 µM solution of mCherry at its absorption\n",
        "maximum?"
      ],
      "id": "ede27e19-10f6-4fd1-9207-db226cb8e87d"
    },
    {
      "cell_type": "code",
      "execution_count": 78,
      "metadata": {
        "solution": true
      },
      "outputs": [
        {
          "output_type": "stream",
          "name": "stdout",
          "text": [
            "A_max = 0.072"
          ]
        }
      ],
      "source": [
        "c = 1 * 10**(-6) # [M]\n",
        "l = 1 # [cm]\n",
        "A_max = EC * c * l\n",
        "print(f\"{A_max = :3.3f}\")"
      ],
      "id": "2bb2cb85"
    },
    {
      "cell_type": "markdown",
      "metadata": {},
      "source": [
        "#### (c) Extinction coefficient from sequence.\n",
        "\n",
        "The sequence of the protein is also given. From this determine the\n",
        "extinction coefficient at 280 nm.\n",
        "\n",
        "Start by taking the sequence from the website and assigning it to the\n",
        "variable `sequence` in the cell below."
      ],
      "id": "84832206-5e30-4fb1-8456-c3de78191688"
    },
    {
      "cell_type": "code",
      "execution_count": 80,
      "metadata": {
        "solution": true
      },
      "outputs": [],
      "source": [
        "sequence=\"\"\"MVSKGEEDNM AIIKEFMRFK VHMEGSVNGH EFEIEGEGEG RPYEGTQTAK LKVTKGGPLP FAWDILSPQF MYGSKAYVKH PADIPDYLKL SFPEGFKWER VMNFEDGGVV TVTQDSSLQD GEFIYKVKLR GTNFPSDGPV MQKKTMGWEA SSERMYPEDG ALKGEIKQRL KLKDGGHYDA EVKTTYKAKK PVQLPGAYNV NIKLDITSHN EDYTIVEQYE RAEGRHSTGG MDELYK\"\"\""
      ],
      "id": "f5f9ab90"
    },
    {
      "cell_type": "markdown",
      "metadata": {},
      "source": [
        "Now use the sequence to calculate the extinction coefficient, finish the\n",
        "code below (or take the function you implemented in a previous\n",
        "exercise!)"
      ],
      "id": "87b6bdae-8820-4bee-9c69-83abb52e33c9"
    },
    {
      "cell_type": "code",
      "execution_count": 82,
      "metadata": {
        "solution": true
      },
      "outputs": [
        {
          "output_type": "stream",
          "name": "stdout",
          "text": [
            "ext_coeff = 34380.000"
          ]
        }
      ],
      "source": [
        "# This is 'dictionary' with the extinction coefficients of the relevant \n",
        "# amino acid residues. Dictionaries are indexed with 'keys', so you can retrieve\n",
        "# the value for W as: ext_residue[\"W\"].\n",
        "ext_residue = {\"W\": 5500, \"Y\": 1490, \"C\": 125}\n",
        "\n",
        "# Count the number of active residues\n",
        "N_trp = sequence.count(\"W\")\n",
        "N_tyr = sequence.count(\"Y\")\n",
        "N_cys = sequence.count(\"C\")\n",
        "\n",
        "# Calculate the extinction coefficient: \n",
        "ext_coeff = N_trp * ext_residue[\"W\"] + N_tyr * ext_residue[\"Y\"] + N_cys * ext_residue[\"C\"]\n",
        "\n",
        "print(f\"{ext_coeff = :3.3f}\")"
      ],
      "id": "5591b741"
    },
    {
      "cell_type": "markdown",
      "metadata": {},
      "source": [
        "#### (d) What is the concentration of a 1 µM solution of mCherry in mg/mL?"
      ],
      "id": "bc3ef7ce-99e5-4d58-9c28-ad2e50d711fd"
    },
    {
      "cell_type": "code",
      "execution_count": 84,
      "metadata": {
        "solution": true
      },
      "outputs": [
        {
          "output_type": "stream",
          "name": "stdout",
          "text": [
            "conc_mg_mL = 0.026699999999999998"
          ]
        }
      ],
      "source": [
        "conc_molar = 1 * 10**(-6) # From 1 [uM].\n",
        "conc_mg_mL = conc_molar * m_w \n",
        "print(f\"{conc_mg_mL = }\")"
      ],
      "id": "5a366bfd"
    },
    {
      "cell_type": "markdown",
      "metadata": {},
      "source": [
        "------------------------------------------------------------------------\n",
        "\n",
        "The excitation and emission spectra can be downloaded as a csv-file by\n",
        "clicking the download icon as highlighted below\n",
        "\n",
        "<img width=300 src=\"https://raw.githubusercontent.com/au-mbg/fysisk-biokemi/refs/heads/main/lessons/figures/week_47/download_spectra.png\">\n",
        "\n",
        "Figure 1: Screenshot of the download button on fpbase\n",
        "\n",
        "------------------------------------------------------------------------\n",
        "\n",
        "#### (e) Load the dataset\n",
        "\n",
        "Use the widget below to load the dataset as a `DataFrame`"
      ],
      "id": "0713a951-5c13-4630-9da5-83926d07d0ca"
    },
    {
      "cell_type": "code",
      "execution_count": 85,
      "metadata": {},
      "outputs": [],
      "source": [
        "from fysisk_biokemi.widgets import DataUploader\n",
        "from IPython.display import display \n",
        "uploader = DataUploader()\n",
        "uploader.display()"
      ],
      "id": "a69ed8e7"
    },
    {
      "cell_type": "markdown",
      "metadata": {},
      "source": [
        "Run the next cell **after** uploading the file"
      ],
      "id": "fe62fea6-5f1b-4ff0-93f6-4e6330a19296"
    },
    {
      "cell_type": "code",
      "execution_count": 86,
      "metadata": {},
      "outputs": [],
      "source": [
        "df = uploader.get_dataframe()\n",
        "display(df)"
      ],
      "id": "b89568a8"
    },
    {
      "cell_type": "code",
      "execution_count": 87,
      "metadata": {
        "solution": true
      },
      "outputs": [
        {
          "output_type": "display_data",
          "metadata": {},
          "data": {
            "text/html": [
              "\n",
              "<p>1100 rows × 4 columns</p>\n",
              "</div>"
            ]
          }
        }
      ],
      "source": [
        "from IPython.display import display \n",
        "from fysisk_biokemi.datasets import load_dataset\n",
        "df = load_dataset('mCherry') # Load from package for the solution so it doesn't require to interact.\n",
        "display(df)"
      ],
      "id": "e32bf74f"
    },
    {
      "cell_type": "markdown",
      "metadata": {},
      "source": [
        "#### (f) Plot spectra\n",
        "\n",
        "Make your own plot showing the excitation and emission spectra of\n",
        "“mCherry” using the above data.\n",
        "\n",
        "> **Tip**\n",
        ">\n",
        "> To plot we use the `matplotlib` package. Plots are generally just\n",
        "> straight lines connecting points, with enough points we get a smooth\n",
        "> looking figure.\n",
        ">\n",
        "> For example, to plot a line connecting three datapoints\n",
        ">\n",
        "> ``` python\n",
        "> fig, ax = plt.subplots()\n",
        ">\n",
        "> x = np.array([1, 2, 3])\n",
        "> y = np.array([1, 4, 9])\n",
        "> ax.plot(x, y)\n",
        "> plt.show()\n",
        "> ```\n",
        ">\n",
        "> Line 1  \n",
        "> This creates a `fig` and an `ax`, the `ax`-object is the box where our\n",
        "> plot is created.\n",
        ">\n",
        "> Line 3  \n",
        "> Define the data to put on the x-axis.\n",
        ">\n",
        "> Line 5  \n",
        "> Does the actual plotting\n",
        ">\n",
        "> Line 6  \n",
        "> Shows the figure\n",
        ">\n",
        "> There are *many* ways of customizing plots, you will see different\n",
        "> ones in the exercises, but by no means all of them - if you are\n",
        "> interested you can find more information on the [matplotlib\n",
        "> documentation](https://matplotlib.org/stable/users/index).\n",
        ">\n",
        "> You don’t have to worry about the `NaN` values in the dataset when\n",
        "> plotting, matplotlib just skips plotting that line segment."
      ],
      "id": "1f8b116b-f273-4751-9ba4-18f78fe2610a"
    },
    {
      "cell_type": "code",
      "execution_count": 89,
      "metadata": {
        "solution": true
      },
      "outputs": [
        {
          "output_type": "display_data",
          "metadata": {},
          "data": {
            "image/png": "[encoded data removed]"
          }
        }
      ],
      "source": [
        "import matplotlib.pyplot as plt\n",
        "fig, ax = plt.subplots(figsize=(9, 4))\n",
        "ax.plot(df['wavelength'], df['mCherry ex'], label='Excitation')\n",
        "ax.plot(df['wavelength'], df['mCherry em'], label='Emission')\n",
        "ax.legend()\n",
        "ax.set_xlabel('Wavelength')\n",
        "ax.set_ylabel('Extinction & Emission')\n",
        "plt.show()"
      ],
      "id": "ddcd231d"
    },
    {
      "cell_type": "markdown",
      "metadata": {},
      "source": [
        "#### (g) Stokes shift\n",
        "\n",
        "What is the Stokes shift of mCherry?\n",
        "\n",
        "> **Tip**\n",
        ">\n",
        "> If you have two arrays `A` and `B` you can find the entry in `A`\n",
        "> corresponding to the largest value in `B` like this\n",
        ">\n",
        "> ``` python\n",
        "> A_at_B_max = A[np.argmax(B)]\n",
        "> ```\n",
        ">\n",
        "> The `np.argmax` stands for **arg**ument **max**imum meaning that it\n",
        "> finds the index of the maximum value in a given array. The figure\n",
        "> below illustrates this\n",
        ">\n",
        "> <img width=300 src=\"https://raw.githubusercontent.com/au-mbg/fysisk-biokemi/refs/heads/main/lessons/figures/week_47/np_argmax.png\">\n",
        ">\n",
        "> Figure 2: Illustration of argmax"
      ],
      "id": "77c447f6-018b-4c44-a1a5-c69fce546752"
    },
    {
      "cell_type": "code",
      "execution_count": 91,
      "metadata": {
        "solution": true
      },
      "outputs": [
        {
          "output_type": "stream",
          "name": "stdout",
          "text": [
            "lambda_ex = 587\n",
            "lambda_em = 610\n",
            "stokes_shift = 23"
          ]
        }
      ],
      "source": [
        "import numpy as np\n",
        "# Start by extracting the wavelengths from the DataFrame\n",
        "wavelengths = df['wavelength']\n",
        "\n",
        "# Find the indices\n",
        "ex_max_idx = np.argmax(df['mCherry ex'])\n",
        "em_max_idx = np.argmax(df['mCherry em'])\n",
        "\n",
        "# Use the index to find the corresponding wavelengths\n",
        "lambda_ex = wavelengths[ex_max_idx]\n",
        "lambda_em = wavelengths[em_max_idx]\n",
        "\n",
        "stokes_shift = lambda_em - lambda_ex\n",
        "\n",
        "print(f\"{lambda_ex = :d}\")\n",
        "print(f\"{lambda_em = :d}\")\n",
        "print(f\"{stokes_shift = :d}\")"
      ],
      "id": "38af469e"
    },
    {
      "cell_type": "markdown",
      "metadata": {},
      "source": [
        "#### (h) Colors\n",
        "\n",
        "What colors are the light that correspond to the excitation and emission\n",
        "maxima respectively?\n",
        "\n",
        "------------------------------------------------------------------------\n",
        "\n",
        "## Tryptophan absorption and fluorescence"
      ],
      "id": "39601f80-88c9-4545-b19b-e3ffb7aa093a"
    },
    {
      "cell_type": "code",
      "execution_count": 92,
      "metadata": {},
      "outputs": [],
      "source": [
        "from fysisk_biokemi.datasets import load_dataset\n",
        "from IPython.display import display\n",
        "import matplotlib.pyplot as plt\n",
        "import numpy as np\n",
        "import pandas as pd\n",
        "pd.set_option('display.max_rows', 6)"
      ],
      "id": "2c1eca6f"
    },
    {
      "cell_type": "markdown",
      "metadata": {},
      "source": [
        "You investigate a protein that neither contains tyrosine nor cysteine\n",
        "residues. A 37 µM solution gives an absorbance of 0,41 at 280nm at a\n",
        "light path of 1 cm.\n",
        "\n",
        "#### (a) Number of residues\n",
        "\n",
        "How many tryptophan residues does the protein contain?\n",
        "\n",
        "#### (b) Concentration\n",
        "\n",
        "You would like to conduct a protein stability experiment at an\n",
        "absorbance of 0,8 (path length 1cm). What concentration should you use?\n",
        "\n",
        "#### (c) Spectra & Stokes Shift\n",
        "\n",
        "The cell below loads extinction and emission spectra for tryptophan in\n",
        "aqueous buffer. (The data files are `trypt-absor-fluor-emission.xlsx`\n",
        "and `trypt-absor-fluor-extinction.xlsx`)"
      ],
      "id": "ba8236c5-dedb-4916-acaf-0695bfb9c947"
    },
    {
      "cell_type": "code",
      "execution_count": 93,
      "metadata": {},
      "outputs": [
        {
          "output_type": "display_data",
          "metadata": {},
          "data": {
            "text/html": [
              "\n",
              "<p>399 rows × 2 columns</p>\n",
              "</div>"
            ]
          }
        },
        {
          "output_type": "display_data",
          "metadata": {},
          "data": {
            "text/html": [
              "\n",
              "<p>399 rows × 2 columns</p>\n",
              "</div>"
            ]
          }
        }
      ],
      "source": [
        "df_emission = load_dataset('week47_1_emi')\n",
        "df_extinction = load_dataset('week47_1_ext')\n",
        "display(df_emission)\n",
        "display(df_extinction)"
      ],
      "id": "dfaff9f6"
    },
    {
      "cell_type": "code",
      "execution_count": 94,
      "metadata": {},
      "outputs": [
        {
          "output_type": "stream",
          "name": "stdout",
          "text": [
            "Index(['wavelength_(nm)', 'molar_extinction_(cm-1/M)'], dtype='object')"
          ]
        }
      ],
      "source": [
        "print(df_extinction.keys())"
      ],
      "id": "376469ec"
    },
    {
      "cell_type": "markdown",
      "metadata": {},
      "source": [
        "Make plot showing the two spectra and determine the Stokes shift."
      ],
      "id": "174f691d-91b6-4f6c-a32b-031cad796255"
    },
    {
      "cell_type": "code",
      "execution_count": 96,
      "metadata": {
        "solution": true
      },
      "outputs": [
        {
          "output_type": "display_data",
          "metadata": {},
          "data": {
            "image/png": "[encoded data removed]"
          }
        }
      ],
      "source": [
        "fig, axes = plt.subplots(1, 2, figsize=(7, 3), layout='constrained')\n",
        "\n",
        "# Emission \n",
        "ax = axes[0]\n",
        "ax.set_title('Emission')\n",
        "ax.plot(df_emission['wavelength_(nm)'], df_emission['emission_(AU)'], label='Emission', color='C0')\n",
        "ax.set_ylabel('Emission')\n",
        "ax.set_xlabel('Wavelength [nm]')\n",
        "\n",
        "# Extinction\n",
        "ax = axes[1]\n",
        "ax.set_title('Extinction')\n",
        "ax.plot(df_extinction['wavelength_(nm)'], df_extinction['molar_extinction_(cm-1/M)'], label='Extinction', color='C1')\n",
        "ax.set_ylabel('Extinction')\n",
        "ax.set_xlabel('Wavelength [nm]')\n",
        "plt.show()"
      ],
      "id": "1900a32e"
    },
    {
      "cell_type": "markdown",
      "metadata": {},
      "source": [
        "Recall that we have used `np.argmax` to determine the maximum index\n",
        "before, use that to calculate the Stokes shift"
      ],
      "id": "d4e2fd62-d443-4f57-8bbd-531e4c4a4e6f"
    },
    {
      "cell_type": "code",
      "execution_count": 98,
      "metadata": {
        "solution": true
      },
      "outputs": [
        {
          "output_type": "stream",
          "name": "stdout",
          "text": [
            "emission_wavelength_max = 354.0 nm\n",
            "extinction_wavelength_max = 220.5 nm"
          ]
        }
      ],
      "source": [
        "max_index = np.argmax(df_emission['emission_(AU)'])\n",
        "emission_wavelength_max = df_emission['wavelength_(nm)'][max_index]\n",
        "\n",
        "max_index = np.argmax(df_extinction['molar_extinction_(cm-1/M)'])\n",
        "extinction_wavelength_max = df_extinction['wavelength_(nm)'][max_index]\n",
        "\n",
        "print(f\"{emission_wavelength_max = :.1f} nm\")\n",
        "print(f\"{extinction_wavelength_max = :.1f} nm\")"
      ],
      "id": "57b248e7"
    },
    {
      "cell_type": "markdown",
      "metadata": {},
      "source": [
        "#### (d) pH and how it changes pHroperties.\n",
        "\n",
        "Next, you compare the fluorescence emission spectra for your protein at\n",
        "pH 7 and at pH 2. You can find the data in the files\n",
        "`trypt-absor-fluor-ph2.xlsx` and `trypt-absor-fluor-ph7.xlsx` - the cell\n",
        "below also loads these datasets"
      ],
      "id": "c8818fc3-87d1-431b-b0cf-4d74c0ce780b"
    },
    {
      "cell_type": "code",
      "execution_count": 99,
      "metadata": {},
      "outputs": [
        {
          "output_type": "display_data",
          "metadata": {},
          "data": {
            "text/html": [
              "\n",
              "<p>46 rows × 2 columns</p>\n",
              "</div>"
            ]
          }
        },
        {
          "output_type": "display_data",
          "metadata": {},
          "data": {
            "text/html": [
              "\n",
              "<p>46 rows × 2 columns</p>\n",
              "</div>"
            ]
          }
        }
      ],
      "source": [
        "df_ph2 = load_dataset('week47_1_ph2')\n",
        "df_ph7 = load_dataset('week47_1_ph7')\n",
        "display(df_ph2, df_ph2)"
      ],
      "id": "1dfdb18d"
    },
    {
      "cell_type": "markdown",
      "metadata": {},
      "source": [
        "Make a plot comparing the two emission spectra. Which resembles the\n",
        "spectrum of tryptophan in water most?"
      ],
      "id": "20f926c9-0fec-4f21-b9fa-e2426435c60f"
    },
    {
      "cell_type": "code",
      "execution_count": 101,
      "metadata": {
        "solution": true
      },
      "outputs": [
        {
          "output_type": "display_data",
          "metadata": {},
          "data": {
            "image/png": "[encoded data removed]"
          }
        }
      ],
      "source": [
        "fig, ax = plt.subplots()\n",
        "\n",
        "ax.plot(df_ph2['Wavelength(nm)'], df_ph2['Fluo_Int'], label='pH = 2')\n",
        "ax.plot(df_ph7['Wavelength(nm)'], df_ph7['Fluo_Int'], label='pH = 7')\n",
        "\n",
        "ax.set_xlabel('Wavelength [nm]')\n",
        "ax.set_ylabel('Flouresence [AU]')\n",
        "plt.show()"
      ],
      "id": "6d1f548c"
    },
    {
      "cell_type": "markdown",
      "metadata": {},
      "source": [
        "#### (e) for Explain\n",
        "\n",
        "Explain why the same protein gives such different spectra at pH 2 and pH\n",
        "7.  \n",
        "\n",
        "------------------------------------------------------------------------\n",
        "\n",
        "## Extinction coefficient of human myoglobin\n",
        "\n",
        "The protein of human myoglobin is given below"
      ],
      "id": "47aab15f-a55e-4f3e-9b85-e754bc30f64c"
    },
    {
      "cell_type": "code",
      "execution_count": 102,
      "metadata": {},
      "outputs": [],
      "source": [
        "sequence = \"\"\"GLSDGEWQLVLNVWGKVEADIPGHGQEVLIRLFKGHPETLEKFDKFKHLKSEDEMKASEDLKKHGA\n",
        "TVLTALGGILKKKGHHEAEIKPLAQSHATKHKIPVKYLEFISECIIQVLQSKHPGDFGADAQGAMNKALELFRKDMASNY\n",
        "KELGFQG\"\"\""
      ],
      "id": "d7871984"
    },
    {
      "cell_type": "markdown",
      "metadata": {},
      "source": [
        "We want to calculate the *extinction coefficient* of this protein, we\n",
        "have seen that this can be calculated using the formula\n",
        "\n",
        "<span id=\"eq-extinction\">$$\n",
        "\\epsilon(280 \\mathrm{nm}) = N_{Trp} \\epsilon_{Trp} + N_{Tyr} \\epsilon_{Tyr} + N_{Cys} \\epsilon_{Cys} \n",
        " \\qquad(1)$$</span>\n",
        "\n",
        "Where $N_{Trp}$ is the number of Tryptophan in the protein (and likewise\n",
        "for the other two terms), and the three constants $A$, $B$ and $C$ are\n",
        "given as\n",
        "\n",
        "$$\n",
        "\\begin{align}\n",
        "\\epsilon_{Trp} &= 5500 \\ \\mathrm{M^{−1} cm^{−1}} \\\\\n",
        "\\epsilon_{Tyr} &= 1490 \\ \\mathrm{M^{−1} cm^{−1}} \\\\\n",
        "\\epsilon_{Cys} &= 125 \\ \\mathrm{M^{−1} cm^{−1}}\n",
        "\\end{align}\n",
        "$$\n",
        "\n",
        "In order to calculate the formula we need to know the count of the\n",
        "relevant residues, we can use Python to get that - for example we can\n",
        "count the number of Tryptophan like so;"
      ],
      "id": "40732d80-b4c0-4154-a6ab-5142f6435e04"
    },
    {
      "cell_type": "code",
      "execution_count": 103,
      "metadata": {},
      "outputs": [],
      "source": [
        "N_trp = sequence.count(\"W\")"
      ],
      "id": "872d8a7b"
    },
    {
      "cell_type": "markdown",
      "metadata": {},
      "source": [
        "#### (a) Determine the number of residues\n",
        "\n",
        "In the cell below find the number of residues"
      ],
      "id": "59fc58dd-4fb0-4754-be35-489e781eba3d"
    },
    {
      "cell_type": "code",
      "execution_count": 104,
      "metadata": {
        "solution": true
      },
      "outputs": [],
      "source": [
        "N_tyr = sequence.count(\"Y\")\n",
        "N_cys = sequence.count(\"C\")"
      ],
      "id": "e1c6c07a"
    },
    {
      "cell_type": "markdown",
      "metadata": {},
      "source": [
        "You can check what Python has stored each variable by using `print`"
      ],
      "id": "0296f800-70a5-474b-90e2-8fcab6f29a83"
    },
    {
      "cell_type": "code",
      "execution_count": 106,
      "metadata": {},
      "outputs": [
        {
          "output_type": "stream",
          "name": "stdout",
          "text": [
            "2\n",
            "N_tyr = 2\n",
            "N_cys = 1"
          ]
        }
      ],
      "source": [
        "print(N_trp)\n",
        "print(f\"{N_tyr = }\") # This is just a way of make a string that looks nice.\n",
        "print(f\"{N_cys = }\")"
      ],
      "id": "a8e4fde5"
    },
    {
      "cell_type": "markdown",
      "metadata": {},
      "source": [
        "#### (b) Calculate the extinction coefficient\n",
        "\n",
        "Use equation\n",
        "(<a href=\"#eq-extinction\" class=\"quarto-xref\">Equation 1</a>) to\n",
        "calculate the extinction coefficient of human myoglobin."
      ],
      "id": "be273c37-b3b5-40e2-8323-5a8f8151cf86"
    },
    {
      "cell_type": "code",
      "execution_count": 107,
      "metadata": {},
      "outputs": [],
      "source": [
        "eps_trp = 5500\n",
        "eps_tyr = 1490\n",
        "eps_cys = 125"
      ],
      "id": "d2bc6345"
    },
    {
      "cell_type": "code",
      "execution_count": 109,
      "metadata": {
        "solution": true
      },
      "outputs": [
        {
          "output_type": "stream",
          "name": "stdout",
          "text": [
            "14105"
          ]
        }
      ],
      "source": [
        "epsilon = eps_trp * N_trp + eps_tyr * N_tyr + eps_cys*N_cys\n",
        "print(epsilon)"
      ],
      "id": "67d3f010"
    },
    {
      "cell_type": "markdown",
      "metadata": {},
      "source": [
        "What are the units of this value?\n",
        "\n",
        "#### (c) Compare residue count to ProtParam\n",
        "\n",
        "ProtParam is an online tool that calculates various physical and\n",
        "chemical parameters from a given protein sequence and is used worldwide\n",
        "in research laboratories.\n",
        "\n",
        "<figure>\n",
        "<img\n",
        "src=\"https://raw.githubusercontent.com/au-mbg/fysisk-biokemi/refs/heads/main/lessons/figures/week_46/protpram_input.png\"\n",
        "alt=\"Protpram tool input page.\" />\n",
        "<figcaption aria-hidden=\"true\">Protpram tool input page.</figcaption>\n",
        "</figure>\n",
        "\n",
        "Go to ProtPram at this link: <https://web.expasy.org/protparam/> and\n",
        "paste the sequence and click **Compute Parameters**. You should then see\n",
        "the calculated parameters, similar to in the image below\n",
        "\n",
        "<figure>\n",
        "<img\n",
        "src=\"https://raw.githubusercontent.com/au-mbg/fysisk-biokemi/refs/heads/main/lessons/figures/week_46/protpram_output.png\"\n",
        "alt=\"Protpram tool calculated properties.\" />\n",
        "<figcaption aria-hidden=\"true\">Protpram tool calculated\n",
        "properties.</figcaption>\n",
        "</figure>\n",
        "\n",
        "On the output page you will see the number of residues, does that match\n",
        "your calculation?\n",
        "\n",
        "#### (d) Calculate the absorbance\n",
        "\n",
        "Using the extinction coefficient and the molecular weight given by\n",
        "ProtParam, calculate the absorbance at 280 nm of a myoglobin solution at\n",
        "a concentration of 1 mg/mL in a cuvette with a light path of 1 cm."
      ],
      "id": "815b99c1-2295-4140-bc36-45c228814fc8"
    },
    {
      "cell_type": "code",
      "execution_count": 110,
      "metadata": {
        "solution": true
      },
      "outputs": [],
      "source": [
        "molecular_weight = 17052.61 \n",
        "path_length = 1 # cm \n",
        "concentration = 1 # mg/mL"
      ],
      "id": "853d46f4"
    },
    {
      "cell_type": "markdown",
      "metadata": {},
      "source": [
        "Remember to convert the concentration to $\\mathrm{mol/L}$."
      ],
      "id": "969207b0-ffbf-4deb-bcad-175c9e05e469"
    },
    {
      "cell_type": "code",
      "execution_count": 113,
      "metadata": {
        "solution": true
      },
      "outputs": [
        {
          "output_type": "stream",
          "name": "stdout",
          "text": [
            "0.827146108425631"
          ]
        }
      ],
      "source": [
        "A280 = concentration / molecular_weight * path_length * epsilon\n",
        "print(A280)"
      ],
      "id": "0348fcf0"
    },
    {
      "cell_type": "markdown",
      "metadata": {},
      "source": [
        "This value is what is known as the A280(0.1%) of a protein, i.e. the\n",
        "absorbance of a given protein at a concentration of 0.1% weight/volume\n",
        "(= 1 g/L = 1 mg/mL).\n",
        "\n",
        "#### (e) Tintin\n",
        "\n",
        "We have now calculated the extinction coefficient of a protein, now we\n",
        "will make our code more reusable so that it can be applied to other\n",
        "proteins easily.\n",
        "\n",
        "> **Note**\n",
        ">\n",
        "> A function in Python is a set of instructions, like a recipe, that can\n",
        "> be defined and reused multiple times. The syntax is like this\n",
        ">\n",
        "> ``` python\n",
        "> def my_function(input_1, input_2):\n",
        ">     # Some operation \n",
        ">     some_internal_variable = input_1 + input_2\n",
        ">     ... \n",
        ">     return something_weve_calculated\n",
        "> ```\n",
        ">\n",
        "> Line 1  \n",
        "> The `def` command is used to define the functions name, here\n",
        "> `my_function`, and state its inputs, e.g. the name and ingredients of\n",
        "> a recipe.\n",
        ">\n",
        "> Line 3  \n",
        "> The body of the function defines what it does, the body can have any\n",
        "> number of lines of code. Similar to the instructions of a recipe.\n",
        ">\n",
        "> Line 5  \n",
        "> Finally, the function can `return` something, like the final product\n",
        "> of a recipe.\n",
        ">\n",
        "> Note that the function is not executed by doing this, like how a cake\n",
        "> isn’t baked by writing down the recipe, in order actually use the\n",
        "> function it needs to be *called*\n",
        ">\n",
        "> ``` python\n",
        "> output = my_function(1, 2)\n",
        "> ```\n",
        ">\n",
        "> This is also how we have already used other functions like `print`.\n",
        "\n",
        "The way of doing so is by defining a function that does the necessary\n",
        "operations for a given sequence. In this way the code can be reused for\n",
        "any sequence.\n",
        "\n",
        "Finish implementing the body of the function below, note that you have\n",
        "already written all the required code - you just need to copy it into\n",
        "the function."
      ],
      "id": "60b2c1c3-cb1f-4e27-9f46-1e2143b4ea98"
    },
    {
      "cell_type": "code",
      "execution_count": 115,
      "metadata": {
        "solution": true
      },
      "outputs": [],
      "source": [
        "def extinction_coefficient(sequence):\n",
        "\n",
        "    # Start by counting: \n",
        "    N_trp = sequence.count(\"W\")\n",
        "    N_tyr = sequence.count(\"Y\")\n",
        "    N_cys = sequence.count(\"C\")\n",
        "\n",
        "    # Define the residue extinction coeffiecients\n",
        "    eps_trp = 5500\n",
        "    eps_tyr = 1490\n",
        "    eps_cys = 125\n",
        "\n",
        "    # Calculate \n",
        "    epsilon = eps_trp * N_trp + eps_tyr * N_tyr + eps_cys*N_cys\n",
        "\n",
        "    return epsilon"
      ],
      "id": "8db38105"
    },
    {
      "cell_type": "markdown",
      "metadata": {},
      "source": [
        "It’s always a good idea to check that functions do what we expect, so we\n",
        "can confirm that it gives the same result for human myoglobin as we\n",
        "calculated before"
      ],
      "id": "685737fb-9d22-4433-93cb-5e77a9ed0853"
    },
    {
      "cell_type": "code",
      "execution_count": 117,
      "metadata": {
        "solution": true
      },
      "outputs": [
        {
          "output_type": "stream",
          "name": "stdout",
          "text": [
            "Epsilon: 14105\n",
            "Epsilon from function: 14105"
          ]
        }
      ],
      "source": [
        "epsilon_func = extinction_coefficient(sequence)\n",
        "print(f\"Epsilon: {epsilon}\")\n",
        "print(f\"Epsilon from function: {epsilon_func}\")"
      ],
      "id": "0aff396d"
    },
    {
      "cell_type": "markdown",
      "metadata": {},
      "source": [
        "The largest known protein is Titin, the cell below loads the sequence of\n",
        "titin and prints a few bits of information about it. (You can also find\n",
        "the full sequence in the dataset `extin-coeff-human-myogl.txt`.)"
      ],
      "id": "6b614277-6e32-4d23-980c-7e34c4c1f5d9"
    },
    {
      "cell_type": "code",
      "execution_count": 119,
      "metadata": {
        "solution": true
      },
      "outputs": [
        {
          "output_type": "stream",
          "name": "stdout",
          "text": [
            "Titin number of residues: 34922\n",
            "First 100 residues\n",
            "MTTQAPTFTQPLQSVVVLEGSTATFEAHISGFPVPEVSWFRDGQVISTSTLPGVQISFSD\n",
            "GRAKLTIPAVTKANSGRYSLKATNGSGQATSTAELLVKA"
          ]
        }
      ],
      "source": [
        "from fysisk_biokemi.datasets import load_dataset\n",
        "titin_sequence = load_dataset('titin')\n",
        "\n",
        "print(f'Titin number of residues: {len(titin_sequence)}')\n",
        "print('First 100 residues')\n",
        "print(titin_sequence[0:100])"
      ],
      "id": "b43fcb99"
    },
    {
      "cell_type": "markdown",
      "metadata": {},
      "source": [
        "Use your function to calculate the extinction coefficient of titin."
      ],
      "id": "22881ac3-d5db-475a-869f-edeeb7b0176a"
    },
    {
      "cell_type": "code",
      "execution_count": 121,
      "metadata": {
        "solution": true
      },
      "outputs": [
        {
          "output_type": "stream",
          "name": "stdout",
          "text": [
            "4115635"
          ]
        }
      ],
      "source": [
        "titin_eps = extinction_coefficient(titin_sequence)\n",
        "print(titin_eps)"
      ],
      "id": "8370279b"
    },
    {
      "cell_type": "markdown",
      "metadata": {},
      "source": [
        "------------------------------------------------------------------------\n",
        "\n",
        "> **Tip**\n",
        ">\n",
        "> You don’t need to understand the code below, it’s just ment to\n",
        "> illustrate that knowing some Python will allow you to explore the\n",
        "> topics that interest you in more detail.\n",
        "\n",
        "In general Python is very powerful at letting us explore properties of\n",
        "sequences, for example the cell below calculates number of residues\n",
        "between each Tryptophan in the Titin sequence and plot the distribution."
      ],
      "id": "3cebe812-2c44-48f2-87d5-71c06dd36df0"
    },
    {
      "cell_type": "code",
      "execution_count": 122,
      "metadata": {},
      "outputs": [
        {
          "output_type": "display_data",
          "metadata": {},
          "data": {
            "image/png": "[encoded data removed]"
          }
        }
      ],
      "source": [
        "import numpy as np\n",
        "import matplotlib.pyplot as plt\n",
        "\n",
        "def get_distance(sequence, letter):\n",
        "    W_index = np.argwhere(np.array([l for l in sequence]) == letter)\n",
        "    count = len(W_index)\n",
        "    distance = (W_index - np.roll(W_index, 1))[1:]\n",
        "    return distance, count\n",
        "\n",
        "letters = ['W', 'Y', 'C']\n",
        "\n",
        "fig, axes = plt.subplots(1, 3, figsize=(3*3, 3), sharey=True)\n",
        "axes = axes.flatten()\n",
        "\n",
        "for ax, letter in zip(axes, letters):\n",
        "    distance, count = get_distance(titin_sequence, letter)\n",
        "    ax.hist(distance, bins=np.arange(0, 500, 25), \n",
        "        edgecolor='black', alpha=0.75, density=True)\n",
        "    ax.set_xlabel('Distance [Number of residues]')\n",
        "    info = f'Residue: {letter} \\nCount: {count} \\nMean distance: {np.mean(distance):.1f}'\n",
        "    ax.text(0.975, 0.975, info, transform=ax.transAxes, ha='right', va='top')"
      ],
      "id": "b9472c0b"
    }
  ],
  "nbformat": 4,
  "nbformat_minor": 5,
  "metadata": {
    "kernelspec": {
      "name": "python3",
      "display_name": "Python 3 (ipykernel)",
      "language": "python",
      "path": "/home/runner/work/fysisk-biokemi/fysisk-biokemi/.venv/share/jupyter/kernels/python3"
    },
    "language_info": {
      "name": "python",
      "codemirror_mode": {
        "name": "ipython",
        "version": "3"
      },
      "file_extension": ".py",
      "mimetype": "text/x-python",
      "nbconvert_exporter": "python",
      "pygments_lexer": "ipython3",
      "version": "3.11.13"
    },
    "widgets": {
      "application/vnd.jupyter.widget-state+json": {
        "state": {
          "144ba5a33b0d4be98e3295df4e54a4f4": {
            "model_module": "@jupyter-widgets/controls",
            "model_module_version": "1.5.0",
            "model_name": "ButtonStyleModel",
            "state": {
              "_model_module": "@jupyter-widgets/controls",
              "_model_module_version": "1.5.0",
              "_model_name": "ButtonStyleModel",
              "_view_count": null,
              "_view_module": "@jupyter-widgets/base",
              "_view_module_version": "1.2.0",
              "_view_name": "StyleView",
              "button_color": null,
              "font_weight": ""
            }
          },
          "3727a4cc5daf406789d087b768f346d7": {
            "model_module": "@jupyter-widgets/output",
            "model_module_version": "1.0.0",
            "model_name": "OutputModel",
            "state": {
              "_dom_classes": [],
              "_model_module": "@jupyter-widgets/output",
              "_model_module_version": "1.0.0",
              "_model_name": "OutputModel",
              "_view_count": null,
              "_view_module": "@jupyter-widgets/output",
              "_view_module_version": "1.0.0",
              "_view_name": "OutputView",
              "layout": "IPY_MODEL_65764d98b5c345c78ea67fc1ff4a12eb",
              "msg_id": "",
              "outputs": []
            }
          },
          "4c185909e5044b58bd554318e4025cc1": {
            "model_module": "@jupyter-widgets/controls",
            "model_module_version": "1.5.0",
            "model_name": "FileUploadModel",
            "state": {
              "_counter": 0,
              "_dom_classes": [],
              "_model_module": "@jupyter-widgets/controls",
              "_model_module_version": "1.5.0",
              "_model_name": "FileUploadModel",
              "_view_count": null,
              "_view_module": "@jupyter-widgets/controls",
              "_view_module_version": "1.5.0",
              "_view_name": "FileUploadView",
              "accept": "",
              "button_style": "",
              "data": [],
              "description": "Upload",
              "description_tooltip": null,
              "disabled": false,
              "error": "",
              "icon": "upload",
              "layout": "IPY_MODEL_73a93a2bf4f646199ec642e13d4ab119",
              "metadata": [],
              "multiple": false,
              "style": "IPY_MODEL_144ba5a33b0d4be98e3295df4e54a4f4"
            }
          },
          "65764d98b5c345c78ea67fc1ff4a12eb": {
            "model_module": "@jupyter-widgets/base",
            "model_module_version": "1.2.0",
            "model_name": "LayoutModel",
            "state": {
              "_model_module": "@jupyter-widgets/base",
              "_model_module_version": "1.2.0",
              "_model_name": "LayoutModel",
              "_view_count": null,
              "_view_module": "@jupyter-widgets/base",
              "_view_module_version": "1.2.0",
              "_view_name": "LayoutView",
              "align_content": null,
              "align_items": null,
              "align_self": null,
              "border": null,
              "bottom": null,
              "display": null,
              "flex": null,
              "flex_flow": null,
              "grid_area": null,
              "grid_auto_columns": null,
              "grid_auto_flow": null,
              "grid_auto_rows": null,
              "grid_column": null,
              "grid_gap": null,
              "grid_row": null,
              "grid_template_areas": null,
              "grid_template_columns": null,
              "grid_template_rows": null,
              "height": null,
              "justify_content": null,
              "justify_items": null,
              "left": null,
              "margin": null,
              "max_height": null,
              "max_width": null,
              "min_height": null,
              "min_width": null,
              "object_fit": null,
              "object_position": null,
              "order": null,
              "overflow": null,
              "overflow_x": null,
              "overflow_y": null,
              "padding": null,
              "right": null,
              "top": null,
              "visibility": null,
              "width": null
            }
          },
          "73a93a2bf4f646199ec642e13d4ab119": {
            "model_module": "@jupyter-widgets/base",
            "model_module_version": "1.2.0",
            "model_name": "LayoutModel",
            "state": {
              "_model_module": "@jupyter-widgets/base",
              "_model_module_version": "1.2.0",
              "_model_name": "LayoutModel",
              "_view_count": null,
              "_view_module": "@jupyter-widgets/base",
              "_view_module_version": "1.2.0",
              "_view_name": "LayoutView",
              "align_content": null,
              "align_items": null,
              "align_self": null,
              "border": null,
              "bottom": null,
              "display": null,
              "flex": null,
              "flex_flow": null,
              "grid_area": null,
              "grid_auto_columns": null,
              "grid_auto_flow": null,
              "grid_auto_rows": null,
              "grid_column": null,
              "grid_gap": null,
              "grid_row": null,
              "grid_template_areas": null,
              "grid_template_columns": null,
              "grid_template_rows": null,
              "height": null,
              "justify_content": null,
              "justify_items": null,
              "left": null,
              "margin": null,
              "max_height": null,
              "max_width": null,
              "min_height": null,
              "min_width": null,
              "object_fit": null,
              "object_position": null,
              "order": null,
              "overflow": null,
              "overflow_x": null,
              "overflow_y": null,
              "padding": null,
              "right": null,
              "top": null,
              "visibility": null,
              "width": null
            }
          }
        },
        "version_major": 2,
        "version_minor": 0
      }
    }
  }
}