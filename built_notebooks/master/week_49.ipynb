{
  "cells": [
    {
      "cell_type": "markdown",
      "metadata": {},
      "source": [
        "# Week 49"
      ],
      "id": "03bc7f20-7d3b-41bd-9c9b-e8fade7225a3"
    },
    {
      "cell_type": "code",
      "execution_count": 1,
      "metadata": {},
      "outputs": [],
      "source": [
        "try:\n",
        "    import fysisk_biokemi\n",
        "    print(\"Already installed\")\n",
        "except ImportError:\n",
        "    %pip install -q \"fysisk_biokemi[colab] @ git+https://github.com/au-mbg/fysisk-biokemi.git\""
      ],
      "id": "ce0f60e4"
    },
    {
      "cell_type": "markdown",
      "metadata": {},
      "source": [
        "------------------------------------------------------------------------\n",
        "\n",
        "## Design of an enzyme kinetics experiment (Unfinished)"
      ],
      "id": "358f5de6-4d6e-4013-a540-5b13e100aa95"
    },
    {
      "cell_type": "code",
      "execution_count": 2,
      "metadata": {},
      "outputs": [],
      "source": [
        "import matplotlib.pyplot as plt"
      ],
      "id": "3ac191f2"
    },
    {
      "cell_type": "markdown",
      "metadata": {},
      "source": [
        "In the Excel document tø12_week49_data you will find a data set in which\n",
        "an enzyme catalyzed formation of product P, with varying start\n",
        "concentration of substrates, \\[S\\], was followed over time. The product\n",
        "absorbs light at a specific wavelength with an extinction coefficient of\n",
        "0.068 $\\mu\\text{M}^{-1}\\cdot \\text{cm}^{-1}$, and the absorbance was\n",
        "measured in a light path of 1 cm throughout the time course.\n",
        "\n",
        "You can load the dataset using the cells below;"
      ],
      "id": "09a71355-b182-43e5-9cdf-7283e09f243e"
    },
    {
      "cell_type": "code",
      "execution_count": 3,
      "metadata": {},
      "outputs": [],
      "source": [
        "from fysisk_biokemi.widgets import DataUploader\n",
        "from IPython.display import display \n",
        "uploader = DataUploader()\n",
        "uploader.display()"
      ],
      "id": "1c4fadff"
    },
    {
      "cell_type": "markdown",
      "metadata": {},
      "source": [
        "Run the next cell **after** uploading the file"
      ],
      "id": "ef427fbd-48a6-4ff1-8190-c0b48897a819"
    },
    {
      "cell_type": "code",
      "execution_count": 4,
      "metadata": {},
      "outputs": [],
      "source": [
        "df = uploader.get_dataframe()\n",
        "display(df)"
      ],
      "id": "53eeb1ce"
    },
    {
      "cell_type": "code",
      "execution_count": 5,
      "metadata": {
        "solution": true
      },
      "outputs": [
        {
          "output_type": "display_data",
          "metadata": {},
          "data": {
            "text/html": [
              "\n",
              "</div>"
            ]
          }
        }
      ],
      "source": [
        "from IPython.display import display \n",
        "from fysisk_biokemi.datasets import load_dataset\n",
        "df = load_dataset('week49_1') # Load from package for the solution so it doesn't require to interact.\n",
        "display(df)"
      ],
      "id": "b11e8810"
    },
    {
      "cell_type": "markdown",
      "metadata": {},
      "source": [
        "The headers, like `Abs_S1` refer to the substrate concentration so `S1`\n",
        "means a substrate concentration of 1 $\\mu\\text{M}$.\n",
        "\n",
        "#### (a)\n",
        "\n",
        "Convert the extinction coefficient to units given in\n",
        "$\\text{M}^{-1}\\cdot \\text{cm}^{-1}$ and assign it to a variable. Also\n",
        "assign the light path length to a variable."
      ],
      "id": "8fe23f92-cb2f-4aff-960d-ed302952772e"
    },
    {
      "cell_type": "code",
      "execution_count": 7,
      "metadata": {
        "solution": true
      },
      "outputs": [],
      "source": [
        "ext_coeff = 0.068 / 10**(-6) # 1/(M cm)\n",
        "l = 1 # cm"
      ],
      "id": "d368fc24"
    },
    {
      "cell_type": "markdown",
      "metadata": {},
      "source": [
        "#### (b) Calculate concentrations\n",
        "\n",
        "Using Lambert-Beers law, calculate the concentration of product, \\[P\\],\n",
        "in M for each time series.\n",
        "\n",
        "> **Loops**\n",
        ">\n",
        "> Loops are one of the most useful parts of programming, loops allows us\n",
        "> to repeat an operation on many different elements. This allows us to\n",
        "> not have to repeat code many times, making it simpler to understand\n",
        "> and less prone to error - and at the same time more flexible.\n",
        ">\n",
        "> A common type of loop in Python is the `for` loop, which does\n",
        "> something `for` every item it is told to consider. The syntax of a\n",
        "> `for`-loop is like so:\n",
        ">\n",
        "> ``` python\n",
        "> total = 0\n",
        "> for count in [1, 2, 3, 4, 5]:\n",
        ">     print(f\"I have {count} apples.\")\n",
        "> ```\n",
        ">\n",
        "> Which will print\n",
        ">\n",
        ">     I have 1 apples\n",
        ">     I have 2 apples\n",
        ">     I have 3 apples\n",
        ">     I have 4 apples\n",
        ">     I have 5 apples\n",
        ">\n",
        "> So the `for`-loop did the operation of printing a string for each\n",
        "> value of `count`.\n",
        ">\n",
        "> When working with a `DataFrame` like in this exercise, we may for\n",
        "> example want to do something `for` each column, one way of doing that\n",
        "> is to loop over the column names, say we want we have a `DataFrame`\n",
        "> `df` with columns named `\"col1\", \"col2\", \"col3\"` we can loop over that\n",
        "> as\n",
        ">\n",
        "> ``` python\n",
        "> for name in ['col1', 'col2', 'col3']\n",
        ">     df[name] = ... # Some operation\n",
        "> ```\n",
        "\n",
        "The cell below setups a loop calculate the concentrations for each of\n",
        "these current columns in the dataframe."
      ],
      "id": "5d53fb24-77bb-4b0b-82b8-ade6d55b42fc"
    },
    {
      "cell_type": "code",
      "execution_count": 9,
      "metadata": {
        "solution": true
      },
      "outputs": [
        {
          "output_type": "stream",
          "name": "stdout",
          "text": [
            "1 Abs_S1 C_S1\n",
            "3 Abs_S3 C_S3\n",
            "5 Abs_S5 C_S5\n",
            "7 Abs_S7 C_S7\n",
            "9 Abs_S9 C_S9\n",
            "11 Abs_S11 C_S11\n",
            "13 Abs_S13 C_S13\n",
            "15 Abs_S15 C_S15"
          ]
        }
      ],
      "source": [
        "substrate_concentrations = [1, 3, 5, 7, 9, 11, 13, 15]\n",
        "for s in substrate_concentrations:\n",
        "    abs_col_name = f'Abs_S{s}' # This creates a string where the value of 's' is put instead of \"{s}\"\".\n",
        "    conc_col_name = f'C_S{s}' # Same type string creation \n",
        "    df[conc_col_name] = df[abs_col_name] / (ext_coeff * l)\n",
        "    print(s, abs_col_name, conc_col_name)"
      ],
      "id": "04258b31"
    },
    {
      "cell_type": "markdown",
      "metadata": {},
      "source": [
        "And we can check that the columns we expect have been added to the\n",
        "`DataFrame`."
      ],
      "id": "054591ec-550f-4f3c-9264-2f61d9baa942"
    },
    {
      "cell_type": "code",
      "execution_count": 11,
      "metadata": {
        "solution": true
      },
      "outputs": [
        {
          "output_type": "display_data",
          "metadata": {},
          "data": {
            "text/html": [
              "\n",
              "</div>"
            ]
          }
        }
      ],
      "source": [
        "display(df)"
      ],
      "id": "25b099a9"
    },
    {
      "cell_type": "markdown",
      "metadata": {},
      "source": [
        "#### (c) Plot\n",
        "\n",
        "Plot \\[P\\] as a function of time for all experiments in one single\n",
        "graph.\n",
        "\n",
        "Here it is again very useful to use a `for`-loop"
      ],
      "id": "def20538-c4e9-4852-b589-a1620a6c3cff"
    },
    {
      "cell_type": "code",
      "execution_count": 12,
      "metadata": {},
      "outputs": [
        {
          "output_type": "display_data",
          "metadata": {},
          "data": {
            "image/png": "[encoded data removed]"
          }
        }
      ],
      "source": [
        "fig, ax = plt.subplots(figsize=(7, 4))\n",
        "\n",
        "x_axis = df['time_(s)']\n",
        "substrate_concentrations = [1, 3, 5, 7, 9, 11, 13, 15]\n",
        "for s in substrate_concentrations:\n",
        "    conc_col_name = f'C_S{s}'\n",
        "    y_axis = df[conc_col_name]\n",
        "\n",
        "    ax.plot(x_axis, y_axis, label=conc_col_name)\n",
        "\n",
        "ax.legend()    "
      ],
      "id": "2fdfe984"
    },
    {
      "cell_type": "markdown",
      "metadata": {},
      "source": [
        "#### (d)\n",
        "\n",
        "How could you use Excel to determine $V_0$ for each concentration of\n",
        "$S$? Create a table of $V_0$ vs $[S]$\n",
        "\n",
        "#### (e)\n",
        "\n",
        "Why is it important to use $V_0$ rather than $V$ at a later time point\n",
        "when creating the Michaelis-Menten plot?\n",
        "\n",
        "#### (f)\n",
        "\n",
        "Plot $V_0$ against substrate concentration and estimate $k_{cat}$ and\n",
        "$K_M$ visually (remember units)\n",
        "\n",
        "------------------------------------------------------------------------\n",
        "\n",
        "## Analysis of a data set obeying Michaelis-Menten kinetics (Unfinished)"
      ],
      "id": "d27d1179-b097-4886-9779-f1c405613948"
    },
    {
      "cell_type": "code",
      "execution_count": 13,
      "metadata": {},
      "outputs": [],
      "source": [
        "import pandas as pd\n",
        "import numpy as np\n",
        "import matplotlib.pyplot as plt\n",
        "from scipy.optimize import curve_fit\n",
        "pd.set_option('display.max_rows', 6)"
      ],
      "id": "80294450"
    },
    {
      "cell_type": "markdown",
      "metadata": {},
      "source": [
        "The kinetics for an enzyme were investigated using the absorbance of the\n",
        "product to calculate the initial velocities for a range of different\n",
        "initial concentrations of the substrate. The data given in the dataset\n",
        "`week49_2.xlsx` was obtained. Use these data to answer the following\n",
        "questions."
      ],
      "id": "67fa1bba-f3ed-41f9-9456-8128686aebdf"
    },
    {
      "cell_type": "code",
      "execution_count": 14,
      "metadata": {},
      "outputs": [],
      "source": [
        "from fysisk_biokemi.widgets import DataUploader\n",
        "from IPython.display import display \n",
        "uploader = DataUploader()\n",
        "uploader.display()"
      ],
      "id": "333609e0"
    },
    {
      "cell_type": "markdown",
      "metadata": {},
      "source": [
        "Run the next cell **after** uploading the file"
      ],
      "id": "70e5f917-3205-4ce5-8049-e40b6f46ce34"
    },
    {
      "cell_type": "code",
      "execution_count": 15,
      "metadata": {},
      "outputs": [],
      "source": [
        "df = uploader.get_dataframe()\n",
        "display(df)"
      ],
      "id": "94a24741"
    },
    {
      "cell_type": "code",
      "execution_count": 16,
      "metadata": {
        "solution": true
      },
      "outputs": [
        {
          "output_type": "display_data",
          "metadata": {},
          "data": {
            "text/html": [
              "\n",
              "<p>39 rows × 2 columns</p>\n",
              "</div>"
            ]
          }
        }
      ],
      "source": [
        "from IPython.display import display \n",
        "from fysisk_biokemi.datasets import load_dataset\n",
        "df = load_dataset('week49_2') # Load from package for the solution so it doesn't require to interact.\n",
        "display(df)"
      ],
      "id": "2a5ea773"
    },
    {
      "cell_type": "markdown",
      "metadata": {},
      "source": [
        "#### (a) SI Units\n",
        "\n",
        "Convert the concentrations of substrate and the velocities to the SI\n",
        "units $\\text{M}$ and $\\text{M}\\cdot\\text{s}^{-1}$, respectively."
      ],
      "id": "c9d70fbc-94d8-422a-8f5c-76854d282f8e"
    },
    {
      "cell_type": "code",
      "execution_count": 18,
      "metadata": {
        "solution": true
      },
      "outputs": [
        {
          "output_type": "display_data",
          "metadata": {},
          "data": {
            "text/html": [
              "\n",
              "<p>39 rows × 4 columns</p>\n",
              "</div>"
            ]
          }
        }
      ],
      "source": [
        "df['[S]_(M)'] = df['[S]_(mM)'] * 10**(-3)\n",
        "df['V0_(M/s)'] = df['V0_(uM/s)'] * 10**(-6)\n",
        "display(df)"
      ],
      "id": "a3b6eb9b"
    },
    {
      "cell_type": "markdown",
      "metadata": {},
      "source": [
        "#### (b) Plot & estimate\n",
        "\n",
        "Plot the initial velocities, $V_0$, as a function of substrate\n",
        "concentrations, $[S]$. Estimate $K_M$ and $V_\\mathrm{max}$ from this\n",
        "plot."
      ],
      "id": "b7e1a94e-f039-49bb-bd6e-139b9f9aab44"
    },
    {
      "cell_type": "code",
      "execution_count": 20,
      "metadata": {
        "solution": true
      },
      "outputs": [
        {
          "output_type": "display_data",
          "metadata": {},
          "data": {
            "image/png": "[encoded data removed]"
          }
        }
      ],
      "source": [
        "fig, ax = plt.subplots()\n",
        "ax.plot(df['[S]_(M)'], df['V0_(M/s)'], 'o')\n",
        "ax.set_xlabel('[S] (M)')\n",
        "ax.set_ylabel('$V_0$ (M/s)')\n",
        "ax.grid('on')\n",
        "ax.set_ylim(0, df['V0_(M/s)'].max()*1.2)"
      ],
      "id": "5a76e4db"
    },
    {
      "cell_type": "markdown",
      "metadata": {},
      "source": [
        "#### (c) Fit\n",
        "\n",
        "Now we want to fit using the Michaelis-Menten equation, as per usual\n",
        "when the task is fitting we have to define the function we are fitting\n",
        "with"
      ],
      "id": "17867290-18d7-45ce-a654-b59eaea7272f"
    },
    {
      "cell_type": "code",
      "execution_count": 22,
      "metadata": {
        "solution": true
      },
      "outputs": [],
      "source": [
        "def michaelis_menten(S, Vmax, Km):\n",
        "    return (Vmax * S) / (Km + S)"
      ],
      "id": "c248b2b5"
    },
    {
      "cell_type": "markdown",
      "metadata": {},
      "source": [
        "And then we can follow our usual procedure to make the fit"
      ],
      "id": "3cc01b5d-1fe0-4c6c-a38e-e2be4dbdf4ac"
    },
    {
      "cell_type": "code",
      "execution_count": 24,
      "metadata": {
        "solution": true
      },
      "outputs": [
        {
          "output_type": "stream",
          "name": "stdout",
          "text": [
            "Vmax = 0.000501\n",
            "Km = 0.002086"
          ]
        }
      ],
      "source": [
        "x_data = df['[S]_(M)']\n",
        "y_data = df['V0_(M/s)']\n",
        "\n",
        "popt, pcov = curve_fit(michaelis_menten, x_data, y_data)\n",
        "Vmax, Km = popt\n",
        "\n",
        "print(f\"{Vmax = :03f}\")\n",
        "print(f\"{Km = :03f}\")"
      ],
      "id": "b15ade96"
    },
    {
      "cell_type": "markdown",
      "metadata": {},
      "source": [
        "How do these values compare to your estimate?\n",
        "\n",
        "#### (d)\n",
        "\n",
        "The kcat of the enzyme was determined to be $20000 \\ \\text{s}^{-1}$.\n",
        "Calculate the concentration of the enzyme used in the assay."
      ],
      "id": "f368acf0-1982-4d4f-af26-d3d2252459fc"
    }
  ],
  "nbformat": 4,
  "nbformat_minor": 5,
  "metadata": {
    "kernelspec": {
      "name": "python3",
      "display_name": "Python 3 (ipykernel)",
      "language": "python",
      "path": "/home/runner/work/fysisk-biokemi/fysisk-biokemi/.venv/share/jupyter/kernels/python3"
    },
    "language_info": {
      "name": "python",
      "codemirror_mode": {
        "name": "ipython",
        "version": "3"
      },
      "file_extension": ".py",
      "mimetype": "text/x-python",
      "nbconvert_exporter": "python",
      "pygments_lexer": "ipython3",
      "version": "3.11.13"
    }
  }
}