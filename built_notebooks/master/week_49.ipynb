{
  "cells": [
    {
      "cell_type": "markdown",
      "metadata": {},
      "source": [
        "# Week 49"
      ],
      "id": "18a5b486-1776-4211-98e6-d94ac3481026"
    },
    {
      "cell_type": "code",
      "execution_count": 1,
      "metadata": {},
      "outputs": [],
      "source": [
        "try:\n",
        "    import fysisk_biokemi\n",
        "    print(\"Already installed\")\n",
        "except ImportError:\n",
        "    %pip install -q \"fysisk_biokemi[colab] @ git+https://github.com/au-mbg/fysisk-biokemi.git\""
      ],
      "id": "0630c843"
    },
    {
      "cell_type": "markdown",
      "metadata": {},
      "source": [
        "------------------------------------------------------------------------\n",
        "\n",
        "## Design of an enzyme kinetics experiment (Unfinished)"
      ],
      "id": "0922ee5a-d4a1-4434-a709-6742f726160a"
    },
    {
      "cell_type": "code",
      "execution_count": 2,
      "metadata": {},
      "outputs": [],
      "source": [
        "import matplotlib.pyplot as plt"
      ],
      "id": "190a8fa5"
    },
    {
      "cell_type": "markdown",
      "metadata": {},
      "source": [
        "In the Excel document tø12_week49_data you will find a data set in which\n",
        "an enzyme catalyzed formation of product P, with varying start\n",
        "concentration of substrates, \\[S\\], was followed over time. The product\n",
        "absorbs light at a specific wavelength with an extinction coefficient of\n",
        "0.068 $\\mu\\text{M}^{-1}\\cdot \\text{cm}^{-1}$, and the absorbance was\n",
        "measured in a light path of 1 cm throughout the time course.\n",
        "\n",
        "You can load the dataset using the cells below;"
      ],
      "id": "e4bead2b-ba6e-4c29-a8f9-bc778c0663f0"
    },
    {
      "cell_type": "code",
      "execution_count": 3,
      "metadata": {},
      "outputs": [],
      "source": [
        "from fysisk_biokemi.widgets import DataUploader\n",
        "from IPython.display import display \n",
        "uploader = DataUploader()\n",
        "uploader.display()"
      ],
      "id": "85579614"
    },
    {
      "cell_type": "markdown",
      "metadata": {},
      "source": [
        "Run the next cell **after** uploading the file"
      ],
      "id": "4c9dca47-59d0-458f-ae26-cd0577d05c90"
    },
    {
      "cell_type": "code",
      "execution_count": 4,
      "metadata": {},
      "outputs": [],
      "source": [
        "df = uploader.get_dataframe()\n",
        "display(df)"
      ],
      "id": "a86d3331"
    },
    {
      "cell_type": "code",
      "execution_count": 5,
      "metadata": {
        "solution": true
      },
      "outputs": [
        {
          "output_type": "display_data",
          "metadata": {},
          "data": {
            "text/html": [
              "\n",
              "</div>"
            ]
          }
        }
      ],
      "source": [
        "from IPython.display import display \n",
        "from fysisk_biokemi.datasets import load_dataset\n",
        "df = load_dataset('week49_1') # Load from package for the solution so it doesn't require to interact.\n",
        "display(df)"
      ],
      "id": "6ab28fd6"
    },
    {
      "cell_type": "markdown",
      "metadata": {},
      "source": [
        "The headers, like `Abs_S1` refer to the substrate concentration so `S1`\n",
        "means a substrate concentration of 1 $\\mu\\text{M}$.\n",
        "\n",
        "#### (a)\n",
        "\n",
        "Convert the extinction coefficient to units given in\n",
        "$\\text{M}^{-1}\\cdot \\text{cm}^{-1}$ and assign it to a variable. Also\n",
        "assign the light path length to a variable."
      ],
      "id": "cb893a83-a3df-4bbc-941a-4e6ce29cb3cd"
    },
    {
      "cell_type": "code",
      "execution_count": 7,
      "metadata": {
        "solution": true
      },
      "outputs": [],
      "source": [
        "ext_coeff = 0.068 / 10**(-6) # 1/(M cm)\n",
        "l = 1 # cm"
      ],
      "id": "c48ee8d5"
    },
    {
      "cell_type": "markdown",
      "metadata": {},
      "source": [
        "#### (b) Calculate concentrations\n",
        "\n",
        "Using Lambert-Beers law, calculate the concentration of product, \\[P\\],\n",
        "in M for each time series.\n",
        "\n",
        "> **Loops**\n",
        ">\n",
        "> Loops are one of the most useful parts of programming, loops allows us\n",
        "> to repeat an operation on many different elements. This allows us to\n",
        "> not have to repeat code many times, making it simpler to understand\n",
        "> and less prone to error - and at the same time more flexible.\n",
        ">\n",
        "> A common type of loop in Python is the `for` loop, which does\n",
        "> something `for` every item it is told to consider. The syntax of a\n",
        "> `for`-loop is like so:\n",
        ">\n",
        "> ``` python\n",
        "> total = 0\n",
        "> for count in [1, 2, 3, 4, 5]:\n",
        ">     print(f\"I have {count} apples.\")\n",
        "> ```\n",
        ">\n",
        "> Which will print\n",
        ">\n",
        ">     I have 1 apples\n",
        ">     I have 2 apples\n",
        ">     I have 3 apples\n",
        ">     I have 4 apples\n",
        ">     I have 5 apples\n",
        ">\n",
        "> So the `for`-loop did the operation of printing a string for each\n",
        "> value of `count`.\n",
        ">\n",
        "> When working with a `DataFrame` like in this exercise, we may for\n",
        "> example want to do something `for` each column, one way of doing that\n",
        "> is to loop over the column names, say we want we have a `DataFrame`\n",
        "> `df` with columns named `\"col1\", \"col2\", \"col3\"` we can loop over that\n",
        "> as\n",
        ">\n",
        "> ``` python\n",
        "> for name in ['col1', 'col2', 'col3']\n",
        ">     df[name] = ... # Some operation\n",
        "> ```\n",
        "\n",
        "The cell below setups a loop calculate the concentrations for each of\n",
        "these current columns in the dataframe."
      ],
      "id": "1bf28eac-2901-4b36-b0c0-462682f6f0be"
    },
    {
      "cell_type": "code",
      "execution_count": 9,
      "metadata": {
        "solution": true
      },
      "outputs": [
        {
          "output_type": "stream",
          "name": "stdout",
          "text": [
            "1 Abs_S1 C_S1\n",
            "3 Abs_S3 C_S3\n",
            "5 Abs_S5 C_S5\n",
            "7 Abs_S7 C_S7\n",
            "9 Abs_S9 C_S9\n",
            "11 Abs_S11 C_S11\n",
            "13 Abs_S13 C_S13\n",
            "15 Abs_S15 C_S15"
          ]
        }
      ],
      "source": [
        "substrate_concentrations = [1, 3, 5, 7, 9, 11, 13, 15]\n",
        "for s in substrate_concentrations:\n",
        "    abs_col_name = f'Abs_S{s}' # This creates a string where the value of 's' is put instead of \"{s}\"\".\n",
        "    conc_col_name = f'C_S{s}' # Same type string creation \n",
        "    df[conc_col_name] = df[abs_col_name] / (ext_coeff * l)\n",
        "    print(s, abs_col_name, conc_col_name)"
      ],
      "id": "d2e99fc4"
    },
    {
      "cell_type": "markdown",
      "metadata": {},
      "source": [
        "And we can check that the columns we expect have been added to the\n",
        "`DataFrame`."
      ],
      "id": "43d25ec9-9f21-4041-b638-2327220e7fd6"
    },
    {
      "cell_type": "code",
      "execution_count": 11,
      "metadata": {
        "solution": true
      },
      "outputs": [
        {
          "output_type": "display_data",
          "metadata": {},
          "data": {
            "text/html": [
              "\n",
              "</div>"
            ]
          }
        }
      ],
      "source": [
        "display(df)"
      ],
      "id": "06840175"
    },
    {
      "cell_type": "markdown",
      "metadata": {},
      "source": [
        "#### (c) Plot\n",
        "\n",
        "Plot \\[P\\] as a function of time for all experiments in one single\n",
        "graph.\n",
        "\n",
        "Here it is again very useful to use a `for`-loop"
      ],
      "id": "d1b62cfa-4c16-49df-93b9-6c846273fb7e"
    },
    {
      "cell_type": "code",
      "execution_count": 12,
      "metadata": {},
      "outputs": [
        {
          "output_type": "display_data",
          "metadata": {},
          "data": {
            "image/png": "[encoded data removed]"
          }
        }
      ],
      "source": [
        "fig, ax = plt.subplots(figsize=(7, 4))\n",
        "\n",
        "x_axis = df['time_(s)']\n",
        "substrate_concentrations = [1, 3, 5, 7, 9, 11, 13, 15]\n",
        "for s in substrate_concentrations:\n",
        "    conc_col_name = f'C_S{s}'\n",
        "    y_axis = df[conc_col_name]\n",
        "\n",
        "    ax.plot(x_axis, y_axis, label=conc_col_name)\n",
        "\n",
        "ax.legend()    "
      ],
      "id": "057c172a"
    },
    {
      "cell_type": "markdown",
      "metadata": {},
      "source": [
        "#### (d)\n",
        "\n",
        "How could you use Excel to determine $V_0$ for each concentration of\n",
        "$S$? Create a table of $V_0$ vs $[S]$\n",
        "\n",
        "#### (e)\n",
        "\n",
        "Why is it important to use $V_0$ rather than $V$ at a later time point\n",
        "when creating the Michaelis-Menten plot?\n",
        "\n",
        "#### (f)\n",
        "\n",
        "Plot $V_0$ against substrate concentration and estimate $k_{cat}$ and\n",
        "$K_M$ visually (remember units)\n",
        "\n",
        "------------------------------------------------------------------------\n",
        "\n",
        "## Analysis of a data set obeying Michaelis-Menten kinetics (Unfinished)"
      ],
      "id": "dfc92993-2c09-4ce3-8068-a221d1f9fb5e"
    },
    {
      "cell_type": "code",
      "execution_count": 13,
      "metadata": {},
      "outputs": [],
      "source": [
        "import pandas as pd\n",
        "import numpy as np\n",
        "import matplotlib.pyplot as plt\n",
        "from scipy.optimize import curve_fit\n",
        "pd.set_option('display.max_rows', 6)"
      ],
      "id": "8fa41539"
    },
    {
      "cell_type": "markdown",
      "metadata": {},
      "source": [
        "The kinetics for an enzyme were investigated using the absorbance of the\n",
        "product to calculate the initial velocities for a range of different\n",
        "initial concentrations of the substrate. The data given in the dataset\n",
        "`week49_2.xlsx` was obtained. Use these data to answer the following\n",
        "questions."
      ],
      "id": "e2b31754-2f0b-490e-96e0-a50f14a22082"
    },
    {
      "cell_type": "code",
      "execution_count": 14,
      "metadata": {},
      "outputs": [],
      "source": [
        "from fysisk_biokemi.widgets import DataUploader\n",
        "from IPython.display import display \n",
        "uploader = DataUploader()\n",
        "uploader.display()"
      ],
      "id": "b323c361"
    },
    {
      "cell_type": "markdown",
      "metadata": {},
      "source": [
        "Run the next cell **after** uploading the file"
      ],
      "id": "cf57e13a-1b76-4420-a27b-d061ade70ab3"
    },
    {
      "cell_type": "code",
      "execution_count": 15,
      "metadata": {},
      "outputs": [],
      "source": [
        "df = uploader.get_dataframe()\n",
        "display(df)"
      ],
      "id": "00fd67ac"
    },
    {
      "cell_type": "code",
      "execution_count": 16,
      "metadata": {
        "solution": true
      },
      "outputs": [
        {
          "output_type": "display_data",
          "metadata": {},
          "data": {
            "text/html": [
              "\n",
              "<p>39 rows × 2 columns</p>\n",
              "</div>"
            ]
          }
        }
      ],
      "source": [
        "from IPython.display import display \n",
        "from fysisk_biokemi.datasets import load_dataset\n",
        "df = load_dataset('week49_2') # Load from package for the solution so it doesn't require to interact.\n",
        "display(df)"
      ],
      "id": "642519d0"
    },
    {
      "cell_type": "markdown",
      "metadata": {},
      "source": [
        "#### (a) SI Units\n",
        "\n",
        "Convert the concentrations of substrate and the velocities to the SI\n",
        "units $\\text{M}$ and $\\text{M}\\cdot\\text{s}^{-1}$, respectively."
      ],
      "id": "970b9898-37d2-44db-a135-c366c5f83c74"
    },
    {
      "cell_type": "code",
      "execution_count": 18,
      "metadata": {
        "solution": true
      },
      "outputs": [
        {
          "output_type": "display_data",
          "metadata": {},
          "data": {
            "text/html": [
              "\n",
              "<p>39 rows × 4 columns</p>\n",
              "</div>"
            ]
          }
        }
      ],
      "source": [
        "df['[S]_(M)'] = df['[S]_(mM)'] * 10**(-3)\n",
        "df['V0_(M/s)'] = df['V0_(uM/s)'] * 10**(-6)\n",
        "display(df)"
      ],
      "id": "e88b84dc"
    },
    {
      "cell_type": "markdown",
      "metadata": {},
      "source": [
        "#### (b) Plot & estimate\n",
        "\n",
        "Plot the initial velocities, $V_0$, as a function of substrate\n",
        "concentrations, $[S]$. Estimate $K_M$ and $V_\\mathrm{max}$ from this\n",
        "plot."
      ],
      "id": "00f93b15-0a18-48ee-86f7-c357ef792ef0"
    },
    {
      "cell_type": "code",
      "execution_count": 20,
      "metadata": {
        "solution": true
      },
      "outputs": [
        {
          "output_type": "display_data",
          "metadata": {},
          "data": {
            "image/png": "[encoded data removed]"
          }
        }
      ],
      "source": [
        "fig, ax = plt.subplots()\n",
        "ax.plot(df['[S]_(M)'], df['V0_(M/s)'], 'o')\n",
        "ax.set_xlabel('[S] (M)')\n",
        "ax.set_ylabel('$V_0$ (M/s)')\n",
        "ax.grid('on')\n",
        "ax.set_ylim(0, df['V0_(M/s)'].max()*1.2)"
      ],
      "id": "6d0117ba"
    },
    {
      "cell_type": "markdown",
      "metadata": {},
      "source": [
        "#### (c) Fit\n",
        "\n",
        "Now we want to fit using the Michaelis-Menten equation, as per usual\n",
        "when the task is fitting we have to define the function we are fitting\n",
        "with"
      ],
      "id": "879ac27d-2166-4442-85b6-80997bdb09d9"
    },
    {
      "cell_type": "code",
      "execution_count": 22,
      "metadata": {
        "solution": true
      },
      "outputs": [],
      "source": [
        "def michaelis_menten(S, Vmax, Km):\n",
        "    return (Vmax * S) / (Km + S)"
      ],
      "id": "c14098cf"
    },
    {
      "cell_type": "markdown",
      "metadata": {},
      "source": [
        "> **Caution**\n",
        ">\n",
        "> This is one of those places were parentheses are crucial.\n",
        "\n",
        "And then we can follow our usual procedure to make the fit"
      ],
      "id": "bc2fb99c-a0cf-4d00-9c79-ebe397d84c92"
    },
    {
      "cell_type": "code",
      "execution_count": 24,
      "metadata": {
        "solution": true
      },
      "outputs": [
        {
          "output_type": "stream",
          "name": "stdout",
          "text": [
            "Vmax = 0.0005\n",
            "Km = 0.0021"
          ]
        }
      ],
      "source": [
        "x_data = df['[S]_(M)']\n",
        "y_data = df['V0_(M/s)']\n",
        "\n",
        "popt, pcov = curve_fit(michaelis_menten, x_data, y_data)\n",
        "Vmax, Km = popt\n",
        "\n",
        "print(f\"{Vmax = :.4f}\")\n",
        "print(f\"{Km = :.4f}\")"
      ],
      "id": "c7eb96eb"
    },
    {
      "cell_type": "markdown",
      "metadata": {},
      "source": [
        "How do these values compare to your estimate?\n",
        "\n",
        "#### (d) Enzyme concentration\n",
        "\n",
        "The $k_{cat}$ of the enzyme was determined to be\n",
        "$20000 \\ \\text{s}^{-1}$. Calculate, in the cell below, the concentration\n",
        "of the enzyme used in the assay."
      ],
      "id": "53cb85d8-08a9-4fbf-a008-ece3f83159d4"
    },
    {
      "cell_type": "code",
      "execution_count": 26,
      "metadata": {
        "solution": true
      },
      "outputs": [
        {
          "output_type": "stream",
          "name": "stdout",
          "text": [
            "Enzyme concentration: 2.504e-08 M"
          ]
        }
      ],
      "source": [
        "kcat = 20000\n",
        "enzyme_concentration = Vmax / kcat \n",
        "print(f'Enzyme concentration: {enzyme_concentration:.3e} M')"
      ],
      "id": "c1e28300"
    },
    {
      "cell_type": "markdown",
      "metadata": {},
      "source": [
        "------------------------------------------------------------------------\n",
        "\n",
        "## Qualitative description of Michaelis-Menten kinetics"
      ],
      "id": "4c13e77e-d8b5-42ef-bab2-27c18ea3e0de"
    },
    {
      "cell_type": "code",
      "execution_count": 27,
      "metadata": {},
      "outputs": [],
      "source": [
        "import fysisk_biokemi.widgets as fbw\n",
        "from fysisk_biokemi.widgets.utils import enable_custom_widget_colab, disable_custom_widget_colab\n",
        "\n",
        "import plotly\n",
        "from IPython.display import display, HTML\n",
        "enable_custom_widget_colab()\n",
        "fbw.michaelis_menten_demo()"
      ],
      "id": "a208fbc1"
    },
    {
      "cell_type": "markdown",
      "metadata": {},
      "source": [
        "Use the widget created by the cell above to answer the following the\n",
        "questions.\n",
        "\n",
        "#### (a)\n",
        "\n",
        "Setting $V_\\mathrm{max} = 400$ and $[E]_\\mathrm{tot} = 0.0005$, change\n",
        "$K_M$ from 0.5 to 5 to 10 to 50. Describe the change in curve appearance\n",
        "and explain it using the Michaelis-Menten (MM) equation.\n",
        "\n",
        "#### (b)\n",
        "\n",
        "What is the biological meaning of $K_M$?\n",
        "\n",
        "#### (c)\n",
        "\n",
        "Now set $[E]_\\mathrm{tot} = 0.0005$, and $K_M = 5$, change\n",
        "$V_\\mathrm{max}$ from 40 to 100 to 900. Do you observe any changes?\n",
        "Explain your answer using the widget and the MM equation\n",
        "\n",
        "#### (d)\n",
        "\n",
        "Now set $K_M = 5$ and $V_\\mathrm{max} = 100$, change $[E]_\\mathrm{tot}$\n",
        "from 0.0005 to 0.05. Do you observe any change in curve appearance, in\n",
        "kcat or in kcat/KM? Explain your answer\n",
        "\n",
        "------------------------------------------------------------------------\n",
        "\n",
        "## Enzyme inhibitors (I)"
      ],
      "id": "768c7cd5-f70c-4336-b6fc-114733cb98da"
    },
    {
      "cell_type": "code",
      "execution_count": 28,
      "metadata": {},
      "outputs": [],
      "source": [
        "import matplotlib.pyplot as plt\n",
        "import pandas as pd\n",
        "from scipy.optimize import curve_fit\n",
        "pd.set_option('display.max_rows', 6)"
      ],
      "id": "f4b0f0d9"
    },
    {
      "cell_type": "markdown",
      "metadata": {},
      "source": [
        "An enzyme obeying the Michaelis-Menten kinetics model was tested for\n",
        "substrate conversion in the absence and presence of an inhibitor, called\n",
        "inhibitor1 at a concentration of\n",
        "$[\\textrm{I}] = 2.5 \\cdot 10^{-3} \\ \\textrm{M}$. The data set is\n",
        "contained in the file `week49_6_inhib.xlsx`. Using this data a\n",
        "researcher wanted to determine the type of inhibition.\n",
        "\n",
        "Start by loading the dataset"
      ],
      "id": "4e080c1a-c30f-410d-8253-0f4ed1944102"
    },
    {
      "cell_type": "code",
      "execution_count": 29,
      "metadata": {},
      "outputs": [],
      "source": [
        "from fysisk_biokemi.widgets import DataUploader\n",
        "from IPython.display import display \n",
        "uploader = DataUploader()\n",
        "uploader.display()"
      ],
      "id": "6083e784"
    },
    {
      "cell_type": "markdown",
      "metadata": {},
      "source": [
        "Run the next cell **after** uploading the file"
      ],
      "id": "f6bf2764-516a-42dc-a480-84c7383d0947"
    },
    {
      "cell_type": "code",
      "execution_count": 30,
      "metadata": {},
      "outputs": [],
      "source": [
        "df = uploader.get_dataframe()\n",
        "display(df)"
      ],
      "id": "5cfa7673"
    },
    {
      "cell_type": "code",
      "execution_count": 31,
      "metadata": {
        "solution": true
      },
      "outputs": [
        {
          "output_type": "display_data",
          "metadata": {},
          "data": {
            "text/html": [
              "\n",
              "<p>39 rows × 3 columns</p>\n",
              "</div>"
            ]
          }
        }
      ],
      "source": [
        "from IPython.display import display \n",
        "from fysisk_biokemi.datasets import load_dataset\n",
        "df = load_dataset('week49_6') # Load from package for the solution so it doesn't require to interact.\n",
        "display(df)"
      ],
      "id": "90123e19"
    },
    {
      "cell_type": "markdown",
      "metadata": {},
      "source": [
        "#### (a) Convert units\n",
        "\n",
        "Convert the concentrations of substrate and the initial velocities to\n",
        "units given in M and $\\mathrm{M}\\cdot \\mathrm{s}^{-1}$, respectively."
      ],
      "id": "95284ca1-2876-4c89-a2f2-6f67c2d98ec5"
    },
    {
      "cell_type": "code",
      "execution_count": 33,
      "metadata": {
        "solution": true
      },
      "outputs": [
        {
          "output_type": "display_data",
          "metadata": {},
          "data": {
            "text/html": [
              "\n",
              "<p>39 rows × 6 columns</p>\n",
              "</div>"
            ]
          }
        }
      ],
      "source": [
        "df['[S]_(M)'] = df['[S]_(mM)'] * 10**(-3)\n",
        "df['V0_no_inhib_(M/s)'] = df['V0_no_inhib_(uM/s)'] * 10**(-6)\n",
        "df['V0_inhib_(M/s)'] = df['V0_inhib_(uM/s)'] * 10**(-6)\n",
        "display(df)"
      ],
      "id": "471f8c73"
    },
    {
      "cell_type": "markdown",
      "metadata": {},
      "source": [
        "#### (b) Plot\n",
        "\n",
        "Plot the initial velocities of both experiments as a function of\n",
        "substrate concentration in one plot. Estimate $k_\\mathrm{cat}$ and\n",
        "$V_\\mathrm{max}$ in the presence and absence of inhibitor from the plot."
      ],
      "id": "b8e76399-8747-4313-abc9-816c5a0869ff"
    },
    {
      "cell_type": "code",
      "execution_count": 35,
      "metadata": {
        "solution": true
      },
      "outputs": [
        {
          "output_type": "display_data",
          "metadata": {},
          "data": {
            "image/png": "[encoded data removed]"
          }
        }
      ],
      "source": [
        "fig, ax = plt.subplots(figsize=(6, 4))\n",
        "\n",
        "ax.plot(df['[S]_(M)'], df['V0_no_inhib_(M/s)'], 'o', label='No inhibitor')\n",
        "ax.plot(df['[S]_(M)'], df['V0_inhib_(M/s)'], 'o', label='Inhibitor')\n",
        "\n",
        "ax.set_xlabel('[S] (M)')\n",
        "ax.set_ylabel('$V_0$ (M/s)')\n",
        "ax.legend()"
      ],
      "id": "363a9f72"
    },
    {
      "cell_type": "markdown",
      "metadata": {},
      "source": [
        "------------------------------------------------------------------------\n",
        "\n",
        "The researcher wanted to determine $V_\\mathrm{max}$ and $K_M$ values for\n",
        "both experiments in order to correctly conclude on the type of\n",
        "inhibitor.\n",
        "\n",
        "#### (c)\n",
        "\n",
        "Determine $V_\\mathrm{max}$ and $K_M$ by fitting.\n",
        "\n",
        "Start writing the function to fit with"
      ],
      "id": "857dfccd-d6a2-48df-9f28-0af405cbbb67"
    },
    {
      "cell_type": "code",
      "execution_count": 37,
      "metadata": {
        "solution": true
      },
      "outputs": [],
      "source": [
        "def michaelis_menten(S, Vmax, Km):\n",
        "    return (Vmax * S) / (S + Km)"
      ],
      "id": "e6b58430"
    },
    {
      "cell_type": "markdown",
      "metadata": {},
      "source": [
        "And use the `curve_fit`-function to find the parameters"
      ],
      "id": "2862c307-f809-4ef3-aada-7603536df056"
    },
    {
      "cell_type": "code",
      "execution_count": 39,
      "metadata": {
        "solution": true
      },
      "outputs": [
        {
          "output_type": "stream",
          "name": "stdout",
          "text": [
            "Without inhibitor:\n",
            "     V_max = 6.50e-05\n",
            "     Km = 3.41e-03\n",
            "With inhibitor:\n",
            "     V_max = 6.37e-05\n",
            "     Km = 1.22e-02"
          ]
        }
      ],
      "source": [
        "# No inhibitor: \n",
        "popt, _ = curve_fit(michaelis_menten, df['[S]_(M)'], df['V0_no_inhib_(M/s)'])\n",
        "vmax, km = popt\n",
        "\n",
        "# With inhibitor\n",
        "popt, _ = curve_fit(michaelis_menten, df['[S]_(M)'], df['V0_inhib_(M/s)'])\n",
        "vmax_inhib, km_inhib = popt\n",
        "\n",
        "# Printing\n",
        "print('Without inhibitor:')\n",
        "print(f'\\t V_max = {vmax:.2e}')\n",
        "print(f'\\t Km = {km:.2e}')\n",
        "print('With inhibitor:')\n",
        "print(f'\\t V_max = {vmax_inhib:.2e}')\n",
        "print(f'\\t Km = {km_inhib:.2e}')"
      ],
      "id": "9ddac0dd"
    },
    {
      "cell_type": "markdown",
      "metadata": {},
      "source": [
        "#### (d)\n",
        "\n",
        "What type of inhibitor is inhibitor1?\n",
        "\n",
        "#### (e)\n",
        "\n",
        "Calculate $K_i$.  \n",
        "\n",
        "------------------------------------------------------------------------\n",
        "\n",
        "## Enzyme inhibitors (II)"
      ],
      "id": "10a6ef55-1f67-4d6b-abdc-3c984c480e8c"
    },
    {
      "cell_type": "code",
      "execution_count": 40,
      "metadata": {},
      "outputs": [],
      "source": [
        "import matplotlib.pyplot as plt\n",
        "import pandas as pd\n",
        "from scipy.optimize import curve_fit\n",
        "pd.set_option('display.max_rows', 6)"
      ],
      "id": "94b67065"
    },
    {
      "cell_type": "markdown",
      "metadata": {},
      "source": [
        "Two enzyme inhibitors were identified as part of a drug discovery\n",
        "program. To characterize the mechanism of action, the reaction kinetics\n",
        "were analysed for the enzyme alone and in the presence of 5 $\\mu$M of\n",
        "each of the inhibitors as a function of substrate concentration\n",
        "resulting in the data in the file `week49_7_inhib_II.xlsx`\n",
        "\n",
        "Load the dataset"
      ],
      "id": "c9093cac-9d82-41fe-894d-b429d7af1340"
    },
    {
      "cell_type": "code",
      "execution_count": 41,
      "metadata": {},
      "outputs": [],
      "source": [
        "from fysisk_biokemi.widgets import DataUploader\n",
        "from IPython.display import display \n",
        "uploader = DataUploader()\n",
        "uploader.display()"
      ],
      "id": "3e9d48de"
    },
    {
      "cell_type": "markdown",
      "metadata": {},
      "source": [
        "Run the next cell **after** uploading the file"
      ],
      "id": "909941d8-2f4d-48ca-8bd0-d8fe2bf8b38b"
    },
    {
      "cell_type": "code",
      "execution_count": 42,
      "metadata": {},
      "outputs": [],
      "source": [
        "df = uploader.get_dataframe()\n",
        "display(df)"
      ],
      "id": "f0d07640"
    },
    {
      "cell_type": "code",
      "execution_count": 43,
      "metadata": {
        "solution": true
      },
      "outputs": [
        {
          "output_type": "display_data",
          "metadata": {},
          "data": {
            "text/html": [
              "\n",
              "<p>33 rows × 4 columns</p>\n",
              "</div>"
            ]
          }
        }
      ],
      "source": [
        "from IPython.display import display \n",
        "from fysisk_biokemi.datasets import load_dataset\n",
        "df = load_dataset('week49_7') # Load from package for the solution so it doesn't require to interact.\n",
        "display(df)"
      ],
      "id": "cff1c138"
    },
    {
      "cell_type": "markdown",
      "metadata": {},
      "source": [
        "#### (a) Convert & plot\n",
        "\n",
        "Convert the measurements to SI units and plot the reaction rate against\n",
        "time for all three reactions.\n",
        "\n",
        "Start by converting the units"
      ],
      "id": "f77e58ba-b75f-4787-b5fd-86759d61d1b7"
    },
    {
      "cell_type": "code",
      "execution_count": 45,
      "metadata": {
        "solution": true
      },
      "outputs": [],
      "source": [
        "df['[S]_(M)'] = df['[S]_(uM)'] * 10**(-6)\n",
        "df['enz_(M/s)'] = df['enz_(nM/s)'] * 10**(-9)\n",
        "df['inhibitor2_(M/s)'] = df['inhibitor2_(nM/s)'] * 10**(-9)\n",
        "df['inhibitor3_(M/s)'] = df['inhibitor3_(nM/s)'] * 10**(-9)"
      ],
      "id": "d5a1b345"
    },
    {
      "cell_type": "markdown",
      "metadata": {},
      "source": [
        "And then plot"
      ],
      "id": "97fee64a-45ce-4266-b95f-daee6c5765b9"
    },
    {
      "cell_type": "code",
      "execution_count": 47,
      "metadata": {
        "solution": true
      },
      "outputs": [
        {
          "output_type": "display_data",
          "metadata": {},
          "data": {
            "image/png": "[encoded data removed]"
          }
        }
      ],
      "source": [
        "fig, ax = plt.subplots()\n",
        "\n",
        "col_names = ['enz_(M/s)', 'inhibitor2_(M/s)', 'inhibitor3_(M/s)']\n",
        "\n",
        "for col_name in col_names:\n",
        "    ax.plot(df['[S]_(M)'], df[col_name], 'o', label=col_name)\n",
        "\n",
        "ax.legend()\n",
        "ax.set_xlabel('Substrate concentration [M]', fontsize=14)\n",
        "ax.set_ylabel('$V_0$', fontsize=14)\n",
        "plt.show()"
      ],
      "id": "b308a104"
    },
    {
      "cell_type": "markdown",
      "metadata": {},
      "source": [
        "Based on the appearance of these plots:\n",
        "\n",
        "-   Can you determine the type of inhibition?\n",
        "-   Alternatively, can you exclude some mechanisms?\n",
        "\n",
        "#### (b) Intuit parameters\n",
        "\n",
        "Based on your answer to in (a) what do you expect for the parameters\n",
        "$K_M$ and $V_\\mathrm{max}$?\n",
        "\n",
        "-   Which dataset would have the highest $V_\\mathrm{max}$, which the\n",
        "    lowest?\n",
        "-   What about $K_M$?\n",
        "\n",
        "#### (c) Fit\n",
        "\n",
        "As always, we need the function we’re fitting with"
      ],
      "id": "18fa43de-891b-4f41-afe7-1997cf10fd96"
    },
    {
      "cell_type": "code",
      "execution_count": 48,
      "metadata": {},
      "outputs": [],
      "source": [
        "def michaelis_menten(S, Vmax, Km):\n",
        "    return (Vmax * S) / (S + Km)"
      ],
      "id": "258a7998"
    },
    {
      "cell_type": "markdown",
      "metadata": {},
      "source": [
        "Given we’re fitting on multiple datasets we will make our lives a bit\n",
        "easier by making a little function"
      ],
      "id": "d667066c-cb13-46d9-9322-c7fc8377966f"
    },
    {
      "cell_type": "code",
      "execution_count": 50,
      "metadata": {
        "solution": true
      },
      "outputs": [],
      "source": [
        "def fit_parameters(df, col_name):\n",
        "    popt, _ = curve_fit(michaelis_menten, df['[S]_(M)'], df[col_name])\n",
        "    vmax, km = popt\n",
        "    # Printing\n",
        "    print(f'{col_name}:')\n",
        "    print(f'\\t V_max = {vmax:.2e}')\n",
        "    print(f'\\t Km = {km:.2e}')"
      ],
      "id": "8b0fb0c5"
    },
    {
      "cell_type": "code",
      "execution_count": 52,
      "metadata": {
        "solution": true
      },
      "outputs": [
        {
          "output_type": "stream",
          "name": "stdout",
          "text": [
            "enz_(M/s):\n",
            "     V_max = 3.61e+00\n",
            "     Km = 1.49e+05\n",
            "inhibitor2_(M/s):\n",
            "     V_max = 6.63e-02\n",
            "     Km = 1.94e+04\n",
            "inhibitor3_(M/s):\n",
            "     V_max = 9.36e-02\n",
            "     Km = 1.02e+04"
          ]
        }
      ],
      "source": [
        "for col_name in col_names:\n",
        "    fit_parameters(df, col_name)"
      ],
      "id": "c5b1a4c3"
    },
    {
      "cell_type": "markdown",
      "metadata": {},
      "source": [
        "#### (d) Change\n",
        "\n",
        "In the fits above you will likely see that all the fitted parameters\n",
        "change between the different data sets – some by a little and some by a\n",
        "lot. How big does a change have to be to be considered significant?\n",
        "\n",
        "#### (e) $K_i$\n",
        "\n",
        "Determine the $K_i$ for each of the two inhibitors."
      ],
      "id": "14d18d9a-7108-4903-badc-f71d78efd8e7"
    }
  ],
  "nbformat": 4,
  "nbformat_minor": 5,
  "metadata": {
    "kernelspec": {
      "name": "python3",
      "display_name": "Python 3 (ipykernel)",
      "language": "python",
      "path": "/home/runner/work/fysisk-biokemi/fysisk-biokemi/.venv/share/jupyter/kernels/python3"
    },
    "language_info": {
      "name": "python",
      "codemirror_mode": {
        "name": "ipython",
        "version": "3"
      },
      "file_extension": ".py",
      "mimetype": "text/x-python",
      "nbconvert_exporter": "python",
      "pygments_lexer": "ipython3",
      "version": "3.11.13"
    }
  }
}