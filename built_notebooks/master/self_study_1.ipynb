{
  "cells": [
    {
      "cell_type": "markdown",
      "metadata": {},
      "source": [
        "# Self-study"
      ],
      "id": "11b14d9f-f7b5-45c2-8518-5f2487a2d2cf"
    },
    {
      "cell_type": "code",
      "execution_count": 1,
      "metadata": {},
      "outputs": [],
      "source": [
        "try:\n",
        "    import fysisk_biokemi\n",
        "    print(\"Already installed\")\n",
        "except ImportError:\n",
        "    %pip install -q \"fysisk_biokemi[colab] @ git+https://github.com/au-mbg/fysisk-biokemi.git\""
      ],
      "id": "4b2549ef"
    },
    {
      "cell_type": "markdown",
      "metadata": {},
      "source": [
        "------------------------------------------------------------------------"
      ],
      "id": "00238e5d-bc9f-4085-b614-26d40089d6ad"
    },
    {
      "cell_type": "code",
      "execution_count": 2,
      "metadata": {},
      "outputs": [],
      "source": [
        "import numpy as np"
      ],
      "id": "c0b410b3"
    },
    {
      "cell_type": "markdown",
      "metadata": {},
      "source": [
        "## Python as a calculator\n",
        "\n",
        "We can use Jupyter notebooks as a calculator with all the operations we\n",
        "are familiar with from a regular calculator.\n",
        "\n",
        "``` python\n",
        "1 + 1       # Addition with +\n",
        "3 - 1       # Subtraction with - \n",
        "4 * 4       # Multiplication with *\n",
        "20 / 5      # Division with /\n",
        "```\n",
        "\n",
        "#### (a) Doing some calculations\n",
        "\n",
        "Use Jupyter notebook to calculate the following:\n",
        "\n",
        "1.  $21 + 21$\n",
        "2.  $53 - 11$\n",
        "3.  $6 \\times 7$\n",
        "4.  $\\frac{546}{13}$"
      ],
      "id": "5f9dfc68-2da7-464a-b7b5-fef4d49491b3"
    },
    {
      "cell_type": "code",
      "execution_count": 4,
      "metadata": {
        "solution": true
      },
      "outputs": [
        {
          "output_type": "display_data",
          "metadata": {},
          "data": {
            "text/plain": [
              "42.0"
            ]
          }
        }
      ],
      "source": [
        "21 + 21\n",
        "53 - 11\n",
        "6 * 7\n",
        "546 / 13"
      ],
      "id": "d1363f2a"
    },
    {
      "cell_type": "markdown",
      "metadata": {},
      "source": [
        "#### (b) Using variables\n",
        "\n",
        "As also mentioned in “Introduction to the molecules of life”, it is\n",
        "often helpful to define quantities in variables, which gives them a name\n",
        "that can be used later. A variable is defined by using `=`, for example,\n",
        "we can define\n",
        "\n",
        "``` python\n",
        "a = 21 + 21\n",
        "```\n",
        "\n",
        "This means that the result of the calculation is stored in `a`.\n",
        "\n",
        "Repeat the calculations from exercise 1, but now save each result in a\n",
        "variable"
      ],
      "id": "90e2749a-ab17-474c-b40c-8b0c8d0a811d"
    },
    {
      "cell_type": "code",
      "execution_count": 6,
      "metadata": {
        "solution": true
      },
      "outputs": [],
      "source": [
        "a = 21 + 21 \n",
        "b = 53 - 11\n",
        "c = 6 * 7\n",
        "d = 546 / 13"
      ],
      "id": "52a2b3e7"
    },
    {
      "cell_type": "markdown",
      "metadata": {},
      "source": [
        "We can then use the defined variables in a new calculation"
      ],
      "id": "f5050333-7dcd-4011-9e13-44e15121336d"
    },
    {
      "cell_type": "code",
      "execution_count": 7,
      "metadata": {},
      "outputs": [
        {
          "output_type": "stream",
          "name": "stdout",
          "text": [
            "42.0"
          ]
        }
      ],
      "source": [
        "total = (a + b + c + d) / 4\n",
        "print(total)"
      ],
      "id": "8dd1fb11"
    },
    {
      "cell_type": "markdown",
      "metadata": {},
      "source": [
        "#### (c) A biological calculation\n",
        "\n",
        "In “Introduction to the molecules of life” we have made calculations\n",
        "about the number of cells in different parts of the body."
      ],
      "id": "23a474f4-de4f-4242-b8d4-1d10022d4fec"
    },
    {
      "cell_type": "code",
      "execution_count": 8,
      "metadata": {},
      "outputs": [],
      "source": [
        "total_cells = 37_000_000_000_000\n",
        "brain_cells = 86_000_000_000\n",
        "liver_cells = 240_000_000_000\n",
        "skin_cells = 1_600_000_000_000"
      ],
      "id": "6100da0a"
    },
    {
      "cell_type": "markdown",
      "metadata": {},
      "source": [
        "Use Jupyter as a calculator to calculate the percentage each category\n",
        "represents of the total number of cells in the body, i.e., for each\n",
        "category calculate\n",
        "\n",
        "$$\n",
        "P = \\frac{\\mathrm{Number}}{\\mathrm{Total}} \\times 100\n",
        "$$"
      ],
      "id": "ebbd906d-c28a-4673-9293-c9764e82e55c"
    },
    {
      "cell_type": "code",
      "execution_count": 10,
      "metadata": {
        "solution": true
      },
      "outputs": [],
      "source": [
        "brain_pct = brain_cells / total_cells * 100\n",
        "liver_pct = liver_cells / total_cells * 100\n",
        "skin_pct = skin_cells / total_cells * 100"
      ],
      "id": "aea8e06d"
    },
    {
      "cell_type": "code",
      "execution_count": 11,
      "metadata": {},
      "outputs": [
        {
          "output_type": "stream",
          "name": "stdout",
          "text": [
            "0.23243243243243245\n",
            "0.6486486486486486\n",
            "4.324324324324325"
          ]
        }
      ],
      "source": [
        "print(brain_pct)\n",
        "print(liver_pct)\n",
        "print(skin_pct)"
      ],
      "id": "2f98304b"
    },
    {
      "cell_type": "markdown",
      "metadata": {},
      "source": [
        "#### (d) Using functions\n",
        "\n",
        "> **Note**\n",
        ">\n",
        "> When we perform the same calculation multiple times, it’s smart not to\n",
        "> have to write the same code again, it makes the code more readable and\n",
        "> reduces the chance of making errors. The way to avoid this is by using\n",
        "> **functions**, a function in Python defines a recipe that is executed\n",
        "> when it is called.\n",
        ">\n",
        "> Above, we have for example used the function `print` to write output.\n",
        "> A function is defined like this\n",
        ">\n",
        "> ``` python\n",
        "> def my_function(a, b):\n",
        ">     result = a * b \n",
        ">     return result\n",
        "> ```\n",
        ">\n",
        "> It’s important that the function is indented (pushed to the right) as\n",
        "> Python needs this to read it. When a function is defined as above, the\n",
        "> calculation is not performed, just like writing down a recipe doesn’t\n",
        "> make a meal, only when the function is “called” is it executed\n",
        ">\n",
        "> ``` python\n",
        "> my_function(6, 7) # Would give 6*7 = 42\n",
        "> ```\n",
        ">\n",
        ">     42\n",
        "\n",
        "Complete the function below so it calculates the percentage of `value`\n",
        "out of `total`."
      ],
      "id": "6b5341fd-d891-4c28-8b79-482d5f0d1ff4"
    },
    {
      "cell_type": "code",
      "execution_count": 15,
      "metadata": {
        "solution": true
      },
      "outputs": [],
      "source": [
        "def percentage(value, total):\n",
        "    result = value / total * 100\n",
        "    return result"
      ],
      "id": "7b572015"
    },
    {
      "cell_type": "markdown",
      "metadata": {},
      "source": [
        "We can then use the function to calculate the percentages"
      ],
      "id": "17bf7435-246a-4ea5-bf5b-c2b96e34c84b"
    },
    {
      "cell_type": "code",
      "execution_count": 16,
      "metadata": {},
      "outputs": [
        {
          "output_type": "stream",
          "name": "stdout",
          "text": [
            "0.23243243243243245 0.6486486486486486 4.324324324324325"
          ]
        }
      ],
      "source": [
        "brain_pct = percentage(brain_cells, total_cells)\n",
        "liver_pct = percentage(liver_cells, total_cells)\n",
        "skin_pct = percentage(skin_cells, total_cells)\n",
        "print(brain_pct, liver_pct, skin_pct)"
      ],
      "id": "92a2c21c"
    },
    {
      "cell_type": "markdown",
      "metadata": {},
      "source": [
        "#### (f) Special functions\n",
        "\n",
        "> **Note**\n",
        ">\n",
        "> We have now seen that we can use Jupyter notebooks as a calculator to\n",
        "> make calculations with the basic arithmetic operations. However, we\n",
        "> often need to calculate power functions, square roots, exponential\n",
        "> functions or logarithms.\n",
        ">\n",
        "> Fortunately, this is also easy with Python, as we can use a package\n",
        "> that implements these operations as functions - specifically `numpy`.\n",
        ">\n",
        "> Power functions, i.e., $x^k$ can be calculated as\n",
        ">\n",
        "> -   x\\*\\*k\n",
        ">\n",
        "> The other three can be calculated with NumPy as\n",
        ">\n",
        "> -   `np.sqrt`\n",
        "> -   `np.exp`\n",
        "> -   `np.log`\n",
        "\n",
        "Use numpy functions to calculate the following\n",
        "\n",
        "-   $6.4807^2$\n",
        "-   $\\sqrt{1764}$\n",
        "-   $e^{3.737669}$\n",
        "-   $\\log{(66.6863)}$"
      ],
      "id": "dc05c2ce-7674-42ec-b2d6-7b4d16a081b5"
    },
    {
      "cell_type": "code",
      "execution_count": 18,
      "metadata": {
        "solution": true
      },
      "outputs": [
        {
          "output_type": "stream",
          "name": "stdout",
          "text": [
            "41.999472489999995 42.0 41.99997403210656 4.1999995345233145"
          ]
        }
      ],
      "source": [
        "import numpy as np # This imports NumPy so we can use the functions.\n",
        "\n",
        "result_1 = 6.4807**2\n",
        "result_2 = np.sqrt(1764)\n",
        "result_3 = np.exp(3.737669)\n",
        "result_4 = np.log(66.6863)\n",
        "\n",
        "print(result_1, result_2, result_3, result_4)"
      ],
      "id": "59f29194"
    },
    {
      "cell_type": "markdown",
      "metadata": {},
      "source": [
        "------------------------------------------------------------------------"
      ],
      "id": "ac0c5f2a-c502-43c2-8384-728ce8afef44"
    },
    {
      "cell_type": "code",
      "execution_count": 19,
      "metadata": {},
      "outputs": [],
      "source": [
        "import numpy as np"
      ],
      "id": "df793f70"
    },
    {
      "cell_type": "markdown",
      "metadata": {},
      "source": [
        "## Functions & arrays\n",
        "\n",
        "Previously we looked at functions, we will build on that now. Remember\n",
        "that a function is a recipe that describes how a calculation should be\n",
        "performed that can be reused many times.\n",
        "\n",
        "A function is defined with `def` followed by its name and its parameters\n",
        "(also called arguments) are placed in the parentheses."
      ],
      "id": "1a60ecf8-8cec-40bb-85e7-01afa1d91216"
    },
    {
      "cell_type": "code",
      "execution_count": 20,
      "metadata": {},
      "outputs": [],
      "source": [
        "def my_function(a, b):\n",
        "    result = a * b \n",
        "    return result"
      ],
      "id": "f45c4235"
    },
    {
      "cell_type": "markdown",
      "metadata": {},
      "source": [
        "The function is only executed when it is called, in this case for\n",
        "example"
      ],
      "id": "c471e377-d1e2-48b4-b158-dc4c9a5a2c56"
    },
    {
      "cell_type": "code",
      "execution_count": 21,
      "metadata": {},
      "outputs": [
        {
          "output_type": "stream",
          "name": "stdout",
          "text": [
            "42"
          ]
        }
      ],
      "source": [
        "my_result = my_function(6, 7)\n",
        "print(my_result)"
      ],
      "id": "2f694b74"
    },
    {
      "cell_type": "markdown",
      "metadata": {},
      "source": [
        "Where we now have the output of the function in the variable\n",
        "`my_result`.\n",
        "\n",
        "#### (a) Calculaling cell sizes\n",
        "\n",
        "The tables below show the radius of different cell types\n",
        "\n",
        "| Cell type                     | Radius      |\n",
        "|-------------------------------|:------------|\n",
        "| Mycoplasma                    | ~0.2–0.3 µm |\n",
        "| Typical bacterium             | ~1–2 µm     |\n",
        "| Yeast cell (S. cerevisiae)    | ~5–7 µm     |\n",
        "| Red blood cells (human)       | ~7–8 µm     |\n",
        "| Lymphocyte (white blood cell) | ~8–10 µm    |\n",
        "| Typical animal cell           | ~10–20 µm   |\n",
        "| Typical plant cell            | ~20–100 µm  |\n",
        "| Human egg cell (oocyte)       | ~120–140 µm |\n",
        "| Neuron (cell body)            | ~10–100 µm  |\n",
        "\n",
        "Cell sizes\n",
        "\n",
        "We have previously calculated the volume of the cells by assuming that\n",
        "they are spherical, whereby the volume is given by\n",
        "\n",
        "$$\n",
        "V(r) = \\frac{4}{3}\\pi r^3\n",
        "$$\n",
        "\n",
        "Write a function that takes radius `r` as an argument and calculates\n",
        "volume -  \n",
        "you can use `np.pi` instead of writing $\\pi$ yourself!"
      ],
      "id": "d268dc73-4ead-4c7e-8212-a63a323822e7"
    },
    {
      "cell_type": "code",
      "execution_count": 23,
      "metadata": {
        "solution": true
      },
      "outputs": [],
      "source": [
        "def volume(r):\n",
        "    return 4/3 * np.pi * r**3"
      ],
      "id": "cd865e83"
    },
    {
      "cell_type": "markdown",
      "metadata": {},
      "source": [
        "Call the function with some of the different radii from the table"
      ],
      "id": "48572b0d-20a4-4688-9c5c-cb3a4b536d3a"
    },
    {
      "cell_type": "code",
      "execution_count": 25,
      "metadata": {
        "solution": true
      },
      "outputs": [
        {
          "output_type": "stream",
          "name": "stdout",
          "text": [
            "0.11309733552923253"
          ]
        }
      ],
      "source": [
        "mycoplasma_volume = volume(0.3)\n",
        "print(mycoplasma_volume)"
      ],
      "id": "da0dbd8c"
    },
    {
      "cell_type": "markdown",
      "metadata": {},
      "source": [
        "#### (b) Calculations with arrays.\n",
        "\n",
        "> **Note**\n",
        ">\n",
        "> We have previously seen some of the different data types in Python\n",
        ">\n",
        "> -   Integers `int`\n",
        "> -   Floats `float`\n",
        "> -   Strings `str`\n",
        ">\n",
        "> But there are many other types that can be helpful in different\n",
        "> contexts. One such type is numpy arrays, an example of a numpy array\n",
        "> is shown below\n",
        ">\n",
        "> ``` python\n",
        "> A = np.array([1.0, 2.5, 3.5])\n",
        "> ```\n",
        ">\n",
        "> One of the smart things about arrays is that we can perform operations\n",
        "> on all the content at once\n",
        ">\n",
        "> ``` python\n",
        "> B = 2 * A \n",
        "> print(B)\n",
        "> ```\n",
        ">\n",
        ">     [2. 5. 7.]\n",
        ">\n",
        "> The same is true for using the array `A` in a function, for example we\n",
        "> can write\n",
        ">\n",
        "> ``` python\n",
        "> def example_function(array):\n",
        ">     return 1 + array\n",
        ">\n",
        "> print(example_function(A))\n",
        "> ```\n",
        ">\n",
        ">     [2.  3.5 4.5]\n",
        "\n",
        "Create an array that contains the specified cell radii and use your\n",
        "`volume` function to calculate the volume of all cells at once"
      ],
      "id": "de9772b7-4058-474d-8ef1-890f2f5c9ce7"
    },
    {
      "cell_type": "code",
      "execution_count": 31,
      "metadata": {
        "solution": true
      },
      "outputs": [],
      "source": [
        "radii = np.array([0.2, 1, 6, 7.5, 9, 15, 60, 130, 50]) # Replace ... with your code"
      ],
      "id": "b87f7b59"
    },
    {
      "cell_type": "code",
      "execution_count": 32,
      "metadata": {
        "solution": true
      },
      "outputs": [
        {
          "output_type": "stream",
          "name": "stdout",
          "text": [
            "[3.35103216e-02 4.18879020e+00 9.04778684e+02 1.76714587e+03\n",
            " 3.05362806e+03 1.41371669e+04 9.04778684e+05 9.20277208e+06\n",
            " 5.23598776e+05]"
          ]
        }
      ],
      "source": [
        "cell_volumes = volume(radii)\n",
        "print(cell_volumes)"
      ],
      "id": "6695cb4d"
    },
    {
      "cell_type": "markdown",
      "metadata": {},
      "source": [
        "#### (c) Array operations\n",
        "\n",
        "> **Note**\n",
        ">\n",
        "> There are many other operations we can perform on arrays, such as\n",
        "> finding the largest or smallest number\n",
        ">\n",
        "> We can find the cell type with the largest volume as\n",
        ">\n",
        "> ``` python\n",
        "> np.max(cell_volumes)\n",
        "> ```\n",
        ">\n",
        ">     np.float64(9202772.0799157)\n",
        ">\n",
        "> The corresponding function for finding the smallest number is called\n",
        "> `np.min`.\n",
        "\n",
        "The cell below creates an array with 1000 numbers"
      ],
      "id": "68c5baa9-83e9-4b66-bb28-0f549f1ee654"
    },
    {
      "cell_type": "code",
      "execution_count": 34,
      "metadata": {},
      "outputs": [],
      "source": [
        "array_with_numbers = np.random.rand(1000) * np.exp(3.737669)"
      ],
      "id": "70abbf02"
    },
    {
      "cell_type": "markdown",
      "metadata": {},
      "source": [
        "Use `np.max` to find the largest number in `array_with_numbers`"
      ],
      "id": "56f8663d-608d-4944-8367-470e02a05600"
    },
    {
      "cell_type": "code",
      "execution_count": 36,
      "metadata": {
        "solution": true
      },
      "outputs": [
        {
          "output_type": "stream",
          "name": "stdout",
          "text": [
            "41.99009123259072"
          ]
        }
      ],
      "source": [
        "largest_number = np.max(array_with_numbers)\n",
        "print(largest_number)"
      ],
      "id": "6f69c7fa"
    },
    {
      "cell_type": "markdown",
      "metadata": {},
      "source": [
        "##### (d) Array indexing\n",
        "\n",
        "> **Note**\n",
        ">\n",
        "> Sometimes we are interested in specific entries in an array, so we\n",
        "> also need to be able to extract data from an array. This is\n",
        "> “indexing”, for example if we have an array\n",
        ">\n",
        "> ``` python\n",
        "> my_array = np.array([0, 2, 4, 6, 8, 10, 12, 14, 16, 18, 20])\n",
        "> ```\n",
        ">\n",
        "> We can extract the fourth number like this\n",
        ">\n",
        "> ``` python\n",
        "> fourth_number = my_array[3] \n",
        "> ```\n",
        ">\n",
        "> In Python we start counting from 0, so the fourth number is found at\n",
        "> position 3.\n",
        "\n",
        "Use indexing to calculate the sum of\n",
        "\n",
        "-   The last number (Position 10)\n",
        "-   The second number (Position 1)\n",
        "-   The fourth number (Position ??)\n",
        "-   The eighth number (Position ??)"
      ],
      "id": "49466fe3-4545-4040-b9d6-1185603b90cc"
    },
    {
      "cell_type": "code",
      "execution_count": 39,
      "metadata": {
        "solution": true
      },
      "outputs": [
        {
          "output_type": "stream",
          "name": "stdout",
          "text": [
            "42"
          ]
        }
      ],
      "source": [
        "sum_of_numbers = my_array[10] + my_array[1] + my_array[3] + my_array[7]\n",
        "print(sum_of_numbers)"
      ],
      "id": "7e39c2d3"
    },
    {
      "cell_type": "markdown",
      "metadata": {},
      "source": [
        "#### (f) Working with data\n",
        "\n",
        "In molecular biology we often work with spectra, where the axes are for\n",
        "example\n",
        "\n",
        "-   $x$: Wavelength measured in nm\n",
        "-   $y$: Absorption coefficient"
      ],
      "id": "b77965bd-c49f-40c0-ac4e-2bed96beee16"
    },
    {
      "cell_type": "code",
      "execution_count": 41,
      "metadata": {},
      "outputs": [
        {
          "output_type": "stream",
          "name": "stdout",
          "text": [
            "     Wavelength(nm)  AdsorptionCoefficient\n",
            "0               300              20487.000\n",
            "1               301              20547.000\n",
            "2               302              20642.000\n",
            "3               303              20767.000\n",
            "4               304              20899.000\n",
            "..              ...                    ...\n",
            "496             796                 26.665\n",
            "497             797                 15.556\n",
            "498             798                 29.164\n",
            "499             799                 21.473\n",
            "500             800                 18.396\n",
            "\n",
            "[501 rows x 2 columns]"
          ]
        }
      ],
      "source": [
        "from fysisk_biokemi import load_dataset\n",
        "\n",
        "df = load_dataset(\"chlorophyll\")\n",
        "print(df)\n",
        "\n",
        "wavelengths = df['Wavelength(nm)'] # An array with 501 entries\n",
        "absorption = df['AdsorptionCoefficient'] # An array with 501 entries"
      ],
      "id": "daf8d4fb"
    },
    {
      "cell_type": "code",
      "execution_count": 42,
      "metadata": {},
      "outputs": [
        {
          "output_type": "display_data",
          "metadata": {},
          "data": {
            "text/plain": [
              "Text(0, 0.5, 'Absorption Coefficient')"
            ]
          }
        },
        {
          "output_type": "display_data",
          "metadata": {},
          "data": {
            "image/png": "[encoded data removed]"
          }
        }
      ],
      "source": [
        "import matplotlib.pyplot as plt \n",
        "fig, ax = plt.subplots()\n",
        "ax.plot(wavelengths, absorption)\n",
        "ax.set_xlabel('Wavelength [nm]')\n",
        "ax.set_ylabel('Absorption Coefficient')"
      ],
      "id": "be3b01be"
    },
    {
      "cell_type": "markdown",
      "metadata": {},
      "source": [
        "> **Caution**\n",
        ">\n",
        "> How the plotting works with be explained in another exercise, for now\n",
        "> just appreciate the pretty plot.\n",
        "\n",
        "We want to use NumPy to find what the maximum absorption coefficient is,\n",
        "and at which wavelength it occurs.\n",
        "\n",
        "Start by finding the maximum absorption coefficient using `np.max`"
      ],
      "id": "beb47878-67c4-4540-ba48-caa6817a6c97"
    },
    {
      "cell_type": "code",
      "execution_count": 43,
      "metadata": {
        "solution": true
      },
      "outputs": [
        {
          "output_type": "stream",
          "name": "stdout",
          "text": [
            "111700.0"
          ]
        }
      ],
      "source": [
        "max_absorption = np.max(absorption)\n",
        "print(max_absorption)"
      ],
      "id": "c7e12c03"
    },
    {
      "cell_type": "markdown",
      "metadata": {},
      "source": [
        "We can use another function from NumPy to find the wavelength where the\n",
        "absorption coefficient has its maximum"
      ],
      "id": "5a11a168-28f9-4349-9a40-5fff7bb2d537"
    },
    {
      "cell_type": "code",
      "execution_count": 45,
      "metadata": {},
      "outputs": [],
      "source": [
        "index_max_abs = np.argmax(absorption)"
      ],
      "id": "9ee28908"
    },
    {
      "cell_type": "markdown",
      "metadata": {},
      "source": [
        "> **Note**\n",
        ">\n",
        "> `np.argmax` finds the index of the **arg**ument that contains the\n",
        "> **max** value.\n",
        "\n",
        "Now use `index_max_abs` to extract the corresponding wavelength from\n",
        "`wavelengths`"
      ],
      "id": "ee5f42a7-8eae-4f8d-936d-4cf953f3db79"
    },
    {
      "cell_type": "code",
      "execution_count": 47,
      "metadata": {
        "solution": true
      },
      "outputs": [],
      "source": [
        "wavelength_max_abs = wavelengths[index_max_abs]"
      ],
      "id": "a9ed6a90"
    },
    {
      "cell_type": "code",
      "execution_count": 49,
      "metadata": {
        "solution": true
      },
      "outputs": [
        {
          "output_type": "display_data",
          "metadata": {},
          "data": {
            "image/png": "[encoded data removed]"
          }
        }
      ],
      "source": [
        "import matplotlib.pyplot as plt \n",
        "fig, ax = plt.subplots()\n",
        "ax.plot(wavelengths, absorption)\n",
        "ax.axvline(wavelength_max_abs, color='red')\n",
        "ax.set_xlabel('Wavelength [nm]')\n",
        "ax.set_ylabel('Absorption Coefficient')\n",
        "plt.show()"
      ],
      "id": "23c59e63"
    },
    {
      "cell_type": "markdown",
      "metadata": {},
      "source": [
        "------------------------------------------------------------------------\n",
        "\n",
        "## Parentheses\n",
        "\n",
        "Later in the course we will see equations such as the quadratic binding\n",
        "equation\n",
        "\n",
        "$$\n",
        "\\theta = \\frac{K_D + [P_{tot}] + [L_{tot}]}{2[P_{tot}]} - \\sqrt{\\left(\\frac{K_D + [P_{tot}] + [L_{tot}]}{2[P_{tot}]}\\right)^2 - \\frac{[L_{tot}]}{[P_{tot}]}},\n",
        "$$ which can be used to describe titration data that reports protein\n",
        "saturation as a function of total ligand concentration.\n",
        "\n",
        "Calculating this function requires that we are careful with parentheses!\n",
        "Which we have all learned, but since it is very important in this\n",
        "context, it is worth refreshing.\n",
        "\n",
        "#### (a) Mind the $(...)$\n",
        "\n",
        "For the following pairs of expressions, calculate both (by hand or\n",
        "mentally, according to preference.)\n",
        "\n",
        "-   $2 + 3 \\times 4$ vs. $(2 + 3) \\times 4$\n",
        "-   $10 - 2^2$ vs. $(10 - 2)^2$\n",
        "-   $100 / 10 \\times 2$ vs. $100 / (10 \\times 2)$\n",
        "-   $\\frac{12 + 8}{4}$ vs. $12 + 8 / 4$\n",
        "\n",
        "#### (b) Beware of the $(...)$\n",
        "\n",
        "For the three calculations below, consider what the result is **before**\n",
        "you run the cell."
      ],
      "id": "dca8b573-6ab9-4518-993c-961052b4f56a"
    },
    {
      "cell_type": "code",
      "execution_count": 53,
      "metadata": {
        "solution": true
      },
      "outputs": [],
      "source": [
        "a = 1 + 2 * 3 ** 2"
      ],
      "id": "27e9734b"
    },
    {
      "cell_type": "code",
      "execution_count": 54,
      "metadata": {
        "solution": true
      },
      "outputs": [],
      "source": [
        "b = (1 + 2) * 3 ** 2"
      ],
      "id": "3ca60074"
    },
    {
      "cell_type": "code",
      "execution_count": 55,
      "metadata": {
        "solution": true
      },
      "outputs": [],
      "source": [
        "c = 1 + 2 * (3 ** 2)"
      ],
      "id": "d4f2ce90"
    },
    {
      "cell_type": "markdown",
      "metadata": {},
      "source": [
        "The cell below prints the result for each calculation"
      ],
      "id": "6ce697fa-926c-4696-954e-f0df8c33f13a"
    },
    {
      "cell_type": "code",
      "execution_count": 56,
      "metadata": {},
      "outputs": [],
      "source": [
        "print(f\"{a = }\")\n",
        "print(f\"{b = }\")\n",
        "print(f\"{c = }\")"
      ],
      "id": "89935933"
    },
    {
      "cell_type": "markdown",
      "metadata": {},
      "source": [
        "#### (c) Fix the $(...)$\n",
        "\n",
        "We want to calculate the expression\n",
        "\n",
        "$$\n",
        "\\frac{a + b}{c + d}\n",
        "$$\n",
        "\n",
        "Someone has implemented the function below, but it is incorrect - your\n",
        "task is to fix it."
      ],
      "id": "50499e28-72e0-4158-9274-cb3b9730c0b7"
    },
    {
      "cell_type": "code",
      "execution_count": 58,
      "metadata": {
        "solution": true
      },
      "outputs": [
        {
          "output_type": "stream",
          "name": "stdout",
          "text": [
            "42.0"
          ]
        }
      ],
      "source": [
        "def function(a, b, c, d):\n",
        "    return (a + b) / (c + d)\n",
        "\n",
        "result_1 = function(152, 16, 2, 2)\n",
        "print(result_1)"
      ],
      "id": "178c72ab"
    },
    {
      "cell_type": "markdown",
      "metadata": {},
      "source": [
        "#### (d) Implement the $(...)$\n",
        "\n",
        "The first term of the quadratic binding equation is\n",
        "\n",
        "$$\n",
        "\\frac{K_D + [P_{tot}] + [L_{tot}]}{2[P_{tot}]} = \\frac{a + b + c}{2 b}\n",
        "$$\n",
        "\n",
        "Complete the function below so it calculates this expression"
      ],
      "id": "826b9c0d-27ac-401f-8a5b-b3091a26827f"
    },
    {
      "cell_type": "code",
      "execution_count": 60,
      "metadata": {
        "solution": true
      },
      "outputs": [
        {
          "output_type": "stream",
          "name": "stdout",
          "text": [
            "42.0"
          ]
        }
      ],
      "source": [
        "def first_term(a, b, c):\n",
        "    return (a + b + c) / (2 * b)\n",
        "\n",
        "result = first_term(100, 2, 66)\n",
        "print(result)"
      ],
      "id": "3c81c529"
    },
    {
      "cell_type": "markdown",
      "metadata": {},
      "source": [
        "------------------------------------------------------------------------\n",
        "\n",
        "## Working with datasets"
      ],
      "id": "7437fcb1-9849-4c23-9204-4fb4124f93da"
    },
    {
      "cell_type": "code",
      "execution_count": 61,
      "metadata": {},
      "outputs": [],
      "source": [
        "import numpy as np\n",
        "import pandas as pd\n",
        "from fysisk_biokemi import load_dataset, get_dataset_path\n",
        "import matplotlib.pyplot as plt"
      ],
      "id": "0ade679b"
    },
    {
      "cell_type": "markdown",
      "metadata": {},
      "source": [
        "We have previously looked at a dataset about the absorption spectrum of\n",
        "chlorophyll, but we weren’t focused on how we handled this dataset.\n",
        "\n",
        "What we achieved was plotting the dataset, as seen below"
      ],
      "id": "39909be5-6946-498a-a272-ce7559eae2db"
    },
    {
      "cell_type": "code",
      "execution_count": 62,
      "metadata": {},
      "outputs": [
        {
          "output_type": "display_data",
          "metadata": {},
          "data": {
            "text/plain": [
              "Text(0, 0.5, 'Absorption coefficient')"
            ]
          }
        },
        {
          "output_type": "display_data",
          "metadata": {},
          "data": {
            "image/png": "[encoded data removed]"
          }
        }
      ],
      "source": [
        "chloro_df = load_dataset(\"chlorophyll\")\n",
        "wavelengths = chloro_df['Wavelength(nm)'] # An array with 501 entries\n",
        "absorption = chloro_df['AdsorptionCoefficient'] # An array with 501 entries\n",
        "\n",
        "fig, ax = plt.subplots()\n",
        "ax.plot(wavelengths, absorption)\n",
        "ax.set_xlabel('Wavelength [nm]')\n",
        "ax.set_ylabel('Absorption coefficient')"
      ],
      "id": "8af5df92"
    },
    {
      "cell_type": "markdown",
      "metadata": {},
      "source": [
        "This time we will investigate a bit more how we can work with a dataset.\n",
        "\n",
        "### NumPy arrays as datasets.\n",
        "\n",
        "It is important that we keep good track of our data, it is often smart\n",
        "to use a data type that helps us with this. We have previously seen\n",
        "arrays, which is one possibility - e.g."
      ],
      "id": "aee10661-17a6-4995-9029-724ba0e21675"
    },
    {
      "cell_type": "code",
      "execution_count": 63,
      "metadata": {},
      "outputs": [],
      "source": [
        "a = np.array([1, 2, 3, 4])\n",
        "b = np.array([1, 4, 9, 16])"
      ],
      "id": "b688bd99"
    },
    {
      "cell_type": "markdown",
      "metadata": {},
      "source": [
        "But if we have many quantities it can quickly become unmanageable -\n",
        "another possibility is to store all our quantities in the same array"
      ],
      "id": "86eb6dc1-356f-4a20-bcf3-3035ccf877e6"
    },
    {
      "cell_type": "code",
      "execution_count": 64,
      "metadata": {},
      "outputs": [
        {
          "output_type": "stream",
          "name": "stdout",
          "text": [
            "[1 2 3 4]\n",
            "[ 1  4  9 16]"
          ]
        }
      ],
      "source": [
        "combined_array = np.array([[1, 2, 3, 4], [1, 4, 9, 16]])\n",
        "print(combined_array[0, :]) # Corresponds to a\n",
        "print(combined_array[1, :]) # Corresponds to b"
      ],
      "id": "1de294f0"
    },
    {
      "cell_type": "markdown",
      "metadata": {},
      "source": [
        "> **Note**\n",
        ">\n",
        "> NumPy arrays can have multiple dimensions, `combined_array` here has\n",
        "> two dimensions (like a matrix). In this case each row describes one of\n",
        "> our quantities. Here `:` is used to mean “all” in indexing so `[0, :]`\n",
        "> can be read as first row all columns.\n",
        "\n",
        "But then we need to keep track of which axis contains which quantity.\n",
        "Sometimes it can be fine to keep our data as `np.array` but other times\n",
        "it’s better in other ways.\n",
        "\n",
        "### Pandas `DataFrame`\n",
        "\n",
        "One such other way to handle a dataset is by using a new type, namely a\n",
        "pandas `DataFrame`.\n",
        "\n",
        "We can create a `DataFrame` from our two arrays like this;"
      ],
      "id": "93b42236-3efc-490f-a753-78824a610f0d"
    },
    {
      "cell_type": "code",
      "execution_count": 65,
      "metadata": {},
      "outputs": [
        {
          "output_type": "stream",
          "name": "stdout",
          "text": [
            "   a   b\n",
            "0  1   1\n",
            "1  2   4\n",
            "2  3   9\n",
            "3  4  16"
          ]
        }
      ],
      "source": [
        "df = pd.DataFrame({\"a\": a, \"b\": b})\n",
        "df.style.hide() # This just make printing a bit simpler\n",
        "print(df)"
      ],
      "id": "2a7a20b0"
    },
    {
      "cell_type": "markdown",
      "metadata": {},
      "source": [
        "Here we have three columns, the first is `index`, the second is `a` and\n",
        "the third is `b`.\n",
        "\n",
        "> **Note**\n",
        ">\n",
        "> The chlorophyll dataset was actually also a `DataFrame`.\n",
        "\n",
        "With a `DataFrame` we have more possibilities for indexing, we can for\n",
        "example use the name of the column."
      ],
      "id": "203a8f9a-103c-4d93-91b2-9a66fd3d0663"
    },
    {
      "cell_type": "code",
      "execution_count": 66,
      "metadata": {},
      "outputs": [
        {
          "output_type": "stream",
          "name": "stdout",
          "text": [
            "0    1\n",
            "1    2\n",
            "2    3\n",
            "3    4\n",
            "Name: a, dtype: int64"
          ]
        }
      ],
      "source": [
        "print(df['a'])"
      ],
      "id": "4c35db6b"
    },
    {
      "cell_type": "markdown",
      "metadata": {},
      "source": [
        "#### (a) Calculations with a dataset\n",
        "\n",
        "Calculate the formula $2 \\times a$ where $a$ comes from the dataset\n",
        "above `df`"
      ],
      "id": "1cce1932-1936-439a-945a-8102d23c5214"
    },
    {
      "cell_type": "code",
      "execution_count": 68,
      "metadata": {
        "solution": true
      },
      "outputs": [
        {
          "output_type": "stream",
          "name": "stdout",
          "text": [
            "0    2\n",
            "1    4\n",
            "2    6\n",
            "3    8\n",
            "Name: a, dtype: int64"
          ]
        }
      ],
      "source": [
        "result = 2 * df['a']\n",
        "print(result)"
      ],
      "id": "88be57d0"
    },
    {
      "cell_type": "markdown",
      "metadata": {},
      "source": [
        "#### (b) Elementwise operations\n",
        "\n",
        "We can also add two arrays together using whats called an *elementwise*\n",
        "operation where for example the first element of each array are added,\n",
        "the second elements are added and so on.\n",
        "\n",
        "Use this to calculate $c = a + b$."
      ],
      "id": "da0a0fe1-a534-4543-bbd9-7664ec602c1d"
    },
    {
      "cell_type": "code",
      "execution_count": 70,
      "metadata": {
        "solution": true
      },
      "outputs": [
        {
          "output_type": "stream",
          "name": "stdout",
          "text": [
            "0     2\n",
            "1     6\n",
            "2    12\n",
            "3    20\n",
            "dtype: int64"
          ]
        }
      ],
      "source": [
        "c = df['a'] + df['b']\n",
        "print(c)"
      ],
      "id": "fc22f0d3"
    },
    {
      "cell_type": "markdown",
      "metadata": {},
      "source": [
        "#### (c) Plotting a dataset\n",
        "\n",
        "Make a plot of $a$ versus $b$ where the two quantities come from the\n",
        "`DataFrame` `df`."
      ],
      "id": "e43108b5-4078-4df5-a2be-9b278584318b"
    },
    {
      "cell_type": "code",
      "execution_count": 72,
      "metadata": {
        "solution": true
      },
      "outputs": [
        {
          "output_type": "display_data",
          "metadata": {},
          "data": {
            "image/png": "[encoded data removed]"
          }
        }
      ],
      "source": [
        "fig, ax = plt.subplots()\n",
        "ax.plot(df['a'], df['b'])"
      ],
      "id": "94392026"
    },
    {
      "cell_type": "markdown",
      "metadata": {},
      "source": [
        "> **Tip**\n",
        ">\n",
        "> You need to extract the two columns `df['a']` and `df['b']` and put\n",
        "> those in `ax.plot(..., ...)`.\n",
        "\n",
        "#### (d) Datasets from files\n",
        "\n",
        "> **Note**\n",
        ">\n",
        "> Often we don’t want to write our dataset directly into code, but store\n",
        "> them as separate files that could for example come from experimental\n",
        "> equipment.\n",
        ">\n",
        "> We can get data from an Excel file, like this\n",
        ">\n",
        "> ``` python\n",
        "> #| eval: false\n",
        "> dataset_path = \"/path/to/the/file/that/has/our/data.xlsx\"\n",
        "> df = pd.read_excel(dataset_path)\n",
        "> ```\n",
        "\n",
        "Through out the course we will use a widget to load datasets from your\n",
        "computer, this makes it a little easier to manage with Google Colab.\n",
        "\n",
        "You can run the cell below and click on the “Upload”-button that appears\n",
        "and you use that to select the `reverse_reaction.xlsx` dataset that you\n",
        "can download from here\n",
        "[datasets](https://au-mbg.github.io/fysisk-biokemi/student/datasets.html)\n",
        "under the “Additional Datasets” tab at the bottom of the page.\n",
        "\n",
        "You should save it somewhere where you can find it again - a good idea\n",
        "would be to put it in a folder specifically for this course."
      ],
      "id": "08bd0481-010c-4a02-b684-6ba0c079002a"
    },
    {
      "cell_type": "code",
      "execution_count": 73,
      "metadata": {},
      "outputs": [],
      "source": [
        "from fysisk_biokemi.widgets import DataUploader\n",
        "from IPython.display import display \n",
        "uploader = DataUploader()\n",
        "uploader.display()"
      ],
      "id": "5e8415f6"
    },
    {
      "cell_type": "markdown",
      "metadata": {},
      "source": [
        "Once you’ve uploaded the dataset you can run the next cell"
      ],
      "id": "797f59d2-6b67-4513-94a6-18e5382e18d2"
    },
    {
      "cell_type": "code",
      "execution_count": 74,
      "metadata": {},
      "outputs": [],
      "source": [
        "df = uploader.get_dataframe()\n",
        "display(df)"
      ],
      "id": "fa0fce97"
    },
    {
      "cell_type": "code",
      "execution_count": 75,
      "metadata": {
        "solution": true
      },
      "outputs": [
        {
          "output_type": "display_data",
          "metadata": {},
          "data": {
            "text/html": [
              "\n",
              "<p>200 rows × 3 columns</p>\n",
              "</div>"
            ]
          }
        }
      ],
      "source": [
        "df = load_dataset('reversible_reaction')\n",
        "display(df)"
      ],
      "id": "5f476747"
    },
    {
      "cell_type": "markdown",
      "metadata": {},
      "source": [
        "Based on the information that has been printed out what do you think the\n",
        "dataset contains? Think about the following\n",
        "\n",
        "-   How many columns are there?\n",
        "-   What is the title of each column?\n",
        "-   How many rows are there?\n",
        "\n",
        "### (f) Plot the dataset\n",
        "\n",
        "Now that we have retrieved the dataset we want to investigate it more\n",
        "easily by plotting it.\n",
        "\n",
        "Complete the code below"
      ],
      "id": "77fab60e-a726-44e7-bb0e-c823d3b17308"
    },
    {
      "cell_type": "code",
      "execution_count": 77,
      "metadata": {
        "solution": true
      },
      "outputs": [
        {
          "output_type": "display_data",
          "metadata": {},
          "data": {
            "image/png": "[encoded data removed]"
          }
        }
      ],
      "source": [
        "fig, ax = plt.subplots()\n",
        "ax.plot(df['time'], df['concentration_A'], label='[A]')\n",
        "ax.plot(df['time'], df['concentration_B'], label='[B]')\n",
        "ax.set_ylabel('Concentration') # Sets name on y-axis\n",
        "ax.set_xlabel('Time') # Sets name on x-axis\n",
        "ax.legend() # Shows what 'label' each plotted curve has."
      ],
      "id": "493acb60"
    },
    {
      "cell_type": "markdown",
      "metadata": {},
      "source": [
        "What do you think the dataset shows?\n",
        "\n",
        "#### (g) Calculation with dataset\n",
        "\n",
        "As mentioned we can also do calculations with a dataset. Calculate $$\n",
        "[T] = [A] + [B]\n",
        "$$ And complete the plot in the cell below"
      ],
      "id": "6c89ccd7-6b42-4e56-8532-03d6438b3f92"
    },
    {
      "cell_type": "code",
      "execution_count": 79,
      "metadata": {
        "solution": true
      },
      "outputs": [
        {
          "output_type": "display_data",
          "metadata": {},
          "data": {
            "image/png": "[encoded data removed]"
          }
        }
      ],
      "source": [
        "concentration_T = df['concentration_A'] + df['concentration_B']\n",
        "\n",
        "fig, ax = plt.subplots()\n",
        "ax.plot(df['time'], concentration_T, label='[T]', color='C2')\n",
        "\n",
        "# From before\n",
        "ax.plot(df['time'], df['concentration_A'], label='[A]')\n",
        "ax.plot(df['time'], df['concentration_B'], label='[B]')\n",
        "ax.set_ylabel('Concentration') # Sets name on y-axis\n",
        "ax.set_xlabel('Time') # Sets name on x-axis\n",
        "ax.legend() # Shows what 'label' each plotted curve has."
      ],
      "id": "f59bdead"
    },
    {
      "cell_type": "markdown",
      "metadata": {},
      "source": [
        "Why do you think it looks like it does?"
      ],
      "id": "78f97cdb-09c5-4324-987d-2e7640a3866c"
    }
  ],
  "nbformat": 4,
  "nbformat_minor": 5,
  "metadata": {
    "kernelspec": {
      "name": "python3",
      "display_name": "Python 3 (ipykernel)",
      "language": "python",
      "path": "/home/runner/work/fysisk-biokemi/fysisk-biokemi/.venv/share/jupyter/kernels/python3"
    },
    "language_info": {
      "name": "python",
      "codemirror_mode": {
        "name": "ipython",
        "version": "3"
      },
      "file_extension": ".py",
      "mimetype": "text/x-python",
      "nbconvert_exporter": "python",
      "pygments_lexer": "ipython3",
      "version": "3.11.13"
    }
  }
}