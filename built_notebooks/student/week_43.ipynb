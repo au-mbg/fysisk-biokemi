{
  "cells": [
    {
      "cell_type": "markdown",
      "metadata": {},
      "source": [
        "# Week 43"
      ],
      "id": "fda535e1-3e1c-49db-9fba-2db8b051e572"
    },
    {
      "cell_type": "code",
      "execution_count": 2,
      "metadata": {},
      "outputs": [],
      "source": [
        "try:\n",
        "    import fysisk_biokemi\n",
        "    print(\"Already installed\")\n",
        "except ImportError:\n",
        "    %pip install -q \"fysisk_biokemi[colab] @ git+https://github.com/au-mbg/fysisk-biokemi.git\""
      ],
      "id": "3c720a49"
    },
    {
      "cell_type": "code",
      "execution_count": 3,
      "metadata": {},
      "outputs": [],
      "source": [
        "import fysisk_biokemi.widgets as fsb_widgets"
      ],
      "id": "d4b53a51"
    },
    {
      "cell_type": "markdown",
      "metadata": {},
      "source": [
        "## Koncentrations enheder\n",
        "\n",
        "Widgetten nedenfor kan konvertere mellem enheder med forskellige prefix,\n",
        "som værdien af er givet i tabellen\n",
        "\n",
        "| Enhed | Navn  | Faktor      |\n",
        "|-------|-------|-------------|\n",
        "| M     |       | 1           |\n",
        "| mM    | Milli | $10^{-3}$}  |\n",
        "| µM    | Micro | $10^{-6}$}  |\n",
        "| nM    | Nano  | $10^{-9}$}  |\n",
        "| pM    | Pico  | $10^{-12}$} |\n",
        "| fM    | Femto | $10^{-15}$} |\n",
        "\n",
        "Metric prefixes commonly used for molar concentrations"
      ],
      "id": "366bb3e5-5015-4468-9eae-33429a7e4ba1"
    },
    {
      "cell_type": "code",
      "execution_count": 4,
      "metadata": {},
      "outputs": [],
      "source": [
        "fsb_widgets.concentration_unit()"
      ],
      "id": "49b28df4"
    },
    {
      "cell_type": "markdown",
      "metadata": {},
      "source": [
        "## Koncentration fra masse og volumen\n",
        "\n",
        "Ofte er det nødvendigt at regne koncentrationen baseret på massen af\n",
        "stoffet og volumen af opløsningen, f.eks. hvis vi forbedrer et\n",
        "eksperiment vil vi tit starte fra den vinkel.\n",
        "\n",
        "For at regne molar koncentrationen skal vi så regne\n",
        "\n",
        "$$\n",
        "c = \\frac{m}{M_W \\cdot V} \\xrightarrow[]{\\text{Enheder}} \\frac{\\text{g}}{\\frac{\\text{g}}{\\text{mol}} \\cdot \\text{L}} = \\frac{\\text{g}\\cdot \\text{mol}}{\\text{g}\\cdot L} = \\frac{\\text{mol}}{\\text{L}}\n",
        "$$ Hvor $m$ er massen i **gram**, $M_W$ er molekyle vægten i\n",
        "$\\frac{g}{mol}$ og V er volumen i liter Her er det vigtigt at\n",
        "konveretere til de rigtige enheder, altså ikke f.eks. at bruge $m$ i at\n",
        "$\\text{mg}$. Widgtten nedenfor tager en masse, et volumen og en\n",
        "molekylærvægt og konveretere til molar koncentration, du kan vælge hvad\n",
        "enheden af masse og volumen er."
      ],
      "id": "9acef393-775f-4dc6-8ebd-b3f6312d0cc9"
    },
    {
      "cell_type": "code",
      "execution_count": 5,
      "metadata": {},
      "outputs": [],
      "source": [
        "fsb_widgets.concentration_mass_volume()"
      ],
      "id": "71fd9669"
    },
    {
      "cell_type": "markdown",
      "metadata": {},
      "source": [
        "## Molekylærvægt\n",
        "\n",
        "Molekylærvægten er en sum af atomarvægte\n",
        "\n",
        "$$\n",
        "M_W = \\sum_i^Z n_i m_Z\n",
        "$$ Hvor $n_i$ er antaller af atomer af type $i$ og $m_Z$ er vægten pr.\n",
        "mol af det atom. Widgetten nedenfor kan regne molekylærvægten af stoffer\n",
        "med de første 83 elementer fra den periodiske table."
      ],
      "id": "e7970a73-cabd-4c43-a7a1-c72987e86d78"
    },
    {
      "cell_type": "code",
      "execution_count": 6,
      "metadata": {},
      "outputs": [],
      "source": [
        "fsb_widgets.molecular_weight()"
      ],
      "id": "93c7eee2"
    },
    {
      "cell_type": "markdown",
      "metadata": {},
      "source": [
        "## Ligevægts reaktions\n",
        "\n",
        "Denne widget kan regne ligevægts koefficient af reaktioner, f.eks.\n",
        "\n",
        "$$\n",
        "aA + bB ... = xX + yY ... \n",
        "$$ Hvor ligevægtskoefficienten er givet ved\n",
        "\n",
        "$$\n",
        "K_{eq} = \\frac{[X]^x \\times [Y]^y \\times ...}{[A]^a \\times [B]^b \\times ...}\n",
        "$$\n",
        "\n",
        "Her er det igen vigtigt at koncentrationerne er givet i $mol/L$ for at\n",
        "der regnes rigtigt, men heldigvis kan widgetten konvertere dem for dig.\n",
        "\n",
        "For at bruge widgetten skal du skrive en reaktions ligningen på formen\n",
        "\n",
        "    a A + b B = c C \n",
        "\n",
        "Hvor der er mellemrum mellem ordren og stoffet, du kan så angive\n",
        "koncentrationen og ligevægtskoefficienten bliver regnet."
      ],
      "id": "3098c1fc-0c72-4988-9d85-f080480a7f29"
    },
    {
      "cell_type": "code",
      "execution_count": 7,
      "metadata": {},
      "outputs": [],
      "source": [
        "fsb_widgets.reaction_equation()"
      ],
      "id": "ee16e027"
    },
    {
      "cell_type": "markdown",
      "metadata": {},
      "source": [
        "## Reaktions data analyse\n",
        "\n",
        "Denne widget kan læse en `.csv`-fil hvilket er en **c**omma\n",
        "**s**eperated **v**alues, det vil sige at forskellige data er splittet\n",
        "om i kolonner, se f.eks. eksemplet her\n",
        "\n",
        "``` {csv}\n",
        "time (s),A (mM),B (µM),X (nM),Y (µM)\n",
        "0,1.00,500.0,100.0,50.0\n",
        "10,0.95,480.0,150.0,70.0\n",
        "20,0.92,460.0,200.0,90.0\n",
        "30,0.90,445.0,240.0,110.0\n",
        "40,0.88,430.0,270.0,130.0\n",
        "50,0.87,420.0,300.0,150.0\n",
        "60,0.86,410.0,330.0,170.0\n",
        "70,0.85,400.0,360.0,190.0\n",
        "80,0.84,390.0,390.0,210.0\n",
        "90,0.83,380.0,420.0,230.0\n",
        "100,0.82,370.0,450.0,250.0\n",
        "```\n",
        "\n",
        "Her er der 5 søjler, som beskriver 5 forskellige størrelser.\n",
        "\n",
        "At bruge widgten kræver fire trin\n",
        "\n",
        "-   Kilk på “Upload CSV” og vælg en fil.\n",
        "-   Sikre at reaktionsligning er den du er interesseret i.\n",
        "-   Sikre at hvert led af reaktionsligningen er tilknyttet den rigtige\n",
        "    kolonne i datasættet og enheden er korrekt.\n",
        "-   Klik “Beregn og plot” for at beregne ligevægtskoefficienten."
      ],
      "id": "f969b43c-3431-414c-92bd-4505810ce909"
    },
    {
      "cell_type": "code",
      "execution_count": 8,
      "metadata": {},
      "outputs": [],
      "source": [
        "fsb_widgets.reaction_data_analysis()"
      ],
      "id": "2c0179e6"
    }
  ],
  "nbformat": 4,
  "nbformat_minor": 5,
  "metadata": {
    "kernelspec": {
      "name": "python3",
      "display_name": "Python 3 (ipykernel)",
      "language": "python",
      "path": "/home/runner/work/fysisk-biokemi/fysisk-biokemi/.venv/share/jupyter/kernels/python3"
    },
    "language_info": {
      "name": "python",
      "codemirror_mode": {
        "name": "ipython",
        "version": "3"
      },
      "file_extension": ".py",
      "mimetype": "text/x-python",
      "nbconvert_exporter": "python",
      "pygments_lexer": "ipython3",
      "version": "3.11.13"
    }
  }
}