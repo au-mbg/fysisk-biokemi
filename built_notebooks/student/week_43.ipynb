{
  "cells": [
    {
      "cell_type": "markdown",
      "metadata": {},
      "source": [
        "# Week 43"
      ],
      "id": "d13b79b4-9365-4f86-9ca9-392b73c966fa"
    },
    {
      "cell_type": "code",
      "execution_count": 2,
      "metadata": {},
      "outputs": [],
      "source": [
        "try:\n",
        "    import fysisk_biokemi\n",
        "    print(\"Already installed\")\n",
        "except ImportError:\n",
        "    %pip install \"fysisk_biokemi[colab] @ git+https://github.com/au-mbg/fysisk-biokemi.git\""
      ],
      "id": "e4164079"
    },
    {
      "cell_type": "code",
      "execution_count": 3,
      "metadata": {},
      "outputs": [],
      "source": [
        "import fysisk_biokemi.widgets as fsb_widgets"
      ],
      "id": "2dad2deb"
    },
    {
      "cell_type": "markdown",
      "metadata": {},
      "source": [
        "## Koncentrations enheder"
      ],
      "id": "db9646c9-7df1-4f6c-bb89-5799941dba17"
    },
    {
      "cell_type": "code",
      "execution_count": 4,
      "metadata": {},
      "outputs": [],
      "source": [
        "fsb_widgets.concentration_unit()"
      ],
      "id": "5a4e5093"
    },
    {
      "cell_type": "markdown",
      "metadata": {},
      "source": [
        "## Koncentration fra masse og volumen"
      ],
      "id": "42151602-6773-4add-991e-a8653d199e5c"
    },
    {
      "cell_type": "code",
      "execution_count": 5,
      "metadata": {},
      "outputs": [],
      "source": [
        "fsb_widgets.concentration_mass_volume()"
      ],
      "id": "f54eeabd"
    },
    {
      "cell_type": "markdown",
      "metadata": {},
      "source": [
        "## Molekylær vægt"
      ],
      "id": "767a2969-fc20-452a-9586-9211d167de65"
    },
    {
      "cell_type": "code",
      "execution_count": 6,
      "metadata": {},
      "outputs": [],
      "source": [
        "fsb_widgets.molecular_weight()"
      ],
      "id": "8ee79d6b"
    },
    {
      "cell_type": "markdown",
      "metadata": {},
      "source": [
        "## Ligevægts reaktions"
      ],
      "id": "c23baf69-cf28-4263-af2f-44ee71daa299"
    },
    {
      "cell_type": "code",
      "execution_count": 7,
      "metadata": {},
      "outputs": [],
      "source": [
        "fsb_widgets.reaction_equation()"
      ],
      "id": "d3634ce9"
    }
  ],
  "nbformat": 4,
  "nbformat_minor": 5,
  "metadata": {
    "kernelspec": {
      "name": "python3",
      "display_name": "Python 3 (ipykernel)",
      "language": "python",
      "path": "/home/runner/work/fysisk-biokemi/fysisk-biokemi/.venv/share/jupyter/kernels/python3"
    },
    "language_info": {
      "name": "python",
      "codemirror_mode": {
        "name": "ipython",
        "version": "3"
      },
      "file_extension": ".py",
      "mimetype": "text/x-python",
      "nbconvert_exporter": "python",
      "pygments_lexer": "ipython3",
      "version": "3.11.13"
    }
  }
}