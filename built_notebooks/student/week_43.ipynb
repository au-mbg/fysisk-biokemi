{
  "cells": [
    {
      "cell_type": "markdown",
      "metadata": {},
      "source": [
        "# Week 43"
      ],
      "id": "fd077e9a-cd89-4b42-ab7e-eac1136307b8"
    },
    {
      "cell_type": "code",
      "execution_count": 2,
      "metadata": {},
      "outputs": [],
      "source": [
        "try:\n",
        "    import fysisk_biokemi\n",
        "    print(\"Already installed\")\n",
        "except ImportError:\n",
        "    %pip install -q \"fysisk_biokemi[colab] @ git+https://github.com/au-mbg/fysisk-biokemi.git\""
      ],
      "id": "cf23a4dc"
    },
    {
      "cell_type": "code",
      "execution_count": 3,
      "metadata": {},
      "outputs": [],
      "source": [
        "import fysisk_biokemi.widgets as fsb_widgets"
      ],
      "id": "d6ec1e86"
    },
    {
      "cell_type": "markdown",
      "metadata": {},
      "source": [
        "## Koncentrations enheder\n",
        "\n",
        "Widgetten nedenfor kan konvertere mellem enheder med forskellige prefix,\n",
        "som værdien af er givet i tabellen\n",
        "\n",
        "| Enhed | Navn  | Faktor     |\n",
        "|-------|-------|------------|\n",
        "| M     |       | 1          |\n",
        "| mM    | Milli | $10^{-3}$  |\n",
        "| µM    | Micro | $10^{-6}$  |\n",
        "| nM    | Nano  | $10^{-9}$  |\n",
        "| pM    | Pico  | $10^{-12}$ |\n",
        "| fM    | Femto | $10^{-15}$ |\n",
        "\n",
        "Metric prefixes commonly used for molar concentrations"
      ],
      "id": "f019f1a7-6055-467c-a589-efe4192414cb"
    },
    {
      "cell_type": "code",
      "execution_count": 4,
      "metadata": {},
      "outputs": [],
      "source": [
        "fsb_widgets.concentration_unit()"
      ],
      "id": "2fc1b2bc"
    },
    {
      "cell_type": "markdown",
      "metadata": {},
      "source": [
        "## Koncentration fra masse og volumen\n",
        "\n",
        "Ofte er det nødvendigt at regne koncentrationen baseret på massen af\n",
        "stoffet og volumen af opløsningen, f.eks. hvis vi forbedrer et\n",
        "eksperiment vil vi tit starte fra den vinkel.\n",
        "\n",
        "For at regne molar koncentrationen skal vi så regne\n",
        "\n",
        "$$\n",
        "c = \\frac{m}{M_W \\cdot V} \\xrightarrow[]{\\text{Enheder}} \\frac{\\text{g}}{\\frac{\\text{g}}{\\text{mol}} \\cdot \\text{L}} = \\frac{\\text{g}\\cdot \\text{mol}}{\\text{g}\\cdot L} = \\frac{\\text{mol}}{\\text{L}}\n",
        "$$ Hvor $m$ er massen i **gram**, $M_W$ er molekyle vægten i\n",
        "$\\frac{g}{mol}$ og V er volumen i liter Her er det vigtigt at\n",
        "konveretere til de rigtige enheder, altså ikke f.eks. at bruge $m$ i at\n",
        "$\\text{mg}$. Widgtten nedenfor tager en masse, et volumen og en\n",
        "molekylærvægt og konveretere til molar koncentration, du kan vælge hvad\n",
        "enheden af masse og volumen er."
      ],
      "id": "4f930637-bac2-4b0b-bd04-0752a52866a7"
    },
    {
      "cell_type": "code",
      "execution_count": 5,
      "metadata": {},
      "outputs": [],
      "source": [
        "fsb_widgets.concentration_mass_volume()"
      ],
      "id": "1c992d28"
    },
    {
      "cell_type": "markdown",
      "metadata": {},
      "source": [
        "## Molekylærvægt\n",
        "\n",
        "Molekylærvægten er en sum af atomarvægte\n",
        "\n",
        "$$\n",
        "M_W = \\sum_i^Z n_i m_Z\n",
        "$$ Hvor $n_i$ er antaller af atomer af type $i$ og $m_Z$ er vægten pr.\n",
        "mol af det atom. Widgetten nedenfor kan regne molekylærvægten af stoffer\n",
        "med de første 83 elementer fra den periodiske table."
      ],
      "id": "0401c425-8f50-438c-acc1-0e3f5ac54c02"
    },
    {
      "cell_type": "code",
      "execution_count": 6,
      "metadata": {},
      "outputs": [],
      "source": [
        "fsb_widgets.molecular_weight()"
      ],
      "id": "5728106f"
    },
    {
      "cell_type": "markdown",
      "metadata": {},
      "source": [
        "## Ligevægts reaktions\n",
        "\n",
        "Denne widget kan regne ligevægts koefficient af reaktioner, f.eks.\n",
        "\n",
        "$$\n",
        "aA + bB ... = xX + yY ... \n",
        "$$ Hvor ligevægtskoefficienten er givet ved\n",
        "\n",
        "$$\n",
        "K_{eq} = \\frac{[X]^x \\times [Y]^y \\times ...}{[A]^a \\times [B]^b \\times ...}\n",
        "$$\n",
        "\n",
        "Her er det igen vigtigt at koncentrationerne er givet i $mol/L$ for at\n",
        "der regnes rigtigt, men heldigvis kan widgetten konvertere dem for dig.\n",
        "\n",
        "For at bruge widgetten skal du skrive en reaktions ligningen på formen\n",
        "\n",
        "    a A + b B = c C \n",
        "\n",
        "Hvor der er mellemrum mellem ordren og stoffet, du kan så angive\n",
        "koncentrationen og ligevægtskoefficienten bliver regnet."
      ],
      "id": "22e4d905-e023-48f1-b9e6-8b60e94a1e02"
    },
    {
      "cell_type": "code",
      "execution_count": 7,
      "metadata": {},
      "outputs": [],
      "source": [
        "fsb_widgets.reaction_equation()"
      ],
      "id": "fa037e6d"
    },
    {
      "cell_type": "markdown",
      "metadata": {},
      "source": [
        "## Reaktions data analyse\n",
        "\n",
        "Denne widget kan læse en `.csv`-fil hvilket er en **c**omma\n",
        "**s**eperated **v**alues, det vil sige at forskellige data er splittet\n",
        "om i kolonner, se f.eks. eksemplet her\n",
        "\n",
        "``` {csv}\n",
        "time (s),A (mM),B (µM),X (nM),Y (µM)\n",
        "0,1.00,500.0,100.0,50.0\n",
        "10,0.95,480.0,150.0,70.0\n",
        "20,0.92,460.0,200.0,90.0\n",
        "30,0.90,445.0,240.0,110.0\n",
        "40,0.88,430.0,270.0,130.0\n",
        "50,0.87,420.0,300.0,150.0\n",
        "60,0.86,410.0,330.0,170.0\n",
        "70,0.85,400.0,360.0,190.0\n",
        "80,0.84,390.0,390.0,210.0\n",
        "90,0.83,380.0,420.0,230.0\n",
        "100,0.82,370.0,450.0,250.0\n",
        "```\n",
        "\n",
        "Her er der 5 søjler, som beskriver 5 forskellige størrelser.\n",
        "\n",
        "At bruge widgten kræver fire trin\n",
        "\n",
        "-   Kilk på “Upload CSV” og vælg en fil.\n",
        "-   Sikre at reaktionsligning er den du er interesseret i.\n",
        "-   Sikre at hvert led af reaktionsligningen er tilknyttet den rigtige\n",
        "    kolonne i datasættet og enheden er korrekt.\n",
        "-   Klik “Beregn og plot” for at beregne ligevægtskoefficienten."
      ],
      "id": "fb5ace1a-1e4a-498c-84ed-a31fdcccbc63"
    },
    {
      "cell_type": "code",
      "execution_count": 8,
      "metadata": {},
      "outputs": [],
      "source": [
        "fsb_widgets.reaction_data_analysis()"
      ],
      "id": "b3c96c22"
    },
    {
      "cell_type": "markdown",
      "metadata": {},
      "source": [
        "### Bufferligningen\n",
        "\n",
        "Denne widget beregener koncentrationen af syre og base givet $pH$, $pKa$\n",
        "samt total koncentrationen."
      ],
      "id": "d1baadfe-e7b8-4e8b-80d1-886de6502ad5"
    },
    {
      "cell_type": "code",
      "execution_count": 9,
      "metadata": {},
      "outputs": [],
      "source": [
        "fsb_widgets.buffer_equation()"
      ],
      "id": "e07830af"
    },
    {
      "cell_type": "markdown",
      "metadata": {},
      "source": [
        "### Bufferligning visualisering\n",
        "\n",
        "Denne widget visualisere bufferligningen (Henderson–Hasselbalch). Du kan\n",
        "styre $pKa$, total koncentratioenn og området for $pH$. Plottet viser\n",
        "koncentrationen af syre og base som funktionen af pH."
      ],
      "id": "a454f0db-0004-4bbc-a277-a536cea818a2"
    },
    {
      "cell_type": "code",
      "execution_count": 10,
      "metadata": {},
      "outputs": [],
      "source": [
        "fsb_widgets.buffer_visualization()"
      ],
      "id": "ec4de0df"
    }
  ],
  "nbformat": 4,
  "nbformat_minor": 5,
  "metadata": {
    "kernelspec": {
      "name": "python3",
      "display_name": "Python 3 (ipykernel)",
      "language": "python",
      "path": "/home/runner/work/fysisk-biokemi/fysisk-biokemi/.venv/share/jupyter/kernels/python3"
    },
    "language_info": {
      "name": "python",
      "codemirror_mode": {
        "name": "ipython",
        "version": "3"
      },
      "file_extension": ".py",
      "mimetype": "text/x-python",
      "nbconvert_exporter": "python",
      "pygments_lexer": "ipython3",
      "version": "3.11.13"
    }
  }
}