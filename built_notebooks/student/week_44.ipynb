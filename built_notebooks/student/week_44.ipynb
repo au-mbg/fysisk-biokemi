{
  "cells": [
    {
      "cell_type": "markdown",
      "metadata": {},
      "source": [
        "# Week 44"
      ],
      "id": "eb7efb84-5670-4209-9176-038851e148f5"
    },
    {
      "cell_type": "code",
      "execution_count": 2,
      "metadata": {},
      "outputs": [],
      "source": [
        "try:\n",
        "    import fysisk_biokemi\n",
        "    print(\"Already installed\")\n",
        "except ImportError:\n",
        "    %pip install -q \"fysisk_biokemi[colab] @ git+https://github.com/au-mbg/fysisk-biokemi.git\""
      ],
      "id": "9afe329a"
    },
    {
      "cell_type": "code",
      "execution_count": 3,
      "metadata": {},
      "outputs": [],
      "source": [
        "import fysisk_biokemi.widgets as fsb_widgets"
      ],
      "id": "0885db95"
    },
    {
      "cell_type": "markdown",
      "metadata": {},
      "source": [
        "## Sekvens egenskaber"
      ],
      "id": "55111485-783c-49de-8f45-d40fc0b0ff5a"
    },
    {
      "cell_type": "code",
      "execution_count": 4,
      "metadata": {},
      "outputs": [],
      "source": [
        "fsb_widgets.sequence_properties()"
      ],
      "id": "903f894c"
    },
    {
      "cell_type": "markdown",
      "metadata": {},
      "source": [
        "## Fasta til `DataFrame`"
      ],
      "id": "289e27bf-6dc2-4b7e-ab92-99a3bc0cdc4b"
    },
    {
      "cell_type": "code",
      "execution_count": 5,
      "metadata": {},
      "outputs": [],
      "source": [
        "from fysisk_biokemi.widgets.sequence_properties import sequence_dataframe\n",
        "\n",
        "widget = sequence_dataframe()"
      ],
      "id": "09a4986f"
    },
    {
      "cell_type": "markdown",
      "metadata": {},
      "source": [
        "`DataFrame`’en ved den valgte pH kan trækkes ud"
      ],
      "id": "6fadaecf-fa7d-40ba-ba38-850b1efbd4bb"
    },
    {
      "cell_type": "code",
      "execution_count": 6,
      "metadata": {},
      "outputs": [],
      "source": [
        "df = widget.get_dataframe()"
      ],
      "id": "291cb2f2"
    }
  ],
  "nbformat": 4,
  "nbformat_minor": 5,
  "metadata": {
    "kernelspec": {
      "name": "python3",
      "display_name": "Python 3 (ipykernel)",
      "language": "python",
      "path": "/home/runner/work/fysisk-biokemi/fysisk-biokemi/.venv/share/jupyter/kernels/python3"
    },
    "language_info": {
      "name": "python",
      "codemirror_mode": {
        "name": "ipython",
        "version": "3"
      },
      "file_extension": ".py",
      "mimetype": "text/x-python",
      "nbconvert_exporter": "python",
      "pygments_lexer": "ipython3",
      "version": "3.11.13"
    }
  }
}