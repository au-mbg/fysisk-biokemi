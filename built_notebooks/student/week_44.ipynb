{
  "cells": [
    {
      "cell_type": "markdown",
      "metadata": {},
      "source": [
        "# Week 44"
      ],
      "id": "5c78c88c-3abd-43f0-8e88-2d3a39591abf"
    },
    {
      "cell_type": "code",
      "execution_count": 2,
      "metadata": {},
      "outputs": [],
      "source": [
        "try:\n",
        "    import fysisk_biokemi\n",
        "    print(\"Already installed\")\n",
        "except ImportError:\n",
        "    %pip install -q \"fysisk_biokemi[colab] @ git+https://github.com/au-mbg/fysisk-biokemi.git\""
      ],
      "id": "e3335087"
    },
    {
      "cell_type": "code",
      "execution_count": 3,
      "metadata": {},
      "outputs": [],
      "source": [
        "import fysisk_biokemi.widgets as fsb_widgets"
      ],
      "id": "ae308762"
    },
    {
      "cell_type": "markdown",
      "metadata": {},
      "source": [
        "## Sekvens egenskaber"
      ],
      "id": "3c8f9751-0980-4de6-bc20-b94e1704318a"
    },
    {
      "cell_type": "code",
      "execution_count": 4,
      "metadata": {},
      "outputs": [],
      "source": [
        "fsb_widgets.sequence_properties()"
      ],
      "id": "7aa6de39"
    },
    {
      "cell_type": "markdown",
      "metadata": {},
      "source": [
        "## Fasta til `DataFrame`"
      ],
      "id": "f1464c67-ac90-48a9-b922-a4c820ee77aa"
    },
    {
      "cell_type": "code",
      "execution_count": 5,
      "metadata": {},
      "outputs": [],
      "source": [
        "from fysisk_biokemi.widgets.sequence_properties import sequence_dataframe\n",
        "\n",
        "widget = sequence_dataframe()"
      ],
      "id": "77569464"
    },
    {
      "cell_type": "markdown",
      "metadata": {},
      "source": [
        "`DataFrame`’en ved den valgte pH kan trækkes ud"
      ],
      "id": "41aa7050-a943-4a10-ab4e-299f982b1485"
    },
    {
      "cell_type": "code",
      "execution_count": 6,
      "metadata": {},
      "outputs": [],
      "source": [
        "df = widget.get_dataframe()"
      ],
      "id": "95fc0f99"
    }
  ],
  "nbformat": 4,
  "nbformat_minor": 5,
  "metadata": {
    "kernelspec": {
      "name": "python3",
      "display_name": "Python 3 (ipykernel)",
      "language": "python",
      "path": "/home/runner/work/fysisk-biokemi/fysisk-biokemi/.venv/share/jupyter/kernels/python3"
    },
    "language_info": {
      "name": "python",
      "codemirror_mode": {
        "name": "ipython",
        "version": "3"
      },
      "file_extension": ".py",
      "mimetype": "text/x-python",
      "nbconvert_exporter": "python",
      "pygments_lexer": "ipython3",
      "version": "3.11.13"
    }
  }
}