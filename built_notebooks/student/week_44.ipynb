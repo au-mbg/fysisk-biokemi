{
  "cells": [
    {
      "cell_type": "markdown",
      "metadata": {},
      "source": [
        "# Week 44"
      ],
      "id": "0efed20d-6d13-49f6-bc3f-7be4e3d4622a"
    },
    {
      "cell_type": "code",
      "execution_count": 2,
      "metadata": {},
      "outputs": [],
      "source": [
        "try:\n",
        "    import fysisk_biokemi\n",
        "    print(\"Already installed\")\n",
        "except ImportError:\n",
        "    %pip install -q \"fysisk_biokemi[colab] @ git+https://github.com/au-mbg/fysisk-biokemi.git\""
      ],
      "id": "75093d96"
    },
    {
      "cell_type": "code",
      "execution_count": 3,
      "metadata": {},
      "outputs": [],
      "source": [
        "import fysisk_biokemi.widgets as fsb_widgets"
      ],
      "id": "a3459a62"
    },
    {
      "cell_type": "markdown",
      "metadata": {},
      "source": [
        "## Sekvens egenskaber"
      ],
      "id": "45ff2fd1-920c-4beb-8531-a45cc74684e9"
    },
    {
      "cell_type": "code",
      "execution_count": 4,
      "metadata": {},
      "outputs": [],
      "source": [
        "fsb_widgets.sequence_properties()"
      ],
      "id": "0bdea9a0"
    },
    {
      "cell_type": "markdown",
      "metadata": {},
      "source": [
        "## Fasta til `DataFrame`"
      ],
      "id": "a3d736df-8090-4093-a956-130d2abe0164"
    },
    {
      "cell_type": "code",
      "execution_count": 5,
      "metadata": {},
      "outputs": [],
      "source": [
        "from fysisk_biokemi.widgets.sequence_properties import sequence_dataframe\n",
        "\n",
        "widget = sequence_dataframe()"
      ],
      "id": "e82c5a6f"
    },
    {
      "cell_type": "markdown",
      "metadata": {},
      "source": [
        "`DataFrame`’en ved den valgte pH kan trækkes ud"
      ],
      "id": "4fc126fa-f05e-4afd-819e-a9279190f6d2"
    },
    {
      "cell_type": "code",
      "execution_count": 6,
      "metadata": {},
      "outputs": [],
      "source": [
        "df = widget.get_dataframe()"
      ],
      "id": "581e44bd"
    }
  ],
  "nbformat": 4,
  "nbformat_minor": 5,
  "metadata": {
    "kernelspec": {
      "name": "python3",
      "display_name": "Python 3 (ipykernel)",
      "language": "python",
      "path": "/home/runner/work/fysisk-biokemi/fysisk-biokemi/.venv/share/jupyter/kernels/python3"
    },
    "language_info": {
      "name": "python",
      "codemirror_mode": {
        "name": "ipython",
        "version": "3"
      },
      "file_extension": ".py",
      "mimetype": "text/x-python",
      "nbconvert_exporter": "python",
      "pygments_lexer": "ipython3",
      "version": "3.11.13"
    }
  }
}