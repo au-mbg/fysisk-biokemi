{
  "cells": [
    {
      "cell_type": "markdown",
      "metadata": {},
      "source": [
        "# Week 44"
      ],
      "id": "fcf3de08-306a-41ec-b3ea-3a122ebc584e"
    },
    {
      "cell_type": "code",
      "execution_count": 2,
      "metadata": {},
      "outputs": [],
      "source": [
        "try:\n",
        "    import fysisk_biokemi\n",
        "    print(\"Already installed\")\n",
        "except ImportError:\n",
        "    %pip install -q \"fysisk_biokemi[colab] @ git+https://github.com/au-mbg/fysisk-biokemi.git\""
      ],
      "id": "88ac4c2b"
    },
    {
      "cell_type": "code",
      "execution_count": 3,
      "metadata": {},
      "outputs": [],
      "source": [
        "import fysisk_biokemi.widgets as fsb_widgets"
      ],
      "id": "ae13bb43"
    },
    {
      "cell_type": "markdown",
      "metadata": {},
      "source": [
        "## Sekvens egenskaber"
      ],
      "id": "99886d8f-0d85-4fee-bd06-75c9e6f3205e"
    },
    {
      "cell_type": "code",
      "execution_count": 4,
      "metadata": {},
      "outputs": [],
      "source": [
        "fsb_widgets.sequence_properties()"
      ],
      "id": "c97b6662"
    },
    {
      "cell_type": "markdown",
      "metadata": {},
      "source": [
        "## Fasta til `DataFrame`"
      ],
      "id": "238ebbe2-a49d-477b-9586-be3d57838f32"
    },
    {
      "cell_type": "code",
      "execution_count": 5,
      "metadata": {},
      "outputs": [],
      "source": [
        "from fysisk_biokemi.widgets.sequence_properties import sequence_dataframe\n",
        "\n",
        "widget = sequence_dataframe()"
      ],
      "id": "d2515485"
    },
    {
      "cell_type": "markdown",
      "metadata": {},
      "source": [
        "`DataFrame`’en ved den valgte pH kan trækkes ud"
      ],
      "id": "a9a3738a-7580-495f-acab-cf44c193df92"
    },
    {
      "cell_type": "code",
      "execution_count": 6,
      "metadata": {},
      "outputs": [],
      "source": [
        "df = widget.get_dataframe()"
      ],
      "id": "f3674ed3"
    }
  ],
  "nbformat": 4,
  "nbformat_minor": 5,
  "metadata": {
    "kernelspec": {
      "name": "python3",
      "display_name": "Python 3 (ipykernel)",
      "language": "python",
      "path": "/home/runner/work/fysisk-biokemi/fysisk-biokemi/.venv/share/jupyter/kernels/python3"
    },
    "language_info": {
      "name": "python",
      "codemirror_mode": {
        "name": "ipython",
        "version": "3"
      },
      "file_extension": ".py",
      "mimetype": "text/x-python",
      "nbconvert_exporter": "python",
      "pygments_lexer": "ipython3",
      "version": "3.11.13"
    }
  }
}