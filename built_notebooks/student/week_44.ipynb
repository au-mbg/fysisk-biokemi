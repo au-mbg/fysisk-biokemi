{
  "cells": [
    {
      "cell_type": "markdown",
      "metadata": {},
      "source": [
        "# Week 44"
      ],
      "id": "3274a1c6-92e4-436f-b751-1116f6776bb9"
    },
    {
      "cell_type": "code",
      "execution_count": 2,
      "metadata": {},
      "outputs": [],
      "source": [
        "try:\n",
        "    import fysisk_biokemi\n",
        "    print(\"Already installed\")\n",
        "except ImportError:\n",
        "    %pip install -q \"fysisk_biokemi[colab] @ git+https://github.com/au-mbg/fysisk-biokemi.git\""
      ],
      "id": "ca268cbc"
    },
    {
      "cell_type": "code",
      "execution_count": 3,
      "metadata": {},
      "outputs": [],
      "source": [
        "import fysisk_biokemi.widgets as fsb_widgets"
      ],
      "id": "a808d3c7"
    },
    {
      "cell_type": "markdown",
      "metadata": {},
      "source": [
        "## Sekvens egenskaber"
      ],
      "id": "e431cfef-2ae7-493b-bb2f-52792701bd70"
    },
    {
      "cell_type": "code",
      "execution_count": 4,
      "metadata": {},
      "outputs": [],
      "source": [
        "fsb_widgets.sequence_properties()"
      ],
      "id": "69d04688"
    },
    {
      "cell_type": "markdown",
      "metadata": {},
      "source": [
        "## Fasta til `DataFrame`"
      ],
      "id": "58c86b2b-dc46-4e8c-ad6d-1f474e099dc1"
    },
    {
      "cell_type": "code",
      "execution_count": 5,
      "metadata": {},
      "outputs": [],
      "source": [
        "from fysisk_biokemi.widgets.sequence_properties import sequence_dataframe\n",
        "\n",
        "widget = sequence_dataframe()"
      ],
      "id": "ed910c36"
    },
    {
      "cell_type": "markdown",
      "metadata": {},
      "source": [
        "`DataFrame`’en ved den valgte pH kan trækkes ud"
      ],
      "id": "59bd2b27-d9d9-45a2-bef2-55bc66dd2cf3"
    },
    {
      "cell_type": "code",
      "execution_count": 6,
      "metadata": {},
      "outputs": [],
      "source": [
        "df = widget.get_dataframe()"
      ],
      "id": "dcf76d7e"
    }
  ],
  "nbformat": 4,
  "nbformat_minor": 5,
  "metadata": {
    "kernelspec": {
      "name": "python3",
      "display_name": "Python 3 (ipykernel)",
      "language": "python",
      "path": "/home/runner/work/fysisk-biokemi/fysisk-biokemi/.venv/share/jupyter/kernels/python3"
    },
    "language_info": {
      "name": "python",
      "codemirror_mode": {
        "name": "ipython",
        "version": "3"
      },
      "file_extension": ".py",
      "mimetype": "text/x-python",
      "nbconvert_exporter": "python",
      "pygments_lexer": "ipython3",
      "version": "3.11.13"
    }
  }
}