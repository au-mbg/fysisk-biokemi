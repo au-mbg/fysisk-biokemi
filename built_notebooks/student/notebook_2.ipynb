{
  "cells": [
    {
      "cell_type": "markdown",
      "metadata": {},
      "source": [
        "# Funktioner og arrays"
      ],
      "id": "f5995771-4e38-44d6-a581-e0836506b1b7"
    },
    {
      "cell_type": "code",
      "execution_count": 2,
      "metadata": {},
      "outputs": [],
      "source": [
        "try:\n",
        "    import fysisk_biokemi\n",
        "    print(\"Already installed\")\n",
        "except ImportError:\n",
        "    %pip install \"fysisk_biokemi[colab] @ git+https://github.com/au-mbg/fysisk-biokemi.git\""
      ],
      "id": "90763415"
    },
    {
      "cell_type": "code",
      "execution_count": 3,
      "metadata": {},
      "outputs": [],
      "source": [
        "import numpy as np"
      ],
      "id": "8d632e1b"
    },
    {
      "cell_type": "markdown",
      "metadata": {},
      "source": [
        "## Funktioner\n",
        "\n",
        "Forrige gang så vi på funktioner, vi vil fortsætte med det denne gang.\n",
        "Husk at en funktion er en opskrift der beskriver hvordan en beregning\n",
        "skal foretages som kan genbruges mange gange.\n",
        "\n",
        "En funktion defineres med `def` hvorefter dens navn bliver sat og i\n",
        "paranteserne sættes dens parametre (også kaldet argumenter)."
      ],
      "id": "7c3d076c-5e97-4306-80c9-197dc9bae34d"
    },
    {
      "cell_type": "code",
      "execution_count": 4,
      "metadata": {},
      "outputs": [],
      "source": [
        "def min_funktion(a, b):\n",
        "    resultat = a * b \n",
        "    return resultat"
      ],
      "id": "038a0fcf"
    },
    {
      "cell_type": "markdown",
      "metadata": {},
      "source": [
        "Funktionen bliver først udført når den bliver kaldt, i dette tilfælde\n",
        "f.eks."
      ],
      "id": "00066344-7963-4c42-adb8-59a8ebfef7fe"
    },
    {
      "cell_type": "code",
      "execution_count": 5,
      "metadata": {},
      "outputs": [
        {
          "output_type": "stream",
          "name": "stdout",
          "text": [
            "42"
          ]
        }
      ],
      "source": [
        "mit_resultat = min_funktion(6, 7)\n",
        "print(mit_resultat)"
      ],
      "id": "31c3109b"
    },
    {
      "cell_type": "markdown",
      "metadata": {},
      "source": [
        "Hvor vi så har outputtet af funktionen i variablen `mit_resultat`.\n",
        "\n",
        "### Opgave 1\n",
        "\n",
        "Tablene nedenfor viser radius af forskellige celler typer\n",
        "\n",
        "| Celle type                  | Radius      |\n",
        "|-----------------------------|:------------|\n",
        "| Mycoplasma                  | ~0,2–0,3 µm |\n",
        "| Typisk bakterie             | ~1–2 µm     |\n",
        "| Gærcelle (S. cerevisiae)    | ~5–7 µm     |\n",
        "| Røde blodlegemer (menneske) | ~7–8 µm     |\n",
        "| Lymfocyt (hvidt blodlegeme) | ~8–10 µm    |\n",
        "| Typisk dyrecelle            | ~10–20 µm   |\n",
        "| Typisk plantecelle          | ~20–100 µm  |\n",
        "| Menneskelig ægcelle (oocyt) | ~120–140 µm |\n",
        "| Neuron (cellekrop)          | ~10–100 µm  |\n",
        "\n",
        "Celle størrelser\n",
        "\n",
        "Vi har tidligere beregnet volumen af cellerne ved at antage at de er\n",
        "kugleformede, hvorved at volumen er givet ved\n",
        "\n",
        "$$\n",
        "V(r) = \\frac{4}{3}\\pi r^3\n",
        "$$\n",
        "\n",
        "Skriv en funktion den tager radius `r` som argument og beregner\n",
        "volumen - husk at du kan bruge `np.pi` istedet for at skrive $\\pi$ ind\n",
        "selv!"
      ],
      "id": "47ac2c2b-82d6-48ed-aa20-365ae9168132"
    },
    {
      "cell_type": "code",
      "execution_count": 6,
      "metadata": {
        "exercise": true
      },
      "outputs": [],
      "source": [
        "def ... # Erstat med din kode\n",
        "    ... # Erstat med din kode"
      ],
      "id": "73aa5c1d"
    },
    {
      "cell_type": "markdown",
      "metadata": {},
      "source": [
        "Kald funktionen med nogle af de forskellige radius fra tablen"
      ],
      "id": "c6bb7740-58ac-4647-9794-f3b3845b9d88"
    },
    {
      "cell_type": "code",
      "execution_count": 8,
      "metadata": {
        "exercise": true
      },
      "outputs": [],
      "source": [
        "mycoplasma_volume = ... # Erstat med din kode\n",
        "print(mycoplasma_volume)\n",
        "# Gør det samme for nogle af de andre celle typer\n",
        "..."
      ],
      "id": "8feab139"
    },
    {
      "cell_type": "markdown",
      "metadata": {},
      "source": [
        "## Arrays\n",
        "\n",
        "Vi har tidligere set nogle af forskellige datatyper i Python\n",
        "\n",
        "-   Integers (Heltal) `int`\n",
        "-   Floats (Kommatal) `float`\n",
        "-   Strings (Tekst) `str`\n",
        "\n",
        "Men der er mange andre typer der kan være hjælpesomme i forskellige\n",
        "sammenhæng. En sådan type er numpy arrays, et eksempel på et numpy array\n",
        "er vist nedenfor"
      ],
      "id": "dd493da8-df9f-4254-ab50-c51e95b3caea"
    },
    {
      "cell_type": "code",
      "execution_count": 10,
      "metadata": {},
      "outputs": [],
      "source": [
        "A = np.array([1.0, 2.5, 3.5])"
      ],
      "id": "c25f80de"
    },
    {
      "cell_type": "markdown",
      "metadata": {},
      "source": [
        "Noget af det smarte med arrays er at vi kan lave operationer på alt\n",
        "indeholdet på engang"
      ],
      "id": "7f86d3c3-c2a6-4ae7-b361-3d13ce749aad"
    },
    {
      "cell_type": "code",
      "execution_count": 11,
      "metadata": {},
      "outputs": [
        {
          "output_type": "stream",
          "name": "stdout",
          "text": [
            "[2. 5. 7.]"
          ]
        }
      ],
      "source": [
        "B = 2 * A \n",
        "print(B)"
      ],
      "id": "f096930d"
    },
    {
      "cell_type": "markdown",
      "metadata": {},
      "source": [
        "### Opgave 2\n",
        "\n",
        "Lav et array der indeholder de angivne celle radii og brug din `volumen`\n",
        "funktion til at beregne volumen af alle celler på engang"
      ],
      "id": "954e0c91-25ea-4622-a777-10eb7cc1ab70"
    },
    {
      "cell_type": "code",
      "execution_count": 12,
      "metadata": {
        "exercise": true
      },
      "outputs": [],
      "source": [
        "radii = np.array([...]) # Erstat ... med din kode"
      ],
      "id": "2fe6fefe"
    },
    {
      "cell_type": "code",
      "execution_count": 13,
      "metadata": {
        "exercise": true
      },
      "outputs": [],
      "source": [
        "celle_volumner = ... # Erstat ... med din kode.\n",
        "print(celle_volumner)"
      ],
      "id": "597622ce"
    },
    {
      "cell_type": "markdown",
      "metadata": {},
      "source": [
        "## Array operationer\n",
        "\n",
        "Der er mange andre operationer vi kan lave på arrays, som f.eks. at\n",
        "finde det største eller mindste tal\n",
        "\n",
        "Vi kan finde celle-typen med den største volumen som"
      ],
      "id": "405cb81b-3840-4d72-8c9c-fe1ec037f641"
    },
    {
      "cell_type": "code",
      "execution_count": 16,
      "metadata": {},
      "outputs": [
        {
          "output_type": "display_data",
          "metadata": {},
          "data": {
            "text/plain": [
              "np.float64(9202772.0799157)"
            ]
          }
        }
      ],
      "source": [
        "np.max(celle_volumner)"
      ],
      "id": "6c1d8eed"
    },
    {
      "cell_type": "markdown",
      "metadata": {},
      "source": [
        "Den tilsvarende funktioner for at finde det mindste tal hedder `np.min`.\n",
        "\n",
        "### Opgave 3\n",
        "\n",
        "Cellen nedenfor laver et array med 1000 tal"
      ],
      "id": "108e90c2-53f7-4f72-95e2-79784ebbfbf4"
    },
    {
      "cell_type": "code",
      "execution_count": 17,
      "metadata": {},
      "outputs": [],
      "source": [
        "array_med_tal = np.random.rand(1000) * np.exp(3.737669)"
      ],
      "id": "8a982a0e"
    },
    {
      "cell_type": "markdown",
      "metadata": {},
      "source": [
        "Brug `np.max` til at finde det største tal i `array_med_tal`"
      ],
      "id": "4c78a829-a81b-45cb-8118-67863bd8292b"
    },
    {
      "cell_type": "code",
      "execution_count": 18,
      "metadata": {
        "exercise": true
      },
      "outputs": [],
      "source": [
        "største_tal = ... # Erstat ... med din kode\n",
        "print(største_tal)"
      ],
      "id": "134c6584"
    },
    {
      "cell_type": "markdown",
      "metadata": {},
      "source": [
        "## Array indeksering\n",
        "\n",
        "Nogle gange er vi intereserede i specifikke indgange i et array, så vi\n",
        "skal også kunne trække data ud af et array. Dette er “indexing”\n",
        "(indeksering), f.eks. hvis vi har et array"
      ],
      "id": "ed1b0175-2139-4b10-81cd-fe92bf4f056e"
    },
    {
      "cell_type": "code",
      "execution_count": 20,
      "metadata": {},
      "outputs": [],
      "source": [
        "mit_array = np.array([0, 2, 4, 6, 8, 10, 12, 14, 16, 18, 20])"
      ],
      "id": "7e2bcefb"
    },
    {
      "cell_type": "markdown",
      "metadata": {},
      "source": [
        "Kan vi bruge trække det fjerde tal ud sådan"
      ],
      "id": "26b48024-950f-4be7-ba9f-b5b9de6a1aa6"
    },
    {
      "cell_type": "code",
      "execution_count": 21,
      "metadata": {},
      "outputs": [],
      "source": [
        "fjerde_tal = mit_array[3] "
      ],
      "id": "ae13ca88"
    },
    {
      "cell_type": "markdown",
      "metadata": {},
      "source": [
        "> **Vigtigt**\n",
        ">\n",
        "> I Python starter man med at tælle fra 0, så det fjerde tal findes på\n",
        "> plads 3.\n",
        "\n",
        "### Opgave 4\n",
        "\n",
        "Brug indexing til at regne summen af\n",
        "\n",
        "-   Det sidste tal (Plads 10)\n",
        "-   Det andet tal (Plads 1)\n",
        "-   Det fjerde tal (Plads ??)\n",
        "-   Det ottende tal (Plads ??)"
      ],
      "id": "55da92da-3ea9-47d4-8ab3-aaafcd14fb59"
    },
    {
      "cell_type": "code",
      "execution_count": 23,
      "metadata": {
        "exercise": true
      },
      "outputs": [],
      "source": [
        "sum_af_tal = ... # Erstat med din kode\n",
        "print(sum_af_tal)"
      ],
      "id": "a6debae4"
    },
    {
      "cell_type": "markdown",
      "metadata": {},
      "source": [
        "### Opgave 5\n",
        "\n",
        "I molekylær biologi arbejder vi ofte med spektra, hvor akserne f.eks. er\n",
        "\n",
        "-   $x$: Bølgelængde målt i nm\n",
        "-   $y$: Absorptions koefficient"
      ],
      "id": "0a4d7014-6b51-41e6-b1d8-9a011258d6f6"
    },
    {
      "cell_type": "code",
      "execution_count": 24,
      "metadata": {},
      "outputs": [
        {
          "output_type": "stream",
          "name": "stdout",
          "text": [
            "     Wavelength(nm)  AdsorptionCoefficient\n",
            "0               300              20487.000\n",
            "1               301              20547.000\n",
            "2               302              20642.000\n",
            "3               303              20767.000\n",
            "4               304              20899.000\n",
            "..              ...                    ...\n",
            "496             796                 26.665\n",
            "497             797                 15.556\n",
            "498             798                 29.164\n",
            "499             799                 21.473\n",
            "500             800                 18.396\n",
            "\n",
            "[501 rows x 2 columns]"
          ]
        }
      ],
      "source": [
        "from fysisk_biokemi import load_dataset\n",
        "\n",
        "df = load_dataset(\"chlorophyll\")\n",
        "print(df)\n",
        "\n",
        "bølgelængder = df['Wavelength(nm)'] # Et array med 501 indgange\n",
        "adsorption = df['AdsorptionCoefficient'] # Et array med 501 indgange"
      ],
      "id": "58648fb3"
    },
    {
      "cell_type": "code",
      "execution_count": 25,
      "metadata": {},
      "outputs": [
        {
          "output_type": "display_data",
          "metadata": {},
          "data": {
            "text/plain": [
              "Text(0, 0.5, 'Adsorption Coefficient')"
            ]
          }
        },
        {
          "output_type": "display_data",
          "metadata": {},
          "data": {
            "image/png": "[encoded data removed]"
          }
        }
      ],
      "source": [
        "import matplotlib.pyplot as plt \n",
        "fig, ax = plt.subplots()\n",
        "ax.plot(bølgelængder, adsorption)\n",
        "ax.set_xlabel('Wavelength [nm]')\n",
        "ax.set_ylabel('Adsorption Coefficient')"
      ],
      "id": "ee28debd"
    },
    {
      "cell_type": "markdown",
      "metadata": {},
      "source": [
        "Vi vil gerne bruge NumPy til at finde hvad den maksimale adsorptions\n",
        "koefficient er, og ved hvilken bølgelængde det forekommer.\n",
        "\n",
        "Start med at finde den maksimale adsorptions koefficient ved brug af\n",
        "`np.max`"
      ],
      "id": "500c21da-fe98-49e2-adf9-3c3f46587014"
    },
    {
      "cell_type": "code",
      "execution_count": 27,
      "metadata": {
        "exercise": true
      },
      "outputs": [],
      "source": [
        "max_adsorption = ... # Erstat ... med din kode\n",
        "print(max_adsorption)"
      ],
      "id": "516add1b"
    },
    {
      "cell_type": "markdown",
      "metadata": {},
      "source": [
        "Vi kan bruge en anden funktion fra NumPy til at finde den bølgelængde\n",
        "hvor adsorptions koefficienter har sit maxima"
      ],
      "id": "4bc3f4c0-c568-408d-b90c-0ecf877d8d8e"
    },
    {
      "cell_type": "code",
      "execution_count": 28,
      "metadata": {},
      "outputs": [],
      "source": [
        "index_max_ads = np.argmax(adsorption)"
      ],
      "id": "bdc63287"
    },
    {
      "cell_type": "markdown",
      "metadata": {},
      "source": [
        "> **Note**\n",
        ">\n",
        "> `np.argmax` finder indekset af det **arg**ument som indeholder **max**\n",
        "> værdien.\n",
        "\n",
        "Brug nu `index_max_ads` til at trække den pågældende bølgelængde ud af\n",
        "`bølgelængder`"
      ],
      "id": "5c49f209-4a29-4300-bada-60b4bea3a11d"
    },
    {
      "cell_type": "code",
      "execution_count": 29,
      "metadata": {
        "exercise": true
      },
      "outputs": [],
      "source": [
        "bølgelængde_max_ads = ... # Din kode her"
      ],
      "id": "247cfb50"
    },
    {
      "cell_type": "code",
      "execution_count": 31,
      "metadata": {
        "exercise": true
      },
      "outputs": [],
      "source": [
        "import matplotlib.pyplot as plt \n",
        "fig, ax = plt.subplots()\n",
        "ax.plot(bølgelængder, adsorption)\n",
        "ax.axvline(bølgelængde_max_ads, color='red')\n",
        "ax.set_xlabel('Wavelength [nm]')\n",
        "ax.set_ylabel('Adsorption Coefficient')"
      ],
      "id": "54ed77a7"
    }
  ],
  "nbformat": 4,
  "nbformat_minor": 5,
  "metadata": {
    "kernelspec": {
      "name": "python3",
      "display_name": "Python 3 (ipykernel)",
      "language": "python",
      "path": "/home/runner/work/fysisk-biokemi/fysisk-biokemi/.venv/share/jupyter/kernels/python3"
    },
    "language_info": {
      "name": "python",
      "codemirror_mode": {
        "name": "ipython",
        "version": "3"
      },
      "file_extension": ".py",
      "mimetype": "text/x-python",
      "nbconvert_exporter": "python",
      "pygments_lexer": "ipython3",
      "version": "3.11.13"
    }
  }
}