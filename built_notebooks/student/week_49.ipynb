{
  "cells": [
    {
      "cell_type": "markdown",
      "metadata": {},
      "source": [
        "# Week 49"
      ],
      "id": "90da07d5-ba15-427f-8d69-c7031a607bd4"
    },
    {
      "cell_type": "code",
      "execution_count": 2,
      "metadata": {},
      "outputs": [],
      "source": [
        "try:\n",
        "    import fysisk_biokemi\n",
        "    print(\"Already installed\")\n",
        "except ImportError:\n",
        "    %pip install -q \"fysisk_biokemi[colab] @ git+https://github.com/au-mbg/fysisk-biokemi.git\""
      ],
      "id": "3a9575d6"
    },
    {
      "cell_type": "markdown",
      "metadata": {},
      "source": [
        "------------------------------------------------------------------------\n",
        "\n",
        "## Design of an enzyme kinetics experiment (Unfinished)"
      ],
      "id": "92b4c256-990f-458d-b9e9-8814d46b566d"
    },
    {
      "cell_type": "code",
      "execution_count": 3,
      "metadata": {},
      "outputs": [],
      "source": [
        "import matplotlib.pyplot as plt"
      ],
      "id": "31c0a8c5"
    },
    {
      "cell_type": "markdown",
      "metadata": {},
      "source": [
        "In the Excel document tø12_week49_data you will find a data set in which\n",
        "an enzyme catalyzed formation of product P, with varying start\n",
        "concentration of substrates, \\[S\\], was followed over time. The product\n",
        "absorbs light at a specific wavelength with an extinction coefficient of\n",
        "0.068 $\\mu\\text{M}^{-1}\\cdot \\text{cm}^{-1}$, and the absorbance was\n",
        "measured in a light path of 1 cm throughout the time course.\n",
        "\n",
        "You can load the dataset using the cells below;"
      ],
      "id": "2023fb30-765b-4ed6-9f7a-7baf5b8e1e9e"
    },
    {
      "cell_type": "code",
      "execution_count": 4,
      "metadata": {},
      "outputs": [],
      "source": [
        "from fysisk_biokemi.widgets import DataUploader\n",
        "from IPython.display import display \n",
        "uploader = DataUploader()\n",
        "uploader.display()"
      ],
      "id": "ef3f6422"
    },
    {
      "cell_type": "markdown",
      "metadata": {},
      "source": [
        "Run the next cell **after** uploading the file"
      ],
      "id": "9ad29a65-988f-4e81-8b9c-3f3c69398da1"
    },
    {
      "cell_type": "code",
      "execution_count": 5,
      "metadata": {},
      "outputs": [],
      "source": [
        "df = uploader.get_dataframe()\n",
        "display(df)"
      ],
      "id": "796b884a"
    },
    {
      "cell_type": "markdown",
      "metadata": {},
      "source": [
        "The headers, like `Abs_S1` refer to the substrate concentration so `S1`\n",
        "means a substrate concentration of 1 $\\mu\\text{M}$.\n",
        "\n",
        "#### (a)\n",
        "\n",
        "Convert the extinction coefficient to units given in\n",
        "$\\text{M}^{-1}\\cdot \\text{cm}^{-1}$ and assign it to a variable. Also\n",
        "assign the light path length to a variable."
      ],
      "id": "59e182ae-3c16-4b8f-a4f0-b72de162cd1d"
    },
    {
      "cell_type": "code",
      "execution_count": 7,
      "metadata": {
        "exercise": true
      },
      "outputs": [],
      "source": [
        "...\n",
        "..."
      ],
      "id": "9aa9eff7"
    },
    {
      "cell_type": "markdown",
      "metadata": {},
      "source": [
        "#### (b) Calculate concentrations\n",
        "\n",
        "Using Lambert-Beers law, calculate the concentration of product, \\[P\\],\n",
        "in M for each time series.\n",
        "\n",
        "> **Loops**\n",
        ">\n",
        "> Loops are one of the most useful parts of programming, loops allows us\n",
        "> to repeat an operation on many different elements. This allows us to\n",
        "> not have to repeat code many times, making it simpler to understand\n",
        "> and less prone to error - and at the same time more flexible.\n",
        ">\n",
        "> A common type of loop in Python is the `for` loop, which does\n",
        "> something `for` every item it is told to consider. The syntax of a\n",
        "> `for`-loop is like so:\n",
        ">\n",
        "> ``` python\n",
        "> total = 0\n",
        "> for count in [1, 2, 3, 4, 5]:\n",
        ">     print(f\"I have {count} apples.\")\n",
        "> ```\n",
        ">\n",
        "> Which will print\n",
        ">\n",
        ">     I have 1 apples\n",
        ">     I have 2 apples\n",
        ">     I have 3 apples\n",
        ">     I have 4 apples\n",
        ">     I have 5 apples\n",
        ">\n",
        "> So the `for`-loop did the operation of printing a string for each\n",
        "> value of `count`.\n",
        ">\n",
        "> When working with a `DataFrame` like in this exercise, we may for\n",
        "> example want to do something `for` each column, one way of doing that\n",
        "> is to loop over the column names, say we want we have a `DataFrame`\n",
        "> `df` with columns named `\"col1\", \"col2\", \"col3\"` we can loop over that\n",
        "> as\n",
        ">\n",
        "> ``` python\n",
        "> for name in ['col1', 'col2', 'col3']\n",
        ">     df[name] = ... # Some operation\n",
        "> ```\n",
        "\n",
        "The cell below setups a loop calculate the concentrations for each of\n",
        "these current columns in the dataframe."
      ],
      "id": "620ed988-ccea-4687-b76b-cc20bd7e4946"
    },
    {
      "cell_type": "code",
      "execution_count": 9,
      "metadata": {
        "exercise": true
      },
      "outputs": [],
      "source": [
        "substrate_concentrations = [1, 3, 5, 7, 9, 11, 13, 15]\n",
        "for s in substrate_concentrations:\n",
        "    abs_col_name = f'Abs_S{s}' # This creates a string where the value of 's' is put instead of \"{s}\"\".\n",
        "    conc_col_name = f'C_S{s}' # Same type string creation \n",
        "    df[conc_col_name] = ... # Your code here\n",
        "\n",
        "    # We can print in each iteration of the loop to see what's going on.\n",
        "    print(s, abs_col_name, conc_col_name) "
      ],
      "id": "c36303f9"
    },
    {
      "cell_type": "markdown",
      "metadata": {},
      "source": [
        "And we can check that the columns we expect have been added to the\n",
        "`DataFrame`."
      ],
      "id": "c0f08015-e1e1-407e-8460-90d262ac88ba"
    },
    {
      "cell_type": "code",
      "execution_count": 11,
      "metadata": {
        "exercise": true
      },
      "outputs": [],
      "source": [
        "display(df)"
      ],
      "id": "a0ddf40c"
    },
    {
      "cell_type": "markdown",
      "metadata": {},
      "source": [
        "#### (c) Plot\n",
        "\n",
        "Plot \\[P\\] as a function of time for all experiments in one single\n",
        "graph.\n",
        "\n",
        "Here it is again very useful to use a `for`-loop"
      ],
      "id": "17612449-23a6-466a-aa5f-882cdff15f3b"
    },
    {
      "cell_type": "code",
      "execution_count": 13,
      "metadata": {},
      "outputs": [
        {
          "output_type": "display_data",
          "metadata": {},
          "data": {
            "image/png": "[encoded data removed]"
          }
        }
      ],
      "source": [
        "fig, ax = plt.subplots(figsize=(7, 4))\n",
        "\n",
        "x_axis = df['time_(s)']\n",
        "substrate_concentrations = [1, 3, 5, 7, 9, 11, 13, 15]\n",
        "for s in substrate_concentrations:\n",
        "    conc_col_name = f'C_S{s}'\n",
        "    y_axis = df[conc_col_name]\n",
        "\n",
        "    ax.plot(x_axis, y_axis, label=conc_col_name)\n",
        "\n",
        "ax.legend()    "
      ],
      "id": "c8082977"
    },
    {
      "cell_type": "markdown",
      "metadata": {},
      "source": [
        "#### (d)\n",
        "\n",
        "How could you use Excel to determine $V_0$ for each concentration of\n",
        "$S$? Create a table of $V_0$ vs $[S]$\n",
        "\n",
        "#### (e)\n",
        "\n",
        "Why is it important to use $V_0$ rather than $V$ at a later time point\n",
        "when creating the Michaelis-Menten plot?\n",
        "\n",
        "#### (f)\n",
        "\n",
        "Plot $V_0$ against substrate concentration and estimate $k_{cat}$ and\n",
        "$K_M$ visually (remember units)\n",
        "\n",
        "------------------------------------------------------------------------\n",
        "\n",
        "## Analysis of a data set obeying Michaelis-Menten kinetics (Unfinished)"
      ],
      "id": "6f5de6e4-a816-4a53-8476-d78426e4b24c"
    },
    {
      "cell_type": "code",
      "execution_count": 14,
      "metadata": {},
      "outputs": [],
      "source": [
        "import pandas as pd\n",
        "import numpy as np\n",
        "import matplotlib.pyplot as plt\n",
        "from scipy.optimize import curve_fit\n",
        "pd.set_option('display.max_rows', 6)"
      ],
      "id": "74acea66"
    },
    {
      "cell_type": "markdown",
      "metadata": {},
      "source": [
        "The kinetics for an enzyme were investigated using the absorbance of the\n",
        "product to calculate the initial velocities for a range of different\n",
        "initial concentrations of the substrate. The data given in the dataset\n",
        "`week49_2.xlsx` was obtained. Use these data to answer the following\n",
        "questions."
      ],
      "id": "f2c554d1-3a9a-4471-9b50-8b8e861e3f6f"
    },
    {
      "cell_type": "code",
      "execution_count": 15,
      "metadata": {},
      "outputs": [],
      "source": [
        "from fysisk_biokemi.widgets import DataUploader\n",
        "from IPython.display import display \n",
        "uploader = DataUploader()\n",
        "uploader.display()"
      ],
      "id": "176eaa93"
    },
    {
      "cell_type": "markdown",
      "metadata": {},
      "source": [
        "Run the next cell **after** uploading the file"
      ],
      "id": "b5f4c416-7edc-4a32-a492-6cae8171ca4b"
    },
    {
      "cell_type": "code",
      "execution_count": 16,
      "metadata": {},
      "outputs": [],
      "source": [
        "df = uploader.get_dataframe()\n",
        "display(df)"
      ],
      "id": "cd1399ab"
    },
    {
      "cell_type": "markdown",
      "metadata": {},
      "source": [
        "#### (a) SI Units\n",
        "\n",
        "Convert the concentrations of substrate and the velocities to the SI\n",
        "units $\\text{M}$ and $\\text{M}\\cdot\\text{s}^{-1}$, respectively."
      ],
      "id": "d9aa02b7-6be9-4a9f-a3e2-f180aa3c00a4"
    },
    {
      "cell_type": "code",
      "execution_count": 18,
      "metadata": {
        "exercise": true
      },
      "outputs": [],
      "source": [
        "...\n",
        "...\n",
        "display(df)"
      ],
      "id": "7f814e57"
    },
    {
      "cell_type": "markdown",
      "metadata": {},
      "source": [
        "#### (b) Plot & estimate\n",
        "\n",
        "Plot the initial velocities, $V_0$, as a function of substrate\n",
        "concentrations, $[S]$. Estimate $K_M$ and $V_\\mathrm{max}$ from this\n",
        "plot."
      ],
      "id": "97e33dfe-8e10-4d3e-a48e-23fe572773fb"
    },
    {
      "cell_type": "code",
      "execution_count": 20,
      "metadata": {
        "exercise": true
      },
      "outputs": [],
      "source": [
        "fig, ax = plt.subplots()\n",
        "\n",
        "... # Your code here. \n",
        "\n",
        "# Some settings to make the plot nicer..\n",
        "ax.set_xlabel('[S] (M)')\n",
        "ax.set_ylabel('$V_0$ (M/s)')\n",
        "ax.grid('on')\n",
        "ax.set_ylim(0, df['V0_(M/s)'].max()*1.2)"
      ],
      "id": "ea5156ea"
    },
    {
      "cell_type": "markdown",
      "metadata": {},
      "source": [
        "#### (c) Fit\n",
        "\n",
        "Now we want to fit using the Michaelis-Menten equation, as per usual\n",
        "when the task is fitting we have to define the function we are fitting\n",
        "with"
      ],
      "id": "b47df843-7030-46ad-a58d-7f1aba365730"
    },
    {
      "cell_type": "code",
      "execution_count": 22,
      "metadata": {
        "exercise": true
      },
      "outputs": [],
      "source": [
        "def michaelis_menten(S, Vmax, Km):\n",
        "    return ... # Replace ..."
      ],
      "id": "e4f2337e"
    },
    {
      "cell_type": "markdown",
      "metadata": {},
      "source": [
        "And then we can follow our usual procedure to make the fit"
      ],
      "id": "3f2a9fc7-11f5-4107-8aef-1ce85c89f3f1"
    },
    {
      "cell_type": "code",
      "execution_count": 24,
      "metadata": {
        "exercise": true
      },
      "outputs": [],
      "source": [
        "x_data = ...\n",
        "y_data = ...\n",
        "\n",
        "popt, pcov = ...\n",
        "Vmax, Km = popt\n",
        "\n",
        "print(f\"{Vmax = :03f}\")\n",
        "print(f\"{Km = :03f}\")"
      ],
      "id": "3850d341"
    },
    {
      "cell_type": "markdown",
      "metadata": {},
      "source": [
        "How do these values compare to your estimate?\n",
        "\n",
        "#### (d)\n",
        "\n",
        "The kcat of the enzyme was determined to be $20000 \\ \\text{s}^{-1}$.\n",
        "Calculate the concentration of the enzyme used in the assay."
      ],
      "id": "4fec0621-e276-4ad5-9456-7b40ef113bc2"
    }
  ],
  "nbformat": 4,
  "nbformat_minor": 5,
  "metadata": {
    "kernelspec": {
      "name": "python3",
      "display_name": "Python 3 (ipykernel)",
      "language": "python",
      "path": "/home/runner/work/fysisk-biokemi/fysisk-biokemi/.venv/share/jupyter/kernels/python3"
    },
    "language_info": {
      "name": "python",
      "codemirror_mode": {
        "name": "ipython",
        "version": "3"
      },
      "file_extension": ".py",
      "mimetype": "text/x-python",
      "nbconvert_exporter": "python",
      "pygments_lexer": "ipython3",
      "version": "3.11.13"
    }
  }
}