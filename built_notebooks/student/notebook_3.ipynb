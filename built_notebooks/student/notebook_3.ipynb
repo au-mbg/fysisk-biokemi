{
  "cells": [
    {
      "cell_type": "markdown",
      "metadata": {},
      "source": [
        "# Mere om funktioner"
      ],
      "id": "bf7a25f5-25b5-45f8-ae37-faf98f5c4988"
    },
    {
      "cell_type": "code",
      "execution_count": 2,
      "metadata": {},
      "outputs": [],
      "source": [
        "try:\n",
        "    import fysisk_biokemi\n",
        "    print(\"Already installed\")\n",
        "except ImportError:\n",
        "    %pip install -q \"fysisk_biokemi[colab] @ git+https://github.com/au-mbg/fysisk-biokemi.git\""
      ],
      "id": "0353a3ba"
    },
    {
      "cell_type": "markdown",
      "metadata": {},
      "source": [
        "Vi vil senere i kurset se ligninger som f.eks. den kvadratiske bindings\n",
        "ligning\n",
        "\n",
        "$$\n",
        "\\theta = \\frac{K_D + [P_{tot}] + [L_{tot}]}{2[P_{tot}]} - \\sqrt{\\left(\\frac{K_D + [P_{tot}] + [L_{tot}]}{2[P_{tot}]}\\right)^2 - \\frac{[L_{tot}]}{[P_{tot}]}},\n",
        "$$ som kan bruges til at beskrive titreringsdata, der rapporterer\n",
        "proteinets mætning som funktion af den samlede ligandkoncentration.\n",
        "\n",
        "At regne denne funktion kræver at vi er forsigtige med parenteser!\n",
        "Hvilket vi alle har lært, men eftersom det er meget vigtigt i denne\n",
        "sammenhæng er det værd at genopfriske.\n",
        "\n",
        "### Opgave 1\n",
        "\n",
        "For følgende par af udtryk beregne begge (i hånden eller i hovedet alt\n",
        "efter præference.)\n",
        "\n",
        "-   $2 + 3 \\times 4$ vs. $(2 + 3) \\times 4$\n",
        "-   $10 - 2^2$ vs. $(10 - 2)^2$\n",
        "-   $100 / 10 \\times 2$ vs. $100 / (10 \\times 2)$\n",
        "-   $\\frac{12 + 8}{4}$ vs. $12 + 8 / 4$\n",
        "\n",
        "### Opgave 2\n",
        "\n",
        "For de tre beregninger nedenfor overvej hvad resultat er **inden** du\n",
        "kører cellen."
      ],
      "id": "e75dda7e-37b1-4101-8799-f579b54a925f"
    },
    {
      "cell_type": "code",
      "execution_count": 3,
      "metadata": {
        "exercise": true
      },
      "outputs": [],
      "source": [
        "a = 1 + 2 * 3 ** 2"
      ],
      "id": "e4c556e4"
    },
    {
      "cell_type": "code",
      "execution_count": 4,
      "metadata": {
        "exercise": true
      },
      "outputs": [],
      "source": [
        "b = (1 + 2) * 3 ** 2"
      ],
      "id": "a621eb1e"
    },
    {
      "cell_type": "code",
      "execution_count": 5,
      "metadata": {
        "exercise": true
      },
      "outputs": [],
      "source": [
        "c = 1 + 2 * (3 ** 2)"
      ],
      "id": "ead19fc2"
    },
    {
      "cell_type": "markdown",
      "metadata": {},
      "source": [
        "Cellen herunder printer resultat for hver beregning"
      ],
      "id": "3f71d50a-9b67-4a43-b4ba-6f928a746e4a"
    },
    {
      "cell_type": "code",
      "execution_count": 9,
      "metadata": {},
      "outputs": [],
      "source": [
        "print(f\"{a = }\")\n",
        "print(f\"{b = }\")\n",
        "print(f\"{c = }\")"
      ],
      "id": "d43a7f10"
    },
    {
      "cell_type": "markdown",
      "metadata": {},
      "source": [
        "### Opgave 3\n",
        "\n",
        "Vi vil gerne beregne udtrykket\n",
        "\n",
        "$$\n",
        "\\frac{a + b}{c + d}\n",
        "$$\n",
        "\n",
        "Nogen har implementeret funktionen herunder, men den er forkert - din\n",
        "opgave er at fikse den."
      ],
      "id": "e9597aaa-302f-4e8a-bf1f-57b5b17f34b3"
    },
    {
      "cell_type": "code",
      "execution_count": 10,
      "metadata": {
        "exercise": true
      },
      "outputs": [],
      "source": [
        "def funktion(a, b, c, d):\n",
        "    return a + b / c + d\n",
        "\n",
        "resultat_1 = funktion(152, 16, 2, 2)\n",
        "print(resultat_1)"
      ],
      "id": "fcf544aa"
    },
    {
      "cell_type": "markdown",
      "metadata": {},
      "source": [
        "### Opgave 4\n",
        "\n",
        "Det første led af den kvadratiske bindings ligning er\n",
        "\n",
        "$$\n",
        "\\frac{K_D + [P_{tot}] + [L_{tot}]}{2[P_{tot}]} = \\frac{a + b + c}{2 b}\n",
        "$$\n",
        "\n",
        "Færdiggør funktionen nendenfor så den beregner dette udtryk"
      ],
      "id": "66827a93-2b66-4f28-9b73-a16dccd4b009"
    },
    {
      "cell_type": "code",
      "execution_count": 12,
      "metadata": {
        "exercise": true
      },
      "outputs": [],
      "source": [
        "def første_led(a, b, c):\n",
        "    return ... # Erstat ... med din kode.\n",
        "\n",
        "resultat = første_led(100, 2, 66)\n",
        "print(resultat)"
      ],
      "id": "cc21e88c"
    }
  ],
  "nbformat": 4,
  "nbformat_minor": 5,
  "metadata": {
    "kernelspec": {
      "name": "python3",
      "display_name": "Python 3 (ipykernel)",
      "language": "python",
      "path": "/home/runner/work/fysisk-biokemi/fysisk-biokemi/.venv/share/jupyter/kernels/python3"
    },
    "language_info": {
      "name": "python",
      "codemirror_mode": {
        "name": "ipython",
        "version": "3"
      },
      "file_extension": ".py",
      "mimetype": "text/x-python",
      "nbconvert_exporter": "python",
      "pygments_lexer": "ipython3",
      "version": "3.11.13"
    }
  }
}