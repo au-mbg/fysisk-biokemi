{
  "cells": [
    {
      "cell_type": "markdown",
      "metadata": {},
      "source": [
        "# Week 48"
      ],
      "id": "b9fd8391-ea88-4673-8a38-8477b6f78d2f"
    },
    {
      "cell_type": "code",
      "execution_count": 2,
      "metadata": {},
      "outputs": [],
      "source": [
        "try:\n",
        "    import fysisk_biokemi\n",
        "    print(\"Already installed\")\n",
        "except ImportError:\n",
        "    %pip install -q \"fysisk_biokemi[colab] @ git+https://github.com/au-mbg/fysisk-biokemi.git\""
      ],
      "id": "f7b0127e"
    },
    {
      "cell_type": "code",
      "execution_count": 3,
      "metadata": {},
      "outputs": [],
      "source": [
        "import pandas as pd\n",
        "pd.set_option('display.max_rows', 6)\n",
        "import numpy as np"
      ],
      "id": "99bdc6e3"
    },
    {
      "cell_type": "markdown",
      "metadata": {},
      "source": [
        "------------------------------------------------------------------------\n",
        "\n",
        "## Interpretation of binding data."
      ],
      "id": "ea8368b1-c3ad-4f33-82e9-c99e56f4b5ef"
    },
    {
      "cell_type": "code",
      "execution_count": 4,
      "metadata": {},
      "outputs": [],
      "source": [
        "import numpy as np"
      ],
      "id": "9d1eade2"
    },
    {
      "cell_type": "markdown",
      "metadata": {},
      "source": [
        "The `interpret_week48.xlsx` contains protein binding dataset.\n",
        "\n",
        "#### (a) Load the dataset\n",
        "\n",
        "Load the dataset using the widget below"
      ],
      "id": "ebddb029-58e0-41fd-aabd-56bc8c185c50"
    },
    {
      "cell_type": "code",
      "execution_count": 5,
      "metadata": {},
      "outputs": [],
      "source": [
        "import numpy as np\n",
        "from fysisk_biokemi.widgets import DataUploader\n",
        "from IPython.display import display \n",
        "uploader = DataUploader()\n",
        "uploader.display()"
      ],
      "id": "22ddecb9"
    },
    {
      "cell_type": "markdown",
      "metadata": {},
      "source": [
        "Run the next cell **after** uploading the file"
      ],
      "id": "34661b9e-9dbe-4128-b5ad-7052c6e4db82"
    },
    {
      "cell_type": "code",
      "execution_count": 6,
      "metadata": {},
      "outputs": [],
      "source": [
        "df = uploader.get_dataframe()\n",
        "display(df)"
      ],
      "id": "f4771d50"
    },
    {
      "cell_type": "markdown",
      "metadata": {},
      "source": [
        "#### (b) SI Units\n",
        "\n",
        "Add a new column to the `DataFrame` with the ligand concentration in SI\n",
        "units."
      ],
      "id": "303f2a99-01b0-419b-a988-12d8a51779d2"
    },
    {
      "cell_type": "code",
      "execution_count": 8,
      "metadata": {
        "exercise": true
      },
      "outputs": [],
      "source": [
        "... # Replace ... with your code.\n",
        "display(df)"
      ],
      "id": "156a5caf"
    },
    {
      "cell_type": "markdown",
      "metadata": {},
      "source": [
        "#### (c) Plot the data\n",
        "\n",
        "Make plots of the binding data directly with a linear and logarithmic\n",
        "x-axis.\n",
        "\n",
        "Estimate Kd by visual inspection of these plots!"
      ],
      "id": "7d30c0d5-7ede-458e-93eb-16d575f787e7"
    },
    {
      "cell_type": "code",
      "execution_count": 10,
      "metadata": {
        "exercise": true
      },
      "outputs": [],
      "source": [
        "import matplotlib.pyplot as plt\n",
        "\n",
        "# This makes a figure with two axes.\n",
        "fig, axes = plt.subplots(1, 2, figsize=(9, 4))\n",
        "\n",
        "# Can with [0] to plot in the first axis.\n",
        "ax = axes[0]\n",
        "ax.plot(..., ..., 'o') # Replace ... with your code.\n",
        "ax.set_xlabel('[L](M)', fontsize=14)\n",
        "ax.set_ylabel(r'$\\bar{n}$', fontsize=14)\n",
        "\n",
        "ax = axes[1]\n",
        "... # Put some code here - perhaps you can copy it from somewhere?\n",
        "ax.set_xscale('log')"
      ],
      "id": "a164a9ba"
    },
    {
      "cell_type": "markdown",
      "metadata": {},
      "source": [
        "> **Tip**\n",
        ">\n",
        "> Ths command `ax.set_xscale('log')` tells `matplotlib` that we want the\n",
        "> x-axis to use a log-scale."
      ],
      "id": "c427457d-6128-400b-a46e-52884fcb8283"
    },
    {
      "cell_type": "code",
      "execution_count": 12,
      "metadata": {
        "exercise": true
      },
      "outputs": [],
      "source": [
        "k_d_estimate = ..."
      ],
      "id": "b03bf9d7"
    },
    {
      "cell_type": "markdown",
      "metadata": {},
      "source": [
        "#### (d) Make a fit\n",
        "\n",
        "Make a fit to determine $K_D$, as always we start by implementing the\n",
        "function to fit with"
      ],
      "id": "8000be6e-4c8a-45b2-83b4-194091bb6dfe"
    },
    {
      "cell_type": "code",
      "execution_count": 14,
      "metadata": {
        "exercise": true
      },
      "outputs": [],
      "source": [
        "def ... # Give the function an appropriate name.\n",
        "    return ... # Implement the expression for nbar"
      ],
      "id": "cd7979c8"
    },
    {
      "cell_type": "markdown",
      "metadata": {},
      "source": [
        "And then we can make the fit"
      ],
      "id": "d0497cff-9864-4241-a656-5c2503f1b82b"
    },
    {
      "cell_type": "code",
      "execution_count": 16,
      "metadata": {
        "exercise": true
      },
      "outputs": [],
      "source": [
        "from scipy.optimize import curve_fit\n",
        "\n",
        "# Choose the variables from the dataframe\n",
        "x = ... # Choose x-data from the dataframe\n",
        "y = ... # Choose y-data from the dataframe\n",
        "\n",
        "# Initial guess\n",
        "p0 = [k_d_estimate]\n",
        "\n",
        "# Bounds\n",
        "bounds = (0, np.inf) # We limit the parameters to be positve.\n",
        "\n",
        "# Curve fit\n",
        "popt, pcov = ... # Call the curve_fit function.\n",
        "\n",
        "# Print the parameters\n",
        "k_d_fit = popt[0]\n",
        "print(f\"{k_d_fit = :e}\")"
      ],
      "id": "bb8983ed"
    },
    {
      "cell_type": "markdown",
      "metadata": {},
      "source": [
        "#### Compare\n",
        "\n",
        "Use the figure below to compare your guess with the fitted value.\n",
        "\n",
        "#### Saturation\n",
        "\n",
        "Based on the value of $K_D$ found from the fit,\n",
        "\n",
        "-   At which concentration do you expect 10% saturation?\n",
        "-   At which concentration do you expect 90% saturation?\n",
        "\n",
        "------------------------------------------------------------------------\n",
        "\n",
        "## Determination of type and strength of cooperativity\n",
        "\n",
        "The binding of NAD+ to the protein yeast glyceraldehyde 3-phosphate\n",
        "dehydrogenase (GAPDH) was studied using equilibrium dialysis. The enzyme\n",
        "concentration was 71 μM. The concentration of\n",
        "$[\\text{NAD}^{+}_\\text{free}]$ and the corresponding values of $\\bar{n}$\n",
        "were determined with the resulting data found in the dataset\n",
        "`determination_coop_week48.xlsx`.\n",
        "\n",
        "#### (a) Load the dataset\n",
        "\n",
        "Load the dataset using the widget below"
      ],
      "id": "c6f31b01-6d9f-40b5-8289-f4d3b0fc58b3"
    },
    {
      "cell_type": "code",
      "execution_count": 19,
      "metadata": {},
      "outputs": [],
      "source": [
        "from fysisk_biokemi.widgets import DataUploader\n",
        "from IPython.display import display \n",
        "uploader = DataUploader()\n",
        "uploader.display()"
      ],
      "id": "7c248c4a"
    },
    {
      "cell_type": "markdown",
      "metadata": {},
      "source": [
        "Run the next cell **after** uploading the file"
      ],
      "id": "3272782e-46fb-4aaa-8cbe-e3ba6e114891"
    },
    {
      "cell_type": "code",
      "execution_count": 20,
      "metadata": {},
      "outputs": [],
      "source": [
        "df = uploader.get_dataframe()\n",
        "display(df)"
      ],
      "id": "1a20b7a8"
    },
    {
      "cell_type": "markdown",
      "metadata": {},
      "source": [
        "#### (b) Averaging and units.\n",
        "\n",
        "Start by adding a new column to the `DataFrame` with the average value\n",
        "of $\\bar{n}$ across the three series\n",
        "\n",
        "> **Tip**\n",
        ">\n",
        "> Remember that you can set a new column based on a computation using\n",
        "> one or more other columns, e.g. \n",
        ">\n",
        "> ``` python\n",
        "> df['new_col'] = df['col1'] + df['col2']\n",
        "> ```"
      ],
      "id": "df20dbf3-45a3-4819-b5c3-c79fc4068cfa"
    },
    {
      "cell_type": "code",
      "execution_count": 22,
      "metadata": {
        "exercise": true
      },
      "outputs": [],
      "source": [
        "df['nbar_avg'] = ..."
      ],
      "id": "b731385f"
    },
    {
      "cell_type": "markdown",
      "metadata": {},
      "source": [
        "Now also add a column with the ligand concentration in SI units with the\n",
        "column-name `[NAD+free]_(M)`."
      ],
      "id": "de5ef9dc-6cb9-43ab-9f0d-d0a4936277c5"
    },
    {
      "cell_type": "code",
      "execution_count": 24,
      "metadata": {
        "exercise": true
      },
      "outputs": [],
      "source": [
        "... # Your code here. \n",
        "display(df)"
      ],
      "id": "0f2aadb9"
    },
    {
      "cell_type": "markdown",
      "metadata": {},
      "source": [
        "Finally, set the concentration of the GADPH in SI units"
      ],
      "id": "de22e379-3fa2-4f55-a13b-a756d5e6de2c"
    },
    {
      "cell_type": "code",
      "execution_count": 26,
      "metadata": {},
      "outputs": [],
      "source": [
        " c_gadph = 71 * 10**(-6)"
      ],
      "id": "f7dd1915"
    },
    {
      "cell_type": "markdown",
      "metadata": {},
      "source": [
        "#### (c) Plot\n",
        "\n",
        "Make a plot of the average $\\bar{n}$ as a function of\n",
        "$[\\text{NAD}^{+}_\\text{free}]$."
      ],
      "id": "9407175e-b0a9-4461-91b5-9e83fd85b2fa"
    },
    {
      "cell_type": "code",
      "execution_count": 27,
      "metadata": {
        "exercise": true
      },
      "outputs": [],
      "source": [
        "fig, ax = plt.subplots(figsize=(8, 4))\n",
        "\n",
        "# Your code to plot here.\n",
        "... \n",
        "\n",
        "# This sets the labels.\n",
        "ax.set_xlabel(r'$[\\text{NAD}^{+}_\\text{free}]$', fontsize=14)\n",
        "ax.set_ylabel(r'$\\bar{n}$', fontsize=14)\n",
        "plt.show()"
      ],
      "id": "8acc605d"
    },
    {
      "cell_type": "markdown",
      "metadata": {},
      "source": [
        "#### (d) Scatchard plot\n",
        "\n",
        "Make a Scatchard plot based on the average $\\bar{n}$."
      ],
      "id": "25e36168-18b3-49c2-bf1c-94f9c051d1e1"
    },
    {
      "cell_type": "code",
      "execution_count": 29,
      "metadata": {
        "exercise": true
      },
      "outputs": [],
      "source": [
        "# Calculate nbar / L \n",
        "nbar_over_L = ...\n",
        "\n",
        "fig, ax = plt.subplots(figsize=(6, 4)) \n",
        "\n",
        "ax.plot(..., ... 'o') # Plot the right thins. \n",
        "\n",
        "ax.set_xlabel(r'$\\bar{n}$', fontsize=14)\n",
        "ax.set_ylabel(r'$\\bar{n}/L$', fontsize=14)\n",
        "ax.set_xlim([0, df['nbar_avg'].max()*1.2])\n",
        "ax.set_ylim([0, nbar_over_L.max() * 1.2])"
      ],
      "id": "b077e780"
    },
    {
      "cell_type": "markdown",
      "metadata": {},
      "source": [
        "#### (e) Binding sites\n",
        "\n",
        "How many binding sites does GAPDH contain for $\\text{NAD}^{+}$?\n",
        "\n",
        "#### (f) Cooperativity\n",
        "\n",
        "What type of cooperativity do the plots indicate?\n",
        "\n",
        "#### (g) Fit\n",
        "\n",
        "Make a fit using the functional form\n",
        "\n",
        "$$\n",
        "\\bar{n} = N \\frac{[L]^h}{K_D + [L]^h}\n",
        "$$\n",
        "\n",
        "As usual, start by defining the function in Python"
      ],
      "id": "f13ca125-94fb-44da-a488-f00bba1db65c"
    },
    {
      "cell_type": "code",
      "execution_count": 32,
      "metadata": {
        "exercise": true
      },
      "outputs": [],
      "source": [
        "def n_bar(L, N, k_d, h):\n",
        "    # Replace ... with your code.\n",
        "    # Be careful with parentheses.\n",
        "    result = ...\n",
        "    return result "
      ],
      "id": "0d378e6c"
    },
    {
      "cell_type": "markdown",
      "metadata": {},
      "source": [
        "Now we can fit"
      ],
      "id": "c18729e7-9b5f-4e0b-bff9-6036cc8557eb"
    },
    {
      "cell_type": "code",
      "execution_count": 33,
      "metadata": {
        "exercise": true
      },
      "outputs": [],
      "source": [
        "from scipy.optimize import curve_fit\n",
        "\n",
        "# This selects the '[NAD+free]_(m)'-column three times and stitches it together.\n",
        "x = np.concatenate([df['[NAD+free]_(M)'], df['[NAD+free]_(M)'], df['[NAD+free]_(M)']])\n",
        "# Do the same to stitch together the nbar1, nbar2 and nbar3 columns.\n",
        "y = ...\n",
        "\n",
        "# Initial guess\n",
        "p0 = [..., ..., ...]\n",
        "\n",
        "# Bounds\n",
        "bounds = (0, np.inf) # We limit the parameters to be positve.\n",
        "\n",
        "# Curve fit\n",
        "popt, pcov = curve_fit(n_bar, x, y, p0=p0, bounds=bounds)\n",
        "\n",
        "# Print the parameters\n",
        "N_fit, k_d_fit, h_fit = popt\n",
        "print(f\"{N_fit = :.3f}\")\n",
        "print(f\"{k_d_fit = :e}\")\n",
        "print(f\"{h_fit = :.3f}\")"
      ],
      "id": "39289243"
    },
    {
      "cell_type": "markdown",
      "metadata": {},
      "source": [
        "#### (h) Plot with fit"
      ],
      "id": "de347d6c-a01b-4eca-a2c8-453ac4cd4a3c"
    },
    {
      "cell_type": "code",
      "execution_count": 35,
      "metadata": {
        "exercise": true
      },
      "outputs": [],
      "source": [
        "L = np.linspace(0, df['[NAD+free]_(M)'].max()*1.5)\n",
        "n_bar_fit = n_bar(L, N_fit, k_d_fit, h_fit)\n",
        "\n",
        "fig, ax = plt.subplots(figsize=(8, 4))\n",
        "ax.plot(x, y, 'o', label='Data')\n",
        "ax.plot(L, n_bar_fit, '-', label='Fit')\n",
        "ax.axhline(N_fit, color='C2', label='N from fit')\n",
        "ax.axvline(k_d_fit, color='C3', label=r'$K_D$ from fit')\n",
        "ax.set_xlabel(r'$[\\text{NAD}^{+}_\\text{free}]$', fontsize=14)\n",
        "ax.set_ylabel(r'$\\bar{n}$', fontsize=14)\n",
        "ax.legend()\n",
        "plt.show()"
      ],
      "id": "62cdc7a2"
    },
    {
      "cell_type": "markdown",
      "metadata": {},
      "source": [
        "------------------------------------------------------------------------\n",
        "\n",
        "------------------------------------------------------------------------\n",
        "\n",
        "## Determination of reaction orders.\n",
        "\n",
        "#### (a) Load the dataset\n",
        "\n",
        "Load the dataset using the widget below"
      ],
      "id": "05db2dc9-1099-4c08-a598-f9fa2e1a4658"
    },
    {
      "cell_type": "code",
      "execution_count": 37,
      "metadata": {},
      "outputs": [],
      "source": [
        "from fysisk_biokemi.widgets import DataUploader\n",
        "from IPython.display import display \n",
        "uploader = DataUploader()\n",
        "uploader.display()"
      ],
      "id": "79f16f2e"
    },
    {
      "cell_type": "markdown",
      "metadata": {},
      "source": [
        "Run the next cell **after** uploading the file"
      ],
      "id": "a5ca754c-a7ff-4d28-ae3f-7d706aeddacb"
    },
    {
      "cell_type": "code",
      "execution_count": 38,
      "metadata": {},
      "outputs": [],
      "source": [
        "df = uploader.get_dataframe()\n",
        "display(df)"
      ],
      "id": "fd7763a1"
    },
    {
      "cell_type": "markdown",
      "metadata": {},
      "source": [
        "#### (b) SI units.\n",
        "\n",
        "Add two new columns with the concentrations given in M."
      ],
      "id": "a8732606-25dc-4c75-9aeb-5dbfb92dcb3e"
    },
    {
      "cell_type": "code",
      "execution_count": 40,
      "metadata": {
        "exercise": true
      },
      "outputs": [],
      "source": [
        "# Make the new columns in this cell. \n",
        "\n",
        "\n",
        "display(df)"
      ],
      "id": "8d0c1dc9"
    },
    {
      "cell_type": "markdown",
      "metadata": {},
      "source": [
        "#### (c) Plotting\n",
        "\n",
        "For each reactant make a plot of\n",
        "\n",
        "-   $t$ vs. $[\\text{A}]$\n",
        "\n",
        "> **Note**\n",
        ">\n",
        "> We will be adding more elements to the plot in the following parts of\n",
        "> the exercise, therefore we will wrap the code for plotting in a\n",
        "> function such that it can be easily reused.\n",
        "\n",
        "The cell below defines the function for plotting, add the missing code\n",
        "in places with `...`."
      ],
      "id": "352414a7-f6ff-4d03-bf71-0de3f78975c7"
    },
    {
      "cell_type": "code",
      "execution_count": 42,
      "metadata": {
        "exercise": null
      },
      "outputs": [],
      "source": [
        "def plot_dataframe(ax, df):\n",
        "    # Extract from dataframe\n",
        "    t = df['Time_(s)']\n",
        "    A1 = df['[A1]_(M)']\n",
        "    A2 = df['[A2]_(M)']\n",
        "\n",
        "    ax.plot(t, A1, 'o', label='[A1]')\n",
        "    ... # Your code here to plot A2\n",
        "\n",
        "    for ax in axes:\n",
        "        ax.set_xlabel('t [s]')\n",
        "        ax.legend()"
      ],
      "id": "e1dd7c52"
    },
    {
      "cell_type": "markdown",
      "metadata": {},
      "source": [
        "Once we’ve written the plotting function we can make the plot as done in\n",
        "the cell below."
      ],
      "id": "10e04296-34f0-470a-a497-41833a1247c8"
    },
    {
      "cell_type": "code",
      "execution_count": 44,
      "metadata": {
        "exercise": true
      },
      "outputs": [],
      "source": [
        "fig, ax = plt.subplots(1, 1, figsize=(6, 4))\n",
        "\n",
        "plot_dataframe(ax, df)"
      ],
      "id": "f0029f80"
    },
    {
      "cell_type": "markdown",
      "metadata": {},
      "source": [
        "#### (d) Determining reaction orders\n",
        "\n",
        "Now we want to determine the reaction orders by making fits to the data\n",
        "under the assumption of different integrated rate laws.\n",
        "\n",
        "In the cell below finish the code to define functions for the integrated\n",
        "rate laws of zeroth, first and second order."
      ],
      "id": "727bed5d-55a9-4e92-81eb-f80055998374"
    },
    {
      "cell_type": "code",
      "execution_count": 46,
      "metadata": {
        "exercise": true
      },
      "outputs": [],
      "source": [
        "def zeroth_order(t, k, A0):\n",
        "    result = ...\n",
        "    return result\n",
        "\n",
        "def first_order(t, k, A0):\n",
        "    result = ...\n",
        "    return result\n",
        "\n",
        "def second_order(t, k, A0):\n",
        "    result = ...\n",
        "    return result\n",
        "\n",
        "rate_laws = {0: zeroth_order, 1: first_order, 2:second_order}"
      ],
      "id": "80c10095"
    },
    {
      "cell_type": "markdown",
      "metadata": {},
      "source": [
        "We can then use these to make fits, here it is helpful to define a small\n",
        "function to help us with that."
      ],
      "id": "a61ede18-427d-4873-bd2d-dcefb4b4e5c4"
    },
    {
      "cell_type": "code",
      "execution_count": 48,
      "metadata": {},
      "outputs": [],
      "source": [
        "from scipy.optimize import curve_fit\n",
        "\n",
        "def make_fit(x_data, y_data, x_eval, A0, order):\n",
        "    func = lambda t, k: rate_laws[order](t, k, A0)\n",
        "    popt, pcov = curve_fit(func, x_data, y_data)\n",
        "\n",
        "    # Evaluate fit\n",
        "    k = popt[0]\n",
        "    y_fit = func(x_eval, k)\n",
        "    return k, y_fit"
      ],
      "id": "52c9cbca"
    },
    {
      "cell_type": "markdown",
      "metadata": {},
      "source": [
        "Next we will define the known constants and extract a few things from\n",
        "the `DataFrame`. In the cell below put the initial concentrations in M."
      ],
      "id": "76eb0bb0-1694-4e23-8365-bfeff8efc316"
    },
    {
      "cell_type": "code",
      "execution_count": 49,
      "metadata": {
        "exercise": true
      },
      "outputs": [],
      "source": [
        "A1_0 = ... # Set the initial concentration [A1]_0\n",
        "A2_0 = ... # Set the initial concentration [A2]_0\n",
        "\n",
        "# Extract data\n",
        "t = df['Time_(s)']\n",
        "A1 = df['[A1]_(M)']\n",
        "A2 = df['[A2]_(M)']\n",
        "orders = [0, 1, 2]\n",
        "t_eval = np.linspace(0, t.max()*1.1)"
      ],
      "id": "7e50c3bf"
    },
    {
      "cell_type": "markdown",
      "metadata": {},
      "source": [
        "Now we can make and plot the fits\n",
        "\n",
        "Based on this plot;\n",
        "\n",
        "-   What do you believe is the reaction order for \\[A1\\]?\n",
        "-   What is the unit of the rate constant for \\[A1\\]?\n",
        "-   What do you believe is the reaction order for \\[A2\\]?\n",
        "-   What is the unit of the rate constant for \\[A2\\]?\n",
        "\n",
        "#### (e) Residuals\n",
        "\n",
        "By inspecting the plot we can make a qualitative judgement of the\n",
        "reaction orders. To get a more quantitative results we can look at the\n",
        "residuals, recall they are defined as\n",
        "\n",
        "$$\n",
        "r_i = y_i - f(x_i | \\theta)\n",
        "$$\n",
        "\n",
        "We can calculate these in much the same way we calculate the fits,\n",
        "except we don’t evaluate the fit at a new set of points but at the\n",
        "observations $x_i$.\n",
        "\n",
        "We can then plot the residuals, here using a histogram where the x-axis\n",
        "is the value of the residual and the bars indicate the number of\n",
        "residuals within that range of values."
      ],
      "id": "8e7581c0-75f7-447e-8844-fe441b93d2c6"
    },
    {
      "cell_type": "code",
      "execution_count": 53,
      "metadata": {
        "exercise": true
      },
      "outputs": [],
      "source": [
        "fig, axes = plt.subplots(2, 3, figsize=(8, 4), sharey=True, layout='constrained', sharex=True)\n",
        "\n",
        "axes[0, 0].set_ylabel('Count')\n",
        "axes[1, 0].set_ylabel('Count')\n",
        "\n",
        "for ax_col, order in zip(axes.T, orders):\n",
        "\n",
        "    residuals = calculate_residuals(t, A1, A1_0, order)\n",
        "    ax_col[0].hist(residuals, alpha=0.75, color='C0')\n",
        "\n",
        "    residuals = calculate_residuals(t, A2, A2_0, order)\n",
        "    ax_col[1].hist(residuals, alpha=0.75, color='C1')\n",
        "\n",
        "    ax_col[1].set_xlabel('Residual')"
      ],
      "id": "2623b9b8"
    },
    {
      "cell_type": "markdown",
      "metadata": {},
      "source": [
        "Does this support your conclusions about the reaction order from (d)?\n",
        "\n",
        "------------------------------------------------------------------------\n",
        "\n",
        "## Analysis of a reversible reaction\n",
        "\n",
        "Consider the following reaction\n",
        "\n",
        "$$\n",
        "A \\underset{k_{2}}{\\stackrel{k_1}{\\rightleftharpoons}} B\n",
        "$$\n",
        "\n",
        "The magnitudes of the rate constants are $k_1 = 10 \\ \\mathrm{s}^{-1}$\n",
        "and $k_2 = 1 \\ \\mathrm{s}^{-1}$.\n",
        "\n",
        "#### (a) Reaction order\n",
        "\n",
        "What is the reaction order in each direction?\n",
        "\n",
        "#### (b) Derive equilibrium constant\n",
        "\n",
        "Show mathematically how the equilibrium constant $K_{\\mathrm{eq}}$ is\n",
        "given by the ratio between the two rate constants.\n",
        "\n",
        "#### (c) Calculate $K_{\\mathrm{eq}}$"
      ],
      "id": "8d83dd30-d8cb-417f-a318-a17e2cca9ff4"
    },
    {
      "cell_type": "code",
      "execution_count": 55,
      "metadata": {
        "exercise": true
      },
      "outputs": [],
      "source": [
        "k1 = ...\n",
        "k2 = ...\n",
        "K_eq = ...\n",
        "print(f\"{K_eq = }\")"
      ],
      "id": "f563d207"
    },
    {
      "cell_type": "markdown",
      "metadata": {},
      "source": [
        "#### (d) Equilibrium concentrations\n",
        "\n",
        "Calculate the concentrations of A and B at equilibrium,\n",
        "$[\\mathrm{A}]_{\\mathrm{eq}}$ and $[\\mathrm{B}]_\\mathrm{eq}$, if\n",
        "$[\\mathrm{A}]_0 = 10^{-3} \\text{M}$"
      ],
      "id": "8cd6b392-03a9-4e74-aef2-caca7a97f902"
    },
    {
      "cell_type": "code",
      "execution_count": 57,
      "metadata": {
        "exercise": true
      },
      "outputs": [],
      "source": [
        "A0 = ...\n",
        "A_eq = ...\n",
        "B_eq = ...\n",
        "print(f\"{A_eq = }\")\n",
        "print(f\"{B_eq = }\")"
      ],
      "id": "3b756ba5"
    },
    {
      "cell_type": "markdown",
      "metadata": {},
      "source": [
        "#### (e) Rates at equilibrium\n",
        "\n",
        "Calculate the forward and reverse rates at equilibrium at this\n",
        "concentration."
      ],
      "id": "467d36cc-aa4a-429d-b466-6b45d9d7f02f"
    },
    {
      "cell_type": "code",
      "execution_count": 59,
      "metadata": {
        "exercise": true
      },
      "outputs": [],
      "source": [
        "r_fwd = A_eq * k1\n",
        "r_bwd = B_eq * k2\n",
        "print(f\"{r_fwd = :.5f}\")\n",
        "print(f\"{r_bwd = :.5f}\")"
      ],
      "id": "1c88936a"
    },
    {
      "cell_type": "markdown",
      "metadata": {},
      "source": [
        "#### (f) Initial rate of formation\n",
        "\n",
        "If $[\\mathrm{A}]_0 = 10^{-3} \\text{M}$ and\n",
        "$[\\mathrm{B}]_0 = 0 \\text{M}$, calculate the initial rate of formation\n",
        "of B."
      ],
      "id": "b86746c5-e75d-4eae-a1e1-347f3421527f"
    },
    {
      "cell_type": "code",
      "execution_count": 61,
      "metadata": {
        "exercise": true
      },
      "outputs": [
        {
          "output_type": "stream",
          "name": "stdout",
          "text": [
            "r_fwd = 0.01000"
          ]
        }
      ],
      "source": [
        "r_fwd = A0 * k1\n",
        "print(f\"{r_fwd = :.5f}\")"
      ],
      "id": "851d613e"
    },
    {
      "cell_type": "markdown",
      "metadata": {},
      "source": [
        "#### (g) Time-dependence\n",
        "\n",
        "![](https://raw.githubusercontent.com/au-mbg/fysisk-biokemi/refs/heads/main/lessons/figures/week_48/reversible_reaction.png)\n",
        "\n",
        "We now want to calculate and plot the time-dependent concentrations\n",
        "using the above equations.\n",
        "\n",
        "In the cell below finish the implementation of the function `A_time`\n",
        "that calculates the concentration \\[A\\] as a function of time."
      ],
      "id": "f09a59eb-eecd-4a26-a188-780f8626a861"
    },
    {
      "cell_type": "code",
      "execution_count": 63,
      "metadata": {
        "exercise": true
      },
      "outputs": [],
      "source": [
        "def A_time(t, A0, k_f, k_b):\n",
        "    return ..."
      ],
      "id": "2ba6cad6"
    },
    {
      "cell_type": "markdown",
      "metadata": {},
      "source": [
        "And then we can use that function to calculate and plot the\n",
        "concentrations as a function of time."
      ],
      "id": "1e2d57be-fbd2-4f33-bc21-fcc31300d863"
    },
    {
      "cell_type": "code",
      "execution_count": 65,
      "metadata": {
        "exercise": true
      },
      "outputs": [],
      "source": [
        "fig, ax = plt.subplots()\n",
        "\n",
        "t_max = ... # Set the time in seconds\n",
        "t = np.linspace(0, t_max, 100)\n",
        "\n",
        "At = ... # Use your function to calculate [A](t)\n",
        "Bt = ... # Calculate [B](t)\n",
        "\n",
        "ax.plot(t, At, label='[A](t)')\n",
        "ax.plot(t, Bt, label='[B](t)')\n",
        "ax.set_ylabel('Concentrations (M)')\n",
        "ax.set_xlabel('Time (s)')\n",
        "ax.legend()"
      ],
      "id": "14f83117"
    }
  ],
  "nbformat": 4,
  "nbformat_minor": 5,
  "metadata": {
    "kernelspec": {
      "name": "python3",
      "display_name": "Python 3 (ipykernel)",
      "language": "python",
      "path": "/home/runner/work/fysisk-biokemi/fysisk-biokemi/.venv/share/jupyter/kernels/python3"
    },
    "language_info": {
      "name": "python",
      "codemirror_mode": {
        "name": "ipython",
        "version": "3"
      },
      "file_extension": ".py",
      "mimetype": "text/x-python",
      "nbconvert_exporter": "python",
      "pygments_lexer": "ipython3",
      "version": "3.11.13"
    }
  }
}