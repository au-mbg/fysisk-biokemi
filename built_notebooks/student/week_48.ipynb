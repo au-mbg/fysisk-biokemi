{
  "cells": [
    {
      "cell_type": "markdown",
      "metadata": {},
      "source": [
        "# Week 48"
      ],
      "id": "9254a0c5-88ae-4b9c-a93e-a8638560270c"
    },
    {
      "cell_type": "code",
      "execution_count": 2,
      "metadata": {},
      "outputs": [],
      "source": [
        "try:\n",
        "    import fysisk_biokemi\n",
        "    print(\"Already installed\")\n",
        "except ImportError:\n",
        "    %pip install -q \"fysisk_biokemi[colab] @ git+https://github.com/au-mbg/fysisk-biokemi.git\""
      ],
      "id": "dffbf3de"
    },
    {
      "cell_type": "code",
      "execution_count": 3,
      "metadata": {},
      "outputs": [],
      "source": [
        "import pandas as pd\n",
        "pd.set_option('display.max_rows', 6)\n",
        "import numpy as np"
      ],
      "id": "15ac08bc"
    },
    {
      "cell_type": "markdown",
      "metadata": {},
      "source": [
        "## Interpretation of binding data.\n",
        "\n",
        "The `interpret_week48.xlsx` contains protein binding dataset.\n",
        "\n",
        "#### (a) Load the dataset\n",
        "\n",
        "Load the dataset using the widget below"
      ],
      "id": "d1fe40d0-b9c0-4957-bd8c-5ff557448de8"
    },
    {
      "cell_type": "code",
      "execution_count": 4,
      "metadata": {},
      "outputs": [],
      "source": [
        "from fysisk_biokemi.widgets import DataUploader\n",
        "from IPython.display import display \n",
        "uploader = DataUploader()\n",
        "uploader.display()"
      ],
      "id": "9403592e"
    },
    {
      "cell_type": "markdown",
      "metadata": {},
      "source": [
        "Run the next cell **after** uploading the file"
      ],
      "id": "a1b40d3e-a8a3-4585-9eaf-61056a5bf1bd"
    },
    {
      "cell_type": "code",
      "execution_count": 5,
      "metadata": {},
      "outputs": [],
      "source": [
        "df = uploader.get_dataframe()\n",
        "display(df)"
      ],
      "id": "2b483e4a"
    },
    {
      "cell_type": "markdown",
      "metadata": {},
      "source": [
        "#### (b) SI Units\n",
        "\n",
        "Add a new column to the `DataFrame` with the ligand concentration in SI\n",
        "units."
      ],
      "id": "c779affe-7a44-4c10-bcb0-9b5635bd2e01"
    },
    {
      "cell_type": "code",
      "execution_count": 7,
      "metadata": {
        "exercise": true
      },
      "outputs": [],
      "source": [
        "... # Replace ... with your code.\n",
        "display(df)"
      ],
      "id": "c3601d9f"
    },
    {
      "cell_type": "markdown",
      "metadata": {},
      "source": [
        "#### (c) Plot the data\n",
        "\n",
        "Make plots of the binding data directly with a linear and logarithmic\n",
        "x-axis.\n",
        "\n",
        "Estimate Kd by visual inspection of these plots!"
      ],
      "id": "d1ae8e81-088c-49a4-a570-88626ccfffa3"
    },
    {
      "cell_type": "code",
      "execution_count": 9,
      "metadata": {
        "exercise": true
      },
      "outputs": [],
      "source": [
        "import matplotlib.pyplot as plt\n",
        "\n",
        "# This makes a figure with two axes.\n",
        "fig, axes = plt.subplots(1, 2, figsize=(9, 4))\n",
        "\n",
        "# Can with [0] to plot in the first axis.\n",
        "ax = axes[0]\n",
        "ax.plot(..., ..., 'o') # Replace ... with your code.\n",
        "ax.set_xlabel('[L](M)', fontsize=14)\n",
        "ax.set_ylabel(r'$\\bar{n}$', fontsize=14)\n",
        "\n",
        "ax = axes[1]\n",
        "... # Put some code here - perhaps you can copy it from somewhere?\n",
        "ax.set_xscale('log')"
      ],
      "id": "30b06ed7"
    },
    {
      "cell_type": "markdown",
      "metadata": {},
      "source": [
        "> **Tip**\n",
        ">\n",
        "> Ths command `ax.set_xscale('log')` tells `matplotlib` that we want the\n",
        "> x-axis to use a log-scale."
      ],
      "id": "22f2c176-1b40-4b0f-8efb-43c61bab9508"
    },
    {
      "cell_type": "code",
      "execution_count": 11,
      "metadata": {
        "exercise": true
      },
      "outputs": [],
      "source": [
        "k_d_estimate = ..."
      ],
      "id": "7cf2616d"
    },
    {
      "cell_type": "markdown",
      "metadata": {},
      "source": [
        "#### (d) Make a fit\n",
        "\n",
        "Make a fit to determine $K_D$, as always we start by implementing the\n",
        "function to fit with"
      ],
      "id": "54019699-efb8-45bd-bb35-89d5383097b8"
    },
    {
      "cell_type": "code",
      "execution_count": 13,
      "metadata": {
        "exercise": true
      },
      "outputs": [],
      "source": [
        "def ... # Give the function an appropriate name.\n",
        "    return ... # Implement the expression for nbar"
      ],
      "id": "298ba999"
    },
    {
      "cell_type": "markdown",
      "metadata": {},
      "source": [
        "And then we can make the fit"
      ],
      "id": "dc866623-fcd1-4849-87a9-f4c1d860dfe8"
    },
    {
      "cell_type": "code",
      "execution_count": 15,
      "metadata": {
        "exercise": true
      },
      "outputs": [],
      "source": [
        "from scipy.optimize import curve_fit\n",
        "\n",
        "# Choose the variables from the dataframe\n",
        "x = ... # Choose x-data from the dataframe\n",
        "y = ... # Choose y-data from the dataframe\n",
        "\n",
        "# Initial guess\n",
        "p0 = [k_d_estimate]\n",
        "\n",
        "# Bounds\n",
        "bounds = (0, np.inf) # We limit the parameters to be positve.\n",
        "\n",
        "# Curve fit\n",
        "popt, pcov = ... # Call the curve_fit function.\n",
        "\n",
        "# Print the parameters\n",
        "k_d_fit = popt[0]\n",
        "print(f\"{k_d_fit = :e}\")"
      ],
      "id": "492331a6"
    },
    {
      "cell_type": "markdown",
      "metadata": {},
      "source": [
        "#### Compare\n",
        "\n",
        "Use the figure below to compare your guess with the fitted value.\n",
        "\n",
        "#### Saturation\n",
        "\n",
        "Based on the value of $K_D$ found from the fit,\n",
        "\n",
        "-   At which concentration do you expect 10% saturation?\n",
        "-   At which concentration do you expect 90% saturation?\n",
        "\n",
        "------------------------------------------------------------------------\n",
        "\n",
        "## Determination of type and strength of cooperativity\n",
        "\n",
        "The binding of NAD+ to the protein yeast glyceraldehyde 3-phosphate\n",
        "dehydrogenase (GAPDH) was studied using equilibrium dialysis. The enzyme\n",
        "concentration was 71 μM. The concentration of\n",
        "$[\\text{NAD}^{+}_\\text{free}]$ and the corresponding values of $\\bar{n}$\n",
        "were determined with the resulting data found in the dataset\n",
        "`determination_coop_week48.xlsx`.\n",
        "\n",
        "#### (a) Load the dataset\n",
        "\n",
        "Load the dataset using the widget below"
      ],
      "id": "061e6701-159a-4751-9da7-846064a2b57b"
    },
    {
      "cell_type": "code",
      "execution_count": 18,
      "metadata": {},
      "outputs": [],
      "source": [
        "from fysisk_biokemi.widgets import DataUploader\n",
        "from IPython.display import display \n",
        "uploader = DataUploader()\n",
        "uploader.display()"
      ],
      "id": "42c39237"
    },
    {
      "cell_type": "markdown",
      "metadata": {},
      "source": [
        "Run the next cell **after** uploading the file"
      ],
      "id": "ac6a1970-6313-45fb-8cd1-fcc5939048d1"
    },
    {
      "cell_type": "code",
      "execution_count": 19,
      "metadata": {},
      "outputs": [],
      "source": [
        "df = uploader.get_dataframe()\n",
        "display(df)"
      ],
      "id": "3e1b1280"
    },
    {
      "cell_type": "markdown",
      "metadata": {},
      "source": [
        "#### (b) Averaging and units.\n",
        "\n",
        "Start by adding a new column to the `DataFrame` with the average value\n",
        "of $\\bar{n}$ across the three series\n",
        "\n",
        "> **Tip**\n",
        ">\n",
        "> Remember that you can set a new column based on a computation using\n",
        "> one or more other columns, e.g. \n",
        ">\n",
        "> ``` python\n",
        "> df['new_col'] = df['col1'] + df['col2']\n",
        "> ```"
      ],
      "id": "139b84c2-7a37-48e8-98fc-2afb4f9caa22"
    },
    {
      "cell_type": "code",
      "execution_count": 21,
      "metadata": {
        "exercise": true
      },
      "outputs": [],
      "source": [
        "df['nbar_avg'] = ..."
      ],
      "id": "8c26385b"
    },
    {
      "cell_type": "markdown",
      "metadata": {},
      "source": [
        "Now also add a column with the ligand concentration in SI units with the\n",
        "column-name `[NAD+free]_(M)`."
      ],
      "id": "44d7c833-82f6-429b-af9f-274fd85c9d83"
    },
    {
      "cell_type": "code",
      "execution_count": 23,
      "metadata": {
        "exercise": true
      },
      "outputs": [],
      "source": [
        "... # Your code here. \n",
        "display(df)"
      ],
      "id": "9f581602"
    },
    {
      "cell_type": "markdown",
      "metadata": {},
      "source": [
        "Finally, set the concentration of the GADPH in SI units"
      ],
      "id": "32ed2dfe-3798-4a1a-b67c-610bd1e988fd"
    },
    {
      "cell_type": "code",
      "execution_count": 25,
      "metadata": {},
      "outputs": [],
      "source": [
        " c_gadph = 71 * 10**(-6)"
      ],
      "id": "f978e7bd"
    },
    {
      "cell_type": "markdown",
      "metadata": {},
      "source": [
        "#### (c) Plot\n",
        "\n",
        "Make a plot of the average $\\bar{n}$ as a function of\n",
        "$[\\text{NAD}^{+}_\\text{free}]$."
      ],
      "id": "323b1cd0-d20f-4880-a17f-b598dd9569a4"
    },
    {
      "cell_type": "code",
      "execution_count": 26,
      "metadata": {
        "exercise": true
      },
      "outputs": [],
      "source": [
        "fig, ax = plt.subplots(figsize=(8, 4))\n",
        "\n",
        "# Your code to plot here.\n",
        "... \n",
        "\n",
        "# This sets the labels.\n",
        "ax.set_xlabel(r'$[\\text{NAD}^{+}_\\text{free}]$', fontsize=14)\n",
        "ax.set_ylabel(r'$\\bar{n}$', fontsize=14)\n",
        "plt.show()"
      ],
      "id": "c9b31d50"
    },
    {
      "cell_type": "markdown",
      "metadata": {},
      "source": [
        "#### (d) Scatchard plot\n",
        "\n",
        "Make a Scatchard plot based on the average $\\bar{n}$."
      ],
      "id": "597abb73-5c1d-4769-8987-e1266a4d313e"
    },
    {
      "cell_type": "code",
      "execution_count": 28,
      "metadata": {
        "exercise": true
      },
      "outputs": [],
      "source": [
        "# Calculate nbar / L \n",
        "nbar_over_L = ...\n",
        "\n",
        "fig, ax = plt.subplots(figsize=(6, 4)) \n",
        "\n",
        "ax.plot(..., ... 'o') # Plot the right thins. \n",
        "\n",
        "ax.set_xlabel(r'$\\bar{n}$', fontsize=14)\n",
        "ax.set_ylabel(r'$\\bar{n}/L$', fontsize=14)\n",
        "ax.set_xlim([0, df['nbar_avg'].max()*1.2])\n",
        "ax.set_ylim([0, nbar_over_L.max() * 1.2])"
      ],
      "id": "36f4537c"
    },
    {
      "cell_type": "markdown",
      "metadata": {},
      "source": [
        "#### (e) Binding sites\n",
        "\n",
        "How many binding sites does GAPDH contain for $\\text{NAD}^{+}$?\n",
        "\n",
        "#### (f) Cooperativity\n",
        "\n",
        "What type of cooperativity do the plots indicate?\n",
        "\n",
        "#### (g) Fit\n",
        "\n",
        "Make a fit using the functional form\n",
        "\n",
        "$$\n",
        "\\bar{n} = N \\frac{[L]^h}{K_D + [L]^h}\n",
        "$$\n",
        "\n",
        "As usual, start by defining the function in Python"
      ],
      "id": "ec881436-f72d-444e-9386-510d831eea8f"
    },
    {
      "cell_type": "code",
      "execution_count": 31,
      "metadata": {
        "exercise": true
      },
      "outputs": [],
      "source": [
        "def n_bar(L, N, k_d, h):\n",
        "    # Replace ... with your code.\n",
        "    # Be careful with parentheses.\n",
        "    result = ...\n",
        "    return result "
      ],
      "id": "5a568114"
    },
    {
      "cell_type": "markdown",
      "metadata": {},
      "source": [
        "Now we can fit"
      ],
      "id": "2c9dbfd5-cf88-4480-be8c-ec15307c6652"
    },
    {
      "cell_type": "code",
      "execution_count": 32,
      "metadata": {
        "exercise": true
      },
      "outputs": [],
      "source": [
        "from scipy.optimize import curve_fit\n",
        "\n",
        "# This selects the '[NAD+free]_(m)'-column three times and stitches it together.\n",
        "x = np.concatenate([df['[NAD+free]_(M)'], df['[NAD+free]_(M)'], df['[NAD+free]_(M)']])\n",
        "# Do the same to stitch together the nbar1, nbar2 and nbar3 columns.\n",
        "y = ...\n",
        "\n",
        "# Initial guess\n",
        "p0 = [..., ..., ...]\n",
        "\n",
        "# Bounds\n",
        "bounds = (0, np.inf) # We limit the parameters to be positve.\n",
        "\n",
        "# Curve fit\n",
        "popt, pcov = curve_fit(n_bar, x, y, p0=p0, bounds=bounds)\n",
        "\n",
        "# Print the parameters\n",
        "N_fit, k_d_fit, h_fit = popt\n",
        "print(f\"{N_fit = :.3f}\")\n",
        "print(f\"{k_d_fit = :e}\")\n",
        "print(f\"{h_fit = :.3f}\")"
      ],
      "id": "d9463081"
    },
    {
      "cell_type": "markdown",
      "metadata": {},
      "source": [
        "#### (h) Plot with fit"
      ],
      "id": "fff2ad2e-e135-49bb-9732-06cec04c7f29"
    },
    {
      "cell_type": "code",
      "execution_count": 34,
      "metadata": {
        "exercise": true
      },
      "outputs": [],
      "source": [
        "L = np.linspace(0, df['[NAD+free]_(M)'].max()*1.5)\n",
        "n_bar_fit = n_bar(L, N_fit, k_d_fit, h_fit)\n",
        "\n",
        "fig, ax = plt.subplots(figsize=(8, 4))\n",
        "ax.plot(x, y, 'o', label='Data')\n",
        "ax.plot(L, n_bar_fit, '-', label='Fit')\n",
        "ax.axhline(N_fit, color='C2', label='N from fit')\n",
        "ax.axvline(k_d_fit, color='C3', label=r'$K_D$ from fit')\n",
        "ax.set_xlabel(r'$[\\text{NAD}^{+}_\\text{free}]$', fontsize=14)\n",
        "ax.set_ylabel(r'$\\bar{n}$', fontsize=14)\n",
        "ax.legend()\n",
        "plt.show()"
      ],
      "id": "2fa8b195"
    },
    {
      "cell_type": "markdown",
      "metadata": {},
      "source": [
        "------------------------------------------------------------------------\n",
        "\n",
        "## Determination of reaction orders.\n",
        "\n",
        "#### (a) Load the dataset\n",
        "\n",
        "Load the dataset using the widget below"
      ],
      "id": "ad7bd3f1-4215-46da-9b7b-4cf817976e17"
    },
    {
      "cell_type": "code",
      "execution_count": 36,
      "metadata": {},
      "outputs": [],
      "source": [
        "from fysisk_biokemi.widgets import DataUploader\n",
        "from IPython.display import display \n",
        "uploader = DataUploader()\n",
        "uploader.display()"
      ],
      "id": "1fc34e7c"
    },
    {
      "cell_type": "markdown",
      "metadata": {},
      "source": [
        "Run the next cell **after** uploading the file"
      ],
      "id": "63dab931-dc13-452f-ab29-6a6033b875bb"
    },
    {
      "cell_type": "code",
      "execution_count": 37,
      "metadata": {},
      "outputs": [],
      "source": [
        "df = uploader.get_dataframe()\n",
        "display(df)"
      ],
      "id": "3c027708"
    },
    {
      "cell_type": "markdown",
      "metadata": {},
      "source": [
        "#### (b) SI units.\n",
        "\n",
        "Add two new columns with the concentrations given in M."
      ],
      "id": "2ccb0301-0879-439b-9d1a-48fd9931ff38"
    },
    {
      "cell_type": "code",
      "execution_count": 39,
      "metadata": {
        "exercise": true
      },
      "outputs": [],
      "source": [
        "# Make the new columns in this cell. \n",
        "\n",
        "\n",
        "display(df)"
      ],
      "id": "34f5ffe5"
    },
    {
      "cell_type": "markdown",
      "metadata": {},
      "source": [
        "#### (c) Plotting\n",
        "\n",
        "For each reactant make a plot of\n",
        "\n",
        "-   $t$ vs. $[\\text{A}]$\n",
        "\n",
        "> **Note**\n",
        ">\n",
        "> We will be adding more elements to the plot in the following parts of\n",
        "> the exercise, therefore we will wrap the code for plotting in a\n",
        "> function such that it can be easily reused.\n",
        "\n",
        "The cell below defines the function for plotting, add the missing code\n",
        "in places with `...`."
      ],
      "id": "d633daf5-7172-4243-9d3e-d558308d9d3b"
    },
    {
      "cell_type": "code",
      "execution_count": 41,
      "metadata": {
        "exercise": null
      },
      "outputs": [],
      "source": [
        "def plot_dataframe(ax, df):\n",
        "    # Extract from dataframe\n",
        "    t = df['Time_(s)']\n",
        "    A1 = df['[A1]_(M)']\n",
        "    A2 = df['[A2]_(M)']\n",
        "\n",
        "    ax.plot(t, A1, 'o', label='[A1]')\n",
        "    ... # Your code here to plot A2\n",
        "\n",
        "    for ax in axes:\n",
        "        ax.set_xlabel('t [s]')\n",
        "        ax.legend()"
      ],
      "id": "fe59783a"
    },
    {
      "cell_type": "markdown",
      "metadata": {},
      "source": [
        "Once we’ve written the plotting function we can make the plot as done in\n",
        "the cell below."
      ],
      "id": "d1fadb0c-5f8c-4772-a338-c2521d046c85"
    },
    {
      "cell_type": "code",
      "execution_count": 43,
      "metadata": {
        "exercise": true
      },
      "outputs": [],
      "source": [
        "fig, ax = plt.subplots(1, 1, figsize=(6, 4))\n",
        "\n",
        "plot_dataframe(ax, df)"
      ],
      "id": "a7b09ee3"
    },
    {
      "cell_type": "markdown",
      "metadata": {},
      "source": [
        "#### (d) Determining reaction orders\n",
        "\n",
        "Now we want to determine the reaction orders by making fits to the data\n",
        "under the assumption of different integrated rate laws.\n",
        "\n",
        "In the cell below finish the code to define functions for the integrated\n",
        "rate laws of zeroth, first and second order."
      ],
      "id": "7f31f52e-4ab5-4d07-a615-7ceaa8a3093d"
    },
    {
      "cell_type": "code",
      "execution_count": 45,
      "metadata": {
        "exercise": true
      },
      "outputs": [],
      "source": [
        "def zeroth_order(t, k, A0):\n",
        "    result = ...\n",
        "    return result\n",
        "\n",
        "def first_order(t, k, A0):\n",
        "    result = ...\n",
        "    return result\n",
        "\n",
        "def second_order(t, k, A0):\n",
        "    result = ...\n",
        "    return result\n",
        "\n",
        "rate_laws = {0: zeroth_order, 1: first_order, 2:second_order}"
      ],
      "id": "e333ac8a"
    },
    {
      "cell_type": "markdown",
      "metadata": {},
      "source": [
        "We can then use these to make fits, here it is helpful to define a small\n",
        "function to help us with that."
      ],
      "id": "e97c659b-4eae-4c74-991f-b40d7acf7fc5"
    },
    {
      "cell_type": "code",
      "execution_count": 47,
      "metadata": {},
      "outputs": [],
      "source": [
        "from scipy.optimize import curve_fit\n",
        "\n",
        "def make_fit(x_data, y_data, x_eval, A0, order):\n",
        "    func = lambda t, k: rate_laws[order](t, k, A0)\n",
        "    popt, pcov = curve_fit(func, x_data, y_data)\n",
        "\n",
        "    # Evaluate fit\n",
        "    k = popt[0]\n",
        "    y_fit = func(x_eval, k)\n",
        "    return k, y_fit"
      ],
      "id": "65297151"
    },
    {
      "cell_type": "markdown",
      "metadata": {},
      "source": [
        "Next we will define the known constants and extract a few things from\n",
        "the `DataFrame`. In the cell below put the initial concentrations in M."
      ],
      "id": "11bae800-8a8a-416a-95f1-662b4e25993c"
    },
    {
      "cell_type": "code",
      "execution_count": 48,
      "metadata": {
        "exercise": true
      },
      "outputs": [],
      "source": [
        "A1_0 = ... # Set the initial concentration [A1]_0\n",
        "A2_0 = ... # Set the initial concentration [A2]_0\n",
        "\n",
        "# Extract data\n",
        "t = df['Time_(s)']\n",
        "A1 = df['[A1]_(M)']\n",
        "A2 = df['[A2]_(M)']\n",
        "orders = [0, 1, 2]\n",
        "t_eval = np.linspace(0, t.max()*1.1)"
      ],
      "id": "8c0af518"
    },
    {
      "cell_type": "markdown",
      "metadata": {},
      "source": [
        "Now we can make and plot the fits\n",
        "\n",
        "Based on this plot;\n",
        "\n",
        "-   What do you believe is the reaction order for \\[A1\\]?\n",
        "-   What is the unit of the rate constant for \\[A1\\]?\n",
        "-   What do you believe is the reaction order for \\[A2\\]?\n",
        "-   What is the unit of the rate constant for \\[A2\\]?\n",
        "\n",
        "#### (e) Residuals\n",
        "\n",
        "By inspecting the plot we can make a qualitative judgement of the\n",
        "reaction orders. To get a more quantitative results we can look at the\n",
        "residuals, recall they are defined as\n",
        "\n",
        "$$\n",
        "r_i = y_i - f(x_i | \\theta)\n",
        "$$\n",
        "\n",
        "We can calculate these in much the same way we calculate the fits,\n",
        "except we don’t evaluate the fit at a new set of points but at the\n",
        "observations $x_i$.\n",
        "\n",
        "We can then plot the residuals, here using a histogram where the x-axis\n",
        "is the value of the residual and the bars indicate the number of\n",
        "residuals within that range of values."
      ],
      "id": "f782e6ad-6be9-4c0e-b7ef-70ef934bf194"
    },
    {
      "cell_type": "code",
      "execution_count": 52,
      "metadata": {
        "exercise": true
      },
      "outputs": [],
      "source": [
        "fig, axes = plt.subplots(2, 3, figsize=(8, 4), sharey=True, layout='constrained', sharex=True)\n",
        "\n",
        "axes[0, 0].set_ylabel('Count')\n",
        "axes[1, 0].set_ylabel('Count')\n",
        "\n",
        "for ax_col, order in zip(axes.T, orders):\n",
        "\n",
        "    residuals = calculate_residuals(t, A1, A1_0, order)\n",
        "    ax_col[0].hist(residuals, alpha=0.75, color='C0')\n",
        "\n",
        "    residuals = calculate_residuals(t, A2, A2_0, order)\n",
        "    ax_col[1].hist(residuals, alpha=0.75, color='C1')\n",
        "\n",
        "    ax_col[1].set_xlabel('Residual')"
      ],
      "id": "c8abcbe9"
    },
    {
      "cell_type": "markdown",
      "metadata": {},
      "source": [
        "Does this support your conclusions about the reaction order from (d)?\n",
        "\n",
        "## Analysis of a reversible reaction\n",
        "\n",
        "Consider the following reaction\n",
        "\n",
        "$$\n",
        "A \\underset{k_{2}}{\\stackrel{k_1}{\\rightleftharpoons}} B\n",
        "$$\n",
        "\n",
        "The magnitudes of the rate constants are $k_1 = 10 \\ \\mathrm{s}^{-1}$\n",
        "and $k_2 = 1 \\ \\mathrm{s}^{-1}$.\n",
        "\n",
        "#### (a) Reaction order\n",
        "\n",
        "What is the reaction order in each direction?\n",
        "\n",
        "#### (b) Derive equilibrium constant\n",
        "\n",
        "Show mathematically how the equilibrium constant $K_{\\mathrm{eq}}$ is\n",
        "given by the ratio between the two rate constants.\n",
        "\n",
        "#### (c) Calculate $K_{\\mathrm{eq}}$"
      ],
      "id": "13fe31e5-59bc-4851-b6fb-54ed955e75a9"
    },
    {
      "cell_type": "code",
      "execution_count": 54,
      "metadata": {
        "exercise": true
      },
      "outputs": [],
      "source": [
        "k1 = ...\n",
        "k2 = ...\n",
        "K_eq = ...\n",
        "print(f\"{K_eq = }\")"
      ],
      "id": "98bbd28e"
    },
    {
      "cell_type": "markdown",
      "metadata": {},
      "source": [
        "#### (d) Equilibrium concentrations\n",
        "\n",
        "Calculate the concentrations of A and B at equilibrium,\n",
        "$[\\mathrm{A}]_{\\mathrm{eq}}$ and $[\\mathrm{B}]_\\mathrm{eq}$, if\n",
        "$[\\mathrm{A}]_0 = 10^{-3} \\text{M}$"
      ],
      "id": "98f17a6c-76c5-428f-9ee3-97ab0256cbd5"
    },
    {
      "cell_type": "code",
      "execution_count": 56,
      "metadata": {
        "exercise": true
      },
      "outputs": [],
      "source": [
        "A0 = ...\n",
        "A_eq = ...\n",
        "B_eq = ...\n",
        "print(f\"{A_eq = }\")\n",
        "print(f\"{B_eq = }\")"
      ],
      "id": "b9808c60"
    },
    {
      "cell_type": "markdown",
      "metadata": {},
      "source": [
        "#### (e) Rates at equilibrium\n",
        "\n",
        "Calculate the forward and reverse rates at equilibrium at this\n",
        "concentration."
      ],
      "id": "0ae3b488-6ffc-4de1-9ee9-186fdfd3f4a8"
    },
    {
      "cell_type": "code",
      "execution_count": 58,
      "metadata": {
        "exercise": true
      },
      "outputs": [],
      "source": [
        "r_fwd = A_eq * k1\n",
        "r_bwd = B_eq * k2\n",
        "print(f\"{r_fwd = :.5f}\")\n",
        "print(f\"{r_bwd = :.5f}\")"
      ],
      "id": "5347a7d7"
    },
    {
      "cell_type": "markdown",
      "metadata": {},
      "source": [
        "#### (f) Initial rate of formation\n",
        "\n",
        "If $[\\mathrm{A}]_0 = 10^{-3} \\text{M}$ and\n",
        "$[\\mathrm{B}]_0 = 0 \\text{M}$, calculate the initial rate of formation\n",
        "of B."
      ],
      "id": "d9efb26e-a01f-4274-8860-6d5b89b5693a"
    },
    {
      "cell_type": "code",
      "execution_count": 60,
      "metadata": {
        "exercise": true
      },
      "outputs": [
        {
          "output_type": "stream",
          "name": "stdout",
          "text": [
            "r_fwd = 0.01000"
          ]
        }
      ],
      "source": [
        "r_fwd = A0 * k1\n",
        "print(f\"{r_fwd = :.5f}\")"
      ],
      "id": "6a4f1056"
    },
    {
      "cell_type": "markdown",
      "metadata": {},
      "source": [
        "#### (g) Time-dependence\n",
        "\n",
        "![](https://raw.githubusercontent.com/au-mbg/fysisk-biokemi/refs/heads/main/lessons/figures/week_48/reversible_reaction.png)\n",
        "\n",
        "We now want to calculate and plot the time-dependent concentrations\n",
        "using the above equations.\n",
        "\n",
        "In the cell below finish the implementation of the function `A_time`\n",
        "that calculates the concentration \\[A\\] as a function of time."
      ],
      "id": "c383cd4c-9b30-4f40-893f-91ef05a7d6d3"
    },
    {
      "cell_type": "code",
      "execution_count": 62,
      "metadata": {
        "exercise": true
      },
      "outputs": [],
      "source": [
        "def A_time(t, A0, k_f, k_b):\n",
        "    return ..."
      ],
      "id": "6a38668e"
    },
    {
      "cell_type": "markdown",
      "metadata": {},
      "source": [
        "And then we can use that function to calculate and plot the\n",
        "concentrations as a function of time."
      ],
      "id": "dcfe2d35-4b2f-4cff-9651-4369e1654f7d"
    },
    {
      "cell_type": "code",
      "execution_count": 64,
      "metadata": {
        "exercise": true
      },
      "outputs": [],
      "source": [
        "fig, ax = plt.subplots()\n",
        "\n",
        "t_max = ... # Set the time in seconds\n",
        "t = np.linspace(0, t_max, 100)\n",
        "\n",
        "At = ... # Use your function to calculate [A](t)\n",
        "Bt = ... # Calculate [B](t)\n",
        "\n",
        "ax.plot(t, At, label='[A](t)')\n",
        "ax.plot(t, Bt, label='[B](t)')\n",
        "ax.set_ylabel('Concentrations (M)')\n",
        "ax.set_xlabel('Time (s)')\n",
        "ax.legend()"
      ],
      "id": "944adf2c"
    }
  ],
  "nbformat": 4,
  "nbformat_minor": 5,
  "metadata": {
    "kernelspec": {
      "name": "python3",
      "display_name": "Python 3 (ipykernel)",
      "language": "python",
      "path": "/home/runner/work/fysisk-biokemi/fysisk-biokemi/.venv/share/jupyter/kernels/python3"
    },
    "language_info": {
      "name": "python",
      "codemirror_mode": {
        "name": "ipython",
        "version": "3"
      },
      "file_extension": ".py",
      "mimetype": "text/x-python",
      "nbconvert_exporter": "python",
      "pygments_lexer": "ipython3",
      "version": "3.11.13"
    }
  }
}