{
  "cells": [
    {
      "cell_type": "markdown",
      "metadata": {},
      "source": [
        "# Week 48"
      ],
      "id": "489aa792-44f2-4f00-8b53-28fdabada712"
    },
    {
      "cell_type": "code",
      "execution_count": 2,
      "metadata": {},
      "outputs": [],
      "source": [
        "try:\n",
        "    import fysisk_biokemi\n",
        "    print(\"Already installed\")\n",
        "except ImportError:\n",
        "    %pip install -q \"fysisk_biokemi[colab] @ git+https://github.com/au-mbg/fysisk-biokemi.git\""
      ],
      "id": "5a208501"
    },
    {
      "cell_type": "code",
      "execution_count": 3,
      "metadata": {},
      "outputs": [],
      "source": [
        "import pandas as pd\n",
        "pd.set_option('display.max_rows', 6)\n",
        "import numpy as np"
      ],
      "id": "268fee2f"
    },
    {
      "cell_type": "markdown",
      "metadata": {},
      "source": [
        "------------------------------------------------------------------------\n",
        "\n",
        "## Interpretation of binding data."
      ],
      "id": "a980e2a8-03a3-4240-9ebd-22913cb52768"
    },
    {
      "cell_type": "code",
      "execution_count": 4,
      "metadata": {},
      "outputs": [],
      "source": [
        "import numpy as np"
      ],
      "id": "d87fd15d"
    },
    {
      "cell_type": "markdown",
      "metadata": {},
      "source": [
        "The `interpret_week48.xlsx` contains protein binding dataset.\n",
        "\n",
        "#### (a) Load the dataset\n",
        "\n",
        "Load the dataset using the widget below"
      ],
      "id": "8ef5fd98-a469-4b35-843d-6bfe72a4ed60"
    },
    {
      "cell_type": "code",
      "execution_count": 5,
      "metadata": {},
      "outputs": [],
      "source": [
        "import numpy as np\n",
        "from fysisk_biokemi.widgets import DataUploader\n",
        "from IPython.display import display \n",
        "uploader = DataUploader()\n",
        "uploader.display()"
      ],
      "id": "6f0f63da"
    },
    {
      "cell_type": "markdown",
      "metadata": {},
      "source": [
        "Run the next cell **after** uploading the file"
      ],
      "id": "1dd7c7e9-1eb1-40d9-b8e9-73e3f9cadb6c"
    },
    {
      "cell_type": "code",
      "execution_count": 6,
      "metadata": {},
      "outputs": [],
      "source": [
        "df = uploader.get_dataframe()\n",
        "display(df)"
      ],
      "id": "5b236f47"
    },
    {
      "cell_type": "markdown",
      "metadata": {},
      "source": [
        "#### (b) SI Units\n",
        "\n",
        "Add a new column to the `DataFrame` with the ligand concentration in SI\n",
        "units."
      ],
      "id": "5bbe9e10-e4d6-4402-876a-8a84f59b7bc3"
    },
    {
      "cell_type": "code",
      "execution_count": 8,
      "metadata": {
        "exercise": true
      },
      "outputs": [],
      "source": [
        "... # Replace ... with your code.\n",
        "display(df)"
      ],
      "id": "4bf9300f"
    },
    {
      "cell_type": "markdown",
      "metadata": {},
      "source": [
        "#### (c) Plot the data\n",
        "\n",
        "Make plots of the binding data directly with a linear and logarithmic\n",
        "x-axis.\n",
        "\n",
        "Estimate Kd by visual inspection of these plots!"
      ],
      "id": "aeb0e6c1-a450-4981-a386-a80e62ef482b"
    },
    {
      "cell_type": "code",
      "execution_count": 10,
      "metadata": {
        "exercise": true
      },
      "outputs": [],
      "source": [
        "import matplotlib.pyplot as plt\n",
        "\n",
        "# This makes a figure with two axes.\n",
        "fig, axes = plt.subplots(1, 2, figsize=(9, 4))\n",
        "\n",
        "# Can with [0] to plot in the first axis.\n",
        "ax = axes[0]\n",
        "ax.plot(..., ..., 'o') # Replace ... with your code.\n",
        "ax.set_xlabel('[L](M)', fontsize=14)\n",
        "ax.set_ylabel(r'$\\bar{n}$', fontsize=14)\n",
        "\n",
        "ax = axes[1]\n",
        "... # Put some code here - perhaps you can copy it from somewhere?\n",
        "ax.set_xscale('log')"
      ],
      "id": "616d18df"
    },
    {
      "cell_type": "markdown",
      "metadata": {},
      "source": [
        "> **Tip**\n",
        ">\n",
        "> Ths command `ax.set_xscale('log')` tells `matplotlib` that we want the\n",
        "> x-axis to use a log-scale."
      ],
      "id": "0218edbc-b083-455c-8d22-cf96229255cd"
    },
    {
      "cell_type": "code",
      "execution_count": 12,
      "metadata": {
        "exercise": true
      },
      "outputs": [],
      "source": [
        "k_d_estimate = ..."
      ],
      "id": "5c542209"
    },
    {
      "cell_type": "markdown",
      "metadata": {},
      "source": [
        "#### (d) Make a fit\n",
        "\n",
        "Make a fit to determine $K_D$, as always we start by implementing the\n",
        "function to fit with"
      ],
      "id": "8b7a54b3-0aa8-4951-b34a-fc527f506d24"
    },
    {
      "cell_type": "code",
      "execution_count": 14,
      "metadata": {
        "exercise": true
      },
      "outputs": [],
      "source": [
        "def ... # Give the function an appropriate name.\n",
        "    return ... # Implement the expression for nbar"
      ],
      "id": "b4d6000e"
    },
    {
      "cell_type": "markdown",
      "metadata": {},
      "source": [
        "And then we can make the fit"
      ],
      "id": "7002781b-0fa2-4634-bf0a-0a65150dcb29"
    },
    {
      "cell_type": "code",
      "execution_count": 16,
      "metadata": {
        "exercise": true
      },
      "outputs": [],
      "source": [
        "from scipy.optimize import curve_fit\n",
        "\n",
        "# Choose the variables from the dataframe\n",
        "x = ... # Choose x-data from the dataframe\n",
        "y = ... # Choose y-data from the dataframe\n",
        "\n",
        "# Initial guess\n",
        "p0 = [k_d_estimate]\n",
        "\n",
        "# Bounds\n",
        "bounds = (0, np.inf) # We limit the parameters to be positve.\n",
        "\n",
        "# Curve fit\n",
        "popt, pcov = ... # Call the curve_fit function.\n",
        "\n",
        "# Print the parameters\n",
        "k_d_fit = popt[0]\n",
        "print(f\"{k_d_fit = :e}\")"
      ],
      "id": "4927a36b"
    },
    {
      "cell_type": "markdown",
      "metadata": {},
      "source": [
        "#### Compare\n",
        "\n",
        "Use the figure below to compare your guess with the fitted value.\n",
        "\n",
        "#### Saturation\n",
        "\n",
        "Based on the value of $K_D$ found from the fit,\n",
        "\n",
        "-   At which concentration do you expect 10% saturation?\n",
        "-   At which concentration do you expect 90% saturation?\n",
        "\n",
        "------------------------------------------------------------------------\n",
        "\n",
        "## Determination of type and strength of cooperativity\n",
        "\n",
        "The binding of NAD+ to the protein yeast glyceraldehyde 3-phosphate\n",
        "dehydrogenase (GAPDH) was studied using equilibrium dialysis. The enzyme\n",
        "concentration was 71 μM. The concentration of\n",
        "$[\\text{NAD}^{+}_\\text{free}]$ and the corresponding values of $\\bar{n}$\n",
        "were determined with the resulting data found in the dataset\n",
        "`determination_coop_week48.xlsx`.\n",
        "\n",
        "#### (a) Load the dataset\n",
        "\n",
        "Load the dataset using the widget below"
      ],
      "id": "5467803b-7bac-41c9-95c0-d0d465b81e13"
    },
    {
      "cell_type": "code",
      "execution_count": 19,
      "metadata": {},
      "outputs": [],
      "source": [
        "from fysisk_biokemi.widgets import DataUploader\n",
        "from IPython.display import display \n",
        "uploader = DataUploader()\n",
        "uploader.display()"
      ],
      "id": "09a12928"
    },
    {
      "cell_type": "markdown",
      "metadata": {},
      "source": [
        "Run the next cell **after** uploading the file"
      ],
      "id": "1f0962ee-ad87-4b63-9f38-5da54300079d"
    },
    {
      "cell_type": "code",
      "execution_count": 20,
      "metadata": {},
      "outputs": [],
      "source": [
        "df = uploader.get_dataframe()\n",
        "display(df)"
      ],
      "id": "d29bdf48"
    },
    {
      "cell_type": "markdown",
      "metadata": {},
      "source": [
        "#### (b) Averaging and units.\n",
        "\n",
        "Start by adding a new column to the `DataFrame` with the average value\n",
        "of $\\bar{n}$ across the three series\n",
        "\n",
        "> **Tip**\n",
        ">\n",
        "> Remember that you can set a new column based on a computation using\n",
        "> one or more other columns, e.g. \n",
        ">\n",
        "> ``` python\n",
        "> df['new_col'] = df['col1'] + df['col2']\n",
        "> ```"
      ],
      "id": "926dbbe3-00f1-4106-854b-cf4b858271aa"
    },
    {
      "cell_type": "code",
      "execution_count": 22,
      "metadata": {
        "exercise": true
      },
      "outputs": [],
      "source": [
        "df['nbar_avg'] = ..."
      ],
      "id": "e3ce4a4d"
    },
    {
      "cell_type": "markdown",
      "metadata": {},
      "source": [
        "Now also add a column with the ligand concentration in SI units with the\n",
        "column-name `[NAD+free]_(M)`."
      ],
      "id": "e79ba9c2-5fb3-4dd3-8039-f280e171b37d"
    },
    {
      "cell_type": "code",
      "execution_count": 24,
      "metadata": {
        "exercise": true
      },
      "outputs": [],
      "source": [
        "... # Your code here. \n",
        "display(df)"
      ],
      "id": "4a240821"
    },
    {
      "cell_type": "markdown",
      "metadata": {},
      "source": [
        "Finally, set the concentration of the GADPH in SI units"
      ],
      "id": "4e825eab-817f-46ba-930b-20d5799bedd3"
    },
    {
      "cell_type": "code",
      "execution_count": 26,
      "metadata": {},
      "outputs": [],
      "source": [
        " c_gadph = 71 * 10**(-6)"
      ],
      "id": "664c4950"
    },
    {
      "cell_type": "markdown",
      "metadata": {},
      "source": [
        "#### (c) Plot\n",
        "\n",
        "Make a plot of the average $\\bar{n}$ as a function of\n",
        "$[\\text{NAD}^{+}_\\text{free}]$."
      ],
      "id": "fbedf04e-8284-42d9-b7ac-7e70ad729938"
    },
    {
      "cell_type": "code",
      "execution_count": 27,
      "metadata": {
        "exercise": true
      },
      "outputs": [],
      "source": [
        "fig, ax = plt.subplots(figsize=(8, 4))\n",
        "\n",
        "# Your code to plot here.\n",
        "... \n",
        "\n",
        "# This sets the labels.\n",
        "ax.set_xlabel(r'$[\\text{NAD}^{+}_\\text{free}]$', fontsize=14)\n",
        "ax.set_ylabel(r'$\\bar{n}$', fontsize=14)\n",
        "plt.show()"
      ],
      "id": "41a03cfc"
    },
    {
      "cell_type": "markdown",
      "metadata": {},
      "source": [
        "#### (d) Scatchard plot\n",
        "\n",
        "Make a Scatchard plot based on the average $\\bar{n}$."
      ],
      "id": "fee2e510-d790-47c8-b204-9bdb99a67d70"
    },
    {
      "cell_type": "code",
      "execution_count": 29,
      "metadata": {
        "exercise": true
      },
      "outputs": [],
      "source": [
        "# Calculate nbar / L \n",
        "nbar_over_L = ...\n",
        "\n",
        "fig, ax = plt.subplots(figsize=(6, 4)) \n",
        "\n",
        "ax.plot(..., ... 'o') # Plot the right thins. \n",
        "\n",
        "ax.set_xlabel(r'$\\bar{n}$', fontsize=14)\n",
        "ax.set_ylabel(r'$\\bar{n}/L$', fontsize=14)\n",
        "ax.set_xlim([0, df['nbar_avg'].max()*1.2])\n",
        "ax.set_ylim([0, nbar_over_L.max() * 1.2])"
      ],
      "id": "122d4959"
    },
    {
      "cell_type": "markdown",
      "metadata": {},
      "source": [
        "#### (e) Binding sites\n",
        "\n",
        "How many binding sites does GAPDH contain for $\\text{NAD}^{+}$?\n",
        "\n",
        "#### (f) Cooperativity\n",
        "\n",
        "What type of cooperativity do the plots indicate?\n",
        "\n",
        "#### (g) Fit\n",
        "\n",
        "Make a fit using the functional form\n",
        "\n",
        "$$\n",
        "\\bar{n} = N \\frac{[L]^h}{K_D + [L]^h}\n",
        "$$\n",
        "\n",
        "As usual, start by defining the function in Python"
      ],
      "id": "bfda50fa-4245-4e06-a9c7-8ea8029198aa"
    },
    {
      "cell_type": "code",
      "execution_count": 32,
      "metadata": {
        "exercise": true
      },
      "outputs": [],
      "source": [
        "def n_bar(L, N, k_d, h):\n",
        "    # Replace ... with your code.\n",
        "    # Be careful with parentheses.\n",
        "    result = ...\n",
        "    return result "
      ],
      "id": "dc2c0840"
    },
    {
      "cell_type": "markdown",
      "metadata": {},
      "source": [
        "Now we can fit"
      ],
      "id": "4b195cf8-9942-4256-b260-30976e6a2bd9"
    },
    {
      "cell_type": "code",
      "execution_count": 33,
      "metadata": {
        "exercise": true
      },
      "outputs": [],
      "source": [
        "from scipy.optimize import curve_fit\n",
        "\n",
        "# This selects the '[NAD+free]_(m)'-column three times and stitches it together.\n",
        "x = np.concatenate([df['[NAD+free]_(M)'], df['[NAD+free]_(M)'], df['[NAD+free]_(M)']])\n",
        "# Do the same to stitch together the nbar1, nbar2 and nbar3 columns.\n",
        "y = ...\n",
        "\n",
        "# Initial guess\n",
        "p0 = [..., ..., ...]\n",
        "\n",
        "# Bounds\n",
        "bounds = (0, np.inf) # We limit the parameters to be positve.\n",
        "\n",
        "# Curve fit\n",
        "popt, pcov = curve_fit(n_bar, x, y, p0=p0, bounds=bounds)\n",
        "\n",
        "# Print the parameters\n",
        "N_fit, k_d_fit, h_fit = popt\n",
        "print(f\"{N_fit = :.3f}\")\n",
        "print(f\"{k_d_fit = :e}\")\n",
        "print(f\"{h_fit = :.3f}\")"
      ],
      "id": "faba6ad2"
    },
    {
      "cell_type": "markdown",
      "metadata": {},
      "source": [
        "#### (h) Plot with fit"
      ],
      "id": "0d1b07a1-daec-421c-aa34-d6db07c94717"
    },
    {
      "cell_type": "code",
      "execution_count": 35,
      "metadata": {
        "exercise": true
      },
      "outputs": [],
      "source": [
        "L = np.linspace(0, df['[NAD+free]_(M)'].max()*1.5)\n",
        "n_bar_fit = n_bar(L, N_fit, k_d_fit, h_fit)\n",
        "\n",
        "fig, ax = plt.subplots(figsize=(8, 4))\n",
        "ax.plot(x, y, 'o', label='Data')\n",
        "ax.plot(L, n_bar_fit, '-', label='Fit')\n",
        "ax.axhline(N_fit, color='C2', label='N from fit')\n",
        "ax.axvline(k_d_fit, color='C3', label=r'$K_D$ from fit')\n",
        "ax.set_xlabel(r'$[\\text{NAD}^{+}_\\text{free}]$', fontsize=14)\n",
        "ax.set_ylabel(r'$\\bar{n}$', fontsize=14)\n",
        "ax.legend()\n",
        "plt.show()"
      ],
      "id": "776eaeaf"
    },
    {
      "cell_type": "markdown",
      "metadata": {},
      "source": [
        "------------------------------------------------------------------------\n",
        "\n",
        "## Determination of reaction orders.\n",
        "\n",
        "#### (a) Load the dataset\n",
        "\n",
        "Load the dataset using the widget below"
      ],
      "id": "65bfc792-a464-411a-8dda-ed4d6c53446a"
    },
    {
      "cell_type": "code",
      "execution_count": 37,
      "metadata": {},
      "outputs": [],
      "source": [
        "from fysisk_biokemi.widgets import DataUploader\n",
        "from IPython.display import display \n",
        "uploader = DataUploader()\n",
        "uploader.display()"
      ],
      "id": "3948954c"
    },
    {
      "cell_type": "markdown",
      "metadata": {},
      "source": [
        "Run the next cell **after** uploading the file"
      ],
      "id": "0e64de5d-ef18-4571-aa2d-abd6dcc2bf1c"
    },
    {
      "cell_type": "code",
      "execution_count": 38,
      "metadata": {},
      "outputs": [],
      "source": [
        "df = uploader.get_dataframe()\n",
        "display(df)"
      ],
      "id": "abd1a03d"
    },
    {
      "cell_type": "markdown",
      "metadata": {},
      "source": [
        "#### (b) SI units.\n",
        "\n",
        "Add two new columns with the concentrations given in M."
      ],
      "id": "11245693-752f-4e0d-b66d-81d787502264"
    },
    {
      "cell_type": "code",
      "execution_count": 40,
      "metadata": {
        "exercise": true
      },
      "outputs": [],
      "source": [
        "# Make the new columns in this cell. \n",
        "\n",
        "\n",
        "display(df)"
      ],
      "id": "4e570bf6"
    },
    {
      "cell_type": "markdown",
      "metadata": {},
      "source": [
        "#### (c) Plotting\n",
        "\n",
        "For each reactant make a plot of\n",
        "\n",
        "-   $t$ vs. $[\\text{A}]$\n",
        "\n",
        "> **Note**\n",
        ">\n",
        "> We will be adding more elements to the plot in the following parts of\n",
        "> the exercise, therefore we will wrap the code for plotting in a\n",
        "> function such that it can be easily reused.\n",
        "\n",
        "The cell below defines the function for plotting, add the missing code\n",
        "in places with `...`."
      ],
      "id": "37e06e5f-b21c-49b4-8f8d-2ffd7f26b896"
    },
    {
      "cell_type": "code",
      "execution_count": 42,
      "metadata": {
        "exercise": null
      },
      "outputs": [],
      "source": [
        "def plot_dataframe(ax, df):\n",
        "    # Extract from dataframe\n",
        "    t = df['Time_(s)']\n",
        "    A1 = df['[A1]_(M)']\n",
        "    A2 = df['[A2]_(M)']\n",
        "\n",
        "    ax.plot(t, A1, 'o', label='[A1]')\n",
        "    ... # Your code here to plot A2\n",
        "\n",
        "    for ax in axes:\n",
        "        ax.set_xlabel('t [s]')\n",
        "        ax.legend()"
      ],
      "id": "e739e04d"
    },
    {
      "cell_type": "markdown",
      "metadata": {},
      "source": [
        "Once we’ve written the plotting function we can make the plot as done in\n",
        "the cell below."
      ],
      "id": "35997861-5fe2-47b3-b5b0-7fe27c15d844"
    },
    {
      "cell_type": "code",
      "execution_count": 44,
      "metadata": {
        "exercise": true
      },
      "outputs": [],
      "source": [
        "fig, ax = plt.subplots(1, 1, figsize=(6, 4))\n",
        "\n",
        "plot_dataframe(ax, df)"
      ],
      "id": "08fc2809"
    },
    {
      "cell_type": "markdown",
      "metadata": {},
      "source": [
        "#### (d) Determining reaction orders\n",
        "\n",
        "Now we want to determine the reaction orders by making fits to the data\n",
        "under the assumption of different integrated rate laws.\n",
        "\n",
        "In the cell below finish the code to define functions for the integrated\n",
        "rate laws of zeroth, first and second order."
      ],
      "id": "a68feb81-e325-428a-9292-f6a0503646fa"
    },
    {
      "cell_type": "code",
      "execution_count": 46,
      "metadata": {
        "exercise": true
      },
      "outputs": [],
      "source": [
        "def zeroth_order(t, k, A0):\n",
        "    result = ...\n",
        "    return result\n",
        "\n",
        "def first_order(t, k, A0):\n",
        "    result = ...\n",
        "    return result\n",
        "\n",
        "def second_order(t, k, A0):\n",
        "    result = ...\n",
        "    return result\n",
        "\n",
        "rate_laws = {0: zeroth_order, 1: first_order, 2:second_order}"
      ],
      "id": "15deb72c"
    },
    {
      "cell_type": "markdown",
      "metadata": {},
      "source": [
        "We can then use these to make fits, here it is helpful to define a small\n",
        "function to help us with that."
      ],
      "id": "7e5860ea-1f50-41d2-a84d-e3bf235e8649"
    },
    {
      "cell_type": "code",
      "execution_count": 48,
      "metadata": {},
      "outputs": [],
      "source": [
        "from scipy.optimize import curve_fit\n",
        "\n",
        "def make_fit(x_data, y_data, x_eval, A0, order):\n",
        "    func = lambda t, k: rate_laws[order](t, k, A0)\n",
        "    popt, pcov = curve_fit(func, x_data, y_data)\n",
        "\n",
        "    # Evaluate fit\n",
        "    k = popt[0]\n",
        "    y_fit = func(x_eval, k)\n",
        "    return k, y_fit"
      ],
      "id": "d6baf8a2"
    },
    {
      "cell_type": "markdown",
      "metadata": {},
      "source": [
        "Next we will define the known constants and extract a few things from\n",
        "the `DataFrame`. In the cell below put the initial concentrations in M."
      ],
      "id": "b9ba6182-ad57-456d-9b11-0ad900ddbc0a"
    },
    {
      "cell_type": "code",
      "execution_count": 49,
      "metadata": {
        "exercise": true
      },
      "outputs": [],
      "source": [
        "A1_0 = ... # Set the initial concentration [A1]_0\n",
        "A2_0 = ... # Set the initial concentration [A2]_0\n",
        "\n",
        "# Extract data\n",
        "t = df['Time_(s)']\n",
        "A1 = df['[A1]_(M)']\n",
        "A2 = df['[A2]_(M)']\n",
        "orders = [0, 1, 2]\n",
        "t_eval = np.linspace(0, t.max()*1.1)"
      ],
      "id": "205fc0b3"
    },
    {
      "cell_type": "markdown",
      "metadata": {},
      "source": [
        "Now we can make and plot the fits"
      ],
      "id": "7b8e777f-ddb6-4d27-88f7-6b8c006e0d8e"
    },
    {
      "cell_type": "code",
      "execution_count": 51,
      "metadata": {
        "exercise": true
      },
      "outputs": [],
      "source": [
        "fig, axes = plt.subplots(1, 3, figsize=(8, 4), sharey=True, layout='constrained')\n",
        "\n",
        "axes[0].set_ylabel('Concentration (M)')\n",
        "\n",
        "for ax in axes:\n",
        "    plot_dataframe(ax, df)\n",
        "\n",
        "for ax, order in zip(axes, orders):\n",
        "    k1, y_fit = make_fit(t, A1, t_eval, A1_0, order)\n",
        "    ax.plot(t_eval, y_fit, color='C2', label=rf'k = {k1:.2e}')\n",
        "\n",
        "    k2, y_fit = make_fit(t, A2, t_eval, A2_0, order)\n",
        "    ax.plot(t_eval, y_fit, color='C3', label=rf'k = {k2:.2e}')\n",
        "    ax.legend()\n",
        "    ax.set_title(f'Reaction order: {order}')"
      ],
      "id": "7c4c52ec"
    },
    {
      "cell_type": "markdown",
      "metadata": {},
      "source": [
        "Based on this plot;\n",
        "\n",
        "-   What do you believe is the reaction order for \\[A1\\]?\n",
        "-   What is the unit of the rate constant for \\[A1\\]?\n",
        "-   What do you believe is the reaction order for \\[A2\\]?\n",
        "-   What is the unit of the rate constant for \\[A2\\]?\n",
        "\n",
        "#### (e) Residuals\n",
        "\n",
        "By inspecting the plot we can make a qualitative judgement of the\n",
        "reaction orders. To get a more quantitative results we can look at the\n",
        "residuals, recall they are defined as\n",
        "\n",
        "$$\n",
        "r_i = y_i - f(x_i | \\theta)\n",
        "$$\n",
        "\n",
        "We can calculate these in much the same way we calculate the fits,\n",
        "except we don’t evaluate the fit at a new set of points but at the\n",
        "observations $x_i$.\n",
        "\n",
        "We can then plot the residuals, here using a histogram where the x-axis\n",
        "is the value of the residual and the bars indicate the number of\n",
        "residuals within that range of values."
      ],
      "id": "ad297b6e-08c3-4019-a740-df85606602fa"
    },
    {
      "cell_type": "code",
      "execution_count": 54,
      "metadata": {
        "exercise": true
      },
      "outputs": [],
      "source": [
        "fig, axes = plt.subplots(2, 3, figsize=(8, 4), sharey=True, layout='constrained', sharex=True)\n",
        "\n",
        "axes[0, 0].set_ylabel('Count')\n",
        "axes[1, 0].set_ylabel('Count')\n",
        "\n",
        "for ax_col, order in zip(axes.T, orders):\n",
        "\n",
        "    residuals = calculate_residuals(t, A1, A1_0, order)\n",
        "    ax_col[0].hist(residuals, alpha=0.75, color='C0')\n",
        "\n",
        "    residuals = calculate_residuals(t, A2, A2_0, order)\n",
        "    ax_col[1].hist(residuals, alpha=0.75, color='C1')\n",
        "\n",
        "    ax_col[1].set_xlabel('Residual')"
      ],
      "id": "3141b323"
    },
    {
      "cell_type": "markdown",
      "metadata": {},
      "source": [
        "Does this support your conclusions about the reaction order from (d)?\n",
        "\n",
        "------------------------------------------------------------------------\n",
        "\n",
        "## Analysis of a reversible reaction\n",
        "\n",
        "Consider the following reaction\n",
        "\n",
        "$$\n",
        "A \\underset{k_{2}}{\\stackrel{k_1}{\\rightleftharpoons}} B\n",
        "$$\n",
        "\n",
        "The magnitudes of the rate constants are $k_1 = 10 \\ \\mathrm{s}^{-1}$\n",
        "and $k_2 = 1 \\ \\mathrm{s}^{-1}$.\n",
        "\n",
        "#### (a) Reaction order\n",
        "\n",
        "What is the reaction order in each direction?\n",
        "\n",
        "#### (b) Derive equilibrium constant\n",
        "\n",
        "Show mathematically how the equilibrium constant $K_{\\mathrm{eq}}$ is\n",
        "given by the ratio between the two rate constants.\n",
        "\n",
        "#### (c) Calculate $K_{\\mathrm{eq}}$"
      ],
      "id": "eb2cb223-9f57-42cb-adae-39886cfbad58"
    },
    {
      "cell_type": "code",
      "execution_count": 56,
      "metadata": {
        "exercise": true
      },
      "outputs": [],
      "source": [
        "k1 = ...\n",
        "k2 = ...\n",
        "K_eq = ...\n",
        "print(f\"{K_eq = }\")"
      ],
      "id": "8d87a084"
    },
    {
      "cell_type": "markdown",
      "metadata": {},
      "source": [
        "#### (d) Equilibrium concentrations\n",
        "\n",
        "Calculate the concentrations of A and B at equilibrium,\n",
        "$[\\mathrm{A}]_{\\mathrm{eq}}$ and $[\\mathrm{B}]_\\mathrm{eq}$, if\n",
        "$[\\mathrm{A}]_0 = 10^{-3} \\text{M}$"
      ],
      "id": "bbe52aaa-18f2-4e86-a7b2-854260822610"
    },
    {
      "cell_type": "code",
      "execution_count": 58,
      "metadata": {
        "exercise": true
      },
      "outputs": [],
      "source": [
        "A0 = ...\n",
        "A_eq = ...\n",
        "B_eq = ...\n",
        "print(f\"{A_eq = }\")\n",
        "print(f\"{B_eq = }\")"
      ],
      "id": "73177ff9"
    },
    {
      "cell_type": "markdown",
      "metadata": {},
      "source": [
        "#### (e) Rates at equilibrium\n",
        "\n",
        "Calculate the forward and reverse rates at equilibrium at this\n",
        "concentration."
      ],
      "id": "4a8a753a-3b1a-44f0-9798-5e05a5388e15"
    },
    {
      "cell_type": "code",
      "execution_count": 60,
      "metadata": {
        "exercise": true
      },
      "outputs": [],
      "source": [
        "r_fwd = A_eq * k1\n",
        "r_bwd = B_eq * k2\n",
        "print(f\"{r_fwd = :.5f}\")\n",
        "print(f\"{r_bwd = :.5f}\")"
      ],
      "id": "78e85a3f"
    },
    {
      "cell_type": "markdown",
      "metadata": {},
      "source": [
        "#### (f) Initial rate of formation\n",
        "\n",
        "If $[\\mathrm{A}]_0 = 10^{-3} \\text{M}$ and\n",
        "$[\\mathrm{B}]_0 = 0 \\text{M}$, calculate the initial rate of formation\n",
        "of B."
      ],
      "id": "2371da36-1194-4393-af04-3a7ed5a0cb17"
    },
    {
      "cell_type": "code",
      "execution_count": 62,
      "metadata": {
        "exercise": true
      },
      "outputs": [
        {
          "output_type": "stream",
          "name": "stdout",
          "text": [
            "r_fwd = 0.01000"
          ]
        }
      ],
      "source": [
        "r_fwd = A0 * k1\n",
        "print(f\"{r_fwd = :.5f}\")"
      ],
      "id": "68e0727e"
    },
    {
      "cell_type": "markdown",
      "metadata": {},
      "source": [
        "#### (g) Time-dependence\n",
        "\n",
        "![](https://raw.githubusercontent.com/au-mbg/fysisk-biokemi/refs/heads/main/lessons/figures/week_48/reversible_reaction.png)\n",
        "\n",
        "We now want to calculate and plot the time-dependent concentrations\n",
        "using the above equations.\n",
        "\n",
        "In the cell below finish the implementation of the function `A_time`\n",
        "that calculates the concentration \\[A\\] as a function of time."
      ],
      "id": "ed4e4d3b-97ff-4894-9772-c7c8e81610be"
    },
    {
      "cell_type": "code",
      "execution_count": 64,
      "metadata": {
        "exercise": true
      },
      "outputs": [],
      "source": [
        "def A_time(t, A0, k_f, k_b):\n",
        "    return ..."
      ],
      "id": "83488448"
    },
    {
      "cell_type": "markdown",
      "metadata": {},
      "source": [
        "And then we can use that function to calculate and plot the\n",
        "concentrations as a function of time."
      ],
      "id": "38e3feae-fb10-426a-9f0a-3b44d6abff6b"
    },
    {
      "cell_type": "code",
      "execution_count": 66,
      "metadata": {
        "exercise": true
      },
      "outputs": [],
      "source": [
        "fig, ax = plt.subplots()\n",
        "\n",
        "t_max = ... # Set the time in seconds\n",
        "t = np.linspace(0, t_max, 100)\n",
        "\n",
        "At = ... # Use your function to calculate [A](t)\n",
        "Bt = ... # Calculate [B](t)\n",
        "\n",
        "ax.plot(t, At, label='[A](t)')\n",
        "ax.plot(t, Bt, label='[B](t)')\n",
        "ax.set_ylabel('Concentrations (M)')\n",
        "ax.set_xlabel('Time (s)')\n",
        "ax.legend()"
      ],
      "id": "f49a9db7"
    },
    {
      "cell_type": "markdown",
      "metadata": {},
      "source": [
        "------------------------------------------------------------------------\n",
        "\n",
        "## Determination of reaction order and activation energy"
      ],
      "id": "5f7b9f90-ec55-4a11-8c54-30dceda03950"
    },
    {
      "cell_type": "code",
      "execution_count": 68,
      "metadata": {},
      "outputs": [],
      "source": [
        "import numpy as np  \n",
        "import matplotlib.pyplot as plt"
      ],
      "id": "797c7396"
    },
    {
      "cell_type": "markdown",
      "metadata": {},
      "source": [
        "The irreversible isomerization of compound A to compound B results in a\n",
        "decreasing absorbance. The isomerization was followed in a time course\n",
        "at two different temperatures (T1 = 25 °C and T2 = 40 °C). The\n",
        "absorbance ($\\epsilon$ = 16700 $\\mathrm{cm}^{-1} \\mathrm{M}^{-1}$) was\n",
        "used to calculate the concentration of compound A in a spectrophotometer\n",
        "with a pathlength of 1 cm. The obtained dataset is given in the file\n",
        "`reaction_order_activation_week48.csv`.\n",
        "\n",
        "#### (a) Temperatures\n",
        "\n",
        "What are the two temperatures in Kelvin? Set them as varilabes in the\n",
        "cell below."
      ],
      "id": "eef36a19-137a-47ad-80f3-42c1e375e803"
    },
    {
      "cell_type": "code",
      "execution_count": 69,
      "metadata": {
        "exercise": true
      },
      "outputs": [],
      "source": [
        "T1 = 25 + 273.15\n",
        "T2 = 40 + 273.15"
      ],
      "id": "a3078d05"
    },
    {
      "cell_type": "markdown",
      "metadata": {},
      "source": [
        "#### (b) Load the dataset\n",
        "\n",
        "Load the dataset using the widget below"
      ],
      "id": "d1794f35-38e4-4ff8-8a49-fade84af6280"
    },
    {
      "cell_type": "code",
      "execution_count": 71,
      "metadata": {},
      "outputs": [],
      "source": [
        "from fysisk_biokemi.widgets import DataUploader\n",
        "from IPython.display import display \n",
        "uploader = DataUploader()\n",
        "uploader.display()"
      ],
      "id": "2ee1d337"
    },
    {
      "cell_type": "markdown",
      "metadata": {},
      "source": [
        "Run the next cell **after** uploading the file"
      ],
      "id": "76cd3611-e1a3-4ac3-a905-f0a4981c46e2"
    },
    {
      "cell_type": "code",
      "execution_count": 72,
      "metadata": {},
      "outputs": [],
      "source": [
        "df = uploader.get_dataframe()\n",
        "display(df)"
      ],
      "id": "bf1bc6f9"
    },
    {
      "cell_type": "markdown",
      "metadata": {},
      "source": [
        "#### (c) SI Units\n",
        "\n",
        "Calculate the concentration of A at each timepoint in SI units, by\n",
        "adding new columns to the `DataFrame`."
      ],
      "id": "26cee944-255d-435a-89fc-4629de8a26bb"
    },
    {
      "cell_type": "code",
      "execution_count": 74,
      "metadata": {},
      "outputs": [
        {
          "output_type": "display_data",
          "metadata": {},
          "data": {
            "text/html": [
              "\n",
              "<p>26 rows × 5 columns</p>\n",
              "</div>"
            ]
          }
        }
      ],
      "source": [
        "extinction_coeff = 16700 \n",
        "L = 1 # Path length\n",
        "\n",
        "df['[A]_(M)_25C'] = df['Abs(t)_25C'] / (extinction_coeff * L)\n",
        "df['[A]_(M)_40C'] = df['Abs(t)_40C'] / (extinction_coeff * L)\n",
        "display(df)"
      ],
      "id": "7b20c41b"
    },
    {
      "cell_type": "markdown",
      "metadata": {},
      "source": [
        "#### (d) Plot the data"
      ],
      "id": "e75fd43c-a09d-4c4b-bfc7-81a456581eb7"
    },
    {
      "cell_type": "code",
      "execution_count": 76,
      "metadata": {},
      "outputs": [
        {
          "output_type": "display_data",
          "metadata": {},
          "data": {
            "image/png": "[encoded data removed]"
          }
        }
      ],
      "source": [
        "fig, ax = plt.subplots()\n",
        "\n",
        "plot_dataframe(ax, df)"
      ],
      "id": "974d9c42"
    },
    {
      "cell_type": "markdown",
      "metadata": {},
      "source": [
        "#### (e) Determine reaction order\n",
        "\n",
        "In the exercise on “Determination of reaction orders” we saw how we can\n",
        "fit to the expressions for the integrated rate laws to determine the\n",
        "reaction order.\n",
        "\n",
        "In that exercise we wrote the functions in the next two cells, we will\n",
        "reuse them here"
      ],
      "id": "b2cc1c93-6887-4e6c-938f-58d2df30fede"
    },
    {
      "cell_type": "code",
      "execution_count": 77,
      "metadata": {},
      "outputs": [],
      "source": [
        "def zeroth_order(t, k, A0):\n",
        "    return A0 - k*t\n",
        "\n",
        "def first_order(t, k, A0):\n",
        "    return A0 * np.exp(-k*t)\n",
        "\n",
        "def second_order(t, k, A0):\n",
        "    return A0 / (1 + 2*k*t*A0)\n",
        "\n",
        "rate_laws = {0: zeroth_order, 1: first_order, 2:second_order}"
      ],
      "id": "bbadc1b4"
    },
    {
      "cell_type": "code",
      "execution_count": 78,
      "metadata": {},
      "outputs": [],
      "source": [
        "from scipy.optimize import curve_fit\n",
        "\n",
        "def make_fit(x_data, y_data, x_eval, A0, order):\n",
        "    func = lambda t, k: rate_laws[order](t, k, A0)\n",
        "    popt, pcov = curve_fit(func, x_data, y_data)\n",
        "\n",
        "    # Evaluate fit at new points\n",
        "    k = popt[0]\n",
        "    y_fit_new = func(x_eval, k)\n",
        "    \n",
        "    # Evaluate fit at data-points to calculate residuals\n",
        "    y_fit_data = func(x_data, k)\n",
        "    residuals = y_data - y_fit_data\n",
        "\n",
        "    return k, y_fit_new, residuals"
      ],
      "id": "8c2c3816"
    },
    {
      "cell_type": "markdown",
      "metadata": {},
      "source": [
        "Now we need to set a few things before we can do the fitting"
      ],
      "id": "e80752b4-d90d-4ffe-86ac-da2e3028501a"
    },
    {
      "cell_type": "code",
      "execution_count": 79,
      "metadata": {
        "exercise": true
      },
      "outputs": [],
      "source": [
        "t = ... # Extract the time from the dataframe\n",
        "A_25 = ... # Extract the concentration at 25C\n",
        "A_40 = ... # Extract the concentration at 40C\n",
        "A0_25 = ... # Set the initial concentration at 25C\n",
        "A0_40 = ... # Set the initial concentration at 40C"
      ],
      "id": "0c997a3f"
    },
    {
      "cell_type": "markdown",
      "metadata": {},
      "source": [
        "> **Tip**\n",
        ">\n",
        "> You’ve already calculated the initial concentration, it is contained\n",
        "> in the `DataFrame`.\n",
        "\n",
        "Now we can use our plotting and fitting functions to analyze the data"
      ],
      "id": "9eefe539-0bc9-4cba-ace3-de7836778a8c"
    },
    {
      "cell_type": "code",
      "execution_count": 81,
      "metadata": {
        "exercise": true
      },
      "outputs": [],
      "source": [
        "fig, axes = plt.subplots(2, 3, figsize=(8, 6), sharey='row', layout='constrained')\n",
        "\n",
        "for ax in axes.T:\n",
        "    plot_dataframe(ax[1], df)\n",
        "\n",
        "orders = [0, 1, 2]\n",
        "t_eval = np.linspace(0, t.max()*1.05)\n",
        "\n",
        "for ax_col, order in zip(axes.T, orders):\n",
        "    # Calculate the fits\n",
        "    k25, y_fit_25, residuals_25 = make_fit(t, A_25, t_eval, A0_25, order)\n",
        "    k40, y_fit_40, residuals_40 = make_fit(t, A_40, t_eval, A0_40, order)\n",
        "\n",
        "    # Plot the fits\n",
        "    ax = ax_col[1]\n",
        "    ax.plot(t_eval, y_fit_25, color='k')\n",
        "    ax.plot(t_eval, y_fit_40, color='k')\n",
        "    ax.text(0.05, 0.15, f'k (25 C) = {k25:.4f}', transform=ax.transAxes)\n",
        "    ax.text(0.05, 0.05, f'k (40 C) = {k40:.4f}', transform=ax.transAxes)\n",
        "\n",
        "    ax.legend()\n",
        "\n",
        "    # Plot the residuals\n",
        "    ax = ax_col[0]\n",
        "    ax.hist(residuals_25, facecolor='C0', alpha=0.75, edgecolor='k', label='25 C')\n",
        "    ax.hist(residuals_40, facecolor='C1', alpha=0.75, edgecolor='k', label='40 C')\n",
        "    ax.set_xlabel('Residual')    \n",
        "    ax.set_ylabel('Count')\n",
        "    ax.legend()\n",
        "\n",
        "    ax.set_title(f'Reaction order: {order}')"
      ],
      "id": "7bb1d4d4"
    },
    {
      "cell_type": "markdown",
      "metadata": {},
      "source": [
        "Based on these plots\n",
        "\n",
        "-   What do you think the reaction order of the reaction is?\n",
        "-   What’s the rate constant?\n",
        "-   What the unit of the rate constant?\n",
        "\n",
        "#### (f) Half-life\n",
        "\n",
        "What is the half-life of the reaction at these temperatures and is it\n",
        "constant through-out the reaction?\n",
        "\n",
        "#### (g) Activation energy\n",
        "\n",
        "With the assumption that the Arrhenius constant A and the activation\n",
        "energy are temperature independent in the interval measured, use the\n",
        "Arrhenius equation to calculate the activation energy of the\n",
        "isomerization of the compound A.\n",
        "\n",
        "Perform the calculation in the cell below."
      ],
      "id": "1fbf3cf2-d80f-4e5f-a7f9-e2b99ad8a53f"
    },
    {
      "cell_type": "code",
      "execution_count": 83,
      "metadata": {},
      "outputs": [],
      "source": [
        "..."
      ],
      "id": "b3bf1969"
    },
    {
      "cell_type": "markdown",
      "metadata": {},
      "source": [
        "------------------------------------------------------------------------\n",
        "\n",
        "## The pH effect on an active site histidine residue\n",
        "\n",
        "Assume that a compound R can react with the unprotonated form of\n",
        "Histidine, $\\text{His}$, to form a covalent reaction product,\n",
        "$\\text{P}$: $$\n",
        "\\text{His} + \\text{R} \\rightarrow \\text{P}\n",
        "$$\n",
        "\n",
        "The protonated form of Histidine, $\\text{HisH}^+$, is in equilibrium\n",
        "with $\\text{His}$:\n",
        "\n",
        "$$\n",
        "\\text{HisH}^+ \\rightleftharpoons \\text{His} + \\text{H}^+\n",
        "$$\n",
        "\n",
        "The pKa value for this acid-base equilibrium is 6.0. Further assume that\n",
        "the total concentration of Histidine, is\n",
        "\n",
        "$$\n",
        "[\\text{HisH}^+] + [\\text{His}] = 10^{-3} \\ \\text{M}\n",
        "$$\n",
        "\n",
        "#### (a) Percentage unprotonated\n",
        "\n",
        "Using the Henderson-Hasselbach equation, calculate the percentage of\n",
        "unprotonated Histidine, $\\text{His}$, at pH 6.0."
      ],
      "id": "e87ff56e-5f03-489c-b08f-5e82b83ca973"
    },
    {
      "cell_type": "code",
      "execution_count": 84,
      "metadata": {
        "exercise": true
      },
      "outputs": [],
      "source": [
        "pKa = ...\n",
        "pH = ...\n",
        "\n",
        "... # Possible intermediate calculation, otherwise delete this line.\n",
        "\n",
        "percentage_unprotonated = ...\n",
        "print(f\"{percentage_unprotonated = } %\")"
      ],
      "id": "9d29dd68"
    },
    {
      "cell_type": "markdown",
      "metadata": {},
      "source": [
        "#### (b) Concentration\n",
        "\n",
        "Calculate $[\\text{His}]$ at pH 6"
      ],
      "id": "a46de1ff-3ff4-417c-8d51-ad50c11416eb"
    },
    {
      "cell_type": "code",
      "execution_count": 86,
      "metadata": {
        "exercise": true
      },
      "outputs": [],
      "source": [
        "total_conc = ...\n",
        "his_conc = ...\n",
        "print(f\"{his_conc = } M\")"
      ],
      "id": "515076c7"
    },
    {
      "cell_type": "markdown",
      "metadata": {},
      "source": [
        "#### (c) Reaction order\n",
        "\n",
        "The reaction equation for the reaction between $\\text{His}$ and\n",
        "$\\text{R}$ is\n",
        "\n",
        "$$\n",
        "v = - \\frac{d[\\text{His}]}{dt} = k \\cdot [\\text{His}] \\cdot [\\text{R}]\n",
        "$$\n",
        "\n",
        "What’s the reaction order?\n",
        "\n",
        "#### (d) High concentrations\n",
        "\n",
        "If $[\\text{R}]$ is much higher than $[\\text{His}]$, what can then be\n",
        "concluded regarding the order of the reaction?\n",
        "\n",
        "#### (e) New rate constant\n",
        "\n",
        "Show how a new rate constant, $k'$, can be defined in these conditions.\n",
        "How does $k'$ depend on $\\text{R}$?\n",
        "\n",
        "#### (f) SI Units\n",
        "\n",
        "At pH 6.0 the reaction rate $v = 1 \\ \\text{mM}\\cdot \\text{s}^{-1}$ and\n",
        "constant $[\\text{R}] = 0.2 \\ \\text{M}$\n",
        "\n",
        "Convert the reaction rate to SI-units given in\n",
        "$\\text{M}\\cdot \\text{s}^{-1}$."
      ],
      "id": "a083aa8d-ce69-4026-8e98-f734487d64b1"
    },
    {
      "cell_type": "code",
      "execution_count": 88,
      "metadata": {},
      "outputs": [],
      "source": [
        "..."
      ],
      "id": "799a2a53"
    },
    {
      "cell_type": "markdown",
      "metadata": {},
      "source": [
        "#### (g) Calculate the rate constant\n",
        "\n",
        "Use the concentration of $[\\text{His}]$ at pH 6 calculated in question\n",
        "(b) and calculate the rate constant k."
      ],
      "id": "829aea87-5e49-46fe-a26b-9049d9be5a4f"
    },
    {
      "cell_type": "code",
      "execution_count": 89,
      "metadata": {},
      "outputs": [],
      "source": [
        "..."
      ],
      "id": "7a76bef8"
    }
  ],
  "nbformat": 4,
  "nbformat_minor": 5,
  "metadata": {
    "kernelspec": {
      "name": "python3",
      "display_name": "Python 3 (ipykernel)",
      "language": "python",
      "path": "/home/runner/work/fysisk-biokemi/fysisk-biokemi/.venv/share/jupyter/kernels/python3"
    },
    "language_info": {
      "name": "python",
      "codemirror_mode": {
        "name": "ipython",
        "version": "3"
      },
      "file_extension": ".py",
      "mimetype": "text/x-python",
      "nbconvert_exporter": "python",
      "pygments_lexer": "ipython3",
      "version": "3.11.13"
    }
  }
}