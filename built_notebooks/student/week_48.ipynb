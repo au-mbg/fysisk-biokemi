{
  "cells": [
    {
      "cell_type": "markdown",
      "metadata": {},
      "source": [
        "# Week 48"
      ],
      "id": "8a87c080-99fa-4093-acea-1faa395d9d1d"
    },
    {
      "cell_type": "code",
      "execution_count": 2,
      "metadata": {},
      "outputs": [],
      "source": [
        "try:\n",
        "    import fysisk_biokemi\n",
        "    print(\"Already installed\")\n",
        "except ImportError:\n",
        "    %pip install -q \"fysisk_biokemi[colab] @ git+https://github.com/au-mbg/fysisk-biokemi.git\""
      ],
      "id": "aef01602"
    },
    {
      "cell_type": "code",
      "execution_count": 3,
      "metadata": {},
      "outputs": [],
      "source": [
        "import pandas as pd\n",
        "pd.set_option('display.max_rows', 6)\n",
        "import numpy as np"
      ],
      "id": "60c63355"
    },
    {
      "cell_type": "markdown",
      "metadata": {},
      "source": [
        "------------------------------------------------------------------------\n",
        "\n",
        "## Interpretation of binding data."
      ],
      "id": "0ad80337-448f-4c9a-84ab-45bb2d29e2e0"
    },
    {
      "cell_type": "code",
      "execution_count": 4,
      "metadata": {},
      "outputs": [],
      "source": [
        "import numpy as np"
      ],
      "id": "4654871d"
    },
    {
      "cell_type": "markdown",
      "metadata": {},
      "source": [
        "The `week48_1_interpret.xlsx` contains a protein binding dataset.\n",
        "\n",
        "#### (a) Load the dataset\n",
        "\n",
        "Load the dataset using the widget below"
      ],
      "id": "b29ffae0-f114-4784-a8c1-2cbde0be796d"
    },
    {
      "cell_type": "code",
      "execution_count": 5,
      "metadata": {},
      "outputs": [],
      "source": [
        "import numpy as np\n",
        "from fysisk_biokemi.widgets import DataUploader\n",
        "from IPython.display import display \n",
        "uploader = DataUploader()\n",
        "uploader.display()"
      ],
      "id": "507f228b"
    },
    {
      "cell_type": "markdown",
      "metadata": {},
      "source": [
        "Run the next cell **after** uploading the file"
      ],
      "id": "9a3dfdad-2702-4e0d-aaab-ccefdbd07267"
    },
    {
      "cell_type": "code",
      "execution_count": 6,
      "metadata": {},
      "outputs": [],
      "source": [
        "df = uploader.get_dataframe()\n",
        "display(df)"
      ],
      "id": "27b17f39"
    },
    {
      "cell_type": "markdown",
      "metadata": {},
      "source": [
        "#### (b) SI Units\n",
        "\n",
        "Add a new column to the `DataFrame` with the ligand concentration in SI\n",
        "units."
      ],
      "id": "ff0c65b8-c21c-4cdb-914b-bd957b6b1f95"
    },
    {
      "cell_type": "code",
      "execution_count": 8,
      "metadata": {
        "exercise": true
      },
      "outputs": [],
      "source": [
        "... # Replace ... with your code.\n",
        "display(df)"
      ],
      "id": "082da878"
    },
    {
      "cell_type": "markdown",
      "metadata": {},
      "source": [
        "#### (c) Plot the data\n",
        "\n",
        "Make plots of the binding data directly with a linear and logarithmic\n",
        "x-axis.\n",
        "\n",
        "Estimate $K_D$ by visual inspection of these plots!"
      ],
      "id": "f08429fd-2a2b-4f2a-9cde-09158b26ac3f"
    },
    {
      "cell_type": "code",
      "execution_count": 10,
      "metadata": {
        "exercise": true
      },
      "outputs": [],
      "source": [
        "import matplotlib.pyplot as plt\n",
        "\n",
        "# This makes a figure with two axes.\n",
        "fig, axes = plt.subplots(1, 2, figsize=(9, 4))\n",
        "\n",
        "# Can with [0] to plot in the first axis.\n",
        "ax = axes[0]\n",
        "ax.plot(..., ..., 'o') # Replace ... with your code.\n",
        "ax.set_xlabel('[L](M)', fontsize=14)\n",
        "ax.set_ylabel(r'$\\bar{n}$', fontsize=14)\n",
        "\n",
        "ax = axes[1]\n",
        "... # Put some code here - perhaps you can copy it from somewhere?\n",
        "ax.set_xscale('log') # This make the x-axis logarithmic."
      ],
      "id": "f43bff83"
    },
    {
      "cell_type": "markdown",
      "metadata": {},
      "source": [
        "> **Note**\n",
        ">\n",
        "> Ths command `ax.set_xscale('log')` tells `matplotlib` that we want the\n",
        "> x-axis to use a log-scale."
      ],
      "id": "7657c9c4-d13a-4e8d-9713-765dc7b954d0"
    },
    {
      "cell_type": "code",
      "execution_count": 12,
      "metadata": {
        "exercise": true
      },
      "outputs": [],
      "source": [
        "k_d_estimate = ..."
      ],
      "id": "2b2f63c6"
    },
    {
      "cell_type": "markdown",
      "metadata": {},
      "source": [
        "#### (d) Make a fit\n",
        "\n",
        "Make a fit to determine $K_D$, as always we start by implementing the\n",
        "function to fit with"
      ],
      "id": "e3ceb585-41fe-46ad-a6c2-023250218313"
    },
    {
      "cell_type": "code",
      "execution_count": 14,
      "metadata": {
        "exercise": true
      },
      "outputs": [],
      "source": [
        "def ... # Give the function an appropriate name.\n",
        "    return ... # Implement the expression for nbar"
      ],
      "id": "19120dbf"
    },
    {
      "cell_type": "markdown",
      "metadata": {},
      "source": [
        "And then we can make the fit"
      ],
      "id": "64025b0a-369c-46ba-a254-19452b46b3c1"
    },
    {
      "cell_type": "code",
      "execution_count": 16,
      "metadata": {
        "exercise": true
      },
      "outputs": [],
      "source": [
        "from scipy.optimize import curve_fit\n",
        "\n",
        "# Choose the variables from the dataframe\n",
        "x = ... # Choose x-data from the dataframe\n",
        "y = ... # Choose y-data from the dataframe\n",
        "\n",
        "# Initial guess\n",
        "p0 = [k_d_estimate]\n",
        "\n",
        "# Bounds\n",
        "bounds = (0, np.inf) # We limit the parameters to be positve.\n",
        "\n",
        "# Curve fit\n",
        "popt, pcov = ... # Call the curve_fit function.\n",
        "\n",
        "# Print the parameters\n",
        "k_d_fit = popt[0]\n",
        "print(f\"{k_d_fit = :e}\")"
      ],
      "id": "43d3dbf2"
    },
    {
      "cell_type": "markdown",
      "metadata": {},
      "source": [
        "#### Compare\n",
        "\n",
        "Use the figure below to compare your guess with the fitted value.\n",
        "\n",
        "#### Saturation\n",
        "\n",
        "Based on the value of $K_D$ found from the fit,\n",
        "\n",
        "-   At which concentration do you expect 10% saturation?\n",
        "-   At which concentration do you expect 90% saturation?\n",
        "\n",
        "------------------------------------------------------------------------\n",
        "\n",
        "## Determination of type and strength of cooperativity"
      ],
      "id": "f5bfd126-43b0-4724-be50-39e8698275d8"
    },
    {
      "cell_type": "code",
      "execution_count": 19,
      "metadata": {},
      "outputs": [],
      "source": [
        "import matplotlib.pyplot as plt\n",
        "import numpy as np"
      ],
      "id": "ca006a41"
    },
    {
      "cell_type": "markdown",
      "metadata": {},
      "source": [
        "The binding of NAD+ to the protein yeast glyceraldehyde 3-phosphate\n",
        "dehydrogenase (GAPDH) was studied using equilibrium dialysis. The enzyme\n",
        "concentration was 71 μM. The concentration of\n",
        "$[\\text{NAD}^{+}_\\text{free}]$ and the corresponding values of $\\bar{n}$\n",
        "were determined with the resulting data found in the dataset\n",
        "`week48_2_determination_coop.xlsx`.\n",
        "\n",
        "#### (a) Load the dataset\n",
        "\n",
        "Load the dataset using the widget below"
      ],
      "id": "061ed477-7620-4721-bd8c-30db29783171"
    },
    {
      "cell_type": "code",
      "execution_count": 20,
      "metadata": {},
      "outputs": [],
      "source": [
        "from fysisk_biokemi.widgets import DataUploader\n",
        "from IPython.display import display \n",
        "uploader = DataUploader()\n",
        "uploader.display()"
      ],
      "id": "6d058749"
    },
    {
      "cell_type": "markdown",
      "metadata": {},
      "source": [
        "Run the next cell **after** uploading the file"
      ],
      "id": "0a4f5db7-4499-473d-b03f-2cfb5422d906"
    },
    {
      "cell_type": "code",
      "execution_count": 21,
      "metadata": {},
      "outputs": [],
      "source": [
        "df = uploader.get_dataframe()\n",
        "display(df)"
      ],
      "id": "c88c72ca"
    },
    {
      "cell_type": "markdown",
      "metadata": {},
      "source": [
        "#### (b) Averaging and units.\n",
        "\n",
        "Start by adding a new column to the `DataFrame` with the average value\n",
        "of $\\bar{n}$ across the three series\n",
        "\n",
        "> **Tip**\n",
        ">\n",
        "> Remember that you can set a new column based on a computation using\n",
        "> one or more other columns, e.g. \n",
        ">\n",
        "> ``` python\n",
        "> df['new_col'] = df['col1'] + df['col2']\n",
        "> ```"
      ],
      "id": "c8f03931-bc49-4164-8cee-caaca16131fe"
    },
    {
      "cell_type": "code",
      "execution_count": 23,
      "metadata": {
        "exercise": true
      },
      "outputs": [],
      "source": [
        "df['nbar_avg'] = ..."
      ],
      "id": "5b2e1889"
    },
    {
      "cell_type": "markdown",
      "metadata": {},
      "source": [
        "Now also add a column with the ligand concentration in SI units with the\n",
        "column-name `[NAD+free]_(M)`."
      ],
      "id": "a722c1b1-363d-42ae-8ddf-163c13e43710"
    },
    {
      "cell_type": "code",
      "execution_count": 25,
      "metadata": {
        "exercise": true
      },
      "outputs": [],
      "source": [
        "... # Your code here. \n",
        "display(df)"
      ],
      "id": "2f6a16b7"
    },
    {
      "cell_type": "markdown",
      "metadata": {},
      "source": [
        "Finally, set the concentration of the GADPH in SI units"
      ],
      "id": "0969e9bd-b56e-41d5-b219-077d0f48ddad"
    },
    {
      "cell_type": "code",
      "execution_count": 27,
      "metadata": {},
      "outputs": [],
      "source": [
        " c_gadph = 71 * 10**(-6)"
      ],
      "id": "2e487a60"
    },
    {
      "cell_type": "markdown",
      "metadata": {},
      "source": [
        "#### (c) Plot\n",
        "\n",
        "Make a plot of the average $\\bar{n}$ as a function of\n",
        "$[\\text{NAD}^{+}_\\text{free}]$."
      ],
      "id": "bb94150a-5350-4170-a7d3-427eba3a5d3b"
    },
    {
      "cell_type": "code",
      "execution_count": 28,
      "metadata": {
        "exercise": true
      },
      "outputs": [],
      "source": [
        "fig, ax = plt.subplots(figsize=(8, 4))\n",
        "\n",
        "# Your code to plot here.\n",
        "... \n",
        "\n",
        "# This sets the labels.\n",
        "ax.set_xlabel(r'$[\\text{NAD}^{+}_\\text{free}]$', fontsize=14)\n",
        "ax.set_ylabel(r'$\\bar{n}$', fontsize=14)\n",
        "plt.show()"
      ],
      "id": "9afe1e5c"
    },
    {
      "cell_type": "markdown",
      "metadata": {},
      "source": [
        "#### (d) Scatchard plot\n",
        "\n",
        "Make a Scatchard plot based on the average $\\bar{n}$."
      ],
      "id": "7c5e3c42-121d-4709-b3e3-8b521b163079"
    },
    {
      "cell_type": "code",
      "execution_count": 30,
      "metadata": {
        "exercise": true
      },
      "outputs": [],
      "source": [
        "# Calculate nbar / L \n",
        "nbar_over_L = ...\n",
        "\n",
        "fig, ax = plt.subplots(figsize=(6, 4)) \n",
        "\n",
        "ax.plot(..., ... 'o') # Plot the right thins. \n",
        "\n",
        "ax.set_xlabel(r'$\\bar{n}$', fontsize=14)\n",
        "ax.set_ylabel(r'$\\bar{n}/L$', fontsize=14)\n",
        "ax.set_xlim([0, df['nbar_avg'].max()*1.2])\n",
        "ax.set_ylim([0, nbar_over_L.max() * 1.2])"
      ],
      "id": "b8035827"
    },
    {
      "cell_type": "markdown",
      "metadata": {},
      "source": [
        "#### (e) Binding sites\n",
        "\n",
        "How many binding sites does GAPDH contain for $\\text{NAD}^{+}$?\n",
        "\n",
        "#### (f) Cooperativity\n",
        "\n",
        "What type of cooperativity do the plots indicate?\n",
        "\n",
        "#### (g) Fit\n",
        "\n",
        "Make a fit using the functional form\n",
        "\n",
        "$$\n",
        "\\bar{n} = N \\frac{[L]^h}{K_D + [L]^h}\n",
        "$$\n",
        "\n",
        "As usual, start by defining the function in Python"
      ],
      "id": "fa0319d8-5026-428f-b600-c5dc4f26fa38"
    },
    {
      "cell_type": "code",
      "execution_count": 33,
      "metadata": {
        "exercise": true
      },
      "outputs": [],
      "source": [
        "def n_bar(L, N, k_d, h):\n",
        "    # Replace ... with your code.\n",
        "    # Be careful with parentheses.\n",
        "    result = ...\n",
        "    return result "
      ],
      "id": "d1834b68"
    },
    {
      "cell_type": "markdown",
      "metadata": {},
      "source": [
        "Now we can fit"
      ],
      "id": "c5f70e1a-e996-4137-9d75-e8b8e6d6b527"
    },
    {
      "cell_type": "code",
      "execution_count": 34,
      "metadata": {
        "exercise": true
      },
      "outputs": [],
      "source": [
        "from scipy.optimize import curve_fit\n",
        "\n",
        "# This selects the '[NAD+free]_(m)'-column three times and stitches it together.\n",
        "x = np.concatenate([df['[NAD+free]_(M)'], df['[NAD+free]_(M)'], df['[NAD+free]_(M)']])\n",
        "# Do the same to stitch together the nbar1, nbar2 and nbar3 columns.\n",
        "y = ...\n",
        "\n",
        "# Initial guess\n",
        "p0 = [..., ..., ...]\n",
        "\n",
        "# Bounds\n",
        "bounds = (0, np.inf) # We limit the parameters to be positve.\n",
        "\n",
        "# Curve fit\n",
        "popt, pcov = curve_fit(n_bar, x, y, p0=p0, bounds=bounds)\n",
        "\n",
        "# Print the parameters\n",
        "N_fit, k_d_fit, h_fit = popt\n",
        "print(f\"{N_fit = :.3f}\")\n",
        "print(f\"{k_d_fit = :e}\")\n",
        "print(f\"{h_fit = :.3f}\")"
      ],
      "id": "b1bfff0b"
    },
    {
      "cell_type": "markdown",
      "metadata": {},
      "source": [
        "> **Note**\n",
        ">\n",
        "> The function `np.concatenate` takes a number of arrays and makes a new\n",
        "> array that consisting of the originals one after each other. For\n",
        "> example,\n",
        ">\n",
        "> ``` python\n",
        "> A = np.array([1, 2, 3])\n",
        "> B = np.array([4, 5, 6])\n",
        "> C = np.concatenate([A, B])\n",
        "> print(C)\n",
        "> ```\n",
        ">\n",
        ">     [1 2 3 4 5 6]\n",
        "\n",
        "#### (h) Plot with fit"
      ],
      "id": "6de6bfb5-882b-4718-a043-fb1f14c58370"
    },
    {
      "cell_type": "code",
      "execution_count": 37,
      "metadata": {
        "exercise": true
      },
      "outputs": [],
      "source": [
        "L = np.linspace(0, df['[NAD+free]_(M)'].max()*1.5)\n",
        "n_bar_fit = n_bar(L, N_fit, k_d_fit, h_fit)\n",
        "\n",
        "fig, ax = plt.subplots(figsize=(8, 4))\n",
        "ax.plot(x, y, 'o', label='Data')\n",
        "ax.plot(L, n_bar_fit, '-', label='Fit')\n",
        "ax.axhline(N_fit, color='C2', label='N from fit')\n",
        "ax.axvline(k_d_fit, color='C3', label=r'$K_D$ from fit')\n",
        "ax.set_xlabel(r'$[\\text{NAD}^{+}_\\text{free}]$', fontsize=14)\n",
        "ax.set_ylabel(r'$\\bar{n}$', fontsize=14)\n",
        "ax.legend()\n",
        "plt.show()"
      ],
      "id": "cd2d49cd"
    },
    {
      "cell_type": "markdown",
      "metadata": {},
      "source": [
        "------------------------------------------------------------------------\n",
        "\n",
        "## Determination of reaction orders."
      ],
      "id": "8f9b8b27-a156-4007-aff3-5271ddbd3e8b"
    },
    {
      "cell_type": "code",
      "execution_count": 39,
      "metadata": {},
      "outputs": [],
      "source": [
        "import matplotlib.pyplot as plt\n",
        "import numpy as np"
      ],
      "id": "ba7675c4"
    },
    {
      "cell_type": "markdown",
      "metadata": {},
      "source": [
        "#### (a) Load the dataset\n",
        "\n",
        "Load the dataset `week48_4_reaction_order.xlsx` using the widget below"
      ],
      "id": "72be989a-6a6a-44c0-88ce-3820e90c0dfc"
    },
    {
      "cell_type": "code",
      "execution_count": 40,
      "metadata": {},
      "outputs": [],
      "source": [
        "from fysisk_biokemi.widgets import DataUploader\n",
        "from IPython.display import display \n",
        "uploader = DataUploader()\n",
        "uploader.display()"
      ],
      "id": "64b8774c"
    },
    {
      "cell_type": "markdown",
      "metadata": {},
      "source": [
        "Run the next cell **after** uploading the file"
      ],
      "id": "44618587-019e-425a-b28e-f549b1df2231"
    },
    {
      "cell_type": "code",
      "execution_count": 41,
      "metadata": {},
      "outputs": [],
      "source": [
        "df = uploader.get_dataframe()\n",
        "display(df)"
      ],
      "id": "7d7f205f"
    },
    {
      "cell_type": "markdown",
      "metadata": {},
      "source": [
        "#### (b) SI units.\n",
        "\n",
        "Add two new columns with the concentrations given in M."
      ],
      "id": "e9ad0d8b-60c9-434a-8c57-32c72b9ce003"
    },
    {
      "cell_type": "code",
      "execution_count": 43,
      "metadata": {
        "exercise": true
      },
      "outputs": [],
      "source": [
        "# Make the new columns in this cell. \n",
        "\n",
        "\n",
        "display(df)"
      ],
      "id": "b50b3534"
    },
    {
      "cell_type": "markdown",
      "metadata": {},
      "source": [
        "#### (c) Plotting\n",
        "\n",
        "For each reactant make a plot of\n",
        "\n",
        "-   $t$ vs. $[\\text{A}]$\n",
        "\n",
        "> **Note**\n",
        ">\n",
        "> We will be adding more elements to the plot in the following parts of\n",
        "> the exercise, therefore we will wrap the code for plotting in a\n",
        "> function such that it can be easily reused.\n",
        "\n",
        "The cell below defines the function for plotting, add the missing code\n",
        "in places with `...`."
      ],
      "id": "eaa15a43-8c5d-4968-b078-60f5cf9d207d"
    },
    {
      "cell_type": "code",
      "execution_count": 45,
      "metadata": {
        "exercise": null
      },
      "outputs": [],
      "source": [
        "def plot_dataframe(ax, df):\n",
        "    # Extract from dataframe\n",
        "    t = df['Time_(s)']\n",
        "    A1 = df['[A1]_(M)']\n",
        "    A2 = df['[A2]_(M)']\n",
        "\n",
        "    ax.plot(t, A1, 'o', label='[A1]')\n",
        "    ... # Your code here to plot A2\n",
        "\n",
        "    for ax in axes:\n",
        "        ax.set_xlabel('t [s]')\n",
        "        ax.legend()"
      ],
      "id": "75bc4c17"
    },
    {
      "cell_type": "markdown",
      "metadata": {},
      "source": [
        "Once we’ve written the plotting function we can make the plot as done in\n",
        "the cell below."
      ],
      "id": "f76636d3-ba80-4333-954e-5c7d36aad5a0"
    },
    {
      "cell_type": "code",
      "execution_count": 47,
      "metadata": {
        "exercise": true
      },
      "outputs": [],
      "source": [
        "fig, ax = plt.subplots(1, 1, figsize=(6, 4))\n",
        "\n",
        "plot_dataframe(ax, df)"
      ],
      "id": "9b9fc7fc"
    },
    {
      "cell_type": "markdown",
      "metadata": {},
      "source": [
        "#### (d) Determining reaction orders\n",
        "\n",
        "Now we want to determine the reaction orders by making fits to the data\n",
        "under the assumption of different integrated rate laws.\n",
        "\n",
        "In the cell below finish the code to define functions for the integrated\n",
        "rate laws of zeroth, first and second order."
      ],
      "id": "7e8bb86d-94d6-4184-a21a-9e096bc99e6d"
    },
    {
      "cell_type": "code",
      "execution_count": 49,
      "metadata": {
        "exercise": true
      },
      "outputs": [],
      "source": [
        "def zeroth_order(t, k, A0):\n",
        "    result = ...\n",
        "    return result\n",
        "\n",
        "def first_order(t, k, A0):\n",
        "    result = ...\n",
        "    return result\n",
        "\n",
        "def second_order(t, k, A0):\n",
        "    result = ...\n",
        "    return result\n",
        "\n",
        "rate_laws = {0: zeroth_order, 1: first_order, 2:second_order}"
      ],
      "id": "79824098"
    },
    {
      "cell_type": "markdown",
      "metadata": {},
      "source": [
        "We can then use these to make fits, here it is helpful to define a small\n",
        "function to help us with that."
      ],
      "id": "7045d178-b39a-4147-89c2-121b33d4470c"
    },
    {
      "cell_type": "code",
      "execution_count": 51,
      "metadata": {},
      "outputs": [],
      "source": [
        "from scipy.optimize import curve_fit\n",
        "\n",
        "def make_fit(x_data, y_data, x_eval, A0, order):\n",
        "    # Don't worry about this line for now. \n",
        "    # It just picks the correct function for the given order and sets A0.\n",
        "    func = lambda t, k: rate_laws[order](t, k, A0)\n",
        "\n",
        "    # Make fit\n",
        "    popt, pcov = curve_fit(func, x_data, y_data)\n",
        "\n",
        "    # Evaluate fit\n",
        "    k = popt[0]\n",
        "    y_fit = func(x_eval, k)\n",
        "    return k, y_fit"
      ],
      "id": "2401ebfb"
    },
    {
      "cell_type": "markdown",
      "metadata": {},
      "source": [
        "Next we will define the known constants and extract a few things from\n",
        "the `DataFrame`. In the cell below put the initial concentrations in M."
      ],
      "id": "5f8ed3f7-42b8-44c3-a1b1-a7d3bf2e8064"
    },
    {
      "cell_type": "code",
      "execution_count": 52,
      "metadata": {
        "exercise": true
      },
      "outputs": [],
      "source": [
        "A1_0 = ... # Set the initial concentration [A1]_0\n",
        "A2_0 = ... # Set the initial concentration [A2]_0\n",
        "\n",
        "# Extract data\n",
        "t = df['Time_(s)']\n",
        "A1 = df['[A1]_(M)']\n",
        "A2 = df['[A2]_(M)']\n",
        "orders = [0, 1, 2]\n",
        "t_eval = np.linspace(0, t.max()*1.1)"
      ],
      "id": "754d2a90"
    },
    {
      "cell_type": "markdown",
      "metadata": {},
      "source": [
        "Now we can make and plot the fits"
      ],
      "id": "cc36ec69-6138-41d3-9640-1cd9b4be6cb7"
    },
    {
      "cell_type": "code",
      "execution_count": 54,
      "metadata": {
        "exercise": true
      },
      "outputs": [],
      "source": [
        "fig, axes = plt.subplots(1, 3, figsize=(8, 4), sharey=True, layout='constrained')\n",
        "\n",
        "axes[0].set_ylabel('Concentration (M)')\n",
        "\n",
        "for ax in axes:\n",
        "    plot_dataframe(ax, df)\n",
        "\n",
        "for ax, order in zip(axes, orders):\n",
        "    k1, y_fit = make_fit(t, A1, t_eval, A1_0, order)\n",
        "    ax.plot(t_eval, y_fit, color='C2', label=rf'k = {k1:.2e}')\n",
        "\n",
        "    k2, y_fit = make_fit(t, A2, t_eval, A2_0, order)\n",
        "    ax.plot(t_eval, y_fit, color='C3', label=rf'k = {k2:.2e}')\n",
        "    ax.legend()\n",
        "    ax.set_title(f'Reaction order: {order}')"
      ],
      "id": "59d114d5"
    },
    {
      "cell_type": "markdown",
      "metadata": {},
      "source": [
        "Based on this plot;\n",
        "\n",
        "-   What do you believe is the reaction order for \\[A1\\]?\n",
        "-   What is the unit of the rate constant for \\[A1\\]?\n",
        "-   What do you believe is the reaction order for \\[A2\\]?\n",
        "-   What is the unit of the rate constant for \\[A2\\]?\n",
        "\n",
        "> **Note**\n",
        ">\n",
        "> The cell above used a `for`-loop. These are a powerful way of\n",
        "> performing the same operation with different inputs, you will learn\n",
        "> more about them later on.\n",
        "\n",
        "#### (e) Residuals\n",
        "\n",
        "By inspecting the plot we can make a qualitative judgement of the\n",
        "reaction orders. To get a more quantitative results we can look at the\n",
        "residuals, recall they are defined as\n",
        "\n",
        "$$\n",
        "r_i = y_i - f(x_i | \\theta)\n",
        "$$\n",
        "\n",
        "We can calculate these in much the same way we calculate the fits,\n",
        "except we don’t evaluate the fit at a new set of points but at the\n",
        "observations $x_i$."
      ],
      "id": "b9e5a0c2-d336-4b4e-88ac-d641c904fdb5"
    },
    {
      "cell_type": "code",
      "execution_count": 56,
      "metadata": {
        "exercise": true
      },
      "outputs": [],
      "source": [
        "def calculate_residuals(x_data, y_data, A0, order):\n",
        "    # Don't worry about this line for now. \n",
        "    # It just picks the correct function for the given order and sets A0.\n",
        "    func = lambda t, k: rate_laws[order](t, k, A0)\n",
        "\n",
        "    # Make fit\n",
        "    popt, pcov = curve_fit(func, x_data, y_data)\n",
        "\n",
        "\n",
        "    # Evaluate fit\n",
        "    k = popt[0]\n",
        "    y_fit = ... # Calculate the fit at the x_data using `func`\n",
        "    residuals = ... # Calculate the residuals.\n",
        "    return residuals"
      ],
      "id": "81fa4186"
    },
    {
      "cell_type": "markdown",
      "metadata": {},
      "source": [
        "We can then plot the residuals, here using a histogram where the x-axis\n",
        "is the value of the residual and the bars indicate the number of\n",
        "residuals within that range of values."
      ],
      "id": "25c9cc81-7988-4577-bfe5-512c7e9893d5"
    },
    {
      "cell_type": "code",
      "execution_count": 58,
      "metadata": {
        "exercise": true
      },
      "outputs": [],
      "source": [
        "fig, axes = plt.subplots(2, 3, figsize=(8, 4), sharey=True, layout='constrained', sharex=True)\n",
        "\n",
        "axes[0, 0].set_ylabel('Count')\n",
        "axes[1, 0].set_ylabel('Count')\n",
        "\n",
        "for ax_col, order in zip(axes.T, orders):\n",
        "\n",
        "    residuals = calculate_residuals(t, A1, A1_0, order)\n",
        "    ax_col[0].hist(residuals, alpha=0.75, color='C0')\n",
        "\n",
        "    residuals = calculate_residuals(t, A2, A2_0, order)\n",
        "    ax_col[1].hist(residuals, alpha=0.75, color='C1')\n",
        "\n",
        "    ax_col[1].set_xlabel('Residual')"
      ],
      "id": "d2c7d1ec"
    },
    {
      "cell_type": "markdown",
      "metadata": {},
      "source": [
        "Does this support your conclusions about the reaction order from (d)?\n",
        "\n",
        "------------------------------------------------------------------------\n",
        "\n",
        "## Analysis of a reversible reaction"
      ],
      "id": "f1d033f5-e881-4f10-87c2-6631733d395d"
    },
    {
      "cell_type": "code",
      "execution_count": 60,
      "metadata": {},
      "outputs": [],
      "source": [
        "import matplotlib.pyplot as plt\n",
        "import numpy as np"
      ],
      "id": "b19eb862"
    },
    {
      "cell_type": "markdown",
      "metadata": {},
      "source": [
        "Consider the following reaction\n",
        "\n",
        "$$\n",
        "A \\underset{k_{2}}{\\stackrel{k_1}{\\rightleftharpoons}} B\n",
        "$$\n",
        "\n",
        "The magnitudes of the rate constants are $k_1 = 10 \\ \\mathrm{s}^{-1}$\n",
        "and $k_2 = 1 \\ \\mathrm{s}^{-1}$.\n",
        "\n",
        "#### (a) Reaction order\n",
        "\n",
        "What is the reaction order in each direction?\n",
        "\n",
        "#### (b) Derive equilibrium constant\n",
        "\n",
        "Show mathematically how the equilibrium constant $K_{\\mathrm{eq}}$ is\n",
        "given by the ratio between the two rate constants.\n",
        "\n",
        "#### (c) Calculate $K_{\\mathrm{eq}}$"
      ],
      "id": "cae2fb30-4575-4546-8815-cf857dae3018"
    },
    {
      "cell_type": "code",
      "execution_count": 61,
      "metadata": {
        "exercise": true
      },
      "outputs": [],
      "source": [
        "k1 = ...\n",
        "k2 = ...\n",
        "K_eq = ...\n",
        "print(f\"{K_eq = }\")"
      ],
      "id": "f1294144"
    },
    {
      "cell_type": "markdown",
      "metadata": {},
      "source": [
        "#### (d) Equilibrium concentrations\n",
        "\n",
        "Calculate the concentrations of A and B at equilibrium,\n",
        "$[\\mathrm{A}]_{\\mathrm{eq}}$ and $[\\mathrm{B}]_\\mathrm{eq}$, if\n",
        "$[\\mathrm{A}]_0 = 10^{-3} \\text{M}$"
      ],
      "id": "0efe4fdb-51aa-4c9c-8bbe-402c175b453b"
    },
    {
      "cell_type": "code",
      "execution_count": 63,
      "metadata": {
        "exercise": true
      },
      "outputs": [],
      "source": [
        "A0 = ...\n",
        "A_eq = ...\n",
        "B_eq = ...\n",
        "print(f\"{A_eq = }\")\n",
        "print(f\"{B_eq = }\")"
      ],
      "id": "48f6d702"
    },
    {
      "cell_type": "markdown",
      "metadata": {},
      "source": [
        "#### (e) Rates at equilibrium\n",
        "\n",
        "Calculate the forward and reverse rates at equilibrium at this\n",
        "concentration."
      ],
      "id": "96251750-ed78-48d0-a53a-e0c98217ed45"
    },
    {
      "cell_type": "code",
      "execution_count": 65,
      "metadata": {
        "exercise": true
      },
      "outputs": [],
      "source": [
        "r_fwd = A_eq * k1\n",
        "r_bwd = B_eq * k2\n",
        "print(f\"{r_fwd = :.5f}\")\n",
        "print(f\"{r_bwd = :.5f}\")"
      ],
      "id": "260624d4"
    },
    {
      "cell_type": "markdown",
      "metadata": {},
      "source": [
        "#### (f) Initial rate of formation\n",
        "\n",
        "If $[\\mathrm{A}]_0 = 10^{-3} \\text{M}$ and\n",
        "$[\\mathrm{B}]_0 = 0 \\text{M}$, calculate the initial rate of formation\n",
        "of B."
      ],
      "id": "7be2b526-3c9f-46c8-8098-8879c2c7a252"
    },
    {
      "cell_type": "code",
      "execution_count": 67,
      "metadata": {
        "exercise": true
      },
      "outputs": [
        {
          "output_type": "stream",
          "name": "stdout",
          "text": [
            "r_fwd = 0.01000"
          ]
        }
      ],
      "source": [
        "r_fwd = A0 * k1\n",
        "print(f\"{r_fwd = :.5f}\")"
      ],
      "id": "3d0c9ac1"
    },
    {
      "cell_type": "markdown",
      "metadata": {},
      "source": [
        "#### (g) Time-dependence\n",
        "\n",
        "![](https://raw.githubusercontent.com/au-mbg/fysisk-biokemi/refs/heads/main/lessons/figures/week_48/reversible_reaction.png)\n",
        "\n",
        "We now want to calculate and plot the time-dependent concentrations\n",
        "using the above equations.\n",
        "\n",
        "In the cell below finish the implementation of the function `A_time`\n",
        "that calculates the concentration \\[A\\] as a function of time."
      ],
      "id": "83ea9828-a242-4dff-b053-116d2cb938c4"
    },
    {
      "cell_type": "code",
      "execution_count": 69,
      "metadata": {
        "exercise": true
      },
      "outputs": [],
      "source": [
        "def A_time(t, A0, k_f, k_b):\n",
        "    return ..."
      ],
      "id": "21cf9c18"
    },
    {
      "cell_type": "markdown",
      "metadata": {},
      "source": [
        "> **Caution**\n",
        ">\n",
        "> Be careful to correctly set parantheses when implementing this\n",
        "> function!\n",
        "\n",
        "And then we can use that function to calculate and plot the\n",
        "concentrations as a function of time."
      ],
      "id": "7b58df05-3695-47bd-a700-c7f3378829ce"
    },
    {
      "cell_type": "code",
      "execution_count": 71,
      "metadata": {
        "exercise": true
      },
      "outputs": [],
      "source": [
        "fig, ax = plt.subplots()\n",
        "\n",
        "t_max = ... # Set the time in seconds\n",
        "t = np.linspace(0, t_max, 100)\n",
        "\n",
        "At = ... # Use your function to calculate [A](t)\n",
        "Bt = ... # Calculate [B](t)\n",
        "\n",
        "ax.plot(t, At, label='[A](t)')\n",
        "ax.plot(t, Bt, label='[B](t)')\n",
        "ax.set_ylabel('Concentrations (M)')\n",
        "ax.set_xlabel('Time (s)')\n",
        "ax.legend()"
      ],
      "id": "6263a262"
    },
    {
      "cell_type": "markdown",
      "metadata": {},
      "source": [
        "------------------------------------------------------------------------\n",
        "\n",
        "## Determination of reaction order and activation energy"
      ],
      "id": "8e8db9c9-e040-4d01-b643-5a563b205d6e"
    },
    {
      "cell_type": "code",
      "execution_count": 73,
      "metadata": {},
      "outputs": [],
      "source": [
        "import numpy as np  \n",
        "import matplotlib.pyplot as plt"
      ],
      "id": "d2bf6b81"
    },
    {
      "cell_type": "markdown",
      "metadata": {},
      "source": [
        "The irreversible isomerization of compound A to compound B results in a\n",
        "decreasing absorbance. The isomerization was followed in a time course\n",
        "at two different temperatures (T1 = 25 °C and T2 = 40 °C). The\n",
        "absorbance ($\\epsilon$ = 16700 $\\mathrm{cm}^{-1} \\mathrm{M}^{-1}$) was\n",
        "used to calculate the concentration of compound A in a spectrophotometer\n",
        "with a pathlength of 1 cm. The obtained dataset is given in the file\n",
        "`week48_7_reaction_order_activation.csv`.\n",
        "\n",
        "#### (a) Temperatures\n",
        "\n",
        "What are the two temperatures in Kelvin? Set them as varilabes in the\n",
        "cell below."
      ],
      "id": "2842743d-a6b9-4887-b39d-a991397eabd4"
    },
    {
      "cell_type": "code",
      "execution_count": 74,
      "metadata": {
        "exercise": true
      },
      "outputs": [],
      "source": [
        "T1 = 25 + 273.15\n",
        "T2 = 40 + 273.15"
      ],
      "id": "9ce86039"
    },
    {
      "cell_type": "markdown",
      "metadata": {},
      "source": [
        "#### (b) Load the dataset\n",
        "\n",
        "Load the dataset using the widget below"
      ],
      "id": "b3941b27-3a64-49ae-b6ff-d1d5339593f6"
    },
    {
      "cell_type": "code",
      "execution_count": 76,
      "metadata": {},
      "outputs": [],
      "source": [
        "from fysisk_biokemi.widgets import DataUploader\n",
        "from IPython.display import display \n",
        "uploader = DataUploader()\n",
        "uploader.display()"
      ],
      "id": "fd21ff1a"
    },
    {
      "cell_type": "markdown",
      "metadata": {},
      "source": [
        "Run the next cell **after** uploading the file"
      ],
      "id": "6a39a0a9-ba0e-4ab3-a537-948fa40bd815"
    },
    {
      "cell_type": "code",
      "execution_count": 77,
      "metadata": {},
      "outputs": [],
      "source": [
        "df = uploader.get_dataframe()\n",
        "display(df)"
      ],
      "id": "fc68a761"
    },
    {
      "cell_type": "markdown",
      "metadata": {},
      "source": [
        "#### (c) SI Units\n",
        "\n",
        "Calculate the concentration of A at each timepoint in SI units, by\n",
        "adding new columns to the `DataFrame`."
      ],
      "id": "abfb7dd0-1a00-4663-baf2-b010b2c62acb"
    },
    {
      "cell_type": "code",
      "execution_count": 79,
      "metadata": {
        "exercise": true
      },
      "outputs": [],
      "source": [
        "extinction_coeff = ...\n",
        "L = 1 # Path length\n",
        "\n",
        "df['[A]_(M)_25C'] = ... # For 25 C\n",
        "... # For 40 C\n",
        "display(df)"
      ],
      "id": "1bfdb1e0"
    },
    {
      "cell_type": "markdown",
      "metadata": {},
      "source": [
        "#### (d) Plot the data\n",
        "\n",
        "We will be resuing the plot, so we will put the code for it in a\n",
        "function."
      ],
      "id": "a57de871-0b9d-437a-982a-165db269730d"
    },
    {
      "cell_type": "code",
      "execution_count": 81,
      "metadata": {
        "exercise": true
      },
      "outputs": [],
      "source": [
        "def plot_dataframe(ax, df):\n",
        "    # Extract from dataframe\n",
        "    t = ...\n",
        "    A_25 = ...\n",
        "    A_40 = ...\n",
        "\n",
        "    # First subfigure: t vs [A]\n",
        "    ax.plot(..., ..., 'o', label='[A]_25C')\n",
        "    ... # Add the code to plot the 40C data.\n",
        "    ax.set_xlabel('t (s)')\n",
        "    ax.set_ylabel('[A] (M)')\n",
        "    ax.legend()"
      ],
      "id": "b7e86a7d"
    },
    {
      "cell_type": "markdown",
      "metadata": {},
      "source": [
        "You can run this next cell to see your plot and adjust as neccesarry."
      ],
      "id": "e9308c37-6053-4bad-aa7b-f9fa23d103f1"
    },
    {
      "cell_type": "code",
      "execution_count": 83,
      "metadata": {},
      "outputs": [
        {
          "output_type": "display_data",
          "metadata": {},
          "data": {
            "image/png": "[encoded data removed]"
          }
        }
      ],
      "source": [
        "fig, ax = plt.subplots()\n",
        "plot_dataframe(ax, df)"
      ],
      "id": "86898b58"
    },
    {
      "cell_type": "markdown",
      "metadata": {},
      "source": [
        "#### (e) Determine reaction order\n",
        "\n",
        "In the exercise on “Determination of reaction orders” we saw how we can\n",
        "fit to the expressions for the integrated rate laws to determine the\n",
        "reaction order.\n",
        "\n",
        "In that exercise we wrote the functions in the next two cells, we will\n",
        "reuse them here"
      ],
      "id": "3449e7ff-5381-4873-bad1-f5c1c2422a20"
    },
    {
      "cell_type": "code",
      "execution_count": 84,
      "metadata": {},
      "outputs": [],
      "source": [
        "def zeroth_order(t, k, A0):\n",
        "    return A0 - k*t\n",
        "\n",
        "def first_order(t, k, A0):\n",
        "    return A0 * np.exp(-k*t)\n",
        "\n",
        "def second_order(t, k, A0):\n",
        "    return A0 / (1 + 2*k*t*A0)\n",
        "\n",
        "rate_laws = {0: zeroth_order, 1: first_order, 2:second_order}"
      ],
      "id": "51cfb14a"
    },
    {
      "cell_type": "code",
      "execution_count": 85,
      "metadata": {},
      "outputs": [],
      "source": [
        "from scipy.optimize import curve_fit\n",
        "\n",
        "def make_fit(x_data, y_data, x_eval, A0, order):\n",
        "    func = lambda t, k: rate_laws[order](t, k, A0)\n",
        "    popt, pcov = curve_fit(func, x_data, y_data)\n",
        "\n",
        "    # Evaluate fit at new points\n",
        "    k = popt[0]\n",
        "    y_fit_new = func(x_eval, k)\n",
        "    \n",
        "    # Evaluate fit at data-points to calculate residuals\n",
        "    y_fit_data = func(x_data, k)\n",
        "    residuals = y_data - y_fit_data\n",
        "\n",
        "    return k, y_fit_new, residuals"
      ],
      "id": "e9cd682a"
    },
    {
      "cell_type": "markdown",
      "metadata": {},
      "source": [
        "Now we need to set a few things before we can do the fitting"
      ],
      "id": "578443ef-65e4-415e-b507-42ef7d114d4b"
    },
    {
      "cell_type": "code",
      "execution_count": 86,
      "metadata": {
        "exercise": true
      },
      "outputs": [],
      "source": [
        "t = ... # Extract the time from the dataframe\n",
        "A_25 = ... # Extract the concentration at 25C\n",
        "A_40 = ... # Extract the concentration at 40C\n",
        "A0_25 = ... # Set the initial concentration at 25C\n",
        "A0_40 = ... # Set the initial concentration at 40C"
      ],
      "id": "9a21742f"
    },
    {
      "cell_type": "markdown",
      "metadata": {},
      "source": [
        "> **Tip**\n",
        ">\n",
        "> You’ve already calculated the initial concentration, it is contained\n",
        "> in the `DataFrame`.\n",
        "\n",
        "Now we can use our plotting and fitting functions to analyze the data"
      ],
      "id": "50b90a9e-b469-4b8e-b2b1-7333fecb4447"
    },
    {
      "cell_type": "code",
      "execution_count": 88,
      "metadata": {
        "exercise": true
      },
      "outputs": [],
      "source": [
        "fig, axes = plt.subplots(2, 3, figsize=(8, 6), sharey='row', layout='constrained')\n",
        "\n",
        "for ax in axes.T:\n",
        "    plot_dataframe(ax[1], df)\n",
        "\n",
        "orders = [0, 1, 2]\n",
        "t_eval = np.linspace(0, t.max()*1.05)\n",
        "\n",
        "for ax_col, order in zip(axes.T, orders):\n",
        "    # Calculate the fits\n",
        "    k25, y_fit_25, residuals_25 = make_fit(t, A_25, t_eval, A0_25, order)\n",
        "    k40, y_fit_40, residuals_40 = make_fit(t, A_40, t_eval, A0_40, order)\n",
        "\n",
        "    # Plot the fits\n",
        "    ax = ax_col[1]\n",
        "    ax.plot(t_eval, y_fit_25, color='k')\n",
        "    ax.plot(t_eval, y_fit_40, color='k')\n",
        "    ax.text(0.05, 0.15, f'k (25 C) = {k25:.4f}', transform=ax.transAxes)\n",
        "    ax.text(0.05, 0.05, f'k (40 C) = {k40:.4f}', transform=ax.transAxes)\n",
        "\n",
        "    ax.legend()\n",
        "\n",
        "    # Plot the residuals\n",
        "    ax = ax_col[0]\n",
        "    ax.hist(residuals_25, facecolor='C0', alpha=0.75, edgecolor='k', label='25 C')\n",
        "    ax.hist(residuals_40, facecolor='C1', alpha=0.75, edgecolor='k', label='40 C')\n",
        "    ax.set_xlabel('Residual')    \n",
        "    ax.set_ylabel('Count')\n",
        "    ax.legend()\n",
        "\n",
        "    ax.set_title(f'Reaction order: {order}')"
      ],
      "id": "8759182b"
    },
    {
      "cell_type": "markdown",
      "metadata": {},
      "source": [
        "Based on these plots\n",
        "\n",
        "-   What do you think the reaction order of the reaction is?\n",
        "-   What’s the rate constant?\n",
        "-   What the unit of the rate constant?\n",
        "\n",
        "#### (f) Half-life\n",
        "\n",
        "What is the half-life of the reaction at these temperatures and is it\n",
        "constant through-out the reaction?\n",
        "\n",
        "#### (g) Activation energy\n",
        "\n",
        "With the assumption that the Arrhenius constant A and the activation\n",
        "energy are temperature independent in the interval measured, use the\n",
        "Arrhenius equation to calculate the activation energy of the\n",
        "isomerization of the compound A.\n",
        "\n",
        "Perform the calculation in the cell below."
      ],
      "id": "d7d77d32-1bd9-439c-9fc4-4d56eca3e677"
    },
    {
      "cell_type": "code",
      "execution_count": 90,
      "metadata": {},
      "outputs": [],
      "source": [
        "..."
      ],
      "id": "0ebe42db"
    },
    {
      "cell_type": "markdown",
      "metadata": {},
      "source": [
        "------------------------------------------------------------------------\n",
        "\n",
        "## The pH effect on an active site histidine residue\n",
        "\n",
        "Assume that a compound R can react with the unprotonated form of\n",
        "Histidine, $\\text{His}$, to form a covalent reaction product,\n",
        "$\\text{P}$: $$\n",
        "\\text{His} + \\text{R} \\rightarrow \\text{P}\n",
        "$$\n",
        "\n",
        "The protonated form of Histidine, $\\text{HisH}^+$, is in equilibrium\n",
        "with $\\text{His}$:\n",
        "\n",
        "$$\n",
        "\\text{HisH}^+ \\rightleftharpoons \\text{His} + \\text{H}^+\n",
        "$$\n",
        "\n",
        "The pKa value for this acid-base equilibrium is 6.0. Further assume that\n",
        "the total concentration of Histidine, is\n",
        "\n",
        "$$\n",
        "[\\text{HisH}^+] + [\\text{His}] = 10^{-3} \\ \\text{M}\n",
        "$$\n",
        "\n",
        "#### (a) Percentage unprotonated\n",
        "\n",
        "Using the Henderson-Hasselbach equation, calculate the percentage of\n",
        "unprotonated Histidine, $\\text{His}$, at pH 6.0."
      ],
      "id": "2ebaa32e-327f-4358-bfa4-cc1369bae122"
    },
    {
      "cell_type": "code",
      "execution_count": 91,
      "metadata": {
        "exercise": true
      },
      "outputs": [],
      "source": [
        "pKa = ...\n",
        "pH = ...\n",
        "\n",
        "... # Possible intermediate calculation, otherwise delete this line.\n",
        "\n",
        "percentage_unprotonated = ...\n",
        "print(f\"{percentage_unprotonated = } %\")"
      ],
      "id": "43130fa5"
    },
    {
      "cell_type": "markdown",
      "metadata": {},
      "source": [
        "#### (b) Concentration\n",
        "\n",
        "Calculate $[\\text{His}]$ at pH 6"
      ],
      "id": "d62be20e-8221-48b5-90a7-83fc78ca0087"
    },
    {
      "cell_type": "code",
      "execution_count": 93,
      "metadata": {
        "exercise": true
      },
      "outputs": [],
      "source": [
        "total_conc = ...\n",
        "his_conc = ...\n",
        "print(f\"{his_conc = } M\")"
      ],
      "id": "bc5db10b"
    },
    {
      "cell_type": "markdown",
      "metadata": {},
      "source": [
        "#### (c) Reaction order\n",
        "\n",
        "The reaction equation for the reaction between $\\text{His}$ and\n",
        "$\\text{R}$ is\n",
        "\n",
        "$$\n",
        "v = - \\frac{d[\\text{His}]}{dt} = k \\cdot [\\text{His}] \\cdot [\\text{R}]\n",
        "$$\n",
        "\n",
        "What’s the reaction order?\n",
        "\n",
        "#### (d) High concentrations\n",
        "\n",
        "If $[\\text{R}]$ is much higher than $[\\text{His}]$, what can then be\n",
        "concluded regarding the order of the reaction?\n",
        "\n",
        "#### (e) New rate constant\n",
        "\n",
        "Show how a new rate constant, $k'$, can be defined in these conditions.\n",
        "How does $k'$ depend on $\\text{R}$?\n",
        "\n",
        "#### (f) SI Units\n",
        "\n",
        "At pH 6.0 the reaction rate $v = 1 \\ \\text{mM}\\cdot \\text{s}^{-1}$ and\n",
        "constant $[\\text{R}] = 0.2 \\ \\text{M}$\n",
        "\n",
        "Convert the reaction rate to SI-units given in\n",
        "$\\text{M}\\cdot \\text{s}^{-1}$."
      ],
      "id": "a7cbab3b-4591-4550-bec2-b44b070aa1a3"
    },
    {
      "cell_type": "code",
      "execution_count": 95,
      "metadata": {},
      "outputs": [],
      "source": [
        "..."
      ],
      "id": "31339489"
    },
    {
      "cell_type": "markdown",
      "metadata": {},
      "source": [
        "#### (g) Calculate the rate constant\n",
        "\n",
        "Use the concentration of $[\\text{His}]$ at pH 6 calculated in question\n",
        "(b) and calculate the rate constant k."
      ],
      "id": "90b4383e-d11a-41e2-b9e4-b6206adec6a7"
    },
    {
      "cell_type": "code",
      "execution_count": 96,
      "metadata": {},
      "outputs": [],
      "source": [
        "..."
      ],
      "id": "ae3b5423"
    }
  ],
  "nbformat": 4,
  "nbformat_minor": 5,
  "metadata": {
    "kernelspec": {
      "name": "python3",
      "display_name": "Python 3 (ipykernel)",
      "language": "python",
      "path": "/home/runner/work/fysisk-biokemi/fysisk-biokemi/.venv/share/jupyter/kernels/python3"
    },
    "language_info": {
      "name": "python",
      "codemirror_mode": {
        "name": "ipython",
        "version": "3"
      },
      "file_extension": ".py",
      "mimetype": "text/x-python",
      "nbconvert_exporter": "python",
      "pygments_lexer": "ipython3",
      "version": "3.11.13"
    }
  }
}