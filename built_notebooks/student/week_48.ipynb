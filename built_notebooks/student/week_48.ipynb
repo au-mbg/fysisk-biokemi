{
  "cells": [
    {
      "cell_type": "markdown",
      "metadata": {},
      "source": [
        "# Week 47"
      ],
      "id": "8bde8e7c-8ded-49c6-8e2e-a838dcf7233e"
    },
    {
      "cell_type": "code",
      "execution_count": 2,
      "metadata": {},
      "outputs": [],
      "source": [
        "try:\n",
        "    import fysisk_biokemi\n",
        "    print(\"Already installed\")\n",
        "except ImportError:\n",
        "    %pip install -q \"fysisk_biokemi[colab] @ git+https://github.com/au-mbg/fysisk-biokemi.git\""
      ],
      "id": "ce2394a1"
    },
    {
      "cell_type": "markdown",
      "metadata": {},
      "source": [
        "------------------------------------------------------------------------\n",
        "\n",
        "## Qualitative description of Michaelis-Menten kinetics"
      ],
      "id": "e4154b01-b5b0-452d-931c-572450dc8097"
    },
    {
      "cell_type": "code",
      "execution_count": 3,
      "metadata": {},
      "outputs": [],
      "source": [
        "import fysisk_biokemi.widgets as fbw\n",
        "from fysisk_biokemi.widgets.utils import enable_custom_widget_colab, disable_custom_widget_colab\n",
        "\n",
        "import plotly\n",
        "from IPython.display import display, HTML\n",
        "enable_custom_widget_colab()\n",
        "fbw.michaelis_menten_demo()"
      ],
      "id": "d5e4e668"
    },
    {
      "cell_type": "markdown",
      "metadata": {},
      "source": [
        "Use the widget created by the cell above to answer the following the\n",
        "questions.\n",
        "\n",
        "#### (a)\n",
        "\n",
        "Setting $V_\\mathrm{max} = 400$ and $[E]_\\mathrm{tot} = 0.0005$, change\n",
        "$K_M$ from 0.5 to 5 to 10 to 50. Describe the change in curve appearance\n",
        "and explain it using the Michaelis-Menten (MM) equation.\n",
        "\n",
        "#### (b)\n",
        "\n",
        "What is the biological meaning of $K_M$?\n",
        "\n",
        "#### (c)\n",
        "\n",
        "Now set $[E]_\\mathrm{tot} = 0.0005$, and $K_M = 5$, change\n",
        "$V_\\mathrm{max}$ from 40 to 100 to 900. Do you observe any changes?\n",
        "Explain your answer using the widget and the MM equation\n",
        "\n",
        "#### (d)\n",
        "\n",
        "Now set $K_M = 5$ and $V_\\mathrm{max} = 100$, change $[E]_\\mathrm{tot}$\n",
        "from 0.0005 to 0.05. Do you observe any change in curve appearance, in\n",
        "kcat or in kcat/KM? Explain your answer\n",
        "\n",
        "------------------------------------------------------------------------\n",
        "\n",
        "#### The Michaelis Menten equation\n",
        "\n",
        "Consider a reaction catalyzed by an enzyme obeying the Michaelis-Menten\n",
        "kinetics model.\n",
        "\n",
        "$$\n",
        "E + S \\underset{k_{-1}}{\\stackrel{k_1}{\\rightleftharpoons}} ES \\stackrel{k_2}{\\rightarrow} E + P\n",
        "$$\n",
        "\n",
        "$$\n",
        "V_0 = V_{\\mathrm{max}} \\frac{[S]}{[S] + K_M}\n",
        "$$\n",
        "\n",
        "#### (a) Enzyme saturation\n",
        "\n",
        "Explain what is meant by enzyme saturation.\n",
        "\n",
        "#### (b)\n",
        "\n",
        "Calculate the level of enzyme saturation, $f_{ES}$, at substrate\n",
        "concentrations of\n",
        "\n",
        "-   $[S] = 0.1 \\cdot K_M$\n",
        "-   $[S] = 0.5 \\cdot K_M$\n",
        "-   $[S] = 1 \\cdot K_M$\n",
        "-   $[S] = 10 \\cdot K_M$\n",
        "-   $[S] = 100 \\cdot K_M$\n",
        "\n",
        "------------------------------------------------------------------------\n",
        "\n",
        "The Michaelis-Menten constant KM is defined as:\n",
        "\n",
        "$$\n",
        "K_M = \\frac{k_{-1}+ k_2}{k_1}\n",
        "$$\n",
        "\n",
        "#### (c) Calulate $K_m$\n",
        "\n",
        "In a specific reaction, the following rate constants were determined:\n",
        "\n",
        "-   $k_1 = 7 \\cdot 10^7 \\cdot \\mathrm{M}^{-1}\\cdot \\mathrm{s}^{-1}$,\n",
        "-   $k^{-1} = 8 \\cdot 10^5 \\ \\mathrm{s}^{-1}$\n",
        "-   $k_2 = 10^3 \\ \\mathrm{s}^{-1}$\n",
        "\n",
        "Calculate the value of $K_M$. Does $K_M$ approximate the dissociation\n",
        "constant for the $ES$ complex in this case?\n",
        "\n",
        "#### (d) Calculate $k_2$\n",
        "\n",
        "Assume that a solution of an enzyme at a concentration of\n",
        "$1 \\cdot 10^{-7} \\ \\mathrm{M}$ with a substrate concentration of\n",
        "$[S]=100\\cdot K_M$ has\n",
        "$V_0=10^{-4} \\ \\mathrm{M} \\cdot \\mathrm{min}^{-1}$\n",
        "\n",
        "Given this information and with your answers to (b) and (c) in mind,\n",
        "calculate the constant $k_2$. What is this constant also called?\n",
        "\n",
        "#### (e) Lineweaver-Burk plot\n",
        "\n",
        "The values of $V_\\mathrm{max}$ and $K_M$ have historically been\n",
        "determined from a Lineweaver-Burk plot.\n",
        "\n",
        "How does the x- and y-intercepts in a Lineweaver-Burk plot relate to\n",
        "$V_\\mathrm{max}$ and $K_M$?\n",
        "\n",
        "------------------------------------------------------------------------\n",
        "\n",
        "## Enzyme inhibitors (I)"
      ],
      "id": "d6b8a606-6114-4b94-b5f6-4ca8b7298a5c"
    },
    {
      "cell_type": "code",
      "execution_count": 4,
      "metadata": {},
      "outputs": [],
      "source": [
        "import matplotlib.pyplot as plt\n",
        "import pandas as pd\n",
        "from scipy.optimize import curve_fit\n",
        "pd.set_option('display.max_rows', 6)"
      ],
      "id": "7babc7d6"
    },
    {
      "cell_type": "markdown",
      "metadata": {},
      "source": [
        "An enzyme obeying the Michaelis-Menten kinetics model was tested for\n",
        "substrate conversion in the absence and presence of an inhibitor, called\n",
        "inhibitor1 at a concentration of\n",
        "$[\\textrm{I}] = 2.5 \\cdot 10^{-3} \\ \\textrm{M}$. The data set is\n",
        "contained in the file `week49_6_inhib.xlsx`. Using this data a\n",
        "researcher wanted to determine the type of inhibition.\n",
        "\n",
        "Start by loading the dataset"
      ],
      "id": "2a96e5ee-112f-4173-be26-266903eef93e"
    },
    {
      "cell_type": "code",
      "execution_count": 5,
      "metadata": {},
      "outputs": [],
      "source": [
        "from fysisk_biokemi.widgets import DataUploader\n",
        "from IPython.display import display \n",
        "uploader = DataUploader()\n",
        "uploader.display()"
      ],
      "id": "557fdfed"
    },
    {
      "cell_type": "markdown",
      "metadata": {},
      "source": [
        "Run the next cell **after** uploading the file"
      ],
      "id": "fe4d34dc-ae48-4f5f-9cc6-00c077cd9341"
    },
    {
      "cell_type": "code",
      "execution_count": 6,
      "metadata": {},
      "outputs": [],
      "source": [
        "df = uploader.get_dataframe()\n",
        "display(df)"
      ],
      "id": "38e3f1d4"
    },
    {
      "cell_type": "markdown",
      "metadata": {},
      "source": [
        "#### (a) Convert units\n",
        "\n",
        "Convert the concentrations of substrate and the initial velocities to\n",
        "units given in M and $\\mathrm{M}\\cdot \\mathrm{s}^{-1}$, respectively."
      ],
      "id": "8add3c2f-cf0a-4510-9805-e5f4bb7a3b12"
    },
    {
      "cell_type": "code",
      "execution_count": 8,
      "metadata": {
        "exercise": true
      },
      "outputs": [],
      "source": [
        "df['[S]_(M)'] = ...\n",
        "df['V0_no_inhib_(M/s)'] = ...\n",
        "... # This one you'll have to do all on your own.\n",
        "display(df)"
      ],
      "id": "49da3c7f"
    },
    {
      "cell_type": "markdown",
      "metadata": {},
      "source": [
        "#### (b) Plot\n",
        "\n",
        "Plot the initial velocities of both experiments as a function of\n",
        "substrate concentration in one plot. Estimate $k_\\mathrm{cat}$ and\n",
        "$V_\\mathrm{max}$ in the presence and absence of inhibitor from the plot."
      ],
      "id": "9b0463d6-2ca7-445e-bb15-0db97f743678"
    },
    {
      "cell_type": "code",
      "execution_count": 10,
      "metadata": {
        "exercise": true
      },
      "outputs": [],
      "source": [
        "fig, ax = plt.subplots(figsize=(6, 4))\n",
        "\n",
        "... # Your code for plotting here\n",
        "... # and here. \n",
        "\n",
        "ax.set_xlabel('[S] (M)')\n",
        "ax.set_ylabel('$V_0$ (M/s)')\n",
        "ax.legend()"
      ],
      "id": "007eb738"
    },
    {
      "cell_type": "markdown",
      "metadata": {},
      "source": [
        "------------------------------------------------------------------------\n",
        "\n",
        "The researcher wanted to determine $V_\\mathrm{max}$ and $K_M$ values for\n",
        "both experiments in order to correctly conclude on the type of\n",
        "inhibitor.\n",
        "\n",
        "#### (c)\n",
        "\n",
        "Determine $V_\\mathrm{max}$ and $K_M$ by fitting.\n",
        "\n",
        "Start writing the function to fit with"
      ],
      "id": "dbc151af-c299-444f-b77f-583479c3f86c"
    },
    {
      "cell_type": "code",
      "execution_count": 12,
      "metadata": {
        "exercise": true
      },
      "outputs": [],
      "source": [
        "def ...\n",
        "    ..."
      ],
      "id": "226ab1d3"
    },
    {
      "cell_type": "markdown",
      "metadata": {},
      "source": [
        "And use the `curve_fit`-function to find the parameters"
      ],
      "id": "eb7e73b9-6607-4701-b625-158b558cb1df"
    },
    {
      "cell_type": "code",
      "execution_count": 14,
      "metadata": {
        "exercise": true
      },
      "outputs": [],
      "source": [
        "popt, _ = ...\n",
        "vmax, km = popt\n",
        "\n",
        "# With inhibitor\n",
        "popt, _ = ...\n",
        "vmax_inhib, km_inhib = popt\n",
        "\n",
        "# Printing\n",
        "print('Without inhibitor:')\n",
        "print(f'\\t V_max = {vmax:.2e}')\n",
        "print(f'\\t Km = {km:.2e}')\n",
        "print('With inhibitor:')\n",
        "print(f'\\t V_max = {vmax_inhib:.2e}')\n",
        "print(f'\\t Km = {km_inhib:.2e}')"
      ],
      "id": "865f4b48"
    },
    {
      "cell_type": "markdown",
      "metadata": {},
      "source": [
        "#### (d)\n",
        "\n",
        "What type of inhibitor is inhibitor1?\n",
        "\n",
        "#### (e)\n",
        "\n",
        "Calculate $K_i$.  \n",
        "\n",
        "------------------------------------------------------------------------\n",
        "\n",
        "## Enzyme inhibitors (II)"
      ],
      "id": "e27a167c-2b6f-4afe-b0f0-f4f0b855bb03"
    },
    {
      "cell_type": "code",
      "execution_count": 16,
      "metadata": {},
      "outputs": [],
      "source": [
        "import matplotlib.pyplot as plt\n",
        "import pandas as pd\n",
        "from scipy.optimize import curve_fit\n",
        "pd.set_option('display.max_rows', 6)"
      ],
      "id": "50b8c5e6"
    },
    {
      "cell_type": "markdown",
      "metadata": {},
      "source": [
        "Two enzyme inhibitors were identified as part of a drug discovery\n",
        "program. To characterize the mechanism of action, the reaction kinetics\n",
        "were analysed for the enzyme alone and in the presence of 5 $\\mu$M of\n",
        "each of the inhibitors as a function of substrate concentration\n",
        "resulting in the data in the file `week49_7_inhib_II.xlsx`\n",
        "\n",
        "Load the dataset"
      ],
      "id": "492cdac5-7ef7-432a-b0f8-1a1d2183d646"
    },
    {
      "cell_type": "code",
      "execution_count": 17,
      "metadata": {},
      "outputs": [],
      "source": [
        "from fysisk_biokemi.widgets import DataUploader\n",
        "from IPython.display import display \n",
        "uploader = DataUploader()\n",
        "uploader.display()"
      ],
      "id": "14df488c"
    },
    {
      "cell_type": "markdown",
      "metadata": {},
      "source": [
        "Run the next cell **after** uploading the file"
      ],
      "id": "ba6b1a1c-30eb-49b9-bd27-7985bcd5fdc1"
    },
    {
      "cell_type": "code",
      "execution_count": 18,
      "metadata": {},
      "outputs": [],
      "source": [
        "df = uploader.get_dataframe()\n",
        "display(df)"
      ],
      "id": "3a91b289"
    },
    {
      "cell_type": "markdown",
      "metadata": {},
      "source": [
        "#### (a) Convert & plot\n",
        "\n",
        "Convert the measurements to SI units and plot the reaction rate against\n",
        "time for all three reactions.\n",
        "\n",
        "Start by converting the units"
      ],
      "id": "d1a92ef3-3820-49a1-a2f1-9a19cf9418c9"
    },
    {
      "cell_type": "code",
      "execution_count": 20,
      "metadata": {
        "exercise": true
      },
      "outputs": [],
      "source": [
        "... # Your code to convert units here."
      ],
      "id": "1bbe9d48"
    },
    {
      "cell_type": "markdown",
      "metadata": {},
      "source": [
        "And then plot"
      ],
      "id": "6dbecd82-dd7b-4f6a-96a4-37a8f01c92d3"
    },
    {
      "cell_type": "code",
      "execution_count": 22,
      "metadata": {
        "exercise": true
      },
      "outputs": [],
      "source": [
        "fig, ax = plt.subplots()\n",
        "\n",
        "col_names = ['enz_(M/s)', 'inhibitor2_(M/s)', 'inhibitor3_(M/s)']\n",
        "\n",
        "for col_name in col_names:\n",
        "    ax.plot(..., ..., 'o', label=col_name) # Replace ... with your code here. \n",
        "    \n",
        "ax.legend()\n",
        "ax.set_xlabel('Substrate concentration [M]', fontsize=14)\n",
        "ax.set_ylabel('$V_0$', fontsize=14)\n",
        "plt.show()"
      ],
      "id": "c5bd5ed0"
    },
    {
      "cell_type": "markdown",
      "metadata": {},
      "source": [
        "Based on the appearance of these plots:\n",
        "\n",
        "-   Can you determine the type of inhibition?\n",
        "-   Alternatively, can you exclude some mechanisms?\n",
        "\n",
        "#### (b) Intuit parameters\n",
        "\n",
        "Based on your answer to in (a) what do you expect for the parameters\n",
        "$K_M$ and $V_\\mathrm{max}$?\n",
        "\n",
        "-   Which dataset would have the highest $V_\\mathrm{max}$, which the\n",
        "    lowest?\n",
        "-   What about $K_M$?\n",
        "\n",
        "#### (c) Fit\n",
        "\n",
        "As always, we need the function we’re fitting with"
      ],
      "id": "0152f761-a9c8-4921-af48-1132ad9fa700"
    },
    {
      "cell_type": "code",
      "execution_count": 24,
      "metadata": {},
      "outputs": [],
      "source": [
        "def michaelis_menten(S, Vmax, Km):\n",
        "    return (Vmax * S) / (S + Km)"
      ],
      "id": "41ef6855"
    },
    {
      "cell_type": "markdown",
      "metadata": {},
      "source": [
        "Given we’re fitting on multiple datasets we will make our lives a bit\n",
        "easier by making a little function"
      ],
      "id": "dca377d3-52b5-457c-8f31-6801202a62e5"
    },
    {
      "cell_type": "code",
      "execution_count": 25,
      "metadata": {
        "exercise": true
      },
      "outputs": [],
      "source": [
        "def fit_parameters(df, col_name):\n",
        "    popt, _ = curve_fit(..., ..., ...) # Replace ... with your code.\n",
        "    vmax, km = popt\n",
        "    # Printing\n",
        "    print(f'{col_name}:')\n",
        "    print(f'\\t V_max = {vmax:.2e}')\n",
        "    print(f'\\t Km = {km:.2e}')"
      ],
      "id": "8881219b"
    },
    {
      "cell_type": "code",
      "execution_count": 27,
      "metadata": {
        "exercise": true
      },
      "outputs": [],
      "source": [
        "for col_name in col_names:\n",
        "    fit_parameters(df, col_name)"
      ],
      "id": "4e97fa25"
    },
    {
      "cell_type": "markdown",
      "metadata": {},
      "source": [
        "#### (d) Change\n",
        "\n",
        "In the fits above you will likely see that all the fitted parameters\n",
        "change between the different data sets – some by a little and some by a\n",
        "lot. How big does a change have to be to be considered significant?\n",
        "\n",
        "#### (e) $K_i$\n",
        "\n",
        "Determine the $K_i$ for each of the two inhibitors.\n",
        "\n",
        "------------------------------------------------------------------------\n",
        "\n",
        "## A snake dependent enzyme\n",
        "\n",
        "When (or *if* depending on your outlook in life) you are bit by a cobra,\n",
        "the snake protein CVF interacts with the human protein FB to form a\n",
        "proteolytically active enzyme in the blood called CVF:FB. CVF:FB enzyme\n",
        "is able to cleave another human protein known as C5 into C5b and C5a\n",
        "(C5a is the protein you visually inspected in your first PyMOL session).\n",
        "With C5 as a substrate, CVF:FB obeys the Michaelis-Menten kinetics\n",
        "model, whereas CVF alone does not show any catalytic activity towards\n",
        "C5.\n",
        "\n",
        "Now consider two different CVF proteins, CVF1 and CVF2 from two\n",
        "different cobra species. Upon characterization it was found that CVF1:FB\n",
        "has a $K_M = 0.036 \\ \\mu\\text{M}$ and a\n",
        "$k_{cat} = 0.43 \\ \\mathrm{min}^{-1}$, whereas CVF2:FB has a\n",
        "$K_M = 14 \\mu\\mathrm{M}$ and a $k_{cat} = 0.73 \\ \\mathrm{min}^{-1}$. The\n",
        "concentration of C5 in blood is $0.37 \\ \\mu\\mathrm{M}$.\n",
        "\n",
        "#### (a)\n",
        "\n",
        "Convert the given $K_M$ values and the C5 concentration to SI-units\n",
        "given in $\\mathrm{M}$"
      ],
      "id": "8c818f37-fe3b-4e3c-96fa-974cd7b46764"
    },
    {
      "cell_type": "code",
      "execution_count": 29,
      "metadata": {
        "exercise": true
      },
      "outputs": [],
      "source": [
        "# CVF1\n",
        "K_m_cvf1 = ...\n",
        "k_cat_cvf1 = ...\n",
        "\n",
        "# CVF2\n",
        "...\n",
        "...\n",
        "\n",
        "# Concentration\n",
        "C_c5 = ..."
      ],
      "id": "fa868bff"
    },
    {
      "cell_type": "markdown",
      "metadata": {},
      "source": [
        "#### (b)\n",
        "\n",
        "Assuming that \\[CVF1:FB\\] $=$ \\[CVF2:FB\\]\n",
        "$= 0.1\\cdot 10^{-6} \\ \\mathrm{M}$, calculate $V_\\mathrm{max}$ of both\n",
        "enzymes."
      ],
      "id": "65ad1891-be60-4e50-b1a0-4a502f45beac"
    },
    {
      "cell_type": "code",
      "execution_count": 31,
      "metadata": {
        "exercise": true
      },
      "outputs": [],
      "source": [
        "V_max_cfv1 = ...\n",
        "...\n",
        "\n",
        "print(f\"{V_max_cfv1 = :.3e}\")\n",
        "print(f\"{V_max_cfv2 = :.3e}\")"
      ],
      "id": "c83c8be0"
    },
    {
      "cell_type": "markdown",
      "metadata": {},
      "source": [
        "#### (c)\n",
        "\n",
        "Calculate the fraction of enzyme:substrate complexes (CVFx:FB:C5) in\n",
        "blood."
      ],
      "id": "b493d3c8-6037-477c-ab70-51b832a0ff09"
    },
    {
      "cell_type": "code",
      "execution_count": 33,
      "metadata": {
        "exercise": true
      },
      "outputs": [],
      "source": [
        "theta_cfv1 = ...\n",
        "theta_cfv2 = ...\n",
        "\n",
        "print(f\"{theta_cfv1 = :.3f}\")\n",
        "print(f\"{theta_cfv2 = :.3f}\")"
      ],
      "id": "fc50a313"
    },
    {
      "cell_type": "markdown",
      "metadata": {},
      "source": [
        "#### (d)\n",
        "\n",
        "Calculate the initial velocities of C5 cleavage in blood by the two\n",
        "enzymes."
      ],
      "id": "574c9369-7d52-485e-aebe-dccd3e3c56a4"
    },
    {
      "cell_type": "code",
      "execution_count": 35,
      "metadata": {
        "exercise": true
      },
      "outputs": [],
      "source": [
        "v0_cfv1 = ...\n",
        "v0_cfv2 = ...\n",
        "\n",
        "print(f\"{v0_cfv1 = :.3e}\")\n",
        "print(f\"{v0_cfv2 = :.3e}\")"
      ],
      "id": "3224ff7d"
    },
    {
      "cell_type": "markdown",
      "metadata": {},
      "source": [
        "#### (f)\n",
        "\n",
        "Which of the two enzymes, CVF1:FB or CVF2:FB, cleaves the most C5\n",
        "molecules in blood?\n",
        "\n",
        "------------------------------------------------------------------------\n",
        "\n",
        "## Enzymatic behaviour of the enzyme ATCase"
      ],
      "id": "92f63c06-36c0-4e27-acd3-dbea79430cc5"
    },
    {
      "cell_type": "code",
      "execution_count": 37,
      "metadata": {},
      "outputs": [],
      "source": [
        "import matplotlib.pyplot as plt"
      ],
      "id": "b2f60174"
    },
    {
      "cell_type": "markdown",
      "metadata": {},
      "source": [
        "The enzyme aspartate transcarbamoylase (ATCase) catalyzes the first\n",
        "reaction in the biosynthesis of pyrimidines such as CTP as shown in the\n",
        "reaction below:\n",
        "\n",
        "![](https://raw.githubusercontent.com/au-mbg/fysisk-biokemi/refs/heads/main/lessons/figures/atcase.png)\n",
        "\n",
        "ATCase does not obey the Michaelis-Menten kinetics model but instead\n",
        "shows the behaviour recorded in the `atcase_enzyme.csv` dataset.\n",
        "\n",
        "The dataset consists of three columns; the aspartate concentration in mM\n",
        "and the rate of formation of N-carbamyolaspartate with and without the\n",
        "presence of CTP.\n",
        "\n",
        "Load the dataset with the widget below"
      ],
      "id": "84c5da68-f8fe-4510-bf8a-5d39a25759db"
    },
    {
      "cell_type": "code",
      "execution_count": 38,
      "metadata": {},
      "outputs": [],
      "source": [
        "from fysisk_biokemi.widgets import DataUploader\n",
        "from IPython.display import display \n",
        "uploader = DataUploader()\n",
        "uploader.display()"
      ],
      "id": "3d40d6c4"
    },
    {
      "cell_type": "markdown",
      "metadata": {},
      "source": [
        "Run the next cell **after** uploading the file"
      ],
      "id": "e4ebb04b-cb2e-4293-ae10-1829b81deb1d"
    },
    {
      "cell_type": "code",
      "execution_count": 39,
      "metadata": {},
      "outputs": [],
      "source": [
        "df = uploader.get_dataframe()\n",
        "display(df)"
      ],
      "id": "fbd5930f"
    },
    {
      "cell_type": "markdown",
      "metadata": {},
      "source": [
        "#### (a) Plot the dataset"
      ],
      "id": "19276d63-758b-4933-a73e-7403cf94327b"
    },
    {
      "cell_type": "code",
      "execution_count": 41,
      "metadata": {
        "exercise": true
      },
      "outputs": [],
      "source": [
        "fig, ax = plt.subplots()\n",
        "\n",
        "... # Put some code here\n",
        "... # And here\n",
        "\n",
        "ax.set_xlabel('[Aspartate] (mM)')\n",
        "ax.set_ylabel('Rate of formation')\n",
        "ax.set_yticklabels([]);"
      ],
      "id": "126cb348"
    },
    {
      "cell_type": "markdown",
      "metadata": {},
      "source": [
        "#### (b) Kinetic profile\n",
        "\n",
        "Describe the kinetic profile of ATCase and explain what it tells us\n",
        "about the way ATCase works. (You may find inspiration in the material\n",
        "previously covered on protein-ligand interactions)\n",
        "\n",
        "#### (c) Quarternary structure\n",
        "\n",
        "What does the figure tell us about the quaternary structure of ATCase?\n",
        "\n",
        "#### (d) DNA synthesis\n",
        "\n",
        "Which other pyrimidine based trinucleotide besides CTP is used to\n",
        "synthesize DNA?\n",
        "\n",
        "#### (e) Effect of CTP\n",
        "\n",
        "Qualitatively describe the effect of CTP on the rate of\n",
        "N-carbamyolaspartate formation\n",
        "\n",
        "#### (f) Physiological advantage\n",
        "\n",
        "In fact many enzymes are regulated by certain end products in a fashion\n",
        "similar to the CTP effect on ATCase. Can you explain why this might be a\n",
        "physiological advantage?"
      ],
      "id": "b2bf4b39-b33d-4d2e-869f-33caef445d79"
    }
  ],
  "nbformat": 4,
  "nbformat_minor": 5,
  "metadata": {
    "kernelspec": {
      "name": "python3",
      "display_name": "Python 3 (ipykernel)",
      "language": "python",
      "path": "/home/runner/work/fysisk-biokemi/fysisk-biokemi/.venv/share/jupyter/kernels/python3"
    },
    "language_info": {
      "name": "python",
      "codemirror_mode": {
        "name": "ipython",
        "version": "3"
      },
      "file_extension": ".py",
      "mimetype": "text/x-python",
      "nbconvert_exporter": "python",
      "pygments_lexer": "ipython3",
      "version": "3.11.13"
    }
  }
}