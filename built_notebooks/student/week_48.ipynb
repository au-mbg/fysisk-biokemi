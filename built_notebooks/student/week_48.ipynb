{
  "cells": [
    {
      "cell_type": "markdown",
      "metadata": {},
      "source": [
        "# Week 48"
      ],
      "id": "8996d770-0ef4-43b3-98d5-f344ff25be0d"
    },
    {
      "cell_type": "code",
      "execution_count": 2,
      "metadata": {},
      "outputs": [],
      "source": [
        "try:\n",
        "    import fysisk_biokemi\n",
        "    print(\"Already installed\")\n",
        "except ImportError:\n",
        "    %pip install -q \"fysisk_biokemi[colab] @ git+https://github.com/au-mbg/fysisk-biokemi.git\""
      ],
      "id": "c65bb2f2"
    },
    {
      "cell_type": "markdown",
      "metadata": {},
      "source": [
        "------------------------------------------------------------------------\n",
        "\n",
        "## 1 Qualitative description of Michaelis-Menten kinetics"
      ],
      "id": "cf83f241-83c3-4b07-a890-0ec35fe0c3ee"
    },
    {
      "cell_type": "code",
      "execution_count": 3,
      "metadata": {},
      "outputs": [],
      "source": [
        "import fysisk_biokemi.widgets as fbw\n",
        "from fysisk_biokemi.widgets.utils import enable_custom_widget_colab, disable_custom_widget_colab\n",
        "\n",
        "import plotly\n",
        "from IPython.display import display, HTML\n",
        "enable_custom_widget_colab()\n",
        "fbw.michaelis_menten_demo()"
      ],
      "id": "fcae05b4"
    },
    {
      "cell_type": "markdown",
      "metadata": {},
      "source": [
        "Use the widget created by the cell above to answer the following the\n",
        "questions.\n",
        "\n",
        "#### (a)\n",
        "\n",
        "Setting $V_\\mathrm{max} = 400$ and $[E]_\\mathrm{tot} = 0.0005$, change\n",
        "$K_M$ from 0.5 to 5 to 10 to 50. Describe the change in curve appearance\n",
        "and explain it using the Michaelis-Menten (MM) equation.\n",
        "\n",
        "#### (b)\n",
        "\n",
        "What is the biological meaning of $K_M$?\n",
        "\n",
        "#### (c)\n",
        "\n",
        "Now set $[E]_\\mathrm{tot} = 0.0005$, and $K_M = 5$, change\n",
        "$V_\\mathrm{max}$ from 40 to 100 to 900. Do you observe any changes?\n",
        "Explain your answer using the widget and the MM equation\n",
        "\n",
        "#### (d)\n",
        "\n",
        "Now set $K_M = 5$ and $V_\\mathrm{max} = 100$, change $[E]_\\mathrm{tot}$\n",
        "from 0.0005 to 0.05. Do you observe any change in curve appearance, in\n",
        "$k_\\mathrm{cat}$ or in $k_\\mathrm{cat}/K_M$? Explain your answer\n",
        "\n",
        "------------------------------------------------------------------------\n",
        "\n",
        "## 2 The Michaelis Menten equation\n",
        "\n",
        "Consider a reaction catalyzed by an enzyme obeying the Michaelis-Menten\n",
        "kinetics model.\n",
        "\n",
        "$$\n",
        "E + S \\underset{k_{-1}}{\\stackrel{k_1}{\\rightleftharpoons}} ES \\stackrel{k_2}{\\rightarrow} E + P\n",
        "$$\n",
        "\n",
        "$$\n",
        "V_0 = V_{\\mathrm{max}} \\frac{[S]}{[S] + K_M}\n",
        "$$\n",
        "\n",
        "#### (a) Enzyme saturation\n",
        "\n",
        "Explain what is meant by enzyme saturation.\n",
        "\n",
        "#### (b)\n",
        "\n",
        "Calculate the level of enzyme saturation, $f_{ES}$, at substrate\n",
        "concentrations of\n",
        "\n",
        "-   $[S] = 0.1 \\cdot K_M$\n",
        "-   $[S] = 0.5 \\cdot K_M$\n",
        "-   $[S] = 1 \\cdot K_M$\n",
        "-   $[S] = 10 \\cdot K_M$\n",
        "-   $[S] = 100 \\cdot K_M$"
      ],
      "id": "29dbd87a-5afc-401e-85b4-dbf80813bdf7"
    },
    {
      "cell_type": "code",
      "execution_count": 4,
      "metadata": {},
      "outputs": [],
      "source": [
        "... # Calculate here"
      ],
      "id": "07f5ec2f"
    },
    {
      "cell_type": "markdown",
      "metadata": {},
      "source": [
        "------------------------------------------------------------------------\n",
        "\n",
        "The Michaelis-Menten constant KM is defined as:\n",
        "\n",
        "$$\n",
        "K_M = \\frac{k_{-1}+ k_2}{k_1}\n",
        "$$\n",
        "\n",
        "#### (c) Calulate $K_m$\n",
        "\n",
        "In a specific reaction, the following rate constants were determined:\n",
        "\n",
        "-   $k_1 = 7 \\cdot 10^7 \\cdot \\mathrm{M}^{-1}\\cdot \\mathrm{s}^{-1}$,\n",
        "-   $k^{-1} = 8 \\cdot 10^5 \\ \\mathrm{s}^{-1}$\n",
        "-   $k_2 = 10^3 \\ \\mathrm{s}^{-1}$\n",
        "\n",
        "Calculate the value of $K_M$. Does $K_M$ approximate the dissociation\n",
        "constant for the $ES$ complex in this case?"
      ],
      "id": "99817040-af6c-4902-a052-29a3c9f5b1b7"
    },
    {
      "cell_type": "code",
      "execution_count": 5,
      "metadata": {},
      "outputs": [],
      "source": [
        "... # Calculate here"
      ],
      "id": "1ca73654"
    },
    {
      "cell_type": "markdown",
      "metadata": {},
      "source": [
        "#### (d) Calculate $k_2$\n",
        "\n",
        "Assume that a solution of an enzyme at a concentration of\n",
        "$1 \\cdot 10^{-7} \\ \\mathrm{M}$ with a substrate concentration of\n",
        "$[S]=100\\cdot K_M$ has\n",
        "$V_0=10^{-4} \\ \\mathrm{M} \\cdot \\mathrm{min}^{-1}$\n",
        "\n",
        "Given this information and with your answers to (b) and (c) in mind,\n",
        "calculate the constant $k_2$. What is this constant also called?"
      ],
      "id": "059748cb-0bdd-464c-a2b1-ce8c406d8c78"
    },
    {
      "cell_type": "code",
      "execution_count": 6,
      "metadata": {},
      "outputs": [],
      "source": [
        "... # Calculate here"
      ],
      "id": "37d71bae"
    },
    {
      "cell_type": "markdown",
      "metadata": {},
      "source": [
        "#### (e) Lineweaver-Burk plot\n",
        "\n",
        "The values of $V_\\mathrm{max}$ and $K_M$ have historically been\n",
        "determined from a Lineweaver-Burk plot.\n",
        "\n",
        "How does the x- and y-intercepts in a Lineweaver-Burk plot relate to\n",
        "$V_\\mathrm{max}$ and $K_M$?\n",
        "\n",
        "------------------------------------------------------------------------\n",
        "\n",
        "## 3 Enzyme inhibitors (I)"
      ],
      "id": "7911367d-217e-46e5-a1f2-7b8ce954d52d"
    },
    {
      "cell_type": "code",
      "execution_count": 7,
      "metadata": {},
      "outputs": [],
      "source": [
        "import matplotlib.pyplot as plt\n",
        "import pandas as pd\n",
        "from scipy.optimize import curve_fit\n",
        "pd.set_option('display.max_rows', 6)"
      ],
      "id": "81741e05"
    },
    {
      "cell_type": "markdown",
      "metadata": {},
      "source": [
        "An enzyme obeying the Michaelis-Menten kinetics model was tested for\n",
        "substrate conversion in the absence and presence of an inhibitor, called\n",
        "inhibitor1 at a concentration of\n",
        "$[\\textrm{I}] = 2.5 \\cdot 10^{-3} \\ \\textrm{M}$. The data set is\n",
        "contained in the file `enzyme-inhib-i.xlsx`. Using this data a\n",
        "researcher wanted to determine the type of inhibition.\n",
        "\n",
        "Start by loading the dataset"
      ],
      "id": "f5a2e1b6-ee6d-4b8f-a5c9-c126eb6d3d07"
    },
    {
      "cell_type": "code",
      "execution_count": 8,
      "metadata": {},
      "outputs": [],
      "source": [
        "from fysisk_biokemi.widgets import DataUploader\n",
        "from IPython.display import display \n",
        "uploader = DataUploader()\n",
        "uploader.display()"
      ],
      "id": "fe5f6ce4"
    },
    {
      "cell_type": "markdown",
      "metadata": {},
      "source": [
        "Run the next cell **after** uploading the file"
      ],
      "id": "143ef763-07c2-4921-96c2-2d40ec5b1ee6"
    },
    {
      "cell_type": "code",
      "execution_count": 9,
      "metadata": {},
      "outputs": [],
      "source": [
        "df = uploader.get_dataframe()\n",
        "display(df)"
      ],
      "id": "e89cf86c"
    },
    {
      "cell_type": "markdown",
      "metadata": {},
      "source": [
        "#### (a) Convert units\n",
        "\n",
        "Convert the concentrations of substrate and the initial velocities to\n",
        "units given in M and $\\mathrm{M}\\cdot \\mathrm{s}^{-1}$, respectively."
      ],
      "id": "cc3837e9-c855-4861-a9c3-05fdc5e6715e"
    },
    {
      "cell_type": "code",
      "execution_count": 11,
      "metadata": {
        "exercise": true
      },
      "outputs": [],
      "source": [
        "df['[S]_(M)'] = ...\n",
        "df['V0_no_inhib_(M/s)'] = ...\n",
        "... # This one you'll have to do all on your own.\n",
        "display(df)"
      ],
      "id": "546c5a4d"
    },
    {
      "cell_type": "markdown",
      "metadata": {},
      "source": [
        "#### (b) Plot\n",
        "\n",
        "Plot the initial velocities of both experiments as a function of\n",
        "substrate concentration in one plot. Estimate $k_\\mathrm{cat}$ and\n",
        "$V_\\mathrm{max}$ in the presence and absence of inhibitor from the plot."
      ],
      "id": "da27c741-c1d2-4e02-8915-892457b74a32"
    },
    {
      "cell_type": "code",
      "execution_count": 13,
      "metadata": {
        "exercise": true
      },
      "outputs": [],
      "source": [
        "fig, ax = plt.subplots(figsize=(6, 4))\n",
        "\n",
        "... # Your code for plotting here\n",
        "... # and here. \n",
        "\n",
        "ax.set_xlabel('[S] (M)')\n",
        "ax.set_ylabel('$V_0$ (M/s)')\n",
        "ax.legend()"
      ],
      "id": "2de80676"
    },
    {
      "cell_type": "markdown",
      "metadata": {},
      "source": [
        "------------------------------------------------------------------------\n",
        "\n",
        "The researcher wanted to determine $V_\\mathrm{max}$ and $K_M$ values for\n",
        "both experiments in order to correctly conclude on the type of\n",
        "inhibitor.\n",
        "\n",
        "#### (c)\n",
        "\n",
        "Determine $V_\\mathrm{max}$ and $K_M$ by fitting.\n",
        "\n",
        "Start writing the function to fit with"
      ],
      "id": "5715cb17-1297-4f55-8289-ab7bf15cdba3"
    },
    {
      "cell_type": "code",
      "execution_count": 15,
      "metadata": {
        "exercise": true
      },
      "outputs": [],
      "source": [
        "def ...\n",
        "    ..."
      ],
      "id": "4d72af60"
    },
    {
      "cell_type": "markdown",
      "metadata": {},
      "source": [
        "And use the `curve_fit`-function to find the parameters"
      ],
      "id": "cec0838c-488b-42cb-a481-e3cba1ee122d"
    },
    {
      "cell_type": "code",
      "execution_count": 17,
      "metadata": {
        "exercise": true
      },
      "outputs": [],
      "source": [
        "popt, _ = ...\n",
        "vmax, km = popt\n",
        "\n",
        "# With inhibitor\n",
        "popt, _ = ...\n",
        "vmax_inhib, km_inhib = popt\n",
        "\n",
        "# Printing\n",
        "print('Without inhibitor:')\n",
        "print(f'\\t V_max = {vmax:.2e}')\n",
        "print(f'\\t Km = {km:.2e}')\n",
        "print('With inhibitor:')\n",
        "print(f'\\t V_max = {vmax_inhib:.2e}')\n",
        "print(f'\\t Km = {km_inhib:.2e}')"
      ],
      "id": "1f39b24c"
    },
    {
      "cell_type": "markdown",
      "metadata": {},
      "source": [
        "#### (d)\n",
        "\n",
        "What type of inhibitor is inhibitor1?\n",
        "\n",
        "#### (e)\n",
        "\n",
        "Calculate $K_i$.  \n",
        "\n",
        "------------------------------------------------------------------------\n",
        "\n",
        "## 4 Enzyme inhibitors (II)"
      ],
      "id": "c9c1b7a8-3fb8-445b-bbf8-c3cd1068e960"
    },
    {
      "cell_type": "code",
      "execution_count": 19,
      "metadata": {},
      "outputs": [],
      "source": [
        "import matplotlib.pyplot as plt\n",
        "import pandas as pd\n",
        "from scipy.optimize import curve_fit\n",
        "pd.set_option('display.max_rows', 6)"
      ],
      "id": "b6f7a1e1"
    },
    {
      "cell_type": "markdown",
      "metadata": {},
      "source": [
        "Two enzyme inhibitors were identified as part of a drug discovery\n",
        "program. To characterize the mechanism of action, the reaction kinetics\n",
        "were analysed for the enzyme alone and in the presence of 5 $\\mu$M of\n",
        "each of the inhibitors as a function of substrate concentration\n",
        "resulting in the data in the file `enzyme-inhib-ii.xlsx`\n",
        "\n",
        "Load the dataset"
      ],
      "id": "72a95719-29af-400c-a7fe-4924ad19d57a"
    },
    {
      "cell_type": "code",
      "execution_count": 20,
      "metadata": {},
      "outputs": [],
      "source": [
        "from fysisk_biokemi.widgets import DataUploader\n",
        "from IPython.display import display \n",
        "uploader = DataUploader()\n",
        "uploader.display()"
      ],
      "id": "19bfad2c"
    },
    {
      "cell_type": "markdown",
      "metadata": {},
      "source": [
        "Run the next cell **after** uploading the file"
      ],
      "id": "930cdc72-c040-4af3-bf8e-c8fb6160473d"
    },
    {
      "cell_type": "code",
      "execution_count": 21,
      "metadata": {},
      "outputs": [],
      "source": [
        "df = uploader.get_dataframe()\n",
        "display(df)"
      ],
      "id": "c5dc4511"
    },
    {
      "cell_type": "markdown",
      "metadata": {},
      "source": [
        "#### (a) Convert & plot\n",
        "\n",
        "Convert the measurements to SI units and plot the reaction rate against\n",
        "time for all three reactions.\n",
        "\n",
        "Start by converting the units"
      ],
      "id": "54c3b5d2-f442-4f36-9b88-4ffeeda89d4f"
    },
    {
      "cell_type": "code",
      "execution_count": 23,
      "metadata": {
        "exercise": true
      },
      "outputs": [],
      "source": [
        "... # Your code to convert units here."
      ],
      "id": "884c898c"
    },
    {
      "cell_type": "markdown",
      "metadata": {},
      "source": [
        "And then plot"
      ],
      "id": "e811e723-8361-4576-ba00-72c120412f78"
    },
    {
      "cell_type": "code",
      "execution_count": 25,
      "metadata": {
        "exercise": true
      },
      "outputs": [],
      "source": [
        "fig, ax = plt.subplots()\n",
        "\n",
        "col_names = ['enz_(M/s)', 'inhibitor2_(M/s)', 'inhibitor3_(M/s)']\n",
        "\n",
        "for col_name in col_names:\n",
        "    ax.plot(..., ..., 'o', label=col_name) # Replace ... with your code here. \n",
        "    \n",
        "ax.legend()\n",
        "ax.set_xlabel('Substrate concentration [M]', fontsize=14)\n",
        "ax.set_ylabel('$V_0$', fontsize=14)\n",
        "plt.show()"
      ],
      "id": "fe465add"
    },
    {
      "cell_type": "markdown",
      "metadata": {},
      "source": [
        "Based on the appearance of these plots:\n",
        "\n",
        "-   Can you determine the type of inhibition?\n",
        "-   Alternatively, can you exclude some mechanisms?\n",
        "\n",
        "#### (b) Intuit parameters\n",
        "\n",
        "Based on your answer to in (a) what do you expect for the parameters\n",
        "$K_M$ and $V_\\mathrm{max}$?\n",
        "\n",
        "-   Which dataset would have the highest $V_\\mathrm{max}$, which the\n",
        "    lowest?\n",
        "-   What about $K_M$?\n",
        "\n",
        "#### (c) Fit\n",
        "\n",
        "As always, we need the function we’re fitting with"
      ],
      "id": "7a66981f-68f7-40eb-aa16-8a32b3b35bfe"
    },
    {
      "cell_type": "code",
      "execution_count": 27,
      "metadata": {},
      "outputs": [],
      "source": [
        "def michaelis_menten(S, Vmax, Km):\n",
        "    return (Vmax * S) / (S + Km)"
      ],
      "id": "e67b3ae5"
    },
    {
      "cell_type": "markdown",
      "metadata": {},
      "source": [
        "Given we’re fitting on multiple datasets we will make our lives a bit\n",
        "easier by making a little function"
      ],
      "id": "13ec4d9a-029e-4d0e-b801-e418c47c19a0"
    },
    {
      "cell_type": "code",
      "execution_count": 28,
      "metadata": {
        "exercise": true
      },
      "outputs": [],
      "source": [
        "def fit_parameters(df, col_name):\n",
        "    popt, _ = curve_fit(..., ..., ...) # Replace ... with your code.\n",
        "    vmax, km = popt\n",
        "    # Printing\n",
        "    print(f'{col_name}:')\n",
        "    print(f'\\t V_max = {vmax:.2e}')\n",
        "    print(f'\\t Km = {km:.2e}')"
      ],
      "id": "90c38bcc"
    },
    {
      "cell_type": "code",
      "execution_count": 30,
      "metadata": {
        "exercise": true
      },
      "outputs": [],
      "source": [
        "for col_name in col_names:\n",
        "    fit_parameters(df, col_name)"
      ],
      "id": "9fa679db"
    },
    {
      "cell_type": "markdown",
      "metadata": {},
      "source": [
        "#### (d) Change\n",
        "\n",
        "In the fits above you will likely see that all the fitted parameters\n",
        "change between the different data sets – some by a little and some by a\n",
        "lot. How big does a change have to be to be considered significant?\n",
        "\n",
        "#### (e) $K_i$\n",
        "\n",
        "Determine the $K_i$ for each of the two inhibitors.\n",
        "\n",
        "------------------------------------------------------------------------\n",
        "\n",
        "## 5 A snake dependent enzyme\n",
        "\n",
        "When (or *if* depending on your outlook in life) you are bit by a cobra,\n",
        "the snake protein CVF interacts with the human protein FB to form a\n",
        "proteolytically active enzyme in the blood called CVF:FB. CVF:FB enzyme\n",
        "is able to cleave another human protein known as C5 into C5b and C5a\n",
        "(C5a is the protein you visually inspected in your first PyMOL session).\n",
        "With C5 as a substrate, CVF:FB obeys the Michaelis-Menten kinetics\n",
        "model, whereas CVF alone does not show any catalytic activity towards\n",
        "C5.\n",
        "\n",
        "Now consider two different CVF proteins, CVF1 and CVF2 from two\n",
        "different cobra species. Upon characterization it was found that CVF1:FB\n",
        "has a $K_M = 0.036 \\ \\mu\\text{M}$ and a\n",
        "$k_{cat} = 0.43 \\ \\mathrm{min}^{-1}$, whereas CVF2:FB has a\n",
        "$K_M = 14 \\mu\\mathrm{M}$ and a $k_{cat} = 0.73 \\ \\mathrm{min}^{-1}$. The\n",
        "concentration of C5 in blood is $0.37 \\ \\mu\\mathrm{M}$.\n",
        "\n",
        "#### (a)\n",
        "\n",
        "Convert the given $K_M$ values and the C5 concentration to SI-units\n",
        "given in $\\mathrm{M}$"
      ],
      "id": "5d3d4add-29ec-4d8e-bbd2-66cd88e68de6"
    },
    {
      "cell_type": "code",
      "execution_count": 32,
      "metadata": {
        "exercise": true
      },
      "outputs": [],
      "source": [
        "# CVF1\n",
        "K_m_cvf1 = ...\n",
        "k_cat_cvf1 = ...\n",
        "\n",
        "# CVF2\n",
        "...\n",
        "...\n",
        "\n",
        "# Concentration\n",
        "C_c5 = ..."
      ],
      "id": "23d4690b"
    },
    {
      "cell_type": "markdown",
      "metadata": {},
      "source": [
        "#### (b)\n",
        "\n",
        "Assuming that \\[CVF1:FB\\] $=$ \\[CVF2:FB\\]\n",
        "$= 0.1\\cdot 10^{-6} \\ \\mathrm{M}$, calculate $V_\\mathrm{max}$ of both\n",
        "enzymes."
      ],
      "id": "a250a502-10c4-4533-9d94-562228ff1128"
    },
    {
      "cell_type": "code",
      "execution_count": 34,
      "metadata": {
        "exercise": true
      },
      "outputs": [],
      "source": [
        "V_max_cfv1 = ...\n",
        "...\n",
        "\n",
        "print(f\"{V_max_cfv1 = :.3e}\")\n",
        "print(f\"{V_max_cfv2 = :.3e}\")"
      ],
      "id": "754fa83d"
    },
    {
      "cell_type": "markdown",
      "metadata": {},
      "source": [
        "#### (c)\n",
        "\n",
        "Calculate the fraction of enzyme:substrate complexes (CVFx:FB:C5) in\n",
        "blood."
      ],
      "id": "dfbf64ad-28fd-4c0b-bd48-96ef017a5565"
    },
    {
      "cell_type": "code",
      "execution_count": 36,
      "metadata": {
        "exercise": true
      },
      "outputs": [],
      "source": [
        "theta_cfv1 = ...\n",
        "theta_cfv2 = ...\n",
        "\n",
        "print(f\"{theta_cfv1 = :.3f}\")\n",
        "print(f\"{theta_cfv2 = :.3f}\")"
      ],
      "id": "9ea7fcb4"
    },
    {
      "cell_type": "markdown",
      "metadata": {},
      "source": [
        "#### (d)\n",
        "\n",
        "Calculate the initial velocities of C5 cleavage in blood by the two\n",
        "enzymes."
      ],
      "id": "72f2f9f6-e157-4006-8cd1-451070b2b9cd"
    },
    {
      "cell_type": "code",
      "execution_count": 38,
      "metadata": {
        "exercise": true
      },
      "outputs": [],
      "source": [
        "v0_cfv1 = ...\n",
        "v0_cfv2 = ...\n",
        "\n",
        "print(f\"{v0_cfv1 = :.3e}\")\n",
        "print(f\"{v0_cfv2 = :.3e}\")"
      ],
      "id": "949ef757"
    },
    {
      "cell_type": "markdown",
      "metadata": {},
      "source": [
        "#### (f)\n",
        "\n",
        "Which of the two enzymes, CVF1:FB or CVF2:FB, cleaves the most C5\n",
        "molecules in blood?\n",
        "\n",
        "------------------------------------------------------------------------\n",
        "\n",
        "## 6 Enzymatic behaviour of the enzyme ATCase"
      ],
      "id": "4206027f-a5fe-4af6-bb4f-791b0f840052"
    },
    {
      "cell_type": "code",
      "execution_count": 40,
      "metadata": {},
      "outputs": [],
      "source": [
        "import matplotlib.pyplot as plt\n",
        "from scipy.optimize import curve_fit\n",
        "import numpy as np\n",
        "import pandas as pd"
      ],
      "id": "12936408"
    },
    {
      "cell_type": "markdown",
      "metadata": {},
      "source": [
        "The enzyme aspartate transcarbamoylase (ATCase) catalyzes the first\n",
        "reaction in the biosynthesis of pyrimidines such as CTP as shown in the\n",
        "reaction below:\n",
        "\n",
        "![](https://raw.githubusercontent.com/au-mbg/fysisk-biokemi/refs/heads/main/course/lessons/figures/atcase.png)\n",
        "\n",
        "ATCase does not obey the Michaelis-Menten kinetics model but instead\n",
        "shows the behaviour recorded in the `enzyme-behav-atcase.csv` dataset.\n",
        "\n",
        "The dataset consists of three columns; the aspartate concentration in mM\n",
        "and the rate of formation of N-carbamyolaspartate with and without the\n",
        "presence of CTP.\n",
        "\n",
        "Load the dataset with the widget below"
      ],
      "id": "643b0c4f-8228-484c-adb7-a93372669bb8"
    },
    {
      "cell_type": "code",
      "execution_count": 41,
      "metadata": {},
      "outputs": [],
      "source": [
        "from fysisk_biokemi.widgets import DataUploader\n",
        "from IPython.display import display \n",
        "uploader = DataUploader()\n",
        "uploader.display()"
      ],
      "id": "44e9775a"
    },
    {
      "cell_type": "markdown",
      "metadata": {},
      "source": [
        "Run the next cell **after** uploading the file"
      ],
      "id": "f65feb3f-1e53-455f-acab-0daea8c334ac"
    },
    {
      "cell_type": "code",
      "execution_count": 42,
      "metadata": {},
      "outputs": [],
      "source": [
        "df = uploader.get_dataframe()\n",
        "display(df)"
      ],
      "id": "50a4f548"
    },
    {
      "cell_type": "markdown",
      "metadata": {},
      "source": [
        "#### (a) Plot the dataset"
      ],
      "id": "75f61cb9-8307-4ce1-a44e-bc4aeb68fddc"
    },
    {
      "cell_type": "code",
      "execution_count": 44,
      "metadata": {
        "exercise": true
      },
      "outputs": [],
      "source": [
        "fig, ax = plt.subplots()\n",
        "\n",
        "... # Put some code here\n",
        "... # And here\n",
        "\n",
        "ax.set_xlabel('[Aspartate] (mM)')\n",
        "ax.set_ylabel('Rate of formation')\n",
        "ax.set_yticklabels([]);"
      ],
      "id": "54eb58a6"
    },
    {
      "cell_type": "markdown",
      "metadata": {},
      "source": [
        "#### (b) Kinetic profile\n",
        "\n",
        "Describe the kinetic profile of ATCase and explain what it tells us\n",
        "about the way ATCase works. (You may find inspiration in the material\n",
        "previously covered on protein-ligand interactions)\n",
        "\n",
        "#### (c) Quarternary structure\n",
        "\n",
        "What does the figure tell us about the quaternary structure of ATCase?\n",
        "\n",
        "#### (d) DNA synthesis\n",
        "\n",
        "Which other pyrimidine based trinucleotide besides CTP is used to\n",
        "synthesize DNA?\n",
        "\n",
        "#### (e) Effect of CTP\n",
        "\n",
        "Qualitatively describe the effect of CTP on the rate of\n",
        "N-carbamyolaspartate formation\n",
        "\n",
        "#### (f) Physiological advantage\n",
        "\n",
        "In fact many enzymes are regulated by certain end products in a fashion\n",
        "similar to the CTP effect on ATCase. Can you explain why this might be a\n",
        "physiological advantage?\n",
        "\n",
        "#### Hill coefficient\n",
        "\n",
        "Use regression to determine the Hill coefficient for each of the\n",
        "datasets. Recall that the Hill equation is,\n",
        "\n",
        "$$\n",
        "\\theta = \\frac{[L]^n}{K_d + [L]^n}\n",
        "$$\n",
        "\n",
        "As usual start by writing a function implementing this equation"
      ],
      "id": "f7222ee4-8132-4ce6-b026-87fcc33eb5f0"
    },
    {
      "cell_type": "code",
      "execution_count": 46,
      "metadata": {},
      "outputs": [],
      "source": [
        "def hill_eq(L, Kd, n):\n",
        "    return L**n / (Kd + L**n)"
      ],
      "id": "ce0ebe3d"
    },
    {
      "cell_type": "markdown",
      "metadata": {},
      "source": [
        "And then make the fit for each dataset"
      ],
      "id": "96d5f7a1-cfef-4a23-ba8c-759d2d66e9fa"
    },
    {
      "cell_type": "code",
      "execution_count": 47,
      "metadata": {
        "exercise": true
      },
      "outputs": [],
      "source": [
        "# We start by massaging the data into the right units etc.\n",
        "L_M = df['aspartate'] * 10**(-3) # Convert to SI units in M.\n",
        "\n",
        "# For the dataset with ctp we need to discard the elements that are NaN / not measured.\n",
        "indices = np.argwhere(df['with_ctp'].notna()).flatten() # Don't worry too much about how this works - it just finds the indices of the non empty elements. \n",
        "L_M_ctp = L_M[indices]\n",
        "theta_ctp = df['with_ctp'][indices]\n",
        "\n",
        "# Then we're ready to fit\n",
        "pcov, _ = ...\n",
        "pcov_ctp, _ = ...\n",
        "Kd, n = pcov\n",
        "Kd_ctp, n_ctp = pcov_ctp\n",
        "\n",
        "# Print\n",
        "print('Without CTP')\n",
        "print(f'   K_d = {Kd:.3e}')\n",
        "print(f'   n = {n:.3f}')\n",
        "print('With CTP')\n",
        "print(f'   K_d = {Kd_ctp:.3e}')\n",
        "print(f'   n = {n_ctp:.3f}')"
      ],
      "id": "2e9d7877"
    },
    {
      "cell_type": "markdown",
      "metadata": {},
      "source": [
        "Then we can plot"
      ],
      "id": "226dd693-6279-4792-87f8-9da0dfa0e708"
    },
    {
      "cell_type": "code",
      "execution_count": 49,
      "metadata": {
        "exercise": true
      },
      "outputs": [],
      "source": [
        "fig, ax = plt.subplots(figsize=(7, 4))\n",
        "\n",
        "L_smooth = np.linspace(0, L_M.max())\n",
        "theta_fit = hill_eq(L_smooth, Kd, n)\n",
        "theta_ctp_fit = hill_eq(L_smooth, Kd_ctp, n_ctp)\n",
        "\n",
        "ax.plot(L_M, df['without_ctp'], 'o', label='No CTP')\n",
        "ax.plot(L_smooth, theta_fit, 'k')\n",
        "\n",
        "ax.plot(L_M_ctp, theta_ctp, 'o', label='With CTP')\n",
        "ax.plot(L_smooth, theta_ctp_fit, 'k')\n",
        "\n",
        "ax.set_xlabel('[Aspartate] (M)')\n",
        "ax.set_ylabel('Rate of formation')"
      ],
      "id": "471c62bd"
    }
  ],
  "nbformat": 4,
  "nbformat_minor": 5,
  "metadata": {
    "kernelspec": {
      "name": "python3",
      "display_name": "Python 3 (ipykernel)",
      "language": "python",
      "path": "/home/runner/work/fysisk-biokemi/fysisk-biokemi/.venv/share/jupyter/kernels/python3"
    },
    "language_info": {
      "name": "python",
      "codemirror_mode": {
        "name": "ipython",
        "version": "3"
      },
      "file_extension": ".py",
      "mimetype": "text/x-python",
      "nbconvert_exporter": "python",
      "pygments_lexer": "ipython3",
      "version": "3.11.13"
    }
  }
}