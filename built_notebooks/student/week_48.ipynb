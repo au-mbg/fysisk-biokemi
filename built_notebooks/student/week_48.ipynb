{
  "cells": [
    {
      "cell_type": "markdown",
      "metadata": {},
      "source": [
        "# Week 48"
      ],
      "id": "19af878d-44ad-4fc0-9676-48841d8217d9"
    },
    {
      "cell_type": "code",
      "execution_count": 2,
      "metadata": {},
      "outputs": [],
      "source": [
        "try:\n",
        "    import fysisk_biokemi\n",
        "    print(\"Already installed\")\n",
        "except ImportError:\n",
        "    %pip install -q \"fysisk_biokemi[colab] @ git+https://github.com/au-mbg/fysisk-biokemi.git\""
      ],
      "id": "9aca4b2c"
    },
    {
      "cell_type": "markdown",
      "metadata": {},
      "source": [
        "------------------------------------------------------------------------\n",
        "\n",
        "## 1 Qualitative description of Michaelis-Menten kinetics"
      ],
      "id": "2b159f37-557e-4033-a727-a2dd4bd13c19"
    },
    {
      "cell_type": "code",
      "execution_count": 3,
      "metadata": {},
      "outputs": [],
      "source": [
        "import fysisk_biokemi.widgets as fbw\n",
        "from fysisk_biokemi.widgets.utils import enable_custom_widget_colab, disable_custom_widget_colab\n",
        "\n",
        "import plotly\n",
        "from IPython.display import display, HTML\n",
        "enable_custom_widget_colab()\n",
        "fbw.michaelis_menten_demo()"
      ],
      "id": "9c22ba5c"
    },
    {
      "cell_type": "markdown",
      "metadata": {},
      "source": [
        "Use the widget created by the cell above to answer the following the\n",
        "questions.\n",
        "\n",
        "#### (a)\n",
        "\n",
        "Setting $V_\\mathrm{max} = 400$ and $[E]_\\mathrm{tot} = 0.0005$, change\n",
        "$K_M$ from 0.5 to 5 to 10 to 50. Describe the change in curve appearance\n",
        "and explain it using the Michaelis-Menten (MM) equation.\n",
        "\n",
        "#### (b)\n",
        "\n",
        "What is the biological meaning of $K_M$?\n",
        "\n",
        "#### (c)\n",
        "\n",
        "Now set $[E]_\\mathrm{tot} = 0.0005$, and $K_M = 5$, change\n",
        "$V_\\mathrm{max}$ from 40 to 100 to 900. Do you observe any changes?\n",
        "Explain your answer using the widget and the MM equation\n",
        "\n",
        "#### (d)\n",
        "\n",
        "Now set $K_M = 5$ and $V_\\mathrm{max} = 100$, change $[E]_\\mathrm{tot}$\n",
        "from 0.0005 to 0.05. Do you observe any change in curve appearance, in\n",
        "$k_\\mathrm{cat}$ or in $k_\\mathrm{cat}/K_M$? Explain your answer\n",
        "\n",
        "------------------------------------------------------------------------\n",
        "\n",
        "## 2 The Michaelis Menten equation\n",
        "\n",
        "Consider a reaction catalyzed by an enzyme obeying the Michaelis-Menten\n",
        "kinetics model.\n",
        "\n",
        "$$\n",
        "E + S \\underset{k_{-1}}{\\stackrel{k_1}{\\rightleftharpoons}} ES \\stackrel{k_2}{\\rightarrow} E + P\n",
        "$$\n",
        "\n",
        "$$\n",
        "V_0 = V_{\\mathrm{max}} \\frac{[S]}{[S] + K_M}\n",
        "$$\n",
        "\n",
        "#### (a) Enzyme saturation\n",
        "\n",
        "Explain what is meant by enzyme saturation.\n",
        "\n",
        "#### (b)\n",
        "\n",
        "Calculate the level of enzyme saturation, $f_{ES}$, at substrate\n",
        "concentrations of\n",
        "\n",
        "-   $[S] = 0.1 \\cdot K_M$\n",
        "-   $[S] = 0.5 \\cdot K_M$\n",
        "-   $[S] = 1 \\cdot K_M$\n",
        "-   $[S] = 10 \\cdot K_M$\n",
        "-   $[S] = 100 \\cdot K_M$"
      ],
      "id": "6a79f988-c4ad-4099-8704-19e1ea2c8ce8"
    },
    {
      "cell_type": "code",
      "execution_count": 4,
      "metadata": {},
      "outputs": [],
      "source": [
        "... # Calculate here"
      ],
      "id": "a37ca584"
    },
    {
      "cell_type": "markdown",
      "metadata": {},
      "source": [
        "------------------------------------------------------------------------\n",
        "\n",
        "The Michaelis-Menten constant KM is defined as:\n",
        "\n",
        "$$\n",
        "K_M = \\frac{k_{-1}+ k_2}{k_1}\n",
        "$$\n",
        "\n",
        "#### (c) Calulate $K_m$\n",
        "\n",
        "In a specific reaction, the following rate constants were determined:\n",
        "\n",
        "-   $k_1 = 7 \\cdot 10^7 \\cdot \\mathrm{M}^{-1}\\cdot \\mathrm{s}^{-1}$,\n",
        "-   $k^{-1} = 8 \\cdot 10^5 \\ \\mathrm{s}^{-1}$\n",
        "-   $k_2 = 10^3 \\ \\mathrm{s}^{-1}$\n",
        "\n",
        "Calculate the value of $K_M$. Does $K_M$ approximate the dissociation\n",
        "constant for the $ES$ complex in this case?"
      ],
      "id": "83eec506-f676-459f-bfa1-0951eafc6426"
    },
    {
      "cell_type": "code",
      "execution_count": 5,
      "metadata": {},
      "outputs": [],
      "source": [
        "... # Calculate here"
      ],
      "id": "cfdfd0ee"
    },
    {
      "cell_type": "markdown",
      "metadata": {},
      "source": [
        "#### (d) Calculate $k_2$\n",
        "\n",
        "Assume that a solution of an enzyme at a concentration of\n",
        "$1 \\cdot 10^{-7} \\ \\mathrm{M}$ with a substrate concentration of\n",
        "$[S]=100\\cdot K_M$ has\n",
        "$V_0=10^{-4} \\ \\mathrm{M} \\cdot \\mathrm{min}^{-1}$\n",
        "\n",
        "Given this information and with your answers to (b) and (c) in mind,\n",
        "calculate the constant $k_2$. What is this constant also called?"
      ],
      "id": "93283d1f-7578-4685-859e-a94ce4b243a8"
    },
    {
      "cell_type": "code",
      "execution_count": 6,
      "metadata": {},
      "outputs": [],
      "source": [
        "... # Calculate here"
      ],
      "id": "83a8a717"
    },
    {
      "cell_type": "markdown",
      "metadata": {},
      "source": [
        "#### (e) Lineweaver-Burk plot\n",
        "\n",
        "The values of $V_\\mathrm{max}$ and $K_M$ have historically been\n",
        "determined from a Lineweaver-Burk plot.\n",
        "\n",
        "How does the x- and y-intercepts in a Lineweaver-Burk plot relate to\n",
        "$V_\\mathrm{max}$ and $K_M$?\n",
        "\n",
        "------------------------------------------------------------------------\n",
        "\n",
        "## 3 Enzyme inhibitors (I)"
      ],
      "id": "00f1fbac-f5c1-45d4-8337-6c80cca7a1a6"
    },
    {
      "cell_type": "code",
      "execution_count": 7,
      "metadata": {},
      "outputs": [],
      "source": [
        "import matplotlib.pyplot as plt\n",
        "import pandas as pd\n",
        "from scipy.optimize import curve_fit\n",
        "pd.set_option('display.max_rows', 6)"
      ],
      "id": "f9b47272"
    },
    {
      "cell_type": "markdown",
      "metadata": {},
      "source": [
        "An enzyme obeying the Michaelis-Menten kinetics model was tested for\n",
        "substrate conversion in the absence and presence of an inhibitor, called\n",
        "inhibitor1 at a concentration of\n",
        "$[\\textrm{I}] = 2.5 \\cdot 10^{-3} \\ \\textrm{M}$. The data set is\n",
        "contained in the file `enzyme-inhib-i.xlsx`. Using this data a\n",
        "researcher wanted to determine the type of inhibition.\n",
        "\n",
        "Start by loading the dataset"
      ],
      "id": "8449399f-955c-4970-982d-abbdb10d7118"
    },
    {
      "cell_type": "code",
      "execution_count": 8,
      "metadata": {},
      "outputs": [],
      "source": [
        "from fysisk_biokemi.widgets import DataUploader\n",
        "from IPython.display import display \n",
        "uploader = DataUploader()\n",
        "uploader.display()"
      ],
      "id": "52ea574f"
    },
    {
      "cell_type": "markdown",
      "metadata": {},
      "source": [
        "Run the next cell **after** uploading the file"
      ],
      "id": "6c0ba65f-1faf-4a89-bcd7-f3eba18f8191"
    },
    {
      "cell_type": "code",
      "execution_count": 9,
      "metadata": {},
      "outputs": [],
      "source": [
        "df = uploader.get_dataframe()\n",
        "display(df)"
      ],
      "id": "f3d8e4c2"
    },
    {
      "cell_type": "markdown",
      "metadata": {},
      "source": [
        "#### (a) Convert units\n",
        "\n",
        "Convert the concentrations of substrate and the initial velocities to\n",
        "units given in M and $\\mathrm{M}\\cdot \\mathrm{s}^{-1}$, respectively."
      ],
      "id": "b13bca59-9742-4e73-beb0-7105a2c96c4c"
    },
    {
      "cell_type": "code",
      "execution_count": 11,
      "metadata": {
        "exercise": true
      },
      "outputs": [],
      "source": [
        "df['[S]_(M)'] = ...\n",
        "df['V0_no_inhib_(M/s)'] = ...\n",
        "... # This one you'll have to do all on your own.\n",
        "display(df)"
      ],
      "id": "40eda2be"
    },
    {
      "cell_type": "markdown",
      "metadata": {},
      "source": [
        "#### (b) Plot\n",
        "\n",
        "Plot the initial velocities of both experiments as a function of\n",
        "substrate concentration in one plot. Estimate $k_\\mathrm{cat}$ and\n",
        "$V_\\mathrm{max}$ in the presence and absence of inhibitor from the plot."
      ],
      "id": "4b2c9701-de9d-4917-9507-765035765534"
    },
    {
      "cell_type": "code",
      "execution_count": 13,
      "metadata": {
        "exercise": true
      },
      "outputs": [],
      "source": [
        "fig, ax = plt.subplots(figsize=(6, 4))\n",
        "\n",
        "... # Your code for plotting here\n",
        "... # and here. \n",
        "\n",
        "ax.set_xlabel('[S] (M)')\n",
        "ax.set_ylabel('$V_0$ (M/s)')\n",
        "ax.legend()"
      ],
      "id": "4295fb3f"
    },
    {
      "cell_type": "markdown",
      "metadata": {},
      "source": [
        "------------------------------------------------------------------------\n",
        "\n",
        "The researcher wanted to determine $V_\\mathrm{max}$ and $K_M$ values for\n",
        "both experiments in order to correctly conclude on the type of\n",
        "inhibitor.\n",
        "\n",
        "#### (c)\n",
        "\n",
        "Determine $V_\\mathrm{max}$ and $K_M$ by fitting.\n",
        "\n",
        "Start writing the function to fit with"
      ],
      "id": "902a3aa7-340d-4a94-ab47-0854ab000cf2"
    },
    {
      "cell_type": "code",
      "execution_count": 15,
      "metadata": {
        "exercise": true
      },
      "outputs": [],
      "source": [
        "def ...\n",
        "    ..."
      ],
      "id": "27712de4"
    },
    {
      "cell_type": "markdown",
      "metadata": {},
      "source": [
        "And use the `curve_fit`-function to find the parameters"
      ],
      "id": "b06e9f4d-3fcd-4939-8c8e-c1af964ef1b8"
    },
    {
      "cell_type": "code",
      "execution_count": 17,
      "metadata": {
        "exercise": true
      },
      "outputs": [],
      "source": [
        "popt, _ = ...\n",
        "vmax, km = popt\n",
        "\n",
        "# With inhibitor\n",
        "popt, _ = ...\n",
        "vmax_inhib, km_inhib = popt\n",
        "\n",
        "# Printing\n",
        "print('Without inhibitor:')\n",
        "print(f'\\t V_max = {vmax:.2e}')\n",
        "print(f'\\t Km = {km:.2e}')\n",
        "print('With inhibitor:')\n",
        "print(f'\\t V_max = {vmax_inhib:.2e}')\n",
        "print(f'\\t Km = {km_inhib:.2e}')"
      ],
      "id": "966156d6"
    },
    {
      "cell_type": "markdown",
      "metadata": {},
      "source": [
        "#### (d)\n",
        "\n",
        "What type of inhibitor is inhibitor1?\n",
        "\n",
        "#### (e)\n",
        "\n",
        "Calculate $K_i$.  \n",
        "\n",
        "------------------------------------------------------------------------\n",
        "\n",
        "## 4 Enzyme inhibitors (II)"
      ],
      "id": "c3c768f8-5c8e-475c-abda-f72dfa96494f"
    },
    {
      "cell_type": "code",
      "execution_count": 19,
      "metadata": {},
      "outputs": [],
      "source": [
        "import matplotlib.pyplot as plt\n",
        "import pandas as pd\n",
        "from scipy.optimize import curve_fit\n",
        "pd.set_option('display.max_rows', 6)"
      ],
      "id": "8af07907"
    },
    {
      "cell_type": "markdown",
      "metadata": {},
      "source": [
        "Two enzyme inhibitors were identified as part of a drug discovery\n",
        "program. To characterize the mechanism of action, the reaction kinetics\n",
        "were analysed for the enzyme alone and in the presence of 5 $\\mu$M of\n",
        "each of the inhibitors as a function of substrate concentration\n",
        "resulting in the data in the file `enzyme-inhib-ii.xlsx`\n",
        "\n",
        "Load the dataset"
      ],
      "id": "86951d53-1e0b-4602-bec8-c3866150b2d6"
    },
    {
      "cell_type": "code",
      "execution_count": 20,
      "metadata": {},
      "outputs": [],
      "source": [
        "from fysisk_biokemi.widgets import DataUploader\n",
        "from IPython.display import display \n",
        "uploader = DataUploader()\n",
        "uploader.display()"
      ],
      "id": "e3c360a4"
    },
    {
      "cell_type": "markdown",
      "metadata": {},
      "source": [
        "Run the next cell **after** uploading the file"
      ],
      "id": "9deaa545-71f7-4f6f-b44d-f90e3972f99d"
    },
    {
      "cell_type": "code",
      "execution_count": 21,
      "metadata": {},
      "outputs": [],
      "source": [
        "df = uploader.get_dataframe()\n",
        "display(df)"
      ],
      "id": "2a29b8a3"
    },
    {
      "cell_type": "markdown",
      "metadata": {},
      "source": [
        "#### (a) Convert & plot\n",
        "\n",
        "Convert the measurements to SI units and plot the reaction rate against\n",
        "time for all three reactions.\n",
        "\n",
        "Start by converting the units"
      ],
      "id": "c8cdfc30-7f85-419d-be8c-4c5e7e3f7dc0"
    },
    {
      "cell_type": "code",
      "execution_count": 23,
      "metadata": {
        "exercise": true
      },
      "outputs": [],
      "source": [
        "... # Your code to convert units here."
      ],
      "id": "4a4ceecb"
    },
    {
      "cell_type": "markdown",
      "metadata": {},
      "source": [
        "And then plot"
      ],
      "id": "0bff09cb-c71f-44d5-92f5-6b63e3ed6360"
    },
    {
      "cell_type": "code",
      "execution_count": 25,
      "metadata": {
        "exercise": true
      },
      "outputs": [],
      "source": [
        "fig, ax = plt.subplots()\n",
        "\n",
        "col_names = ['enz_(M/s)', 'inhibitor2_(M/s)', 'inhibitor3_(M/s)']\n",
        "\n",
        "for col_name in col_names:\n",
        "    ax.plot(..., ..., 'o', label=col_name) # Replace ... with your code here. \n",
        "    \n",
        "ax.legend()\n",
        "ax.set_xlabel('Substrate concentration [M]', fontsize=14)\n",
        "ax.set_ylabel('$V_0$', fontsize=14)\n",
        "plt.show()"
      ],
      "id": "a4f0958f"
    },
    {
      "cell_type": "markdown",
      "metadata": {},
      "source": [
        "Based on the appearance of these plots:\n",
        "\n",
        "-   Can you determine the type of inhibition?\n",
        "-   Alternatively, can you exclude some mechanisms?\n",
        "\n",
        "#### (b) Intuit parameters\n",
        "\n",
        "Based on your answer to in (a) what do you expect for the parameters\n",
        "$K_M$ and $V_\\mathrm{max}$?\n",
        "\n",
        "-   Which dataset would have the highest $V_\\mathrm{max}$, which the\n",
        "    lowest?\n",
        "-   What about $K_M$?\n",
        "\n",
        "#### (c) Fit\n",
        "\n",
        "As always, we need the function we’re fitting with"
      ],
      "id": "66525498-92ae-48bc-9dd6-0d219711ec69"
    },
    {
      "cell_type": "code",
      "execution_count": 27,
      "metadata": {},
      "outputs": [],
      "source": [
        "def michaelis_menten(S, Vmax, Km):\n",
        "    return (Vmax * S) / (S + Km)"
      ],
      "id": "6fdab14c"
    },
    {
      "cell_type": "markdown",
      "metadata": {},
      "source": [
        "Given we’re fitting on multiple datasets we will make our lives a bit\n",
        "easier by making a little function"
      ],
      "id": "7f04afb8-e3d9-4ede-b047-2d00b6a23f08"
    },
    {
      "cell_type": "code",
      "execution_count": 28,
      "metadata": {
        "exercise": true
      },
      "outputs": [],
      "source": [
        "def fit_parameters(df, col_name):\n",
        "    popt, _ = curve_fit(..., ..., ...) # Replace ... with your code.\n",
        "    vmax, km = popt\n",
        "    # Printing\n",
        "    print(f'{col_name}:')\n",
        "    print(f'\\t V_max = {vmax:.2e}')\n",
        "    print(f'\\t Km = {km:.2e}')"
      ],
      "id": "4fc571ad"
    },
    {
      "cell_type": "code",
      "execution_count": 30,
      "metadata": {
        "exercise": true
      },
      "outputs": [],
      "source": [
        "for col_name in col_names:\n",
        "    fit_parameters(df, col_name)"
      ],
      "id": "7eb04452"
    },
    {
      "cell_type": "markdown",
      "metadata": {},
      "source": [
        "#### (d) Change\n",
        "\n",
        "In the fits above you will likely see that all the fitted parameters\n",
        "change between the different data sets – some by a little and some by a\n",
        "lot. How big does a change have to be to be considered significant?\n",
        "\n",
        "#### (e) $K_i$\n",
        "\n",
        "Determine the $K_i$ for each of the two inhibitors.\n",
        "\n",
        "------------------------------------------------------------------------\n",
        "\n",
        "## 5 A snake dependent enzyme\n",
        "\n",
        "When (or *if* depending on your outlook in life) you are bit by a cobra,\n",
        "the snake protein CVF interacts with the human protein FB to form a\n",
        "proteolytically active enzyme in the blood called CVF:FB. CVF:FB enzyme\n",
        "is able to cleave another human protein known as C5 into C5b and C5a\n",
        "(C5a is the protein you visually inspected in your first PyMOL session).\n",
        "With C5 as a substrate, CVF:FB obeys the Michaelis-Menten kinetics\n",
        "model, whereas CVF alone does not show any catalytic activity towards\n",
        "C5.\n",
        "\n",
        "Now consider two different CVF proteins, CVF1 and CVF2 from two\n",
        "different cobra species. Upon characterization it was found that CVF1:FB\n",
        "has a $K_M = 0.036 \\ \\mu\\text{M}$ and a\n",
        "$k_{cat} = 0.43 \\ \\mathrm{min}^{-1}$, whereas CVF2:FB has a\n",
        "$K_M = 14 \\mu\\mathrm{M}$ and a $k_{cat} = 0.73 \\ \\mathrm{min}^{-1}$. The\n",
        "concentration of C5 in blood is $0.37 \\ \\mu\\mathrm{M}$.\n",
        "\n",
        "#### (a)\n",
        "\n",
        "Convert the given $K_M$ values and the C5 concentration to SI-units\n",
        "given in $\\mathrm{M}$"
      ],
      "id": "675b470a-b29d-4a3f-a3b9-5c8794219775"
    },
    {
      "cell_type": "code",
      "execution_count": 32,
      "metadata": {
        "exercise": true
      },
      "outputs": [],
      "source": [
        "# CVF1\n",
        "K_m_cvf1 = ...\n",
        "k_cat_cvf1 = ...\n",
        "\n",
        "# CVF2\n",
        "...\n",
        "...\n",
        "\n",
        "# Concentration\n",
        "C_c5 = ..."
      ],
      "id": "50337bd4"
    },
    {
      "cell_type": "markdown",
      "metadata": {},
      "source": [
        "#### (b)\n",
        "\n",
        "Assuming that \\[CVF1:FB\\] $=$ \\[CVF2:FB\\]\n",
        "$= 0.1\\cdot 10^{-6} \\ \\mathrm{M}$, calculate $V_\\mathrm{max}$ of both\n",
        "enzymes."
      ],
      "id": "a8a06999-d292-4bf3-acf2-1b341ba730da"
    },
    {
      "cell_type": "code",
      "execution_count": 34,
      "metadata": {
        "exercise": true
      },
      "outputs": [],
      "source": [
        "V_max_cfv1 = ...\n",
        "...\n",
        "\n",
        "print(f\"{V_max_cfv1 = :.3e}\")\n",
        "print(f\"{V_max_cfv2 = :.3e}\")"
      ],
      "id": "2ae31fe4"
    },
    {
      "cell_type": "markdown",
      "metadata": {},
      "source": [
        "#### (c)\n",
        "\n",
        "Calculate the fraction of enzyme:substrate complexes (CVFx:FB:C5) in\n",
        "blood."
      ],
      "id": "0021e4b3-f771-456c-9164-d239cf921073"
    },
    {
      "cell_type": "code",
      "execution_count": 36,
      "metadata": {
        "exercise": true
      },
      "outputs": [],
      "source": [
        "theta_cfv1 = ...\n",
        "theta_cfv2 = ...\n",
        "\n",
        "print(f\"{theta_cfv1 = :.3f}\")\n",
        "print(f\"{theta_cfv2 = :.3f}\")"
      ],
      "id": "efc27c8b"
    },
    {
      "cell_type": "markdown",
      "metadata": {},
      "source": [
        "#### (d)\n",
        "\n",
        "Calculate the initial velocities of C5 cleavage in blood by the two\n",
        "enzymes."
      ],
      "id": "4b0bafe4-c7e9-430b-97bb-94ad8e4e0971"
    },
    {
      "cell_type": "code",
      "execution_count": 38,
      "metadata": {
        "exercise": true
      },
      "outputs": [],
      "source": [
        "v0_cfv1 = ...\n",
        "v0_cfv2 = ...\n",
        "\n",
        "print(f\"{v0_cfv1 = :.3e}\")\n",
        "print(f\"{v0_cfv2 = :.3e}\")"
      ],
      "id": "e8c72e3b"
    },
    {
      "cell_type": "markdown",
      "metadata": {},
      "source": [
        "#### (f)\n",
        "\n",
        "Which of the two enzymes, CVF1:FB or CVF2:FB, cleaves the most C5\n",
        "molecules in blood?\n",
        "\n",
        "------------------------------------------------------------------------\n",
        "\n",
        "## 6 Enzymatic behaviour of the enzyme ATCase"
      ],
      "id": "b84a830c-65f3-471b-8afb-1f2ab3733cbd"
    },
    {
      "cell_type": "code",
      "execution_count": 40,
      "metadata": {},
      "outputs": [],
      "source": [
        "import matplotlib.pyplot as plt\n",
        "from scipy.optimize import curve_fit\n",
        "import numpy as np\n",
        "import pandas as pd"
      ],
      "id": "3168758c"
    },
    {
      "cell_type": "markdown",
      "metadata": {},
      "source": [
        "The enzyme aspartate transcarbamoylase (ATCase) catalyzes the first\n",
        "reaction in the biosynthesis of pyrimidines such as CTP as shown in the\n",
        "reaction below:\n",
        "\n",
        "![](https://raw.githubusercontent.com/au-mbg/fysisk-biokemi/refs/heads/main/course/lessons/figures/atcase.png)\n",
        "\n",
        "ATCase does not obey the Michaelis-Menten kinetics model but instead\n",
        "shows the behaviour recorded in the `enzyme-behav-atcase.csv` dataset.\n",
        "\n",
        "The dataset consists of three columns; the aspartate concentration in mM\n",
        "and the rate of formation of N-carbamyolaspartate with and without the\n",
        "presence of CTP.\n",
        "\n",
        "Load the dataset with the widget below"
      ],
      "id": "afda83ad-59c9-473d-934b-6112f029f003"
    },
    {
      "cell_type": "code",
      "execution_count": 41,
      "metadata": {},
      "outputs": [],
      "source": [
        "from fysisk_biokemi.widgets import DataUploader\n",
        "from IPython.display import display \n",
        "uploader = DataUploader()\n",
        "uploader.display()"
      ],
      "id": "b5aadcbb"
    },
    {
      "cell_type": "markdown",
      "metadata": {},
      "source": [
        "Run the next cell **after** uploading the file"
      ],
      "id": "475963b5-0069-4b3f-8597-bd2a97d11f5c"
    },
    {
      "cell_type": "code",
      "execution_count": 42,
      "metadata": {},
      "outputs": [],
      "source": [
        "df = uploader.get_dataframe()\n",
        "display(df)"
      ],
      "id": "cdd98164"
    },
    {
      "cell_type": "markdown",
      "metadata": {},
      "source": [
        "#### (a) Plot the dataset"
      ],
      "id": "8cbc6c36-383e-465a-9c1a-766b404ce95f"
    },
    {
      "cell_type": "code",
      "execution_count": 44,
      "metadata": {
        "exercise": true
      },
      "outputs": [],
      "source": [
        "fig, ax = plt.subplots()\n",
        "\n",
        "... # Put some code here\n",
        "... # And here\n",
        "\n",
        "ax.set_xlabel('[Aspartate] (mM)')\n",
        "ax.set_ylabel('Rate of formation')\n",
        "ax.set_yticklabels([]);"
      ],
      "id": "39b4b425"
    },
    {
      "cell_type": "markdown",
      "metadata": {},
      "source": [
        "#### (b) Kinetic profile\n",
        "\n",
        "Describe the kinetic profile of ATCase and explain what it tells us\n",
        "about the way ATCase works. (You may find inspiration in the material\n",
        "previously covered on protein-ligand interactions)\n",
        "\n",
        "#### (c) Quarternary structure\n",
        "\n",
        "What does the figure tell us about the quaternary structure of ATCase?\n",
        "\n",
        "#### (d) DNA synthesis\n",
        "\n",
        "Which other pyrimidine based trinucleotide besides CTP is used to\n",
        "synthesize DNA?\n",
        "\n",
        "#### (e) Effect of CTP\n",
        "\n",
        "Qualitatively describe the effect of CTP on the rate of\n",
        "N-carbamyolaspartate formation\n",
        "\n",
        "#### (f) Physiological advantage\n",
        "\n",
        "In fact many enzymes are regulated by certain end products in a fashion\n",
        "similar to the CTP effect on ATCase. Can you explain why this might be a\n",
        "physiological advantage?\n",
        "\n",
        "#### Hill coefficient\n",
        "\n",
        "Use regression to determine the Hill coefficient for each of the\n",
        "datasets. Recall that the Hill equation is,\n",
        "\n",
        "$$\n",
        "\\theta = \\frac{[L]^n}{K_d + [L]^n}\n",
        "$$\n",
        "\n",
        "As usual start by writing a function implementing this equation"
      ],
      "id": "42290ca8-c90b-4ae6-9b19-b3afc32558ae"
    },
    {
      "cell_type": "code",
      "execution_count": 46,
      "metadata": {},
      "outputs": [],
      "source": [
        "def hill_eq(L, Kd, n):\n",
        "    return L**n / (Kd + L**n)"
      ],
      "id": "66c9ea4e"
    },
    {
      "cell_type": "markdown",
      "metadata": {},
      "source": [
        "And then make the fit for each dataset"
      ],
      "id": "2d5e9cc8-534c-4187-96e9-17b0aea16056"
    },
    {
      "cell_type": "code",
      "execution_count": 47,
      "metadata": {
        "exercise": true
      },
      "outputs": [],
      "source": [
        "# We start by massaging the data into the right units etc.\n",
        "L_M = df['aspartate'] * 10**(-3) # Convert to SI units in M.\n",
        "\n",
        "# For the dataset with ctp we need to discard the elements that are NaN / not measured.\n",
        "indices = np.argwhere(df['with_ctp'].notna()).flatten() # Don't worry too much about how this works - it just finds the indices of the non empty elements. \n",
        "L_M_ctp = L_M[indices]\n",
        "theta_ctp = df['with_ctp'][indices]\n",
        "\n",
        "# Then we're ready to fit\n",
        "pcov, _ = ...\n",
        "pcov_ctp, _ = ...\n",
        "Kd, n = pcov\n",
        "Kd_ctp, n_ctp = pcov_ctp\n",
        "\n",
        "# Print\n",
        "print('Without CTP')\n",
        "print(f'   K_d = {Kd:.3e}')\n",
        "print(f'   n = {n:.3f}')\n",
        "print('With CTP')\n",
        "print(f'   K_d = {Kd_ctp:.3e}')\n",
        "print(f'   n = {n_ctp:.3f}')"
      ],
      "id": "cb9edd3f"
    },
    {
      "cell_type": "markdown",
      "metadata": {},
      "source": [
        "Then we can plot"
      ],
      "id": "a37944c4-b289-4a5f-a893-0c4bb53e6546"
    },
    {
      "cell_type": "code",
      "execution_count": 49,
      "metadata": {
        "exercise": true
      },
      "outputs": [],
      "source": [
        "fig, ax = plt.subplots(figsize=(7, 4))\n",
        "\n",
        "L_smooth = np.linspace(0, L_M.max())\n",
        "theta_fit = hill_eq(L_smooth, Kd, n)\n",
        "theta_ctp_fit = hill_eq(L_smooth, Kd_ctp, n_ctp)\n",
        "\n",
        "ax.plot(L_M, df['without_ctp'], 'o', label='No CTP')\n",
        "ax.plot(L_smooth, theta_fit, 'k')\n",
        "\n",
        "ax.plot(L_M_ctp, theta_ctp, 'o', label='With CTP')\n",
        "ax.plot(L_smooth, theta_ctp_fit, 'k')\n",
        "\n",
        "ax.set_xlabel('[Aspartate] (M)')\n",
        "ax.set_ylabel('Rate of formation')"
      ],
      "id": "142fb2e0"
    }
  ],
  "nbformat": 4,
  "nbformat_minor": 5,
  "metadata": {
    "kernelspec": {
      "name": "python3",
      "display_name": "Python 3 (ipykernel)",
      "language": "python",
      "path": "/home/runner/work/fysisk-biokemi/fysisk-biokemi/.venv/share/jupyter/kernels/python3"
    },
    "language_info": {
      "name": "python",
      "codemirror_mode": {
        "name": "ipython",
        "version": "3"
      },
      "file_extension": ".py",
      "mimetype": "text/x-python",
      "nbconvert_exporter": "python",
      "pygments_lexer": "ipython3",
      "version": "3.11.13"
    }
  }
}