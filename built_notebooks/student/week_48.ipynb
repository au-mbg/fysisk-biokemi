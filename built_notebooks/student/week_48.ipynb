{
  "cells": [
    {
      "cell_type": "markdown",
      "metadata": {},
      "source": [
        "# Week 48"
      ],
      "id": "bd3f5d07-187f-4851-9c76-46b5c38c17fd"
    },
    {
      "cell_type": "code",
      "execution_count": 2,
      "metadata": {},
      "outputs": [],
      "source": [
        "try:\n",
        "    import fysisk_biokemi\n",
        "    print(\"Already installed\")\n",
        "except ImportError:\n",
        "    %pip install -q \"fysisk_biokemi[colab] @ git+https://github.com/au-mbg/fysisk-biokemi.git\""
      ],
      "id": "1f9e1a0e"
    },
    {
      "cell_type": "code",
      "execution_count": 3,
      "metadata": {},
      "outputs": [],
      "source": [
        "import pandas as pd\n",
        "pd.set_option('display.max_rows', 6)\n",
        "import numpy as np"
      ],
      "id": "b5208c3b"
    },
    {
      "cell_type": "markdown",
      "metadata": {},
      "source": [
        "------------------------------------------------------------------------\n",
        "\n",
        "## Interpretation of binding data."
      ],
      "id": "a2efdf23-7717-4767-84d9-2ebdd315c61d"
    },
    {
      "cell_type": "code",
      "execution_count": 4,
      "metadata": {},
      "outputs": [],
      "source": [
        "import numpy as np"
      ],
      "id": "6645472a"
    },
    {
      "cell_type": "markdown",
      "metadata": {},
      "source": [
        "The `interpret_week48.xlsx` contains protein binding dataset.\n",
        "\n",
        "#### (a) Load the dataset\n",
        "\n",
        "Load the dataset using the widget below"
      ],
      "id": "9d4d7e18-4d02-450c-86ad-05d36b201cbb"
    },
    {
      "cell_type": "code",
      "execution_count": 5,
      "metadata": {},
      "outputs": [],
      "source": [
        "import numpy as np\n",
        "from fysisk_biokemi.widgets import DataUploader\n",
        "from IPython.display import display \n",
        "uploader = DataUploader()\n",
        "uploader.display()"
      ],
      "id": "cce50d0a"
    },
    {
      "cell_type": "markdown",
      "metadata": {},
      "source": [
        "Run the next cell **after** uploading the file"
      ],
      "id": "489ad6bd-87cd-49f3-a0d6-717579bfca33"
    },
    {
      "cell_type": "code",
      "execution_count": 6,
      "metadata": {},
      "outputs": [],
      "source": [
        "df = uploader.get_dataframe()\n",
        "display(df)"
      ],
      "id": "39bbfe49"
    },
    {
      "cell_type": "markdown",
      "metadata": {},
      "source": [
        "#### (b) SI Units\n",
        "\n",
        "Add a new column to the `DataFrame` with the ligand concentration in SI\n",
        "units."
      ],
      "id": "510efbb0-adbf-466d-8c1c-869056a7da29"
    },
    {
      "cell_type": "code",
      "execution_count": 8,
      "metadata": {
        "exercise": true
      },
      "outputs": [],
      "source": [
        "... # Replace ... with your code.\n",
        "display(df)"
      ],
      "id": "2cb8c679"
    },
    {
      "cell_type": "markdown",
      "metadata": {},
      "source": [
        "#### (c) Plot the data\n",
        "\n",
        "Make plots of the binding data directly with a linear and logarithmic\n",
        "x-axis.\n",
        "\n",
        "Estimate Kd by visual inspection of these plots!"
      ],
      "id": "479c93f9-782b-49d4-9fe0-a06a90a32390"
    },
    {
      "cell_type": "code",
      "execution_count": 10,
      "metadata": {
        "exercise": true
      },
      "outputs": [],
      "source": [
        "import matplotlib.pyplot as plt\n",
        "\n",
        "# This makes a figure with two axes.\n",
        "fig, axes = plt.subplots(1, 2, figsize=(9, 4))\n",
        "\n",
        "# Can with [0] to plot in the first axis.\n",
        "ax = axes[0]\n",
        "ax.plot(..., ..., 'o') # Replace ... with your code.\n",
        "ax.set_xlabel('[L](M)', fontsize=14)\n",
        "ax.set_ylabel(r'$\\bar{n}$', fontsize=14)\n",
        "\n",
        "ax = axes[1]\n",
        "... # Put some code here - perhaps you can copy it from somewhere?\n",
        "ax.set_xscale('log')"
      ],
      "id": "05239018"
    },
    {
      "cell_type": "markdown",
      "metadata": {},
      "source": [
        "> **Tip**\n",
        ">\n",
        "> Ths command `ax.set_xscale('log')` tells `matplotlib` that we want the\n",
        "> x-axis to use a log-scale."
      ],
      "id": "efcaea38-9972-4587-b2a3-f27bb10cc3ed"
    },
    {
      "cell_type": "code",
      "execution_count": 12,
      "metadata": {
        "exercise": true
      },
      "outputs": [],
      "source": [
        "k_d_estimate = ..."
      ],
      "id": "728d46be"
    },
    {
      "cell_type": "markdown",
      "metadata": {},
      "source": [
        "#### (d) Make a fit\n",
        "\n",
        "Make a fit to determine $K_D$, as always we start by implementing the\n",
        "function to fit with"
      ],
      "id": "ff4758fa-c1c7-434d-8e40-caf7c752c07c"
    },
    {
      "cell_type": "code",
      "execution_count": 14,
      "metadata": {
        "exercise": true
      },
      "outputs": [],
      "source": [
        "def ... # Give the function an appropriate name.\n",
        "    return ... # Implement the expression for nbar"
      ],
      "id": "841c5cde"
    },
    {
      "cell_type": "markdown",
      "metadata": {},
      "source": [
        "And then we can make the fit"
      ],
      "id": "16661303-8974-4d79-b19d-e587397591e0"
    },
    {
      "cell_type": "code",
      "execution_count": 16,
      "metadata": {
        "exercise": true
      },
      "outputs": [],
      "source": [
        "from scipy.optimize import curve_fit\n",
        "\n",
        "# Choose the variables from the dataframe\n",
        "x = ... # Choose x-data from the dataframe\n",
        "y = ... # Choose y-data from the dataframe\n",
        "\n",
        "# Initial guess\n",
        "p0 = [k_d_estimate]\n",
        "\n",
        "# Bounds\n",
        "bounds = (0, np.inf) # We limit the parameters to be positve.\n",
        "\n",
        "# Curve fit\n",
        "popt, pcov = ... # Call the curve_fit function.\n",
        "\n",
        "# Print the parameters\n",
        "k_d_fit = popt[0]\n",
        "print(f\"{k_d_fit = :e}\")"
      ],
      "id": "455ddb5e"
    },
    {
      "cell_type": "markdown",
      "metadata": {},
      "source": [
        "#### Compare\n",
        "\n",
        "Use the figure below to compare your guess with the fitted value.\n",
        "\n",
        "#### Saturation\n",
        "\n",
        "Based on the value of $K_D$ found from the fit,\n",
        "\n",
        "-   At which concentration do you expect 10% saturation?\n",
        "-   At which concentration do you expect 90% saturation?\n",
        "\n",
        "------------------------------------------------------------------------\n",
        "\n",
        "## Determination of type and strength of cooperativity\n",
        "\n",
        "The binding of NAD+ to the protein yeast glyceraldehyde 3-phosphate\n",
        "dehydrogenase (GAPDH) was studied using equilibrium dialysis. The enzyme\n",
        "concentration was 71 μM. The concentration of\n",
        "$[\\text{NAD}^{+}_\\text{free}]$ and the corresponding values of $\\bar{n}$\n",
        "were determined with the resulting data found in the dataset\n",
        "`determination_coop_week48.xlsx`.\n",
        "\n",
        "#### (a) Load the dataset\n",
        "\n",
        "Load the dataset using the widget below"
      ],
      "id": "96ea9356-3567-4237-94fa-8676f24660db"
    },
    {
      "cell_type": "code",
      "execution_count": 19,
      "metadata": {},
      "outputs": [],
      "source": [
        "from fysisk_biokemi.widgets import DataUploader\n",
        "from IPython.display import display \n",
        "uploader = DataUploader()\n",
        "uploader.display()"
      ],
      "id": "5d389e2b"
    },
    {
      "cell_type": "markdown",
      "metadata": {},
      "source": [
        "Run the next cell **after** uploading the file"
      ],
      "id": "891e3d02-8cf5-4f7e-b04d-c0dba11ab912"
    },
    {
      "cell_type": "code",
      "execution_count": 20,
      "metadata": {},
      "outputs": [],
      "source": [
        "df = uploader.get_dataframe()\n",
        "display(df)"
      ],
      "id": "be6c7436"
    },
    {
      "cell_type": "markdown",
      "metadata": {},
      "source": [
        "#### (b) Averaging and units.\n",
        "\n",
        "Start by adding a new column to the `DataFrame` with the average value\n",
        "of $\\bar{n}$ across the three series\n",
        "\n",
        "> **Tip**\n",
        ">\n",
        "> Remember that you can set a new column based on a computation using\n",
        "> one or more other columns, e.g. \n",
        ">\n",
        "> ``` python\n",
        "> df['new_col'] = df['col1'] + df['col2']\n",
        "> ```"
      ],
      "id": "5b2fb256-3519-4f2b-bad7-675cbdcb1cb6"
    },
    {
      "cell_type": "code",
      "execution_count": 22,
      "metadata": {
        "exercise": true
      },
      "outputs": [],
      "source": [
        "df['nbar_avg'] = ..."
      ],
      "id": "3f14835a"
    },
    {
      "cell_type": "markdown",
      "metadata": {},
      "source": [
        "Now also add a column with the ligand concentration in SI units with the\n",
        "column-name `[NAD+free]_(M)`."
      ],
      "id": "8ff2c1b0-69b8-45d0-a978-3ec11221bc59"
    },
    {
      "cell_type": "code",
      "execution_count": 24,
      "metadata": {
        "exercise": true
      },
      "outputs": [],
      "source": [
        "... # Your code here. \n",
        "display(df)"
      ],
      "id": "c8d9211e"
    },
    {
      "cell_type": "markdown",
      "metadata": {},
      "source": [
        "Finally, set the concentration of the GADPH in SI units"
      ],
      "id": "890ee7aa-a5fb-4290-aac6-311134ca577b"
    },
    {
      "cell_type": "code",
      "execution_count": 26,
      "metadata": {},
      "outputs": [],
      "source": [
        " c_gadph = 71 * 10**(-6)"
      ],
      "id": "8875c4ff"
    },
    {
      "cell_type": "markdown",
      "metadata": {},
      "source": [
        "#### (c) Plot\n",
        "\n",
        "Make a plot of the average $\\bar{n}$ as a function of\n",
        "$[\\text{NAD}^{+}_\\text{free}]$."
      ],
      "id": "518251b7-2117-4ddc-9acd-4fc3844ea205"
    },
    {
      "cell_type": "code",
      "execution_count": 27,
      "metadata": {
        "exercise": true
      },
      "outputs": [],
      "source": [
        "fig, ax = plt.subplots(figsize=(8, 4))\n",
        "\n",
        "# Your code to plot here.\n",
        "... \n",
        "\n",
        "# This sets the labels.\n",
        "ax.set_xlabel(r'$[\\text{NAD}^{+}_\\text{free}]$', fontsize=14)\n",
        "ax.set_ylabel(r'$\\bar{n}$', fontsize=14)\n",
        "plt.show()"
      ],
      "id": "6cec1797"
    },
    {
      "cell_type": "markdown",
      "metadata": {},
      "source": [
        "#### (d) Scatchard plot\n",
        "\n",
        "Make a Scatchard plot based on the average $\\bar{n}$."
      ],
      "id": "b739dd50-ffa0-4245-b4cc-4ab84ca64b0d"
    },
    {
      "cell_type": "code",
      "execution_count": 29,
      "metadata": {
        "exercise": true
      },
      "outputs": [],
      "source": [
        "# Calculate nbar / L \n",
        "nbar_over_L = ...\n",
        "\n",
        "fig, ax = plt.subplots(figsize=(6, 4)) \n",
        "\n",
        "ax.plot(..., ... 'o') # Plot the right thins. \n",
        "\n",
        "ax.set_xlabel(r'$\\bar{n}$', fontsize=14)\n",
        "ax.set_ylabel(r'$\\bar{n}/L$', fontsize=14)\n",
        "ax.set_xlim([0, df['nbar_avg'].max()*1.2])\n",
        "ax.set_ylim([0, nbar_over_L.max() * 1.2])"
      ],
      "id": "ce9caa38"
    },
    {
      "cell_type": "markdown",
      "metadata": {},
      "source": [
        "#### (e) Binding sites\n",
        "\n",
        "How many binding sites does GAPDH contain for $\\text{NAD}^{+}$?\n",
        "\n",
        "#### (f) Cooperativity\n",
        "\n",
        "What type of cooperativity do the plots indicate?\n",
        "\n",
        "#### (g) Fit\n",
        "\n",
        "Make a fit using the functional form\n",
        "\n",
        "$$\n",
        "\\bar{n} = N \\frac{[L]^h}{K_D + [L]^h}\n",
        "$$\n",
        "\n",
        "As usual, start by defining the function in Python"
      ],
      "id": "aee37f9a-bb19-472f-825c-9f77e4ca9b10"
    },
    {
      "cell_type": "code",
      "execution_count": 32,
      "metadata": {
        "exercise": true
      },
      "outputs": [],
      "source": [
        "def n_bar(L, N, k_d, h):\n",
        "    # Replace ... with your code.\n",
        "    # Be careful with parentheses.\n",
        "    result = ...\n",
        "    return result "
      ],
      "id": "23155ab8"
    },
    {
      "cell_type": "markdown",
      "metadata": {},
      "source": [
        "Now we can fit"
      ],
      "id": "2c82032a-ab11-4786-a4fc-630194578ac8"
    },
    {
      "cell_type": "code",
      "execution_count": 33,
      "metadata": {
        "exercise": true
      },
      "outputs": [],
      "source": [
        "from scipy.optimize import curve_fit\n",
        "\n",
        "# This selects the '[NAD+free]_(m)'-column three times and stitches it together.\n",
        "x = np.concatenate([df['[NAD+free]_(M)'], df['[NAD+free]_(M)'], df['[NAD+free]_(M)']])\n",
        "# Do the same to stitch together the nbar1, nbar2 and nbar3 columns.\n",
        "y = ...\n",
        "\n",
        "# Initial guess\n",
        "p0 = [..., ..., ...]\n",
        "\n",
        "# Bounds\n",
        "bounds = (0, np.inf) # We limit the parameters to be positve.\n",
        "\n",
        "# Curve fit\n",
        "popt, pcov = curve_fit(n_bar, x, y, p0=p0, bounds=bounds)\n",
        "\n",
        "# Print the parameters\n",
        "N_fit, k_d_fit, h_fit = popt\n",
        "print(f\"{N_fit = :.3f}\")\n",
        "print(f\"{k_d_fit = :e}\")\n",
        "print(f\"{h_fit = :.3f}\")"
      ],
      "id": "86c70951"
    },
    {
      "cell_type": "markdown",
      "metadata": {},
      "source": [
        "#### (h) Plot with fit"
      ],
      "id": "1667a1bb-f3ad-48af-9697-26e47c54e16f"
    },
    {
      "cell_type": "code",
      "execution_count": 35,
      "metadata": {
        "exercise": true
      },
      "outputs": [],
      "source": [
        "L = np.linspace(0, df['[NAD+free]_(M)'].max()*1.5)\n",
        "n_bar_fit = n_bar(L, N_fit, k_d_fit, h_fit)\n",
        "\n",
        "fig, ax = plt.subplots(figsize=(8, 4))\n",
        "ax.plot(x, y, 'o', label='Data')\n",
        "ax.plot(L, n_bar_fit, '-', label='Fit')\n",
        "ax.axhline(N_fit, color='C2', label='N from fit')\n",
        "ax.axvline(k_d_fit, color='C3', label=r'$K_D$ from fit')\n",
        "ax.set_xlabel(r'$[\\text{NAD}^{+}_\\text{free}]$', fontsize=14)\n",
        "ax.set_ylabel(r'$\\bar{n}$', fontsize=14)\n",
        "ax.legend()\n",
        "plt.show()"
      ],
      "id": "7d2a7e8e"
    },
    {
      "cell_type": "markdown",
      "metadata": {},
      "source": [
        "------------------------------------------------------------------------\n",
        "\n",
        "## Determination of reaction orders.\n",
        "\n",
        "#### (a) Load the dataset\n",
        "\n",
        "Load the dataset using the widget below"
      ],
      "id": "ad13539a-ca22-4bc5-a681-28a287f45638"
    },
    {
      "cell_type": "code",
      "execution_count": 37,
      "metadata": {},
      "outputs": [],
      "source": [
        "from fysisk_biokemi.widgets import DataUploader\n",
        "from IPython.display import display \n",
        "uploader = DataUploader()\n",
        "uploader.display()"
      ],
      "id": "5ba610a9"
    },
    {
      "cell_type": "markdown",
      "metadata": {},
      "source": [
        "Run the next cell **after** uploading the file"
      ],
      "id": "656cb5c8-0f6d-49a0-9c6c-df8a7685b324"
    },
    {
      "cell_type": "code",
      "execution_count": 38,
      "metadata": {},
      "outputs": [],
      "source": [
        "df = uploader.get_dataframe()\n",
        "display(df)"
      ],
      "id": "93e31fa6"
    },
    {
      "cell_type": "markdown",
      "metadata": {},
      "source": [
        "#### (b) SI units.\n",
        "\n",
        "Add two new columns with the concentrations given in M."
      ],
      "id": "42644094-7ffb-441d-a2f0-430efa607464"
    },
    {
      "cell_type": "code",
      "execution_count": 40,
      "metadata": {
        "exercise": true
      },
      "outputs": [],
      "source": [
        "# Make the new columns in this cell. \n",
        "\n",
        "\n",
        "display(df)"
      ],
      "id": "fdb67ce0"
    },
    {
      "cell_type": "markdown",
      "metadata": {},
      "source": [
        "#### (c) Plotting\n",
        "\n",
        "For each reactant make a plot of\n",
        "\n",
        "-   $t$ vs. $[\\text{A}]$\n",
        "\n",
        "> **Note**\n",
        ">\n",
        "> We will be adding more elements to the plot in the following parts of\n",
        "> the exercise, therefore we will wrap the code for plotting in a\n",
        "> function such that it can be easily reused.\n",
        "\n",
        "The cell below defines the function for plotting, add the missing code\n",
        "in places with `...`."
      ],
      "id": "9df830fc-b3c4-449a-80fa-29349fa10e68"
    },
    {
      "cell_type": "code",
      "execution_count": 42,
      "metadata": {
        "exercise": null
      },
      "outputs": [],
      "source": [
        "def plot_dataframe(ax, df):\n",
        "    # Extract from dataframe\n",
        "    t = df['Time_(s)']\n",
        "    A1 = df['[A1]_(M)']\n",
        "    A2 = df['[A2]_(M)']\n",
        "\n",
        "    ax.plot(t, A1, 'o', label='[A1]')\n",
        "    ... # Your code here to plot A2\n",
        "\n",
        "    for ax in axes:\n",
        "        ax.set_xlabel('t [s]')\n",
        "        ax.legend()"
      ],
      "id": "539523e4"
    },
    {
      "cell_type": "markdown",
      "metadata": {},
      "source": [
        "Once we’ve written the plotting function we can make the plot as done in\n",
        "the cell below."
      ],
      "id": "e7d41d00-423c-4db0-b7d5-802bc6839669"
    },
    {
      "cell_type": "code",
      "execution_count": 44,
      "metadata": {
        "exercise": true
      },
      "outputs": [],
      "source": [
        "fig, ax = plt.subplots(1, 1, figsize=(6, 4))\n",
        "\n",
        "plot_dataframe(ax, df)"
      ],
      "id": "bc30bac8"
    },
    {
      "cell_type": "markdown",
      "metadata": {},
      "source": [
        "#### (d) Determining reaction orders\n",
        "\n",
        "Now we want to determine the reaction orders by making fits to the data\n",
        "under the assumption of different integrated rate laws.\n",
        "\n",
        "In the cell below finish the code to define functions for the integrated\n",
        "rate laws of zeroth, first and second order."
      ],
      "id": "3a31b245-875b-4af8-bd9a-625e1d3670cb"
    },
    {
      "cell_type": "code",
      "execution_count": 46,
      "metadata": {
        "exercise": true
      },
      "outputs": [],
      "source": [
        "def zeroth_order(t, k, A0):\n",
        "    result = ...\n",
        "    return result\n",
        "\n",
        "def first_order(t, k, A0):\n",
        "    result = ...\n",
        "    return result\n",
        "\n",
        "def second_order(t, k, A0):\n",
        "    result = ...\n",
        "    return result\n",
        "\n",
        "rate_laws = {0: zeroth_order, 1: first_order, 2:second_order}"
      ],
      "id": "47639143"
    },
    {
      "cell_type": "markdown",
      "metadata": {},
      "source": [
        "We can then use these to make fits, here it is helpful to define a small\n",
        "function to help us with that."
      ],
      "id": "3b6de6d4-0ba4-4685-8726-eec4c2864849"
    },
    {
      "cell_type": "code",
      "execution_count": 48,
      "metadata": {},
      "outputs": [],
      "source": [
        "from scipy.optimize import curve_fit\n",
        "\n",
        "def make_fit(x_data, y_data, x_eval, A0, order):\n",
        "    func = lambda t, k: rate_laws[order](t, k, A0)\n",
        "    popt, pcov = curve_fit(func, x_data, y_data)\n",
        "\n",
        "    # Evaluate fit\n",
        "    k = popt[0]\n",
        "    y_fit = func(x_eval, k)\n",
        "    return k, y_fit"
      ],
      "id": "ff4b428e"
    },
    {
      "cell_type": "markdown",
      "metadata": {},
      "source": [
        "Next we will define the known constants and extract a few things from\n",
        "the `DataFrame`. In the cell below put the initial concentrations in M."
      ],
      "id": "a7dd6d93-3921-48c6-92a5-b95d8b31e56f"
    },
    {
      "cell_type": "code",
      "execution_count": 49,
      "metadata": {
        "exercise": true
      },
      "outputs": [],
      "source": [
        "A1_0 = ... # Set the initial concentration [A1]_0\n",
        "A2_0 = ... # Set the initial concentration [A2]_0\n",
        "\n",
        "# Extract data\n",
        "t = df['Time_(s)']\n",
        "A1 = df['[A1]_(M)']\n",
        "A2 = df['[A2]_(M)']\n",
        "orders = [0, 1, 2]\n",
        "t_eval = np.linspace(0, t.max()*1.1)"
      ],
      "id": "c5d155b9"
    },
    {
      "cell_type": "markdown",
      "metadata": {},
      "source": [
        "Now we can make and plot the fits"
      ],
      "id": "c9c4531e-b1e1-4923-bde7-231ea8704e3d"
    },
    {
      "cell_type": "code",
      "execution_count": 51,
      "metadata": {
        "exercise": true
      },
      "outputs": [],
      "source": [
        "fig, axes = plt.subplots(1, 3, figsize=(8, 4), sharey=True, layout='constrained')\n",
        "\n",
        "axes[0].set_ylabel('Concentration (M)')\n",
        "\n",
        "for ax in axes:\n",
        "    plot_dataframe(ax, df)\n",
        "\n",
        "for ax, order in zip(axes, orders):\n",
        "    k1, y_fit = make_fit(t, A1, t_eval, A1_0, order)\n",
        "    ax.plot(t_eval, y_fit, color='C2', label=rf'k = {k1:.2e}')\n",
        "\n",
        "    k2, y_fit = make_fit(t, A2, t_eval, A2_0, order)\n",
        "    ax.plot(t_eval, y_fit, color='C3', label=rf'k = {k2:.2e}')\n",
        "    ax.legend()\n",
        "    ax.set_title(f'Reaction order: {order}')"
      ],
      "id": "820d9036"
    },
    {
      "cell_type": "markdown",
      "metadata": {},
      "source": [
        "Based on this plot;\n",
        "\n",
        "-   What do you believe is the reaction order for \\[A1\\]?\n",
        "-   What is the unit of the rate constant for \\[A1\\]?\n",
        "-   What do you believe is the reaction order for \\[A2\\]?\n",
        "-   What is the unit of the rate constant for \\[A2\\]?\n",
        "\n",
        "#### (e) Residuals\n",
        "\n",
        "By inspecting the plot we can make a qualitative judgement of the\n",
        "reaction orders. To get a more quantitative results we can look at the\n",
        "residuals, recall they are defined as\n",
        "\n",
        "$$\n",
        "r_i = y_i - f(x_i | \\theta)\n",
        "$$\n",
        "\n",
        "We can calculate these in much the same way we calculate the fits,\n",
        "except we don’t evaluate the fit at a new set of points but at the\n",
        "observations $x_i$.\n",
        "\n",
        "We can then plot the residuals, here using a histogram where the x-axis\n",
        "is the value of the residual and the bars indicate the number of\n",
        "residuals within that range of values."
      ],
      "id": "a70fdf77-3edf-434f-af53-d87b41bcec7b"
    },
    {
      "cell_type": "code",
      "execution_count": 54,
      "metadata": {
        "exercise": true
      },
      "outputs": [],
      "source": [
        "fig, axes = plt.subplots(2, 3, figsize=(8, 4), sharey=True, layout='constrained', sharex=True)\n",
        "\n",
        "axes[0, 0].set_ylabel('Count')\n",
        "axes[1, 0].set_ylabel('Count')\n",
        "\n",
        "for ax_col, order in zip(axes.T, orders):\n",
        "\n",
        "    residuals = calculate_residuals(t, A1, A1_0, order)\n",
        "    ax_col[0].hist(residuals, alpha=0.75, color='C0')\n",
        "\n",
        "    residuals = calculate_residuals(t, A2, A2_0, order)\n",
        "    ax_col[1].hist(residuals, alpha=0.75, color='C1')\n",
        "\n",
        "    ax_col[1].set_xlabel('Residual')"
      ],
      "id": "8d47d4a7"
    },
    {
      "cell_type": "markdown",
      "metadata": {},
      "source": [
        "Does this support your conclusions about the reaction order from (d)?\n",
        "\n",
        "------------------------------------------------------------------------\n",
        "\n",
        "## Analysis of a reversible reaction\n",
        "\n",
        "Consider the following reaction\n",
        "\n",
        "$$\n",
        "A \\underset{k_{2}}{\\stackrel{k_1}{\\rightleftharpoons}} B\n",
        "$$\n",
        "\n",
        "The magnitudes of the rate constants are $k_1 = 10 \\ \\mathrm{s}^{-1}$\n",
        "and $k_2 = 1 \\ \\mathrm{s}^{-1}$.\n",
        "\n",
        "#### (a) Reaction order\n",
        "\n",
        "What is the reaction order in each direction?\n",
        "\n",
        "#### (b) Derive equilibrium constant\n",
        "\n",
        "Show mathematically how the equilibrium constant $K_{\\mathrm{eq}}$ is\n",
        "given by the ratio between the two rate constants.\n",
        "\n",
        "#### (c) Calculate $K_{\\mathrm{eq}}$"
      ],
      "id": "5b97b1d9-5943-41a2-af44-945da7e728b4"
    },
    {
      "cell_type": "code",
      "execution_count": 56,
      "metadata": {
        "exercise": true
      },
      "outputs": [],
      "source": [
        "k1 = ...\n",
        "k2 = ...\n",
        "K_eq = ...\n",
        "print(f\"{K_eq = }\")"
      ],
      "id": "9ff3db4f"
    },
    {
      "cell_type": "markdown",
      "metadata": {},
      "source": [
        "#### (d) Equilibrium concentrations\n",
        "\n",
        "Calculate the concentrations of A and B at equilibrium,\n",
        "$[\\mathrm{A}]_{\\mathrm{eq}}$ and $[\\mathrm{B}]_\\mathrm{eq}$, if\n",
        "$[\\mathrm{A}]_0 = 10^{-3} \\text{M}$"
      ],
      "id": "a8f50cf8-2101-4301-bf74-544f25b781c0"
    },
    {
      "cell_type": "code",
      "execution_count": 58,
      "metadata": {
        "exercise": true
      },
      "outputs": [],
      "source": [
        "A0 = ...\n",
        "A_eq = ...\n",
        "B_eq = ...\n",
        "print(f\"{A_eq = }\")\n",
        "print(f\"{B_eq = }\")"
      ],
      "id": "cded817c"
    },
    {
      "cell_type": "markdown",
      "metadata": {},
      "source": [
        "#### (e) Rates at equilibrium\n",
        "\n",
        "Calculate the forward and reverse rates at equilibrium at this\n",
        "concentration."
      ],
      "id": "2064830d-a4b1-4571-82ae-baecdcdf5520"
    },
    {
      "cell_type": "code",
      "execution_count": 60,
      "metadata": {
        "exercise": true
      },
      "outputs": [],
      "source": [
        "r_fwd = A_eq * k1\n",
        "r_bwd = B_eq * k2\n",
        "print(f\"{r_fwd = :.5f}\")\n",
        "print(f\"{r_bwd = :.5f}\")"
      ],
      "id": "90cfc536"
    },
    {
      "cell_type": "markdown",
      "metadata": {},
      "source": [
        "#### (f) Initial rate of formation\n",
        "\n",
        "If $[\\mathrm{A}]_0 = 10^{-3} \\text{M}$ and\n",
        "$[\\mathrm{B}]_0 = 0 \\text{M}$, calculate the initial rate of formation\n",
        "of B."
      ],
      "id": "77e9c163-62e9-40ee-8073-11533c417169"
    },
    {
      "cell_type": "code",
      "execution_count": 62,
      "metadata": {
        "exercise": true
      },
      "outputs": [
        {
          "output_type": "stream",
          "name": "stdout",
          "text": [
            "r_fwd = 0.01000"
          ]
        }
      ],
      "source": [
        "r_fwd = A0 * k1\n",
        "print(f\"{r_fwd = :.5f}\")"
      ],
      "id": "d6206d66"
    },
    {
      "cell_type": "markdown",
      "metadata": {},
      "source": [
        "#### (g) Time-dependence\n",
        "\n",
        "![](https://raw.githubusercontent.com/au-mbg/fysisk-biokemi/refs/heads/main/lessons/figures/week_48/reversible_reaction.png)\n",
        "\n",
        "We now want to calculate and plot the time-dependent concentrations\n",
        "using the above equations.\n",
        "\n",
        "In the cell below finish the implementation of the function `A_time`\n",
        "that calculates the concentration \\[A\\] as a function of time."
      ],
      "id": "e3e86de5-f0c2-44b2-bd94-a833da14a9ff"
    },
    {
      "cell_type": "code",
      "execution_count": 64,
      "metadata": {
        "exercise": true
      },
      "outputs": [],
      "source": [
        "def A_time(t, A0, k_f, k_b):\n",
        "    return ..."
      ],
      "id": "95e567cc"
    },
    {
      "cell_type": "markdown",
      "metadata": {},
      "source": [
        "And then we can use that function to calculate and plot the\n",
        "concentrations as a function of time."
      ],
      "id": "3ed4eb0b-bb82-41da-9e12-6c797ebc9aa1"
    },
    {
      "cell_type": "code",
      "execution_count": 66,
      "metadata": {
        "exercise": true
      },
      "outputs": [],
      "source": [
        "fig, ax = plt.subplots()\n",
        "\n",
        "t_max = ... # Set the time in seconds\n",
        "t = np.linspace(0, t_max, 100)\n",
        "\n",
        "At = ... # Use your function to calculate [A](t)\n",
        "Bt = ... # Calculate [B](t)\n",
        "\n",
        "ax.plot(t, At, label='[A](t)')\n",
        "ax.plot(t, Bt, label='[B](t)')\n",
        "ax.set_ylabel('Concentrations (M)')\n",
        "ax.set_xlabel('Time (s)')\n",
        "ax.legend()"
      ],
      "id": "9413dc10"
    },
    {
      "cell_type": "markdown",
      "metadata": {},
      "source": [
        "------------------------------------------------------------------------\n",
        "\n",
        "## Determination of reaction order and activation energy"
      ],
      "id": "859ef6fa-14e0-4375-b5d6-e28c14480d90"
    },
    {
      "cell_type": "code",
      "execution_count": 68,
      "metadata": {},
      "outputs": [],
      "source": [
        "import numpy as np  \n",
        "import matplotlib.pyplot as plt"
      ],
      "id": "cd0123d2"
    },
    {
      "cell_type": "markdown",
      "metadata": {},
      "source": [
        "The irreversible isomerization of compound A to compound B results in a\n",
        "decreasing absorbance. The isomerization was followed in a time course\n",
        "at two different temperatures (T1 = 25 °C and T2 = 40 °C). The\n",
        "absorbance ($\\epsilon$ = 16700 $\\mathrm{cm}^{-1} \\mathrm{M}^{-1}$) was\n",
        "used to calculate the concentration of compound A in a spectrophotometer\n",
        "with a pathlength of 1 cm. The obtained dataset is given in the file\n",
        "`reaction_order_activation_week48.csv`.\n",
        "\n",
        "#### (a) Temperatures\n",
        "\n",
        "What are the two temperatures in Kelvin? Set them as varilabes in the\n",
        "cell below."
      ],
      "id": "bf450d73-83ab-492c-ab11-50c478380e27"
    },
    {
      "cell_type": "code",
      "execution_count": 69,
      "metadata": {
        "exercise": true
      },
      "outputs": [],
      "source": [
        "T1 = 25 + 273.15\n",
        "T2 = 40 + 273.15"
      ],
      "id": "bef677a3"
    },
    {
      "cell_type": "markdown",
      "metadata": {},
      "source": [
        "#### (b) Load the dataset\n",
        "\n",
        "Load the dataset using the widget below"
      ],
      "id": "b4117874-d565-4a89-b0a3-fb69c47bd17b"
    },
    {
      "cell_type": "code",
      "execution_count": 71,
      "metadata": {},
      "outputs": [],
      "source": [
        "from fysisk_biokemi.widgets import DataUploader\n",
        "from IPython.display import display \n",
        "uploader = DataUploader()\n",
        "uploader.display()"
      ],
      "id": "106e1f95"
    },
    {
      "cell_type": "markdown",
      "metadata": {},
      "source": [
        "Run the next cell **after** uploading the file"
      ],
      "id": "7af84a64-5f5a-4500-b489-32c7a0ceff17"
    },
    {
      "cell_type": "code",
      "execution_count": 72,
      "metadata": {},
      "outputs": [],
      "source": [
        "df = uploader.get_dataframe()\n",
        "display(df)"
      ],
      "id": "b9427d17"
    },
    {
      "cell_type": "markdown",
      "metadata": {},
      "source": [
        "#### (c) SI Units\n",
        "\n",
        "Calculate the concentration of A at each timepoint in SI units, by\n",
        "adding new columns to the `DataFrame`."
      ],
      "id": "28d27419-c9a6-4afc-96b7-53a59729dd78"
    },
    {
      "cell_type": "code",
      "execution_count": 74,
      "metadata": {},
      "outputs": [
        {
          "output_type": "display_data",
          "metadata": {},
          "data": {
            "text/html": [
              "\n",
              "<p>26 rows × 5 columns</p>\n",
              "</div>"
            ]
          }
        }
      ],
      "source": [
        "extinction_coeff = 16700 \n",
        "L = 1 # Path length\n",
        "\n",
        "df['[A]_(M)_25C'] = df['Abs(t)_25C'] / (extinction_coeff * L)\n",
        "df['[A]_(M)_40C'] = df['Abs(t)_40C'] / (extinction_coeff * L)\n",
        "display(df)"
      ],
      "id": "60029d16"
    },
    {
      "cell_type": "markdown",
      "metadata": {},
      "source": [
        "#### (d) Plot the data"
      ],
      "id": "17307daf-015b-4236-aed3-22cbf049be69"
    },
    {
      "cell_type": "code",
      "execution_count": 76,
      "metadata": {},
      "outputs": [
        {
          "output_type": "display_data",
          "metadata": {},
          "data": {
            "image/png": "[encoded data removed]"
          }
        }
      ],
      "source": [
        "fig, ax = plt.subplots()\n",
        "\n",
        "plot_dataframe(ax, df)"
      ],
      "id": "1dc1ea6d"
    },
    {
      "cell_type": "markdown",
      "metadata": {},
      "source": [
        "#### (e) Determine reaction order\n",
        "\n",
        "In the exercise on “Determination of reaction orders” we saw how we can\n",
        "fit to the expressions for the integrated rate laws to determine the\n",
        "reaction order.\n",
        "\n",
        "In that exercise we wrote the functions in the next two cells, we will\n",
        "reuse them here"
      ],
      "id": "057e4ffc-5006-4823-85ce-20ba3222c4f4"
    },
    {
      "cell_type": "code",
      "execution_count": 77,
      "metadata": {},
      "outputs": [],
      "source": [
        "def zeroth_order(t, k, A0):\n",
        "    return A0 - k*t\n",
        "\n",
        "def first_order(t, k, A0):\n",
        "    return A0 * np.exp(-k*t)\n",
        "\n",
        "def second_order(t, k, A0):\n",
        "    return A0 / (1 + 2*k*t*A0)\n",
        "\n",
        "rate_laws = {0: zeroth_order, 1: first_order, 2:second_order}"
      ],
      "id": "17076f48"
    },
    {
      "cell_type": "code",
      "execution_count": 78,
      "metadata": {},
      "outputs": [],
      "source": [
        "from scipy.optimize import curve_fit\n",
        "\n",
        "def make_fit(x_data, y_data, x_eval, A0, order):\n",
        "    func = lambda t, k: rate_laws[order](t, k, A0)\n",
        "    popt, pcov = curve_fit(func, x_data, y_data)\n",
        "\n",
        "    # Evaluate fit at new points\n",
        "    k = popt[0]\n",
        "    y_fit_new = func(x_eval, k)\n",
        "    \n",
        "    # Evaluate fit at data-points to calculate residuals\n",
        "    y_fit_data = func(x_data, k)\n",
        "    residuals = y_data - y_fit_data\n",
        "\n",
        "    return k, y_fit_new, residuals"
      ],
      "id": "f32672d4"
    },
    {
      "cell_type": "markdown",
      "metadata": {},
      "source": [
        "Now we need to set a few things before we can do the fitting"
      ],
      "id": "84c39cdf-2691-4303-9615-dde02ac24603"
    },
    {
      "cell_type": "code",
      "execution_count": 79,
      "metadata": {
        "exercise": true
      },
      "outputs": [],
      "source": [
        "t = ... # Extract the time from the dataframe\n",
        "A_25 = ... # Extract the concentration at 25C\n",
        "A_40 = ... # Extract the concentration at 40C\n",
        "A0_25 = ... # Set the initial concentration at 25C\n",
        "A0_40 = ... # Set the initial concentration at 40C"
      ],
      "id": "0b6b24b8"
    },
    {
      "cell_type": "markdown",
      "metadata": {},
      "source": [
        "> **Tip**\n",
        ">\n",
        "> You’ve already calculated the initial concentration, it is contained\n",
        "> in the `DataFrame`.\n",
        "\n",
        "Now we can use our plotting and fitting functions to analyze the data"
      ],
      "id": "021e68b5-60b8-4fd7-ba17-2ca500d06207"
    },
    {
      "cell_type": "code",
      "execution_count": 81,
      "metadata": {
        "exercise": true
      },
      "outputs": [],
      "source": [
        "fig, axes = plt.subplots(2, 3, figsize=(8, 6), sharey='row', layout='constrained')\n",
        "\n",
        "for ax in axes.T:\n",
        "    plot_dataframe(ax[1], df)\n",
        "\n",
        "orders = [0, 1, 2]\n",
        "t_eval = np.linspace(0, t.max()*1.05)\n",
        "\n",
        "for ax_col, order in zip(axes.T, orders):\n",
        "    # Calculate the fits\n",
        "    k25, y_fit_25, residuals_25 = make_fit(t, A_25, t_eval, A0_25, order)\n",
        "    k40, y_fit_40, residuals_40 = make_fit(t, A_40, t_eval, A0_40, order)\n",
        "\n",
        "    # Plot the fits\n",
        "    ax = ax_col[1]\n",
        "    ax.plot(t_eval, y_fit_25, color='k')\n",
        "    ax.plot(t_eval, y_fit_40, color='k')\n",
        "    ax.text(0.05, 0.15, f'k (25 C) = {k25:.4f}', transform=ax.transAxes)\n",
        "    ax.text(0.05, 0.05, f'k (40 C) = {k40:.4f}', transform=ax.transAxes)\n",
        "\n",
        "    ax.legend()\n",
        "\n",
        "    # Plot the residuals\n",
        "    ax = ax_col[0]\n",
        "    ax.hist(residuals_25, facecolor='C0', alpha=0.75, edgecolor='k', label='25 C')\n",
        "    ax.hist(residuals_40, facecolor='C1', alpha=0.75, edgecolor='k', label='40 C')\n",
        "    ax.set_xlabel('Residual')    \n",
        "    ax.set_ylabel('Count')\n",
        "    ax.legend()\n",
        "\n",
        "    ax.set_title(f'Reaction order: {order}')"
      ],
      "id": "4a7e18c8"
    },
    {
      "cell_type": "markdown",
      "metadata": {},
      "source": [
        "Based on these plots\n",
        "\n",
        "-   What do you think the reaction order of the reaction is?\n",
        "-   What’s the rate constant?\n",
        "-   What the unit of the rate constant?\n",
        "\n",
        "#### (f) Half-life\n",
        "\n",
        "What is the half-life of the reaction at these temperatures and is it\n",
        "constant through-out the reaction?\n",
        "\n",
        "#### (g) Activation energy\n",
        "\n",
        "With the assumption that the Arrhenius constant A and the activation\n",
        "energy are temperature independent in the interval measured, use the\n",
        "Arrhenius equation to calculate the activation energy of the\n",
        "isomerization of the compound A.\n",
        "\n",
        "Perform the calculation in the cell below."
      ],
      "id": "c6b71625-8f79-4e4d-ae23-311ed6f14802"
    },
    {
      "cell_type": "code",
      "execution_count": 83,
      "metadata": {},
      "outputs": [],
      "source": [
        "..."
      ],
      "id": "cde09bf7"
    },
    {
      "cell_type": "markdown",
      "metadata": {},
      "source": [
        "------------------------------------------------------------------------\n",
        "\n",
        "## The pH effect on an active site histidine residue\n",
        "\n",
        "Assume that a compound R can react with the unprotonated form of\n",
        "Histidine, $\\text{His}$, to form a covalent reaction product,\n",
        "$\\text{P}$: $$\n",
        "\\text{His} + \\text{R} \\rightarrow \\text{P}\n",
        "$$\n",
        "\n",
        "The protonated form of Histidine, $\\text{HisH}^+$, is in equilibrium\n",
        "with $\\text{His}$:\n",
        "\n",
        "$$\n",
        "\\text{HisH}^+ \\rightleftharpoons \\text{His} + \\text{H}^+\n",
        "$$\n",
        "\n",
        "The pKa value for this acid-base equilibrium is 6.0. Further assume that\n",
        "the total concentration of Histidine, is\n",
        "\n",
        "$$\n",
        "[\\text{HisH}^+] + [\\text{His}] = 10^{-3} \\ \\text{M}\n",
        "$$\n",
        "\n",
        "#### (a) Percentage unprotonated\n",
        "\n",
        "Using the Henderson-Hasselbach equation, calculate the percentage of\n",
        "unprotonated Histidine, $\\text{His}$, at pH 6.0."
      ],
      "id": "768ab9d0-7ded-4b94-baf2-b5d8e18e4560"
    },
    {
      "cell_type": "code",
      "execution_count": 84,
      "metadata": {
        "exercise": true
      },
      "outputs": [],
      "source": [
        "pKa = ...\n",
        "pH = ...\n",
        "\n",
        "... # Possible intermediate calculation, otherwise delete this line.\n",
        "\n",
        "percentage_unprotonated = ...\n",
        "print(f\"{percentage_unprotonated = } %\")"
      ],
      "id": "0de07c0d"
    },
    {
      "cell_type": "markdown",
      "metadata": {},
      "source": [
        "#### (b) Concentration\n",
        "\n",
        "Calculate $[\\text{His}]$ at pH 6"
      ],
      "id": "0c94a588-0fdb-49f6-8a07-9a0ac2c67a5e"
    },
    {
      "cell_type": "code",
      "execution_count": 86,
      "metadata": {
        "exercise": true
      },
      "outputs": [],
      "source": [
        "total_conc = ...\n",
        "his_conc = ...\n",
        "print(f\"{his_conc = } M\")"
      ],
      "id": "f22a2992"
    },
    {
      "cell_type": "markdown",
      "metadata": {},
      "source": [
        "#### (c) Reaction order\n",
        "\n",
        "The reaction equation for the reaction between $\\text{His}$ and\n",
        "$\\text{R}$ is\n",
        "\n",
        "$$\n",
        "v = - \\frac{d[\\text{His}]}{dt} = k \\cdot [\\text{His}] \\cdot [\\text{R}]\n",
        "$$\n",
        "\n",
        "What’s the reaction order?\n",
        "\n",
        "#### (d) High concentrations\n",
        "\n",
        "If $[\\text{R}]$ is much higher than $[\\text{His}]$, what can then be\n",
        "concluded regarding the order of the reaction?\n",
        "\n",
        "#### (e) New rate constant\n",
        "\n",
        "Show how a new rate constant, $k'$, can be defined in these conditions.\n",
        "How does $k'$ depend on $\\text{R}$?\n",
        "\n",
        "#### (f) SI Units\n",
        "\n",
        "At pH 6.0 the reaction rate $v = 1 \\ \\text{mM}\\cdot \\text{s}^{-1}$ and\n",
        "constant $[\\text{R}] = 0.2 \\ \\text{M}$\n",
        "\n",
        "Convert the reaction rate to SI-units given in\n",
        "$\\text{M}\\cdot \\text{s}^{-1}$."
      ],
      "id": "29b37de6-5d6a-4c07-8c44-a63e47670194"
    },
    {
      "cell_type": "code",
      "execution_count": 88,
      "metadata": {},
      "outputs": [],
      "source": [
        "..."
      ],
      "id": "d025448c"
    },
    {
      "cell_type": "markdown",
      "metadata": {},
      "source": [
        "#### (g) Calculate the rate constant\n",
        "\n",
        "Use the concentration of $[\\text{His}]$ at pH 6 calculated in question\n",
        "(b) and calculate the rate constant k."
      ],
      "id": "25af6852-4d39-4ce7-922d-9f7d0142f987"
    },
    {
      "cell_type": "code",
      "execution_count": 89,
      "metadata": {},
      "outputs": [],
      "source": [
        "..."
      ],
      "id": "8d4d13c2"
    }
  ],
  "nbformat": 4,
  "nbformat_minor": 5,
  "metadata": {
    "kernelspec": {
      "name": "python3",
      "display_name": "Python 3 (ipykernel)",
      "language": "python",
      "path": "/home/runner/work/fysisk-biokemi/fysisk-biokemi/.venv/share/jupyter/kernels/python3"
    },
    "language_info": {
      "name": "python",
      "codemirror_mode": {
        "name": "ipython",
        "version": "3"
      },
      "file_extension": ".py",
      "mimetype": "text/x-python",
      "nbconvert_exporter": "python",
      "pygments_lexer": "ipython3",
      "version": "3.11.13"
    }
  }
}