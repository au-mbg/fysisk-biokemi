{
  "cells": [
    {
      "cell_type": "markdown",
      "metadata": {},
      "source": [
        "# Self-study"
      ],
      "id": "4b5fd074-dd90-4989-a48a-124bab1b88f7"
    },
    {
      "cell_type": "code",
      "execution_count": 2,
      "metadata": {},
      "outputs": [],
      "source": [
        "try:\n",
        "    import fysisk_biokemi\n",
        "    print(\"Already installed\")\n",
        "except ImportError:\n",
        "    %pip install -q \"fysisk_biokemi[colab] @ git+https://github.com/au-mbg/fysisk-biokemi.git\""
      ],
      "id": "ec89442a"
    },
    {
      "cell_type": "markdown",
      "metadata": {},
      "source": [
        "------------------------------------------------------------------------"
      ],
      "id": "e82704aa-4c2c-4bc3-8e35-f520991bb06a"
    },
    {
      "cell_type": "code",
      "execution_count": 3,
      "metadata": {},
      "outputs": [],
      "source": [
        "import numpy as np"
      ],
      "id": "046826b7"
    },
    {
      "cell_type": "markdown",
      "metadata": {},
      "source": [
        "## 1 Python as a calculator\n",
        "\n",
        "We can use Jupyter notebooks as a calculator with all the operations we\n",
        "are familiar with from a regular calculator.\n",
        "\n",
        "``` python\n",
        "1 + 1       # Addition with +\n",
        "3 - 1       # Subtraction with - \n",
        "4 * 4       # Multiplication with *\n",
        "20 / 5      # Division with /\n",
        "```\n",
        "\n",
        "#### (a) Doing some calculations\n",
        "\n",
        "Use Jupyter notebook to calculate the following:\n",
        "\n",
        "1.  $21 + 21$\n",
        "2.  $53 - 11$\n",
        "3.  $6 \\times 7$\n",
        "4.  $\\frac{546}{13}$"
      ],
      "id": "c1513bd3-87e5-414d-a92c-772dc38345a7"
    },
    {
      "cell_type": "code",
      "execution_count": 4,
      "metadata": {
        "exercise": true
      },
      "outputs": [],
      "source": [
        "# Write your code in this cell"
      ],
      "id": "50dbc004"
    },
    {
      "cell_type": "markdown",
      "metadata": {},
      "source": [
        "#### (b) Using variables\n",
        "\n",
        "As also mentioned in “Introduction to the molecules of life”, it is\n",
        "often helpful to define quantities in variables, which gives them a name\n",
        "that can be used later. A variable is defined by using `=`, for example,\n",
        "we can define\n",
        "\n",
        "``` python\n",
        "a = 21 + 21\n",
        "```\n",
        "\n",
        "This means that the result of the calculation is stored in `a`.\n",
        "\n",
        "Repeat the calculations from exercise 1, but now save each result in a\n",
        "variable"
      ],
      "id": "3f472b1a-791f-4caf-898d-c13b3a0e311f"
    },
    {
      "cell_type": "code",
      "execution_count": 6,
      "metadata": {
        "exercise": true
      },
      "outputs": [],
      "source": [
        "a = 21 + 21 \n",
        "b = ... # Replace ... with your code\n",
        "# Create variables c and d. "
      ],
      "id": "7f42e348"
    },
    {
      "cell_type": "markdown",
      "metadata": {},
      "source": [
        "We can then use the defined variables in a new calculation"
      ],
      "id": "d2825955-9ca4-4f62-9872-0300be370083"
    },
    {
      "cell_type": "code",
      "execution_count": 8,
      "metadata": {},
      "outputs": [
        {
          "output_type": "stream",
          "name": "stdout",
          "text": [
            "42.0"
          ]
        }
      ],
      "source": [
        "total = (a + b + c + d) / 4\n",
        "print(total)"
      ],
      "id": "917b5397"
    },
    {
      "cell_type": "markdown",
      "metadata": {},
      "source": [
        "#### (c) A biological calculation\n",
        "\n",
        "In “Introduction to the molecules of life” we have made calculations\n",
        "about the number of cells in different parts of the body."
      ],
      "id": "7a8200e3-0c47-4bed-9456-354e5e2fdaef"
    },
    {
      "cell_type": "code",
      "execution_count": 9,
      "metadata": {},
      "outputs": [],
      "source": [
        "total_cells = 37_000_000_000_000\n",
        "brain_cells = 86_000_000_000\n",
        "liver_cells = 240_000_000_000\n",
        "skin_cells = 1_600_000_000_000"
      ],
      "id": "56a5f692"
    },
    {
      "cell_type": "markdown",
      "metadata": {},
      "source": [
        "Use Jupyter as a calculator to calculate the percentage each category\n",
        "represents of the total number of cells in the body, i.e., for each\n",
        "category calculate\n",
        "\n",
        "$$\n",
        "P = \\frac{\\mathrm{Number}}{\\mathrm{Total}} \\times 100\n",
        "$$"
      ],
      "id": "48c32bb3-c0ec-4829-9169-4466ba2e35dd"
    },
    {
      "cell_type": "code",
      "execution_count": 10,
      "metadata": {
        "exercise": true
      },
      "outputs": [],
      "source": [
        "brain_pct = ... # Replace ... with your code.\n",
        "liver_pct = ... # Replace ... with your code.\n",
        "# Calculate and create variable for skin_pct"
      ],
      "id": "8cd0afb7"
    },
    {
      "cell_type": "code",
      "execution_count": 12,
      "metadata": {},
      "outputs": [
        {
          "output_type": "stream",
          "name": "stdout",
          "text": [
            "0.23243243243243245\n",
            "0.6486486486486486\n",
            "4.324324324324325"
          ]
        }
      ],
      "source": [
        "print(brain_pct)\n",
        "print(liver_pct)\n",
        "print(skin_pct)"
      ],
      "id": "db04d9de"
    },
    {
      "cell_type": "markdown",
      "metadata": {},
      "source": [
        "#### (d) Using functions\n",
        "\n",
        "> **Note**\n",
        ">\n",
        "> When we perform the same calculation multiple times, it’s smart not to\n",
        "> have to write the same code again, it makes the code more readable and\n",
        "> reduces the chance of making errors. The way to avoid this is by using\n",
        "> **functions**, a function in Python defines a recipe that is executed\n",
        "> when it is called.\n",
        ">\n",
        "> Above, we have for example used the function `print` to write output.\n",
        "> A function is defined like this\n",
        ">\n",
        "> ``` python\n",
        "> def my_function(a, b):\n",
        ">     result = a * b \n",
        ">     return result\n",
        "> ```\n",
        ">\n",
        "> It’s important that the function is indented (pushed to the right) as\n",
        "> Python needs this to read it. When a function is defined as above, the\n",
        "> calculation is not performed, just like writing down a recipe doesn’t\n",
        "> make a meal, only when the function is “called” is it executed\n",
        ">\n",
        "> ``` python\n",
        "> my_function(6, 7) # Would give 6*7 = 42\n",
        "> ```\n",
        ">\n",
        ">     42\n",
        "\n",
        "Complete the function below so it calculates the percentage of `value`\n",
        "out of `total`."
      ],
      "id": "19250e3b-5062-46f1-a719-66b509993fe0"
    },
    {
      "cell_type": "code",
      "execution_count": 15,
      "metadata": {
        "exercise": true
      },
      "outputs": [],
      "source": [
        "def percentage(value, total):\n",
        "    result = ... # Replace ... with your code.\n",
        "    return result"
      ],
      "id": "64369c99"
    },
    {
      "cell_type": "markdown",
      "metadata": {},
      "source": [
        "We can then use the function to calculate the percentages"
      ],
      "id": "c895257b-3fd6-4d38-900f-a1e59cb0550f"
    },
    {
      "cell_type": "code",
      "execution_count": 17,
      "metadata": {},
      "outputs": [
        {
          "output_type": "stream",
          "name": "stdout",
          "text": [
            "0.23243243243243245 0.6486486486486486 4.324324324324325"
          ]
        }
      ],
      "source": [
        "brain_pct = percentage(brain_cells, total_cells)\n",
        "liver_pct = percentage(liver_cells, total_cells)\n",
        "skin_pct = percentage(skin_cells, total_cells)\n",
        "print(brain_pct, liver_pct, skin_pct)"
      ],
      "id": "423a3631"
    },
    {
      "cell_type": "markdown",
      "metadata": {},
      "source": [
        "#### (f) Special functions\n",
        "\n",
        "> **Note**\n",
        ">\n",
        "> We have now seen that we can use Jupyter notebooks as a calculator to\n",
        "> make calculations with the basic arithmetic operations. However, we\n",
        "> often need to calculate power functions, square roots, exponential\n",
        "> functions or logarithms.\n",
        ">\n",
        "> Fortunately, this is also easy with Python, as we can use a package\n",
        "> that implements these operations as functions - specifically `numpy`.\n",
        ">\n",
        "> Power functions, i.e., $x^k$ can be calculated as\n",
        ">\n",
        "> -   x\\*\\*k\n",
        ">\n",
        "> The other three can be calculated with NumPy as\n",
        ">\n",
        "> -   `np.sqrt`\n",
        "> -   `np.exp`\n",
        "> -   `np.log`\n",
        "\n",
        "Use numpy functions to calculate the following\n",
        "\n",
        "-   $6.4807^2$\n",
        "-   $\\sqrt{1764}$\n",
        "-   $e^{3.737669}$\n",
        "-   $\\log{(66.6863)}$"
      ],
      "id": "4ef76b04-e0b4-4c55-bce1-da21f3481191"
    },
    {
      "cell_type": "code",
      "execution_count": 18,
      "metadata": {
        "exercise": true
      },
      "outputs": [],
      "source": [
        "import numpy as np # This imports NumPy so we can use the functions.\n",
        "\n",
        "result_1 = ... # Your code here\n",
        "result_2 = ... # Your code here\n",
        "result_3 = ... # Your code here\n",
        "result_4 = ... # Your code here\n",
        "\n",
        "print(result_1, result_2, result_3, result_4)"
      ],
      "id": "ec542b83"
    },
    {
      "cell_type": "markdown",
      "metadata": {},
      "source": [
        "------------------------------------------------------------------------"
      ],
      "id": "62da1795-3802-4fbc-9747-9bc9b047f2c7"
    },
    {
      "cell_type": "code",
      "execution_count": 20,
      "metadata": {},
      "outputs": [],
      "source": [
        "import numpy as np"
      ],
      "id": "25bdc472"
    },
    {
      "cell_type": "markdown",
      "metadata": {},
      "source": [
        "## 2 Functions & arrays\n",
        "\n",
        "Previously we looked at functions, we will build on that now. Remember\n",
        "that a function is a recipe that describes how a calculation should be\n",
        "performed that can be reused many times.\n",
        "\n",
        "A function is defined with `def` followed by its name and its parameters\n",
        "(also called arguments) are placed in the parentheses."
      ],
      "id": "f06dbb7f-5717-4ec1-95c9-ebdc08b7a8be"
    },
    {
      "cell_type": "code",
      "execution_count": 21,
      "metadata": {},
      "outputs": [],
      "source": [
        "def my_function(a, b):\n",
        "    result = a * b \n",
        "    return result"
      ],
      "id": "98caebbd"
    },
    {
      "cell_type": "markdown",
      "metadata": {},
      "source": [
        "The function is only executed when it is called, in this case for\n",
        "example"
      ],
      "id": "3af8aa69-a1da-42f4-b230-55e73a09331b"
    },
    {
      "cell_type": "code",
      "execution_count": 22,
      "metadata": {},
      "outputs": [
        {
          "output_type": "stream",
          "name": "stdout",
          "text": [
            "42"
          ]
        }
      ],
      "source": [
        "my_result = my_function(6, 7)\n",
        "print(my_result)"
      ],
      "id": "ef68aab5"
    },
    {
      "cell_type": "markdown",
      "metadata": {},
      "source": [
        "Where we now have the output of the function in the variable\n",
        "`my_result`.\n",
        "\n",
        "#### (a) Calculaling cell sizes\n",
        "\n",
        "The tables below show the radius of different cell types\n",
        "\n",
        "| Cell type                     | Radius      |\n",
        "|-------------------------------|:------------|\n",
        "| Mycoplasma                    | ~0.2–0.3 µm |\n",
        "| Typical bacterium             | ~1–2 µm     |\n",
        "| Yeast cell (S. cerevisiae)    | ~5–7 µm     |\n",
        "| Red blood cells (human)       | ~7–8 µm     |\n",
        "| Lymphocyte (white blood cell) | ~8–10 µm    |\n",
        "| Typical animal cell           | ~10–20 µm   |\n",
        "| Typical plant cell            | ~20–100 µm  |\n",
        "| Human egg cell (oocyte)       | ~120–140 µm |\n",
        "| Neuron (cell body)            | ~10–100 µm  |\n",
        "\n",
        "Cell sizes\n",
        "\n",
        "We have previously calculated the volume of the cells by assuming that\n",
        "they are spherical, whereby the volume is given by\n",
        "\n",
        "$$\n",
        "V(r) = \\frac{4}{3}\\pi r^3\n",
        "$$\n",
        "\n",
        "Write a function that takes radius `r` as an argument and calculates\n",
        "volume -  \n",
        "you can use `np.pi` instead of writing $\\pi$ yourself!"
      ],
      "id": "c8c82819-1d7b-406f-82aa-00298c790775"
    },
    {
      "cell_type": "code",
      "execution_count": 23,
      "metadata": {
        "exercise": true
      },
      "outputs": [],
      "source": [
        "def ... # Replace with your code\n",
        "    ... # Replace with your code"
      ],
      "id": "853a49e6"
    },
    {
      "cell_type": "markdown",
      "metadata": {},
      "source": [
        "Call the function with some of the different radii from the table"
      ],
      "id": "4483ef89-fdf8-4599-9533-df8b899428be"
    },
    {
      "cell_type": "code",
      "execution_count": 25,
      "metadata": {
        "exercise": true
      },
      "outputs": [],
      "source": [
        "mycoplasma_volume = ... # Replace with your code\n",
        "print(mycoplasma_volume)\n",
        "# Do the same for some of the other cell types\n",
        "..."
      ],
      "id": "3f2c3d0e"
    },
    {
      "cell_type": "markdown",
      "metadata": {},
      "source": [
        "#### (b) Calculations with arrays.\n",
        "\n",
        "> **Note**\n",
        ">\n",
        "> We have previously seen some of the different data types in Python\n",
        ">\n",
        "> -   Integers `int`\n",
        "> -   Floats `float`\n",
        "> -   Strings `str`\n",
        ">\n",
        "> But there are many other types that can be helpful in different\n",
        "> contexts. One such type is numpy arrays, an example of a numpy array\n",
        "> is shown below\n",
        ">\n",
        "> ``` python\n",
        "> A = np.array([1.0, 2.5, 3.5])\n",
        "> ```\n",
        ">\n",
        "> One of the smart things about arrays is that we can perform operations\n",
        "> on all the content at once\n",
        ">\n",
        "> ``` python\n",
        "> B = 2 * A \n",
        "> print(B)\n",
        "> ```\n",
        ">\n",
        ">     [2. 5. 7.]\n",
        ">\n",
        "> The same is true for using the array `A` in a function, for example we\n",
        "> can write\n",
        ">\n",
        "> ``` python\n",
        "> def example_function(array):\n",
        ">     return 1 + array\n",
        ">\n",
        "> print(example_function(A))\n",
        "> ```\n",
        ">\n",
        ">     [2.  3.5 4.5]\n",
        "\n",
        "Create an array that contains the specified cell radii and use your\n",
        "`volume` function to calculate the volume of all cells at once"
      ],
      "id": "b1549826-2462-4f69-8c41-a099d00dc292"
    },
    {
      "cell_type": "code",
      "execution_count": 30,
      "metadata": {
        "exercise": true
      },
      "outputs": [],
      "source": [
        "radii = np.array([...]) # Replace ... with your code"
      ],
      "id": "729e4ec6"
    },
    {
      "cell_type": "code",
      "execution_count": 31,
      "metadata": {
        "exercise": true
      },
      "outputs": [],
      "source": [
        "cell_volumes = ... # Replace ... with your code.\n",
        "print(cell_volumes)"
      ],
      "id": "b5a38cf8"
    },
    {
      "cell_type": "markdown",
      "metadata": {},
      "source": [
        "#### (c) Array operations\n",
        "\n",
        "> **Note**\n",
        ">\n",
        "> There are many other operations we can perform on arrays, such as\n",
        "> finding the largest or smallest number\n",
        ">\n",
        "> We can find the cell type with the largest volume as\n",
        ">\n",
        "> ``` python\n",
        "> np.max(cell_volumes)\n",
        "> ```\n",
        ">\n",
        ">     np.float64(9202772.0799157)\n",
        ">\n",
        "> The corresponding function for finding the smallest number is called\n",
        "> `np.min`.\n",
        "\n",
        "The cell below creates an array with 1000 numbers"
      ],
      "id": "fe87dbc5-a09f-460d-ab4f-13f1c467d04d"
    },
    {
      "cell_type": "code",
      "execution_count": 35,
      "metadata": {},
      "outputs": [],
      "source": [
        "array_with_numbers = np.random.rand(1000) * np.exp(3.737669)"
      ],
      "id": "9e176497"
    },
    {
      "cell_type": "markdown",
      "metadata": {},
      "source": [
        "Use `np.max` to find the largest number in `array_with_numbers`"
      ],
      "id": "2d1e13db-4533-4328-97a2-8334eb7b2931"
    },
    {
      "cell_type": "code",
      "execution_count": 36,
      "metadata": {
        "exercise": true
      },
      "outputs": [],
      "source": [
        "largest_number = ... # Replace ... with your code\n",
        "print(largest_number)"
      ],
      "id": "d081c9a9"
    },
    {
      "cell_type": "markdown",
      "metadata": {},
      "source": [
        "##### (d) Array indexing\n",
        "\n",
        "> **Note**\n",
        ">\n",
        "> Sometimes we are interested in specific entries in an array, so we\n",
        "> also need to be able to extract data from an array. This is\n",
        "> “indexing”, for example if we have an array\n",
        ">\n",
        "> ``` python\n",
        "> my_array = np.array([0, 2, 4, 6, 8, 10, 12, 14, 16, 18, 20])\n",
        "> ```\n",
        ">\n",
        "> We can extract the fourth number like this\n",
        ">\n",
        "> ``` python\n",
        "> fourth_number = my_array[3] \n",
        "> ```\n",
        ">\n",
        "> In Python we start counting from 0, so the fourth number is found at\n",
        "> position 3.\n",
        "\n",
        "Use indexing to calculate the sum of\n",
        "\n",
        "-   The last number (Position 10)\n",
        "-   The second number (Position 1)\n",
        "-   The fourth number (Position ??)\n",
        "-   The eighth number (Position ??)"
      ],
      "id": "6b23d598-ee15-499f-9d52-454cd0f6f326"
    },
    {
      "cell_type": "code",
      "execution_count": 41,
      "metadata": {
        "exercise": true
      },
      "outputs": [],
      "source": [
        "sum_of_numbers = ... # Replace with your code\n",
        "print(sum_of_numbers)"
      ],
      "id": "115a022b"
    },
    {
      "cell_type": "markdown",
      "metadata": {},
      "source": [
        "#### (f) Working with data\n",
        "\n",
        "In molecular biology we often work with spectra, where the axes are for\n",
        "example\n",
        "\n",
        "-   $x$: Wavelength measured in nm\n",
        "-   $y$: Absorption coefficient"
      ],
      "id": "04bfed82-165a-453a-a9b7-00250d9b59a7"
    },
    {
      "cell_type": "code",
      "execution_count": 42,
      "metadata": {},
      "outputs": [
        {
          "output_type": "stream",
          "name": "stdout",
          "text": [
            "     Wavelength(nm)  AdsorptionCoefficient\n",
            "0               300              20487.000\n",
            "1               301              20547.000\n",
            "2               302              20642.000\n",
            "3               303              20767.000\n",
            "4               304              20899.000\n",
            "..              ...                    ...\n",
            "496             796                 26.665\n",
            "497             797                 15.556\n",
            "498             798                 29.164\n",
            "499             799                 21.473\n",
            "500             800                 18.396\n",
            "\n",
            "[501 rows x 2 columns]"
          ]
        }
      ],
      "source": [
        "from fysisk_biokemi import load_dataset\n",
        "\n",
        "df = load_dataset(\"chlorophyll\")\n",
        "print(df)\n",
        "\n",
        "wavelengths = df['Wavelength(nm)'] # An array with 501 entries\n",
        "absorption = df['AdsorptionCoefficient'] # An array with 501 entries"
      ],
      "id": "c8d17fe3"
    },
    {
      "cell_type": "code",
      "execution_count": 43,
      "metadata": {},
      "outputs": [
        {
          "output_type": "display_data",
          "metadata": {},
          "data": {
            "text/plain": [
              "Text(0, 0.5, 'Absorption Coefficient')"
            ]
          }
        },
        {
          "output_type": "display_data",
          "metadata": {},
          "data": {
            "image/png": "[encoded data removed]"
          }
        }
      ],
      "source": [
        "import matplotlib.pyplot as plt \n",
        "fig, ax = plt.subplots()\n",
        "ax.plot(wavelengths, absorption)\n",
        "ax.set_xlabel('Wavelength [nm]')\n",
        "ax.set_ylabel('Absorption Coefficient')"
      ],
      "id": "b36a8cc5"
    },
    {
      "cell_type": "markdown",
      "metadata": {},
      "source": [
        "> **Caution**\n",
        ">\n",
        "> How the plotting works with be explained in another exercise, for now\n",
        "> just appreciate the pretty plot.\n",
        "\n",
        "We want to use NumPy to find what the maximum absorption coefficient is,\n",
        "and at which wavelength it occurs.\n",
        "\n",
        "Start by finding the maximum absorption coefficient using `np.max`"
      ],
      "id": "67a9be4f-66e0-48ec-a014-5d995dea3700"
    },
    {
      "cell_type": "code",
      "execution_count": 45,
      "metadata": {
        "exercise": true
      },
      "outputs": [],
      "source": [
        "max_absorption = ... # Replace ... with your code\n",
        "print(max_absorption)"
      ],
      "id": "8f62094f"
    },
    {
      "cell_type": "markdown",
      "metadata": {},
      "source": [
        "We can use another function from NumPy to find the wavelength where the\n",
        "absorption coefficient has its maximum"
      ],
      "id": "c4cf471d-b689-4f42-86bf-de0e37edbd6e"
    },
    {
      "cell_type": "code",
      "execution_count": 46,
      "metadata": {},
      "outputs": [],
      "source": [
        "index_max_abs = np.argmax(absorption)"
      ],
      "id": "004ca9ab"
    },
    {
      "cell_type": "markdown",
      "metadata": {},
      "source": [
        "> **Note**\n",
        ">\n",
        "> `np.argmax` finds the index of the **arg**ument that contains the\n",
        "> **max** value.\n",
        "\n",
        "Now use `index_max_abs` to extract the corresponding wavelength from\n",
        "`wavelengths`"
      ],
      "id": "616c2f07-2731-48e8-b682-7ab6fb601e54"
    },
    {
      "cell_type": "code",
      "execution_count": 47,
      "metadata": {
        "exercise": true
      },
      "outputs": [],
      "source": [
        "wavelength_max_abs = ... # Your code here"
      ],
      "id": "3efb8756"
    },
    {
      "cell_type": "code",
      "execution_count": 49,
      "metadata": {
        "exercise": true
      },
      "outputs": [],
      "source": [
        "import matplotlib.pyplot as plt \n",
        "fig, ax = plt.subplots()\n",
        "ax.plot(wavelengths, absorption)\n",
        "ax.axvline(wavelength_max_abs, color='red')\n",
        "ax.set_xlabel('Wavelength [nm]')\n",
        "ax.set_ylabel('Absorption Coefficient')\n",
        "plt.show()"
      ],
      "id": "2569fcaf"
    },
    {
      "cell_type": "markdown",
      "metadata": {},
      "source": [
        "------------------------------------------------------------------------\n",
        "\n",
        "## 3 Parentheses\n",
        "\n",
        "Later in the course we will see equations such as the quadratic binding\n",
        "equation\n",
        "\n",
        "$$\n",
        "\\theta = \\frac{K_D + [P_{tot}] + [L_{tot}]}{2[P_{tot}]} - \\sqrt{\\left(\\frac{K_D + [P_{tot}] + [L_{tot}]}{2[P_{tot}]}\\right)^2 - \\frac{[L_{tot}]}{[P_{tot}]}},\n",
        "$$ which can be used to describe titration data that reports protein\n",
        "saturation as a function of total ligand concentration.\n",
        "\n",
        "Calculating this function requires that we are careful with parentheses!\n",
        "Which we have all learned, but since it is very important in this\n",
        "context, it is worth refreshing.\n",
        "\n",
        "#### (a) Mind the $(...)$\n",
        "\n",
        "For the following pairs of expressions, calculate both (by hand or\n",
        "mentally, according to preference.)\n",
        "\n",
        "-   $2 + 3 \\times 4$ vs. $(2 + 3) \\times 4$\n",
        "-   $10 - 2^2$ vs. $(10 - 2)^2$\n",
        "-   $100 / 10 \\times 2$ vs. $100 / (10 \\times 2)$\n",
        "-   $\\frac{12 + 8}{4}$ vs. $12 + 8 / 4$\n",
        "\n",
        "#### (b) Beware of the $(...)$\n",
        "\n",
        "For the three calculations below, consider what the result is **before**\n",
        "you run the cell."
      ],
      "id": "fdf95f31-7968-49af-bcf5-e8097e58cad2"
    },
    {
      "cell_type": "code",
      "execution_count": 51,
      "metadata": {
        "exercise": true
      },
      "outputs": [],
      "source": [
        "a = 1 + 2 * 3 ** 2"
      ],
      "id": "95b8420a"
    },
    {
      "cell_type": "code",
      "execution_count": 52,
      "metadata": {
        "exercise": true
      },
      "outputs": [],
      "source": [
        "b = (1 + 2) * 3 ** 2"
      ],
      "id": "7fef7935"
    },
    {
      "cell_type": "code",
      "execution_count": 53,
      "metadata": {
        "exercise": true
      },
      "outputs": [],
      "source": [
        "c = 1 + 2 * (3 ** 2)"
      ],
      "id": "432cb1e5"
    },
    {
      "cell_type": "markdown",
      "metadata": {},
      "source": [
        "The cell below prints the result for each calculation"
      ],
      "id": "c824cab8-4921-488b-b09e-1a22c83da0a8"
    },
    {
      "cell_type": "code",
      "execution_count": 57,
      "metadata": {},
      "outputs": [],
      "source": [
        "print(f\"{a = }\")\n",
        "print(f\"{b = }\")\n",
        "print(f\"{c = }\")"
      ],
      "id": "6f18e993"
    },
    {
      "cell_type": "markdown",
      "metadata": {},
      "source": [
        "#### (c) Fix the $(...)$\n",
        "\n",
        "We want to calculate the expression\n",
        "\n",
        "$$\n",
        "\\frac{a + b}{c + d}\n",
        "$$\n",
        "\n",
        "Someone has implemented the function below, but it is incorrect - your\n",
        "task is to fix it."
      ],
      "id": "418ec568-9283-4b64-ba04-1ed405cb3a2a"
    },
    {
      "cell_type": "code",
      "execution_count": 58,
      "metadata": {
        "exercise": true
      },
      "outputs": [],
      "source": [
        "def function(a, b, c, d):\n",
        "    return a + b / c + d\n",
        "\n",
        "result_1 = function(152, 16, 2, 2)\n",
        "print(result_1)"
      ],
      "id": "e1412f21"
    },
    {
      "cell_type": "markdown",
      "metadata": {},
      "source": [
        "#### (d) Implement the $(...)$\n",
        "\n",
        "The first term of the quadratic binding equation is\n",
        "\n",
        "$$\n",
        "\\frac{K_D + [P_{tot}] + [L_{tot}]}{2[P_{tot}]} = \\frac{a + b + c}{2 b}\n",
        "$$\n",
        "\n",
        "Complete the function below so it calculates this expression"
      ],
      "id": "4b83d616-9336-4fe8-8f28-b7303db7ac53"
    },
    {
      "cell_type": "code",
      "execution_count": 60,
      "metadata": {
        "exercise": true
      },
      "outputs": [],
      "source": [
        "def first_term(a, b, c):\n",
        "    return ... # Replace ... with your code.\n",
        "\n",
        "result = first_term(100, 2, 66)\n",
        "print(result)"
      ],
      "id": "b48a72af"
    },
    {
      "cell_type": "markdown",
      "metadata": {},
      "source": [
        "------------------------------------------------------------------------\n",
        "\n",
        "## 4 Working with datasets"
      ],
      "id": "75477793-2a69-4022-89bb-1de501ff3c29"
    },
    {
      "cell_type": "code",
      "execution_count": 62,
      "metadata": {},
      "outputs": [],
      "source": [
        "import numpy as np\n",
        "import pandas as pd\n",
        "from fysisk_biokemi import load_dataset, get_dataset_path\n",
        "import matplotlib.pyplot as plt"
      ],
      "id": "66769646"
    },
    {
      "cell_type": "markdown",
      "metadata": {},
      "source": [
        "We have previously looked at a dataset about the absorption spectrum of\n",
        "chlorophyll, but we weren’t focused on how we handled this dataset.\n",
        "\n",
        "What we achieved was plotting the dataset, as seen below"
      ],
      "id": "48cc8fd9-1296-45e8-b165-8d2c8986c337"
    },
    {
      "cell_type": "code",
      "execution_count": 63,
      "metadata": {},
      "outputs": [
        {
          "output_type": "display_data",
          "metadata": {},
          "data": {
            "text/plain": [
              "Text(0, 0.5, 'Absorption coefficient')"
            ]
          }
        },
        {
          "output_type": "display_data",
          "metadata": {},
          "data": {
            "image/png": "[encoded data removed]"
          }
        }
      ],
      "source": [
        "chloro_df = load_dataset(\"chlorophyll\")\n",
        "wavelengths = chloro_df['Wavelength(nm)'] # An array with 501 entries\n",
        "absorption = chloro_df['AdsorptionCoefficient'] # An array with 501 entries\n",
        "\n",
        "fig, ax = plt.subplots()\n",
        "ax.plot(wavelengths, absorption)\n",
        "ax.set_xlabel('Wavelength [nm]')\n",
        "ax.set_ylabel('Absorption coefficient')"
      ],
      "id": "f05971e2"
    },
    {
      "cell_type": "markdown",
      "metadata": {},
      "source": [
        "This time we will investigate a bit more how we can work with a dataset.\n",
        "\n",
        "### NumPy arrays as datasets.\n",
        "\n",
        "It is important that we keep good track of our data, it is often smart\n",
        "to use a data type that helps us with this. We have previously seen\n",
        "arrays, which is one possibility - e.g."
      ],
      "id": "b3d04339-35f9-40bb-94c0-1ded9c1ea041"
    },
    {
      "cell_type": "code",
      "execution_count": 64,
      "metadata": {},
      "outputs": [],
      "source": [
        "a = np.array([1, 2, 3, 4])\n",
        "b = np.array([1, 4, 9, 16])"
      ],
      "id": "20739b88"
    },
    {
      "cell_type": "markdown",
      "metadata": {},
      "source": [
        "But if we have many quantities it can quickly become unmanageable -\n",
        "another possibility is to store all our quantities in the same array"
      ],
      "id": "66d7395c-2a58-4f67-9472-ad26af73e08c"
    },
    {
      "cell_type": "code",
      "execution_count": 65,
      "metadata": {},
      "outputs": [
        {
          "output_type": "stream",
          "name": "stdout",
          "text": [
            "[1 2 3 4]\n",
            "[ 1  4  9 16]"
          ]
        }
      ],
      "source": [
        "combined_array = np.array([[1, 2, 3, 4], [1, 4, 9, 16]])\n",
        "print(combined_array[0, :]) # Corresponds to a\n",
        "print(combined_array[1, :]) # Corresponds to b"
      ],
      "id": "a8373ed5"
    },
    {
      "cell_type": "markdown",
      "metadata": {},
      "source": [
        "> **Note**\n",
        ">\n",
        "> NumPy arrays can have multiple dimensions, `combined_array` here has\n",
        "> two dimensions (like a matrix). In this case each row describes one of\n",
        "> our quantities. Here `:` is used to mean “all” in indexing so `[0, :]`\n",
        "> can be read as first row all columns.\n",
        "\n",
        "But then we need to keep track of which axis contains which quantity.\n",
        "Sometimes it can be fine to keep our data as `np.array` but other times\n",
        "it’s better in other ways.\n",
        "\n",
        "### Pandas `DataFrame`\n",
        "\n",
        "One such other way to handle a dataset is by using a new type, namely a\n",
        "pandas `DataFrame`.\n",
        "\n",
        "We can create a `DataFrame` from our two arrays like this;"
      ],
      "id": "69de65a5-d361-404b-bc7e-91dbb359f73b"
    },
    {
      "cell_type": "code",
      "execution_count": 66,
      "metadata": {},
      "outputs": [
        {
          "output_type": "stream",
          "name": "stdout",
          "text": [
            "   a   b\n",
            "0  1   1\n",
            "1  2   4\n",
            "2  3   9\n",
            "3  4  16"
          ]
        }
      ],
      "source": [
        "df = pd.DataFrame({\"a\": a, \"b\": b})\n",
        "df.style.hide() # This just make printing a bit simpler\n",
        "print(df)"
      ],
      "id": "cc26776e"
    },
    {
      "cell_type": "markdown",
      "metadata": {},
      "source": [
        "Here we have three columns, the first is `index`, the second is `a` and\n",
        "the third is `b`.\n",
        "\n",
        "> **Note**\n",
        ">\n",
        "> The chlorophyll dataset was actually also a `DataFrame`.\n",
        "\n",
        "With a `DataFrame` we have more possibilities for indexing, we can for\n",
        "example use the name of the column."
      ],
      "id": "35f5642c-b059-4a71-b583-f45238925d54"
    },
    {
      "cell_type": "code",
      "execution_count": 67,
      "metadata": {},
      "outputs": [
        {
          "output_type": "stream",
          "name": "stdout",
          "text": [
            "0    1\n",
            "1    2\n",
            "2    3\n",
            "3    4\n",
            "Name: a, dtype: int64"
          ]
        }
      ],
      "source": [
        "print(df['a'])"
      ],
      "id": "fb782c87"
    },
    {
      "cell_type": "markdown",
      "metadata": {},
      "source": [
        "#### (a) Calculations with a dataset\n",
        "\n",
        "Calculate the formula $2 \\times a$ where $a$ comes from the dataset\n",
        "above `df`"
      ],
      "id": "ba74f140-f7a7-495b-a3e8-08dfaeb7cbde"
    },
    {
      "cell_type": "code",
      "execution_count": 68,
      "metadata": {
        "exercise": true
      },
      "outputs": [],
      "source": [
        "result = ... # Replace ... with your code.\n",
        "print(result)"
      ],
      "id": "eda1270a"
    },
    {
      "cell_type": "markdown",
      "metadata": {},
      "source": [
        "#### (b) Elementwise operations\n",
        "\n",
        "We can also add two arrays together using whats called an *elementwise*\n",
        "operation where for example the first element of each array are added,\n",
        "the second elements are added and so on.\n",
        "\n",
        "Use this to calculate $c = a + b$."
      ],
      "id": "d615476d-e446-46fc-81af-42da466f69d5"
    },
    {
      "cell_type": "code",
      "execution_count": 70,
      "metadata": {
        "exercise": true
      },
      "outputs": [],
      "source": [
        "c = ... # Replace ... with your code\n",
        "print(c)"
      ],
      "id": "11855797"
    },
    {
      "cell_type": "markdown",
      "metadata": {},
      "source": [
        "#### (c) Plotting a dataset\n",
        "\n",
        "Make a plot of $a$ versus $b$ where the two quantities come from the\n",
        "`DataFrame` `df`."
      ],
      "id": "a9768b08-dfcc-40df-b706-ce938bde7f18"
    },
    {
      "cell_type": "code",
      "execution_count": 72,
      "metadata": {
        "exercise": true
      },
      "outputs": [],
      "source": [
        "fig, ax = plt.subplots()\n",
        "... # Write your code to plot."
      ],
      "id": "97993d0a"
    },
    {
      "cell_type": "markdown",
      "metadata": {},
      "source": [
        "> **Tip**\n",
        ">\n",
        "> You need to extract the two columns `df['a']` and `df['b']` and put\n",
        "> those in `ax.plot(..., ...)`.\n",
        "\n",
        "#### (d) Datasets from files\n",
        "\n",
        "> **Note**\n",
        ">\n",
        "> Often we don’t want to write our dataset directly into code, but store\n",
        "> them as separate files that could for example come from experimental\n",
        "> equipment.\n",
        ">\n",
        "> We can get data from an Excel file, like this\n",
        ">\n",
        "> ``` python\n",
        "> #| eval: false\n",
        "> dataset_path = \"/path/to/the/file/that/has/our/data.xlsx\"\n",
        "> df = pd.read_excel(dataset_path)\n",
        "> ```\n",
        "\n",
        "Through out the course we will use a widget to load datasets from your\n",
        "computer, this makes it a little easier to manage with Google Colab.\n",
        "\n",
        "You can run the cell below and click on the “Upload”-button that appears\n",
        "and you use that to select the `reverse_reaction.xlsx` dataset that you\n",
        "can download from here\n",
        "[datasets](https://au-mbg.github.io/fysisk-biokemi/student/datasets.html)\n",
        "under the “Additional Datasets” tab at the bottom of the page.\n",
        "\n",
        "You should save it somewhere where you can find it again - a good idea\n",
        "would be to put it in a folder specifically for this course."
      ],
      "id": "59dd4162-defc-4961-867e-ef89c0d63ae7"
    },
    {
      "cell_type": "code",
      "execution_count": 74,
      "metadata": {},
      "outputs": [],
      "source": [
        "from fysisk_biokemi.widgets import DataUploader\n",
        "from IPython.display import display \n",
        "uploader = DataUploader()\n",
        "uploader.display()"
      ],
      "id": "7d58ee5e"
    },
    {
      "cell_type": "markdown",
      "metadata": {},
      "source": [
        "Once you’ve uploaded the dataset you can run the next cell"
      ],
      "id": "bd8ef330-810c-4829-a781-61b6fbc4affc"
    },
    {
      "cell_type": "code",
      "execution_count": 75,
      "metadata": {},
      "outputs": [],
      "source": [
        "df = uploader.get_dataframe()\n",
        "display(df)"
      ],
      "id": "96d1cac0"
    },
    {
      "cell_type": "markdown",
      "metadata": {},
      "source": [
        "Based on the information that has been printed out what do you think the\n",
        "dataset contains? Think about the following\n",
        "\n",
        "-   How many columns are there?\n",
        "-   What is the title of each column?\n",
        "-   How many rows are there?\n",
        "\n",
        "### (f) Plot the dataset\n",
        "\n",
        "Now that we have retrieved the dataset we want to investigate it more\n",
        "easily by plotting it.\n",
        "\n",
        "Complete the code below"
      ],
      "id": "c4e34e46-ba84-489f-ae3b-c6eac220ded1"
    },
    {
      "cell_type": "code",
      "execution_count": 77,
      "metadata": {
        "exercise": true
      },
      "outputs": [],
      "source": [
        "fig, ax = plt.subplots()\n",
        "ax.plot(df['time'], ..., label='[A]') # Replace ... with your code\n",
        "... # Replace ... with your code that plots time versus concentration_B \n",
        "ax.set_ylabel('Concentration') # Sets name on y-axis\n",
        "ax.set_xlabel('Time') # Sets name on x-axis\n",
        "ax.legend()# Shows what 'label' each plotted curve has."
      ],
      "id": "da171629"
    },
    {
      "cell_type": "markdown",
      "metadata": {},
      "source": [
        "What do you think the dataset shows?\n",
        "\n",
        "#### (g) Calculation with dataset\n",
        "\n",
        "As mentioned we can also do calculations with a dataset. Calculate $$\n",
        "[T] = [A] + [B]\n",
        "$$ And complete the plot in the cell below"
      ],
      "id": "ee5b5a2b-0ae8-4f57-8678-0cc157546706"
    },
    {
      "cell_type": "code",
      "execution_count": 79,
      "metadata": {
        "exercise": true
      },
      "outputs": [],
      "source": [
        "concentration_T = ... # Replace ... with your code\n",
        "\n",
        "fig, ax = plt.subplots()\n",
        "ax.plot(..., ..., label='[T]', color='C2') # Replace both ... with your code.\n",
        "\n",
        "# From before\n",
        "ax.plot(df['time'], df['concentration_A'], label='[A]')\n",
        "ax.plot(df['time'], df['concentration_B'], label='[B]')\n",
        "ax.set_ylabel('Concentration') # Sets name on y-axis\n",
        "ax.set_xlabel('Time') # Sets name on x-axis\n",
        "ax.legend() # Shows what 'label' each plotted curve has."
      ],
      "id": "3eeaaa3a"
    },
    {
      "cell_type": "markdown",
      "metadata": {},
      "source": [
        "Why do you think it looks like it does?"
      ],
      "id": "8a9ef582-a349-4e47-af1d-ac8fa709e55b"
    }
  ],
  "nbformat": 4,
  "nbformat_minor": 5,
  "metadata": {
    "kernelspec": {
      "name": "python3",
      "display_name": "Python 3 (ipykernel)",
      "language": "python",
      "path": "/home/runner/work/fysisk-biokemi/fysisk-biokemi/.venv/share/jupyter/kernels/python3"
    },
    "language_info": {
      "name": "python",
      "codemirror_mode": {
        "name": "ipython",
        "version": "3"
      },
      "file_extension": ".py",
      "mimetype": "text/x-python",
      "nbconvert_exporter": "python",
      "pygments_lexer": "ipython3",
      "version": "3.11.13"
    }
  }
}