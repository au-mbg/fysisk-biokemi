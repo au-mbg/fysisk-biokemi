{
  "cells": [
    {
      "cell_type": "markdown",
      "metadata": {},
      "source": [
        "# Week 46"
      ],
      "id": "f3acef03-22f2-4469-8c1a-70e4cc406b1a"
    },
    {
      "cell_type": "code",
      "execution_count": 2,
      "metadata": {},
      "outputs": [],
      "source": [
        "try:\n",
        "    import fysisk_biokemi\n",
        "    print(\"Already installed\")\n",
        "except ImportError:\n",
        "    %pip install -q \"fysisk_biokemi[colab] @ git+https://github.com/au-mbg/fysisk-biokemi.git\""
      ],
      "id": "3e58bd6a"
    },
    {
      "cell_type": "markdown",
      "metadata": {},
      "source": [
        "------------------------------------------------------------------------\n",
        "\n",
        "## 1 Python: Introduction to curve fitting"
      ],
      "id": "85aa1bb0-cd74-43d3-be0e-95010ba7205a"
    },
    {
      "cell_type": "code",
      "execution_count": 3,
      "metadata": {},
      "outputs": [],
      "source": [
        "import numpy as np\n",
        "import matplotlib.pyplot as plt\n",
        "from scipy.optimize import curve_fit"
      ],
      "id": "ed9891a2"
    },
    {
      "cell_type": "markdown",
      "metadata": {},
      "source": [
        "Curve fitting is a fundamental skill in biochemistry and biophysics for\n",
        "analyzing experimental data. We use curve fitting to determine\n",
        "parameters in mathematical models that describe biological processes\n",
        "like enzyme kinetics, binding affinity, and reaction rates.\n",
        "\n",
        "The basic idea is to find the parameters of a mathematical function that\n",
        "best describes our experimental data.\n",
        "\n",
        "#### (a) Understanding the problem\n",
        "\n",
        "Let’s start with some simple data that follows a linear relationship.\n",
        "The data below represents a theoretical experiment where we measure some\n",
        "output $y$ at different input values $x$:"
      ],
      "id": "604bf8d4-b6aa-4c05-a8fd-fd06c5b81af6"
    },
    {
      "cell_type": "code",
      "execution_count": 4,
      "metadata": {},
      "outputs": [],
      "source": [
        "# Generate some data with noise\n",
        "x_data = np.array([1, 2, 3, 4, 5, 6, 7, 8, 9, 10])\n",
        "y_data = np.array([2.1, 4.2, 6.0, 7.8, 10.1, 12.2, 13.9, 16.1, 18.0, 20.2])"
      ],
      "id": "029b6795"
    },
    {
      "cell_type": "code",
      "execution_count": 5,
      "metadata": {
        "exercise": true
      },
      "outputs": [],
      "source": [
        "# Plot the data\n",
        "fig, ax = plt.subplots(figsize=(6, 4))\n",
        "\n",
        "# Plot the data as a scatter plot!\n",
        "..."
      ],
      "id": "48b3249e"
    },
    {
      "cell_type": "markdown",
      "metadata": {},
      "source": [
        "Looking at this data, we can see it roughly follows a straight line.\n",
        "Let’s assume our model is:\n",
        "\n",
        "$$y = ax + b$$\n",
        "\n",
        "where $a$ and $b$ are parameters we want to determine from the data.\n",
        "\n",
        "#### (b) Defining a fitting function\n",
        "\n",
        "To use `scipy.optimize.curve_fit`, we need to define a function where:\n",
        "\n",
        "-   The **first** argument is the independent variable (x)  \n",
        "-   The remaining arguments are the parameters to be fitted\n",
        "\n",
        "Define a linear function for fitting:"
      ],
      "id": "157fc26f-a445-40eb-8896-c0993103191a"
    },
    {
      "cell_type": "code",
      "execution_count": 7,
      "metadata": {
        "exercise": true
      },
      "outputs": [],
      "source": [
        "def linear_function(x, a, b):\n",
        "    return ... # Complete this line"
      ],
      "id": "42139229"
    },
    {
      "cell_type": "markdown",
      "metadata": {},
      "source": [
        "Always a good idea to check that your function works as expected"
      ],
      "id": "41867108-f3a4-4a4a-b3dc-9c172f393a26"
    },
    {
      "cell_type": "code",
      "execution_count": 9,
      "metadata": {},
      "outputs": [
        {
          "output_type": "display_data",
          "metadata": {},
          "data": {
            "text/plain": [
              "2"
            ]
          }
        }
      ],
      "source": [
        "linear_function(1, 2, 0) # Should give 2"
      ],
      "id": "61fd627d"
    },
    {
      "cell_type": "markdown",
      "metadata": {},
      "source": [
        "Come up with another test case to check"
      ],
      "id": "377cf4b3-4bf7-4459-bede-9449d38881d4"
    },
    {
      "cell_type": "code",
      "execution_count": 10,
      "metadata": {
        "exercise": true
      },
      "outputs": [],
      "source": [
        "print(linear_function(0, 2, 3)) # Should give 3 \n",
        "print(linear_function(1, 2, 3)) # Should give 5"
      ],
      "id": "25c779d2"
    },
    {
      "cell_type": "markdown",
      "metadata": {},
      "source": [
        "#### (c) Your first curve fit\n",
        "\n",
        "Now we can use `curve_fit` to find the best parameters. The basic syntax\n",
        "is:\n",
        "\n",
        "``` python\n",
        "popt, pcov = curve_fit(function, x_data, y_data, p0=initial_guess)\n",
        "```\n",
        "\n",
        "Where:\n",
        "\n",
        "-   `function`: The function we defined above\n",
        "-   `x_data`, `y_data`: Our experimental data\n",
        "-   `p0`: Initial guess for parameters (optional but recommended)\n",
        "-   `popt`: The optimized parameters (what we want!)\n",
        "-   `pcov`: Covariance matrix (contains information about parameter\n",
        "    uncertainties, which you don’t need to worry about at the moment.)\n",
        "\n",
        "Finish the cell below to perform the curve fit by adding the three\n",
        "missing arguments to the call to `curve_fit`."
      ],
      "id": "defea344-b111-4fca-8f5f-c7954d7a2957"
    },
    {
      "cell_type": "code",
      "execution_count": 12,
      "metadata": {
        "exercise": true
      },
      "outputs": [],
      "source": [
        "# Initial guess: a=2, b=0\n",
        "p0 = [2, 0]\n",
        "\n",
        "# Perform the fit\n",
        "popt, pcov = curve_fit(..., ..., ..., p0=p0)\n",
        "\n",
        "# Extract parameters\n",
        "a_fit, b_fit = popt\n",
        "print(f\"Fitted parameters: a = {a_fit:.3f}, b = {b_fit:.3f}\")"
      ],
      "id": "f095493c"
    },
    {
      "cell_type": "markdown",
      "metadata": {},
      "source": [
        "#### (d) Visualizing the fit\n",
        "\n",
        "It’s crucial to always plot your fit to see how well it describes the\n",
        "data. To do this we evaluate the function with the fitted parameters and\n",
        "a densely sampled independent variable."
      ],
      "id": "364585d3-18b3-44b3-adfe-157261983285"
    },
    {
      "cell_type": "code",
      "execution_count": 14,
      "metadata": {
        "exercise": true
      },
      "outputs": [],
      "source": [
        "x_smooth = np.linspace(0, 11, 100) # Makes 100 equally spaced points between 0 and 11. \n",
        "y_fit = ... # Call the linear function using x_smooth, a_fit and b_fit"
      ],
      "id": "895b83b2"
    },
    {
      "cell_type": "markdown",
      "metadata": {},
      "source": [
        "Then we can plot it"
      ],
      "id": "460ce7f1-5e0e-4117-900f-cf674264cc4e"
    },
    {
      "cell_type": "code",
      "execution_count": 16,
      "metadata": {
        "exercise": true
      },
      "outputs": [],
      "source": [
        "fig, ax = plt.subplots(figsize=(6, 4))\n",
        "ax.plot(x_data, y_data, 'o', markersize=8, label='Experimental data')\n",
        "\n",
        "# Then we can plot the fit\n",
        "ax.plot(..., ..., '-', linewidth=2, label=f'Fit: y = {a_fit:.2f}x + {b_fit:.2f}') \n",
        "ax.set_xlabel('x')\n",
        "ax.set_ylabel('y') \n",
        "ax.legend()\n",
        "ax.set_title('Fit')"
      ],
      "id": "3eaa7862"
    },
    {
      "cell_type": "markdown",
      "metadata": {},
      "source": [
        "#### (e) Nonlinear fitting: Exponential decay\n",
        "\n",
        "Many biological processes follow nonlinear relationships. Let’s work\n",
        "with exponential decay, which is common in biochemistry (e.g.,\n",
        "radioactive decay or unimolecular chemical reactions).\n",
        "\n",
        "First, let’s generate some exponential data:"
      ],
      "id": "da58e3bd-e768-4798-b10b-3264b076dde1"
    },
    {
      "cell_type": "code",
      "execution_count": 18,
      "metadata": {
        "exercise": true
      },
      "outputs": [],
      "source": [
        "# Generate exponential decay data\n",
        "t = np.array([0, 0.5, 1.0, 1.5, 2.0, 2.5, 3.0, 3.5, 4.0, 4.5, 5.0])\n",
        "# True parameters: A=10, k=0.8\n",
        "A_true, k_true = 10, 0.8\n",
        "signal = A_true * np.exp(-k_true * t) + np.random.normal(0, 0.3, len(t))\n",
        "\n",
        "fig, ax = plt.subplots(figsize=(6, 4))\n",
        "ax.plot(t, signal, 'o', markersize=8)\n",
        "ax.set_xlabel('Time')\n",
        "ax.set_ylabel('Signal')\n",
        "ax.set_title('Exponential decay data')"
      ],
      "id": "30f68ebb"
    },
    {
      "cell_type": "markdown",
      "metadata": {},
      "source": [
        "The model we want to fit is: $$\\text{signal} = A e^{-kt}$$\n",
        "\n",
        "Define the exponential decay function:"
      ],
      "id": "6857a77b-48f6-4345-ace7-c853612bf5a8"
    },
    {
      "cell_type": "code",
      "execution_count": 20,
      "metadata": {
        "exercise": true
      },
      "outputs": [],
      "source": [
        "def exponential_decay(t, A, k):\n",
        "    return ... # Complete this line"
      ],
      "id": "bb98b67f"
    },
    {
      "cell_type": "markdown",
      "metadata": {},
      "source": [
        "Now fit the exponential function to the data:"
      ],
      "id": "41ca7cbe-656d-4b6a-b222-e18b0fe3683e"
    },
    {
      "cell_type": "code",
      "execution_count": 22,
      "metadata": {
        "exercise": true
      },
      "outputs": [],
      "source": [
        "# Initial guess: A=8, k=1\n",
        "p0 = [8, 1]\n",
        "\n",
        "# Perform the fit\n",
        "popt, pcov = curve_fit(..., ..., ..., p0=p0)\n",
        "\n",
        "# Extract parameters\n",
        "A_fit, k_fit = popt\n",
        "print(f\"Fitted parameters: A = {A_fit:.3f}, k = {k_fit:.3f}\")\n",
        "print(f\"True parameters:   A = {A_true:.3f}, k = {k_true:.3f}\")"
      ],
      "id": "7ad0fc59"
    },
    {
      "cell_type": "markdown",
      "metadata": {},
      "source": [
        "Again we should plot to check that it looks as expected"
      ],
      "id": "427154a7-a356-4965-b322-06db73c3ca85"
    },
    {
      "cell_type": "code",
      "execution_count": 24,
      "metadata": {
        "exercise": true
      },
      "outputs": [],
      "source": [
        "t_smooth = np.linspace(0, 5, 100)\n",
        "signal_fit = ... # Evaluate using the exponential_decay funciton"
      ],
      "id": "ebf3f441"
    },
    {
      "cell_type": "markdown",
      "metadata": {},
      "source": [
        "------------------------------------------------------------------------\n",
        "\n",
        "> **Key points for successful curve fitting:**\n",
        ">\n",
        "> 1.  **Always plot your data first** to understand what kind of\n",
        ">     function might fit\n",
        "> 2.  **Provide good initial guesses** (`p0`) - poor guesses can lead to\n",
        ">     fitting failure\n",
        "> 3.  **Use parameter bounds** when you know physical constraints\n",
        "> 4.  **Always plot the fit** to visually check if it makes sense\n",
        "> 5.  **Check if parameters are reasonable** based on your biochemical\n",
        ">     knowledge\n",
        "\n",
        "> **Common pitfalls:**\n",
        ">\n",
        "> -   **Overfitting**: Using too many parameters for the amount of data\n",
        ">     you have\n",
        "> -   **Poor initial guesses**: Can cause the fit to fail or find a\n",
        ">     local minimum\n",
        "> -   **Ignoring physical constraints**: Fitted parameters should make\n",
        ">     biological sense\n",
        "> -   **Not checking the fit visually**: Always plot to see if the fit\n",
        ">     is reasonable\n",
        "\n",
        "> **Summary of `curve_fit`**\n",
        ">\n",
        "> Fitting refers to finding the parameters that make an assumed\n",
        "> functional form best ‘fit’ the data. Programmatically we will use the\n",
        "> `curve_fit` from the `scipy` package to do so. The signature of this\n",
        "> function looks like this\n",
        ">\n",
        "> ``` python\n",
        "> curve_fit(function, \n",
        ">             x_data, \n",
        ">             y_data, \n",
        ">             p0=[param_1, param_2, ...])\n",
        "> ```\n",
        ">\n",
        "> The arguments are\n",
        ">\n",
        "> -   `function`: A python function where the **first** argument is the\n",
        ">     independent variable, and other arguments are the parameters of\n",
        ">     the functions.\n",
        "> -   `x_data`: The observed values of the independent variable.\n",
        "> -   `y_data`: The observed values of the dependent variable.\n",
        "> -   `p0`: Initial guesses for the parameters.\n",
        ">\n",
        "> When called `curve_fit` starts by calculating how well the functions\n",
        "> fits the data with the initial parameters in `p0` and then iteratively\n",
        "> improves the fit by trying new values for the parameters in an\n",
        "> intelligent way.\n",
        ">\n",
        "> The found parameters will generally depend on `p0` and it is therefore\n",
        "> necessary to provide a good (or good enough) guess for `p0`.\n",
        ">\n",
        "> Generally, the best way to learn more about a function is to read it’s\n",
        "> documentation and then play around with it. The documentation is in\n",
        "> this case on the [SciPy\n",
        "> website](https://docs.scipy.org/doc/scipy/reference/generated/scipy.optimize.curve_fit.html).\n",
        "> You don’t need to read it, unless you want more details.\n",
        "\n",
        "You now have the fundamental skills needed to fit curves to biochemical\n",
        "data! In the exercises, you’ll apply these techniques to analyze real\n",
        "experimental data and extract meaningful biological parameters.\n",
        "\n",
        "------------------------------------------------------------------------\n",
        "\n",
        "## 2 Estimation of binding affinity\n",
        "\n",
        "#### (a) Train estimation skills\n",
        "\n",
        "Train your estimation skills using the widget below."
      ],
      "id": "f53670bb-e31c-48eb-9546-736fc8ea5b21"
    },
    {
      "cell_type": "code",
      "execution_count": 28,
      "metadata": {},
      "outputs": [],
      "source": [
        "from fysisk_biokemi.widgets.utils.colab import enable_custom_widget_colab\n",
        "from fysisk_biokemi.widgets import estimate_kd\n",
        "\n",
        "enable_custom_widget_colab()\n",
        "estimate_kd()"
      ],
      "id": "79cf3257"
    },
    {
      "cell_type": "markdown",
      "metadata": {},
      "source": [
        "#### (b) Compare to quadratic\n",
        "\n",
        "The widget below shows the curves for $\\theta$ using both the simple\n",
        "expression assuming that $L = L_{tot}$ and the quadratic binding\n",
        "expression. Vary $K_D$ and $P_{total}$ to work out a rule of thumb for\n",
        "when the two equations give a similar curve."
      ],
      "id": "f62dee3a-b6e7-41e1-b884-090778d2b5c6"
    },
    {
      "cell_type": "code",
      "execution_count": 29,
      "metadata": {},
      "outputs": [],
      "source": [
        "from fysisk_biokemi.widgets.utils.colab import enable_custom_widget_colab\n",
        "from fysisk_biokemi.widgets import visualize_simple_vs_quadratic\n",
        "\n",
        "enable_custom_widget_colab()\n",
        "visualize_simple_vs_quadratic()"
      ],
      "id": "c60a7f5f"
    },
    {
      "cell_type": "markdown",
      "metadata": {},
      "source": [
        "------------------------------------------------------------------------\n",
        "\n",
        "## 3 Dialysis experiment"
      ],
      "id": "011bd576-c4d7-4799-a354-7997ee58b396"
    },
    {
      "cell_type": "code",
      "execution_count": 31,
      "metadata": {},
      "outputs": [],
      "source": [
        "import numpy as np"
      ],
      "id": "60fcbe4c"
    },
    {
      "cell_type": "markdown",
      "metadata": {},
      "source": [
        "A dialysis experiment was set up where equal amounts of a protein were\n",
        "separately dialyzing against buffers containing different concentrations\n",
        "of a ligand – each measurement was done in triplicate. The average\n",
        "number of ligands bound per protein molecule, $\\bar{n}$ were obtained\n",
        "from these experiments. The corresponding concentrations of free ligand\n",
        "and values are given in dataset `dialys-exper.xlsx`.\n",
        "\n",
        "#### (a) Load the dataset"
      ],
      "id": "7fa62291-3177-4b4e-b5fe-a1b0d932ba66"
    },
    {
      "cell_type": "code",
      "execution_count": 32,
      "metadata": {},
      "outputs": [],
      "source": [
        "from fysisk_biokemi.widgets import DataUploader\n",
        "from IPython.display import display \n",
        "uploader = DataUploader()\n",
        "uploader.display()"
      ],
      "id": "37166e91"
    },
    {
      "cell_type": "markdown",
      "metadata": {},
      "source": [
        "Run the next cell **after** uploading the file"
      ],
      "id": "407cfe7c-1578-4660-ba82-b417507ed68c"
    },
    {
      "cell_type": "code",
      "execution_count": 33,
      "metadata": {},
      "outputs": [],
      "source": [
        "df = uploader.get_dataframe()\n",
        "display(df)"
      ],
      "id": "f17760a7"
    },
    {
      "cell_type": "markdown",
      "metadata": {},
      "source": [
        "#### (b) Explain calculation of $\\bar{n}$\n",
        "\n",
        "Explain how the values of $\\bar{n}$ is calculated when knowing the\n",
        "concentrations of ligand inside and outside the dialysis bag, as well as\n",
        "the total concentration of the protein, \\[$\\text{P}_{\\text{tot}}$\\].\n",
        "\n",
        "#### (c) Molar concentrations\n",
        "\n",
        "Convert the concentrations of free ligand to SI-units given in M, add it\n",
        "as a row to the `DataFrame`.\n",
        "\n",
        "#### (c) Plot the data"
      ],
      "id": "58733d8c-9110-4ba2-8713-83fc5860e866"
    },
    {
      "cell_type": "code",
      "execution_count": 36,
      "metadata": {
        "exercise": true
      },
      "outputs": [],
      "source": [
        "import matplotlib.pyplot as plt\n",
        "\n",
        "fig, ax = plt.subplots()\n",
        "\n",
        "# The 'o' means we plot just the points and don't connect them.\n",
        "ax.plot(..., ..., 'o') # Replace ... with your code.\n",
        "\n",
        "ax.set_xlabel('Free ligand [L] (M)', fontsize=16)\n",
        "ax.set_ylabel(r'$\\bar{n}$', fontsize=16)"
      ],
      "id": "2126f392"
    },
    {
      "cell_type": "markdown",
      "metadata": {},
      "source": [
        "#### (d) Prepare for fitting\n",
        "\n",
        "Now we want to fit the data to extract $K_D$ and $n$, by using the\n",
        "equation\n",
        "\n",
        "$$\n",
        "\\bar{n}([L_{\\text{free}}]) = n \\frac{[L_{\\text{free}}]}{K_D + [L_{\\text{free}}]}\n",
        "$$\n",
        "\n",
        "To do so we need to implmenet it as a Python function"
      ],
      "id": "8156fb9e-3e6d-4c08-8f50-3b1f0c421a5a"
    },
    {
      "cell_type": "code",
      "execution_count": 38,
      "metadata": {
        "exercise": true
      },
      "outputs": [],
      "source": [
        "def nbar(L, n, K_D):\n",
        "    # Replace ... with your code that calculates the above equation. \n",
        "    # Be careful with parenthesis!\n",
        "    result = ... \n",
        "    return result\n",
        "\n",
        "print(f\"{nbar(1, 1, 1) = }\") # Should give 1/2\n",
        "print(f\"{nbar(21, 47, 2.5) = }\") # Should give 42"
      ],
      "id": "3a913d68"
    },
    {
      "cell_type": "markdown",
      "metadata": {},
      "source": [
        "#### (e) Actually fitting\n",
        "\n",
        "Finish the code to perform the fitting in the cell below."
      ],
      "id": "5340d11f-272d-4a43-88c1-90bf669be7db"
    },
    {
      "cell_type": "code",
      "execution_count": 40,
      "metadata": {
        "exercise": true
      },
      "outputs": [],
      "source": [
        "from scipy.optimize import curve_fit\n",
        "\n",
        "# Choose the variables from the dataframe\n",
        "x = df['Free_ligand_(M)']\n",
        "y = df['n_bar']\n",
        "\n",
        "# Initial guess\n",
        "K_D_guess = ... # Your initial guess for K_D \n",
        "n_guess = ... # Your initial guess for nu_max\n",
        "p0 = [K_D_guess, n_guess]\n",
        "\n",
        "# Curve fit\n",
        "# Replace the four ... with the correct arguments in the correct order.\n",
        "popt, pcov = curve_fit(..., ..., ..., ...) \n",
        "\n",
        "# Print the parameters\n",
        "n_fit, K_D_fit = popt\n",
        "print(f\"{n_fit = :1.3f} \")\n",
        "print(f\"{K_D_fit = :e}\")"
      ],
      "id": "fd4894bc"
    },
    {
      "cell_type": "markdown",
      "metadata": {},
      "source": [
        "Are the parameters you find reasonable? How can you tell if they are\n",
        "reasonable by looking at the plot you made earlier?\n",
        "\n",
        "#### (f) Plot with fit\n",
        "\n",
        "When we have the fitted parameters we can calculate and plot the\n",
        "function. To do so we make an array of values for the independent\n",
        "variable and use our function to calculate the dependent variable"
      ],
      "id": "70432bb6-ad05-433b-965c-94190fd2d04f"
    },
    {
      "cell_type": "code",
      "execution_count": 42,
      "metadata": {
        "exercise": true
      },
      "outputs": [],
      "source": [
        "# This makes 50 equally spaced points between 0 and the highest concentration x 1.2\n",
        "L = np.linspace(0, x.max()*1.2, 50) \n",
        "\n",
        "# Calculate by plugging L and the found parameters into the function.\n",
        "nbar_calc = ..."
      ],
      "id": "f05a463b"
    },
    {
      "cell_type": "markdown",
      "metadata": {},
      "source": [
        "Now that we calculated the dependent variable we can plot the fit along\n",
        "with the data."
      ],
      "id": "48a087d3-884f-4636-81b8-be60835f5145"
    },
    {
      "cell_type": "code",
      "execution_count": 45,
      "metadata": {
        "exercise": true
      },
      "outputs": [],
      "source": [
        "import matplotlib.pyplot as plt\n",
        "\n",
        "fig, ax = plt.subplots()\n",
        "\n",
        "# Plot the fitted curve\n",
        "ax.plot(L, nbar_calc, label='Fit')\n",
        "\n",
        "# Straight lines indicating the parameters \n",
        "ax.axhline(n_fit, color='red', label=r'$\\nu_{max}$')\n",
        "ax.axvline(K_D_fit, color='green', label=r'$K_D$')\n",
        "\n",
        "# Same as before\n",
        "ax.plot(df['Free_ligand_(M)'], df['n_bar'], 'o', color='C0')\n",
        "ax.set_xlabel('Free ligand [L] (M)', fontsize=16)\n",
        "ax.set_ylabel(r'$\\bar{n}$', fontsize=16)\n",
        "ax.legend(fontsize=16)\n",
        "plt.show()"
      ],
      "id": "6c65ab5d"
    },
    {
      "cell_type": "markdown",
      "metadata": {},
      "source": [
        "------------------------------------------------------------------------\n",
        "\n",
        "## 4 Interpretation of binding data."
      ],
      "id": "df372c71-bc2f-4b8a-a4cb-e8d7271c5d5d"
    },
    {
      "cell_type": "code",
      "execution_count": 46,
      "metadata": {},
      "outputs": [],
      "source": [
        "import numpy as np"
      ],
      "id": "e499691f"
    },
    {
      "cell_type": "markdown",
      "metadata": {},
      "source": [
        "The `inter-bindin-data.xlsx` contains a protein binding dataset.\n",
        "\n",
        "#### (a) Load the dataset\n",
        "\n",
        "Load the dataset using the widget below"
      ],
      "id": "b39123cf-80ba-45ce-9bbc-7d172e21c947"
    },
    {
      "cell_type": "code",
      "execution_count": 47,
      "metadata": {},
      "outputs": [],
      "source": [
        "import numpy as np\n",
        "from fysisk_biokemi.widgets import DataUploader\n",
        "from IPython.display import display \n",
        "uploader = DataUploader()\n",
        "uploader.display()"
      ],
      "id": "9528dda8"
    },
    {
      "cell_type": "markdown",
      "metadata": {},
      "source": [
        "Run the next cell **after** uploading the file"
      ],
      "id": "02f4ccdf-be31-4ab4-aec2-6b613d741eda"
    },
    {
      "cell_type": "code",
      "execution_count": 48,
      "metadata": {},
      "outputs": [],
      "source": [
        "df = uploader.get_dataframe()\n",
        "display(df)"
      ],
      "id": "44fcf3f8"
    },
    {
      "cell_type": "markdown",
      "metadata": {},
      "source": [
        "#### (b) SI Units\n",
        "\n",
        "Add a new column to the `DataFrame` with the ligand concentration in SI\n",
        "units."
      ],
      "id": "c2255e0f-de41-419b-9987-bfb62533ab28"
    },
    {
      "cell_type": "code",
      "execution_count": 50,
      "metadata": {
        "exercise": true
      },
      "outputs": [],
      "source": [
        "... # Replace ... with your code.\n",
        "display(df)"
      ],
      "id": "1c747a45"
    },
    {
      "cell_type": "markdown",
      "metadata": {},
      "source": [
        "#### (c) Plot the data\n",
        "\n",
        "Make plots of the binding data directly with a linear and logarithmic\n",
        "x-axis.\n",
        "\n",
        "Estimate $K_D$ by visual inspection of these plots!"
      ],
      "id": "2f347cdd-3025-4d91-9c28-478aa9d1cbf2"
    },
    {
      "cell_type": "code",
      "execution_count": 52,
      "metadata": {
        "exercise": true
      },
      "outputs": [],
      "source": [
        "import matplotlib.pyplot as plt\n",
        "\n",
        "# This makes a figure with two axes.\n",
        "fig, axes = plt.subplots(1, 2, figsize=(9, 4))\n",
        "\n",
        "# Can with [0] to plot in the first axis.\n",
        "ax = axes[0]\n",
        "ax.plot(..., ..., 'o') # Replace ... with your code.\n",
        "ax.set_xlabel('[L](M)', fontsize=14)\n",
        "ax.set_ylabel(r'$\\bar{n}$', fontsize=14)\n",
        "\n",
        "ax = axes[1]\n",
        "... # Put some code here - perhaps you can copy it from somewhere?\n",
        "ax.set_xscale('log') # This make the x-axis logarithmic."
      ],
      "id": "c0989e01"
    },
    {
      "cell_type": "markdown",
      "metadata": {},
      "source": [
        "> **Note**\n",
        ">\n",
        "> Ths command `ax.set_xscale('log')` tells `matplotlib` that we want the\n",
        "> x-axis to use a log-scale."
      ],
      "id": "fc66345b-f222-4e37-9e74-c95756dc788d"
    },
    {
      "cell_type": "code",
      "execution_count": 54,
      "metadata": {
        "exercise": true
      },
      "outputs": [],
      "source": [
        "K_D_estimate = ..."
      ],
      "id": "95ee89a3"
    },
    {
      "cell_type": "markdown",
      "metadata": {},
      "source": [
        "#### (d) Make a fit\n",
        "\n",
        "Make a fit to determine $K_D$, as always we start by implementing the\n",
        "function to fit with"
      ],
      "id": "beaec528-569e-4179-8bec-799a8ed8c395"
    },
    {
      "cell_type": "code",
      "execution_count": 56,
      "metadata": {
        "exercise": true
      },
      "outputs": [],
      "source": [
        "def ... # Give the function an appropriate name.\n",
        "    return ... # Implement the expression for nbar"
      ],
      "id": "cc285a27"
    },
    {
      "cell_type": "markdown",
      "metadata": {},
      "source": [
        "And then we can make the fit"
      ],
      "id": "43733325-caed-44b6-9807-ddb981d72eef"
    },
    {
      "cell_type": "code",
      "execution_count": 58,
      "metadata": {
        "exercise": true
      },
      "outputs": [],
      "source": [
        "from scipy.optimize import curve_fit\n",
        "\n",
        "# Choose the variables from the dataframe\n",
        "x = ... # Choose x-data from the dataframe\n",
        "y = ... # Choose y-data from the dataframe\n",
        "\n",
        "# Initial guess\n",
        "p0 = [K_D_estimate] # Using your estimate as the initial value for K_D\n",
        "\n",
        "# Bounds\n",
        "bounds = (0, np.inf) # We limit the parameters to be positve.\n",
        "\n",
        "# Curve fit\n",
        "popt, pcov = ... # Call the curve_fit function.\n",
        "\n",
        "# Print the parameters\n",
        "K_D_fit = popt[0]\n",
        "print(f\"{K_D_fit = :e}\")"
      ],
      "id": "c6e13807"
    },
    {
      "cell_type": "markdown",
      "metadata": {},
      "source": [
        "#### (e) Compare\n",
        "\n",
        "Make a plot to compare the fit with your estimate. Start by evaluating\n",
        "the function"
      ],
      "id": "6c0931f4-4976-4909-acd5-f5e7aeb462a8"
    },
    {
      "cell_type": "code",
      "execution_count": 60,
      "metadata": {
        "exercise": true
      },
      "outputs": [],
      "source": [
        "# Evaluate on the fit so we can plot it.\n",
        "L_smooth = np.linspace(0, df['[L]_(M)'].max(), 100)\n",
        "nbar_fit = ...\n",
        "\n",
        "# We will also evaluate where the points are sampled on a log-scale.\n",
        "# The `geomspace` function makes points uniformly spaced on a logaritmic axis.\n",
        "L_smooth_log = np.geomspace(df['[L]_(M)'].min(), df['[L]_(M)'].max(), 100)\n",
        "nbar_fit_log = ..."
      ],
      "id": "78379456"
    },
    {
      "cell_type": "markdown",
      "metadata": {},
      "source": [
        "Now finish the code below to make the plot."
      ],
      "id": "5b0be457-9ac3-4563-b9c0-57a70237e67c"
    },
    {
      "cell_type": "code",
      "execution_count": 62,
      "metadata": {
        "exercise": true
      },
      "outputs": [],
      "source": [
        "# This makes a figure with two axes.\n",
        "fig, axes = plt.subplots(1, 2, figsize=(9, 4))\n",
        "\n",
        "# Index with [0] to plot in the first axis - Linear plot\n",
        "ax = axes[0]\n",
        "\n",
        "# Your code here - maybe you can copy part of it from somewhere.\n",
        "... \n",
        "\n",
        "# Index with [1] to plot in the second axis - Log plot.\n",
        "ax = axes[1]\n",
        "\n",
        "# Also your code here - maybe you can copy part of it from somewhere.\n",
        "...\n",
        "\n",
        "ax.set_xscale('log')"
      ],
      "id": "b66cb94a"
    },
    {
      "cell_type": "markdown",
      "metadata": {},
      "source": [
        "#### (f) Saturation\n",
        "\n",
        "Based on the value of $K_D$ found from the fit,\n",
        "\n",
        "-   At which concentration do you expect 10% saturation?\n",
        "-   At which concentration do you expect 90% saturation?\n",
        "\n",
        "------------------------------------------------------------------------\n",
        "\n",
        "## 5 ADP binding to pyruvate kinase."
      ],
      "id": "ed968b9d-24af-4bd6-a1ef-679bdbf66c77"
    },
    {
      "cell_type": "code",
      "execution_count": 64,
      "metadata": {},
      "outputs": [],
      "source": [
        "import matplotlib.pyplot as plt\n",
        "import numpy as np"
      ],
      "id": "cb83cd0a"
    },
    {
      "cell_type": "markdown",
      "metadata": {},
      "source": [
        "Based on the literature, you suspect that the binding of ADP to the\n",
        "enzyme pyruvate kinase might be coopera-tive and decide to investigate\n",
        "this by measuring the binding to the enzyme using radioactive ATP. The\n",
        "enzyme concentration was 4 μM throughout the titration, and each\n",
        "measurement was done in triplicate. The binding results were obtained at\n",
        "310 K and are given in the `.csv`-file `adp-bindin-pyruva-kinase.csv`.\n",
        "\n",
        "#### (a) Load the dataset\n",
        "\n",
        "As always, use the widget to load the dataset"
      ],
      "id": "705f09ab-e2e3-406d-96c7-f585e1011108"
    },
    {
      "cell_type": "code",
      "execution_count": 65,
      "metadata": {},
      "outputs": [],
      "source": [
        "from fysisk_biokemi.widgets import DataUploader\n",
        "from IPython.display import display \n",
        "uploader = DataUploader()\n",
        "uploader.display()"
      ],
      "id": "240f8461"
    },
    {
      "cell_type": "markdown",
      "metadata": {},
      "source": [
        "Run the next cell **after** uploading the file"
      ],
      "id": "d927fe8d-0c56-499e-9870-c35c180866f7"
    },
    {
      "cell_type": "code",
      "execution_count": 66,
      "metadata": {},
      "outputs": [],
      "source": [
        "df = uploader.get_dataframe()\n",
        "display(df)"
      ],
      "id": "33454b98"
    },
    {
      "cell_type": "markdown",
      "metadata": {},
      "source": [
        "#### (b) Units\n",
        "\n",
        "The concentrations in the dataset are given in mM, add a new column to\n",
        "the `DataFrame` with the units given in M."
      ],
      "id": "483b890c-297a-46cb-9cd7-f681b7160fd0"
    },
    {
      "cell_type": "code",
      "execution_count": 68,
      "metadata": {
        "exercise": true
      },
      "outputs": [],
      "source": [
        "df['[ADPtot](M)'] = ...\n",
        "display(df)"
      ],
      "id": "903d0890"
    },
    {
      "cell_type": "markdown",
      "metadata": {},
      "source": [
        "#### (c) Free ADP concentration\n",
        "\n",
        "For each value of $\\bar{n}$ calculate the concentration of\n",
        "\\[ADP$_\\text{free}$\\] from \\[ADP$_\\text{tot}$\\] and \\[enzyme\\]."
      ],
      "id": "7f16162d-5bbd-4326-a40e-84875e34c607"
    },
    {
      "cell_type": "code",
      "execution_count": 70,
      "metadata": {
        "exercise": true
      },
      "outputs": [],
      "source": [
        "enzyme_conc = ...\n",
        "df['[ADPfree](M)'] = ...\n",
        "display(df)"
      ],
      "id": "f71fdd1a"
    },
    {
      "cell_type": "markdown",
      "metadata": {},
      "source": [
        "#### (d) Make a plot\n",
        "\n",
        "Make a plot of the free ligand concentration versus $\\bar{n}$."
      ],
      "id": "b9e55428-d2d4-410e-8c4f-d4541b9ef2ea"
    },
    {
      "cell_type": "code",
      "execution_count": 72,
      "metadata": {
        "exercise": true
      },
      "outputs": [],
      "source": [
        "fig, ax = plt.subplots(figsize=(7, 4))\n",
        "\n",
        "# Write the code to make the plot.\n",
        "# Add the arguments:  marker='o', linestyle='none' to only plot points and not line segments.\n",
        "... # Add your code here!\n",
        "\n",
        "ax.set_xlabel(r'$[\\text{ADP}_{\\text{free}}]$', fontsize=14)\n",
        "ax.set_ylabel(r'$\\bar{n}$', fontsize=14)"
      ],
      "id": "f91b42f7"
    },
    {
      "cell_type": "markdown",
      "metadata": {},
      "source": [
        "#### (f) Preparing for fitting\n",
        "\n",
        "To fit we need a implement the function we want to fit the parameters\n",
        "of, the functional form is\n",
        "\n",
        "$$\n",
        "n = n_{\\text{max}} \\frac{[L]^h}{K_D + [L]^h}\n",
        "$$"
      ],
      "id": "442ed100-c995-4332-9f1c-2a50019962f0"
    },
    {
      "cell_type": "code",
      "execution_count": 74,
      "metadata": {
        "exercise": true
      },
      "outputs": [],
      "source": [
        "def n_bound(L, n_max, K_D, h):\n",
        "    return ...\n",
        "\n",
        "print(f\"{n_bound(1, 1, 1, 1) = }\") # Should give 1/2\n",
        "print(f\"{n_bound(21, 47, 2.5, 1) = }\") # Should give 42\n",
        "print(f\"{n_bound(21, 47, 2.5, 2) = }\") # Should give 46.73.."
      ],
      "id": "95e0fbb2"
    },
    {
      "cell_type": "markdown",
      "metadata": {},
      "source": [
        "#### (e) Fitting\n",
        "\n",
        "Finish the code below to create a fit."
      ],
      "id": "6893f008-84f5-42cc-9230-d2fdfc902a57"
    },
    {
      "cell_type": "code",
      "execution_count": 76,
      "metadata": {
        "exercise": true
      },
      "outputs": [],
      "source": [
        "from scipy.optimize import curve_fit\n",
        "\n",
        "# Choose the variables from the dataframe\n",
        "x = df['[ADPfree](M)']\n",
        "y = df['nbar']\n",
        "\n",
        "# Initial guess\n",
        "K_D_guess = ... # Your initial guess for K_D \n",
        "n_max_guess = ... # Your initial guess for nu_max\n",
        "h = ... # Your initial guess for the exponent.\n",
        "p0 = [K_D_guess, n_max_guess, n_exp]\n",
        "\n",
        "# Bounds\n",
        "bounds = (0, np.inf) # We limit the parameters to be positve.\n",
        "\n",
        "# Curve fit\n",
        "popt, pcov = curve_fit(n_bound, x, y, p0=p0, bounds=bounds)\n",
        "\n",
        "# Print the parameters\n",
        "n_max_fit, K_D_fit, h_fit = popt\n",
        "print(f\"{n_max_fit = :1.3f} \")\n",
        "print(f\"{K_D_fit = :e}\")\n",
        "print(f\"{h_fit = :1.3f} \")"
      ],
      "id": "81cef76b"
    },
    {
      "cell_type": "markdown",
      "metadata": {},
      "source": [
        "Once we’ve obtained the fitted parameters we can plot the fit together\n",
        "with the data."
      ],
      "id": "ffb34b50-70e4-4cc6-b9bf-a673b4af8deb"
    },
    {
      "cell_type": "code",
      "execution_count": 78,
      "metadata": {
        "exercise": true
      },
      "outputs": [],
      "source": [
        "L = np.linspace(0, 1.2 * x.max(), 50)\n",
        "n = n_bound(L, n_max_fit, K_D_fit, h_fit)\n",
        "\n",
        "fig, ax = plt.subplots(figsize=(7, 4))\n",
        "ax.plot(df['[ADPfree](M)'], df['nbar'], 'o', label='Observations')\n",
        "ax.plot(L, n)\n",
        "ax.axvline(K_D_fit, color='k', linewidth=0.5, linestyle='--')\n",
        "ax.axhline(n_max_fit, color='k', linewidth=0.5, linestyle='--')\n",
        "\n",
        "\n",
        "ax.set_xlabel(r'$[\\text{ADP}_{\\text{free}}]$', fontsize=14)\n",
        "ax.set_ylabel(r'$\\bar{n}$', fontsize=14)\n",
        "ax.set_ylim([0, n.max()*1.1])"
      ],
      "id": "8767ff6f"
    },
    {
      "cell_type": "markdown",
      "metadata": {},
      "source": [
        "**Question**: Is the binding cooperative?\n",
        "\n",
        "#### (f) Free energy\n",
        "\n",
        "Calculate the free energy for the association of the ADP-pyruvate kinase\n",
        "complex assuming\n",
        "$R = 8.314472 \\times 10^{-3} \\ \\frac{\\text{kJ}}{\\text{mol} \\cdot \\text{K}}$\n",
        "and $T = 310 \\ \\text{K}$.\n",
        "\n",
        "> **Tip**\n",
        ">\n",
        "> Consider the difference between association and dissociation\n",
        "\n",
        "Start by defining the two given constants as variables"
      ],
      "id": "f9843dd0-5e4e-4e14-850e-51797b0f9d27"
    },
    {
      "cell_type": "code",
      "execution_count": 80,
      "metadata": {
        "exercise": true
      },
      "outputs": [],
      "source": [
        "R = ...\n",
        "T = ..."
      ],
      "id": "f53cf1bf"
    },
    {
      "cell_type": "markdown",
      "metadata": {},
      "source": [
        "And do the calculation"
      ],
      "id": "6485dab3-c3dd-4ae7-8ad4-f81f7b8693ff"
    },
    {
      "cell_type": "code",
      "execution_count": 82,
      "metadata": {
        "exercise": null
      },
      "outputs": [],
      "source": [
        "delta_G = ...\n",
        "print(f\"{delta_G = :.3f} kJ/mol\")"
      ],
      "id": "5c5c3082"
    },
    {
      "cell_type": "markdown",
      "metadata": {},
      "source": [
        "------------------------------------------------------------------------\n",
        "\n",
        "## 6 Determination of type and strength of cooperativity"
      ],
      "id": "4e81fb76-12b4-4273-a9fa-350ee77c89b7"
    },
    {
      "cell_type": "code",
      "execution_count": 84,
      "metadata": {},
      "outputs": [],
      "source": [
        "import matplotlib.pyplot as plt\n",
        "import numpy as np"
      ],
      "id": "cf28d9dd"
    },
    {
      "cell_type": "markdown",
      "metadata": {},
      "source": [
        "The binding of NAD+ to the protein yeast glyceraldehyde 3-phosphate\n",
        "dehydrogenase (GAPDH) was studied using equilibrium dialysis. The enzyme\n",
        "concentration was 71 μM. The concentration of\n",
        "$[\\text{NAD}^{+}_\\text{free}]$ and the corresponding values of $\\bar{n}$\n",
        "were determined with the resulting data found in the dataset\n",
        "`deter-type-streng-coope.xlsx`.\n",
        "\n",
        "The dataset consists of three independent repititions of the same\n",
        "experiment.\n",
        "\n",
        "#### (a) Load the dataset\n",
        "\n",
        "Load the dataset using the widget below"
      ],
      "id": "fc2794d2-8ac7-4939-8d1f-8a781e3f4803"
    },
    {
      "cell_type": "code",
      "execution_count": 85,
      "metadata": {},
      "outputs": [],
      "source": [
        "from fysisk_biokemi.widgets import DataUploader\n",
        "from IPython.display import display \n",
        "uploader = DataUploader()\n",
        "uploader.display()"
      ],
      "id": "7f76976a"
    },
    {
      "cell_type": "markdown",
      "metadata": {},
      "source": [
        "Run the next cell **after** uploading the file"
      ],
      "id": "9206074c-6d80-4f97-8402-0b20403ff050"
    },
    {
      "cell_type": "code",
      "execution_count": 86,
      "metadata": {},
      "outputs": [],
      "source": [
        "df = uploader.get_dataframe()\n",
        "display(df)"
      ],
      "id": "7edb9f55"
    },
    {
      "cell_type": "markdown",
      "metadata": {},
      "source": [
        "#### (b) Averaging and units.\n",
        "\n",
        "Start by adding a new column to the `DataFrame` with the average value\n",
        "of $\\bar{n}$ across the three series\n",
        "\n",
        "> **Tip**\n",
        ">\n",
        "> Remember that you can set a new column based on a computation using\n",
        "> one or more other columns, e.g. \n",
        ">\n",
        "> ``` python\n",
        "> df['new_col'] = df['col1'] + df['col2']\n",
        "> ```"
      ],
      "id": "17c520f1-c9c4-427c-b81b-99fbde43a136"
    },
    {
      "cell_type": "code",
      "execution_count": 88,
      "metadata": {
        "exercise": true
      },
      "outputs": [],
      "source": [
        "df['nbar_avg'] = ..."
      ],
      "id": "08c935db"
    },
    {
      "cell_type": "markdown",
      "metadata": {},
      "source": [
        "Now also add a column with the ligand concentration in SI units with the\n",
        "column-name `[NAD+free]_(M)`."
      ],
      "id": "c89aae9a-5d2a-4118-8955-a0c13c093ca6"
    },
    {
      "cell_type": "code",
      "execution_count": 90,
      "metadata": {
        "exercise": true
      },
      "outputs": [],
      "source": [
        "... # Your code here. \n",
        "display(df)"
      ],
      "id": "91834c54"
    },
    {
      "cell_type": "markdown",
      "metadata": {},
      "source": [
        "Finally, set the concentration of the GADPH in SI units"
      ],
      "id": "75a320db-987c-4c3b-9240-385ea8bbbfb6"
    },
    {
      "cell_type": "code",
      "execution_count": 92,
      "metadata": {},
      "outputs": [],
      "source": [
        " c_gadph = 71 * 10**(-6)"
      ],
      "id": "ea4c1c79"
    },
    {
      "cell_type": "markdown",
      "metadata": {},
      "source": [
        "#### (c) Plot\n",
        "\n",
        "Make a plot of the average $\\bar{n}$ as a function of\n",
        "$[\\text{NAD}^{+}_\\text{free}]$."
      ],
      "id": "75e8775d-c8dd-4121-b584-e644f4533acb"
    },
    {
      "cell_type": "code",
      "execution_count": 93,
      "metadata": {
        "exercise": true
      },
      "outputs": [],
      "source": [
        "fig, ax = plt.subplots(figsize=(8, 4))\n",
        "\n",
        "# Your code to plot here.\n",
        "... \n",
        "\n",
        "# This sets the labels.\n",
        "ax.set_xlabel(r'$[\\text{NAD}^{+}_\\text{free}]$', fontsize=14)\n",
        "ax.set_ylabel(r'$\\bar{n}$', fontsize=14)\n",
        "plt.show()"
      ],
      "id": "564869ab"
    },
    {
      "cell_type": "markdown",
      "metadata": {},
      "source": [
        "#### (d) Scatchard plot\n",
        "\n",
        "Make a Scatchard plot based on the average $\\bar{n}$."
      ],
      "id": "69ead858-af50-44e8-92ac-59b156ecef05"
    },
    {
      "cell_type": "code",
      "execution_count": 95,
      "metadata": {
        "exercise": true
      },
      "outputs": [],
      "source": [
        "# Calculate nbar / L \n",
        "nbar_over_L = ...\n",
        "\n",
        "fig, ax = plt.subplots(figsize=(6, 4)) \n",
        "\n",
        "ax.plot(..., ... 'o') # Plot the right thins. \n",
        "\n",
        "ax.set_xlabel(r'$\\bar{n}$', fontsize=14)\n",
        "ax.set_ylabel(r'$\\bar{n}/L$', fontsize=14)\n",
        "ax.set_xlim([0, df['nbar_avg'].max()*1.2])\n",
        "ax.set_ylim([0, nbar_over_L.max() * 1.2])"
      ],
      "id": "ff7e1e8c"
    },
    {
      "cell_type": "markdown",
      "metadata": {},
      "source": [
        "#### (e) Binding sites\n",
        "\n",
        "Estimate by eye how many bindings sites GAPDH contains for\n",
        "$\\text{NAD}^{+}$?\n",
        "\n",
        "#### (f) Cooperativity\n",
        "\n",
        "Based on a visual inspection of the plot above, are there in signs of\n",
        "cooperativity? If so, which kind?\n",
        "\n",
        "#### (g) Fit\n",
        "\n",
        "> **Note**\n",
        ">\n",
        "> The function `np.concatenate` takes a number of arrays and makes a new\n",
        "> array that consisting of the originals one after each other. For\n",
        "> example,\n",
        ">\n",
        "> ``` python\n",
        "> A = np.array([1, 2, 3])\n",
        "> B = np.array([4, 5, 6])\n",
        "> C = np.concatenate([A, B])\n",
        "> print(C)\n",
        "> ```\n",
        ">\n",
        ">     [1 2 3 4 5 6]\n",
        "\n",
        "Make a fit using the functional form\n",
        "\n",
        "$$\n",
        "\\bar{n} = N \\frac{[L]^h}{K_D + [L]^h}\n",
        "$$\n",
        "\n",
        "As usual, start by defining the function in Python"
      ],
      "id": "9a219d0d-becb-4b23-88ac-9fef4e89848c"
    },
    {
      "cell_type": "code",
      "execution_count": 99,
      "metadata": {
        "exercise": true
      },
      "outputs": [],
      "source": [
        "def n_bar(L, N, k_d, h):\n",
        "    # Replace ... with your code.\n",
        "    # Be careful with parentheses.\n",
        "    result = ...\n",
        "    return result "
      ],
      "id": "721916b1"
    },
    {
      "cell_type": "markdown",
      "metadata": {},
      "source": [
        "Now we can fit"
      ],
      "id": "5a13ce1a-8538-49a9-bad0-c323a67ef5b2"
    },
    {
      "cell_type": "code",
      "execution_count": 100,
      "metadata": {
        "exercise": true
      },
      "outputs": [],
      "source": [
        "from scipy.optimize import curve_fit\n",
        "\n",
        "# This selects the '[NAD+free]_(m)'-column three times and stitches it together.\n",
        "x = np.concatenate([df['[NAD+free]_(M)'], df['[NAD+free]_(M)'], df['[NAD+free]_(M)']])\n",
        "# Do the same to stitch together the nbar1, nbar2 and nbar3 columns.\n",
        "y = ...\n",
        "\n",
        "# Initial guess\n",
        "p0 = [..., ..., ...]\n",
        "\n",
        "# Bounds\n",
        "bounds = (0, np.inf) # We limit the parameters to be positve.\n",
        "\n",
        "# Curve fit\n",
        "popt, pcov = curve_fit(n_bar, x, y, p0=p0, bounds=bounds)\n",
        "\n",
        "# Print the parameters\n",
        "N_fit, k_d_fit, h_fit = popt\n",
        "print(f\"{N_fit = :.3f}\")\n",
        "print(f\"{k_d_fit = :e}\")\n",
        "print(f\"{h_fit = :.3f}\")"
      ],
      "id": "139a5fe0"
    },
    {
      "cell_type": "markdown",
      "metadata": {},
      "source": [
        "Do the fitted parameters support your intuitive reading of the type of\n",
        "kooperativity\n",
        "\n",
        "> **Note**\n",
        ">\n",
        "> In the data sets used, repeated experiments were given as a three\n",
        "> seperate columns, which is a quite natural way of recording data\n",
        "> during an experiment. However, it is not an appropriate format for\n",
        "> regression, where we want all the data-points in a single column. In\n",
        "> this exercise we did a bit of *data wrangling* to make the data\n",
        "> appropriate for what we want to do with it - in this case by creating\n",
        "> a new joint column containing all the data by using the\n",
        "> `np.concatenate` function.\n",
        "\n",
        "------------------------------------------------------------------------\n",
        "\n",
        "## 7 Competition in ligand binding\n",
        "\n",
        "Below is given the general expression for saturation of a binding site\n",
        "by one of the ligands, $L$, when two ligands $L$ and $C$ are competing\n",
        "for binding to the same site on a protein. Assume that $[P_T] = 10^{-9}$\n",
        "$\\mathrm{M}$.\n",
        "\n",
        "$$\n",
        "\\theta_L = \\frac{[PL]}{[P_T]} = \\frac{1}{\\frac{K_D}{[L]}\\left(1 + \\frac{[C]}{K_C}\\right) + 1}\n",
        "$$\n",
        "\n",
        "Consider these four situations\n",
        "\n",
        "| \\# | $K_D$ | $[L_T]$ | $K_C$ | $[C_T]$ |\n",
        "|------|-----------------|-----------------|-----------------|-----------------|\n",
        "| 1 | $1·10^{-5}$ $\\mathrm{M}$ | $1·10^{-3}$ $\\mathrm{M}$ | $1·10^{-6}$ $\\mathrm{M}$ | $0$ |\n",
        "| 2 | $1·10^{-5}$ $\\mathrm{M}$ | $1·10^{-3}$ $\\mathrm{M}$ | $1·10^{-6}$ $\\mathrm{M}$ | $1·10^{-2}$ $\\mathrm{M}$ |\n",
        "| 3 | $1·10^{-5}$ $\\mathrm{M}$ | $1·10^{-3}$ $\\mathrm{M}$ | $1·10^{-5}$ $\\mathrm{M}$ | $1·10^{-3}$ $\\mathrm{M}$ |\n",
        "| 4 | $1·10^{-5}$ $\\mathrm{M}$ | $1·10^{-5}$ $\\mathrm{M}$ | $1·10^{-6}$ $\\mathrm{M}$ | $1·10^{-6}$ $\\mathrm{M}$ |\n",
        "\n",
        "##### (a) Explain simplification\n",
        "\n",
        "Explain how the fact that $[P_T]$ is much smaller than $[L_T]$ and\n",
        "$[C_T]$ simplifies the calculations using the above equation.\n",
        "\n",
        "#### (b) Ligand degree of saturation\n",
        "\n",
        "Calculate the degree of saturation of the protein with ligand $L$ in the\n",
        "four situations.\n",
        "\n",
        "Start by writing a Python function that calculates the degree of\n",
        "saturation $\\theta$."
      ],
      "id": "4b25efca-17b9-412d-a439-1be0806fec50"
    },
    {
      "cell_type": "code",
      "execution_count": 102,
      "metadata": {
        "exercise": true
      },
      "outputs": [],
      "source": [
        "def bound_fraction(L, C, Kd, Kc):\n",
        "    # Write the equation for binding saturation. Be careful with parentheses!\n",
        "    theta = ... \n",
        "    return theta"
      ],
      "id": "ea9f0dc5"
    },
    {
      "cell_type": "markdown",
      "metadata": {},
      "source": [
        "Then use that function to calculate $\\theta_L$ for each situation."
      ],
      "id": "1eb3322d-8995-4ce1-bebe-258ed4cc397c"
    },
    {
      "cell_type": "code",
      "execution_count": 104,
      "metadata": {
        "exercise": true
      },
      "outputs": [],
      "source": [
        "theta_L_1 = bound_fraction(..., ..., ..., ...)\n",
        "theta_L_2 = ...\n",
        "theta_L_3 = ...\n",
        "theta_L_4 = ...\n",
        "print(f\"{theta_L_1 = :.3f}\")\n",
        "print(f\"{theta_L_2 = :.3f}\")\n",
        "print(f\"{theta_L_3 = :.3f}\")\n",
        "print(f\"{theta_L_4 = :.3f}\")"
      ],
      "id": "d5ed4586"
    },
    {
      "cell_type": "markdown",
      "metadata": {},
      "source": [
        "#### (c) Competitor degree of saturation\n",
        "\n",
        "What is the degree of saturation with respect to the competitor $C$ in\n",
        "#1, #2, #3 and #4?"
      ],
      "id": "df4e4bee-b564-4c5e-a1b5-3de58e4989a0"
    },
    {
      "cell_type": "code",
      "execution_count": 106,
      "metadata": {
        "exercise": true
      },
      "outputs": [],
      "source": [
        "theta_C_1 = ...\n",
        "theta_C_2 = ...\n",
        "theta_C_3 = ...\n",
        "theta_C_4 = ...\n",
        "\n",
        "print(f\"{theta_C_1 = :.3f}\")\n",
        "print(f\"{theta_C_2 = :.3f}\")\n",
        "print(f\"{theta_C_3 = :.3f}\")\n",
        "print(f\"{theta_C_4 = :.3f}\")"
      ],
      "id": "91a1c6a2"
    },
    {
      "cell_type": "markdown",
      "metadata": {},
      "source": [
        "#### (d) Fraction of $[P_{\\mathrm{free}}]$\n",
        "\n",
        "What is the fraction of $[P_{\\mathrm{free}}]$ in #1, #2, #3 and #4?\n",
        "\n",
        "> **Tip**\n",
        ">\n",
        "> Consider how to express the fraction of $[P_{\\mathrm{free}}]$ in terms\n",
        "> of `theta_L_X` and `theta_C_X`."
      ],
      "id": "40bf676d-6bea-4858-b63c-cbdb574ba26b"
    },
    {
      "cell_type": "code",
      "execution_count": 108,
      "metadata": {
        "exercise": true
      },
      "outputs": [],
      "source": [
        "theta_free_1 = ...\n",
        "theta_free_2 = ...\n",
        "theta_free_3 = ...\n",
        "theta_free_4 = ...\n",
        "\n",
        "print(f\"{theta_free_1 = :.3f}\")\n",
        "print(f\"{theta_free_2 = :.3f}\")\n",
        "print(f\"{theta_free_3 = :.3f}\")\n",
        "print(f\"{theta_free_4 = :.3f}\")"
      ],
      "id": "7e3f7f9e"
    },
    {
      "cell_type": "markdown",
      "metadata": {},
      "source": [
        "#### (e) Qualitative analysis\n",
        "\n",
        "Describe in your own words why these four competitive situations end up\n",
        "with their respective binding patterns. Consider the relative\n",
        "concentrations and affinities of ligands L and C.\n",
        "\n",
        "------------------------------------------------------------------------\n",
        "\n",
        "## 8 Difference between $Q$ and $K_{eq}$"
      ],
      "id": "4608b3df-eb91-4102-bd58-78a6b1658ecb"
    },
    {
      "cell_type": "code",
      "execution_count": 110,
      "metadata": {},
      "outputs": [],
      "source": [
        "import matplotlib.pyplot as plt\n",
        "import pandas as pd\n",
        "pd.set_option('display.max_rows', 6)"
      ],
      "id": "70a1b30a"
    },
    {
      "cell_type": "markdown",
      "metadata": {},
      "source": [
        "Consider the reaction:\n",
        "\n",
        "$$\n",
        "A \\rightleftarrows B\n",
        "$$\n",
        "\n",
        "The time course of the reaction was followed monitoring formation of the\n",
        "product $B$. The starting concentration of $A$ was 50 µM, and as you\n",
        "will learn later in the course, the reversible reaction going from $A$\n",
        "to $B$ follows first order kinetics.\n",
        "\n",
        "#### (a) Load & convert\n",
        "\n",
        "The data is contained in the `diff_q_keq_data.xlsx` file."
      ],
      "id": "c7d06863-5854-4f4b-9064-12f89dc28dc6"
    },
    {
      "cell_type": "code",
      "execution_count": 111,
      "metadata": {},
      "outputs": [],
      "source": [
        "from fysisk_biokemi.widgets import DataUploader\n",
        "from IPython.display import display \n",
        "uploader = DataUploader()\n",
        "uploader.display()"
      ],
      "id": "849e0ff6"
    },
    {
      "cell_type": "markdown",
      "metadata": {},
      "source": [
        "Run the next cell **after** uploading the file"
      ],
      "id": "f07fcafb-5832-4187-9abe-cc5868333e6e"
    },
    {
      "cell_type": "code",
      "execution_count": 112,
      "metadata": {},
      "outputs": [],
      "source": [
        "df = uploader.get_dataframe()\n",
        "display(df)"
      ],
      "id": "9e7b8bf2"
    },
    {
      "cell_type": "markdown",
      "metadata": {},
      "source": [
        "Convert the measured concentrations of $B$, $[B]$, to concentrations in\n",
        "the SI-unit $\\mathrm{M} \\ (\\mathrm{mol/L})$. Repeat for the starting\n",
        "concentration of $A$, $[A]_0$."
      ],
      "id": "e92e25d8-2f1c-4cc6-9297-39187981b96c"
    },
    {
      "cell_type": "code",
      "execution_count": 114,
      "metadata": {
        "exercise": true
      },
      "outputs": [],
      "source": [
        "df['[B]_(M)'] = ...\n",
        "A0 = ..."
      ],
      "id": "eb022bcc"
    },
    {
      "cell_type": "markdown",
      "metadata": {},
      "source": [
        "#### (b) Law of mass balance\n",
        "\n",
        "Use the laws of mass balance to calculate $[A]$ as a function of time in\n",
        "the unit $\\mathrm{M}$, add it as a column to the `DataFrame`"
      ],
      "id": "59962ed5-af8a-421f-9694-e65f99b40590"
    },
    {
      "cell_type": "code",
      "execution_count": 116,
      "metadata": {
        "exercise": true
      },
      "outputs": [],
      "source": [
        "... # Your code here."
      ],
      "id": "ab445a35"
    },
    {
      "cell_type": "markdown",
      "metadata": {},
      "source": [
        "#### (c) Mass action ratio\n",
        "\n",
        "Calculate and plot the mass action ratio $Q$ as a function of time."
      ],
      "id": "d6ce9c03-401d-49b7-8a62-62ace8e39214"
    },
    {
      "cell_type": "code",
      "execution_count": 118,
      "metadata": {
        "exercise": true
      },
      "outputs": [],
      "source": [
        "Q = ... # calculate Q "
      ],
      "id": "c1951ccc"
    },
    {
      "cell_type": "code",
      "execution_count": 119,
      "metadata": {
        "exercise": true
      },
      "outputs": [],
      "source": [
        "fig, ax = plt.subplots(figsize=(6, 4))\n",
        "\n",
        "... # Make the plot"
      ],
      "id": "301c1eec"
    },
    {
      "cell_type": "markdown",
      "metadata": {},
      "source": [
        "#### (d) $Q$ vs $K_{eq}$\n",
        "\n",
        "What is the difference between $Q$ and $K_{eq}$?\n",
        "\n",
        "#### (e) Favoured compound\n",
        "\n",
        "Which of the two compounds $A$ and $B$ is favored at equilibrium?\n",
        "(Favored: highest concentration)\n",
        "\n",
        "#### (f) Equilibrium constant\n",
        "\n",
        "What is the equilibrium constant of this reaction?\n",
        "\n",
        "#### (g) Reequilibriate\n",
        "\n",
        "Assume that an additional $10 \\times 10^{-6} \\mathrm{M}$ $A$ is added at\n",
        "timepoint, $t=35$ min. What is the concentrations of $A$ and $B$ when\n",
        "equilibrium has been reached again say at $t > 70$ min?\n",
        "\n",
        " \n",
        "\n",
        "------------------------------------------------------------------------\n",
        "\n",
        "## 9 Determination of ΔH° for a reaction from the van’t Hoff plot."
      ],
      "id": "357549cd-3bf5-4d02-974c-7ad051d5e3ae"
    },
    {
      "cell_type": "code",
      "execution_count": 121,
      "metadata": {},
      "outputs": [],
      "source": [
        "import matplotlib.pyplot as plt\n",
        "from scipy.optimize import curve_fit\n",
        "import numpy as np"
      ],
      "id": "c6b8c05c"
    },
    {
      "cell_type": "markdown",
      "metadata": {},
      "source": [
        "The equilibrium constant for a reversible reaction going from $A$ to $B$\n",
        "was measured as a function of temperature.\n",
        "\n",
        "The data obtained is given in the Excel document\n",
        "`deter_delta_h_data.xlsx` - load the data with the widget"
      ],
      "id": "933050c2-767f-4103-a929-0fad3d7481ea"
    },
    {
      "cell_type": "code",
      "execution_count": 122,
      "metadata": {},
      "outputs": [],
      "source": [
        "from fysisk_biokemi.widgets import DataUploader\n",
        "from IPython.display import display \n",
        "uploader = DataUploader()\n",
        "uploader.display()"
      ],
      "id": "bb615ea7"
    },
    {
      "cell_type": "markdown",
      "metadata": {},
      "source": [
        "Run the next cell **after** uploading the file"
      ],
      "id": "62927bf6-8ec8-4c9b-bde6-b3bdea84edb7"
    },
    {
      "cell_type": "code",
      "execution_count": 123,
      "metadata": {},
      "outputs": [],
      "source": [
        "df = uploader.get_dataframe()\n",
        "display(df)"
      ],
      "id": "7ef22c5b"
    },
    {
      "cell_type": "markdown",
      "metadata": {},
      "source": [
        "#### (a) Transform & plot the data\n",
        "\n",
        "> **Tip**\n",
        ">\n",
        "> In NumPy the `np.log` function calculates the natural logarithm that\n",
        "> we often write as $\\ln$ and `np.log10` calculates the base 10\n",
        "> logarithm.\n",
        "\n",
        "Add new columns to the `DataFrame` containing $\\ln(K_{eq})$ and $1/T$\n",
        "and make a plot with $1/T$ on the x-axis and $\\ln(K_{eq})$ on the\n",
        "y-axis."
      ],
      "id": "1ffd6383-d877-48f9-8def-177470a6b0e8"
    },
    {
      "cell_type": "code",
      "execution_count": 125,
      "metadata": {
        "exercise": true
      },
      "outputs": [],
      "source": [
        "df['1/T'] = ...\n",
        "df['ln_Keq'] = ..."
      ],
      "id": "8e8ac573"
    },
    {
      "cell_type": "markdown",
      "metadata": {},
      "source": [
        "Now you can make the plot in the cell below"
      ],
      "id": "ca719d73-bcea-4a92-86ec-68beeb24117a"
    },
    {
      "cell_type": "code",
      "execution_count": 127,
      "metadata": {
        "exercise": true
      },
      "outputs": [],
      "source": [
        "fig, ax = plt.subplots(figsize=(6, 4))\n",
        "\n",
        "... # Your code here.\n",
        "\n",
        "ax.set_xlabel(...)\n",
        "ax.set_ylabel(...)"
      ],
      "id": "f5ca3aeb"
    },
    {
      "cell_type": "markdown",
      "metadata": {},
      "source": [
        "#### (b) Fit trendline\n",
        "\n",
        "Make a linear trendline by fitting a linear function to the data.\n",
        "\n",
        "Start by defining a linear function"
      ],
      "id": "ea0f21c8-2aa6-4c81-8820-d35cea6d2658"
    },
    {
      "cell_type": "code",
      "execution_count": 129,
      "metadata": {
        "exercise": true
      },
      "outputs": [],
      "source": [
        "def vant_hoff(T, a, b):\n",
        "    return ... # Your code here."
      ],
      "id": "8898f1f0"
    },
    {
      "cell_type": "code",
      "execution_count": 131,
      "metadata": {
        "exercise": true
      },
      "outputs": [],
      "source": [
        "popt, pcov = ...\n",
        "a, b = popt\n",
        "\n",
        "print(f\"{a:.3f}\")\n",
        "print(f\"{b:.3f}\")"
      ],
      "id": "b5cc393d"
    },
    {
      "cell_type": "markdown",
      "metadata": {},
      "source": [
        "Then make a plot with the trendline added"
      ],
      "id": "d0d11796-72a8-41f0-8696-3b7dd7b6ea96"
    },
    {
      "cell_type": "code",
      "execution_count": 133,
      "metadata": {
        "exercise": true
      },
      "outputs": [],
      "source": [
        "fig, ax = plt.subplots(figsize=(6, 4))\n",
        "T_trend = ... # Select or make some appropriate points for the plotting evaluating the trendline.\n",
        "\n",
        "# Your code to plot under this line: \n",
        "...\n",
        "...\n",
        "..."
      ],
      "id": "cdd5ade3"
    },
    {
      "cell_type": "markdown",
      "metadata": {},
      "source": [
        "#### (c) Reaction type\n",
        "\n",
        "Calculate the reaction enthalpy and entropy, at $T = 298 \\ \\mathrm{K}$,\n",
        "assuming that\n",
        "$R = 8.314472 \\times 10^{-3} \\ \\frac{\\mathrm{kJ}}{\\mathrm{mol}\\cdot\\mathrm{K}}$.\n",
        "Is the reaction endo- or exothermic?"
      ],
      "id": "164f3b1a-44ec-4a50-828d-1f5f1c0e71ad"
    },
    {
      "cell_type": "code",
      "execution_count": 136,
      "metadata": {
        "exercise": true
      },
      "outputs": [],
      "source": [
        "# Define your known values:\n",
        "R = ...\n",
        "T = ...\n",
        "\n",
        "# Calculate the reaction enthalpy and reaction entropy\n",
        "dH = ...\n",
        "dS = ...\n",
        "\n",
        "print(f\"{dH = :.3f}\")\n",
        "print(f\"{dS = :.3f}\")"
      ],
      "id": "8eebcb37"
    },
    {
      "cell_type": "markdown",
      "metadata": {},
      "source": [
        "#### (d) Free energy change\n",
        "\n",
        "Calculate the free energy change, $\\Delta G^\\circ$, at\n",
        "$T = 298 \\ \\mathrm{K}$, assuming that\n",
        "$R = 8.314472 \\times 10^{-3} \\ \\frac{\\mathrm{kJ}}{\\mathrm{mol}\\cdot\\mathrm{K}}$"
      ],
      "id": "f6da5d6c-8402-4c01-b362-d045ce65a1a2"
    },
    {
      "cell_type": "code",
      "execution_count": 137,
      "metadata": {
        "exercise": true
      },
      "outputs": [],
      "source": [
        "# Define your known values:\n",
        "R = ...\n",
        "T = ...\n",
        "\n",
        "# Perform your calculation: \n",
        "dG = ...\n",
        "\n",
        "print(f\"{dG = :.3f}\")"
      ],
      "id": "47763434"
    },
    {
      "cell_type": "markdown",
      "metadata": {},
      "source": [
        "------------------------------------------------------------------------\n",
        "\n",
        "## 10 ATP hydrolysis"
      ],
      "id": "ba3996cd-666a-471d-b27b-90c71340718a"
    },
    {
      "cell_type": "code",
      "execution_count": 139,
      "metadata": {},
      "outputs": [],
      "source": [
        "import numpy as np"
      ],
      "id": "eecdc58c"
    },
    {
      "cell_type": "markdown",
      "metadata": {},
      "source": [
        "Below is shown the structure of ATP.\n",
        "\n",
        "$\\Delta G^\\circ$ for the hydrolysis of ATP to ADP and Pi is\n",
        "$-30.5 \\ \\mathrm{kJ/mol}$.\n",
        "\n",
        "![](https://raw.githubusercontent.com/au-mbg/fysisk-biokemi/refs/heads/main/course/lessons/figures/atp_structure.png)\n",
        "\n",
        "#### (a) $\\Delta G$\n",
        "\n",
        "In cells at $298 \\ \\mathrm{K}$ the steady state concentrations of ATP,\n",
        "ADP og Pi resulted in a value for the reaction quotient\n",
        "$Q = \\frac{\\mathrm{[ADP]}[\\mathrm{Pi}]}{[\\mathrm{ATP}]} = 0.002$.\n",
        "Calculate ΔG’ under these conditions."
      ],
      "id": "9feb6cf1-6164-4416-8231-6e1a381b256c"
    },
    {
      "cell_type": "code",
      "execution_count": 140,
      "metadata": {
        "exercise": true
      },
      "outputs": [],
      "source": [
        "# Known values:\n",
        "dG_std = ... # kJ / mol\n",
        "Q = ...\n",
        "T = ...\n",
        "... # One more might be useful.\n",
        "\n",
        "# Calculation:\n",
        "dG = dG_std + R*T*np.log(Q)\n",
        "print(dG)"
      ],
      "id": "e9faff86"
    },
    {
      "cell_type": "markdown",
      "metadata": {},
      "source": [
        "#### (b) Equilibrium or not?\n",
        "\n",
        "Assuming that the temperature within these cells is $298 \\ \\mathrm{K}$,\n",
        "are these cells in equilibrium with respect to the hydrolysis of ATP?\n",
        "\n",
        "#### (c) ATP synthesized\n",
        "\n",
        "Calculate the number of moles of ATP synthesized by a resting person in\n",
        "a period of 24 hours, assuming that the energy consumption by this\n",
        "person is $8368 \\ \\mathrm{kJ}$ per 24 hours and that 40% of this energy\n",
        "is converted directly into ATP without loss of energy. Use the ΔG’ value\n",
        "calculated in question a, and assume that $298 \\ \\mathrm{K}$."
      ],
      "id": "3167122c-6e23-4627-8412-6e806d062e3f"
    },
    {
      "cell_type": "code",
      "execution_count": 142,
      "metadata": {
        "exercise": true
      },
      "outputs": [],
      "source": [
        "energy_atp = ...\n",
        "synth_atp = ...\n",
        "print(synth_atp)"
      ],
      "id": "82959e8d"
    },
    {
      "cell_type": "markdown",
      "metadata": {},
      "source": [
        "> **Tip**\n",
        ">\n",
        "> You can use `np.absolute` to calculate the absolute value of a number.\n",
        "\n",
        "#### (d) Turnover\n",
        "\n",
        "Next, calculate the average number of times each ATP molecule is turned\n",
        "over (synthesis followed by hydrolysis) in 24 hours when the total\n",
        "amount of ATP in the body equals $0.2 \\ \\mathrm{mol}$."
      ],
      "id": "9637533a-cb0a-41c2-a052-4dec2af915fb"
    },
    {
      "cell_type": "code",
      "execution_count": 144,
      "metadata": {
        "exercise": true
      },
      "outputs": [],
      "source": [
        "... # Your calculation here"
      ],
      "id": "fa1fb8df"
    }
  ],
  "nbformat": 4,
  "nbformat_minor": 5,
  "metadata": {
    "kernelspec": {
      "name": "python3",
      "display_name": "Python 3 (ipykernel)",
      "language": "python",
      "path": "/home/runner/work/fysisk-biokemi/fysisk-biokemi/.venv/share/jupyter/kernels/python3"
    },
    "language_info": {
      "name": "python",
      "codemirror_mode": {
        "name": "ipython",
        "version": "3"
      },
      "file_extension": ".py",
      "mimetype": "text/x-python",
      "nbconvert_exporter": "python",
      "pygments_lexer": "ipython3",
      "version": "3.11.13"
    }
  }
}