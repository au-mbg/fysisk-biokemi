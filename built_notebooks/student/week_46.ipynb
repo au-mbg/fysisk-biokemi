{
  "cells": [
    {
      "cell_type": "markdown",
      "metadata": {},
      "source": [
        "# Week 46"
      ],
      "id": "b2f806ac-d3b8-414f-ab7c-c4f1e061b18a"
    },
    {
      "cell_type": "code",
      "execution_count": 2,
      "metadata": {},
      "outputs": [],
      "source": [
        "try:\n",
        "    import fysisk_biokemi\n",
        "    print(\"Already installed\")\n",
        "except ImportError:\n",
        "    %pip install -q \"fysisk_biokemi[colab] @ git+https://github.com/au-mbg/fysisk-biokemi.git\""
      ],
      "id": "a18d36c3"
    },
    {
      "cell_type": "markdown",
      "metadata": {},
      "source": [
        "## Extinction coefficient of human myoglobin\n",
        "\n",
        "The protein of human myoglobin is given below"
      ],
      "id": "ef6526da-1e54-438d-b39a-68c273b62427"
    },
    {
      "cell_type": "code",
      "execution_count": 3,
      "metadata": {},
      "outputs": [],
      "source": [
        "sequence = \"\"\"GLSDGEWQLVLNVWGKVEADIPGHGQEVLIRLFKGHPETLEKFDKFKHLKSEDEMKASEDLKKHGA\n",
        "TVLTALGGILKKKGHHEAEIKPLAQSHATKHKIPVKYLEFISECIIQVLQSKHPGDFGADAQGAMNKALELFRKDMASNY\n",
        "KELGFQG\"\"\""
      ],
      "id": "2fb0831d"
    },
    {
      "cell_type": "markdown",
      "metadata": {},
      "source": [
        "We want to calculate the *extinction coefficient* of this protein, we\n",
        "have seen that this can be calculated using the formula\n",
        "\n",
        "<span id=\"eq-extinction\">$$\n",
        "\\epsilon(280 \\mathrm{nm}) = N_{Trp} A + N_{Tyr} B + N_{Cys} C \n",
        " \\qquad(1)$$</span>\n",
        "\n",
        "Where $N_{Trp}$ is the number of Tryptophan in the protein (and likewise\n",
        "for the other two terms), and the three constants $A$, $B$ and $C$ are\n",
        "given as\n",
        "\n",
        "$$\n",
        "\\begin{align}\n",
        "A &= 5500 \\ \\mathrm{M^{−1} cm^{−1}} \\\\\n",
        "B &= 1490 \\ \\mathrm{M^{−1} cm^{−1}} \\\\\n",
        "C &= 125 \\ \\mathrm{M^{−1} cm^{−1}}\n",
        "\\end{align}\n",
        "$$\n",
        "\n",
        "In order to calculate the formula we need to know the count of the\n",
        "relevant residues, we can use Python to get that - for example we can\n",
        "count the number of Tryptophan like so;"
      ],
      "id": "17f84c4f-4dbd-4a37-adcb-6eeeea928bfc"
    },
    {
      "cell_type": "code",
      "execution_count": 4,
      "metadata": {},
      "outputs": [],
      "source": [
        "N_trp = sequence.count(\"W\")"
      ],
      "id": "98258bdf"
    },
    {
      "cell_type": "markdown",
      "metadata": {},
      "source": [
        "### (a) Determine the number of residues\n",
        "\n",
        "In the cell below find the number of residues"
      ],
      "id": "2bad60f5-1146-4f0d-8bf4-4b84bf09d7b8"
    },
    {
      "cell_type": "code",
      "execution_count": 6,
      "metadata": {
        "exercise": true
      },
      "outputs": [],
      "source": [
        "N_tyr = ... # Your code here\n",
        "... # Your code here for the N_cys."
      ],
      "id": "e2e442ac"
    },
    {
      "cell_type": "code",
      "execution_count": 7,
      "metadata": {},
      "outputs": [
        {
          "output_type": "stream",
          "name": "stdout",
          "text": [
            "N_trp = 2\n",
            "N_tyr = 2\n",
            "N_cys = 1"
          ]
        }
      ],
      "source": [
        "print(f\"{N_trp = }\")\n",
        "print(f\"{N_tyr = }\")\n",
        "print(f\"{N_cys = }\")"
      ],
      "id": "0632d1b9"
    },
    {
      "cell_type": "markdown",
      "metadata": {},
      "source": [
        "### (b) Calculate the extinction coefficient\n",
        "\n",
        "Use equation\n",
        "(<a href=\"#eq-extinction\" class=\"quarto-xref\">Equation 1</a>) to\n",
        "calculate the extinction coefficient of human myoglobin."
      ],
      "id": "95452d11-3190-4a0d-939a-eeaa4bd50e80"
    },
    {
      "cell_type": "code",
      "execution_count": 8,
      "metadata": {},
      "outputs": [],
      "source": [
        "A = 5500\n",
        "B = 1490\n",
        "C = 125"
      ],
      "id": "74f0dcbc"
    },
    {
      "cell_type": "code",
      "execution_count": 9,
      "metadata": {
        "exercise": true
      },
      "outputs": [],
      "source": [
        "epsilon = ... # Erstat ... med din kode.\n",
        "print(epsilon)"
      ],
      "id": "af6fc5e0"
    },
    {
      "cell_type": "markdown",
      "metadata": {},
      "source": [
        "What are the units of this value?\n",
        "\n",
        "### (c) Compare residue count to ProtParam\n",
        "\n",
        "ProtParam is an online tool that calculates various physical and\n",
        "chemical parameters from a given protein sequence and is used worldwide\n",
        "in research laboratories.\n",
        "\n",
        "<figure>\n",
        "<img\n",
        "src=\"https://raw.githubusercontent.com/au-mbg/fysisk-biokemi/refs/heads/main/lessons/figures/week_46/protpram_input.png\"\n",
        "alt=\"Protpram tool input page.\" />\n",
        "<figcaption aria-hidden=\"true\">Protpram tool input page.</figcaption>\n",
        "</figure>\n",
        "\n",
        "Go to ProtPram at this link: <https://web.expasy.org/protparam/> and\n",
        "paste the sequence and click **Compute Parameters**. You should then see\n",
        "the calculated parameters, similar to in the image below\n",
        "\n",
        "<figure>\n",
        "<img\n",
        "src=\"https://raw.githubusercontent.com/au-mbg/fysisk-biokemi/refs/heads/main/lessons/figures/week_46/protpram_output.png\"\n",
        "alt=\"Protpram tool calculated properties.\" />\n",
        "<figcaption aria-hidden=\"true\">Protpram tool calculated\n",
        "properties.</figcaption>\n",
        "</figure>\n",
        "\n",
        "On the output page you will see the number of residues, does that match\n",
        "your calculation?\n",
        "\n",
        "### (d) ProtPram extinction coefficient\n",
        "\n",
        "Scrolling further down you will find that ProtParam also gives the\n",
        "extinction coefficient for the protein. As the absorbance of Cys\n",
        "residues varies slightly dependent on whether disulfide bridges\n",
        "(cystines) are present or not, ProtParam list the extinction coefficient\n",
        "in both reduced and oxidized states of the Cys residues.\n",
        "\n",
        "Consider the following questions\n",
        "\n",
        "-   Why are the extinction coefficients of myoglobin the same whether\n",
        "    cystines are formed or not?\n",
        "\n",
        "-   Does the extinction coefficient computed in ProtParam match the\n",
        "    value you have calculated?\n",
        "\n",
        "### (e) Calculate the absorbance\n",
        "\n",
        "Using the extinction coefficient and the molecular weight given by\n",
        "ProtParam, calculate the absorbance at 280 nm of a myoglobin solution at\n",
        "a concentration of 1 mg/mL in a cuvette with a light path of 1 cm."
      ],
      "id": "d8862108-923b-41fd-a9fc-6a161d923092"
    },
    {
      "cell_type": "code",
      "execution_count": 12,
      "metadata": {
        "exercise": true
      },
      "outputs": [],
      "source": [
        "molecular_weight = ... # Find the value on ProtPram (It has units of g/mol)\n",
        "path_length = ... # Set the value of the path length\n",
        "concentration = ... # Set the value of the concentraiton."
      ],
      "id": "60eaea78"
    },
    {
      "cell_type": "markdown",
      "metadata": {},
      "source": [
        "Remember to convert the concentration to $\\mathrm{mol/L}$."
      ],
      "id": "d31d9cdc-ef4b-4ad4-b92a-80fa0027fecf"
    },
    {
      "cell_type": "code",
      "execution_count": 13,
      "metadata": {
        "exercise": true
      },
      "outputs": [],
      "source": [
        "A280 = ...\n",
        "print(A280)"
      ],
      "id": "8d59f61b"
    },
    {
      "cell_type": "markdown",
      "metadata": {},
      "source": [
        "This value is what is known as the A280(0.1%) of a protein, i.e. the\n",
        "absorbance of a given protein at a concentration of 0.1% weight/volume\n",
        "(= 1 g/L = 1 mg/mL).\n",
        "\n",
        "### (f) Compare the absorbance to Protpram\n",
        "\n",
        "Does the number reported by ProtParam correspond to the number you just\n",
        "calculated in (e)?"
      ],
      "id": "bebb5ac8-7e39-40e0-ac13-741236e9fdd4"
    }
  ],
  "nbformat": 4,
  "nbformat_minor": 5,
  "metadata": {
    "kernelspec": {
      "name": "python3",
      "display_name": "Python 3 (ipykernel)",
      "language": "python",
      "path": "/home/runner/work/fysisk-biokemi/fysisk-biokemi/.venv/share/jupyter/kernels/python3"
    },
    "language_info": {
      "name": "python",
      "codemirror_mode": {
        "name": "ipython",
        "version": "3"
      },
      "file_extension": ".py",
      "mimetype": "text/x-python",
      "nbconvert_exporter": "python",
      "pygments_lexer": "ipython3",
      "version": "3.11.13"
    }
  }
}