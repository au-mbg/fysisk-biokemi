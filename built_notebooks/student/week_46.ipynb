{
  "cells": [
    {
      "cell_type": "markdown",
      "metadata": {},
      "source": [
        "# Week 46"
      ],
      "id": "7f18f8b7-bd7c-4a27-8673-6fc215231897"
    },
    {
      "cell_type": "code",
      "execution_count": 2,
      "metadata": {},
      "outputs": [],
      "source": [
        "try:\n",
        "    import fysisk_biokemi\n",
        "    print(\"Already installed\")\n",
        "except ImportError:\n",
        "    %pip install -q \"fysisk_biokemi[colab] @ git+https://github.com/au-mbg/fysisk-biokemi.git\""
      ],
      "id": "46f4b412"
    },
    {
      "cell_type": "markdown",
      "metadata": {},
      "source": [
        "------------------------------------------------------------------------\n",
        "\n",
        "## Python: Introduction to curve fitting"
      ],
      "id": "55c2aded-4957-4d95-87cf-cabd56988d6d"
    },
    {
      "cell_type": "code",
      "execution_count": 3,
      "metadata": {},
      "outputs": [],
      "source": [
        "import numpy as np\n",
        "import matplotlib.pyplot as plt\n",
        "from scipy.optimize import curve_fit"
      ],
      "id": "92bdc088"
    },
    {
      "cell_type": "markdown",
      "metadata": {},
      "source": [
        "Curve fitting is a fundamental skill in biochemistry and biophysics for\n",
        "analyzing experimental data. We use curve fitting to determine\n",
        "parameters in mathematical models that describe biological processes\n",
        "like enzyme kinetics, binding affinity, and reaction rates.\n",
        "\n",
        "The basic idea is to find the parameters of a mathematical function that\n",
        "best describes our experimental data.\n",
        "\n",
        "#### (a) Understanding the problem\n",
        "\n",
        "Let’s start with some simple data that follows a linear relationship.\n",
        "The data below represents a theoretical experiment where we measure some\n",
        "output $y$ at different input values $x$:"
      ],
      "id": "39a6d8ac-8b3b-4b0b-b43f-f41e06288f0a"
    },
    {
      "cell_type": "code",
      "execution_count": 4,
      "metadata": {},
      "outputs": [],
      "source": [
        "# Generate some data with noise\n",
        "x_data = np.array([1, 2, 3, 4, 5, 6, 7, 8, 9, 10])\n",
        "y_data = np.array([2.1, 4.2, 6.0, 7.8, 10.1, 12.2, 13.9, 16.1, 18.0, 20.2])"
      ],
      "id": "bd1f6a7f"
    },
    {
      "cell_type": "markdown",
      "metadata": {},
      "source": [
        "Looking at this data, we can see it roughly follows a straight line.\n",
        "Let’s assume our model is:\n",
        "\n",
        "$$y = ax + b$$\n",
        "\n",
        "where $a$ and $b$ are parameters we want to determine from the data.\n",
        "\n",
        "#### (b) Defining a fitting function\n",
        "\n",
        "To use `scipy.optimize.curve_fit`, we need to define a function where:\n",
        "\n",
        "-   The **first** argument is the independent variable (x)  \n",
        "-   The remaining arguments are the parameters to be fitted\n",
        "\n",
        "Define a linear function for fitting:"
      ],
      "id": "65085556-54bb-41f1-8d66-b8ce7d28db1f"
    },
    {
      "cell_type": "code",
      "execution_count": 7,
      "metadata": {
        "exercise": true
      },
      "outputs": [],
      "source": [
        "def linear_function(x, a, b):\n",
        "    return ... # Complete this line"
      ],
      "id": "2b971a3e"
    },
    {
      "cell_type": "markdown",
      "metadata": {},
      "source": [
        "Always a good idea to check that your function works as expected"
      ],
      "id": "567b4abc-7a2f-446b-9ed6-f73acbe89f8c"
    },
    {
      "cell_type": "code",
      "execution_count": 9,
      "metadata": {},
      "outputs": [
        {
          "output_type": "display_data",
          "metadata": {},
          "data": {
            "text/plain": [
              "2"
            ]
          }
        }
      ],
      "source": [
        "linear_function(1, 2, 0) # Should give 2"
      ],
      "id": "b48d84ab"
    },
    {
      "cell_type": "markdown",
      "metadata": {},
      "source": [
        "Come up with another test case to check"
      ],
      "id": "70b07d3c-6898-413f-ad5b-055dd9b3c33e"
    },
    {
      "cell_type": "code",
      "execution_count": 10,
      "metadata": {
        "exercise": true
      },
      "outputs": [],
      "source": [
        "print(linear_function(0, 2, 3)) # Should give 3 \n",
        "print(linear_function(1, 2, 3)) # Should give 5"
      ],
      "id": "aa6c40c8"
    },
    {
      "cell_type": "markdown",
      "metadata": {},
      "source": [
        "#### (c) Your first curve fit\n",
        "\n",
        "Now we can use `curve_fit` to find the best parameters. The basic syntax\n",
        "is:\n",
        "\n",
        "``` python\n",
        "popt, pcov = curve_fit(function, x_data, y_data, p0=initial_guess)\n",
        "```\n",
        "\n",
        "Where:\n",
        "\n",
        "-   `function`: The function we defined above\n",
        "-   `x_data`, `y_data`: Our experimental data\n",
        "-   `p0`: Initial guess for parameters (optional but recommended)\n",
        "-   `popt`: The optimized parameters (what we want!)\n",
        "-   `pcov`: Covariance matrix (contains information about parameter\n",
        "    uncertainties)\n",
        "\n",
        "Finish the cell below to perform the curve fit by adding the three\n",
        "missing arguments to the call to `curve_fit`."
      ],
      "id": "8f50f568-6504-4b78-95d4-811086a819af"
    },
    {
      "cell_type": "code",
      "execution_count": 12,
      "metadata": {
        "exercise": true
      },
      "outputs": [],
      "source": [
        "# Initial guess: a=2, b=0\n",
        "p0 = [2, 0]\n",
        "\n",
        "# Perform the fit\n",
        "popt, pcov = curve_fit(..., ..., ..., p0=p0)\n",
        "\n",
        "# Extract parameters\n",
        "a_fit, b_fit = popt\n",
        "print(f\"Fitted parameters: a = {a_fit:.3f}, b = {b_fit:.3f}\")"
      ],
      "id": "befff9b1"
    },
    {
      "cell_type": "markdown",
      "metadata": {},
      "source": [
        "#### (d) Visualizing the fit\n",
        "\n",
        "It’s crucial to always plot your fit to see how well it describes the\n",
        "data. To do this we evaluate the function with the fitted parameters and\n",
        "a densely sampled independent variable.\n",
        "\n",
        "Then we can plot it"
      ],
      "id": "94b95778-5af6-492f-bd4e-747d08453440"
    },
    {
      "cell_type": "code",
      "execution_count": 16,
      "metadata": {
        "exercise": true
      },
      "outputs": [],
      "source": [
        "fig, ax = plt.subplots(figsize=(6, 4))\n",
        "ax.plot(x_data, y_data, 'o', markersize=8, label='Experimental data')\n",
        "\n",
        "# Then we can plot the fit\n",
        "ax.plot(..., ..., '-', linewidth=2, label=f'Fit: y = {a_fit:.2f}x + {b_fit:.2f}') \n",
        "ax.set_xlabel('x')\n",
        "ax.set_ylabel('y') \n",
        "ax.legend()\n",
        "ax.set_title('Linear curve fit')"
      ],
      "id": "b210f905"
    },
    {
      "cell_type": "markdown",
      "metadata": {},
      "source": [
        "#### (e) Nonlinear fitting: Exponential decay\n",
        "\n",
        "Many biological processes follow nonlinear relationships. Let’s work\n",
        "with exponential decay, which is common in biochemistry (e.g.,\n",
        "radioactive decay).\n",
        "\n",
        "First, let’s generate some exponential data:"
      ],
      "id": "9e524585-b44a-443d-9f5e-25f89d3698dc"
    },
    {
      "cell_type": "code",
      "execution_count": 18,
      "metadata": {},
      "outputs": [
        {
          "output_type": "display_data",
          "metadata": {},
          "data": {
            "text/plain": [
              "Text(0.5, 1.0, 'Exponential decay data')"
            ]
          }
        },
        {
          "output_type": "display_data",
          "metadata": {},
          "data": {
            "image/png": "[encoded data removed]"
          }
        }
      ],
      "source": [
        "# Generate exponential decay data\n",
        "t = np.array([0, 0.5, 1.0, 1.5, 2.0, 2.5, 3.0, 3.5, 4.0, 4.5, 5.0])\n",
        "# True parameters: A=10, k=0.8\n",
        "A_true, k_true = 10, 0.8\n",
        "signal = A_true * np.exp(-k_true * t) + np.random.normal(0, 0.3, len(t))\n",
        "\n",
        "fig, ax = plt.subplots(figsize=(6, 4))\n",
        "ax.plot(t, signal, 'o', markersize=8)\n",
        "ax.set_xlabel('Time')\n",
        "ax.set_ylabel('Signal')\n",
        "ax.set_title('Exponential decay data')"
      ],
      "id": "fa6bba71"
    },
    {
      "cell_type": "markdown",
      "metadata": {},
      "source": [
        "The model we want to fit is: $$\\text{signal} = A e^{-kt}$$\n",
        "\n",
        "Define the exponential decay function:"
      ],
      "id": "06dbf2c0-2a9e-4fa4-8c9f-a9cde042f1ce"
    },
    {
      "cell_type": "code",
      "execution_count": 19,
      "metadata": {
        "exercise": true
      },
      "outputs": [],
      "source": [
        "def exponential_decay(t, A, k):\n",
        "    return ... # Complete this line"
      ],
      "id": "3c1b73a8"
    },
    {
      "cell_type": "markdown",
      "metadata": {},
      "source": [
        "Now fit the exponential function to the data:"
      ],
      "id": "8fb695d6-c209-455b-a7b2-6109322f2b90"
    },
    {
      "cell_type": "code",
      "execution_count": 21,
      "metadata": {
        "exercise": true
      },
      "outputs": [],
      "source": [
        "# Initial guess: A=8, k=1\n",
        "p0 = [8, 1]\n",
        "\n",
        "# Perform the fit\n",
        "popt, pcov = curve_fit(..., ..., ..., p0=p0)\n",
        "\n",
        "# Extract parameters\n",
        "A_fit, k_fit = popt\n",
        "print(f\"Fitted parameters: A = {A_fit:.3f}, k = {k_fit:.3f}\")\n",
        "print(f\"True parameters:   A = {A_true:.3f}, k = {k_true:.3f}\")"
      ],
      "id": "d8620239"
    },
    {
      "cell_type": "markdown",
      "metadata": {},
      "source": [
        "Again we should plot to check that it looks as expected"
      ],
      "id": "1c7d2fd8-775c-4de7-9a82-069955553bf1"
    },
    {
      "cell_type": "code",
      "execution_count": 23,
      "metadata": {
        "exercise": true
      },
      "outputs": [],
      "source": [
        "t_smooth = np.linspace(0, 5, 100)\n",
        "signal_fit = ... # Evaluate using the exponential_decay funciton"
      ],
      "id": "38df3ad8"
    },
    {
      "cell_type": "markdown",
      "metadata": {},
      "source": [
        "------------------------------------------------------------------------\n",
        "\n",
        "> **Key points for successful curve fitting:**\n",
        ">\n",
        "> 1.  **Always plot your data first** to understand what kind of\n",
        ">     function might fit\n",
        "> 2.  **Provide good initial guesses** (`p0`) - poor guesses can lead to\n",
        ">     fitting failure\n",
        "> 3.  **Use parameter bounds** when you know physical constraints\n",
        "> 4.  **Always plot the fit** to visually check if it makes sense\n",
        "> 5.  **Check if parameters are reasonable** based on your biochemical\n",
        ">     knowledge\n",
        "\n",
        "> **Common pitfalls:**\n",
        ">\n",
        "> -   **Overfitting**: Using too many parameters for the amount of data\n",
        ">     you have\n",
        "> -   **Poor initial guesses**: Can cause the fit to fail or find a\n",
        ">     local minimum\n",
        "> -   **Ignoring physical constraints**: Fitted parameters should make\n",
        ">     biological sense\n",
        "> -   **Not checking the fit visually**: Always plot to see if the fit\n",
        ">     is reasonable\n",
        "\n",
        "You now have the fundamental skills needed to fit curves to biochemical\n",
        "data! In the exercises, you’ll apply these techniques to analyze real\n",
        "experimental data and extract meaningful biological parameters.\n",
        "\n",
        "------------------------------------------------------------------------\n",
        "\n",
        "## Estimation of binding affinity\n",
        "\n",
        "#### (a) Train estimation skills\n",
        "\n",
        "Train your estimation skills using the widget below."
      ],
      "id": "0afba303-175d-4b10-93e4-60e403e3762c"
    },
    {
      "cell_type": "code",
      "execution_count": 27,
      "metadata": {},
      "outputs": [],
      "source": [
        "from fysisk_biokemi.widgets.utils.colab import enable_custom_widget_colab\n",
        "from fysisk_biokemi.widgets import estimate_kd\n",
        "\n",
        "enable_custom_widget_colab()\n",
        "estimate_kd()"
      ],
      "id": "c681a99a"
    },
    {
      "cell_type": "markdown",
      "metadata": {},
      "source": [
        "#### (b) Compare to quadratic\n",
        "\n",
        "The widget below shows the curves for $\\theta$ using both the simple\n",
        "expression and the quadratic binding expression. Use it to determine how\n",
        "large \\[P\\] has to be for them to be notably different."
      ],
      "id": "47f84b7b-c0c7-4dd8-ad53-80c29aed86cf"
    },
    {
      "cell_type": "code",
      "execution_count": 28,
      "metadata": {},
      "outputs": [],
      "source": [
        "from fysisk_biokemi.widgets.utils.colab import enable_custom_widget_colab\n",
        "from fysisk_biokemi.widgets import visualize_simple_vs_quadratic\n",
        "\n",
        "enable_custom_widget_colab()\n",
        "visualize_simple_vs_quadratic()"
      ],
      "id": "f0b68c45"
    },
    {
      "cell_type": "markdown",
      "metadata": {},
      "source": [
        "------------------------------------------------------------------------\n",
        "\n",
        "## Dialysis experiment"
      ],
      "id": "05a16370-4cf7-4a2e-b0c4-3586749c02c1"
    },
    {
      "cell_type": "code",
      "execution_count": 29,
      "metadata": {},
      "outputs": [],
      "source": [
        "import numpy as np"
      ],
      "id": "e9617660"
    },
    {
      "cell_type": "markdown",
      "metadata": {},
      "source": [
        "A dialysis experiment was set up where equal amounts of a protein were\n",
        "separately dialyzing against buffers containing different concentrations\n",
        "of a ligand – each measurement was done in triplicate. The average\n",
        "number of ligands bound per protein molecule, $\\bar{n}$ were obtained\n",
        "from these experiments. The corresponding concentrations of free ligand\n",
        "and values are given in dataset `dialys-exper.xlsx`.\n",
        "\n",
        "#### (a) Load the dataset"
      ],
      "id": "00e3a2e2-78b4-4074-ad44-a866583e6027"
    },
    {
      "cell_type": "code",
      "execution_count": 30,
      "metadata": {},
      "outputs": [],
      "source": [
        "from fysisk_biokemi.widgets import DataUploader\n",
        "from IPython.display import display \n",
        "uploader = DataUploader()\n",
        "uploader.display()"
      ],
      "id": "015774d1"
    },
    {
      "cell_type": "markdown",
      "metadata": {},
      "source": [
        "Run the next cell **after** uploading the file"
      ],
      "id": "2c1a86b6-2ff9-4f3a-8f10-7f84affce527"
    },
    {
      "cell_type": "code",
      "execution_count": 31,
      "metadata": {},
      "outputs": [],
      "source": [
        "df = uploader.get_dataframe()\n",
        "display(df)"
      ],
      "id": "ecb0077d"
    },
    {
      "cell_type": "markdown",
      "metadata": {},
      "source": [
        "#### (b) Explain calculation of $\\bar{n}$\n",
        "\n",
        "Explain how the values of $\\bar{n}$ is calculated when knowing the\n",
        "concentrations of ligand inside and outside the dialysis bag, as well as\n",
        "the total concentration of the protein, \\[$\\text{P}_{\\text{tot}}$\\].\n",
        "\n",
        "#### (c) Molar concentrations\n",
        "\n",
        "Convert the concentrations of free ligand to SI-units given in M, add it\n",
        "as a row to the `DataFrame`.\n",
        "\n",
        "#### (c) Plot the data"
      ],
      "id": "9f79d8c9-d6fb-47ec-88f0-dae869c60bce"
    },
    {
      "cell_type": "code",
      "execution_count": 34,
      "metadata": {
        "exercise": true
      },
      "outputs": [],
      "source": [
        "import matplotlib.pyplot as plt\n",
        "\n",
        "fig, ax = plt.subplots()\n",
        "\n",
        "# The 'o' means we plot just the points and don't connect them.\n",
        "ax.plot(..., ..., 'o') # Replace ... with your code.\n",
        "\n",
        "ax.set_xlabel('Free ligand [L] (M)', fontsize=16)\n",
        "ax.set_ylabel(r'$\\bar{n}$', fontsize=16)"
      ],
      "id": "ab063060"
    },
    {
      "cell_type": "markdown",
      "metadata": {},
      "source": [
        "#### (d) Prepare for fitting\n",
        "\n",
        "Now we want to fit the data to extract $K_D$ and $\\nu_{\\text{max}}$, by\n",
        "using the equation\n",
        "\n",
        "$$\n",
        "\\nu([L_{\\text{free}}]) = \\nu_{\\text{max}} \\frac{[L_{\\text{free}}]}{K_D + [L_{\\text{free}}]}\n",
        "$$\n",
        "\n",
        "To do so we need to implmenet it as a Python function"
      ],
      "id": "5f9738a4-767e-4da5-90bb-222d627979bb"
    },
    {
      "cell_type": "code",
      "execution_count": 36,
      "metadata": {
        "exercise": true
      },
      "outputs": [],
      "source": [
        "def nu(L, nu_max, K_D):\n",
        "    # Replace ... with your code that calculates the above equation. \n",
        "    # Be careful with parenthesis!\n",
        "    result = ... \n",
        "    return result\n",
        "\n",
        "print(f\"{nu(1, 1, 1) = }\") # Should give 1/2\n",
        "print(f\"{nu(21, 47, 2.5) = }\") # Should give 42"
      ],
      "id": "babe5a34"
    },
    {
      "cell_type": "markdown",
      "metadata": {},
      "source": [
        "#### (e) Actually fitting\n",
        "\n",
        "> **Important**\n",
        ">\n",
        "> Fitting refers to finding the parameters that make an assumed\n",
        "> functional form best ‘fit’ the data. Programmatically we will use the\n",
        "> `curve_fit` from the `scipy` package to do so. The signature of this\n",
        "> function looks like this\n",
        ">\n",
        "> ``` python\n",
        "> curve_fit(function, \n",
        ">             x_data, \n",
        ">             y_data, \n",
        ">             p0=[param_1, param_2, ...])\n",
        "> ```\n",
        ">\n",
        "> The arguments are\n",
        ">\n",
        "> -   `function`: A python function where the **first** argument is the\n",
        ">     independent variable, and other arguments are the parameters of\n",
        ">     the functions.\n",
        "> -   `x_data`: The observed values of the independent variable.\n",
        "> -   `y_data`: The observed values of the dependent variable.\n",
        "> -   `p0`: Initial guesses for the parameters.\n",
        ">\n",
        "> When called `curve_fit` starts by calculating how well the functions\n",
        "> fits the data with the initial parameters in `p0` and then iteratively\n",
        "> improves the fit by trying new values for the parameters in an\n",
        "> intelligent way.\n",
        ">\n",
        "> The found parameters will generally depend on `p0` and it is therefore\n",
        "> necessary to provide a good (or good enough) guess for `p0`.\n",
        ">\n",
        "> Generally, the best way to learn more about a function is to read it’s\n",
        "> documentation and then play around with it. The documentation is in\n",
        "> this case on the [SciPy\n",
        "> website](https://docs.scipy.org/doc/scipy/reference/generated/scipy.optimize.curve_fit.html).\n",
        "> You don’t need to read it, unless you want more details.\n",
        "\n",
        "Finish the code to perform the fitting in the cell below."
      ],
      "id": "2dbae66f-b78d-4e2a-9979-2834d5fca8bb"
    },
    {
      "cell_type": "code",
      "execution_count": 38,
      "metadata": {
        "exercise": true
      },
      "outputs": [],
      "source": [
        "from scipy.optimize import curve_fit\n",
        "\n",
        "# Choose the variables from the dataframe\n",
        "x = df['Free Ligand [L](M)']\n",
        "y = df['n-bar']\n",
        "\n",
        "# Initial guess\n",
        "K_D_guess = ... # Your initial guess for K_D \n",
        "nu_max_guess = ... # Your initial guess for nu_max\n",
        "p0 = [K_D_guess, nu_max_guess]\n",
        "\n",
        "# Curve fit\n",
        "# Replace the four ... with the correct arguments in the correct order.\n",
        "popt, pcov = curve_fit(..., ..., ..., ...) \n",
        "\n",
        "# Print the parameters\n",
        "nu_max_fit, K_D_fit = popt\n",
        "print(f\"{nu_max_fit = :1.3f} \")\n",
        "print(f\"{K_D_fit = :e}\")"
      ],
      "id": "9331d483"
    },
    {
      "cell_type": "markdown",
      "metadata": {},
      "source": [
        "Are the parameters you find reasonable? How can you tell if they are\n",
        "reasonable by looking at the plot you made earlier?\n",
        "\n",
        "#### (f) Plot with fit\n",
        "\n",
        "When we have the fitted parameters we can calculate and plot the\n",
        "function. To do so we make an array of values for the independent\n",
        "variable and use our function to calculate the dependent variable"
      ],
      "id": "4e1582b5-e898-47ca-b4f3-e26e0940eea6"
    },
    {
      "cell_type": "code",
      "execution_count": 40,
      "metadata": {
        "exercise": true
      },
      "outputs": [],
      "source": [
        "# This makes 50 equally spaced points between 0 and the highest concentration x 1.2\n",
        "L = np.linspace(0, x.max()*1.2, 50) \n",
        "\n",
        "# Calculate by plugging L and the found parameters into the function.\n",
        "nu_calc = ..."
      ],
      "id": "26b82e35"
    },
    {
      "cell_type": "markdown",
      "metadata": {},
      "source": [
        "Now that we calculated the dependent variable we can plot the fit along\n",
        "with the data.\n",
        "\n",
        "------------------------------------------------------------------------\n",
        "\n",
        "## ADP binding to pyruvate kinase.\n",
        "\n",
        "The binding of ADP to the enzyme pyruvate kinase was measured by\n",
        "fluorescence. The enzyme concentration was 4 μM throughout the\n",
        "titration, and each measurement was done in triplicate. The binding\n",
        "results were obtained at 310 K and are given in the `.csv`-file\n",
        "`adp-bindin-pyruva-kinase.csv`.\n",
        "\n",
        "#### (a) Load the dataset\n",
        "\n",
        "As always, use the widget to load the dataset"
      ],
      "id": "37334c15-d70c-4b57-9bd6-0b18795aa1fe"
    },
    {
      "cell_type": "code",
      "execution_count": 43,
      "metadata": {},
      "outputs": [],
      "source": [
        "from fysisk_biokemi.widgets import DataUploader\n",
        "from IPython.display import display \n",
        "uploader = DataUploader()\n",
        "uploader.display()"
      ],
      "id": "ee1f4630"
    },
    {
      "cell_type": "markdown",
      "metadata": {},
      "source": [
        "Run the next cell **after** uploading the file"
      ],
      "id": "0745cc15-6bf3-4203-b004-865a2a42b3ec"
    },
    {
      "cell_type": "code",
      "execution_count": 44,
      "metadata": {},
      "outputs": [],
      "source": [
        "df = uploader.get_dataframe()\n",
        "display(df)"
      ],
      "id": "d0087496"
    },
    {
      "cell_type": "markdown",
      "metadata": {},
      "source": [
        "#### (b) Units\n",
        "\n",
        "The concentrations in the dataset are given in mM, add a new column to\n",
        "the `DataFrame` with the units given in M."
      ],
      "id": "a794b1fb-a0c9-40fd-9faf-6bd0818e30b0"
    },
    {
      "cell_type": "code",
      "execution_count": 46,
      "metadata": {
        "exercise": true
      },
      "outputs": [],
      "source": [
        "df['[ADPtot](M)'] = ...\n",
        "display(df)"
      ],
      "id": "6b779063"
    },
    {
      "cell_type": "markdown",
      "metadata": {},
      "source": [
        "#### (c) Free ADP concentration\n",
        "\n",
        "For each value of $\\bar{n}$ calculate the concentration of\n",
        "\\[ADP$_\\text{free}$\\] from \\[ADP$_\\text{tot}$\\] and \\[enzyme\\]."
      ],
      "id": "dd51cee4-1596-49de-bed7-1a5e3d00aeb2"
    },
    {
      "cell_type": "code",
      "execution_count": 48,
      "metadata": {
        "exercise": true
      },
      "outputs": [],
      "source": [
        "enzyme_conc = ...\n",
        "df['[ADPfree](M)'] = ...\n",
        "display(df)"
      ],
      "id": "da195b7d"
    },
    {
      "cell_type": "markdown",
      "metadata": {},
      "source": [
        "#### (d) Make a plot\n",
        "\n",
        "Make a plot of the free ligand concentration versus $\\bar{n}$."
      ],
      "id": "6d0c0a7b-a8dd-46ef-b984-cd38d7d317d2"
    },
    {
      "cell_type": "code",
      "execution_count": 50,
      "metadata": {
        "exercise": true
      },
      "outputs": [],
      "source": [
        "fig, ax = plt.subplots(figsize=(7, 4))\n",
        "\n",
        "# Write the code to make the plot.\n",
        "# Add the arguments:  marker='o', linestyle='none' to only plot points and not line segments.\n",
        "... # Add your code here!\n",
        "\n",
        "ax.set_xlabel(r'$[\\text{ADP}_{\\text{free}}]$', fontsize=14)\n",
        "ax.set_ylabel(r'$\\bar{n}$', fontsize=14)"
      ],
      "id": "eb0a8a0f"
    },
    {
      "cell_type": "markdown",
      "metadata": {},
      "source": [
        "#### (f) Preparing for fitting\n",
        "\n",
        "To fit we need a implement the function we want to fit the parameters\n",
        "of, the functional form is\n",
        "\n",
        "$$\n",
        "n = n_{\\text{max}} \\frac{[L]^n}{K_D + [L]^n}\n",
        "$$"
      ],
      "id": "d2f9468a-8736-4f38-b5de-42b11e2590aa"
    },
    {
      "cell_type": "code",
      "execution_count": 52,
      "metadata": {
        "exercise": true
      },
      "outputs": [],
      "source": [
        "def n_bound(L, n_max, K_D, n_exp):\n",
        "    return ...\n",
        "\n",
        "print(f\"{n_bound(1, 1, 1, 1) = }\") # Should give 1/2\n",
        "print(f\"{n_bound(21, 47, 2.5, 1) = }\") # Should give 42\n",
        "print(f\"{n_bound(21, 47, 2.5, 2) = }\") # Should give 46.73.."
      ],
      "id": "cef47e78"
    },
    {
      "cell_type": "markdown",
      "metadata": {},
      "source": [
        "#### (e) Fitting\n",
        "\n",
        "Finish the code below to create a fit."
      ],
      "id": "af8a21e8-c68f-4b6a-94ff-d62de6cec7d2"
    },
    {
      "cell_type": "code",
      "execution_count": 54,
      "metadata": {
        "exercise": true
      },
      "outputs": [],
      "source": [
        "from scipy.optimize import curve_fit\n",
        "\n",
        "# Choose the variables from the dataframe\n",
        "x = df['[ADPfree](M)']\n",
        "y = df['nbar']\n",
        "\n",
        "# Initial guess\n",
        "K_D_guess = ... # Your initial guess for K_D \n",
        "nu_max_guess = ... # Your initial guess for nu_max\n",
        "n_exp = ... # Your initial guess for the exponent.\n",
        "p0 = [K_D_guess, nu_max_guess, n_exp]\n",
        "\n",
        "# Bounds\n",
        "bounds = (0, np.inf) # We limit the parameters to be positve.\n",
        "\n",
        "# Curve fit\n",
        "popt, pcov = curve_fit(n_bound, x, y, p0=p0, bounds=bounds)\n",
        "\n",
        "# Print the parameters\n",
        "n_max_fit, K_D_fit, n_exp_fit = popt\n",
        "print(f\"{n_max_fit = :1.3f} \")\n",
        "print(f\"{K_D_fit = :e}\")\n",
        "print(f\"{n_exp_fit = :1.3f} \")"
      ],
      "id": "2a78edd2"
    },
    {
      "cell_type": "markdown",
      "metadata": {},
      "source": [
        "Once we’ve obtained the fitted parameters we can plot the fit together\n",
        "with the data."
      ],
      "id": "40e7b6c7-3180-4c93-a371-d46f9b1ea8a1"
    },
    {
      "cell_type": "code",
      "execution_count": 56,
      "metadata": {
        "exercise": true
      },
      "outputs": [],
      "source": [
        "L = np.linspace(0, 1.2 * x.max(), 50)\n",
        "n = n_bound(L, n_max_fit, K_D_fit, 1)\n",
        "\n",
        "fig, ax = plt.subplots(figsize=(7, 4))\n",
        "ax.plot(df['[ADPfree](M)'], df['nbar'], 'o', label='Observations')\n",
        "ax.plot(L, n)\n",
        "ax.axvline(K_D_fit, color='k', linewidth=0.5, linestyle='--')\n",
        "ax.axhline(n_max_fit, color='k', linewidth=0.5, linestyle='--')\n",
        "\n",
        "\n",
        "ax.set_xlabel(r'$[\\text{ADP}_{\\text{free}}]$', fontsize=14)\n",
        "ax.set_ylabel(r'$\\bar{n}$', fontsize=14)\n",
        "ax.set_ylim([0, n.max()*1.1])"
      ],
      "id": "d21ed980"
    },
    {
      "cell_type": "markdown",
      "metadata": {},
      "source": [
        "### Free energy\n",
        "\n",
        "Calculate the free energy for the association of the ADP-pyruvate kinase\n",
        "complex assuming\n",
        "$R = 8.314472 \\times 10^{-3} \\ \\frac{\\text{kJ}}{\\text{mol} \\cdot \\text{K}}$\n",
        "and $T = 310 \\ \\text{K}$.\n",
        "\n",
        "> **Tip**\n",
        ">\n",
        "> Consider the difference between association and dissociation\n",
        "\n",
        "Start by defining the two given constants as variables"
      ],
      "id": "b1b7d4b4-1fe1-4178-8269-13e32a45fe32"
    },
    {
      "cell_type": "code",
      "execution_count": 58,
      "metadata": {
        "exercise": true
      },
      "outputs": [],
      "source": [
        "R = ...\n",
        "T = ..."
      ],
      "id": "c34582a2"
    },
    {
      "cell_type": "markdown",
      "metadata": {},
      "source": [
        "And do the calculation"
      ],
      "id": "bc97d1aa-8a78-4db2-a2f2-10a98cbfa7e6"
    },
    {
      "cell_type": "code",
      "execution_count": 60,
      "metadata": {
        "exercise": null
      },
      "outputs": [],
      "source": [
        "delta_G = ...\n",
        "print(f\"{delta_G = :.3f} kJ/mol\")"
      ],
      "id": "3aa84d3e"
    },
    {
      "cell_type": "markdown",
      "metadata": {},
      "source": [
        "------------------------------------------------------------------------\n",
        "\n",
        "## Interpretation of binding data."
      ],
      "id": "6e4004cb-b4f2-4b27-9044-8b15fe001f85"
    },
    {
      "cell_type": "code",
      "execution_count": 62,
      "metadata": {},
      "outputs": [],
      "source": [
        "import numpy as np"
      ],
      "id": "6a5f2d84"
    },
    {
      "cell_type": "markdown",
      "metadata": {},
      "source": [
        "The `inter-bindin-data.xlsx` contains a protein binding dataset.\n",
        "\n",
        "#### (a) Load the dataset\n",
        "\n",
        "Load the dataset using the widget below"
      ],
      "id": "0371f212-b1b8-4d5d-8b18-e04144707e06"
    },
    {
      "cell_type": "code",
      "execution_count": 63,
      "metadata": {},
      "outputs": [],
      "source": [
        "import numpy as np\n",
        "from fysisk_biokemi.widgets import DataUploader\n",
        "from IPython.display import display \n",
        "uploader = DataUploader()\n",
        "uploader.display()"
      ],
      "id": "751e664e"
    },
    {
      "cell_type": "markdown",
      "metadata": {},
      "source": [
        "Run the next cell **after** uploading the file"
      ],
      "id": "f792f036-bc58-458d-a450-85964d5a3511"
    },
    {
      "cell_type": "code",
      "execution_count": 64,
      "metadata": {},
      "outputs": [],
      "source": [
        "df = uploader.get_dataframe()\n",
        "display(df)"
      ],
      "id": "1c4d5987"
    },
    {
      "cell_type": "markdown",
      "metadata": {},
      "source": [
        "#### (b) SI Units\n",
        "\n",
        "Add a new column to the `DataFrame` with the ligand concentration in SI\n",
        "units."
      ],
      "id": "13bdedaa-4bb3-4372-b19d-0efae9ea4ba4"
    },
    {
      "cell_type": "code",
      "execution_count": 66,
      "metadata": {
        "exercise": true
      },
      "outputs": [],
      "source": [
        "... # Replace ... with your code.\n",
        "display(df)"
      ],
      "id": "bdd34f85"
    },
    {
      "cell_type": "markdown",
      "metadata": {},
      "source": [
        "#### (c) Plot the data\n",
        "\n",
        "Make plots of the binding data directly with a linear and logarithmic\n",
        "x-axis.\n",
        "\n",
        "Estimate $K_D$ by visual inspection of these plots!"
      ],
      "id": "f463b258-98f8-48e3-b486-5417196eca90"
    },
    {
      "cell_type": "code",
      "execution_count": 68,
      "metadata": {
        "exercise": true
      },
      "outputs": [],
      "source": [
        "import matplotlib.pyplot as plt\n",
        "\n",
        "# This makes a figure with two axes.\n",
        "fig, axes = plt.subplots(1, 2, figsize=(9, 4))\n",
        "\n",
        "# Can with [0] to plot in the first axis.\n",
        "ax = axes[0]\n",
        "ax.plot(..., ..., 'o') # Replace ... with your code.\n",
        "ax.set_xlabel('[L](M)', fontsize=14)\n",
        "ax.set_ylabel(r'$\\bar{n}$', fontsize=14)\n",
        "\n",
        "ax = axes[1]\n",
        "... # Put some code here - perhaps you can copy it from somewhere?\n",
        "ax.set_xscale('log') # This make the x-axis logarithmic."
      ],
      "id": "c8713b60"
    },
    {
      "cell_type": "markdown",
      "metadata": {},
      "source": [
        "> **Note**\n",
        ">\n",
        "> Ths command `ax.set_xscale('log')` tells `matplotlib` that we want the\n",
        "> x-axis to use a log-scale."
      ],
      "id": "03a8b3ba-fe82-48d8-af94-f08241cf5d59"
    },
    {
      "cell_type": "code",
      "execution_count": 70,
      "metadata": {
        "exercise": true
      },
      "outputs": [],
      "source": [
        "k_d_estimate = ..."
      ],
      "id": "68f672a7"
    },
    {
      "cell_type": "markdown",
      "metadata": {},
      "source": [
        "#### (d) Make a fit\n",
        "\n",
        "Make a fit to determine $K_D$, as always we start by implementing the\n",
        "function to fit with"
      ],
      "id": "6957dee2-ce20-4eb3-b493-2b791003ccae"
    },
    {
      "cell_type": "code",
      "execution_count": 72,
      "metadata": {
        "exercise": true
      },
      "outputs": [],
      "source": [
        "def ... # Give the function an appropriate name.\n",
        "    return ... # Implement the expression for nbar"
      ],
      "id": "4bf110ff"
    },
    {
      "cell_type": "markdown",
      "metadata": {},
      "source": [
        "And then we can make the fit"
      ],
      "id": "d164563f-fe1c-41bc-a3f8-f42c0bb2cf91"
    },
    {
      "cell_type": "code",
      "execution_count": 74,
      "metadata": {
        "exercise": true
      },
      "outputs": [],
      "source": [
        "from scipy.optimize import curve_fit\n",
        "\n",
        "# Choose the variables from the dataframe\n",
        "x = ... # Choose x-data from the dataframe\n",
        "y = ... # Choose y-data from the dataframe\n",
        "\n",
        "# Initial guess\n",
        "p0 = [k_d_estimate]\n",
        "\n",
        "# Bounds\n",
        "bounds = (0, np.inf) # We limit the parameters to be positve.\n",
        "\n",
        "# Curve fit\n",
        "popt, pcov = ... # Call the curve_fit function.\n",
        "\n",
        "# Print the parameters\n",
        "k_d_fit = popt[0]\n",
        "print(f\"{k_d_fit = :e}\")"
      ],
      "id": "e89deb67"
    },
    {
      "cell_type": "markdown",
      "metadata": {},
      "source": [
        "#### Compare\n",
        "\n",
        "Use the figure below to compare your guess with the fitted value.\n",
        "\n",
        "#### Saturation\n",
        "\n",
        "Based on the value of $K_D$ found from the fit,\n",
        "\n",
        "-   At which concentration do you expect 10% saturation?\n",
        "-   At which concentration do you expect 90% saturation?\n",
        "\n",
        "------------------------------------------------------------------------\n",
        "\n",
        "## Determination of type and strength of cooperativity"
      ],
      "id": "447925ff-d07b-4ffb-9008-4e8fa86269ce"
    },
    {
      "cell_type": "code",
      "execution_count": 77,
      "metadata": {},
      "outputs": [],
      "source": [
        "import matplotlib.pyplot as plt\n",
        "import numpy as np"
      ],
      "id": "56724308"
    },
    {
      "cell_type": "markdown",
      "metadata": {},
      "source": [
        "The binding of NAD+ to the protein yeast glyceraldehyde 3-phosphate\n",
        "dehydrogenase (GAPDH) was studied using equilibrium dialysis. The enzyme\n",
        "concentration was 71 μM. The concentration of\n",
        "$[\\text{NAD}^{+}_\\text{free}]$ and the corresponding values of $\\bar{n}$\n",
        "were determined with the resulting data found in the dataset\n",
        "`deter-type-streng-coope.xlsx`.\n",
        "\n",
        "#### (a) Load the dataset\n",
        "\n",
        "Load the dataset using the widget below"
      ],
      "id": "850e9d0f-0179-4787-a2a4-8537df734d9f"
    },
    {
      "cell_type": "code",
      "execution_count": 78,
      "metadata": {},
      "outputs": [],
      "source": [
        "from fysisk_biokemi.widgets import DataUploader\n",
        "from IPython.display import display \n",
        "uploader = DataUploader()\n",
        "uploader.display()"
      ],
      "id": "0f892123"
    },
    {
      "cell_type": "markdown",
      "metadata": {},
      "source": [
        "Run the next cell **after** uploading the file"
      ],
      "id": "220e1ae7-57ae-4188-8084-e6e46b6e2159"
    },
    {
      "cell_type": "code",
      "execution_count": 79,
      "metadata": {},
      "outputs": [],
      "source": [
        "df = uploader.get_dataframe()\n",
        "display(df)"
      ],
      "id": "bb0fda1a"
    },
    {
      "cell_type": "markdown",
      "metadata": {},
      "source": [
        "#### (b) Averaging and units.\n",
        "\n",
        "Start by adding a new column to the `DataFrame` with the average value\n",
        "of $\\bar{n}$ across the three series\n",
        "\n",
        "> **Tip**\n",
        ">\n",
        "> Remember that you can set a new column based on a computation using\n",
        "> one or more other columns, e.g. \n",
        ">\n",
        "> ``` python\n",
        "> df['new_col'] = df['col1'] + df['col2']\n",
        "> ```"
      ],
      "id": "086722a5-1635-4910-b26f-070f6c6c8f22"
    },
    {
      "cell_type": "code",
      "execution_count": 81,
      "metadata": {
        "exercise": true
      },
      "outputs": [],
      "source": [
        "df['nbar_avg'] = ..."
      ],
      "id": "817aaac2"
    },
    {
      "cell_type": "markdown",
      "metadata": {},
      "source": [
        "Now also add a column with the ligand concentration in SI units with the\n",
        "column-name `[NAD+free]_(M)`."
      ],
      "id": "2bea8bd7-de73-46df-9f9c-2e4e8bfa2722"
    },
    {
      "cell_type": "code",
      "execution_count": 83,
      "metadata": {
        "exercise": true
      },
      "outputs": [],
      "source": [
        "... # Your code here. \n",
        "display(df)"
      ],
      "id": "865db26a"
    },
    {
      "cell_type": "markdown",
      "metadata": {},
      "source": [
        "Finally, set the concentration of the GADPH in SI units"
      ],
      "id": "aadc445f-066b-4566-a23c-955c9bc5de2f"
    },
    {
      "cell_type": "code",
      "execution_count": 85,
      "metadata": {},
      "outputs": [],
      "source": [
        " c_gadph = 71 * 10**(-6)"
      ],
      "id": "2c481ab1"
    },
    {
      "cell_type": "markdown",
      "metadata": {},
      "source": [
        "#### (c) Plot\n",
        "\n",
        "Make a plot of the average $\\bar{n}$ as a function of\n",
        "$[\\text{NAD}^{+}_\\text{free}]$."
      ],
      "id": "01ff6878-33d2-4d98-9221-50ad947b5b36"
    },
    {
      "cell_type": "code",
      "execution_count": 86,
      "metadata": {
        "exercise": true
      },
      "outputs": [],
      "source": [
        "fig, ax = plt.subplots(figsize=(8, 4))\n",
        "\n",
        "# Your code to plot here.\n",
        "... \n",
        "\n",
        "# This sets the labels.\n",
        "ax.set_xlabel(r'$[\\text{NAD}^{+}_\\text{free}]$', fontsize=14)\n",
        "ax.set_ylabel(r'$\\bar{n}$', fontsize=14)\n",
        "plt.show()"
      ],
      "id": "b742b297"
    },
    {
      "cell_type": "markdown",
      "metadata": {},
      "source": [
        "#### (d) Scatchard plot\n",
        "\n",
        "Make a Scatchard plot based on the average $\\bar{n}$."
      ],
      "id": "8568d242-cdf0-49a9-bf80-4a84ddebc7d3"
    },
    {
      "cell_type": "code",
      "execution_count": 88,
      "metadata": {
        "exercise": true
      },
      "outputs": [],
      "source": [
        "# Calculate nbar / L \n",
        "nbar_over_L = ...\n",
        "\n",
        "fig, ax = plt.subplots(figsize=(6, 4)) \n",
        "\n",
        "ax.plot(..., ... 'o') # Plot the right thins. \n",
        "\n",
        "ax.set_xlabel(r'$\\bar{n}$', fontsize=14)\n",
        "ax.set_ylabel(r'$\\bar{n}/L$', fontsize=14)\n",
        "ax.set_xlim([0, df['nbar_avg'].max()*1.2])\n",
        "ax.set_ylim([0, nbar_over_L.max() * 1.2])"
      ],
      "id": "e2afa9bf"
    },
    {
      "cell_type": "markdown",
      "metadata": {},
      "source": [
        "#### (e) Binding sites\n",
        "\n",
        "How many binding sites does GAPDH contain for $\\text{NAD}^{+}$?\n",
        "\n",
        "#### (f) Cooperativity\n",
        "\n",
        "What type of cooperativity do the plots indicate?\n",
        "\n",
        "#### (g) Fit\n",
        "\n",
        "Make a fit using the functional form\n",
        "\n",
        "$$\n",
        "\\bar{n} = N \\frac{[L]^h}{K_D + [L]^h}\n",
        "$$\n",
        "\n",
        "As usual, start by defining the function in Python"
      ],
      "id": "e1954330-6adb-437b-935b-597a453d3293"
    },
    {
      "cell_type": "code",
      "execution_count": 91,
      "metadata": {
        "exercise": true
      },
      "outputs": [],
      "source": [
        "def n_bar(L, N, k_d, h):\n",
        "    # Replace ... with your code.\n",
        "    # Be careful with parentheses.\n",
        "    result = ...\n",
        "    return result "
      ],
      "id": "53683ea4"
    },
    {
      "cell_type": "markdown",
      "metadata": {},
      "source": [
        "Now we can fit"
      ],
      "id": "baef3645-a1f6-4f74-8feb-25dfd043042b"
    },
    {
      "cell_type": "code",
      "execution_count": 92,
      "metadata": {
        "exercise": true
      },
      "outputs": [],
      "source": [
        "from scipy.optimize import curve_fit\n",
        "\n",
        "# This selects the '[NAD+free]_(m)'-column three times and stitches it together.\n",
        "x = np.concatenate([df['[NAD+free]_(M)'], df['[NAD+free]_(M)'], df['[NAD+free]_(M)']])\n",
        "# Do the same to stitch together the nbar1, nbar2 and nbar3 columns.\n",
        "y = ...\n",
        "\n",
        "# Initial guess\n",
        "p0 = [..., ..., ...]\n",
        "\n",
        "# Bounds\n",
        "bounds = (0, np.inf) # We limit the parameters to be positve.\n",
        "\n",
        "# Curve fit\n",
        "popt, pcov = curve_fit(n_bar, x, y, p0=p0, bounds=bounds)\n",
        "\n",
        "# Print the parameters\n",
        "N_fit, k_d_fit, h_fit = popt\n",
        "print(f\"{N_fit = :.3f}\")\n",
        "print(f\"{k_d_fit = :e}\")\n",
        "print(f\"{h_fit = :.3f}\")"
      ],
      "id": "5ae9bf2f"
    },
    {
      "cell_type": "markdown",
      "metadata": {},
      "source": [
        "> **Note**\n",
        ">\n",
        "> The function `np.concatenate` takes a number of arrays and makes a new\n",
        "> array that consisting of the originals one after each other. For\n",
        "> example,\n",
        ">\n",
        "> ``` python\n",
        "> A = np.array([1, 2, 3])\n",
        "> B = np.array([4, 5, 6])\n",
        "> C = np.concatenate([A, B])\n",
        "> print(C)\n",
        "> ```\n",
        ">\n",
        ">     [1 2 3 4 5 6]\n",
        "\n",
        "#### (h) Plot with fit"
      ],
      "id": "fa919e2c-b99d-4e38-8e56-40cd07987cac"
    },
    {
      "cell_type": "code",
      "execution_count": 95,
      "metadata": {
        "exercise": true
      },
      "outputs": [],
      "source": [
        "L = np.linspace(0, df['[NAD+free]_(M)'].max()*1.5)\n",
        "n_bar_fit = n_bar(L, N_fit, k_d_fit, h_fit)\n",
        "\n",
        "fig, ax = plt.subplots(figsize=(8, 4))\n",
        "ax.plot(x, y, 'o', label='Data')\n",
        "ax.plot(L, n_bar_fit, '-', label='Fit')\n",
        "ax.axhline(N_fit, color='C2', label='N from fit')\n",
        "ax.axvline(k_d_fit, color='C3', label=r'$K_D$ from fit')\n",
        "ax.set_xlabel(r'$[\\text{NAD}^{+}_\\text{free}]$', fontsize=14)\n",
        "ax.set_ylabel(r'$\\bar{n}$', fontsize=14)\n",
        "ax.legend()\n",
        "plt.show()"
      ],
      "id": "004ad78c"
    },
    {
      "cell_type": "markdown",
      "metadata": {},
      "source": [
        "------------------------------------------------------------------------\n",
        "\n",
        "## Competition in ligand binding\n",
        "\n",
        "Below is given the general expression for saturation of a binding site\n",
        "by one of the ligands, $L$, when two ligands $L$ and $C$ are competing\n",
        "for binding to the same site on a protein. Assume that $[P_T] = 10^{-9}$\n",
        "$\\mathrm{M}$.\n",
        "\n",
        "$$\n",
        "\\theta = \\frac{[PL]}{[P_T]} = \\frac{1}{\\frac{K_D}{[L]}\\left(1 + \\frac{[C]}{K_C}\\right) + 1}\n",
        "$$\n",
        "\n",
        "Consider these four situations\n",
        "\n",
        "| \\# | $K_D$ | $[L_T]$ | $K_C$ | $[C_T]$ |\n",
        "|------|-----------------|-----------------|-----------------|-----------------|\n",
        "| 1 | $1·10^{-5}$ $\\mathrm{M}$ | $1·10^{-3}$ $\\mathrm{M}$ |  | $0$ |\n",
        "| 2 | $1·10^{-5}$ $\\mathrm{M}$ | $1·10^{-3}$ $\\mathrm{M}$ | $1·10^{-6}$ $\\mathrm{M}$ | $1·10^{-2}$ $\\mathrm{M}$ |\n",
        "| 3 | $1·10^{-5}$ $\\mathrm{M}$ | $1·10^{-3}$ $\\mathrm{M}$ | $1·10^{-5}$ $\\mathrm{M}$ | $1·10^{-3}$ $\\mathrm{M}$ |\n",
        "| 4 | $1·10^{-5}$ $\\mathrm{M}$ | $1·10^{-5}$ $\\mathrm{M}$ | $1·10^{-6}$ $\\mathrm{M}$ | $1·10^{-6}$ $\\mathrm{M}$ |\n",
        "\n",
        "##### (a) Explain simplification\n",
        "\n",
        "Explain how the fact that $[P_T]$ is much smaller than $[L_T]$ and\n",
        "$[C_T]$ simplifies the calculations using the above equation.\n",
        "\n",
        "#### (b) Ligand degree of saturation\n",
        "\n",
        "Calculate the degree of saturation of the protein with ligand $L$ in the\n",
        "four situations.\n",
        "\n",
        "Start by writing a Python function that calculates the degree of\n",
        "saturation $\\theta$."
      ],
      "id": "597272a4-dc22-436a-a17e-ecce77c28f9b"
    },
    {
      "cell_type": "code",
      "execution_count": 97,
      "metadata": {
        "exercise": true
      },
      "outputs": [],
      "source": [
        "def bound_fraction(L, C, Kd, Kc):\n",
        "    # Write the equation for binding saturation. Be careful with parentheses!\n",
        "    theta = ... \n",
        "    return theta"
      ],
      "id": "83eed1f7"
    },
    {
      "cell_type": "markdown",
      "metadata": {},
      "source": [
        "Then use that function to calculate $\\theta$ for each situation."
      ],
      "id": "fc13df5b-db89-43d8-956b-82e518ad051c"
    },
    {
      "cell_type": "code",
      "execution_count": 99,
      "metadata": {
        "exercise": true
      },
      "outputs": [],
      "source": [
        "theta_L_1 = bound_fraction(..., ..., ..., ...)\n",
        "theta_L_2 = ...\n",
        "theta_L_3 = ...\n",
        "theta_L_4 = ...\n",
        "print(f\"{theta_L_1 = :.3f}\")\n",
        "print(f\"{theta_L_2 = :.3f}\")\n",
        "print(f\"{theta_L_3 = :.3f}\")\n",
        "print(f\"{theta_L_4 = :.3f}\")"
      ],
      "id": "6cb63b49"
    },
    {
      "cell_type": "markdown",
      "metadata": {},
      "source": [
        "#### (c) Competitor degree of saturation\n",
        "\n",
        "What is the degree of saturation with respect to the competitor $C$ in\n",
        "#1, #2 and #4?"
      ],
      "id": "9610432a-87a0-48a8-90b8-c9a1c5fc0549"
    },
    {
      "cell_type": "code",
      "execution_count": 101,
      "metadata": {
        "exercise": true
      },
      "outputs": [],
      "source": [
        "theta_C_1 = ...\n",
        "theta_C_2 = ...\n",
        "theta_C_3 = ...\n",
        "theta_C_4 = ...\n",
        "\n",
        "print(f\"{theta_C_1 = :.3f}\")\n",
        "print(f\"{theta_C_2 = :.3f}\")\n",
        "print(f\"{theta_C_3 = :.3f}\")\n",
        "print(f\"{theta_C_4 = :.3f}\")"
      ],
      "id": "1a4d6117"
    },
    {
      "cell_type": "markdown",
      "metadata": {},
      "source": [
        "#### (d) Fraction of $[P_{\\mathrm{free}}]$\n",
        "\n",
        "What is the fraction of $[P_{\\mathrm{free}}]$ in #2, #3, #4?\n",
        "\n",
        "> **Tip**\n",
        ">\n",
        "> Consider how to express the fraction of $[P_{\\mathrm{free}}]$ in terms\n",
        "> of `theta_L_X` and `theta_C_X`."
      ],
      "id": "b44adff1-fe13-4a65-9f26-74723fa27175"
    },
    {
      "cell_type": "code",
      "execution_count": 103,
      "metadata": {
        "exercise": true
      },
      "outputs": [],
      "source": [
        "theta_free_1 = ...\n",
        "theta_free_2 = ...\n",
        "theta_free_3 = ...\n",
        "theta_free_4 = ...\n",
        "\n",
        "print(f\"{theta_free_1 = :.3f}\")\n",
        "print(f\"{theta_free_2 = :.3f}\")\n",
        "print(f\"{theta_free_3 = :.3f}\")\n",
        "print(f\"{theta_free_4 = :.3f}\")"
      ],
      "id": "2f5ac959"
    },
    {
      "cell_type": "markdown",
      "metadata": {},
      "source": [
        "------------------------------------------------------------------------\n",
        "\n",
        "## Difference between $Q$ and $K_{eq}$"
      ],
      "id": "3ef3e9c6-f98b-4874-9b46-da0b928fac10"
    },
    {
      "cell_type": "code",
      "execution_count": 105,
      "metadata": {},
      "outputs": [],
      "source": [
        "import matplotlib.pyplot as plt\n",
        "import pandas as pd\n",
        "pd.set_option('display.max_rows', 6)"
      ],
      "id": "ae93bbb6"
    },
    {
      "cell_type": "markdown",
      "metadata": {},
      "source": [
        "Consider the reaction:\n",
        "\n",
        "$$\n",
        "A \\rightleftarrows B\n",
        "$$\n",
        "\n",
        "The time course of the reaction was followed monitoring formation of the\n",
        "product $B$. The starting concentration of $A$ was 50 µM, and as you\n",
        "will learn later in the course, the reversible reaction going from $A$\n",
        "to $B$ follows first order kinetics.\n",
        "\n",
        "#### (a) Load & convert\n",
        "\n",
        "The data is contained in the `reverse_reaction.xlsx` file."
      ],
      "id": "33465b69-550e-4a1e-944a-c7b36eddee8c"
    },
    {
      "cell_type": "code",
      "execution_count": 106,
      "metadata": {},
      "outputs": [],
      "source": [
        "from fysisk_biokemi.widgets import DataUploader\n",
        "from IPython.display import display \n",
        "uploader = DataUploader()\n",
        "uploader.display()"
      ],
      "id": "38f53bd1"
    },
    {
      "cell_type": "markdown",
      "metadata": {},
      "source": [
        "Run the next cell **after** uploading the file"
      ],
      "id": "eb60a874-b111-444d-bd24-b7fa674ced37"
    },
    {
      "cell_type": "code",
      "execution_count": 107,
      "metadata": {},
      "outputs": [],
      "source": [
        "df = uploader.get_dataframe()\n",
        "display(df)"
      ],
      "id": "a01d510f"
    },
    {
      "cell_type": "markdown",
      "metadata": {},
      "source": [
        "Convert the measured concentrations of $B$, $[B]$, to concentrations in\n",
        "the SI-unit $\\mathrm{M} \\ (\\mathrm{mol/L})$. Repeat for the starting\n",
        "concentration of $A$, $[A]_0$."
      ],
      "id": "48c17ab3-87e4-47e9-983e-ccd324e9891e"
    },
    {
      "cell_type": "code",
      "execution_count": 109,
      "metadata": {
        "exercise": true
      },
      "outputs": [],
      "source": [
        "df['[B]_(M)'] = ...\n",
        "A0 = ..."
      ],
      "id": "4bd384e2"
    },
    {
      "cell_type": "markdown",
      "metadata": {},
      "source": [
        "#### (b) Law of mass balance\n",
        "\n",
        "Use the laws of mass balance to calculate $[A]$ as a function of time in\n",
        "the unit \\$, add it as a column to the `DataFrame`"
      ],
      "id": "b2a6b619-a531-406d-8393-7d25ce46f468"
    },
    {
      "cell_type": "code",
      "execution_count": 111,
      "metadata": {
        "exercise": true
      },
      "outputs": [],
      "source": [
        "... # Your code here."
      ],
      "id": "df944f75"
    },
    {
      "cell_type": "markdown",
      "metadata": {},
      "source": [
        "#### (c) Mass action ratio\n",
        "\n",
        "Calculate and plot the mass action ratio $Q$ as a function of time."
      ],
      "id": "95220b4c-4714-41cf-b5b4-40d778a0738f"
    },
    {
      "cell_type": "code",
      "execution_count": 113,
      "metadata": {
        "exercise": true
      },
      "outputs": [],
      "source": [
        "Q = ... # calculate Q "
      ],
      "id": "b88a8711"
    },
    {
      "cell_type": "code",
      "execution_count": 114,
      "metadata": {
        "exercise": true
      },
      "outputs": [],
      "source": [
        "fig, ax = plt.subplots(figsize=(6, 4))\n",
        "\n",
        "... # Make the plot"
      ],
      "id": "3e632920"
    },
    {
      "cell_type": "markdown",
      "metadata": {},
      "source": [
        "#### (d) $Q$ vs $K_{eq}$\n",
        "\n",
        "What is the difference between $Q$ and $K_{eq}$?\n",
        "\n",
        "#### (e) Favoured compound\n",
        "\n",
        "Which of the two compounds $A$ and $B$ is favored at equilibrium?\n",
        "(Favored: highest concentration)\n",
        "\n",
        "#### (f) Equilibrium constant\n",
        "\n",
        "What is the equilibrium constant of this reaction?\n",
        "\n",
        "#### (g) Reequilibriate\n",
        "\n",
        "Assume that an additional $10 \\times 10^{-6} \\mathrm{M}$ $A$ is added at\n",
        "timepoint, $t=35$ min. What is the concentrations of $A$ and $B$ when\n",
        "equilibrium has been reached again say at $t > 70$ min?\n",
        "\n",
        " \n",
        "\n",
        "------------------------------------------------------------------------\n",
        "\n",
        "## Determination of ΔH° for a reaction from the van’t Hoff plot."
      ],
      "id": "0478f2e8-1318-4575-9de5-071132b2a145"
    },
    {
      "cell_type": "code",
      "execution_count": 116,
      "metadata": {},
      "outputs": [],
      "source": [
        "import matplotlib.pyplot as plt\n",
        "from scipy.optimize import curve_fit\n",
        "import numpy as np"
      ],
      "id": "7acbc16e"
    },
    {
      "cell_type": "markdown",
      "metadata": {},
      "source": [
        "The equilibrium constant for a reversible reaction going from $A$ to $B$\n",
        "was measured as a function of temperature.\n",
        "\n",
        "The data obtained is given in the Excel document\n",
        "`deter_delta_h_data.xlsx` - load the data with the widget"
      ],
      "id": "8d1201f0-0b3b-49b7-ba58-a624f754366b"
    },
    {
      "cell_type": "code",
      "execution_count": 117,
      "metadata": {},
      "outputs": [],
      "source": [
        "from fysisk_biokemi.widgets import DataUploader\n",
        "from IPython.display import display \n",
        "uploader = DataUploader()\n",
        "uploader.display()"
      ],
      "id": "c8af5c8d"
    },
    {
      "cell_type": "markdown",
      "metadata": {},
      "source": [
        "Run the next cell **after** uploading the file"
      ],
      "id": "a95ac9b3-b2b1-4db2-8f74-7962ed0e625a"
    },
    {
      "cell_type": "code",
      "execution_count": 118,
      "metadata": {},
      "outputs": [],
      "source": [
        "df = uploader.get_dataframe()\n",
        "display(df)"
      ],
      "id": "65410619"
    },
    {
      "cell_type": "markdown",
      "metadata": {},
      "source": [
        "#### (a) Transform & plot the data\n",
        "\n",
        "Add new columns to the `DataFrame` containing $\\ln(K_{eq})$ and $1/T$\n",
        "and make a plot with $1/T$ on the x-axis and $\\ln(K_{eq})$ on the\n",
        "y-axis."
      ],
      "id": "9bdbfe89-d565-4532-82ff-e79cac3382f8"
    },
    {
      "cell_type": "code",
      "execution_count": 120,
      "metadata": {
        "exercise": true
      },
      "outputs": [],
      "source": [
        "df['1/T'] = ...\n",
        "df['ln_Keq'] = ..."
      ],
      "id": "fa9aa0be"
    },
    {
      "cell_type": "markdown",
      "metadata": {},
      "source": [
        "Now you can make the plot in the cell below"
      ],
      "id": "83cbba56-4cbe-4927-b311-a18e8af183e4"
    },
    {
      "cell_type": "code",
      "execution_count": 122,
      "metadata": {
        "exercise": true
      },
      "outputs": [],
      "source": [
        "fig, ax = plt.subplots(figsize=(6, 4))\n",
        "\n",
        "... # Your code here.\n",
        "\n",
        "ax.set_xlabel('1/T [K]')\n",
        "ax.set_ylabel('$\\ln(K_{eq})$')"
      ],
      "id": "aa56b7ee"
    },
    {
      "cell_type": "markdown",
      "metadata": {},
      "source": [
        "#### (b) Fit trendline\n",
        "\n",
        "Make a linear trendline by fitting a linear function to the data.\n",
        "\n",
        "Start by defining a linear function"
      ],
      "id": "b0f0a153-8088-4619-97c5-48b578cd52de"
    },
    {
      "cell_type": "code",
      "execution_count": 124,
      "metadata": {
        "exercise": true
      },
      "outputs": [],
      "source": [
        "def vant_hoff(T, a, b):\n",
        "    return ... # Your code here."
      ],
      "id": "1ac86fd2"
    },
    {
      "cell_type": "code",
      "execution_count": 126,
      "metadata": {
        "exercise": true
      },
      "outputs": [],
      "source": [
        "popt, pcov = ...\n",
        "a, b = popt\n",
        "\n",
        "print(f\"{a:.3f}\")\n",
        "print(f\"{b:.3f}\")"
      ],
      "id": "f1043aab"
    },
    {
      "cell_type": "markdown",
      "metadata": {},
      "source": [
        "Then make a plot with the trendline added"
      ],
      "id": "6003bc29-0a0a-489e-bb74-30be19732678"
    },
    {
      "cell_type": "code",
      "execution_count": 128,
      "metadata": {
        "exercise": true
      },
      "outputs": [],
      "source": [
        "fig, ax = plt.subplots(figsize=(6, 4))\n",
        "T_trend = np.array([df['1/T'].min(), df['1/T'].max()])\n",
        "\n",
        "# Your code to plot under this line: \n",
        "...\n",
        "...\n",
        "..."
      ],
      "id": "0dd9d66d"
    },
    {
      "cell_type": "markdown",
      "metadata": {},
      "source": [
        "#### (c) Reaction type\n",
        "\n",
        "Is the reaction endo- or exothermic?\n",
        "\n",
        "#### (d) Free energy change\n",
        "\n",
        "Calculate the free energy change, $\\Delta G^\\circ$, at\n",
        "$T = 298 \\ \\mathrm{K}$, assuming that\n",
        "$R = 8.314472 \\times 10^{-3} \\ \\frac{\\mathrm{kJ}}{\\mathrm{mol}\\cdot\\mathrm{K}}$"
      ],
      "id": "2d2f92a3-13b7-487f-98dc-8a8f23e15253"
    },
    {
      "cell_type": "code",
      "execution_count": 131,
      "metadata": {
        "exercise": true
      },
      "outputs": [],
      "source": [
        "# Define your known values:\n",
        "R = ...\n",
        "T = ...\n",
        "\n",
        "# Perform your calculation: \n",
        "dG = ...\n",
        "\n",
        "print(f\"{dG = :.3f}\")"
      ],
      "id": "9af54860"
    },
    {
      "cell_type": "markdown",
      "metadata": {},
      "source": [
        "#### (e) Entropy contribution\n",
        "\n",
        "What is the entropy contribution $-T\\Delta S^\\circ$ to this reaction at\n",
        "$T = 298 \\ \\mathrm{K}$?"
      ],
      "id": "4e8fc57e-5651-4888-be74-72d687aa1a2c"
    },
    {
      "cell_type": "code",
      "execution_count": 133,
      "metadata": {
        "exercise": true
      },
      "outputs": [],
      "source": [
        "TdS = - T * dS \n",
        "print(f\"{TdS = :.3f}\")"
      ],
      "id": "6dbbf8d7"
    },
    {
      "cell_type": "markdown",
      "metadata": {},
      "source": [
        "------------------------------------------------------------------------\n",
        "\n",
        "## ATP hydrolysis"
      ],
      "id": "ce632144-a65b-4ecc-ad2f-536e5415eb05"
    },
    {
      "cell_type": "code",
      "execution_count": 135,
      "metadata": {},
      "outputs": [],
      "source": [
        "import numpy as np"
      ],
      "id": "e13acc14"
    },
    {
      "cell_type": "markdown",
      "metadata": {},
      "source": [
        "Below is shown the structure of ATP.\n",
        "\n",
        "$\\Delta G^\\circ´$ for the hydrolysis of ATP to ADP and Pi is\n",
        "$-30.5 \\ \\mathrm{kJ/mol}$.\n",
        "\n",
        "![](https://raw.githubusercontent.com/au-mbg/fysisk-biokemi/refs/heads/main/lessons/figures/atp_structure.png)\n",
        "\n",
        "#### (a) $\\Delta G´$\n",
        "\n",
        "In cells at $298 \\ \\mathrm{K}$ the steady state concentrations of ATP,\n",
        "ADP og Pi resulted in a value for the reaction quotient\n",
        "$Q = \\frac{\\mathrm{[ADP]}[\\mathrm{Pi}]}{[\\mathrm{ATP}]} = 0.002$.\n",
        "Calculate ΔG’ under these conditions."
      ],
      "id": "221070cf-171d-4a06-8c7d-08fbdf954a8e"
    },
    {
      "cell_type": "code",
      "execution_count": 136,
      "metadata": {
        "exercise": true
      },
      "outputs": [],
      "source": [
        "# Known values:\n",
        "dG_std_prime = ... # kJ / mol\n",
        "Q = ...\n",
        "T = ...\n",
        "... # One more might be useful.\n",
        "\n",
        "# Calculation:\n",
        "dG_prime = dG_std_prime + R*T*np.log(Q)\n",
        "print(dG_prime)"
      ],
      "id": "6ddf0c1d"
    },
    {
      "cell_type": "markdown",
      "metadata": {},
      "source": [
        "#### (b) Equilibrium or not?\n",
        "\n",
        "Assuming that the temperature within these cells is $298 \\ \\mathrm{K}$,\n",
        "are these cells in equilibrium with respect to the hydrolysis of ATP?\n",
        "\n",
        "#### (c) ATP synthesized\n",
        "\n",
        "Calculate the number of moles of ATP synthesized by a resting person in\n",
        "a period of 24 hours, assuming that the energy consumption by this\n",
        "person is $8368 \\ \\mathrm{kJ}$ per 24 hours and that 40% of this energy\n",
        "is converted directly into ATP without loss of energy. Use the ΔG’ value\n",
        "calculated in question a, and assume that $298 \\ \\mathrm{K}$."
      ],
      "id": "28f71540-0cc9-4569-975d-d317b1604ffd"
    },
    {
      "cell_type": "code",
      "execution_count": 138,
      "metadata": {
        "exercise": true
      },
      "outputs": [],
      "source": [
        "energy_atp = ...\n",
        "synth_atp = ...\n",
        "print(synth_atp)"
      ],
      "id": "92429c2e"
    },
    {
      "cell_type": "markdown",
      "metadata": {},
      "source": [
        "> **Tip**\n",
        ">\n",
        "> You can use `np.absolute` to calculate the absolute value of a number.\n",
        "\n",
        "#### (d) Turnover\n",
        "\n",
        "Next, calculate the average number of times each ATP molecule is turned\n",
        "over (synthesis followed by hydrolysis) in 24 hours when the total\n",
        "amount of ATP in the body equals $0.2 \\ \\mathrm{mol}$."
      ],
      "id": "2c1471e7-be0b-4e5e-b0ef-ce9b0badb130"
    },
    {
      "cell_type": "code",
      "execution_count": 140,
      "metadata": {
        "exercise": true
      },
      "outputs": [],
      "source": [
        "... # Your calculation here"
      ],
      "id": "571c26f8"
    }
  ],
  "nbformat": 4,
  "nbformat_minor": 5,
  "metadata": {
    "kernelspec": {
      "name": "python3",
      "display_name": "Python 3 (ipykernel)",
      "language": "python",
      "path": "/home/runner/work/fysisk-biokemi/fysisk-biokemi/.venv/share/jupyter/kernels/python3"
    },
    "language_info": {
      "name": "python",
      "codemirror_mode": {
        "name": "ipython",
        "version": "3"
      },
      "file_extension": ".py",
      "mimetype": "text/x-python",
      "nbconvert_exporter": "python",
      "pygments_lexer": "ipython3",
      "version": "3.11.13"
    }
  }
}