{
  "cells": [
    {
      "cell_type": "markdown",
      "metadata": {},
      "source": [
        "# Week 46"
      ],
      "id": "8d56ef32-a257-4bfc-b210-bc8fc1597178"
    },
    {
      "cell_type": "code",
      "execution_count": 2,
      "metadata": {},
      "outputs": [],
      "source": [
        "try:\n",
        "    import fysisk_biokemi\n",
        "    print(\"Already installed\")\n",
        "except ImportError:\n",
        "    %pip install -q \"fysisk_biokemi[colab] @ git+https://github.com/au-mbg/fysisk-biokemi.git\""
      ],
      "id": "9d75d36f"
    },
    {
      "cell_type": "markdown",
      "metadata": {},
      "source": [
        "------------------------------------------------------------------------\n",
        "\n",
        "## 0.1 Python: Introduction to curve fitting"
      ],
      "id": "9ad40f2c-1a0a-4529-b514-a26c5a8255eb"
    },
    {
      "cell_type": "code",
      "execution_count": 3,
      "metadata": {},
      "outputs": [],
      "source": [
        "import numpy as np\n",
        "import matplotlib.pyplot as plt\n",
        "from scipy.optimize import curve_fit"
      ],
      "id": "f58a7767"
    },
    {
      "cell_type": "markdown",
      "metadata": {},
      "source": [
        "Curve fitting is a fundamental skill in biochemistry and biophysics for\n",
        "analyzing experimental data. We use curve fitting to determine\n",
        "parameters in mathematical models that describe biological processes\n",
        "like enzyme kinetics, binding affinity, and reaction rates.\n",
        "\n",
        "The basic idea is to find the parameters of a mathematical function that\n",
        "best describes our experimental data.\n",
        "\n",
        "#### (a) Understanding the problem\n",
        "\n",
        "Let’s start with some simple data that follows a linear relationship.\n",
        "The data below represents a theoretical experiment where we measure some\n",
        "output $y$ at different input values $x$:"
      ],
      "id": "9591d15a-9be2-4432-ace2-6b01bfafad96"
    },
    {
      "cell_type": "code",
      "execution_count": 4,
      "metadata": {},
      "outputs": [],
      "source": [
        "# Generate some data with noise\n",
        "x_data = np.array([1, 2, 3, 4, 5, 6, 7, 8, 9, 10])\n",
        "y_data = np.array([2.1, 4.2, 6.0, 7.8, 10.1, 12.2, 13.9, 16.1, 18.0, 20.2])"
      ],
      "id": "b4e868ac"
    },
    {
      "cell_type": "code",
      "execution_count": 5,
      "metadata": {
        "exercise": true
      },
      "outputs": [],
      "source": [
        "# Plot the data\n",
        "fig, ax = plt.subplots(figsize=(6, 4))\n",
        "\n",
        "# Plot the data as a scatter plot!\n",
        "..."
      ],
      "id": "a9a08432"
    },
    {
      "cell_type": "markdown",
      "metadata": {},
      "source": [
        "Looking at this data, we can see it roughly follows a straight line.\n",
        "Let’s assume our model is:\n",
        "\n",
        "$$y = ax + b$$\n",
        "\n",
        "where $a$ and $b$ are parameters we want to determine from the data.\n",
        "\n",
        "#### (b) Defining a fitting function\n",
        "\n",
        "To use `scipy.optimize.curve_fit`, we need to define a function where:\n",
        "\n",
        "-   The **first** argument is the independent variable (x)  \n",
        "-   The remaining arguments are the parameters to be fitted\n",
        "\n",
        "Define a linear function for fitting:"
      ],
      "id": "b35f353b-14a4-4a89-8860-c93bdba31fcd"
    },
    {
      "cell_type": "code",
      "execution_count": 7,
      "metadata": {
        "exercise": true
      },
      "outputs": [],
      "source": [
        "def linear_function(x, a, b):\n",
        "    return ... # Complete this line"
      ],
      "id": "5616daca"
    },
    {
      "cell_type": "markdown",
      "metadata": {},
      "source": [
        "Always a good idea to check that your function works as expected"
      ],
      "id": "b065d02e-c1b5-40b4-9bf2-e75f58ca57a7"
    },
    {
      "cell_type": "code",
      "execution_count": 9,
      "metadata": {},
      "outputs": [
        {
          "output_type": "display_data",
          "metadata": {},
          "data": {
            "text/plain": [
              "2"
            ]
          }
        }
      ],
      "source": [
        "linear_function(1, 2, 0) # Should give 2"
      ],
      "id": "1080a36b"
    },
    {
      "cell_type": "markdown",
      "metadata": {},
      "source": [
        "Come up with another test case to check"
      ],
      "id": "80f54a5f-bee1-46da-b39b-276bde7fffdd"
    },
    {
      "cell_type": "code",
      "execution_count": 10,
      "metadata": {
        "exercise": true
      },
      "outputs": [],
      "source": [
        "print(linear_function(0, 2, 3)) # Should give 3 \n",
        "print(linear_function(1, 2, 3)) # Should give 5"
      ],
      "id": "4e3fae69"
    },
    {
      "cell_type": "markdown",
      "metadata": {},
      "source": [
        "#### (c) Your first curve fit\n",
        "\n",
        "Now we can use `curve_fit` to find the best parameters. The basic syntax\n",
        "is:\n",
        "\n",
        "``` python\n",
        "popt, pcov = curve_fit(function, x_data, y_data, p0=initial_guess)\n",
        "```\n",
        "\n",
        "Where:\n",
        "\n",
        "-   `function`: The function we defined above\n",
        "-   `x_data`, `y_data`: Our experimental data\n",
        "-   `p0`: Initial guess for parameters (optional but recommended)\n",
        "-   `popt`: The optimized parameters (what we want!)\n",
        "-   `pcov`: Covariance matrix (contains information about parameter\n",
        "    uncertainties, which you don’t need to worry about at the moment.)\n",
        "\n",
        "Finish the cell below to perform the curve fit by adding the three\n",
        "missing arguments to the call to `curve_fit`."
      ],
      "id": "30105322-4783-407e-b650-1f8e261ebed3"
    },
    {
      "cell_type": "code",
      "execution_count": 12,
      "metadata": {
        "exercise": true
      },
      "outputs": [],
      "source": [
        "# Initial guess: a=2, b=0\n",
        "p0 = [2, 0]\n",
        "\n",
        "# Perform the fit\n",
        "popt, pcov = curve_fit(..., ..., ..., p0=p0)\n",
        "\n",
        "# Extract parameters\n",
        "a_fit, b_fit = popt\n",
        "print(f\"Fitted parameters: a = {a_fit:.3f}, b = {b_fit:.3f}\")"
      ],
      "id": "7cce9bac"
    },
    {
      "cell_type": "markdown",
      "metadata": {},
      "source": [
        "#### (d) Visualizing the fit\n",
        "\n",
        "It’s crucial to always plot your fit to see how well it describes the\n",
        "data. To do this we evaluate the function with the fitted parameters and\n",
        "a densely sampled independent variable."
      ],
      "id": "50f5f4e6-6ecd-44f4-b738-9c660e2eb005"
    },
    {
      "cell_type": "code",
      "execution_count": 14,
      "metadata": {
        "exercise": true
      },
      "outputs": [],
      "source": [
        "x_smooth = np.linspace(0, 11, 100) # Makes 100 equally spaced points between 0 and 11. \n",
        "y_fit = ... # Call the linear function using x_smooth, a_fit and b_fit"
      ],
      "id": "fdf406aa"
    },
    {
      "cell_type": "markdown",
      "metadata": {},
      "source": [
        "Then we can plot it"
      ],
      "id": "1d780f66-a954-4136-92c9-b7e22fd0f4f6"
    },
    {
      "cell_type": "code",
      "execution_count": 16,
      "metadata": {
        "exercise": true
      },
      "outputs": [],
      "source": [
        "fig, ax = plt.subplots(figsize=(6, 4))\n",
        "ax.plot(x_data, y_data, 'o', markersize=8, label='Experimental data')\n",
        "\n",
        "# Then we can plot the fit\n",
        "ax.plot(..., ..., '-', linewidth=2, label=f'Fit: y = {a_fit:.2f}x + {b_fit:.2f}') \n",
        "ax.set_xlabel('x')\n",
        "ax.set_ylabel('y') \n",
        "ax.legend()\n",
        "ax.set_title('Fit')"
      ],
      "id": "8ac9e593"
    },
    {
      "cell_type": "markdown",
      "metadata": {},
      "source": [
        "#### (e) Nonlinear fitting: Exponential decay\n",
        "\n",
        "Many biological processes follow nonlinear relationships. Let’s work\n",
        "with exponential decay, which is common in biochemistry (e.g.,\n",
        "radioactive decay or unimolecular chemical reactions).\n",
        "\n",
        "First, let’s generate some exponential data:"
      ],
      "id": "a8dd3ed9-b801-48f9-8df4-06e431392546"
    },
    {
      "cell_type": "code",
      "execution_count": 18,
      "metadata": {
        "exercise": true
      },
      "outputs": [],
      "source": [
        "# Generate exponential decay data\n",
        "t = np.array([0, 0.5, 1.0, 1.5, 2.0, 2.5, 3.0, 3.5, 4.0, 4.5, 5.0])\n",
        "# True parameters: A=10, k=0.8\n",
        "A_true, k_true = 10, 0.8\n",
        "signal = A_true * np.exp(-k_true * t) + np.random.normal(0, 0.3, len(t))\n",
        "\n",
        "fig, ax = plt.subplots(figsize=(6, 4))\n",
        "ax.plot(t, signal, 'o', markersize=8)\n",
        "ax.set_xlabel('Time')\n",
        "ax.set_ylabel('Signal')\n",
        "ax.set_title('Exponential decay data')"
      ],
      "id": "67126b74"
    },
    {
      "cell_type": "markdown",
      "metadata": {},
      "source": [
        "The model we want to fit is: $$\\text{signal} = A e^{-kt}$$\n",
        "\n",
        "Define the exponential decay function:"
      ],
      "id": "ab4b68c8-7643-4ab6-b97f-6d840f358b9c"
    },
    {
      "cell_type": "code",
      "execution_count": 20,
      "metadata": {
        "exercise": true
      },
      "outputs": [],
      "source": [
        "def exponential_decay(t, A, k):\n",
        "    return ... # Complete this line"
      ],
      "id": "4bef1f54"
    },
    {
      "cell_type": "markdown",
      "metadata": {},
      "source": [
        "Now fit the exponential function to the data:"
      ],
      "id": "d0c4c9e1-96d4-4adf-b6e9-d585e6f5d339"
    },
    {
      "cell_type": "code",
      "execution_count": 22,
      "metadata": {
        "exercise": true
      },
      "outputs": [],
      "source": [
        "# Initial guess: A=8, k=1\n",
        "p0 = [8, 1]\n",
        "\n",
        "# Perform the fit\n",
        "popt, pcov = curve_fit(..., ..., ..., p0=p0)\n",
        "\n",
        "# Extract parameters\n",
        "A_fit, k_fit = popt\n",
        "print(f\"Fitted parameters: A = {A_fit:.3f}, k = {k_fit:.3f}\")\n",
        "print(f\"True parameters:   A = {A_true:.3f}, k = {k_true:.3f}\")"
      ],
      "id": "26952f0b"
    },
    {
      "cell_type": "markdown",
      "metadata": {},
      "source": [
        "Again we should plot to check that it looks as expected"
      ],
      "id": "24fef84c-e858-44a6-8115-ad342cd9c310"
    },
    {
      "cell_type": "code",
      "execution_count": 24,
      "metadata": {
        "exercise": true
      },
      "outputs": [],
      "source": [
        "t_smooth = np.linspace(0, 5, 100)\n",
        "signal_fit = ... # Evaluate using the exponential_decay funciton"
      ],
      "id": "918e01b1"
    },
    {
      "cell_type": "markdown",
      "metadata": {},
      "source": [
        "------------------------------------------------------------------------\n",
        "\n",
        "> **Key points for successful curve fitting:**\n",
        ">\n",
        "> 1.  **Always plot your data first** to understand what kind of\n",
        ">     function might fit\n",
        "> 2.  **Provide good initial guesses** (`p0`) - poor guesses can lead to\n",
        ">     fitting failure\n",
        "> 3.  **Use parameter bounds** when you know physical constraints\n",
        "> 4.  **Always plot the fit** to visually check if it makes sense\n",
        "> 5.  **Check if parameters are reasonable** based on your biochemical\n",
        ">     knowledge\n",
        "\n",
        "> **Common pitfalls:**\n",
        ">\n",
        "> -   **Overfitting**: Using too many parameters for the amount of data\n",
        ">     you have\n",
        "> -   **Poor initial guesses**: Can cause the fit to fail or find a\n",
        ">     local minimum\n",
        "> -   **Ignoring physical constraints**: Fitted parameters should make\n",
        ">     biological sense\n",
        "> -   **Not checking the fit visually**: Always plot to see if the fit\n",
        ">     is reasonable\n",
        "\n",
        "> **Summary of `curve_fit`**\n",
        ">\n",
        "> Fitting refers to finding the parameters that make an assumed\n",
        "> functional form best ‘fit’ the data. Programmatically we will use the\n",
        "> `curve_fit` from the `scipy` package to do so. The signature of this\n",
        "> function looks like this\n",
        ">\n",
        "> ``` python\n",
        "> curve_fit(function, \n",
        ">             x_data, \n",
        ">             y_data, \n",
        ">             p0=[param_1, param_2, ...])\n",
        "> ```\n",
        ">\n",
        "> The arguments are\n",
        ">\n",
        "> -   `function`: A python function where the **first** argument is the\n",
        ">     independent variable, and other arguments are the parameters of\n",
        ">     the functions.\n",
        "> -   `x_data`: The observed values of the independent variable.\n",
        "> -   `y_data`: The observed values of the dependent variable.\n",
        "> -   `p0`: Initial guesses for the parameters.\n",
        ">\n",
        "> When called `curve_fit` starts by calculating how well the functions\n",
        "> fits the data with the initial parameters in `p0` and then iteratively\n",
        "> improves the fit by trying new values for the parameters in an\n",
        "> intelligent way.\n",
        ">\n",
        "> The found parameters will generally depend on `p0` and it is therefore\n",
        "> necessary to provide a good (or good enough) guess for `p0`.\n",
        ">\n",
        "> Generally, the best way to learn more about a function is to read it’s\n",
        "> documentation and then play around with it. The documentation is in\n",
        "> this case on the [SciPy\n",
        "> website](https://docs.scipy.org/doc/scipy/reference/generated/scipy.optimize.curve_fit.html).\n",
        "> You don’t need to read it, unless you want more details.\n",
        "\n",
        "You now have the fundamental skills needed to fit curves to biochemical\n",
        "data! In the exercises, you’ll apply these techniques to analyze real\n",
        "experimental data and extract meaningful biological parameters.\n",
        "\n",
        "------------------------------------------------------------------------\n",
        "\n",
        "## 0.2 Estimation of binding affinity\n",
        "\n",
        "#### (a) Train estimation skills\n",
        "\n",
        "Train your estimation skills using the widget below."
      ],
      "id": "5aa6084d-8eb6-4509-aac6-2ce29c82fa82"
    },
    {
      "cell_type": "code",
      "execution_count": 28,
      "metadata": {},
      "outputs": [],
      "source": [
        "from fysisk_biokemi.widgets.utils.colab import enable_custom_widget_colab\n",
        "from fysisk_biokemi.widgets import estimate_kd\n",
        "\n",
        "enable_custom_widget_colab()\n",
        "estimate_kd()"
      ],
      "id": "3cf06199"
    },
    {
      "cell_type": "markdown",
      "metadata": {},
      "source": [
        "#### (b) Compare to quadratic\n",
        "\n",
        "The widget below shows the curves for $\\theta$ using both the simple\n",
        "expression assuming that $L = L_{tot}$ and the quadratic binding\n",
        "expression. Vary $K_D$ and $P_{total}$ to work out a rule of thumb for\n",
        "when the two equations give a similar curve."
      ],
      "id": "f1801437-7da9-41ba-91f2-a61c8b6ef3d6"
    },
    {
      "cell_type": "code",
      "execution_count": 29,
      "metadata": {},
      "outputs": [],
      "source": [
        "from fysisk_biokemi.widgets.utils.colab import enable_custom_widget_colab\n",
        "from fysisk_biokemi.widgets import visualize_simple_vs_quadratic\n",
        "\n",
        "enable_custom_widget_colab()\n",
        "visualize_simple_vs_quadratic()"
      ],
      "id": "32d125f3"
    },
    {
      "cell_type": "markdown",
      "metadata": {},
      "source": [
        "------------------------------------------------------------------------\n",
        "\n",
        "## 0.3 Dialysis experiment"
      ],
      "id": "7c6ac344-7180-4f7f-9adc-241d3e5a4494"
    },
    {
      "cell_type": "code",
      "execution_count": 31,
      "metadata": {},
      "outputs": [],
      "source": [
        "import numpy as np"
      ],
      "id": "668e75e9"
    },
    {
      "cell_type": "markdown",
      "metadata": {},
      "source": [
        "A dialysis experiment was set up where equal amounts of a protein were\n",
        "separately dialyzing against buffers containing different concentrations\n",
        "of a ligand – each measurement was done in triplicate. The average\n",
        "number of ligands bound per protein molecule, $\\bar{n}$ were obtained\n",
        "from these experiments. The corresponding concentrations of free ligand\n",
        "and values are given in dataset `dialys-exper.xlsx`.\n",
        "\n",
        "#### (a) Load the dataset"
      ],
      "id": "d8b8511e-449a-4d43-8412-b974985c8034"
    },
    {
      "cell_type": "code",
      "execution_count": 32,
      "metadata": {},
      "outputs": [],
      "source": [
        "from fysisk_biokemi.widgets import DataUploader\n",
        "from IPython.display import display \n",
        "uploader = DataUploader()\n",
        "uploader.display()"
      ],
      "id": "949dabde"
    },
    {
      "cell_type": "markdown",
      "metadata": {},
      "source": [
        "Run the next cell **after** uploading the file"
      ],
      "id": "c66557b5-ae33-42bb-a965-fc50784ea04f"
    },
    {
      "cell_type": "code",
      "execution_count": 33,
      "metadata": {},
      "outputs": [],
      "source": [
        "df = uploader.get_dataframe()\n",
        "display(df)"
      ],
      "id": "421804e9"
    },
    {
      "cell_type": "markdown",
      "metadata": {},
      "source": [
        "#### (b) Explain calculation of $\\bar{n}$\n",
        "\n",
        "Explain how the values of $\\bar{n}$ is calculated when knowing the\n",
        "concentrations of ligand inside and outside the dialysis bag, as well as\n",
        "the total concentration of the protein, \\[$\\text{P}_{\\text{tot}}$\\].\n",
        "\n",
        "#### (c) Molar concentrations\n",
        "\n",
        "Convert the concentrations of free ligand to SI-units given in M, add it\n",
        "as a row to the `DataFrame`.\n",
        "\n",
        "#### (c) Plot the data"
      ],
      "id": "a5aee551-3aca-4f35-924e-9d0deb239566"
    },
    {
      "cell_type": "code",
      "execution_count": 36,
      "metadata": {
        "exercise": true
      },
      "outputs": [],
      "source": [
        "import matplotlib.pyplot as plt\n",
        "\n",
        "fig, ax = plt.subplots()\n",
        "\n",
        "# The 'o' means we plot just the points and don't connect them.\n",
        "ax.plot(..., ..., 'o') # Replace ... with your code.\n",
        "\n",
        "ax.set_xlabel('Free ligand [L] (M)', fontsize=16)\n",
        "ax.set_ylabel(r'$\\bar{n}$', fontsize=16)"
      ],
      "id": "6cdbbe1f"
    },
    {
      "cell_type": "markdown",
      "metadata": {},
      "source": [
        "#### (d) Prepare for fitting\n",
        "\n",
        "Now we want to fit the data to extract $K_D$ and $n$, by using the\n",
        "equation\n",
        "\n",
        "$$\n",
        "\\bar{n}([L_{\\text{free}}]) = n \\frac{[L_{\\text{free}}]}{K_D + [L_{\\text{free}}]}\n",
        "$$\n",
        "\n",
        "To do so we need to implmenet it as a Python function"
      ],
      "id": "f31005ce-3229-40fc-81b5-c4d8a5b61003"
    },
    {
      "cell_type": "code",
      "execution_count": 38,
      "metadata": {
        "exercise": true
      },
      "outputs": [],
      "source": [
        "def nbar(L, n, K_D):\n",
        "    # Replace ... with your code that calculates the above equation. \n",
        "    # Be careful with parenthesis!\n",
        "    result = ... \n",
        "    return result\n",
        "\n",
        "print(f\"{nbar(1, 1, 1) = }\") # Should give 1/2\n",
        "print(f\"{nbar(21, 47, 2.5) = }\") # Should give 42"
      ],
      "id": "e9073aae"
    },
    {
      "cell_type": "markdown",
      "metadata": {},
      "source": [
        "#### (e) Actually fitting\n",
        "\n",
        "Finish the code to perform the fitting in the cell below."
      ],
      "id": "f658e181-ca22-4e40-aa17-5fb5302497dc"
    },
    {
      "cell_type": "code",
      "execution_count": 40,
      "metadata": {
        "exercise": true
      },
      "outputs": [],
      "source": [
        "from scipy.optimize import curve_fit\n",
        "\n",
        "# Choose the variables from the dataframe\n",
        "x = df['Free_ligand_(M)']\n",
        "y = df['n_bar']\n",
        "\n",
        "# Initial guess\n",
        "K_D_guess = ... # Your initial guess for K_D \n",
        "n_guess = ... # Your initial guess for nu_max\n",
        "p0 = [K_D_guess, n_guess]\n",
        "\n",
        "# Curve fit\n",
        "# Replace the four ... with the correct arguments in the correct order.\n",
        "popt, pcov = curve_fit(..., ..., ..., ...) \n",
        "\n",
        "# Print the parameters\n",
        "n_fit, K_D_fit = popt\n",
        "print(f\"{n_fit = :1.3f} \")\n",
        "print(f\"{K_D_fit = :e}\")"
      ],
      "id": "7a564f0b"
    },
    {
      "cell_type": "markdown",
      "metadata": {},
      "source": [
        "Are the parameters you find reasonable? How can you tell if they are\n",
        "reasonable by looking at the plot you made earlier?\n",
        "\n",
        "#### (f) Plot with fit\n",
        "\n",
        "When we have the fitted parameters we can calculate and plot the\n",
        "function. To do so we make an array of values for the independent\n",
        "variable and use our function to calculate the dependent variable"
      ],
      "id": "09feff93-2736-4a61-a635-65f04423b55d"
    },
    {
      "cell_type": "code",
      "execution_count": 42,
      "metadata": {
        "exercise": true
      },
      "outputs": [],
      "source": [
        "# This makes 50 equally spaced points between 0 and the highest concentration x 1.2\n",
        "L = np.linspace(0, x.max()*1.2, 50) \n",
        "\n",
        "# Calculate by plugging L and the found parameters into the function.\n",
        "nbar_calc = ..."
      ],
      "id": "58a9e40e"
    },
    {
      "cell_type": "markdown",
      "metadata": {},
      "source": [
        "Now that we calculated the dependent variable we can plot the fit along\n",
        "with the data."
      ],
      "id": "e484ce85-e519-4b9f-8240-6419e897679a"
    },
    {
      "cell_type": "code",
      "execution_count": 45,
      "metadata": {
        "exercise": true
      },
      "outputs": [],
      "source": [
        "import matplotlib.pyplot as plt\n",
        "\n",
        "fig, ax = plt.subplots()\n",
        "\n",
        "# Plot the fitted curve\n",
        "ax.plot(L, nbar_calc, label='Fit')\n",
        "\n",
        "# Straight lines indicating the parameters \n",
        "ax.axhline(n_fit, color='red', label=r'$\\nu_{max}$')\n",
        "ax.axvline(K_D_fit, color='green', label=r'$K_D$')\n",
        "\n",
        "# Same as before\n",
        "ax.plot(df['Free_ligand_(M)'], df['n_bar'], 'o', color='C0')\n",
        "ax.set_xlabel('Free ligand [L] (M)', fontsize=16)\n",
        "ax.set_ylabel(r'$\\bar{n}$', fontsize=16)\n",
        "ax.legend(fontsize=16)\n",
        "plt.show()"
      ],
      "id": "89331539"
    },
    {
      "cell_type": "markdown",
      "metadata": {},
      "source": [
        "------------------------------------------------------------------------\n",
        "\n",
        "## 0.4 Interpretation of binding data."
      ],
      "id": "3c049aff-4bd2-462a-9354-efe5cb33f0c4"
    },
    {
      "cell_type": "code",
      "execution_count": 46,
      "metadata": {},
      "outputs": [],
      "source": [
        "import numpy as np"
      ],
      "id": "390eea69"
    },
    {
      "cell_type": "markdown",
      "metadata": {},
      "source": [
        "The `inter-bindin-data.xlsx` contains a protein binding dataset.\n",
        "\n",
        "#### (a) Load the dataset\n",
        "\n",
        "Load the dataset using the widget below"
      ],
      "id": "4d9db291-0df3-48a5-a099-330253c088a1"
    },
    {
      "cell_type": "code",
      "execution_count": 47,
      "metadata": {},
      "outputs": [],
      "source": [
        "import numpy as np\n",
        "from fysisk_biokemi.widgets import DataUploader\n",
        "from IPython.display import display \n",
        "uploader = DataUploader()\n",
        "uploader.display()"
      ],
      "id": "40851868"
    },
    {
      "cell_type": "markdown",
      "metadata": {},
      "source": [
        "Run the next cell **after** uploading the file"
      ],
      "id": "f40c4e5a-cb4a-4fa9-a27e-4ec14676c35c"
    },
    {
      "cell_type": "code",
      "execution_count": 48,
      "metadata": {},
      "outputs": [],
      "source": [
        "df = uploader.get_dataframe()\n",
        "display(df)"
      ],
      "id": "4dec74b1"
    },
    {
      "cell_type": "markdown",
      "metadata": {},
      "source": [
        "#### (b) SI Units\n",
        "\n",
        "Add a new column to the `DataFrame` with the ligand concentration in SI\n",
        "units."
      ],
      "id": "a9fdb880-396c-4dab-971c-cbefcb77edef"
    },
    {
      "cell_type": "code",
      "execution_count": 50,
      "metadata": {
        "exercise": true
      },
      "outputs": [],
      "source": [
        "... # Replace ... with your code.\n",
        "display(df)"
      ],
      "id": "6d7a9a56"
    },
    {
      "cell_type": "markdown",
      "metadata": {},
      "source": [
        "#### (c) Plot the data\n",
        "\n",
        "Make plots of the binding data directly with a linear and logarithmic\n",
        "x-axis.\n",
        "\n",
        "Estimate $K_D$ by visual inspection of these plots!"
      ],
      "id": "19d17716-4440-4b24-80ea-a0412b09e8d4"
    },
    {
      "cell_type": "code",
      "execution_count": 52,
      "metadata": {
        "exercise": true
      },
      "outputs": [],
      "source": [
        "import matplotlib.pyplot as plt\n",
        "\n",
        "# This makes a figure with two axes.\n",
        "fig, axes = plt.subplots(1, 2, figsize=(9, 4))\n",
        "\n",
        "# Can with [0] to plot in the first axis.\n",
        "ax = axes[0]\n",
        "ax.plot(..., ..., 'o') # Replace ... with your code.\n",
        "ax.set_xlabel('[L](M)', fontsize=14)\n",
        "ax.set_ylabel(r'$\\bar{n}$', fontsize=14)\n",
        "\n",
        "ax = axes[1]\n",
        "... # Put some code here - perhaps you can copy it from somewhere?\n",
        "ax.set_xscale('log') # This make the x-axis logarithmic."
      ],
      "id": "51a2d7b9"
    },
    {
      "cell_type": "markdown",
      "metadata": {},
      "source": [
        "> **Note**\n",
        ">\n",
        "> Ths command `ax.set_xscale('log')` tells `matplotlib` that we want the\n",
        "> x-axis to use a log-scale."
      ],
      "id": "5a51e615-b4ff-4536-a854-62f8d37d3f05"
    },
    {
      "cell_type": "code",
      "execution_count": 54,
      "metadata": {
        "exercise": true
      },
      "outputs": [],
      "source": [
        "K_D_estimate = ..."
      ],
      "id": "9910369b"
    },
    {
      "cell_type": "markdown",
      "metadata": {},
      "source": [
        "#### (d) Make a fit\n",
        "\n",
        "Make a fit to determine $K_D$, as always we start by implementing the\n",
        "function to fit with"
      ],
      "id": "cece5c47-c45c-41fa-8d3e-151a5cc14b6a"
    },
    {
      "cell_type": "code",
      "execution_count": 56,
      "metadata": {
        "exercise": true
      },
      "outputs": [],
      "source": [
        "def ... # Give the function an appropriate name.\n",
        "    return ... # Implement the expression for nbar"
      ],
      "id": "20385aa0"
    },
    {
      "cell_type": "markdown",
      "metadata": {},
      "source": [
        "And then we can make the fit"
      ],
      "id": "eaed14da-661f-4ceb-868f-3277cd879e13"
    },
    {
      "cell_type": "code",
      "execution_count": 58,
      "metadata": {
        "exercise": true
      },
      "outputs": [],
      "source": [
        "from scipy.optimize import curve_fit\n",
        "\n",
        "# Choose the variables from the dataframe\n",
        "x = ... # Choose x-data from the dataframe\n",
        "y = ... # Choose y-data from the dataframe\n",
        "\n",
        "# Initial guess\n",
        "p0 = [K_D_estimate] # Using your estimate as the initial value for K_D\n",
        "\n",
        "# Bounds\n",
        "bounds = (0, np.inf) # We limit the parameters to be positve.\n",
        "\n",
        "# Curve fit\n",
        "popt, pcov = ... # Call the curve_fit function.\n",
        "\n",
        "# Print the parameters\n",
        "K_D_fit = popt[0]\n",
        "print(f\"{K_D_fit = :e}\")"
      ],
      "id": "cf1ec2fd"
    },
    {
      "cell_type": "markdown",
      "metadata": {},
      "source": [
        "#### (e) Compare\n",
        "\n",
        "Make a plot to compare the fit with your estimate. Start by evaluating\n",
        "the function"
      ],
      "id": "9f95fadf-52ee-4d63-831d-0eb5c2dcf8f2"
    },
    {
      "cell_type": "code",
      "execution_count": 60,
      "metadata": {
        "exercise": true
      },
      "outputs": [],
      "source": [
        "# Evaluate on the fit so we can plot it.\n",
        "L_smooth = np.linspace(0, df['[L]_(M)'].max(), 100)\n",
        "nbar_fit = ...\n",
        "\n",
        "# We will also evaluate where the points are sampled on a log-scale.\n",
        "# The `geomspace` function makes points uniformly spaced on a logaritmic axis.\n",
        "L_smooth_log = np.geomspace(df['[L]_(M)'].min(), df['[L]_(M)'].max(), 100)\n",
        "nbar_fit_log = ..."
      ],
      "id": "7a71ed21"
    },
    {
      "cell_type": "markdown",
      "metadata": {},
      "source": [
        "Now finish the code below to make the plot."
      ],
      "id": "d848b2e9-cd01-4f49-82f4-3e463b27e5af"
    },
    {
      "cell_type": "code",
      "execution_count": 62,
      "metadata": {
        "exercise": true
      },
      "outputs": [],
      "source": [
        "# This makes a figure with two axes.\n",
        "fig, axes = plt.subplots(1, 2, figsize=(9, 4))\n",
        "\n",
        "# Index with [0] to plot in the first axis - Linear plot\n",
        "ax = axes[0]\n",
        "\n",
        "# Your code here - maybe you can copy part of it from somewhere.\n",
        "... \n",
        "\n",
        "# Index with [1] to plot in the second axis - Log plot.\n",
        "ax = axes[1]\n",
        "\n",
        "# Also your code here - maybe you can copy part of it from somewhere.\n",
        "...\n",
        "\n",
        "ax.set_xscale('log')"
      ],
      "id": "e24e2465"
    },
    {
      "cell_type": "markdown",
      "metadata": {},
      "source": [
        "#### (f) Saturation\n",
        "\n",
        "Based on the value of $K_D$ found from the fit,\n",
        "\n",
        "-   At which concentration do you expect 10% saturation?\n",
        "-   At which concentration do you expect 90% saturation?\n",
        "\n",
        "------------------------------------------------------------------------\n",
        "\n",
        "## 0.5 ADP binding to pyruvate kinase."
      ],
      "id": "282189ed-ed9c-4ee4-b7dc-96adf998496e"
    },
    {
      "cell_type": "code",
      "execution_count": 64,
      "metadata": {},
      "outputs": [],
      "source": [
        "import matplotlib.pyplot as plt\n",
        "import numpy as np"
      ],
      "id": "161d7c74"
    },
    {
      "cell_type": "markdown",
      "metadata": {},
      "source": [
        "Based on the literature, you suspect that the binding of ADP to the\n",
        "enzyme pyruvate kinase might be coopera-tive and decide to investigate\n",
        "this by measuring the binding to the enzyme using radioactive ATP. The\n",
        "enzyme concentration was 4 μM throughout the titration, and each\n",
        "measurement was done in triplicate. The binding results were obtained at\n",
        "310 K and are given in the `.csv`-file `adp-bindin-pyruva-kinase.csv`.\n",
        "\n",
        "#### (a) Load the dataset\n",
        "\n",
        "As always, use the widget to load the dataset"
      ],
      "id": "0156ae25-3935-409a-ba99-8759f60bd73c"
    },
    {
      "cell_type": "code",
      "execution_count": 65,
      "metadata": {},
      "outputs": [],
      "source": [
        "from fysisk_biokemi.widgets import DataUploader\n",
        "from IPython.display import display \n",
        "uploader = DataUploader()\n",
        "uploader.display()"
      ],
      "id": "0a263769"
    },
    {
      "cell_type": "markdown",
      "metadata": {},
      "source": [
        "Run the next cell **after** uploading the file"
      ],
      "id": "26d874e7-7f1c-4950-9c75-faf69f5a6538"
    },
    {
      "cell_type": "code",
      "execution_count": 66,
      "metadata": {},
      "outputs": [],
      "source": [
        "df = uploader.get_dataframe()\n",
        "display(df)"
      ],
      "id": "e7b68d2b"
    },
    {
      "cell_type": "markdown",
      "metadata": {},
      "source": [
        "#### (b) Units\n",
        "\n",
        "The concentrations in the dataset are given in mM, add a new column to\n",
        "the `DataFrame` with the units given in M."
      ],
      "id": "ee45a1b7-254a-4c80-b4cb-f5c15b81efd1"
    },
    {
      "cell_type": "code",
      "execution_count": 68,
      "metadata": {
        "exercise": true
      },
      "outputs": [],
      "source": [
        "df['[ADPtot](M)'] = ...\n",
        "display(df)"
      ],
      "id": "e54a4003"
    },
    {
      "cell_type": "markdown",
      "metadata": {},
      "source": [
        "#### (c) Free ADP concentration\n",
        "\n",
        "For each value of $\\bar{n}$ calculate the concentration of\n",
        "\\[ADP$_\\text{free}$\\] from \\[ADP$_\\text{tot}$\\] and \\[enzyme\\]."
      ],
      "id": "74df3c87-b22e-4290-8aa4-dbc1b6a71184"
    },
    {
      "cell_type": "code",
      "execution_count": 70,
      "metadata": {
        "exercise": true
      },
      "outputs": [],
      "source": [
        "enzyme_conc = ...\n",
        "df['[ADPfree](M)'] = ...\n",
        "display(df)"
      ],
      "id": "5c2334a2"
    },
    {
      "cell_type": "markdown",
      "metadata": {},
      "source": [
        "#### (d) Make a plot\n",
        "\n",
        "Make a plot of the free ligand concentration versus $\\bar{n}$."
      ],
      "id": "4afc7656-9782-4c77-a47c-3a7e9de625ae"
    },
    {
      "cell_type": "code",
      "execution_count": 72,
      "metadata": {
        "exercise": true
      },
      "outputs": [],
      "source": [
        "fig, ax = plt.subplots(figsize=(7, 4))\n",
        "\n",
        "# Write the code to make the plot.\n",
        "# Add the arguments:  marker='o', linestyle='none' to only plot points and not line segments.\n",
        "... # Add your code here!\n",
        "\n",
        "ax.set_xlabel(r'$[\\text{ADP}_{\\text{free}}]$', fontsize=14)\n",
        "ax.set_ylabel(r'$\\bar{n}$', fontsize=14)"
      ],
      "id": "858f8498"
    },
    {
      "cell_type": "markdown",
      "metadata": {},
      "source": [
        "#### (f) Preparing for fitting\n",
        "\n",
        "To fit we need a implement the function we want to fit the parameters\n",
        "of, the functional form is\n",
        "\n",
        "$$\n",
        "n = n_{\\text{max}} \\frac{[L]^h}{K_D + [L]^h}\n",
        "$$"
      ],
      "id": "80a064e4-54f4-4549-8040-9318bc30cb8d"
    },
    {
      "cell_type": "code",
      "execution_count": 74,
      "metadata": {
        "exercise": true
      },
      "outputs": [],
      "source": [
        "def n_bound(L, n_max, K_D, h):\n",
        "    return ...\n",
        "\n",
        "print(f\"{n_bound(1, 1, 1, 1) = }\") # Should give 1/2\n",
        "print(f\"{n_bound(21, 47, 2.5, 1) = }\") # Should give 42\n",
        "print(f\"{n_bound(21, 47, 2.5, 2) = }\") # Should give 46.73.."
      ],
      "id": "61f6e5fc"
    },
    {
      "cell_type": "markdown",
      "metadata": {},
      "source": [
        "#### (e) Fitting\n",
        "\n",
        "Finish the code below to create a fit."
      ],
      "id": "771eadba-7d80-412e-ba51-81aed3cdac18"
    },
    {
      "cell_type": "code",
      "execution_count": 76,
      "metadata": {
        "exercise": true
      },
      "outputs": [],
      "source": [
        "from scipy.optimize import curve_fit\n",
        "\n",
        "# Choose the variables from the dataframe\n",
        "x = df['[ADPfree](M)']\n",
        "y = df['nbar']\n",
        "\n",
        "# Initial guess\n",
        "K_D_guess = ... # Your initial guess for K_D \n",
        "n_max_guess = ... # Your initial guess for nu_max\n",
        "h = ... # Your initial guess for the exponent.\n",
        "p0 = [K_D_guess, n_max_guess, n_exp]\n",
        "\n",
        "# Bounds\n",
        "bounds = (0, np.inf) # We limit the parameters to be positve.\n",
        "\n",
        "# Curve fit\n",
        "popt, pcov = curve_fit(n_bound, x, y, p0=p0, bounds=bounds)\n",
        "\n",
        "# Print the parameters\n",
        "n_max_fit, K_D_fit, h_fit = popt\n",
        "print(f\"{n_max_fit = :1.3f} \")\n",
        "print(f\"{K_D_fit = :e}\")\n",
        "print(f\"{h_fit = :1.3f} \")"
      ],
      "id": "65edf5fb"
    },
    {
      "cell_type": "markdown",
      "metadata": {},
      "source": [
        "Once we’ve obtained the fitted parameters we can plot the fit together\n",
        "with the data."
      ],
      "id": "8d108738-647d-4ad6-aaf6-8a7c071dbded"
    },
    {
      "cell_type": "code",
      "execution_count": 78,
      "metadata": {
        "exercise": true
      },
      "outputs": [],
      "source": [
        "L = np.linspace(0, 1.2 * x.max(), 50)\n",
        "n = n_bound(L, n_max_fit, K_D_fit, h_fit)\n",
        "\n",
        "fig, ax = plt.subplots(figsize=(7, 4))\n",
        "ax.plot(df['[ADPfree](M)'], df['nbar'], 'o', label='Observations')\n",
        "ax.plot(L, n)\n",
        "ax.axvline(K_D_fit, color='k', linewidth=0.5, linestyle='--')\n",
        "ax.axhline(n_max_fit, color='k', linewidth=0.5, linestyle='--')\n",
        "\n",
        "\n",
        "ax.set_xlabel(r'$[\\text{ADP}_{\\text{free}}]$', fontsize=14)\n",
        "ax.set_ylabel(r'$\\bar{n}$', fontsize=14)\n",
        "ax.set_ylim([0, n.max()*1.1])"
      ],
      "id": "7cba3767"
    },
    {
      "cell_type": "markdown",
      "metadata": {},
      "source": [
        "**Question**: Is the binding cooperative?\n",
        "\n",
        "### (f) Free energy\n",
        "\n",
        "Calculate the free energy for the association of the ADP-pyruvate kinase\n",
        "complex assuming\n",
        "$R = 8.314472 \\times 10^{-3} \\ \\frac{\\text{kJ}}{\\text{mol} \\cdot \\text{K}}$\n",
        "and $T = 310 \\ \\text{K}$.\n",
        "\n",
        "> **Tip**\n",
        ">\n",
        "> Consider the difference between association and dissociation\n",
        "\n",
        "Start by defining the two given constants as variables"
      ],
      "id": "c201266d-175d-47b4-8026-68cd3ca92bff"
    },
    {
      "cell_type": "code",
      "execution_count": 80,
      "metadata": {
        "exercise": true
      },
      "outputs": [],
      "source": [
        "R = ...\n",
        "T = ..."
      ],
      "id": "c37cbe38"
    },
    {
      "cell_type": "markdown",
      "metadata": {},
      "source": [
        "And do the calculation"
      ],
      "id": "d845f771-ec5d-4ca9-a231-e72447b7cade"
    },
    {
      "cell_type": "code",
      "execution_count": 82,
      "metadata": {
        "exercise": null
      },
      "outputs": [],
      "source": [
        "delta_G = ...\n",
        "print(f\"{delta_G = :.3f} kJ/mol\")"
      ],
      "id": "1f62ccd5"
    },
    {
      "cell_type": "markdown",
      "metadata": {},
      "source": [
        "------------------------------------------------------------------------\n",
        "\n",
        "## 0.6 Determination of type and strength of cooperativity"
      ],
      "id": "653bacbd-467d-43b0-89ac-387cbc41d689"
    },
    {
      "cell_type": "code",
      "execution_count": 84,
      "metadata": {},
      "outputs": [],
      "source": [
        "import matplotlib.pyplot as plt\n",
        "import numpy as np"
      ],
      "id": "44342e06"
    },
    {
      "cell_type": "markdown",
      "metadata": {},
      "source": [
        "The binding of NAD+ to the protein yeast glyceraldehyde 3-phosphate\n",
        "dehydrogenase (GAPDH) was studied using equilibrium dialysis. The enzyme\n",
        "concentration was 71 μM. The concentration of\n",
        "$[\\text{NAD}^{+}_\\text{free}]$ and the corresponding values of $\\bar{n}$\n",
        "were determined with the resulting data found in the dataset\n",
        "`deter-type-streng-coope.xlsx`.\n",
        "\n",
        "The dataset consists of three independent repititions of the same\n",
        "experiment.\n",
        "\n",
        "#### (a) Load the dataset\n",
        "\n",
        "Load the dataset using the widget below"
      ],
      "id": "2470f116-f330-4995-9f8c-12bd255e6420"
    },
    {
      "cell_type": "code",
      "execution_count": 85,
      "metadata": {},
      "outputs": [],
      "source": [
        "from fysisk_biokemi.widgets import DataUploader\n",
        "from IPython.display import display \n",
        "uploader = DataUploader()\n",
        "uploader.display()"
      ],
      "id": "dd7c52ec"
    },
    {
      "cell_type": "markdown",
      "metadata": {},
      "source": [
        "Run the next cell **after** uploading the file"
      ],
      "id": "8f32a10b-b066-497f-9603-3892df47150a"
    },
    {
      "cell_type": "code",
      "execution_count": 86,
      "metadata": {},
      "outputs": [],
      "source": [
        "df = uploader.get_dataframe()\n",
        "display(df)"
      ],
      "id": "6f5811b4"
    },
    {
      "cell_type": "markdown",
      "metadata": {},
      "source": [
        "#### (b) Averaging and units.\n",
        "\n",
        "Start by adding a new column to the `DataFrame` with the average value\n",
        "of $\\bar{n}$ across the three series\n",
        "\n",
        "> **Tip**\n",
        ">\n",
        "> Remember that you can set a new column based on a computation using\n",
        "> one or more other columns, e.g. \n",
        ">\n",
        "> ``` python\n",
        "> df['new_col'] = df['col1'] + df['col2']\n",
        "> ```"
      ],
      "id": "1c182595-e515-42c8-9f89-2f1c1aad6035"
    },
    {
      "cell_type": "code",
      "execution_count": 88,
      "metadata": {
        "exercise": true
      },
      "outputs": [],
      "source": [
        "df['nbar_avg'] = ..."
      ],
      "id": "6deb49fa"
    },
    {
      "cell_type": "markdown",
      "metadata": {},
      "source": [
        "Now also add a column with the ligand concentration in SI units with the\n",
        "column-name `[NAD+free]_(M)`."
      ],
      "id": "eb000b53-08c9-46fb-b83f-4107bc46d787"
    },
    {
      "cell_type": "code",
      "execution_count": 90,
      "metadata": {
        "exercise": true
      },
      "outputs": [],
      "source": [
        "... # Your code here. \n",
        "display(df)"
      ],
      "id": "bdf325cf"
    },
    {
      "cell_type": "markdown",
      "metadata": {},
      "source": [
        "Finally, set the concentration of the GADPH in SI units"
      ],
      "id": "6583cb71-8cda-4ca4-835e-9fde1a49640a"
    },
    {
      "cell_type": "code",
      "execution_count": 92,
      "metadata": {},
      "outputs": [],
      "source": [
        " c_gadph = 71 * 10**(-6)"
      ],
      "id": "46fed82f"
    },
    {
      "cell_type": "markdown",
      "metadata": {},
      "source": [
        "#### (c) Plot\n",
        "\n",
        "Make a plot of the average $\\bar{n}$ as a function of\n",
        "$[\\text{NAD}^{+}_\\text{free}]$."
      ],
      "id": "3868d563-5098-4564-90f0-93186d0fffab"
    },
    {
      "cell_type": "code",
      "execution_count": 93,
      "metadata": {
        "exercise": true
      },
      "outputs": [],
      "source": [
        "fig, ax = plt.subplots(figsize=(8, 4))\n",
        "\n",
        "# Your code to plot here.\n",
        "... \n",
        "\n",
        "# This sets the labels.\n",
        "ax.set_xlabel(r'$[\\text{NAD}^{+}_\\text{free}]$', fontsize=14)\n",
        "ax.set_ylabel(r'$\\bar{n}$', fontsize=14)\n",
        "plt.show()"
      ],
      "id": "5ef5f482"
    },
    {
      "cell_type": "markdown",
      "metadata": {},
      "source": [
        "#### (d) Scatchard plot\n",
        "\n",
        "Make a Scatchard plot based on the average $\\bar{n}$."
      ],
      "id": "08743d38-4d45-425b-b98e-27522cd24bc6"
    },
    {
      "cell_type": "code",
      "execution_count": 95,
      "metadata": {
        "exercise": true
      },
      "outputs": [],
      "source": [
        "# Calculate nbar / L \n",
        "nbar_over_L = ...\n",
        "\n",
        "fig, ax = plt.subplots(figsize=(6, 4)) \n",
        "\n",
        "ax.plot(..., ... 'o') # Plot the right thins. \n",
        "\n",
        "ax.set_xlabel(r'$\\bar{n}$', fontsize=14)\n",
        "ax.set_ylabel(r'$\\bar{n}/L$', fontsize=14)\n",
        "ax.set_xlim([0, df['nbar_avg'].max()*1.2])\n",
        "ax.set_ylim([0, nbar_over_L.max() * 1.2])"
      ],
      "id": "2a5f1095"
    },
    {
      "cell_type": "markdown",
      "metadata": {},
      "source": [
        "#### (e) Binding sites\n",
        "\n",
        "Estimate by eye how many bindings sites GAPDH contains for\n",
        "$\\text{NAD}^{+}$?\n",
        "\n",
        "#### (f) Cooperativity\n",
        "\n",
        "Based on a visual inspection of the plot above, are there in signs of\n",
        "cooperativity? If so, which kind?\n",
        "\n",
        "#### (g) Fit\n",
        "\n",
        "> **Note**\n",
        ">\n",
        "> The function `np.concatenate` takes a number of arrays and makes a new\n",
        "> array that consisting of the originals one after each other. For\n",
        "> example,\n",
        ">\n",
        "> ``` python\n",
        "> A = np.array([1, 2, 3])\n",
        "> B = np.array([4, 5, 6])\n",
        "> C = np.concatenate([A, B])\n",
        "> print(C)\n",
        "> ```\n",
        ">\n",
        ">     [1 2 3 4 5 6]\n",
        "\n",
        "Make a fit using the functional form\n",
        "\n",
        "$$\n",
        "\\bar{n} = N \\frac{[L]^h}{K_D + [L]^h}\n",
        "$$\n",
        "\n",
        "As usual, start by defining the function in Python"
      ],
      "id": "95c05157-1048-4d58-93af-c647d6272cfa"
    },
    {
      "cell_type": "code",
      "execution_count": 99,
      "metadata": {
        "exercise": true
      },
      "outputs": [],
      "source": [
        "def n_bar(L, N, k_d, h):\n",
        "    # Replace ... with your code.\n",
        "    # Be careful with parentheses.\n",
        "    result = ...\n",
        "    return result "
      ],
      "id": "5b6a4526"
    },
    {
      "cell_type": "markdown",
      "metadata": {},
      "source": [
        "Now we can fit"
      ],
      "id": "2cf49d0d-1cfe-4f4b-b15c-2bbfd978c178"
    },
    {
      "cell_type": "code",
      "execution_count": 100,
      "metadata": {
        "exercise": true
      },
      "outputs": [],
      "source": [
        "from scipy.optimize import curve_fit\n",
        "\n",
        "# This selects the '[NAD+free]_(m)'-column three times and stitches it together.\n",
        "x = np.concatenate([df['[NAD+free]_(M)'], df['[NAD+free]_(M)'], df['[NAD+free]_(M)']])\n",
        "# Do the same to stitch together the nbar1, nbar2 and nbar3 columns.\n",
        "y = ...\n",
        "\n",
        "# Initial guess\n",
        "p0 = [..., ..., ...]\n",
        "\n",
        "# Bounds\n",
        "bounds = (0, np.inf) # We limit the parameters to be positve.\n",
        "\n",
        "# Curve fit\n",
        "popt, pcov = curve_fit(n_bar, x, y, p0=p0, bounds=bounds)\n",
        "\n",
        "# Print the parameters\n",
        "N_fit, k_d_fit, h_fit = popt\n",
        "print(f\"{N_fit = :.3f}\")\n",
        "print(f\"{k_d_fit = :e}\")\n",
        "print(f\"{h_fit = :.3f}\")"
      ],
      "id": "1687041d"
    },
    {
      "cell_type": "markdown",
      "metadata": {},
      "source": [
        "Do the fitted parameters support your intuitive reading of the type of\n",
        "kooperativity\n",
        "\n",
        "> **Note**\n",
        ">\n",
        "> In the data sets used, repeated experiments were given as a three\n",
        "> seperate columns, which is a quite natural way of recording data\n",
        "> during an experiment. However, it is not an appropriate format for\n",
        "> regression, where we want all the data-points in a single column. In\n",
        "> this exercise we did a bit of *data wrangling* to make the data\n",
        "> appropriate for what we want to do with it - in this case by creating\n",
        "> a new joint column containing all the data by using the\n",
        "> `np.concatenate` function.\n",
        "\n",
        "------------------------------------------------------------------------\n",
        "\n",
        "## 0.7 Competition in ligand binding\n",
        "\n",
        "Below is given the general expression for saturation of a binding site\n",
        "by one of the ligands, $L$, when two ligands $L$ and $C$ are competing\n",
        "for binding to the same site on a protein. Assume that $[P_T] = 10^{-9}$\n",
        "$\\mathrm{M}$.\n",
        "\n",
        "$$\n",
        "\\theta_L = \\frac{[PL]}{[P_T]} = \\frac{1}{\\frac{K_D}{[L]}\\left(1 + \\frac{[C]}{K_C}\\right) + 1}\n",
        "$$\n",
        "\n",
        "Consider these four situations\n",
        "\n",
        "| \\# | $K_D$ | $[L_T]$ | $K_C$ | $[C_T]$ |\n",
        "|------|-----------------|-----------------|-----------------|-----------------|\n",
        "| 1 | $1·10^{-5}$ $\\mathrm{M}$ | $1·10^{-3}$ $\\mathrm{M}$ | $1·10^{-6}$ $\\mathrm{M}$ | $0$ |\n",
        "| 2 | $1·10^{-5}$ $\\mathrm{M}$ | $1·10^{-3}$ $\\mathrm{M}$ | $1·10^{-6}$ $\\mathrm{M}$ | $1·10^{-2}$ $\\mathrm{M}$ |\n",
        "| 3 | $1·10^{-5}$ $\\mathrm{M}$ | $1·10^{-3}$ $\\mathrm{M}$ | $1·10^{-5}$ $\\mathrm{M}$ | $1·10^{-3}$ $\\mathrm{M}$ |\n",
        "| 4 | $1·10^{-5}$ $\\mathrm{M}$ | $1·10^{-5}$ $\\mathrm{M}$ | $1·10^{-6}$ $\\mathrm{M}$ | $1·10^{-6}$ $\\mathrm{M}$ |\n",
        "\n",
        "##### (a) Explain simplification\n",
        "\n",
        "Explain how the fact that $[P_T]$ is much smaller than $[L_T]$ and\n",
        "$[C_T]$ simplifies the calculations using the above equation.\n",
        "\n",
        "#### (b) Ligand degree of saturation\n",
        "\n",
        "Calculate the degree of saturation of the protein with ligand $L$ in the\n",
        "four situations.\n",
        "\n",
        "Start by writing a Python function that calculates the degree of\n",
        "saturation $\\theta$."
      ],
      "id": "62232134-a35b-4a8b-be3d-dfc2febf3845"
    },
    {
      "cell_type": "code",
      "execution_count": 102,
      "metadata": {
        "exercise": true
      },
      "outputs": [],
      "source": [
        "def bound_fraction(L, C, Kd, Kc):\n",
        "    # Write the equation for binding saturation. Be careful with parentheses!\n",
        "    theta = ... \n",
        "    return theta"
      ],
      "id": "87889c45"
    },
    {
      "cell_type": "markdown",
      "metadata": {},
      "source": [
        "Then use that function to calculate $\\theta_L$ for each situation."
      ],
      "id": "2613abd3-8c00-4b90-9edb-50a20838085f"
    },
    {
      "cell_type": "code",
      "execution_count": 104,
      "metadata": {
        "exercise": true
      },
      "outputs": [],
      "source": [
        "theta_L_1 = bound_fraction(..., ..., ..., ...)\n",
        "theta_L_2 = ...\n",
        "theta_L_3 = ...\n",
        "theta_L_4 = ...\n",
        "print(f\"{theta_L_1 = :.3f}\")\n",
        "print(f\"{theta_L_2 = :.3f}\")\n",
        "print(f\"{theta_L_3 = :.3f}\")\n",
        "print(f\"{theta_L_4 = :.3f}\")"
      ],
      "id": "b6a829cf"
    },
    {
      "cell_type": "markdown",
      "metadata": {},
      "source": [
        "#### (c) Competitor degree of saturation\n",
        "\n",
        "What is the degree of saturation with respect to the competitor $C$ in\n",
        "#1, #2, #3 and #4?"
      ],
      "id": "6916dddc-98f7-4923-a99a-5d45d3ed1dde"
    },
    {
      "cell_type": "code",
      "execution_count": 106,
      "metadata": {
        "exercise": true
      },
      "outputs": [],
      "source": [
        "theta_C_1 = ...\n",
        "theta_C_2 = ...\n",
        "theta_C_3 = ...\n",
        "theta_C_4 = ...\n",
        "\n",
        "print(f\"{theta_C_1 = :.3f}\")\n",
        "print(f\"{theta_C_2 = :.3f}\")\n",
        "print(f\"{theta_C_3 = :.3f}\")\n",
        "print(f\"{theta_C_4 = :.3f}\")"
      ],
      "id": "4d9a7cbf"
    },
    {
      "cell_type": "markdown",
      "metadata": {},
      "source": [
        "#### (d) Fraction of $[P_{\\mathrm{free}}]$\n",
        "\n",
        "What is the fraction of $[P_{\\mathrm{free}}]$ in #1, #2, #3 and #4?\n",
        "\n",
        "> **Tip**\n",
        ">\n",
        "> Consider how to express the fraction of $[P_{\\mathrm{free}}]$ in terms\n",
        "> of `theta_L_X` and `theta_C_X`."
      ],
      "id": "3521d3f7-0abc-4f29-bfb7-bdaaa0f52506"
    },
    {
      "cell_type": "code",
      "execution_count": 108,
      "metadata": {
        "exercise": true
      },
      "outputs": [],
      "source": [
        "theta_free_1 = ...\n",
        "theta_free_2 = ...\n",
        "theta_free_3 = ...\n",
        "theta_free_4 = ...\n",
        "\n",
        "print(f\"{theta_free_1 = :.3f}\")\n",
        "print(f\"{theta_free_2 = :.3f}\")\n",
        "print(f\"{theta_free_3 = :.3f}\")\n",
        "print(f\"{theta_free_4 = :.3f}\")"
      ],
      "id": "a308ad3a"
    },
    {
      "cell_type": "markdown",
      "metadata": {},
      "source": [
        "# 1. (e)\n",
        "\n",
        "#### (e) Qualitative analysis\n",
        "\n",
        "Describe in your own words why these four competitive situations end up\n",
        "with their respective binding patterns. Consider the relative\n",
        "concentrations and affinities of ligands L and C.\n",
        "\n",
        "------------------------------------------------------------------------\n",
        "\n",
        "## 1.1 Difference between $Q$ and $K_{eq}$"
      ],
      "id": "541bd2e7-de60-442d-aec9-f82a75e5aae5"
    },
    {
      "cell_type": "code",
      "execution_count": 110,
      "metadata": {},
      "outputs": [],
      "source": [
        "import matplotlib.pyplot as plt\n",
        "import pandas as pd\n",
        "pd.set_option('display.max_rows', 6)"
      ],
      "id": "4d624d17"
    },
    {
      "cell_type": "markdown",
      "metadata": {},
      "source": [
        "Consider the reaction:\n",
        "\n",
        "$$\n",
        "A \\rightleftarrows B\n",
        "$$\n",
        "\n",
        "The time course of the reaction was followed monitoring formation of the\n",
        "product $B$. The starting concentration of $A$ was 50 µM, and as you\n",
        "will learn later in the course, the reversible reaction going from $A$\n",
        "to $B$ follows first order kinetics.\n",
        "\n",
        "#### (a) Load & convert\n",
        "\n",
        "The data is contained in the `reverse_reaction.xlsx` file."
      ],
      "id": "725c35b4-793d-41c7-81a0-3985e688ccd3"
    },
    {
      "cell_type": "code",
      "execution_count": 111,
      "metadata": {},
      "outputs": [],
      "source": [
        "from fysisk_biokemi.widgets import DataUploader\n",
        "from IPython.display import display \n",
        "uploader = DataUploader()\n",
        "uploader.display()"
      ],
      "id": "a2eb54b8"
    },
    {
      "cell_type": "markdown",
      "metadata": {},
      "source": [
        "Run the next cell **after** uploading the file"
      ],
      "id": "01808f12-48ea-47bf-a395-beae2f77b88d"
    },
    {
      "cell_type": "code",
      "execution_count": 112,
      "metadata": {},
      "outputs": [],
      "source": [
        "df = uploader.get_dataframe()\n",
        "display(df)"
      ],
      "id": "b037b69c"
    },
    {
      "cell_type": "markdown",
      "metadata": {},
      "source": [
        "Convert the measured concentrations of $B$, $[B]$, to concentrations in\n",
        "the SI-unit $\\mathrm{M} \\ (\\mathrm{mol/L})$. Repeat for the starting\n",
        "concentration of $A$, $[A]_0$."
      ],
      "id": "1150b654-7903-474f-b7ad-0c1fe9d09ee1"
    },
    {
      "cell_type": "code",
      "execution_count": 114,
      "metadata": {
        "exercise": true
      },
      "outputs": [],
      "source": [
        "df['[B]_(M)'] = ...\n",
        "A0 = ..."
      ],
      "id": "73550d3d"
    },
    {
      "cell_type": "markdown",
      "metadata": {},
      "source": [
        "#### (b) Law of mass balance\n",
        "\n",
        "Use the laws of mass balance to calculate $[A]$ as a function of time in\n",
        "the unit $\\mathrm{M}$, add it as a column to the `DataFrame`"
      ],
      "id": "85ae0913-0f7a-41a3-820a-3140e6439a33"
    },
    {
      "cell_type": "code",
      "execution_count": 116,
      "metadata": {
        "exercise": true
      },
      "outputs": [],
      "source": [
        "... # Your code here."
      ],
      "id": "ec882638"
    },
    {
      "cell_type": "markdown",
      "metadata": {},
      "source": [
        "#### (c) Mass action ratio\n",
        "\n",
        "Calculate and plot the mass action ratio $Q$ as a function of time."
      ],
      "id": "e83eb2d0-c391-4fa4-b60b-a1aa96a533dd"
    },
    {
      "cell_type": "code",
      "execution_count": 118,
      "metadata": {
        "exercise": true
      },
      "outputs": [],
      "source": [
        "Q = ... # calculate Q "
      ],
      "id": "0cef6835"
    },
    {
      "cell_type": "code",
      "execution_count": 119,
      "metadata": {
        "exercise": true
      },
      "outputs": [],
      "source": [
        "fig, ax = plt.subplots(figsize=(6, 4))\n",
        "\n",
        "... # Make the plot"
      ],
      "id": "26ea25de"
    },
    {
      "cell_type": "markdown",
      "metadata": {},
      "source": [
        "#### (d) $Q$ vs $K_{eq}$\n",
        "\n",
        "What is the difference between $Q$ and $K_{eq}$?\n",
        "\n",
        "#### (e) Favoured compound\n",
        "\n",
        "Which of the two compounds $A$ and $B$ is favored at equilibrium?\n",
        "(Favored: highest concentration)\n",
        "\n",
        "#### (f) Equilibrium constant\n",
        "\n",
        "What is the equilibrium constant of this reaction?\n",
        "\n",
        "#### (g) Reequilibriate\n",
        "\n",
        "Assume that an additional $10 \\times 10^{-6} \\mathrm{M}$ $A$ is added at\n",
        "timepoint, $t=35$ min. What is the concentrations of $A$ and $B$ when\n",
        "equilibrium has been reached again say at $t > 70$ min?\n",
        "\n",
        " \n",
        "\n",
        "------------------------------------------------------------------------\n",
        "\n",
        "## 1.2 Determination of ΔH° for a reaction from the van’t Hoff plot."
      ],
      "id": "f9014919-783e-4443-a87f-fcb3b9bfb79b"
    },
    {
      "cell_type": "code",
      "execution_count": 121,
      "metadata": {},
      "outputs": [],
      "source": [
        "import matplotlib.pyplot as plt\n",
        "from scipy.optimize import curve_fit\n",
        "import numpy as np"
      ],
      "id": "338389ef"
    },
    {
      "cell_type": "markdown",
      "metadata": {},
      "source": [
        "The equilibrium constant for a reversible reaction going from $A$ to $B$\n",
        "was measured as a function of temperature.\n",
        "\n",
        "The data obtained is given in the Excel document\n",
        "`deter_delta_h_data.xlsx` - load the data with the widget"
      ],
      "id": "72362baa-0b57-411e-8d7f-f8e0e21d8a9f"
    },
    {
      "cell_type": "code",
      "execution_count": 122,
      "metadata": {},
      "outputs": [],
      "source": [
        "from fysisk_biokemi.widgets import DataUploader\n",
        "from IPython.display import display \n",
        "uploader = DataUploader()\n",
        "uploader.display()"
      ],
      "id": "45642239"
    },
    {
      "cell_type": "markdown",
      "metadata": {},
      "source": [
        "Run the next cell **after** uploading the file"
      ],
      "id": "6a3fcc77-8abb-43e7-9faa-1c02c3374f77"
    },
    {
      "cell_type": "code",
      "execution_count": 123,
      "metadata": {},
      "outputs": [],
      "source": [
        "df = uploader.get_dataframe()\n",
        "display(df)"
      ],
      "id": "b62d237b"
    },
    {
      "cell_type": "markdown",
      "metadata": {},
      "source": [
        "#### (a) Transform & plot the data\n",
        "\n",
        "> **Tip**\n",
        ">\n",
        "> In NumPy the `np.log` function calculates the natural logarithm that\n",
        "> we often write as $\\ln$ and `np.log10` calculates the base 10\n",
        "> logarithm.\n",
        "\n",
        "Add new columns to the `DataFrame` containing $\\ln(K_{eq})$ and $1/T$\n",
        "and make a plot with $1/T$ on the x-axis and $\\ln(K_{eq})$ on the\n",
        "y-axis."
      ],
      "id": "5b56ad26-b2e6-4f99-891e-c2163f6e2347"
    },
    {
      "cell_type": "code",
      "execution_count": 125,
      "metadata": {
        "exercise": true
      },
      "outputs": [],
      "source": [
        "df['1/T'] = ...\n",
        "df['ln_Keq'] = ..."
      ],
      "id": "8788558e"
    },
    {
      "cell_type": "markdown",
      "metadata": {},
      "source": [
        "Now you can make the plot in the cell below"
      ],
      "id": "fde95001-58be-4ac7-8fc2-f6f50f9f8742"
    },
    {
      "cell_type": "code",
      "execution_count": 127,
      "metadata": {
        "exercise": true
      },
      "outputs": [],
      "source": [
        "fig, ax = plt.subplots(figsize=(6, 4))\n",
        "\n",
        "... # Your code here.\n",
        "\n",
        "ax.set_xlabel(...)\n",
        "ax.set_ylabel(...)"
      ],
      "id": "3bab85ad"
    },
    {
      "cell_type": "markdown",
      "metadata": {},
      "source": [
        "#### (b) Fit trendline\n",
        "\n",
        "Make a linear trendline by fitting a linear function to the data.\n",
        "\n",
        "Start by defining a linear function"
      ],
      "id": "1a522f4d-a24a-4201-b6e7-e4d59629684d"
    },
    {
      "cell_type": "code",
      "execution_count": 129,
      "metadata": {
        "exercise": true
      },
      "outputs": [],
      "source": [
        "def vant_hoff(T, a, b):\n",
        "    return ... # Your code here."
      ],
      "id": "49f8a219"
    },
    {
      "cell_type": "code",
      "execution_count": 131,
      "metadata": {
        "exercise": true
      },
      "outputs": [],
      "source": [
        "popt, pcov = ...\n",
        "a, b = popt\n",
        "\n",
        "print(f\"{a:.3f}\")\n",
        "print(f\"{b:.3f}\")"
      ],
      "id": "59b61353"
    },
    {
      "cell_type": "markdown",
      "metadata": {},
      "source": [
        "Then make a plot with the trendline added"
      ],
      "id": "71c6af96-6ca3-4c21-b219-439136230121"
    },
    {
      "cell_type": "code",
      "execution_count": 133,
      "metadata": {
        "exercise": true
      },
      "outputs": [],
      "source": [
        "fig, ax = plt.subplots(figsize=(6, 4))\n",
        "T_trend = ... # Select or make some appropriate points for the plotting evaluating the trendline.\n",
        "\n",
        "# Your code to plot under this line: \n",
        "...\n",
        "...\n",
        "..."
      ],
      "id": "195aba7f"
    },
    {
      "cell_type": "markdown",
      "metadata": {},
      "source": [
        "#### (c) Reaction type\n",
        "\n",
        "Calculate the reaction enthalpy and entropy, at $T = 298 \\ \\mathrm{K}$,\n",
        "assuming that\n",
        "$R = 8.314472 \\times 10^{-3} \\ \\frac{\\mathrm{kJ}}{\\mathrm{mol}\\cdot\\mathrm{K}}$.\n",
        "Is the reaction endo- or exothermic?"
      ],
      "id": "e10e436a-10cf-483b-9beb-a043b8837824"
    },
    {
      "cell_type": "code",
      "execution_count": 136,
      "metadata": {
        "exercise": true
      },
      "outputs": [],
      "source": [
        "# Define your known values:\n",
        "R = ...\n",
        "T = ...\n",
        "\n",
        "# Calculate the reaction enthalpy and reaction entropy\n",
        "dH = ...\n",
        "dS = ...\n",
        "\n",
        "print(f\"{dH = :.3f}\")\n",
        "print(f\"{dS = :.3f}\")"
      ],
      "id": "c3965a49"
    },
    {
      "cell_type": "markdown",
      "metadata": {},
      "source": [
        "#### (d) Free energy change\n",
        "\n",
        "Calculate the free energy change, $\\Delta G^\\circ$, at\n",
        "$T = 298 \\ \\mathrm{K}$, assuming that\n",
        "$R = 8.314472 \\times 10^{-3} \\ \\frac{\\mathrm{kJ}}{\\mathrm{mol}\\cdot\\mathrm{K}}$"
      ],
      "id": "242fde82-3485-46d3-8e9b-dcfe1c5cbc7b"
    },
    {
      "cell_type": "code",
      "execution_count": 137,
      "metadata": {
        "exercise": true
      },
      "outputs": [],
      "source": [
        "# Define your known values:\n",
        "R = ...\n",
        "T = ...\n",
        "\n",
        "# Perform your calculation: \n",
        "dG = ...\n",
        "\n",
        "print(f\"{dG = :.3f}\")"
      ],
      "id": "3c283a23"
    },
    {
      "cell_type": "markdown",
      "metadata": {},
      "source": [
        "------------------------------------------------------------------------\n",
        "\n",
        "## 1.3 ATP hydroly"
      ],
      "id": "90e17c33-dee7-42a1-ac0b-5087c8758dd9"
    },
    {
      "cell_type": "code",
      "execution_count": 139,
      "metadata": {},
      "outputs": [],
      "source": [
        "import numpy as np"
      ],
      "id": "6eb0feaf"
    },
    {
      "cell_type": "markdown",
      "metadata": {},
      "source": [
        "Below is shown the structure of ATP.\n",
        "\n",
        "$\\Delta G^\\circ$ for the hydrolysis of ATP to ADP and Pi is\n",
        "$-30.5 \\ \\mathrm{kJ/mol}$.\n",
        "\n",
        "![](https://raw.githubusercontent.com/au-mbg/fysisk-biokemi/refs/heads/main/course/lessons/figures/atp_structure.png)\n",
        "\n",
        "#### (a) $\\Delta G$\n",
        "\n",
        "In cells at $298 \\ \\mathrm{K}$ the steady state concentrations of ATP,\n",
        "ADP og Pi resulted in a value for the reaction quotient\n",
        "$Q = \\frac{\\mathrm{[ADP]}[\\mathrm{Pi}]}{[\\mathrm{ATP}]} = 0.002$.\n",
        "Calculate ΔG’ under these conditions."
      ],
      "id": "a998fbd8-4e3a-4d9d-a806-4e0a40c7b3ca"
    },
    {
      "cell_type": "code",
      "execution_count": 140,
      "metadata": {
        "exercise": true
      },
      "outputs": [],
      "source": [
        "# Known values:\n",
        "dG_std = ... # kJ / mol\n",
        "Q = ...\n",
        "T = ...\n",
        "... # One more might be useful.\n",
        "\n",
        "# Calculation:\n",
        "dG = dG_std + R*T*np.log(Q)\n",
        "print(dG)"
      ],
      "id": "0201c3c5"
    },
    {
      "cell_type": "markdown",
      "metadata": {},
      "source": [
        "#### (b) Equilibrium or not?\n",
        "\n",
        "Assuming that the temperature within these cells is $298 \\ \\mathrm{K}$,\n",
        "are these cells in equilibrium with respect to the hydrolysis of ATP?\n",
        "\n",
        "#### (c) ATP synthesized\n",
        "\n",
        "Calculate the number of moles of ATP synthesized by a resting person in\n",
        "a period of 24 hours, assuming that the energy consumption by this\n",
        "person is $8368 \\ \\mathrm{kJ}$ per 24 hours and that 40% of this energy\n",
        "is converted directly into ATP without loss of energy. Use the ΔG’ value\n",
        "calculated in question a, and assume that $298 \\ \\mathrm{K}$."
      ],
      "id": "8349b4dd-e5e7-48d7-82fc-051089b9108b"
    },
    {
      "cell_type": "code",
      "execution_count": 142,
      "metadata": {
        "exercise": true
      },
      "outputs": [],
      "source": [
        "energy_atp = ...\n",
        "synth_atp = ...\n",
        "print(synth_atp)"
      ],
      "id": "0c7794bf"
    },
    {
      "cell_type": "markdown",
      "metadata": {},
      "source": [
        "> **Tip**\n",
        ">\n",
        "> You can use `np.absolute` to calculate the absolute value of a number.\n",
        "\n",
        "#### (d) Turnover\n",
        "\n",
        "Next, calculate the average number of times each ATP molecule is turned\n",
        "over (synthesis followed by hydrolysis) in 24 hours when the total\n",
        "amount of ATP in the body equals $0.2 \\ \\mathrm{mol}$."
      ],
      "id": "4f3c535d-6803-4972-935a-17512ab12a83"
    },
    {
      "cell_type": "code",
      "execution_count": 144,
      "metadata": {
        "exercise": true
      },
      "outputs": [],
      "source": [
        "... # Your calculation here"
      ],
      "id": "6dd2f639"
    }
  ],
  "nbformat": 4,
  "nbformat_minor": 5,
  "metadata": {
    "kernelspec": {
      "name": "python3",
      "display_name": "Python 3 (ipykernel)",
      "language": "python",
      "path": "/home/runner/work/fysisk-biokemi/fysisk-biokemi/.venv/share/jupyter/kernels/python3"
    },
    "language_info": {
      "name": "python",
      "codemirror_mode": {
        "name": "ipython",
        "version": "3"
      },
      "file_extension": ".py",
      "mimetype": "text/x-python",
      "nbconvert_exporter": "python",
      "pygments_lexer": "ipython3",
      "version": "3.11.13"
    }
  }
}