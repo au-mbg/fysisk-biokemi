{
  "cells": [
    {
      "cell_type": "markdown",
      "metadata": {},
      "source": [
        "# Week 47"
      ],
      "id": "25e75c2f-8668-424c-9291-8d6ef4ee7c93"
    },
    {
      "cell_type": "code",
      "execution_count": 2,
      "metadata": {},
      "outputs": [],
      "source": [
        "try:\n",
        "    import fysisk_biokemi\n",
        "    print(\"Already installed\")\n",
        "except ImportError:\n",
        "    %pip install -q \"fysisk_biokemi[colab] @ git+https://github.com/au-mbg/fysisk-biokemi.git\""
      ],
      "id": "7702f38c"
    },
    {
      "cell_type": "markdown",
      "metadata": {},
      "source": [
        "------------------------------------------------------------------------\n",
        "\n",
        "## Estimation of binding affinity\n",
        "\n",
        "#### (a) Train estimation skills\n",
        "\n",
        "Train your estimation skills using the widget below."
      ],
      "id": "7d53f6d4-9866-45b5-a2ad-6a38cdc9cafd"
    },
    {
      "cell_type": "code",
      "execution_count": 3,
      "metadata": {},
      "outputs": [],
      "source": [
        "from fysisk_biokemi.widgets.utils.colab import enable_custom_widget_colab\n",
        "from fysisk_biokemi.widgets import estimate_kd\n",
        "\n",
        "enable_custom_widget_colab()\n",
        "estimate_kd()"
      ],
      "id": "17706b7b"
    },
    {
      "cell_type": "markdown",
      "metadata": {},
      "source": [
        "#### (b) Compare to quadratic\n",
        "\n",
        "The widget below shows the curves for $\\theta$ using both the simple\n",
        "expression and the quadratic binding expression. Use it to determine how\n",
        "large \\[P\\] has to be for them to be notably different."
      ],
      "id": "93aebe22-3a96-4da7-b027-66cfa6d76b75"
    },
    {
      "cell_type": "code",
      "execution_count": 4,
      "metadata": {},
      "outputs": [],
      "source": [
        "from fysisk_biokemi.widgets.utils.colab import enable_custom_widget_colab\n",
        "from fysisk_biokemi.widgets import visualize_simple_vs_quadratic\n",
        "\n",
        "enable_custom_widget_colab()\n",
        "visualize_simple_vs_quadratic()"
      ],
      "id": "a6cd61f7"
    },
    {
      "cell_type": "markdown",
      "metadata": {},
      "source": [
        "------------------------------------------------------------------------\n",
        "\n",
        "## Dialysis experiment"
      ],
      "id": "529856ce-0216-403d-a30f-bd9bee3f7137"
    },
    {
      "cell_type": "code",
      "execution_count": 5,
      "metadata": {},
      "outputs": [],
      "source": [
        "import numpy as np"
      ],
      "id": "2ddc4ccb"
    },
    {
      "cell_type": "markdown",
      "metadata": {},
      "source": [
        "A dialysis experiment was set up where equal amounts of a protein were\n",
        "separately dialyzing against buffers containing different concentrations\n",
        "of a ligand – each measurement was done in triplicate. The average\n",
        "number of ligands bound per protein molecule, $\\bar{n}$ were obtained\n",
        "from these experiments. The corresponding concentrations of free ligand\n",
        "and values are given in dataset `week47_7_dialysis_experiment.xlsx`.\n",
        "\n",
        "#### (a) Load the dataset"
      ],
      "id": "14e83fc9-0774-4c76-84a2-73cb65ed7222"
    },
    {
      "cell_type": "code",
      "execution_count": 6,
      "metadata": {},
      "outputs": [],
      "source": [
        "from fysisk_biokemi.widgets import DataUploader\n",
        "from IPython.display import display \n",
        "uploader = DataUploader()\n",
        "uploader.display()"
      ],
      "id": "7340c19a"
    },
    {
      "cell_type": "markdown",
      "metadata": {},
      "source": [
        "Run the next cell **after** uploading the file"
      ],
      "id": "10cf045a-8ac5-43c4-83d4-b6a1e4cb4f46"
    },
    {
      "cell_type": "code",
      "execution_count": 7,
      "metadata": {},
      "outputs": [],
      "source": [
        "df = uploader.get_dataframe()\n",
        "display(df)"
      ],
      "id": "35370df6"
    },
    {
      "cell_type": "markdown",
      "metadata": {},
      "source": [
        "#### (b) Explain calculation of $\\bar{n}$\n",
        "\n",
        "Explain how the values of $\\bar{n}$ is calculated when knowing the\n",
        "concentrations of ligand inside and outside the dialysis bag, as well as\n",
        "the total concentration of the protein, \\[$\\text{P}_{\\text{tot}}$\\].\n",
        "\n",
        "#### (c) Molar concentrations\n",
        "\n",
        "Convert the concentrations of free ligand to SI-units given in M, add it\n",
        "as a row to the `DataFrame`.\n",
        "\n",
        "#### (c) Plot the data"
      ],
      "id": "17527cd5-a900-44f1-9b21-75ef641fe8fd"
    },
    {
      "cell_type": "code",
      "execution_count": 10,
      "metadata": {
        "exercise": true
      },
      "outputs": [],
      "source": [
        "import matplotlib.pyplot as plt\n",
        "\n",
        "fig, ax = plt.subplots()\n",
        "\n",
        "# The 'o' means we plot just the points and don't connect them.\n",
        "ax.plot(..., ..., 'o') # Replace ... with your code.\n",
        "\n",
        "ax.set_xlabel('Free ligand [L] (M)', fontsize=16)\n",
        "ax.set_ylabel(r'$\\bar{n}$', fontsize=16)"
      ],
      "id": "e1a42279"
    },
    {
      "cell_type": "markdown",
      "metadata": {},
      "source": [
        "#### (d) Prepare for fitting\n",
        "\n",
        "Now we want to fit the data to extract $K_D$ and $\\nu_{\\text{max}}$, by\n",
        "using the equation\n",
        "\n",
        "$$\n",
        "\\nu([L_{\\text{free}}]) = \\nu_{\\text{max}} \\frac{[L_{\\text{free}}]}{K_D + [L_{\\text{free}}]}\n",
        "$$\n",
        "\n",
        "To do so we need to implmenet it as a Python function"
      ],
      "id": "4408ad97-a1bf-42de-923a-5e942b9ce9cd"
    },
    {
      "cell_type": "code",
      "execution_count": 12,
      "metadata": {
        "exercise": true
      },
      "outputs": [],
      "source": [
        "def nu(L, nu_max, K_D):\n",
        "    # Replace ... with your code that calculates the above equation. \n",
        "    # Be careful with parenthesis!\n",
        "    result = ... \n",
        "    return result\n",
        "\n",
        "print(f\"{nu(1, 1, 1) = }\") # Should give 1/2\n",
        "print(f\"{nu(21, 47, 2.5) = }\") # Should give 42"
      ],
      "id": "0a340fa2"
    },
    {
      "cell_type": "markdown",
      "metadata": {},
      "source": [
        "#### (e) Actually fitting\n",
        "\n",
        "> **Important**\n",
        ">\n",
        "> Fitting refers to finding the parameters that make an assumed\n",
        "> functional form best ‘fit’ the data. Programmatically we will use the\n",
        "> `curve_fit` from the `scipy` package to do so. The signature of this\n",
        "> function looks like this\n",
        ">\n",
        "> ``` python\n",
        "> curve_fit(function, \n",
        ">             x_data, \n",
        ">             y_data, \n",
        ">             p0=[param_1, param_2, ...])\n",
        "> ```\n",
        ">\n",
        "> The arguments are\n",
        ">\n",
        "> -   `function`: A python function where the **first** argument is the\n",
        ">     independent variable, and other arguments are the parameters of\n",
        ">     the functions.\n",
        "> -   `x_data`: The observed values of the independent variable.\n",
        "> -   `y_data`: The observed values of the dependent variable.\n",
        "> -   `p0`: Initial guesses for the parameters.\n",
        ">\n",
        "> When called `curve_fit` starts by calculating how well the functions\n",
        "> fits the data with the initial parameters in `p0` and then iteratively\n",
        "> improves the fit by trying new values for the parameters in an\n",
        "> intelligent way.\n",
        ">\n",
        "> The found parameters will generally depend on `p0` and it is therefore\n",
        "> necessary to provide a good (or good enough) guess for `p0`.\n",
        ">\n",
        "> Generally, the best way to learn more about a function is to read it’s\n",
        "> documentation and then play around with it. The documentation is in\n",
        "> this case on the [SciPy\n",
        "> website](https://docs.scipy.org/doc/scipy/reference/generated/scipy.optimize.curve_fit.html).\n",
        "> You don’t need to read it, unless you want more details.\n",
        "\n",
        "Finish the code to perform the fitting in the cell below."
      ],
      "id": "e35820e3-0121-4799-88ae-b2b3b2e444ff"
    },
    {
      "cell_type": "code",
      "execution_count": 14,
      "metadata": {
        "exercise": true
      },
      "outputs": [],
      "source": [
        "from scipy.optimize import curve_fit\n",
        "\n",
        "# Choose the variables from the dataframe\n",
        "x = df['Free Ligand [L](M)']\n",
        "y = df['n-bar']\n",
        "\n",
        "# Initial guess\n",
        "K_D_guess = ... # Your initial guess for K_D \n",
        "nu_max_guess = ... # Your initial guess for nu_max\n",
        "p0 = [K_D_guess, nu_max_guess]\n",
        "\n",
        "# Curve fit\n",
        "# Replace the four ... with the correct arguments in the correct order.\n",
        "popt, pcov = curve_fit(..., ..., ..., ...) \n",
        "\n",
        "# Print the parameters\n",
        "nu_max_fit, K_D_fit = popt\n",
        "print(f\"{nu_max_fit = :1.3f} \")\n",
        "print(f\"{K_D_fit = :e}\")"
      ],
      "id": "9514a9ae"
    },
    {
      "cell_type": "markdown",
      "metadata": {},
      "source": [
        "Are the parameters you find reasonable? How can you tell if they are\n",
        "reasonable by looking at the plot you made earlier?\n",
        "\n",
        "#### (f) Plot with fit\n",
        "\n",
        "When we have the fitted parameters we can calculate and plot the\n",
        "function. To do so we make an array of values for the independent\n",
        "variable and use our function to calculate the dependent variable"
      ],
      "id": "7b40832a-1758-428c-98d0-15c2e1834de2"
    },
    {
      "cell_type": "code",
      "execution_count": 16,
      "metadata": {
        "exercise": true
      },
      "outputs": [],
      "source": [
        "# This makes 50 equally spaced points between 0 and the highest concentration x 1.2\n",
        "L = np.linspace(0, x.max()*1.2, 50) \n",
        "\n",
        "# Calculate by plugging L and the found parameters into the function.\n",
        "nu_calc = ..."
      ],
      "id": "0bdd0948"
    },
    {
      "cell_type": "markdown",
      "metadata": {},
      "source": [
        "Now that we calculated the dependent variable we can plot the fit along\n",
        "with the data.\n",
        "\n",
        "------------------------------------------------------------------------\n",
        "\n",
        "## ADP binding to pyruvate kinase.\n",
        "\n",
        "The binding of ADP to the enzyme pyruvate kinase was measured by\n",
        "fluorescence. The enzyme concentration was 4 μM throughout the\n",
        "titration, and each measurement was done in triplicate. The binding\n",
        "results were obtained at 310 K and are given in the `.csv`-file\n",
        "`week47_8_adp_pyruvate.csv`.\n",
        "\n",
        "#### (a) Load the dataset\n",
        "\n",
        "As always, use the widget to load the dataset"
      ],
      "id": "0629ae66-6038-4629-be2e-e127a944bbec"
    },
    {
      "cell_type": "code",
      "execution_count": 19,
      "metadata": {},
      "outputs": [],
      "source": [
        "from fysisk_biokemi.widgets import DataUploader\n",
        "from IPython.display import display \n",
        "uploader = DataUploader()\n",
        "uploader.display()"
      ],
      "id": "8c9668f4"
    },
    {
      "cell_type": "markdown",
      "metadata": {},
      "source": [
        "Run the next cell **after** uploading the file"
      ],
      "id": "41fd5007-f489-46a7-a26b-a7f05c147fba"
    },
    {
      "cell_type": "code",
      "execution_count": 20,
      "metadata": {},
      "outputs": [],
      "source": [
        "df = uploader.get_dataframe()\n",
        "display(df)"
      ],
      "id": "1ddeba29"
    },
    {
      "cell_type": "markdown",
      "metadata": {},
      "source": [
        "#### (b) Units\n",
        "\n",
        "The concentrations in the dataset are given in mM, add a new column to\n",
        "the `DataFrame` with the units given in M."
      ],
      "id": "cbbdbf4d-8128-4865-9acf-9b78926e76f0"
    },
    {
      "cell_type": "code",
      "execution_count": 22,
      "metadata": {
        "exercise": true
      },
      "outputs": [],
      "source": [
        "df['[ADPtot](M)'] = ...\n",
        "display(df)"
      ],
      "id": "9fb49ea6"
    },
    {
      "cell_type": "markdown",
      "metadata": {},
      "source": [
        "#### (c) Free ADP concentration\n",
        "\n",
        "For each value of $\\bar{n}$ calculate the concentration of\n",
        "\\[ADP$_\\text{free}$\\] from \\[ADP$_\\text{tot}$\\] and \\[enzyme\\]."
      ],
      "id": "28564396-3ccf-42db-91a6-7591e8625661"
    },
    {
      "cell_type": "code",
      "execution_count": 24,
      "metadata": {
        "exercise": true
      },
      "outputs": [],
      "source": [
        "enzyme_conc = ...\n",
        "df['[ADPfree](M)'] = ...\n",
        "display(df)"
      ],
      "id": "261d424b"
    },
    {
      "cell_type": "markdown",
      "metadata": {},
      "source": [
        "#### (d) Make a plot\n",
        "\n",
        "Make a plot of the free ligand concentration versus $\\bar{n}$."
      ],
      "id": "6f00c97d-ba22-42e4-9037-d24e05f2da5c"
    },
    {
      "cell_type": "code",
      "execution_count": 26,
      "metadata": {
        "exercise": true
      },
      "outputs": [],
      "source": [
        "fig, ax = plt.subplots(figsize=(7, 4))\n",
        "\n",
        "# Write the code to make the plot.\n",
        "# Add the arguments:  marker='o', linestyle='none' to only plot points and not line segments.\n",
        "... # Add your code here!\n",
        "\n",
        "ax.set_xlabel(r'$[\\text{ADP}_{\\text{free}}]$', fontsize=14)\n",
        "ax.set_ylabel(r'$\\bar{n}$', fontsize=14)"
      ],
      "id": "ba659172"
    },
    {
      "cell_type": "markdown",
      "metadata": {},
      "source": [
        "#### (f) Preparing for fitting\n",
        "\n",
        "To fit we need a implement the function we want to fit the parameters\n",
        "of, the functional form is\n",
        "\n",
        "$$\n",
        "n = n_{\\text{max}} \\frac{[L]^n}{K_D + [L]^n}\n",
        "$$"
      ],
      "id": "97edba49-2e03-44db-9c43-c5d9872e0bcc"
    },
    {
      "cell_type": "code",
      "execution_count": 28,
      "metadata": {
        "exercise": true
      },
      "outputs": [],
      "source": [
        "def n_bound(L, n_max, K_D, n_exp):\n",
        "    return ...\n",
        "\n",
        "print(f\"{n_bound(1, 1, 1, 1) = }\") # Should give 1/2\n",
        "print(f\"{n_bound(21, 47, 2.5, 1) = }\") # Should give 42\n",
        "print(f\"{n_bound(21, 47, 2.5, 2) = }\") # Should give 46.73.."
      ],
      "id": "7883f4c8"
    },
    {
      "cell_type": "markdown",
      "metadata": {},
      "source": [
        "#### (e) Fitting\n",
        "\n",
        "Finish the code below to create a fit."
      ],
      "id": "c1a4a2b8-e847-4e18-89fe-f060036dd354"
    },
    {
      "cell_type": "code",
      "execution_count": 30,
      "metadata": {
        "exercise": true
      },
      "outputs": [],
      "source": [
        "from scipy.optimize import curve_fit\n",
        "\n",
        "# Choose the variables from the dataframe\n",
        "x = df['[ADPfree](M)']\n",
        "y = df['nbar']\n",
        "\n",
        "# Initial guess\n",
        "K_D_guess = ... # Your initial guess for K_D \n",
        "nu_max_guess = ... # Your initial guess for nu_max\n",
        "n_exp = ... # Your initial guess for the exponent.\n",
        "p0 = [K_D_guess, nu_max_guess, n_exp]\n",
        "\n",
        "# Bounds\n",
        "bounds = (0, np.inf) # We limit the parameters to be positve.\n",
        "\n",
        "# Curve fit\n",
        "popt, pcov = curve_fit(n_bound, x, y, p0=p0, bounds=bounds)\n",
        "\n",
        "# Print the parameters\n",
        "n_max_fit, K_D_fit, n_exp_fit = popt\n",
        "print(f\"{n_max_fit = :1.3f} \")\n",
        "print(f\"{K_D_fit = :e}\")\n",
        "print(f\"{n_exp_fit = :1.3f} \")"
      ],
      "id": "36e4a026"
    },
    {
      "cell_type": "markdown",
      "metadata": {},
      "source": [
        "Once we’ve obtained the fitted parameters we can plot the fit together\n",
        "with the data."
      ],
      "id": "eb623da1-cbe6-44ab-8312-75acfc807a20"
    },
    {
      "cell_type": "code",
      "execution_count": 32,
      "metadata": {
        "exercise": true
      },
      "outputs": [],
      "source": [
        "L = np.linspace(0, 1.2 * x.max(), 50)\n",
        "n = n_bound(L, n_max_fit, K_D_fit, 1)\n",
        "\n",
        "fig, ax = plt.subplots(figsize=(7, 4))\n",
        "ax.plot(df['[ADPfree](M)'], df['nbar'], 'o', label='Observations')\n",
        "ax.plot(L, n)\n",
        "ax.axvline(K_D_fit, color='k', linewidth=0.5, linestyle='--')\n",
        "ax.axhline(n_max_fit, color='k', linewidth=0.5, linestyle='--')\n",
        "\n",
        "\n",
        "ax.set_xlabel(r'$[\\text{ADP}_{\\text{free}}]$', fontsize=14)\n",
        "ax.set_ylabel(r'$\\bar{n}$', fontsize=14)\n",
        "ax.set_ylim([0, n.max()*1.1])"
      ],
      "id": "e0637cac"
    },
    {
      "cell_type": "markdown",
      "metadata": {},
      "source": [
        "### Free energy\n",
        "\n",
        "Calculate the free energy for the association of the ADP-pyruvate kinase\n",
        "complex assuming\n",
        "$R = 8.314472 \\times 10^{-3} \\ \\frac{\\text{kJ}}{\\text{mol} \\cdot \\text{K}}$\n",
        "and $T = 310 \\ \\text{K}$.\n",
        "\n",
        "> **Tip**\n",
        ">\n",
        "> Consider the difference between association and dissociation\n",
        "\n",
        "Start by defining the two given constants as variables"
      ],
      "id": "5570d7f8-8575-472b-8170-d63abc8dc9f5"
    },
    {
      "cell_type": "code",
      "execution_count": 34,
      "metadata": {
        "exercise": true
      },
      "outputs": [],
      "source": [
        "R = ...\n",
        "T = ..."
      ],
      "id": "f7e6f645"
    },
    {
      "cell_type": "markdown",
      "metadata": {},
      "source": [
        "And do the calculation"
      ],
      "id": "c52fa649-83bb-4e92-b8fd-a62ebb829ad3"
    },
    {
      "cell_type": "code",
      "execution_count": 36,
      "metadata": {
        "exercise": null
      },
      "outputs": [],
      "source": [
        "delta_G = ...\n",
        "print(f\"{delta_G = :.3f} kJ/mol\")"
      ],
      "id": "c218bf13"
    },
    {
      "cell_type": "markdown",
      "metadata": {},
      "source": [
        "------------------------------------------------------------------------\n",
        "\n",
        "## Interpretation of binding data."
      ],
      "id": "aa1d1c2f-f9cc-4c2f-a2f2-c892cbd9ddcb"
    },
    {
      "cell_type": "code",
      "execution_count": 38,
      "metadata": {},
      "outputs": [],
      "source": [
        "import numpy as np"
      ],
      "id": "737ca2c5"
    },
    {
      "cell_type": "markdown",
      "metadata": {},
      "source": [
        "The `week48_1_interpret.xlsx` contains a protein binding dataset.\n",
        "\n",
        "#### (a) Load the dataset\n",
        "\n",
        "Load the dataset using the widget below"
      ],
      "id": "7cc038ed-2416-4b60-9b38-198ef2eed590"
    },
    {
      "cell_type": "code",
      "execution_count": 39,
      "metadata": {},
      "outputs": [],
      "source": [
        "import numpy as np\n",
        "from fysisk_biokemi.widgets import DataUploader\n",
        "from IPython.display import display \n",
        "uploader = DataUploader()\n",
        "uploader.display()"
      ],
      "id": "af6a5e24"
    },
    {
      "cell_type": "markdown",
      "metadata": {},
      "source": [
        "Run the next cell **after** uploading the file"
      ],
      "id": "c6051372-450a-4b58-b426-f117d5c5ddf0"
    },
    {
      "cell_type": "code",
      "execution_count": 40,
      "metadata": {},
      "outputs": [],
      "source": [
        "df = uploader.get_dataframe()\n",
        "display(df)"
      ],
      "id": "6bc359f2"
    },
    {
      "cell_type": "markdown",
      "metadata": {},
      "source": [
        "#### (b) SI Units\n",
        "\n",
        "Add a new column to the `DataFrame` with the ligand concentration in SI\n",
        "units."
      ],
      "id": "535bd72c-0f77-470e-aad8-c317b97ba5d9"
    },
    {
      "cell_type": "code",
      "execution_count": 42,
      "metadata": {
        "exercise": true
      },
      "outputs": [],
      "source": [
        "... # Replace ... with your code.\n",
        "display(df)"
      ],
      "id": "a222f967"
    },
    {
      "cell_type": "markdown",
      "metadata": {},
      "source": [
        "#### (c) Plot the data\n",
        "\n",
        "Make plots of the binding data directly with a linear and logarithmic\n",
        "x-axis.\n",
        "\n",
        "Estimate $K_D$ by visual inspection of these plots!"
      ],
      "id": "45ed9516-0dd0-4586-a6d4-a16b767c3137"
    },
    {
      "cell_type": "code",
      "execution_count": 44,
      "metadata": {
        "exercise": true
      },
      "outputs": [],
      "source": [
        "import matplotlib.pyplot as plt\n",
        "\n",
        "# This makes a figure with two axes.\n",
        "fig, axes = plt.subplots(1, 2, figsize=(9, 4))\n",
        "\n",
        "# Can with [0] to plot in the first axis.\n",
        "ax = axes[0]\n",
        "ax.plot(..., ..., 'o') # Replace ... with your code.\n",
        "ax.set_xlabel('[L](M)', fontsize=14)\n",
        "ax.set_ylabel(r'$\\bar{n}$', fontsize=14)\n",
        "\n",
        "ax = axes[1]\n",
        "... # Put some code here - perhaps you can copy it from somewhere?\n",
        "ax.set_xscale('log') # This make the x-axis logarithmic."
      ],
      "id": "04992d80"
    },
    {
      "cell_type": "markdown",
      "metadata": {},
      "source": [
        "> **Note**\n",
        ">\n",
        "> Ths command `ax.set_xscale('log')` tells `matplotlib` that we want the\n",
        "> x-axis to use a log-scale."
      ],
      "id": "f0f94a84-79eb-43c5-a0c4-a9742cef017d"
    },
    {
      "cell_type": "code",
      "execution_count": 46,
      "metadata": {
        "exercise": true
      },
      "outputs": [],
      "source": [
        "k_d_estimate = ..."
      ],
      "id": "369576fd"
    },
    {
      "cell_type": "markdown",
      "metadata": {},
      "source": [
        "#### (d) Make a fit\n",
        "\n",
        "Make a fit to determine $K_D$, as always we start by implementing the\n",
        "function to fit with"
      ],
      "id": "1097308f-7f05-4461-b277-4b3d6a8ce7d7"
    },
    {
      "cell_type": "code",
      "execution_count": 48,
      "metadata": {
        "exercise": true
      },
      "outputs": [],
      "source": [
        "def ... # Give the function an appropriate name.\n",
        "    return ... # Implement the expression for nbar"
      ],
      "id": "0dd17a95"
    },
    {
      "cell_type": "markdown",
      "metadata": {},
      "source": [
        "And then we can make the fit"
      ],
      "id": "8e93aa56-a13b-48a4-be0b-5067ab231710"
    },
    {
      "cell_type": "code",
      "execution_count": 50,
      "metadata": {
        "exercise": true
      },
      "outputs": [],
      "source": [
        "from scipy.optimize import curve_fit\n",
        "\n",
        "# Choose the variables from the dataframe\n",
        "x = ... # Choose x-data from the dataframe\n",
        "y = ... # Choose y-data from the dataframe\n",
        "\n",
        "# Initial guess\n",
        "p0 = [k_d_estimate]\n",
        "\n",
        "# Bounds\n",
        "bounds = (0, np.inf) # We limit the parameters to be positve.\n",
        "\n",
        "# Curve fit\n",
        "popt, pcov = ... # Call the curve_fit function.\n",
        "\n",
        "# Print the parameters\n",
        "k_d_fit = popt[0]\n",
        "print(f\"{k_d_fit = :e}\")"
      ],
      "id": "d3a140dd"
    },
    {
      "cell_type": "markdown",
      "metadata": {},
      "source": [
        "#### Compare\n",
        "\n",
        "Use the figure below to compare your guess with the fitted value.\n",
        "\n",
        "#### Saturation\n",
        "\n",
        "Based on the value of $K_D$ found from the fit,\n",
        "\n",
        "-   At which concentration do you expect 10% saturation?\n",
        "-   At which concentration do you expect 90% saturation?\n",
        "\n",
        "------------------------------------------------------------------------\n",
        "\n",
        "## Determination of type and strength of cooperativity"
      ],
      "id": "7451d629-4612-462d-80bd-6c650ea87673"
    },
    {
      "cell_type": "code",
      "execution_count": 53,
      "metadata": {},
      "outputs": [],
      "source": [
        "import matplotlib.pyplot as plt\n",
        "import numpy as np"
      ],
      "id": "051ebaf9"
    },
    {
      "cell_type": "markdown",
      "metadata": {},
      "source": [
        "The binding of NAD+ to the protein yeast glyceraldehyde 3-phosphate\n",
        "dehydrogenase (GAPDH) was studied using equilibrium dialysis. The enzyme\n",
        "concentration was 71 μM. The concentration of\n",
        "$[\\text{NAD}^{+}_\\text{free}]$ and the corresponding values of $\\bar{n}$\n",
        "were determined with the resulting data found in the dataset\n",
        "`week48_2_determination_coop.xlsx`.\n",
        "\n",
        "#### (a) Load the dataset\n",
        "\n",
        "Load the dataset using the widget below"
      ],
      "id": "767e4961-5b6e-46d3-b49b-ad5d2457655a"
    },
    {
      "cell_type": "code",
      "execution_count": 54,
      "metadata": {},
      "outputs": [],
      "source": [
        "from fysisk_biokemi.widgets import DataUploader\n",
        "from IPython.display import display \n",
        "uploader = DataUploader()\n",
        "uploader.display()"
      ],
      "id": "d1ed90f0"
    },
    {
      "cell_type": "markdown",
      "metadata": {},
      "source": [
        "Run the next cell **after** uploading the file"
      ],
      "id": "346cc596-0a22-4230-8d23-2c48d68bcc31"
    },
    {
      "cell_type": "code",
      "execution_count": 55,
      "metadata": {},
      "outputs": [],
      "source": [
        "df = uploader.get_dataframe()\n",
        "display(df)"
      ],
      "id": "da467b42"
    },
    {
      "cell_type": "markdown",
      "metadata": {},
      "source": [
        "#### (b) Averaging and units.\n",
        "\n",
        "Start by adding a new column to the `DataFrame` with the average value\n",
        "of $\\bar{n}$ across the three series\n",
        "\n",
        "> **Tip**\n",
        ">\n",
        "> Remember that you can set a new column based on a computation using\n",
        "> one or more other columns, e.g. \n",
        ">\n",
        "> ``` python\n",
        "> df['new_col'] = df['col1'] + df['col2']\n",
        "> ```"
      ],
      "id": "083f8932-1396-45e3-8c9c-1bb1d9d4eee8"
    },
    {
      "cell_type": "code",
      "execution_count": 57,
      "metadata": {
        "exercise": true
      },
      "outputs": [],
      "source": [
        "df['nbar_avg'] = ..."
      ],
      "id": "78c613cc"
    },
    {
      "cell_type": "markdown",
      "metadata": {},
      "source": [
        "Now also add a column with the ligand concentration in SI units with the\n",
        "column-name `[NAD+free]_(M)`."
      ],
      "id": "66a90b09-afa1-40fb-9b27-70addff2c886"
    },
    {
      "cell_type": "code",
      "execution_count": 59,
      "metadata": {
        "exercise": true
      },
      "outputs": [],
      "source": [
        "... # Your code here. \n",
        "display(df)"
      ],
      "id": "5a7a29bc"
    },
    {
      "cell_type": "markdown",
      "metadata": {},
      "source": [
        "Finally, set the concentration of the GADPH in SI units"
      ],
      "id": "0c983d29-4275-4ca4-9323-deeff5638adf"
    },
    {
      "cell_type": "code",
      "execution_count": 61,
      "metadata": {},
      "outputs": [],
      "source": [
        " c_gadph = 71 * 10**(-6)"
      ],
      "id": "7b541583"
    },
    {
      "cell_type": "markdown",
      "metadata": {},
      "source": [
        "#### (c) Plot\n",
        "\n",
        "Make a plot of the average $\\bar{n}$ as a function of\n",
        "$[\\text{NAD}^{+}_\\text{free}]$."
      ],
      "id": "52131d59-fc38-4337-a03f-2e3e7935668b"
    },
    {
      "cell_type": "code",
      "execution_count": 62,
      "metadata": {
        "exercise": true
      },
      "outputs": [],
      "source": [
        "fig, ax = plt.subplots(figsize=(8, 4))\n",
        "\n",
        "# Your code to plot here.\n",
        "... \n",
        "\n",
        "# This sets the labels.\n",
        "ax.set_xlabel(r'$[\\text{NAD}^{+}_\\text{free}]$', fontsize=14)\n",
        "ax.set_ylabel(r'$\\bar{n}$', fontsize=14)\n",
        "plt.show()"
      ],
      "id": "89a6ef28"
    },
    {
      "cell_type": "markdown",
      "metadata": {},
      "source": [
        "#### (d) Scatchard plot\n",
        "\n",
        "Make a Scatchard plot based on the average $\\bar{n}$."
      ],
      "id": "e1f80487-1e78-4ff6-a676-ee765c40b415"
    },
    {
      "cell_type": "code",
      "execution_count": 64,
      "metadata": {
        "exercise": true
      },
      "outputs": [],
      "source": [
        "# Calculate nbar / L \n",
        "nbar_over_L = ...\n",
        "\n",
        "fig, ax = plt.subplots(figsize=(6, 4)) \n",
        "\n",
        "ax.plot(..., ... 'o') # Plot the right thins. \n",
        "\n",
        "ax.set_xlabel(r'$\\bar{n}$', fontsize=14)\n",
        "ax.set_ylabel(r'$\\bar{n}/L$', fontsize=14)\n",
        "ax.set_xlim([0, df['nbar_avg'].max()*1.2])\n",
        "ax.set_ylim([0, nbar_over_L.max() * 1.2])"
      ],
      "id": "f0b093f0"
    },
    {
      "cell_type": "markdown",
      "metadata": {},
      "source": [
        "#### (e) Binding sites\n",
        "\n",
        "How many binding sites does GAPDH contain for $\\text{NAD}^{+}$?\n",
        "\n",
        "#### (f) Cooperativity\n",
        "\n",
        "What type of cooperativity do the plots indicate?\n",
        "\n",
        "#### (g) Fit\n",
        "\n",
        "Make a fit using the functional form\n",
        "\n",
        "$$\n",
        "\\bar{n} = N \\frac{[L]^h}{K_D + [L]^h}\n",
        "$$\n",
        "\n",
        "As usual, start by defining the function in Python"
      ],
      "id": "66348ce5-ff19-4f4a-9567-9a01c57afa2c"
    },
    {
      "cell_type": "code",
      "execution_count": 67,
      "metadata": {
        "exercise": true
      },
      "outputs": [],
      "source": [
        "def n_bar(L, N, k_d, h):\n",
        "    # Replace ... with your code.\n",
        "    # Be careful with parentheses.\n",
        "    result = ...\n",
        "    return result "
      ],
      "id": "931cb197"
    },
    {
      "cell_type": "markdown",
      "metadata": {},
      "source": [
        "Now we can fit"
      ],
      "id": "6a0bf98b-8eb8-478f-93f6-651a9c7f40ce"
    },
    {
      "cell_type": "code",
      "execution_count": 68,
      "metadata": {
        "exercise": true
      },
      "outputs": [],
      "source": [
        "from scipy.optimize import curve_fit\n",
        "\n",
        "# This selects the '[NAD+free]_(m)'-column three times and stitches it together.\n",
        "x = np.concatenate([df['[NAD+free]_(M)'], df['[NAD+free]_(M)'], df['[NAD+free]_(M)']])\n",
        "# Do the same to stitch together the nbar1, nbar2 and nbar3 columns.\n",
        "y = ...\n",
        "\n",
        "# Initial guess\n",
        "p0 = [..., ..., ...]\n",
        "\n",
        "# Bounds\n",
        "bounds = (0, np.inf) # We limit the parameters to be positve.\n",
        "\n",
        "# Curve fit\n",
        "popt, pcov = curve_fit(n_bar, x, y, p0=p0, bounds=bounds)\n",
        "\n",
        "# Print the parameters\n",
        "N_fit, k_d_fit, h_fit = popt\n",
        "print(f\"{N_fit = :.3f}\")\n",
        "print(f\"{k_d_fit = :e}\")\n",
        "print(f\"{h_fit = :.3f}\")"
      ],
      "id": "fd7ec62c"
    },
    {
      "cell_type": "markdown",
      "metadata": {},
      "source": [
        "> **Note**\n",
        ">\n",
        "> The function `np.concatenate` takes a number of arrays and makes a new\n",
        "> array that consisting of the originals one after each other. For\n",
        "> example,\n",
        ">\n",
        "> ``` python\n",
        "> A = np.array([1, 2, 3])\n",
        "> B = np.array([4, 5, 6])\n",
        "> C = np.concatenate([A, B])\n",
        "> print(C)\n",
        "> ```\n",
        ">\n",
        ">     [1 2 3 4 5 6]\n",
        "\n",
        "#### (h) Plot with fit"
      ],
      "id": "c93bd325-9c35-4190-8996-9e64a84dbd20"
    },
    {
      "cell_type": "code",
      "execution_count": 71,
      "metadata": {
        "exercise": true
      },
      "outputs": [],
      "source": [
        "L = np.linspace(0, df['[NAD+free]_(M)'].max()*1.5)\n",
        "n_bar_fit = n_bar(L, N_fit, k_d_fit, h_fit)\n",
        "\n",
        "fig, ax = plt.subplots(figsize=(8, 4))\n",
        "ax.plot(x, y, 'o', label='Data')\n",
        "ax.plot(L, n_bar_fit, '-', label='Fit')\n",
        "ax.axhline(N_fit, color='C2', label='N from fit')\n",
        "ax.axvline(k_d_fit, color='C3', label=r'$K_D$ from fit')\n",
        "ax.set_xlabel(r'$[\\text{NAD}^{+}_\\text{free}]$', fontsize=14)\n",
        "ax.set_ylabel(r'$\\bar{n}$', fontsize=14)\n",
        "ax.legend()\n",
        "plt.show()"
      ],
      "id": "032e7497"
    },
    {
      "cell_type": "markdown",
      "metadata": {},
      "source": [
        "------------------------------------------------------------------------\n",
        "\n",
        "## Competition in ligand binding\n",
        "\n",
        "Below is given the general expression for saturation of a binding site\n",
        "by one of the ligands, $L$, when two ligands $L$ and $C$ are competing\n",
        "for binding to the same site on a protein. Assume that $[P_T] = 10^{-9}$\n",
        "$\\mathrm{M}$.\n",
        "\n",
        "$$\n",
        "\\theta = \\frac{[PL]}{[P_T]} = \\frac{1}{\\frac{K_D}{[L]}\\left(1 + \\frac{[C]}{K_C}\\right) + 1}\n",
        "$$\n",
        "\n",
        "Consider these four situations\n",
        "\n",
        "| \\# | $K_D$ | $[L_T]$ | $K_C$ | $[C_T]$ |\n",
        "|------|-----------------|-----------------|-----------------|-----------------|\n",
        "| 1 | $1·10^{-5}$ $\\mathrm{M}$ | $1·10^{-3}$ $\\mathrm{M}$ |  | $0$ |\n",
        "| 2 | $1·10^{-5}$ $\\mathrm{M}$ | $1·10^{-3}$ $\\mathrm{M}$ | $1·10^{-6}$ $\\mathrm{M}$ | $1·10^{-2}$ $\\mathrm{M}$ |\n",
        "| 3 | $1·10^{-5}$ $\\mathrm{M}$ | $1·10^{-3}$ $\\mathrm{M}$ | $1·10^{-5}$ $\\mathrm{M}$ | $1·10^{-3}$ $\\mathrm{M}$ |\n",
        "| 4 | $1·10^{-5}$ $\\mathrm{M}$ | $1·10^{-5}$ $\\mathrm{M}$ | $1·10^{-6}$ $\\mathrm{M}$ | $1·10^{-6}$ $\\mathrm{M}$ |\n",
        "\n",
        "##### (a) Explain simplification\n",
        "\n",
        "Explain how the fact that $[P_T]$ is much smaller than $[L_T]$ and\n",
        "$[C_T]$ simplifies the calculations using the above equation.\n",
        "\n",
        "#### (b) Ligand degree of saturation\n",
        "\n",
        "Calculate the degree of saturation of the protein with ligand $L$ in the\n",
        "four situations.\n",
        "\n",
        "Start by writing a Python function that calculates the degree of\n",
        "saturation $\\theta$."
      ],
      "id": "bd709488-bc81-46f3-baa1-ef804b3dfbff"
    },
    {
      "cell_type": "code",
      "execution_count": 73,
      "metadata": {
        "exercise": true
      },
      "outputs": [],
      "source": [
        "def bound_fraction(L, C, Kd, Kc):\n",
        "    # Write the equation for binding saturation. Be careful with parentheses!\n",
        "    theta = ... \n",
        "    return theta"
      ],
      "id": "31120946"
    },
    {
      "cell_type": "markdown",
      "metadata": {},
      "source": [
        "Then use that function to calculate $\\theta$ for each situation."
      ],
      "id": "0fa6de77-c19b-4715-807f-83267b0bb322"
    },
    {
      "cell_type": "code",
      "execution_count": 75,
      "metadata": {
        "exercise": true
      },
      "outputs": [],
      "source": [
        "theta_L_1 = bound_fraction(..., ..., ..., ...)\n",
        "theta_L_2 = ...\n",
        "theta_L_3 = ...\n",
        "theta_L_4 = ...\n",
        "print(f\"{theta_L_1 = :.3f}\")\n",
        "print(f\"{theta_L_2 = :.3f}\")\n",
        "print(f\"{theta_L_3 = :.3f}\")\n",
        "print(f\"{theta_L_4 = :.3f}\")"
      ],
      "id": "e590c280"
    },
    {
      "cell_type": "markdown",
      "metadata": {},
      "source": [
        "#### (c) Competitor degree of saturation\n",
        "\n",
        "What is the degree of saturation with respect to the competitor $C$ in\n",
        "#1, #2 and #4?"
      ],
      "id": "ee21c379-a6b2-497b-b30e-56b6f18d7cf2"
    },
    {
      "cell_type": "code",
      "execution_count": 77,
      "metadata": {
        "exercise": true
      },
      "outputs": [],
      "source": [
        "theta_C_1 = ...\n",
        "theta_C_2 = ...\n",
        "theta_C_3 = ...\n",
        "theta_C_4 = ...\n",
        "\n",
        "print(f\"{theta_C_1 = :.3f}\")\n",
        "print(f\"{theta_C_2 = :.3f}\")\n",
        "print(f\"{theta_C_3 = :.3f}\")\n",
        "print(f\"{theta_C_4 = :.3f}\")"
      ],
      "id": "7c052563"
    },
    {
      "cell_type": "markdown",
      "metadata": {},
      "source": [
        "#### (d) Fraction of $[P_{\\mathrm{free}}]$\n",
        "\n",
        "What is the fraction of $[P_{\\mathrm{free}}]$ in #2, #3, #4?\n",
        "\n",
        "> **Tip**\n",
        ">\n",
        "> Consider how to express the fraction of $[P_{\\mathrm{free}}]$ in terms\n",
        "> of `theta_L_X` and `theta_C_X`."
      ],
      "id": "523e7e50-c70f-4ace-a701-71977f6ec59f"
    },
    {
      "cell_type": "code",
      "execution_count": 79,
      "metadata": {
        "exercise": true
      },
      "outputs": [],
      "source": [
        "theta_free_1 = ...\n",
        "theta_free_2 = ...\n",
        "theta_free_3 = ...\n",
        "theta_free_4 = ...\n",
        "\n",
        "print(f\"{theta_free_1 = :.3f}\")\n",
        "print(f\"{theta_free_2 = :.3f}\")\n",
        "print(f\"{theta_free_3 = :.3f}\")\n",
        "print(f\"{theta_free_4 = :.3f}\")"
      ],
      "id": "eae716bd"
    }
  ],
  "nbformat": 4,
  "nbformat_minor": 5,
  "metadata": {
    "kernelspec": {
      "name": "python3",
      "display_name": "Python 3 (ipykernel)",
      "language": "python",
      "path": "/home/runner/work/fysisk-biokemi/fysisk-biokemi/.venv/share/jupyter/kernels/python3"
    },
    "language_info": {
      "name": "python",
      "codemirror_mode": {
        "name": "ipython",
        "version": "3"
      },
      "file_extension": ".py",
      "mimetype": "text/x-python",
      "nbconvert_exporter": "python",
      "pygments_lexer": "ipython3",
      "version": "3.11.13"
    }
  }
}