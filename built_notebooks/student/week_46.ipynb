{
  "cells": [
    {
      "cell_type": "markdown",
      "metadata": {},
      "source": [
        "# Week 46"
      ],
      "id": "d873d9d8-20b7-400b-b7fc-8434d3868dd1"
    },
    {
      "cell_type": "code",
      "execution_count": 2,
      "metadata": {},
      "outputs": [],
      "source": [
        "try:\n",
        "    import fysisk_biokemi\n",
        "    print(\"Already installed\")\n",
        "except ImportError:\n",
        "    %pip install -q \"fysisk_biokemi[colab] @ git+https://github.com/au-mbg/fysisk-biokemi.git\""
      ],
      "id": "100e32f4"
    },
    {
      "cell_type": "markdown",
      "metadata": {},
      "source": [
        "------------------------------------------------------------------------\n",
        "\n",
        "## 1 Python: Introduction to curve fitting"
      ],
      "id": "83ca16cf-7ac0-47fe-9bc5-6ca8073fb113"
    },
    {
      "cell_type": "code",
      "execution_count": 3,
      "metadata": {},
      "outputs": [],
      "source": [
        "import numpy as np\n",
        "import matplotlib.pyplot as plt\n",
        "from scipy.optimize import curve_fit"
      ],
      "id": "36601b1f"
    },
    {
      "cell_type": "markdown",
      "metadata": {},
      "source": [
        "Curve fitting is a fundamental skill in biochemistry and biophysics for\n",
        "analyzing experimental data. We use curve fitting to determine\n",
        "parameters in mathematical models that describe biological processes\n",
        "like enzyme kinetics, binding affinity, and reaction rates.\n",
        "\n",
        "The basic idea is to find the parameters of a mathematical function that\n",
        "best describes our experimental data.\n",
        "\n",
        "#### (a) Understanding the problem\n",
        "\n",
        "Let’s start with some simple data that follows a linear relationship.\n",
        "The data below represents a theoretical experiment where we measure some\n",
        "output $y$ at different input values $x$:"
      ],
      "id": "8afe7e19-6488-4381-b01e-61f2a82e2822"
    },
    {
      "cell_type": "code",
      "execution_count": 4,
      "metadata": {},
      "outputs": [],
      "source": [
        "# Generate some data with noise\n",
        "x_data = np.array([1, 2, 3, 4, 5, 6, 7, 8, 9, 10])\n",
        "y_data = np.array([2.1, 4.2, 6.0, 7.8, 10.1, 12.2, 13.9, 16.1, 18.0, 20.2])"
      ],
      "id": "a07eb3eb"
    },
    {
      "cell_type": "code",
      "execution_count": 5,
      "metadata": {
        "exercise": true
      },
      "outputs": [],
      "source": [
        "# Plot the data\n",
        "fig, ax = plt.subplots(figsize=(6, 4))\n",
        "\n",
        "# Plot the data as a scatter plot!\n",
        "..."
      ],
      "id": "6c921336"
    },
    {
      "cell_type": "markdown",
      "metadata": {},
      "source": [
        "Looking at this data, we can see it roughly follows a straight line.\n",
        "Let’s assume our model is:\n",
        "\n",
        "$$y = ax + b$$\n",
        "\n",
        "where $a$ and $b$ are parameters we want to determine from the data.\n",
        "\n",
        "#### (b) Defining a fitting function\n",
        "\n",
        "To use `scipy.optimize.curve_fit`, we need to define a function where:\n",
        "\n",
        "-   The **first** argument is the independent variable (x)  \n",
        "-   The remaining arguments are the parameters to be fitted\n",
        "\n",
        "Define a linear function for fitting:"
      ],
      "id": "e579ac50-59bc-4a79-86c3-36eaaf9a789f"
    },
    {
      "cell_type": "code",
      "execution_count": 7,
      "metadata": {
        "exercise": true
      },
      "outputs": [],
      "source": [
        "def linear_function(x, a, b):\n",
        "    return ... # Complete this line"
      ],
      "id": "ee48a2f8"
    },
    {
      "cell_type": "markdown",
      "metadata": {},
      "source": [
        "Always a good idea to check that your function works as expected"
      ],
      "id": "cb1d03d0-a758-4497-9d84-72879b46db56"
    },
    {
      "cell_type": "code",
      "execution_count": 9,
      "metadata": {},
      "outputs": [
        {
          "output_type": "display_data",
          "metadata": {},
          "data": {
            "text/plain": [
              "2"
            ]
          }
        }
      ],
      "source": [
        "linear_function(1, 2, 0) # Should give 2"
      ],
      "id": "2d9a75ff"
    },
    {
      "cell_type": "markdown",
      "metadata": {},
      "source": [
        "Come up with another test case to check"
      ],
      "id": "ac104967-268b-4564-b5c6-f0d2498c0412"
    },
    {
      "cell_type": "code",
      "execution_count": 10,
      "metadata": {
        "exercise": true
      },
      "outputs": [],
      "source": [
        "print(linear_function(0, 2, 3)) # Should give 3 \n",
        "print(linear_function(1, 2, 3)) # Should give 5"
      ],
      "id": "0e081164"
    },
    {
      "cell_type": "markdown",
      "metadata": {},
      "source": [
        "#### (c) Your first curve fit\n",
        "\n",
        "Now we can use `curve_fit` to find the best parameters. The basic syntax\n",
        "is:\n",
        "\n",
        "``` python\n",
        "popt, pcov = curve_fit(function, x_data, y_data, p0=initial_guess)\n",
        "```\n",
        "\n",
        "Where:\n",
        "\n",
        "-   `function`: The function we defined above\n",
        "-   `x_data`, `y_data`: Our experimental data\n",
        "-   `p0`: Initial guess for parameters (optional but recommended)\n",
        "-   `popt`: The optimized parameters (what we want!)\n",
        "-   `pcov`: Covariance matrix (contains information about parameter\n",
        "    uncertainties, which you don’t need to worry about at the moment.)\n",
        "\n",
        "Finish the cell below to perform the curve fit by adding the three\n",
        "missing arguments to the call to `curve_fit`."
      ],
      "id": "cda9f9c2-556a-4571-8547-6a6d37a498a1"
    },
    {
      "cell_type": "code",
      "execution_count": 12,
      "metadata": {
        "exercise": true
      },
      "outputs": [],
      "source": [
        "# Initial guess: a=2, b=0\n",
        "p0 = [2, 0]\n",
        "\n",
        "# Perform the fit\n",
        "popt, pcov = curve_fit(..., ..., ..., p0=p0)\n",
        "\n",
        "# Extract parameters\n",
        "a_fit, b_fit = popt\n",
        "print(f\"Fitted parameters: a = {a_fit:.3f}, b = {b_fit:.3f}\")"
      ],
      "id": "ec8d300c"
    },
    {
      "cell_type": "markdown",
      "metadata": {},
      "source": [
        "#### (d) Visualizing the fit\n",
        "\n",
        "It’s crucial to always plot your fit to see how well it describes the\n",
        "data. To do this we evaluate the function with the fitted parameters and\n",
        "a densely sampled independent variable."
      ],
      "id": "975fce67-324e-4e3a-9e3a-4f5c34aa5054"
    },
    {
      "cell_type": "code",
      "execution_count": 14,
      "metadata": {
        "exercise": true
      },
      "outputs": [],
      "source": [
        "x_smooth = np.linspace(0, 11, 100) # Makes 100 equally spaced points between 0 and 11. \n",
        "y_fit = ... # Call the linear function using x_smooth, a_fit and b_fit"
      ],
      "id": "35725056"
    },
    {
      "cell_type": "markdown",
      "metadata": {},
      "source": [
        "Then we can plot it"
      ],
      "id": "eb7b6cea-9a0f-45f7-9fff-9df1333be842"
    },
    {
      "cell_type": "code",
      "execution_count": 16,
      "metadata": {
        "exercise": true
      },
      "outputs": [],
      "source": [
        "fig, ax = plt.subplots(figsize=(6, 4))\n",
        "ax.plot(x_data, y_data, 'o', markersize=8, label='Experimental data')\n",
        "\n",
        "# Then we can plot the fit\n",
        "ax.plot(..., ..., '-', linewidth=2, label=f'Fit: y = {a_fit:.2f}x + {b_fit:.2f}') \n",
        "ax.set_xlabel('x')\n",
        "ax.set_ylabel('y') \n",
        "ax.legend()\n",
        "ax.set_title('Fit')"
      ],
      "id": "d4e7b7a9"
    },
    {
      "cell_type": "markdown",
      "metadata": {},
      "source": [
        "#### (e) Nonlinear fitting: Exponential decay\n",
        "\n",
        "Many biological processes follow nonlinear relationships. Let’s work\n",
        "with exponential decay, which is common in biochemistry (e.g.,\n",
        "radioactive decay or unimolecular chemical reactions).\n",
        "\n",
        "First, let’s generate some exponential data:"
      ],
      "id": "9048ec84-ff6f-43c3-bba2-29928709e638"
    },
    {
      "cell_type": "code",
      "execution_count": 18,
      "metadata": {
        "exercise": true
      },
      "outputs": [],
      "source": [
        "# Generate exponential decay data\n",
        "t = np.array([0, 0.5, 1.0, 1.5, 2.0, 2.5, 3.0, 3.5, 4.0, 4.5, 5.0])\n",
        "# True parameters: A=10, k=0.8\n",
        "A_true, k_true = 10, 0.8\n",
        "signal = A_true * np.exp(-k_true * t) + np.random.normal(0, 0.3, len(t))\n",
        "\n",
        "fig, ax = plt.subplots(figsize=(6, 4))\n",
        "ax.plot(t, signal, 'o', markersize=8)\n",
        "ax.set_xlabel('Time')\n",
        "ax.set_ylabel('Signal')\n",
        "ax.set_title('Exponential decay data')"
      ],
      "id": "4f3805d8"
    },
    {
      "cell_type": "markdown",
      "metadata": {},
      "source": [
        "The model we want to fit is: $$\\text{signal} = A e^{-kt}$$\n",
        "\n",
        "Define the exponential decay function:"
      ],
      "id": "518b679f-a763-4817-a0c1-aea59332ceea"
    },
    {
      "cell_type": "code",
      "execution_count": 20,
      "metadata": {
        "exercise": true
      },
      "outputs": [],
      "source": [
        "def exponential_decay(t, A, k):\n",
        "    return ... # Complete this line"
      ],
      "id": "4ce4150e"
    },
    {
      "cell_type": "markdown",
      "metadata": {},
      "source": [
        "Now fit the exponential function to the data:"
      ],
      "id": "3e0e2532-1f78-466d-9114-8afe3ace2784"
    },
    {
      "cell_type": "code",
      "execution_count": 22,
      "metadata": {
        "exercise": true
      },
      "outputs": [],
      "source": [
        "# Initial guess: A=8, k=1\n",
        "p0 = [8, 1]\n",
        "\n",
        "# Perform the fit\n",
        "popt, pcov = curve_fit(..., ..., ..., p0=p0)\n",
        "\n",
        "# Extract parameters\n",
        "A_fit, k_fit = popt\n",
        "print(f\"Fitted parameters: A = {A_fit:.3f}, k = {k_fit:.3f}\")\n",
        "print(f\"True parameters:   A = {A_true:.3f}, k = {k_true:.3f}\")"
      ],
      "id": "37db6773"
    },
    {
      "cell_type": "markdown",
      "metadata": {},
      "source": [
        "Again we should plot to check that it looks as expected"
      ],
      "id": "1c760c60-13a8-46a7-8482-5d484c30f10b"
    },
    {
      "cell_type": "code",
      "execution_count": 24,
      "metadata": {
        "exercise": true
      },
      "outputs": [],
      "source": [
        "t_smooth = np.linspace(0, 5, 100)\n",
        "signal_fit = ... # Evaluate using the exponential_decay funciton"
      ],
      "id": "9feeda73"
    },
    {
      "cell_type": "markdown",
      "metadata": {},
      "source": [
        "------------------------------------------------------------------------\n",
        "\n",
        "> **Key points for successful curve fitting:**\n",
        ">\n",
        "> 1.  **Always plot your data first** to understand what kind of\n",
        ">     function might fit\n",
        "> 2.  **Provide good initial guesses** (`p0`) - poor guesses can lead to\n",
        ">     fitting failure\n",
        "> 3.  **Use parameter bounds** when you know physical constraints\n",
        "> 4.  **Always plot the fit** to visually check if it makes sense\n",
        "> 5.  **Check if parameters are reasonable** based on your biochemical\n",
        ">     knowledge\n",
        "\n",
        "> **Common pitfalls:**\n",
        ">\n",
        "> -   **Overfitting**: Using too many parameters for the amount of data\n",
        ">     you have\n",
        "> -   **Poor initial guesses**: Can cause the fit to fail or find a\n",
        ">     local minimum\n",
        "> -   **Ignoring physical constraints**: Fitted parameters should make\n",
        ">     biological sense\n",
        "> -   **Not checking the fit visually**: Always plot to see if the fit\n",
        ">     is reasonable\n",
        "\n",
        "> **Summary of `curve_fit`**\n",
        ">\n",
        "> Fitting refers to finding the parameters that make an assumed\n",
        "> functional form best ‘fit’ the data. Programmatically we will use the\n",
        "> `curve_fit` from the `scipy` package to do so. The signature of this\n",
        "> function looks like this\n",
        ">\n",
        "> ``` python\n",
        "> curve_fit(function, \n",
        ">             x_data, \n",
        ">             y_data, \n",
        ">             p0=[param_1, param_2, ...])\n",
        "> ```\n",
        ">\n",
        "> The arguments are\n",
        ">\n",
        "> -   `function`: A python function where the **first** argument is the\n",
        ">     independent variable, and other arguments are the parameters of\n",
        ">     the functions.\n",
        "> -   `x_data`: The observed values of the independent variable.\n",
        "> -   `y_data`: The observed values of the dependent variable.\n",
        "> -   `p0`: Initial guesses for the parameters.\n",
        ">\n",
        "> When called `curve_fit` starts by calculating how well the functions\n",
        "> fits the data with the initial parameters in `p0` and then iteratively\n",
        "> improves the fit by trying new values for the parameters in an\n",
        "> intelligent way.\n",
        ">\n",
        "> The found parameters will generally depend on `p0` and it is therefore\n",
        "> necessary to provide a good (or good enough) guess for `p0`.\n",
        ">\n",
        "> Generally, the best way to learn more about a function is to read it’s\n",
        "> documentation and then play around with it. The documentation is in\n",
        "> this case on the [SciPy\n",
        "> website](https://docs.scipy.org/doc/scipy/reference/generated/scipy.optimize.curve_fit.html).\n",
        "> You don’t need to read it, unless you want more details.\n",
        "\n",
        "You now have the fundamental skills needed to fit curves to biochemical\n",
        "data! In the exercises, you’ll apply these techniques to analyze real\n",
        "experimental data and extract meaningful biological parameters.\n",
        "\n",
        "------------------------------------------------------------------------\n",
        "\n",
        "## 2 Estimation of binding affinity\n",
        "\n",
        "#### (a) Train estimation skills\n",
        "\n",
        "Train your estimation skills using the widget below."
      ],
      "id": "7deee075-2752-4c9e-a771-1d97d90073e8"
    },
    {
      "cell_type": "code",
      "execution_count": 28,
      "metadata": {},
      "outputs": [],
      "source": [
        "from fysisk_biokemi.widgets.utils.colab import enable_custom_widget_colab\n",
        "from fysisk_biokemi.widgets import estimate_kd\n",
        "\n",
        "enable_custom_widget_colab()\n",
        "estimate_kd()"
      ],
      "id": "0cf803a1"
    },
    {
      "cell_type": "markdown",
      "metadata": {},
      "source": [
        "#### (b) Compare to quadratic\n",
        "\n",
        "The widget below shows the curves for $\\theta$ using both the simple\n",
        "expression assuming that $L = L_{tot}$ and the quadratic binding\n",
        "expression. Vary $K_D$ and $P_{total}$ to work out a rule of thumb for\n",
        "when the two equations give a similar curve."
      ],
      "id": "f1ed9183-f0cf-4f5b-ae96-215bd500f58d"
    },
    {
      "cell_type": "code",
      "execution_count": 29,
      "metadata": {},
      "outputs": [],
      "source": [
        "from fysisk_biokemi.widgets.utils.colab import enable_custom_widget_colab\n",
        "from fysisk_biokemi.widgets import visualize_simple_vs_quadratic\n",
        "\n",
        "enable_custom_widget_colab()\n",
        "visualize_simple_vs_quadratic()"
      ],
      "id": "1c2689f1"
    },
    {
      "cell_type": "markdown",
      "metadata": {},
      "source": [
        "------------------------------------------------------------------------\n",
        "\n",
        "## 3 Dialysis experiment"
      ],
      "id": "8401f519-aba6-415c-8242-9d1edc63786e"
    },
    {
      "cell_type": "code",
      "execution_count": 31,
      "metadata": {},
      "outputs": [],
      "source": [
        "import numpy as np"
      ],
      "id": "e7ef49f9"
    },
    {
      "cell_type": "markdown",
      "metadata": {},
      "source": [
        "A dialysis experiment was set up where equal amounts of a protein were\n",
        "separately dialyzing against buffers containing different concentrations\n",
        "of a ligand – each measurement was done in triplicate. The average\n",
        "number of ligands bound per protein molecule, $\\bar{n}$ were obtained\n",
        "from these experiments. The corresponding concentrations of free ligand\n",
        "and values are given in dataset `dialys-exper.xlsx`.\n",
        "\n",
        "#### (a) Load the dataset"
      ],
      "id": "7951f73a-801b-4d88-a0f1-621e3b444d32"
    },
    {
      "cell_type": "code",
      "execution_count": 32,
      "metadata": {},
      "outputs": [],
      "source": [
        "from fysisk_biokemi.widgets import DataUploader\n",
        "from IPython.display import display \n",
        "uploader = DataUploader()\n",
        "uploader.display()"
      ],
      "id": "0ae38446"
    },
    {
      "cell_type": "markdown",
      "metadata": {},
      "source": [
        "Run the next cell **after** uploading the file"
      ],
      "id": "46a6907b-a599-486e-9a8d-27f15bcd29b7"
    },
    {
      "cell_type": "code",
      "execution_count": 33,
      "metadata": {},
      "outputs": [],
      "source": [
        "df = uploader.get_dataframe()\n",
        "display(df)"
      ],
      "id": "1925faa6"
    },
    {
      "cell_type": "markdown",
      "metadata": {},
      "source": [
        "#### (b) Explain calculation of $\\bar{n}$\n",
        "\n",
        "Explain how the values of $\\bar{n}$ is calculated when knowing the\n",
        "concentrations of ligand inside and outside the dialysis bag, as well as\n",
        "the total concentration of the protein, \\[$\\text{P}_{\\text{tot}}$\\].\n",
        "\n",
        "#### (c) Molar concentrations\n",
        "\n",
        "Convert the concentrations of free ligand to SI-units given in M, add it\n",
        "as a row to the `DataFrame`.\n",
        "\n",
        "#### (c) Plot the data"
      ],
      "id": "695390a1-e822-480d-8c74-f795f212274e"
    },
    {
      "cell_type": "code",
      "execution_count": 36,
      "metadata": {
        "exercise": true
      },
      "outputs": [],
      "source": [
        "import matplotlib.pyplot as plt\n",
        "\n",
        "fig, ax = plt.subplots()\n",
        "\n",
        "# The 'o' means we plot just the points and don't connect them.\n",
        "ax.plot(..., ..., 'o') # Replace ... with your code.\n",
        "\n",
        "ax.set_xlabel('Free ligand [L] (M)', fontsize=16)\n",
        "ax.set_ylabel(r'$\\bar{n}$', fontsize=16)"
      ],
      "id": "07b8d7c0"
    },
    {
      "cell_type": "markdown",
      "metadata": {},
      "source": [
        "#### (d) Prepare for fitting\n",
        "\n",
        "Now we want to fit the data to extract $K_D$ and $n$, by using the\n",
        "equation\n",
        "\n",
        "$$\n",
        "\\bar{n}([L_{\\text{free}}]) = n \\frac{[L_{\\text{free}}]}{K_D + [L_{\\text{free}}]}\n",
        "$$\n",
        "\n",
        "To do so we need to implmenet it as a Python function"
      ],
      "id": "8669b85e-bc21-40c4-9804-b7984e83b785"
    },
    {
      "cell_type": "code",
      "execution_count": 38,
      "metadata": {
        "exercise": true
      },
      "outputs": [],
      "source": [
        "def nbar(L, n, K_D):\n",
        "    # Replace ... with your code that calculates the above equation. \n",
        "    # Be careful with parenthesis!\n",
        "    result = ... \n",
        "    return result\n",
        "\n",
        "print(f\"{nbar(1, 1, 1) = }\") # Should give 1/2\n",
        "print(f\"{nbar(21, 47, 2.5) = }\") # Should give 42"
      ],
      "id": "96d70976"
    },
    {
      "cell_type": "markdown",
      "metadata": {},
      "source": [
        "#### (e) Actually fitting\n",
        "\n",
        "Finish the code to perform the fitting in the cell below."
      ],
      "id": "58b65c60-e3da-450b-8d14-079f83854dd0"
    },
    {
      "cell_type": "code",
      "execution_count": 40,
      "metadata": {
        "exercise": true
      },
      "outputs": [],
      "source": [
        "from scipy.optimize import curve_fit\n",
        "\n",
        "# Choose the variables from the dataframe\n",
        "x = df['Free_ligand_(M)']\n",
        "y = df['n_bar']\n",
        "\n",
        "# Initial guess\n",
        "K_D_guess = ... # Your initial guess for K_D \n",
        "n_guess = ... # Your initial guess for nu_max\n",
        "p0 = [K_D_guess, n_guess]\n",
        "\n",
        "# Curve fit\n",
        "# Replace the four ... with the correct arguments in the correct order.\n",
        "popt, pcov = curve_fit(..., ..., ..., ...) \n",
        "\n",
        "# Print the parameters\n",
        "n_fit, K_D_fit = popt\n",
        "print(f\"{n_fit = :1.3f} \")\n",
        "print(f\"{K_D_fit = :e}\")"
      ],
      "id": "fba9afe3"
    },
    {
      "cell_type": "markdown",
      "metadata": {},
      "source": [
        "Are the parameters you find reasonable? How can you tell if they are\n",
        "reasonable by looking at the plot you made earlier?\n",
        "\n",
        "#### (f) Plot with fit\n",
        "\n",
        "When we have the fitted parameters we can calculate and plot the\n",
        "function. To do so we make an array of values for the independent\n",
        "variable and use our function to calculate the dependent variable"
      ],
      "id": "ea651809-fb10-45a7-ae33-3499d1538ad5"
    },
    {
      "cell_type": "code",
      "execution_count": 42,
      "metadata": {
        "exercise": true
      },
      "outputs": [],
      "source": [
        "# This makes 50 equally spaced points between 0 and the highest concentration x 1.2\n",
        "L = np.linspace(0, x.max()*1.2, 50) \n",
        "\n",
        "# Calculate by plugging L and the found parameters into the function.\n",
        "nbar_calc = ..."
      ],
      "id": "b9b725ee"
    },
    {
      "cell_type": "markdown",
      "metadata": {},
      "source": [
        "Now that we calculated the dependent variable we can plot the fit along\n",
        "with the data."
      ],
      "id": "2cd8a9be-0e12-4056-8608-6d26a7588a29"
    },
    {
      "cell_type": "code",
      "execution_count": 45,
      "metadata": {
        "exercise": true
      },
      "outputs": [],
      "source": [
        "import matplotlib.pyplot as plt\n",
        "\n",
        "fig, ax = plt.subplots()\n",
        "\n",
        "# Plot the fitted curve\n",
        "ax.plot(L, nbar_calc, label='Fit')\n",
        "\n",
        "# Straight lines indicating the parameters \n",
        "ax.axhline(n_fit, color='red', label=r'$\\nu_{max}$')\n",
        "ax.axvline(K_D_fit, color='green', label=r'$K_D$')\n",
        "\n",
        "# Same as before\n",
        "ax.plot(df['Free_ligand_(M)'], df['n_bar'], 'o', color='C0')\n",
        "ax.set_xlabel('Free ligand [L] (M)', fontsize=16)\n",
        "ax.set_ylabel(r'$\\bar{n}$', fontsize=16)\n",
        "ax.legend(fontsize=16)\n",
        "plt.show()"
      ],
      "id": "1125db51"
    },
    {
      "cell_type": "markdown",
      "metadata": {},
      "source": [
        "------------------------------------------------------------------------\n",
        "\n",
        "## 4 Interpretation of binding data."
      ],
      "id": "1febdce2-f200-4261-8603-5009ae082ca5"
    },
    {
      "cell_type": "code",
      "execution_count": 46,
      "metadata": {},
      "outputs": [],
      "source": [
        "import numpy as np"
      ],
      "id": "d45826d8"
    },
    {
      "cell_type": "markdown",
      "metadata": {},
      "source": [
        "The `inter-bindin-data.xlsx` contains a protein binding dataset.\n",
        "\n",
        "#### (a) Load the dataset\n",
        "\n",
        "Load the dataset using the widget below"
      ],
      "id": "37220159-de5b-4b7e-b263-64ac22bc4590"
    },
    {
      "cell_type": "code",
      "execution_count": 47,
      "metadata": {},
      "outputs": [],
      "source": [
        "import numpy as np\n",
        "from fysisk_biokemi.widgets import DataUploader\n",
        "from IPython.display import display \n",
        "uploader = DataUploader()\n",
        "uploader.display()"
      ],
      "id": "6850f53e"
    },
    {
      "cell_type": "markdown",
      "metadata": {},
      "source": [
        "Run the next cell **after** uploading the file"
      ],
      "id": "a7035124-77d9-4854-bccd-5e17627ec27f"
    },
    {
      "cell_type": "code",
      "execution_count": 48,
      "metadata": {},
      "outputs": [],
      "source": [
        "df = uploader.get_dataframe()\n",
        "display(df)"
      ],
      "id": "ba83363d"
    },
    {
      "cell_type": "markdown",
      "metadata": {},
      "source": [
        "#### (b) SI Units\n",
        "\n",
        "Add a new column to the `DataFrame` with the ligand concentration in SI\n",
        "units."
      ],
      "id": "5907fd72-7ba9-400f-8bc5-927e8db8375c"
    },
    {
      "cell_type": "code",
      "execution_count": 50,
      "metadata": {
        "exercise": true
      },
      "outputs": [],
      "source": [
        "... # Replace ... with your code.\n",
        "display(df)"
      ],
      "id": "7200c4d7"
    },
    {
      "cell_type": "markdown",
      "metadata": {},
      "source": [
        "#### (c) Plot the data\n",
        "\n",
        "Make plots of the binding data directly with a linear and logarithmic\n",
        "x-axis.\n",
        "\n",
        "Estimate $K_D$ by visual inspection of these plots!"
      ],
      "id": "0b8b81c5-84bc-4560-851d-a91cad6ec2f9"
    },
    {
      "cell_type": "code",
      "execution_count": 52,
      "metadata": {
        "exercise": true
      },
      "outputs": [],
      "source": [
        "import matplotlib.pyplot as plt\n",
        "\n",
        "# This makes a figure with two axes.\n",
        "fig, axes = plt.subplots(1, 2, figsize=(9, 4))\n",
        "\n",
        "# Can with [0] to plot in the first axis.\n",
        "ax = axes[0]\n",
        "ax.plot(..., ..., 'o') # Replace ... with your code.\n",
        "ax.set_xlabel('[L](M)', fontsize=14)\n",
        "ax.set_ylabel(r'$\\bar{n}$', fontsize=14)\n",
        "\n",
        "ax = axes[1]\n",
        "... # Put some code here - perhaps you can copy it from somewhere?\n",
        "ax.set_xscale('log') # This make the x-axis logarithmic."
      ],
      "id": "6c10a994"
    },
    {
      "cell_type": "markdown",
      "metadata": {},
      "source": [
        "> **Note**\n",
        ">\n",
        "> Ths command `ax.set_xscale('log')` tells `matplotlib` that we want the\n",
        "> x-axis to use a log-scale."
      ],
      "id": "5c8b6392-4d85-4225-ae1c-1937e06c3498"
    },
    {
      "cell_type": "code",
      "execution_count": 54,
      "metadata": {
        "exercise": true
      },
      "outputs": [],
      "source": [
        "K_D_estimate = ..."
      ],
      "id": "6c673589"
    },
    {
      "cell_type": "markdown",
      "metadata": {},
      "source": [
        "#### (d) Make a fit\n",
        "\n",
        "Make a fit to determine $K_D$, as always we start by implementing the\n",
        "function to fit with"
      ],
      "id": "d388c74b-f974-4918-8733-adbb66a7dea5"
    },
    {
      "cell_type": "code",
      "execution_count": 56,
      "metadata": {
        "exercise": true
      },
      "outputs": [],
      "source": [
        "def ... # Give the function an appropriate name.\n",
        "    return ... # Implement the expression for nbar"
      ],
      "id": "8e445182"
    },
    {
      "cell_type": "markdown",
      "metadata": {},
      "source": [
        "And then we can make the fit"
      ],
      "id": "4ee0e32e-6319-47cd-9cc3-d72d2b99d659"
    },
    {
      "cell_type": "code",
      "execution_count": 58,
      "metadata": {
        "exercise": true
      },
      "outputs": [],
      "source": [
        "from scipy.optimize import curve_fit\n",
        "\n",
        "# Choose the variables from the dataframe\n",
        "x = ... # Choose x-data from the dataframe\n",
        "y = ... # Choose y-data from the dataframe\n",
        "\n",
        "# Initial guess\n",
        "p0 = [K_D_estimate] # Using your estimate as the initial value for K_D\n",
        "\n",
        "# Bounds\n",
        "bounds = (0, np.inf) # We limit the parameters to be positve.\n",
        "\n",
        "# Curve fit\n",
        "popt, pcov = ... # Call the curve_fit function.\n",
        "\n",
        "# Print the parameters\n",
        "K_D_fit = popt[0]\n",
        "print(f\"{K_D_fit = :e}\")"
      ],
      "id": "94840a1e"
    },
    {
      "cell_type": "markdown",
      "metadata": {},
      "source": [
        "#### (e) Compare\n",
        "\n",
        "Make a plot to compare the fit with your estimate. Start by evaluating\n",
        "the function"
      ],
      "id": "c64ffb51-d21b-41a6-833c-ede668f63c12"
    },
    {
      "cell_type": "code",
      "execution_count": 60,
      "metadata": {
        "exercise": true
      },
      "outputs": [],
      "source": [
        "# Evaluate on the fit so we can plot it.\n",
        "L_smooth = np.linspace(0, df['[L]_(M)'].max(), 100)\n",
        "nbar_fit = ...\n",
        "\n",
        "# We will also evaluate where the points are sampled on a log-scale.\n",
        "# The `geomspace` function makes points uniformly spaced on a logaritmic axis.\n",
        "L_smooth_log = np.geomspace(df['[L]_(M)'].min(), df['[L]_(M)'].max(), 100)\n",
        "nbar_fit_log = ..."
      ],
      "id": "8e43ddf9"
    },
    {
      "cell_type": "markdown",
      "metadata": {},
      "source": [
        "Now finish the code below to make the plot."
      ],
      "id": "3c75eee1-1552-49cb-ac83-195304007f4e"
    },
    {
      "cell_type": "code",
      "execution_count": 62,
      "metadata": {
        "exercise": true
      },
      "outputs": [],
      "source": [
        "# This makes a figure with two axes.\n",
        "fig, axes = plt.subplots(1, 2, figsize=(9, 4))\n",
        "\n",
        "# Index with [0] to plot in the first axis - Linear plot\n",
        "ax = axes[0]\n",
        "\n",
        "# Your code here - maybe you can copy part of it from somewhere.\n",
        "... \n",
        "\n",
        "# Index with [1] to plot in the second axis - Log plot.\n",
        "ax = axes[1]\n",
        "\n",
        "# Also your code here - maybe you can copy part of it from somewhere.\n",
        "...\n",
        "\n",
        "ax.set_xscale('log')"
      ],
      "id": "e84cfc75"
    },
    {
      "cell_type": "markdown",
      "metadata": {},
      "source": [
        "#### (f) Saturation\n",
        "\n",
        "Based on the value of $K_D$ found from the fit,\n",
        "\n",
        "-   At which concentration do you expect 10% saturation?\n",
        "-   At which concentration do you expect 90% saturation?\n",
        "\n",
        "------------------------------------------------------------------------\n",
        "\n",
        "## 5 ADP binding to pyruvate kinase."
      ],
      "id": "8bfd5a9b-939f-4403-92a0-9614ffe0cad1"
    },
    {
      "cell_type": "code",
      "execution_count": 64,
      "metadata": {},
      "outputs": [],
      "source": [
        "import matplotlib.pyplot as plt\n",
        "import numpy as np"
      ],
      "id": "a53acc29"
    },
    {
      "cell_type": "markdown",
      "metadata": {},
      "source": [
        "Based on the literature, you suspect that the binding of ADP to the\n",
        "enzyme pyruvate kinase might be coopera-tive and decide to investigate\n",
        "this by measuring the binding to the enzyme using radioactive ATP. The\n",
        "enzyme concentration was 4 μM throughout the titration, and each\n",
        "measurement was done in triplicate. The binding results were obtained at\n",
        "310 K and are given in the `.csv`-file `adp-bindin-pyruva-kinase.csv`.\n",
        "\n",
        "#### (a) Load the dataset\n",
        "\n",
        "As always, use the widget to load the dataset"
      ],
      "id": "8713c4ce-8571-4174-ac86-33fbbdefc58f"
    },
    {
      "cell_type": "code",
      "execution_count": 65,
      "metadata": {},
      "outputs": [],
      "source": [
        "from fysisk_biokemi.widgets import DataUploader\n",
        "from IPython.display import display \n",
        "uploader = DataUploader()\n",
        "uploader.display()"
      ],
      "id": "22242749"
    },
    {
      "cell_type": "markdown",
      "metadata": {},
      "source": [
        "Run the next cell **after** uploading the file"
      ],
      "id": "ab15c2d2-0b63-46a9-bd68-c7df0b146413"
    },
    {
      "cell_type": "code",
      "execution_count": 66,
      "metadata": {},
      "outputs": [],
      "source": [
        "df = uploader.get_dataframe()\n",
        "display(df)"
      ],
      "id": "793f055d"
    },
    {
      "cell_type": "markdown",
      "metadata": {},
      "source": [
        "#### (b) Units\n",
        "\n",
        "The concentrations in the dataset are given in mM, add a new column to\n",
        "the `DataFrame` with the units given in M."
      ],
      "id": "afa3f082-0f72-4203-a1e6-1eba0f6ecb72"
    },
    {
      "cell_type": "code",
      "execution_count": 68,
      "metadata": {
        "exercise": true
      },
      "outputs": [],
      "source": [
        "df['[ADPtot](M)'] = ...\n",
        "display(df)"
      ],
      "id": "eaa2da32"
    },
    {
      "cell_type": "markdown",
      "metadata": {},
      "source": [
        "#### (c) Free ADP concentration\n",
        "\n",
        "For each value of $\\bar{n}$ calculate the concentration of\n",
        "\\[ADP$_\\text{free}$\\] from \\[ADP$_\\text{tot}$\\] and \\[enzyme\\]."
      ],
      "id": "279a3b87-8ae4-46c8-b872-cd4436249d0e"
    },
    {
      "cell_type": "code",
      "execution_count": 70,
      "metadata": {
        "exercise": true
      },
      "outputs": [],
      "source": [
        "enzyme_conc = ...\n",
        "df['[ADPfree](M)'] = ...\n",
        "display(df)"
      ],
      "id": "a0463109"
    },
    {
      "cell_type": "markdown",
      "metadata": {},
      "source": [
        "#### (d) Make a plot\n",
        "\n",
        "Make a plot of the free ligand concentration versus $\\bar{n}$."
      ],
      "id": "37212d48-110d-4c11-ad09-1444cd5e0b70"
    },
    {
      "cell_type": "code",
      "execution_count": 72,
      "metadata": {
        "exercise": true
      },
      "outputs": [],
      "source": [
        "fig, ax = plt.subplots(figsize=(7, 4))\n",
        "\n",
        "# Write the code to make the plot.\n",
        "# Add the arguments:  marker='o', linestyle='none' to only plot points and not line segments.\n",
        "... # Add your code here!\n",
        "\n",
        "ax.set_xlabel(r'$[\\text{ADP}_{\\text{free}}]$', fontsize=14)\n",
        "ax.set_ylabel(r'$\\bar{n}$', fontsize=14)"
      ],
      "id": "5e42f9f6"
    },
    {
      "cell_type": "markdown",
      "metadata": {},
      "source": [
        "#### (f) Preparing for fitting\n",
        "\n",
        "To fit we need a implement the function we want to fit the parameters\n",
        "of, the functional form is\n",
        "\n",
        "$$\n",
        "n = n_{\\text{max}} \\frac{[L]^h}{K_D + [L]^h}\n",
        "$$"
      ],
      "id": "9efb293d-ff7b-4275-83cb-b6187d031185"
    },
    {
      "cell_type": "code",
      "execution_count": 74,
      "metadata": {
        "exercise": true
      },
      "outputs": [],
      "source": [
        "def n_bound(L, n_max, K_D, h):\n",
        "    return ...\n",
        "\n",
        "print(f\"{n_bound(1, 1, 1, 1) = }\") # Should give 1/2\n",
        "print(f\"{n_bound(21, 47, 2.5, 1) = }\") # Should give 42\n",
        "print(f\"{n_bound(21, 47, 2.5, 2) = }\") # Should give 46.73.."
      ],
      "id": "5a08eb62"
    },
    {
      "cell_type": "markdown",
      "metadata": {},
      "source": [
        "#### (e) Fitting\n",
        "\n",
        "Finish the code below to create a fit."
      ],
      "id": "9cf47244-b273-418d-8225-60494010336a"
    },
    {
      "cell_type": "code",
      "execution_count": 76,
      "metadata": {
        "exercise": true
      },
      "outputs": [],
      "source": [
        "from scipy.optimize import curve_fit\n",
        "\n",
        "# Choose the variables from the dataframe\n",
        "x = df['[ADPfree](M)']\n",
        "y = df['nbar']\n",
        "\n",
        "# Initial guess\n",
        "K_D_guess = ... # Your initial guess for K_D \n",
        "n_max_guess = ... # Your initial guess for nu_max\n",
        "h = ... # Your initial guess for the exponent.\n",
        "p0 = [K_D_guess, n_max_guess, n_exp]\n",
        "\n",
        "# Bounds\n",
        "bounds = (0, np.inf) # We limit the parameters to be positve.\n",
        "\n",
        "# Curve fit\n",
        "popt, pcov = curve_fit(n_bound, x, y, p0=p0, bounds=bounds)\n",
        "\n",
        "# Print the parameters\n",
        "n_max_fit, K_D_fit, h_fit = popt\n",
        "print(f\"{n_max_fit = :1.3f} \")\n",
        "print(f\"{K_D_fit = :e}\")\n",
        "print(f\"{h_fit = :1.3f} \")"
      ],
      "id": "1717ff26"
    },
    {
      "cell_type": "markdown",
      "metadata": {},
      "source": [
        "Once we’ve obtained the fitted parameters we can plot the fit together\n",
        "with the data."
      ],
      "id": "6cfaae82-5791-4510-88b6-63c570499b4c"
    },
    {
      "cell_type": "code",
      "execution_count": 78,
      "metadata": {
        "exercise": true
      },
      "outputs": [],
      "source": [
        "L = np.linspace(0, 1.2 * x.max(), 50)\n",
        "n = n_bound(L, n_max_fit, K_D_fit, h_fit)\n",
        "\n",
        "fig, ax = plt.subplots(figsize=(7, 4))\n",
        "ax.plot(df['[ADPfree](M)'], df['nbar'], 'o', label='Observations')\n",
        "ax.plot(L, n)\n",
        "ax.axvline(K_D_fit, color='k', linewidth=0.5, linestyle='--')\n",
        "ax.axhline(n_max_fit, color='k', linewidth=0.5, linestyle='--')\n",
        "\n",
        "\n",
        "ax.set_xlabel(r'$[\\text{ADP}_{\\text{free}}]$', fontsize=14)\n",
        "ax.set_ylabel(r'$\\bar{n}$', fontsize=14)\n",
        "ax.set_ylim([0, n.max()*1.1])"
      ],
      "id": "1329bfef"
    },
    {
      "cell_type": "markdown",
      "metadata": {},
      "source": [
        "**Question**: Is the binding cooperative?\n",
        "\n",
        "#### (f) Free energy\n",
        "\n",
        "Calculate the free energy for the association of the ADP-pyruvate kinase\n",
        "complex assuming\n",
        "$R = 8.314472 \\times 10^{-3} \\ \\frac{\\text{kJ}}{\\text{mol} \\cdot \\text{K}}$\n",
        "and $T = 310 \\ \\text{K}$.\n",
        "\n",
        "> **Tip**\n",
        ">\n",
        "> Consider the difference between association and dissociation\n",
        "\n",
        "Start by defining the two given constants as variables"
      ],
      "id": "e92c72b0-3bdb-4002-9fa6-b1d3c7f46282"
    },
    {
      "cell_type": "code",
      "execution_count": 80,
      "metadata": {
        "exercise": true
      },
      "outputs": [],
      "source": [
        "R = ...\n",
        "T = ..."
      ],
      "id": "f489ef3e"
    },
    {
      "cell_type": "markdown",
      "metadata": {},
      "source": [
        "And do the calculation"
      ],
      "id": "9122c36a-bd8b-4352-8751-d4edeb751d00"
    },
    {
      "cell_type": "code",
      "execution_count": 82,
      "metadata": {
        "exercise": null
      },
      "outputs": [],
      "source": [
        "delta_G = ...\n",
        "print(f\"{delta_G = :.3f} kJ/mol\")"
      ],
      "id": "6158b89b"
    },
    {
      "cell_type": "markdown",
      "metadata": {},
      "source": [
        "------------------------------------------------------------------------\n",
        "\n",
        "## 6 Determination of type and strength of cooperativity"
      ],
      "id": "1d12343a-7e76-4891-9a47-a18b0dd5de40"
    },
    {
      "cell_type": "code",
      "execution_count": 84,
      "metadata": {},
      "outputs": [],
      "source": [
        "import matplotlib.pyplot as plt\n",
        "import numpy as np"
      ],
      "id": "f82545c5"
    },
    {
      "cell_type": "markdown",
      "metadata": {},
      "source": [
        "The binding of NAD+ to the protein yeast glyceraldehyde 3-phosphate\n",
        "dehydrogenase (GAPDH) was studied using equilibrium dialysis. The enzyme\n",
        "concentration was 71 μM. The concentration of\n",
        "$[\\text{NAD}^{+}_\\text{free}]$ and the corresponding values of $\\bar{n}$\n",
        "were determined with the resulting data found in the dataset\n",
        "`deter-type-streng-coope.xlsx`.\n",
        "\n",
        "The dataset consists of three independent repititions of the same\n",
        "experiment.\n",
        "\n",
        "#### (a) Load the dataset\n",
        "\n",
        "Load the dataset using the widget below"
      ],
      "id": "7bff29c0-6bd8-4e19-98c0-e5366b887054"
    },
    {
      "cell_type": "code",
      "execution_count": 85,
      "metadata": {},
      "outputs": [],
      "source": [
        "from fysisk_biokemi.widgets import DataUploader\n",
        "from IPython.display import display \n",
        "uploader = DataUploader()\n",
        "uploader.display()"
      ],
      "id": "2f39fd77"
    },
    {
      "cell_type": "markdown",
      "metadata": {},
      "source": [
        "Run the next cell **after** uploading the file"
      ],
      "id": "0e89d2d1-631b-4c85-9d81-47600eb041df"
    },
    {
      "cell_type": "code",
      "execution_count": 86,
      "metadata": {},
      "outputs": [],
      "source": [
        "df = uploader.get_dataframe()\n",
        "display(df)"
      ],
      "id": "ecd08646"
    },
    {
      "cell_type": "markdown",
      "metadata": {},
      "source": [
        "#### (b) Averaging and units.\n",
        "\n",
        "Start by adding a new column to the `DataFrame` with the average value\n",
        "of $\\bar{n}$ across the three series\n",
        "\n",
        "> **Tip**\n",
        ">\n",
        "> Remember that you can set a new column based on a computation using\n",
        "> one or more other columns, e.g. \n",
        ">\n",
        "> ``` python\n",
        "> df['new_col'] = df['col1'] + df['col2']\n",
        "> ```"
      ],
      "id": "23be599a-9417-429d-b04b-3b49432a3269"
    },
    {
      "cell_type": "code",
      "execution_count": 88,
      "metadata": {
        "exercise": true
      },
      "outputs": [],
      "source": [
        "df['nbar_avg'] = ..."
      ],
      "id": "82d961ed"
    },
    {
      "cell_type": "markdown",
      "metadata": {},
      "source": [
        "Now also add a column with the ligand concentration in SI units with the\n",
        "column-name `[NAD+free]_(M)`."
      ],
      "id": "e9006869-caba-4cba-b128-d4fb38debc73"
    },
    {
      "cell_type": "code",
      "execution_count": 90,
      "metadata": {
        "exercise": true
      },
      "outputs": [],
      "source": [
        "... # Your code here. \n",
        "display(df)"
      ],
      "id": "140a66d0"
    },
    {
      "cell_type": "markdown",
      "metadata": {},
      "source": [
        "Finally, set the concentration of the GADPH in SI units"
      ],
      "id": "c38bd31d-62ea-4064-97f8-6ce24c89eaae"
    },
    {
      "cell_type": "code",
      "execution_count": 92,
      "metadata": {},
      "outputs": [],
      "source": [
        " c_gadph = 71 * 10**(-6)"
      ],
      "id": "c1229f15"
    },
    {
      "cell_type": "markdown",
      "metadata": {},
      "source": [
        "#### (c) Plot\n",
        "\n",
        "Make a plot of the average $\\bar{n}$ as a function of\n",
        "$[\\text{NAD}^{+}_\\text{free}]$."
      ],
      "id": "c914e80e-18a4-4d92-a6d2-524531a9a376"
    },
    {
      "cell_type": "code",
      "execution_count": 93,
      "metadata": {
        "exercise": true
      },
      "outputs": [],
      "source": [
        "fig, ax = plt.subplots(figsize=(8, 4))\n",
        "\n",
        "# Your code to plot here.\n",
        "... \n",
        "\n",
        "# This sets the labels.\n",
        "ax.set_xlabel(r'$[\\text{NAD}^{+}_\\text{free}]$', fontsize=14)\n",
        "ax.set_ylabel(r'$\\bar{n}$', fontsize=14)\n",
        "plt.show()"
      ],
      "id": "005824ac"
    },
    {
      "cell_type": "markdown",
      "metadata": {},
      "source": [
        "#### (d) Scatchard plot\n",
        "\n",
        "Make a Scatchard plot based on the average $\\bar{n}$."
      ],
      "id": "559957e6-eefa-4445-a8fc-5099e91061f4"
    },
    {
      "cell_type": "code",
      "execution_count": 95,
      "metadata": {
        "exercise": true
      },
      "outputs": [],
      "source": [
        "# Calculate nbar / L \n",
        "nbar_over_L = ...\n",
        "\n",
        "fig, ax = plt.subplots(figsize=(6, 4)) \n",
        "\n",
        "ax.plot(..., ... 'o') # Plot the right thins. \n",
        "\n",
        "ax.set_xlabel(r'$\\bar{n}$', fontsize=14)\n",
        "ax.set_ylabel(r'$\\bar{n}/L$', fontsize=14)\n",
        "ax.set_xlim([0, df['nbar_avg'].max()*1.2])\n",
        "ax.set_ylim([0, nbar_over_L.max() * 1.2])"
      ],
      "id": "0f47ca80"
    },
    {
      "cell_type": "markdown",
      "metadata": {},
      "source": [
        "#### (e) Binding sites\n",
        "\n",
        "Estimate by eye how many bindings sites GAPDH contains for\n",
        "$\\text{NAD}^{+}$?\n",
        "\n",
        "#### (f) Cooperativity\n",
        "\n",
        "Based on a visual inspection of the plot above, are there in signs of\n",
        "cooperativity? If so, which kind?\n",
        "\n",
        "#### (g) Fit\n",
        "\n",
        "> **Note**\n",
        ">\n",
        "> The function `np.concatenate` takes a number of arrays and makes a new\n",
        "> array that consisting of the originals one after each other. For\n",
        "> example,\n",
        ">\n",
        "> ``` python\n",
        "> A = np.array([1, 2, 3])\n",
        "> B = np.array([4, 5, 6])\n",
        "> C = np.concatenate([A, B])\n",
        "> print(C)\n",
        "> ```\n",
        ">\n",
        ">     [1 2 3 4 5 6]\n",
        "\n",
        "Make a fit using the functional form\n",
        "\n",
        "$$\n",
        "\\bar{n} = N \\frac{[L]^h}{K_D + [L]^h}\n",
        "$$\n",
        "\n",
        "As usual, start by defining the function in Python"
      ],
      "id": "061cbc8d-3310-4386-b320-fec525a234ad"
    },
    {
      "cell_type": "code",
      "execution_count": 99,
      "metadata": {
        "exercise": true
      },
      "outputs": [],
      "source": [
        "def n_bar(L, N, k_d, h):\n",
        "    # Replace ... with your code.\n",
        "    # Be careful with parentheses.\n",
        "    result = ...\n",
        "    return result "
      ],
      "id": "de6ff5dc"
    },
    {
      "cell_type": "markdown",
      "metadata": {},
      "source": [
        "Now we can fit"
      ],
      "id": "e97a8318-a76f-4e63-afe1-2abe73931693"
    },
    {
      "cell_type": "code",
      "execution_count": 100,
      "metadata": {
        "exercise": true
      },
      "outputs": [],
      "source": [
        "from scipy.optimize import curve_fit\n",
        "\n",
        "# This selects the '[NAD+free]_(m)'-column three times and stitches it together.\n",
        "x = np.concatenate([df['[NAD+free]_(M)'], df['[NAD+free]_(M)'], df['[NAD+free]_(M)']])\n",
        "# Do the same to stitch together the nbar1, nbar2 and nbar3 columns.\n",
        "y = ...\n",
        "\n",
        "# Initial guess\n",
        "p0 = [..., ..., ...]\n",
        "\n",
        "# Bounds\n",
        "bounds = (0, np.inf) # We limit the parameters to be positve.\n",
        "\n",
        "# Curve fit\n",
        "popt, pcov = curve_fit(n_bar, x, y, p0=p0, bounds=bounds)\n",
        "\n",
        "# Print the parameters\n",
        "N_fit, k_d_fit, h_fit = popt\n",
        "print(f\"{N_fit = :.3f}\")\n",
        "print(f\"{k_d_fit = :e}\")\n",
        "print(f\"{h_fit = :.3f}\")"
      ],
      "id": "b0589b1c"
    },
    {
      "cell_type": "markdown",
      "metadata": {},
      "source": [
        "Do the fitted parameters support your intuitive reading of the type of\n",
        "kooperativity\n",
        "\n",
        "> **Note**\n",
        ">\n",
        "> In the data sets used, repeated experiments were given as a three\n",
        "> seperate columns, which is a quite natural way of recording data\n",
        "> during an experiment. However, it is not an appropriate format for\n",
        "> regression, where we want all the data-points in a single column. In\n",
        "> this exercise we did a bit of *data wrangling* to make the data\n",
        "> appropriate for what we want to do with it - in this case by creating\n",
        "> a new joint column containing all the data by using the\n",
        "> `np.concatenate` function.\n",
        "\n",
        "------------------------------------------------------------------------\n",
        "\n",
        "## 7 Competition in ligand binding\n",
        "\n",
        "Below is given the general expression for saturation of a binding site\n",
        "by one of the ligands, $L$, when two ligands $L$ and $C$ are competing\n",
        "for binding to the same site on a protein. Assume that $[P_T] = 10^{-9}$\n",
        "$\\mathrm{M}$.\n",
        "\n",
        "$$\n",
        "\\theta_L = \\frac{[PL]}{[P_T]} = \\frac{1}{\\frac{K_D}{[L]}\\left(1 + \\frac{[C]}{K_C}\\right) + 1}\n",
        "$$\n",
        "\n",
        "Consider these four situations\n",
        "\n",
        "| \\# | $K_D$ | $[L_T]$ | $K_C$ | $[C_T]$ |\n",
        "|------|-----------------|-----------------|-----------------|-----------------|\n",
        "| 1 | $1·10^{-5}$ $\\mathrm{M}$ | $1·10^{-3}$ $\\mathrm{M}$ | $1·10^{-6}$ $\\mathrm{M}$ | $0$ |\n",
        "| 2 | $1·10^{-5}$ $\\mathrm{M}$ | $1·10^{-3}$ $\\mathrm{M}$ | $1·10^{-6}$ $\\mathrm{M}$ | $1·10^{-2}$ $\\mathrm{M}$ |\n",
        "| 3 | $1·10^{-5}$ $\\mathrm{M}$ | $1·10^{-3}$ $\\mathrm{M}$ | $1·10^{-5}$ $\\mathrm{M}$ | $1·10^{-3}$ $\\mathrm{M}$ |\n",
        "| 4 | $1·10^{-5}$ $\\mathrm{M}$ | $1·10^{-5}$ $\\mathrm{M}$ | $1·10^{-6}$ $\\mathrm{M}$ | $1·10^{-6}$ $\\mathrm{M}$ |\n",
        "\n",
        "##### (a) Explain simplification\n",
        "\n",
        "Explain how the fact that $[P_T]$ is much smaller than $[L_T]$ and\n",
        "$[C_T]$ simplifies the calculations using the above equation.\n",
        "\n",
        "#### (b) Ligand degree of saturation\n",
        "\n",
        "Calculate the degree of saturation of the protein with ligand $L$ in the\n",
        "four situations.\n",
        "\n",
        "Start by writing a Python function that calculates the degree of\n",
        "saturation $\\theta$."
      ],
      "id": "8b225a2a-80bf-4c8e-bd72-579e23633a35"
    },
    {
      "cell_type": "code",
      "execution_count": 102,
      "metadata": {
        "exercise": true
      },
      "outputs": [],
      "source": [
        "def bound_fraction(L, C, Kd, Kc):\n",
        "    # Write the equation for binding saturation. Be careful with parentheses!\n",
        "    theta = ... \n",
        "    return theta"
      ],
      "id": "64dbe55e"
    },
    {
      "cell_type": "markdown",
      "metadata": {},
      "source": [
        "Then use that function to calculate $\\theta_L$ for each situation."
      ],
      "id": "ae508381-6828-4740-af70-87981ce45d07"
    },
    {
      "cell_type": "code",
      "execution_count": 104,
      "metadata": {
        "exercise": true
      },
      "outputs": [],
      "source": [
        "theta_L_1 = bound_fraction(..., ..., ..., ...)\n",
        "theta_L_2 = ...\n",
        "theta_L_3 = ...\n",
        "theta_L_4 = ...\n",
        "print(f\"{theta_L_1 = :.3f}\")\n",
        "print(f\"{theta_L_2 = :.3f}\")\n",
        "print(f\"{theta_L_3 = :.3f}\")\n",
        "print(f\"{theta_L_4 = :.3f}\")"
      ],
      "id": "cf2c5d95"
    },
    {
      "cell_type": "markdown",
      "metadata": {},
      "source": [
        "#### (c) Competitor degree of saturation\n",
        "\n",
        "What is the degree of saturation with respect to the competitor $C$ in\n",
        "#1, #2, #3 and #4?"
      ],
      "id": "2217efb3-d98f-4d57-87ea-fe623700d2ec"
    },
    {
      "cell_type": "code",
      "execution_count": 106,
      "metadata": {
        "exercise": true
      },
      "outputs": [],
      "source": [
        "theta_C_1 = ...\n",
        "theta_C_2 = ...\n",
        "theta_C_3 = ...\n",
        "theta_C_4 = ...\n",
        "\n",
        "print(f\"{theta_C_1 = :.3f}\")\n",
        "print(f\"{theta_C_2 = :.3f}\")\n",
        "print(f\"{theta_C_3 = :.3f}\")\n",
        "print(f\"{theta_C_4 = :.3f}\")"
      ],
      "id": "f16fae2f"
    },
    {
      "cell_type": "markdown",
      "metadata": {},
      "source": [
        "#### (d) Fraction of $[P_{\\mathrm{free}}]$\n",
        "\n",
        "What is the fraction of $[P_{\\mathrm{free}}]$ in #1, #2, #3 and #4?\n",
        "\n",
        "> **Tip**\n",
        ">\n",
        "> Consider how to express the fraction of $[P_{\\mathrm{free}}]$ in terms\n",
        "> of `theta_L_X` and `theta_C_X`."
      ],
      "id": "8298ca94-34d1-4353-949c-e13575021c2b"
    },
    {
      "cell_type": "code",
      "execution_count": 108,
      "metadata": {
        "exercise": true
      },
      "outputs": [],
      "source": [
        "theta_free_1 = ...\n",
        "theta_free_2 = ...\n",
        "theta_free_3 = ...\n",
        "theta_free_4 = ...\n",
        "\n",
        "print(f\"{theta_free_1 = :.3f}\")\n",
        "print(f\"{theta_free_2 = :.3f}\")\n",
        "print(f\"{theta_free_3 = :.3f}\")\n",
        "print(f\"{theta_free_4 = :.3f}\")"
      ],
      "id": "f82320f7"
    },
    {
      "cell_type": "markdown",
      "metadata": {},
      "source": [
        "#### (e) Qualitative analysis\n",
        "\n",
        "Describe in your own words why these four competitive situations end up\n",
        "with their respective binding patterns. Consider the relative\n",
        "concentrations and affinities of ligands L and C.\n",
        "\n",
        "------------------------------------------------------------------------\n",
        "\n",
        "## 8 Difference between $Q$ and $K_{eq}$"
      ],
      "id": "7c969dba-1868-4a36-aa8f-1f2f4f883aef"
    },
    {
      "cell_type": "code",
      "execution_count": 110,
      "metadata": {},
      "outputs": [],
      "source": [
        "import matplotlib.pyplot as plt\n",
        "import pandas as pd\n",
        "pd.set_option('display.max_rows', 6)"
      ],
      "id": "1ab7f4bc"
    },
    {
      "cell_type": "markdown",
      "metadata": {},
      "source": [
        "Consider the reaction:\n",
        "\n",
        "$$\n",
        "A \\rightleftarrows B\n",
        "$$\n",
        "\n",
        "The time course of the reaction was followed monitoring formation of the\n",
        "product $B$. The starting concentration of $A$ was 50 µM, and as you\n",
        "will learn later in the course, the reversible reaction going from $A$\n",
        "to $B$ follows first order kinetics.\n",
        "\n",
        "#### (a) Load & convert\n",
        "\n",
        "The data is contained in the `diff_q_keq_data.xlsx` file."
      ],
      "id": "d2bc15a5-89a2-480a-9abc-6ba1aa414e25"
    },
    {
      "cell_type": "code",
      "execution_count": 111,
      "metadata": {},
      "outputs": [],
      "source": [
        "from fysisk_biokemi.widgets import DataUploader\n",
        "from IPython.display import display \n",
        "uploader = DataUploader()\n",
        "uploader.display()"
      ],
      "id": "3d9c5f27"
    },
    {
      "cell_type": "markdown",
      "metadata": {},
      "source": [
        "Run the next cell **after** uploading the file"
      ],
      "id": "003f3240-72f8-4c04-a52d-46d91f5bc416"
    },
    {
      "cell_type": "code",
      "execution_count": 112,
      "metadata": {},
      "outputs": [],
      "source": [
        "df = uploader.get_dataframe()\n",
        "display(df)"
      ],
      "id": "c5c7d163"
    },
    {
      "cell_type": "markdown",
      "metadata": {},
      "source": [
        "Convert the measured concentrations of $B$, $[B]$, to concentrations in\n",
        "the SI-unit $\\mathrm{M} \\ (\\mathrm{mol/L})$. Repeat for the starting\n",
        "concentration of $A$, $[A]_0$."
      ],
      "id": "0886f71d-06ab-4662-9ac1-1d64d8fcbf3d"
    },
    {
      "cell_type": "code",
      "execution_count": 114,
      "metadata": {
        "exercise": true
      },
      "outputs": [],
      "source": [
        "df['[B]_(M)'] = ...\n",
        "A0 = ..."
      ],
      "id": "50c8b0fa"
    },
    {
      "cell_type": "markdown",
      "metadata": {},
      "source": [
        "#### (b) Law of mass balance\n",
        "\n",
        "Use the laws of mass balance to calculate $[A]$ as a function of time in\n",
        "the unit $\\mathrm{M}$, add it as a column to the `DataFrame`"
      ],
      "id": "15774231-e8b8-4a0a-81a3-89f1a56f1542"
    },
    {
      "cell_type": "code",
      "execution_count": 116,
      "metadata": {
        "exercise": true
      },
      "outputs": [],
      "source": [
        "... # Your code here."
      ],
      "id": "47f5c773"
    },
    {
      "cell_type": "markdown",
      "metadata": {},
      "source": [
        "#### (c) Mass action ratio\n",
        "\n",
        "Calculate and plot the mass action ratio $Q$ as a function of time."
      ],
      "id": "4d0b6678-1c7d-4f1a-9304-3d723689ff74"
    },
    {
      "cell_type": "code",
      "execution_count": 118,
      "metadata": {
        "exercise": true
      },
      "outputs": [],
      "source": [
        "Q = ... # calculate Q "
      ],
      "id": "94277ff3"
    },
    {
      "cell_type": "code",
      "execution_count": 119,
      "metadata": {
        "exercise": true
      },
      "outputs": [],
      "source": [
        "fig, ax = plt.subplots(figsize=(6, 4))\n",
        "\n",
        "... # Make the plot"
      ],
      "id": "70afa294"
    },
    {
      "cell_type": "markdown",
      "metadata": {},
      "source": [
        "#### (d) $Q$ vs $K_{eq}$\n",
        "\n",
        "What is the difference between $Q$ and $K_{eq}$?\n",
        "\n",
        "#### (e) Favoured compound\n",
        "\n",
        "Which of the two compounds $A$ and $B$ is favored at equilibrium?\n",
        "(Favored: highest concentration)\n",
        "\n",
        "#### (f) Equilibrium constant\n",
        "\n",
        "What is the equilibrium constant of this reaction?\n",
        "\n",
        "#### (g) Reequilibriate\n",
        "\n",
        "Assume that an additional $10 \\times 10^{-6} \\mathrm{M}$ $A$ is added at\n",
        "timepoint, $t=35$ min. What is the concentrations of $A$ and $B$ when\n",
        "equilibrium has been reached again say at $t > 70$ min?\n",
        "\n",
        " \n",
        "\n",
        "------------------------------------------------------------------------\n",
        "\n",
        "## 9 Determination of ΔH° for a reaction from the van’t Hoff plot."
      ],
      "id": "845e27aa-6669-4a92-9f1d-19d5f6ffa909"
    },
    {
      "cell_type": "code",
      "execution_count": 121,
      "metadata": {},
      "outputs": [],
      "source": [
        "import matplotlib.pyplot as plt\n",
        "from scipy.optimize import curve_fit\n",
        "import numpy as np"
      ],
      "id": "ed658575"
    },
    {
      "cell_type": "markdown",
      "metadata": {},
      "source": [
        "The equilibrium constant for a reversible reaction going from $A$ to $B$\n",
        "was measured as a function of temperature.\n",
        "\n",
        "The data obtained is given in the Excel document\n",
        "`deter_delta_h_data.xlsx` - load the data with the widget"
      ],
      "id": "5cc6d818-afe0-4d44-94ad-ee5029b93690"
    },
    {
      "cell_type": "code",
      "execution_count": 122,
      "metadata": {},
      "outputs": [],
      "source": [
        "from fysisk_biokemi.widgets import DataUploader\n",
        "from IPython.display import display \n",
        "uploader = DataUploader()\n",
        "uploader.display()"
      ],
      "id": "270964d8"
    },
    {
      "cell_type": "markdown",
      "metadata": {},
      "source": [
        "Run the next cell **after** uploading the file"
      ],
      "id": "f75a6043-dccb-4963-9a1b-3ea623dce6e4"
    },
    {
      "cell_type": "code",
      "execution_count": 123,
      "metadata": {},
      "outputs": [],
      "source": [
        "df = uploader.get_dataframe()\n",
        "display(df)"
      ],
      "id": "6c538607"
    },
    {
      "cell_type": "markdown",
      "metadata": {},
      "source": [
        "#### (a) Transform & plot the data\n",
        "\n",
        "> **Tip**\n",
        ">\n",
        "> In NumPy the `np.log` function calculates the natural logarithm that\n",
        "> we often write as $\\ln$ and `np.log10` calculates the base 10\n",
        "> logarithm.\n",
        "\n",
        "Add new columns to the `DataFrame` containing $\\ln(K_{eq})$ and $1/T$\n",
        "and make a plot with $1/T$ on the x-axis and $\\ln(K_{eq})$ on the\n",
        "y-axis."
      ],
      "id": "e3a03531-8f0c-4eb9-a53c-8c95c54c082a"
    },
    {
      "cell_type": "code",
      "execution_count": 125,
      "metadata": {
        "exercise": true
      },
      "outputs": [],
      "source": [
        "df['1/T'] = ...\n",
        "df['ln_Keq'] = ..."
      ],
      "id": "3b3f8c8f"
    },
    {
      "cell_type": "markdown",
      "metadata": {},
      "source": [
        "Now you can make the plot in the cell below"
      ],
      "id": "18af4f91-3ca7-484e-9c1f-9450f4ae5ed3"
    },
    {
      "cell_type": "code",
      "execution_count": 127,
      "metadata": {
        "exercise": true
      },
      "outputs": [],
      "source": [
        "fig, ax = plt.subplots(figsize=(6, 4))\n",
        "\n",
        "... # Your code here.\n",
        "\n",
        "ax.set_xlabel(...)\n",
        "ax.set_ylabel(...)"
      ],
      "id": "b0d9f5b4"
    },
    {
      "cell_type": "markdown",
      "metadata": {},
      "source": [
        "#### (b) Fit trendline\n",
        "\n",
        "Make a linear trendline by fitting a linear function to the data.\n",
        "\n",
        "Start by defining a linear function"
      ],
      "id": "8d20644d-feb7-4de8-9ba8-0cb696b13c1b"
    },
    {
      "cell_type": "code",
      "execution_count": 129,
      "metadata": {
        "exercise": true
      },
      "outputs": [],
      "source": [
        "def vant_hoff(T, a, b):\n",
        "    return ... # Your code here."
      ],
      "id": "ec1da896"
    },
    {
      "cell_type": "code",
      "execution_count": 131,
      "metadata": {
        "exercise": true
      },
      "outputs": [],
      "source": [
        "popt, pcov = ...\n",
        "a, b = popt\n",
        "\n",
        "print(f\"{a:.3f}\")\n",
        "print(f\"{b:.3f}\")"
      ],
      "id": "5c8ba54b"
    },
    {
      "cell_type": "markdown",
      "metadata": {},
      "source": [
        "Then make a plot with the trendline added"
      ],
      "id": "4f509961-a461-408b-a932-431b76bd0de6"
    },
    {
      "cell_type": "code",
      "execution_count": 133,
      "metadata": {
        "exercise": true
      },
      "outputs": [],
      "source": [
        "fig, ax = plt.subplots(figsize=(6, 4))\n",
        "T_trend = ... # Select or make some appropriate points for the plotting evaluating the trendline.\n",
        "\n",
        "# Your code to plot under this line: \n",
        "...\n",
        "...\n",
        "..."
      ],
      "id": "ac6ec07e"
    },
    {
      "cell_type": "markdown",
      "metadata": {},
      "source": [
        "#### (c) Reaction type\n",
        "\n",
        "Calculate the reaction enthalpy and entropy, at $T = 298 \\ \\mathrm{K}$,\n",
        "assuming that\n",
        "$R = 8.314472 \\times 10^{-3} \\ \\frac{\\mathrm{kJ}}{\\mathrm{mol}\\cdot\\mathrm{K}}$.\n",
        "Is the reaction endo- or exothermic?"
      ],
      "id": "45cbab4e-69dc-4939-8519-278edf034d8e"
    },
    {
      "cell_type": "code",
      "execution_count": 136,
      "metadata": {
        "exercise": true
      },
      "outputs": [],
      "source": [
        "# Define your known values:\n",
        "R = ...\n",
        "T = ...\n",
        "\n",
        "# Calculate the reaction enthalpy and reaction entropy\n",
        "dH = ...\n",
        "dS = ...\n",
        "\n",
        "print(f\"{dH = :.3f}\")\n",
        "print(f\"{dS = :.3f}\")"
      ],
      "id": "b559f7a5"
    },
    {
      "cell_type": "markdown",
      "metadata": {},
      "source": [
        "#### (d) Free energy change\n",
        "\n",
        "Calculate the free energy change, $\\Delta G^\\circ$, at\n",
        "$T = 298 \\ \\mathrm{K}$, assuming that\n",
        "$R = 8.314472 \\times 10^{-3} \\ \\frac{\\mathrm{kJ}}{\\mathrm{mol}\\cdot\\mathrm{K}}$"
      ],
      "id": "ff4634df-7d40-46bc-a177-9be52d82e6a0"
    },
    {
      "cell_type": "code",
      "execution_count": 137,
      "metadata": {
        "exercise": true
      },
      "outputs": [],
      "source": [
        "# Define your known values:\n",
        "R = ...\n",
        "T = ...\n",
        "\n",
        "# Perform your calculation: \n",
        "dG = ...\n",
        "\n",
        "print(f\"{dG = :.3f}\")"
      ],
      "id": "c4f28edf"
    },
    {
      "cell_type": "markdown",
      "metadata": {},
      "source": [
        "------------------------------------------------------------------------\n",
        "\n",
        "## 10 ATP hydrolysis"
      ],
      "id": "afb6d003-48e8-4dae-9757-11dd81be5b9e"
    },
    {
      "cell_type": "code",
      "execution_count": 139,
      "metadata": {},
      "outputs": [],
      "source": [
        "import numpy as np"
      ],
      "id": "ab3e19e0"
    },
    {
      "cell_type": "markdown",
      "metadata": {},
      "source": [
        "Below is shown the structure of ATP.\n",
        "\n",
        "$\\Delta G^\\circ$ for the hydrolysis of ATP to ADP and Pi is\n",
        "$-30.5 \\ \\mathrm{kJ/mol}$.\n",
        "\n",
        "![](https://raw.githubusercontent.com/au-mbg/fysisk-biokemi/refs/heads/main/course/lessons/figures/atp_structure.png)\n",
        "\n",
        "#### (a) $\\Delta G$\n",
        "\n",
        "In cells at $298 \\ \\mathrm{K}$ the steady state concentrations of ATP,\n",
        "ADP og Pi resulted in a value for the reaction quotient\n",
        "$Q = \\frac{\\mathrm{[ADP]}[\\mathrm{Pi}]}{[\\mathrm{ATP}]} = 0.002$.\n",
        "Calculate ΔG’ under these conditions."
      ],
      "id": "7b6e5c3f-aad8-4b25-bf98-15294600bae5"
    },
    {
      "cell_type": "code",
      "execution_count": 140,
      "metadata": {
        "exercise": true
      },
      "outputs": [],
      "source": [
        "# Known values:\n",
        "dG_std = ... # kJ / mol\n",
        "Q = ...\n",
        "T = ...\n",
        "... # One more might be useful.\n",
        "\n",
        "# Calculation:\n",
        "dG = dG_std + R*T*np.log(Q)\n",
        "print(dG)"
      ],
      "id": "b5d43a6e"
    },
    {
      "cell_type": "markdown",
      "metadata": {},
      "source": [
        "#### (b) Equilibrium or not?\n",
        "\n",
        "Assuming that the temperature within these cells is $298 \\ \\mathrm{K}$,\n",
        "are these cells in equilibrium with respect to the hydrolysis of ATP?\n",
        "\n",
        "#### (c) ATP synthesized\n",
        "\n",
        "Calculate the number of moles of ATP synthesized by a resting person in\n",
        "a period of 24 hours, assuming that the energy consumption by this\n",
        "person is $8368 \\ \\mathrm{kJ}$ per 24 hours and that 40% of this energy\n",
        "is converted directly into ATP without loss of energy. Use the ΔG’ value\n",
        "calculated in question a, and assume that $298 \\ \\mathrm{K}$."
      ],
      "id": "4fa6d0ed-5e4a-453b-999b-ab240c068066"
    },
    {
      "cell_type": "code",
      "execution_count": 142,
      "metadata": {
        "exercise": true
      },
      "outputs": [],
      "source": [
        "energy_atp = ...\n",
        "synth_atp = ...\n",
        "print(synth_atp)"
      ],
      "id": "4e8e253b"
    },
    {
      "cell_type": "markdown",
      "metadata": {},
      "source": [
        "> **Tip**\n",
        ">\n",
        "> You can use `np.absolute` to calculate the absolute value of a number.\n",
        "\n",
        "#### (d) Turnover\n",
        "\n",
        "Next, calculate the average number of times each ATP molecule is turned\n",
        "over (synthesis followed by hydrolysis) in 24 hours when the total\n",
        "amount of ATP in the body equals $0.2 \\ \\mathrm{mol}$."
      ],
      "id": "521eee79-8641-48c3-9f50-3a57c65ddcad"
    },
    {
      "cell_type": "code",
      "execution_count": 144,
      "metadata": {
        "exercise": true
      },
      "outputs": [],
      "source": [
        "... # Your calculation here"
      ],
      "id": "4ae3889b"
    }
  ],
  "nbformat": 4,
  "nbformat_minor": 5,
  "metadata": {
    "kernelspec": {
      "name": "python3",
      "display_name": "Python 3 (ipykernel)",
      "language": "python",
      "path": "/home/runner/work/fysisk-biokemi/fysisk-biokemi/.venv/share/jupyter/kernels/python3"
    },
    "language_info": {
      "name": "python",
      "codemirror_mode": {
        "name": "ipython",
        "version": "3"
      },
      "file_extension": ".py",
      "mimetype": "text/x-python",
      "nbconvert_exporter": "python",
      "pygments_lexer": "ipython3",
      "version": "3.11.13"
    }
  }
}