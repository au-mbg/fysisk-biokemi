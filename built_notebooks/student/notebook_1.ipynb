{
  "cells": [
    {
      "cell_type": "markdown",
      "metadata": {},
      "source": [
        "# Jupyter Notebooks som lommeregner"
      ],
      "id": "78d18d27-6c0d-49ff-88ae-87fd84cb8679"
    },
    {
      "cell_type": "code",
      "execution_count": 2,
      "metadata": {},
      "outputs": [],
      "source": [
        "try:\n",
        "    import fysisk_biokemi\n",
        "    print(\"Already installed\")\n",
        "except ImportError:\n",
        "    %pip install -q \"fysisk_biokemi[colab] @ git+https://github.com/au-mbg/fysisk-biokemi.git\""
      ],
      "id": "52dcf54b"
    },
    {
      "cell_type": "markdown",
      "metadata": {},
      "source": [
        "## Simple beregninger\n",
        "\n",
        "Vi kan bruge Jupyter notebooks som en lommeregner med alle de\n",
        "operationer vi er vant til fra en almindelig lommeregner.\n",
        "\n",
        "``` python\n",
        "1 + 1       # Addition med +\n",
        "3 - 1       # Substraktion med - \n",
        "4 * 4       # Multiplikation med *\n",
        "20 / 5      # Division med /\n",
        "```\n",
        "\n",
        "### Opgave 1\n",
        "\n",
        "Brug Jupyter notebook til at beregne følgende:\n",
        "\n",
        "1.  $21 + 21$\n",
        "2.  $53 - 11$\n",
        "3.  $6 \\times 7$\n",
        "4.  $\\frac{546}{13}$"
      ],
      "id": "fcdea125-8972-48d9-8553-edad1a350d18"
    },
    {
      "cell_type": "code",
      "execution_count": 3,
      "metadata": {
        "exercise": true
      },
      "outputs": [],
      "source": [
        "# Skriv din kode i denne celle"
      ],
      "id": "e563c838"
    },
    {
      "cell_type": "markdown",
      "metadata": {},
      "source": [
        "## Variable\n",
        "\n",
        "Som også nævnt i “Introduktion til livets Molekyler” er det oftest\n",
        "hjælpsomt at definere størrelser i variabler, hvilket giver dem et navn\n",
        "der kan bruges senere. En variable defineres ved at bruge `=`, f.eks.\n",
        "kan vi definere\n",
        "\n",
        "``` python\n",
        "a = 21 + 21\n",
        "```\n",
        "\n",
        "Som gør at resultat af beregningen er gemt i `a`.\n",
        "\n",
        "### Opgave 2\n",
        "\n",
        "Gentag beregningerne fra opgave 1, men gem nu hvert del i en variable"
      ],
      "id": "ecad43ae-4c80-489b-bbca-8534ee2dc193"
    },
    {
      "cell_type": "code",
      "execution_count": 5,
      "metadata": {
        "exercise": true
      },
      "outputs": [],
      "source": [
        "a = 21 + 21 \n",
        "b = ... # Erstat ... med din kode\n",
        "# Lav variablerne c og d. "
      ],
      "id": "19ab9ed6"
    },
    {
      "cell_type": "markdown",
      "metadata": {},
      "source": [
        "Vi kan så bruge de definerede variable i en ny beregning"
      ],
      "id": "c31537bf-6003-46a8-a9cf-e9e4b84c6027"
    },
    {
      "cell_type": "code",
      "execution_count": 7,
      "metadata": {},
      "outputs": [
        {
          "output_type": "stream",
          "name": "stdout",
          "text": [
            "42.0"
          ]
        }
      ],
      "source": [
        "total = (a + b + c + d) / 4\n",
        "print(total)"
      ],
      "id": "6c4a5631"
    },
    {
      "cell_type": "markdown",
      "metadata": {},
      "source": [
        "### Opgave 3\n",
        "\n",
        "I “Introduktion til livets molekyler” har vi lavet beregninger om\n",
        "antallet af celler i forskellige dele af kroppen."
      ],
      "id": "fd65f709-caf0-4500-bb69-3286e27d248c"
    },
    {
      "cell_type": "code",
      "execution_count": 8,
      "metadata": {},
      "outputs": [],
      "source": [
        "total_cells = 37_000_000_000_000\n",
        "brain_cells = 86_000_000_000\n",
        "liver_cells = 240_000_000_000\n",
        "skin_cells = 1_600_000_000_000"
      ],
      "id": "93cc7d2b"
    },
    {
      "cell_type": "markdown",
      "metadata": {},
      "source": [
        "Benyt Jupyter som lommeregner til at beregne procent-delen hver kategori\n",
        "udgør af det total antal celler i kroppen, altså for hver kategori\n",
        "beregn\n",
        "\n",
        "$$\n",
        "P = \\frac{\\mathrm{Antal}}{\\mathrm{Total}} \\times 100\n",
        "$$"
      ],
      "id": "97f3c598-5cd4-44e6-8736-364a22a5a00d"
    },
    {
      "cell_type": "code",
      "execution_count": 9,
      "metadata": {
        "exercise": true
      },
      "outputs": [],
      "source": [
        "brain_pct = ... # Erstat ... med din kode.\n",
        "liver_pct = ... # Erstat ... med din kode.\n",
        "# Beregn og lav variable for skin_pct"
      ],
      "id": "335ed8ea"
    },
    {
      "cell_type": "code",
      "execution_count": 11,
      "metadata": {},
      "outputs": [
        {
          "output_type": "stream",
          "name": "stdout",
          "text": [
            "0.23243243243243245\n",
            "0.6486486486486486\n",
            "4.324324324324325"
          ]
        }
      ],
      "source": [
        "print(brain_pct)\n",
        "print(liver_pct)\n",
        "print(skin_pct)"
      ],
      "id": "7b7b2c28"
    },
    {
      "cell_type": "markdown",
      "metadata": {},
      "source": [
        "## Funktioner\n",
        "\n",
        "Når vi laver den samme beregning flere gange er det smart ikke at skulle\n",
        "skrive det samme kode igen, det gør koden mere læse-venlig og reducere\n",
        "chancen for at vi laver fejl. Måden at undgå dette er ved at bruge\n",
        "**funktioner**, en funktion i Python definere en opskrift når den bliver\n",
        "kaldt.\n",
        "\n",
        "Ovenfor har vi f.eks. brugt funktionen `print` til at skrive output. En\n",
        "funktion defineres sådan"
      ],
      "id": "a7a37044-d9b8-474b-9b61-85f205f3dea7"
    },
    {
      "cell_type": "code",
      "execution_count": 12,
      "metadata": {},
      "outputs": [],
      "source": [
        "def min_funktion(a, b):\n",
        "    resultat = a * b \n",
        "    return resultat"
      ],
      "id": "309fdcb8"
    },
    {
      "cell_type": "markdown",
      "metadata": {},
      "source": [
        "Det er vigtigt at funktionen er indenteret (skubbet til højre) da Python\n",
        "har behov for dette for at læse den. Når en funktionen defineres som\n",
        "ovenfor udføres beregningen ikke, ligesom at skrive en opskrift ned ikke\n",
        "laver et måltid, først når funktionen “kaldes” bliver den udført"
      ],
      "id": "cabefadf-2adb-4b2c-b6dd-bfe69d577d55"
    },
    {
      "cell_type": "code",
      "execution_count": 13,
      "metadata": {},
      "outputs": [
        {
          "output_type": "display_data",
          "metadata": {},
          "data": {
            "text/plain": [
              "42"
            ]
          }
        }
      ],
      "source": [
        "min_funktion(6, 7)"
      ],
      "id": "bbb0b7bf"
    },
    {
      "cell_type": "markdown",
      "metadata": {},
      "source": [
        "### Opgave 4\n",
        "\n",
        "Færdiggør funktionen nedenfor så den beregner procent-delen af `værdi`\n",
        "af `total`."
      ],
      "id": "a03cf066-7bd5-48a2-863a-dc0d8e1a72f9"
    },
    {
      "cell_type": "code",
      "execution_count": 14,
      "metadata": {
        "exercise": true
      },
      "outputs": [],
      "source": [
        "def procentdel(værdi, total):\n",
        "    resultat = ... # Erstat ... med din kode.\n",
        "    return resultat"
      ],
      "id": "35506132"
    },
    {
      "cell_type": "markdown",
      "metadata": {},
      "source": [
        "Vi kan så bruge funktionen til at beregne procent delene"
      ],
      "id": "ede3f7df-e034-4efe-8298-79eee5f36fae"
    },
    {
      "cell_type": "code",
      "execution_count": 16,
      "metadata": {},
      "outputs": [
        {
          "output_type": "stream",
          "name": "stdout",
          "text": [
            "0.23243243243243245 0.6486486486486486 4.324324324324325"
          ]
        }
      ],
      "source": [
        "brain_pct = procentdel(brain_cells, total_cells)\n",
        "liver_pct = procentdel(liver_cells, total_cells)\n",
        "skin_pct = procentdel(skin_cells, total_cells)\n",
        "print(brain_pct, liver_pct, skin_pct)"
      ],
      "id": "af5e3d84"
    },
    {
      "cell_type": "markdown",
      "metadata": {},
      "source": [
        "### Specielle funktioner\n",
        "\n",
        "Vi har nu set at vi kan bruge Jupyter notebooks som lommeregner til at\n",
        "lave beregninger med de basale aritmetiske operationer. Vi har dog ofte\n",
        "behov for f.eks. at regne potensfunktioner, kvadratrødder, exponential\n",
        "funktioner eller logaritmer.\n",
        "\n",
        "Heldigvis er dette også nemt med Python, vi kan nemlig bruge en pakke\n",
        "der implementere disse operationer som funktioner - specifikt `numpy`.\n",
        "\n",
        "Potensfunktioner, altså $x^k$ kan regnes som\n",
        "\n",
        "-   x\\*\\*k\n",
        "\n",
        "De tre andre kan regnes med NumPy som\n",
        "\n",
        "-   `np.sqrt`\n",
        "-   `np.exp`\n",
        "-   `np.log`\n",
        "\n",
        "### Opgave 5\n",
        "\n",
        "Brug disse til at beregne følgende\n",
        "\n",
        "-   $6.4807^2$\n",
        "-   $\\sqrt{1764}$\n",
        "-   $e^{3.737669}$\n",
        "-   $\\log{(66.6863)}$"
      ],
      "id": "0c35c84d-fbbf-4e87-a794-dcc64ff56ce0"
    },
    {
      "cell_type": "code",
      "execution_count": 17,
      "metadata": {
        "exercise": true
      },
      "outputs": [],
      "source": [
        "import numpy as np # Dette importere NumPy så vi kan bruge funktionerne.\n",
        "\n",
        "resultat_1 = ... # Din kode her\n",
        "resultat_2 = ... # Din kode her\n",
        "resultat_3 = ... # Din kode her\n",
        "\n",
        "print(resultat_1, resultat_2, resultat_3)"
      ],
      "id": "11c8cca3"
    }
  ],
  "nbformat": 4,
  "nbformat_minor": 5,
  "metadata": {
    "kernelspec": {
      "name": "python3",
      "display_name": "Python 3 (ipykernel)",
      "language": "python",
      "path": "/home/runner/work/fysisk-biokemi/fysisk-biokemi/.venv/share/jupyter/kernels/python3"
    },
    "language_info": {
      "name": "python",
      "codemirror_mode": {
        "name": "ipython",
        "version": "3"
      },
      "file_extension": ".py",
      "mimetype": "text/x-python",
      "nbconvert_exporter": "python",
      "pygments_lexer": "ipython3",
      "version": "3.11.13"
    }
  }
}