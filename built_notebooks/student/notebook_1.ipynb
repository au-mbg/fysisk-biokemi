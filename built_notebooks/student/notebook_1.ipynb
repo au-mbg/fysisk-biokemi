{
  "cells": [
    {
      "cell_type": "markdown",
      "metadata": {},
      "source": [
        "# Jupyter Notebooks som lommeregner\n",
        "\n",
        "## Simple beregninger\n",
        "\n",
        "Vi kan bruge Jupyter notebooks som en lommeregner med alle de\n",
        "operationer vi er vant til fra en almindelig lommeregner.\n",
        "\n",
        "``` python\n",
        "1 + 1       # Addition med +\n",
        "3 - 1       # Substraktion med - \n",
        "4 * 4       # Multiplikation med *\n",
        "20 / 5      # Division med /\n",
        "```\n",
        "\n",
        "### Opgave 1\n",
        "\n",
        "Brug Jupyter notebook til at beregne følgende:\n",
        "\n",
        "1.  $21 + 21$\n",
        "2.  $56 - 12$\n",
        "3.  $6 \\times 7$\n",
        "4.  $\\frac{546}{13}$"
      ],
      "id": "d0cfd26d-e7ca-41e8-9beb-f22affa07e0c"
    },
    {
      "cell_type": "code",
      "execution_count": 2,
      "metadata": {
        "exercise": true
      },
      "outputs": [],
      "source": [
        "# Skriv din kode i denne celle"
      ],
      "id": "3e2e0ab9"
    },
    {
      "cell_type": "markdown",
      "metadata": {},
      "source": [
        "## Variable\n",
        "\n",
        "Som også nævnt i “Introduktion til livets Molekyler” er det oftest\n",
        "hjælpsomt at definere størrelser i variabler, hvilket giver dem et navn\n",
        "der kan bruges senere. En variable defineres ved at bruge `=`, f.eks.\n",
        "kan vi definere\n",
        "\n",
        "``` python\n",
        "a = 21 + 21\n",
        "```\n",
        "\n",
        "Som gør at resultat af beregningen er gemt i `a`.\n",
        "\n",
        "### Opgave 2\n",
        "\n",
        "Gentag beregningerne fra opgave 1, men gem nu hvert del i en variable"
      ],
      "id": "46c534ac-bc35-4082-9857-a743e0258d2f"
    },
    {
      "cell_type": "code",
      "execution_count": 4,
      "metadata": {
        "exercise": true
      },
      "outputs": [],
      "source": [
        "a = 21 + 21 \n",
        "b = ... # Erstat ... med din kode\n",
        "# Lav variablerne c og d. "
      ],
      "id": "26b86afc"
    },
    {
      "cell_type": "markdown",
      "metadata": {},
      "source": [
        "Vi kan så bruge de definerede variable i en ny beregning"
      ],
      "id": "90a0ca96-c865-4075-9bd5-d5d56ccaa41a"
    },
    {
      "cell_type": "code",
      "execution_count": 6,
      "metadata": {},
      "outputs": [
        {
          "output_type": "stream",
          "name": "stdout",
          "text": [
            "42.0"
          ]
        }
      ],
      "source": [
        "total = (a + b + c + d) / 4\n",
        "print(total)"
      ],
      "id": "be5f856e"
    },
    {
      "cell_type": "markdown",
      "metadata": {},
      "source": [
        "### Opgave 3\n",
        "\n",
        "I “Introduktion til livets molekyler” har vi lavet beregninger om\n",
        "antallet af celler i forskellige dele af kroppen."
      ],
      "id": "1693f3b2-42e8-4cdc-94ef-f7bf2ead53a8"
    },
    {
      "cell_type": "code",
      "execution_count": 7,
      "metadata": {},
      "outputs": [],
      "source": [
        "total_cells = 37_000_000_000_000\n",
        "brain_cells = 86_000_000_000\n",
        "liver_cells = 240_000_000_000\n",
        "skin_cells = 1_600_000_000_000"
      ],
      "id": "fd5df63b"
    },
    {
      "cell_type": "markdown",
      "metadata": {},
      "source": [
        "Benyt Jupyter som lommeregner til at beregne procent-delen hver kategori\n",
        "udgør af det total antal celler i kroppen, altså for hver kategori\n",
        "beregn\n",
        "\n",
        "$$\n",
        "P = \\frac{\\mathrm{Antal}}{\\mathrm{Total}} \\times 100\n",
        "$$"
      ],
      "id": "17218e54-a1ba-4e45-8b6f-731c83d6d3d8"
    },
    {
      "cell_type": "code",
      "execution_count": 8,
      "metadata": {
        "exercise": true
      },
      "outputs": [],
      "source": [
        "brain_pct = ... # Erstat ... med din kode.\n",
        "liver_pct = ... # Erstat ... med din kode.\n",
        "# Beregn og lav variable for skin_pct"
      ],
      "id": "119ac110"
    },
    {
      "cell_type": "code",
      "execution_count": 10,
      "metadata": {},
      "outputs": [
        {
          "output_type": "stream",
          "name": "stdout",
          "text": [
            "0.23243243243243245\n",
            "0.6486486486486486\n",
            "4.324324324324325"
          ]
        }
      ],
      "source": [
        "print(brain_pct)\n",
        "print(liver_pct)\n",
        "print(skin_pct)"
      ],
      "id": "525ba90e"
    },
    {
      "cell_type": "markdown",
      "metadata": {},
      "source": [
        "## Funktioner\n",
        "\n",
        "Når vi laver den samme beregning flere gange er det smart ikke at skulle\n",
        "skrive det samme kode igen, det gør koden mere læse-venlig og reducere\n",
        "chancen for at vi laver fejl. Måden at undgå dette er ved at bruge\n",
        "**funktioner**, en funktion i Python definere en opskrift når den bliver\n",
        "kaldt.\n",
        "\n",
        "Ovenfor har vi f.eks. brugt funktionen `print` til at skrive output. En\n",
        "funktion defineres sådan"
      ],
      "id": "e1463cdd-6ee1-438f-b2bf-1076cec0a964"
    },
    {
      "cell_type": "code",
      "execution_count": 11,
      "metadata": {},
      "outputs": [],
      "source": [
        "def min_funktion(a, b):\n",
        "    resultat = a * b \n",
        "    return resultat"
      ],
      "id": "5d7e29b7"
    },
    {
      "cell_type": "markdown",
      "metadata": {},
      "source": [
        "Det er vigtigt at funktionen er indenteret (skubbet til højre) da Python\n",
        "har behov for dette for at læse den. Når en funktionen defineres som\n",
        "ovenfor udføres beregningen ikke, ligesom at skrive en opskrift ned ikke\n",
        "laver et måltid, først når funktionen “kaldes” bliver den udført"
      ],
      "id": "238722d0-76f2-4323-9921-5162eca5d907"
    },
    {
      "cell_type": "code",
      "execution_count": 12,
      "metadata": {},
      "outputs": [
        {
          "output_type": "display_data",
          "metadata": {},
          "data": {
            "text/plain": [
              "42"
            ]
          }
        }
      ],
      "source": [
        "min_funktion(6, 7)"
      ],
      "id": "f7093aec"
    },
    {
      "cell_type": "markdown",
      "metadata": {},
      "source": [
        "### Opgave 4\n",
        "\n",
        "Færdiggør funktionen nedenfor så den beregner procent-delen af `værdi`\n",
        "af `total`."
      ],
      "id": "9d4b37f1-5b2c-4934-b8d7-42d037e06f37"
    },
    {
      "cell_type": "code",
      "execution_count": 13,
      "metadata": {
        "exercise": true
      },
      "outputs": [],
      "source": [
        "def procentdel(værdi, total):\n",
        "    resultat = ... # Erstat ... med din kode.\n",
        "    return resultat"
      ],
      "id": "65cbb39c"
    },
    {
      "cell_type": "markdown",
      "metadata": {},
      "source": [
        "Vi kan så bruge funktionen til at beregne procent delene"
      ],
      "id": "6c37df8b-ac0d-460f-8dc4-ea0f41596f01"
    },
    {
      "cell_type": "code",
      "execution_count": 15,
      "metadata": {},
      "outputs": [
        {
          "output_type": "stream",
          "name": "stdout",
          "text": [
            "0.23243243243243245 0.6486486486486486 4.324324324324325"
          ]
        }
      ],
      "source": [
        "brain_pct = procentdel(brain_cells, total_cells)\n",
        "liver_pct = procentdel(liver_cells, total_cells)\n",
        "skin_pct = procentdel(skin_cells, total_cells)\n",
        "print(brain_pct, liver_pct, skin_pct)"
      ],
      "id": "9872feee"
    },
    {
      "cell_type": "markdown",
      "metadata": {},
      "source": [
        "### Specielle funktioner\n",
        "\n",
        "Vi har nu set at vi kan bruge Jupyter notebooks som lommeregner til at\n",
        "lave beregninger med de basale aritmetiske operationer. Vi har dog ofte\n",
        "behov for f.eks. at regne potensfunktioner, kvadratrødder, exponential\n",
        "funktioner eller logaritmer.\n",
        "\n",
        "Heldigvis er dette også nemt med Python, vi kan nemlig bruge en pakke\n",
        "der implementere disse operationer som funktioner - specifikt `numpy`.\n",
        "\n",
        "Potensfunktioner, altså $x^k$ kan regnes som\n",
        "\n",
        "-   x\\*\\*k\n",
        "\n",
        "De tre andre kan regnes med NumPy som\n",
        "\n",
        "-   `np.sqrt`\n",
        "-   `np.exp`\n",
        "-   `np.log`\n",
        "\n",
        "### Opgave 5\n",
        "\n",
        "Brug disse til at beregne følgende\n",
        "\n",
        "-   $6.4807^2$\n",
        "-   $\\sqrt{1764}$\n",
        "-   $e^{3.737669}$\n",
        "-   $\\log{(66.6863)}$"
      ],
      "id": "639ab338-7a26-4e95-93e2-5665819b3101"
    },
    {
      "cell_type": "code",
      "execution_count": 16,
      "metadata": {
        "exercise": true
      },
      "outputs": [],
      "source": [
        "import numpy as np # Dette importere NumPy så vi kan bruge funktionerne.\n",
        "\n",
        "resultat_1 = ... # Din kode her\n",
        "resultat_2 = ... # Din kode her\n",
        "resultat_3 = ... # Din kode her\n",
        "\n",
        "print(resultat_1, resultat_2, resultat_3)"
      ],
      "id": "bb6d1aa7"
    }
  ],
  "nbformat": 4,
  "nbformat_minor": 5,
  "metadata": {
    "kernelspec": {
      "name": "python3",
      "display_name": "Python 3 (ipykernel)",
      "language": "python",
      "path": "/home/runner/work/fysisk-biokemi/fysisk-biokemi/.venv/share/jupyter/kernels/python3"
    },
    "language_info": {
      "name": "python",
      "codemirror_mode": {
        "name": "ipython",
        "version": "3"
      },
      "file_extension": ".py",
      "mimetype": "text/x-python",
      "nbconvert_exporter": "python",
      "pygments_lexer": "ipython3",
      "version": "3.11.13"
    }
  }
}