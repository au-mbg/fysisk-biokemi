{
  "cells": [
    {
      "cell_type": "markdown",
      "metadata": {},
      "source": [
        "# Jupyter Notebooks som lommeregner"
      ],
      "id": "76581567-a5e0-4f30-919f-1ad1e4d6c961"
    },
    {
      "cell_type": "code",
      "execution_count": 2,
      "metadata": {},
      "outputs": [],
      "source": [
        "try:\n",
        "    import fysisk_biokemi\n",
        "    print(\"Already installed\")\n",
        "except ImportError:\n",
        "    %pip install -q \"fysisk_biokemi[colab] @ git+https://github.com/au-mbg/fysisk-biokemi.git\""
      ],
      "id": "adfb8c66"
    },
    {
      "cell_type": "markdown",
      "metadata": {},
      "source": [
        "## Simple beregninger\n",
        "\n",
        "Vi kan bruge Jupyter notebooks som en lommeregner med alle de\n",
        "operationer vi er vant til fra en almindelig lommeregner.\n",
        "\n",
        "``` python\n",
        "1 + 1       # Addition med +\n",
        "3 - 1       # Substraktion med - \n",
        "4 * 4       # Multiplikation med *\n",
        "20 / 5      # Division med /\n",
        "```\n",
        "\n",
        "### Opgave 1\n",
        "\n",
        "Brug Jupyter notebook til at beregne følgende:\n",
        "\n",
        "1.  $21 + 21$\n",
        "2.  $53 - 11$\n",
        "3.  $6 \\times 7$\n",
        "4.  $\\frac{546}{13}$"
      ],
      "id": "8eaaf1d1-1b6b-4967-b61c-69063f2e2c92"
    },
    {
      "cell_type": "code",
      "execution_count": 3,
      "metadata": {
        "exercise": true
      },
      "outputs": [],
      "source": [
        "# Skriv din kode i denne celle"
      ],
      "id": "7e997132"
    },
    {
      "cell_type": "markdown",
      "metadata": {},
      "source": [
        "## Variable\n",
        "\n",
        "Som også nævnt i “Introduktion til livets Molekyler” er det oftest\n",
        "hjælpsomt at definere størrelser i variabler, hvilket giver dem et navn\n",
        "der kan bruges senere. En variable defineres ved at bruge `=`, f.eks.\n",
        "kan vi definere\n",
        "\n",
        "``` python\n",
        "a = 21 + 21\n",
        "```\n",
        "\n",
        "Som gør at resultat af beregningen er gemt i `a`.\n",
        "\n",
        "### Opgave 2\n",
        "\n",
        "Gentag beregningerne fra opgave 1, men gem nu hvert del i en variable"
      ],
      "id": "3814b5d4-e586-4519-8d79-8132b2e7e87c"
    },
    {
      "cell_type": "code",
      "execution_count": 5,
      "metadata": {
        "exercise": true
      },
      "outputs": [],
      "source": [
        "a = 21 + 21 \n",
        "b = ... # Erstat ... med din kode\n",
        "# Lav variablerne c og d. "
      ],
      "id": "c28a4d6d"
    },
    {
      "cell_type": "markdown",
      "metadata": {},
      "source": [
        "Vi kan så bruge de definerede variable i en ny beregning"
      ],
      "id": "e2e2cf34-62e4-4e04-baac-40e19dbf7747"
    },
    {
      "cell_type": "code",
      "execution_count": 7,
      "metadata": {},
      "outputs": [
        {
          "output_type": "stream",
          "name": "stdout",
          "text": [
            "42.0"
          ]
        }
      ],
      "source": [
        "total = (a + b + c + d) / 4\n",
        "print(total)"
      ],
      "id": "de0a7950"
    },
    {
      "cell_type": "markdown",
      "metadata": {},
      "source": [
        "### Opgave 3\n",
        "\n",
        "I “Introduktion til livets molekyler” har vi lavet beregninger om\n",
        "antallet af celler i forskellige dele af kroppen."
      ],
      "id": "1197bb64-000b-481b-8054-c126ad038889"
    },
    {
      "cell_type": "code",
      "execution_count": 8,
      "metadata": {},
      "outputs": [],
      "source": [
        "total_cells = 37_000_000_000_000\n",
        "brain_cells = 86_000_000_000\n",
        "liver_cells = 240_000_000_000\n",
        "skin_cells = 1_600_000_000_000"
      ],
      "id": "4201f279"
    },
    {
      "cell_type": "markdown",
      "metadata": {},
      "source": [
        "Benyt Jupyter som lommeregner til at beregne procent-delen hver kategori\n",
        "udgør af det total antal celler i kroppen, altså for hver kategori\n",
        "beregn\n",
        "\n",
        "$$\n",
        "P = \\frac{\\mathrm{Antal}}{\\mathrm{Total}} \\times 100\n",
        "$$"
      ],
      "id": "6f733109-3f72-4a7e-9fec-317ebebcb0d3"
    },
    {
      "cell_type": "code",
      "execution_count": 9,
      "metadata": {
        "exercise": true
      },
      "outputs": [],
      "source": [
        "brain_pct = ... # Erstat ... med din kode.\n",
        "liver_pct = ... # Erstat ... med din kode.\n",
        "# Beregn og lav variable for skin_pct"
      ],
      "id": "5f7279ce"
    },
    {
      "cell_type": "code",
      "execution_count": 11,
      "metadata": {},
      "outputs": [
        {
          "output_type": "stream",
          "name": "stdout",
          "text": [
            "0.23243243243243245\n",
            "0.6486486486486486\n",
            "4.324324324324325"
          ]
        }
      ],
      "source": [
        "print(brain_pct)\n",
        "print(liver_pct)\n",
        "print(skin_pct)"
      ],
      "id": "8b46fb5f"
    },
    {
      "cell_type": "markdown",
      "metadata": {},
      "source": [
        "## Funktioner\n",
        "\n",
        "Når vi laver den samme beregning flere gange er det smart ikke at skulle\n",
        "skrive det samme kode igen, det gør koden mere læse-venlig og reducere\n",
        "chancen for at vi laver fejl. Måden at undgå dette er ved at bruge\n",
        "**funktioner**, en funktion i Python definere en opskrift når den bliver\n",
        "kaldt.\n",
        "\n",
        "Ovenfor har vi f.eks. brugt funktionen `print` til at skrive output. En\n",
        "funktion defineres sådan"
      ],
      "id": "4bca8fea-8618-4ae1-b0ea-65e3ddebafd8"
    },
    {
      "cell_type": "code",
      "execution_count": 12,
      "metadata": {},
      "outputs": [],
      "source": [
        "def min_funktion(a, b):\n",
        "    resultat = a * b \n",
        "    return resultat"
      ],
      "id": "58820a4b"
    },
    {
      "cell_type": "markdown",
      "metadata": {},
      "source": [
        "Det er vigtigt at funktionen er indenteret (skubbet til højre) da Python\n",
        "har behov for dette for at læse den. Når en funktionen defineres som\n",
        "ovenfor udføres beregningen ikke, ligesom at skrive en opskrift ned ikke\n",
        "laver et måltid, først når funktionen “kaldes” bliver den udført"
      ],
      "id": "9a7e1c19-ca59-476f-9f73-25569cb54b02"
    },
    {
      "cell_type": "code",
      "execution_count": 13,
      "metadata": {},
      "outputs": [
        {
          "output_type": "display_data",
          "metadata": {},
          "data": {
            "text/plain": [
              "42"
            ]
          }
        }
      ],
      "source": [
        "min_funktion(6, 7)"
      ],
      "id": "da448cfd"
    },
    {
      "cell_type": "markdown",
      "metadata": {},
      "source": [
        "### Opgave 4\n",
        "\n",
        "Færdiggør funktionen nedenfor så den beregner procent-delen af `værdi`\n",
        "af `total`."
      ],
      "id": "3666208c-7311-4d1e-b616-b0a84a1981fb"
    },
    {
      "cell_type": "code",
      "execution_count": 14,
      "metadata": {
        "exercise": true
      },
      "outputs": [],
      "source": [
        "def procentdel(værdi, total):\n",
        "    resultat = ... # Erstat ... med din kode.\n",
        "    return resultat"
      ],
      "id": "b33bcb50"
    },
    {
      "cell_type": "markdown",
      "metadata": {},
      "source": [
        "Vi kan så bruge funktionen til at beregne procent delene"
      ],
      "id": "ac76da1c-badb-4366-a816-b3d2b4a10023"
    },
    {
      "cell_type": "code",
      "execution_count": 16,
      "metadata": {},
      "outputs": [
        {
          "output_type": "stream",
          "name": "stdout",
          "text": [
            "0.23243243243243245 0.6486486486486486 4.324324324324325"
          ]
        }
      ],
      "source": [
        "brain_pct = procentdel(brain_cells, total_cells)\n",
        "liver_pct = procentdel(liver_cells, total_cells)\n",
        "skin_pct = procentdel(skin_cells, total_cells)\n",
        "print(brain_pct, liver_pct, skin_pct)"
      ],
      "id": "17b67d4f"
    },
    {
      "cell_type": "markdown",
      "metadata": {},
      "source": [
        "### Specielle funktioner\n",
        "\n",
        "Vi har nu set at vi kan bruge Jupyter notebooks som lommeregner til at\n",
        "lave beregninger med de basale aritmetiske operationer. Vi har dog ofte\n",
        "behov for f.eks. at regne potensfunktioner, kvadratrødder, exponential\n",
        "funktioner eller logaritmer.\n",
        "\n",
        "Heldigvis er dette også nemt med Python, vi kan nemlig bruge en pakke\n",
        "der implementere disse operationer som funktioner - specifikt `numpy`.\n",
        "\n",
        "Potensfunktioner, altså $x^k$ kan regnes som\n",
        "\n",
        "-   x\\*\\*k\n",
        "\n",
        "De tre andre kan regnes med NumPy som\n",
        "\n",
        "-   `np.sqrt`\n",
        "-   `np.exp`\n",
        "-   `np.log`\n",
        "\n",
        "### Opgave 5\n",
        "\n",
        "Brug disse til at beregne følgende\n",
        "\n",
        "-   $6.4807^2$\n",
        "-   $\\sqrt{1764}$\n",
        "-   $e^{3.737669}$\n",
        "-   $\\log{(66.6863)}$"
      ],
      "id": "a9f5d991-5b2b-41ec-bdbd-d4a75c010068"
    },
    {
      "cell_type": "code",
      "execution_count": 17,
      "metadata": {
        "exercise": true
      },
      "outputs": [],
      "source": [
        "import numpy as np # Dette importere NumPy så vi kan bruge funktionerne.\n",
        "\n",
        "resultat_1 = ... # Din kode her\n",
        "resultat_2 = ... # Din kode her\n",
        "resultat_3 = ... # Din kode her\n",
        "\n",
        "print(resultat_1, resultat_2, resultat_3)"
      ],
      "id": "c142c0a3"
    }
  ],
  "nbformat": 4,
  "nbformat_minor": 5,
  "metadata": {
    "kernelspec": {
      "name": "python3",
      "display_name": "Python 3 (ipykernel)",
      "language": "python",
      "path": "/home/runner/work/fysisk-biokemi/fysisk-biokemi/.venv/share/jupyter/kernels/python3"
    },
    "language_info": {
      "name": "python",
      "codemirror_mode": {
        "name": "ipython",
        "version": "3"
      },
      "file_extension": ".py",
      "mimetype": "text/x-python",
      "nbconvert_exporter": "python",
      "pygments_lexer": "ipython3",
      "version": "3.11.13"
    }
  }
}