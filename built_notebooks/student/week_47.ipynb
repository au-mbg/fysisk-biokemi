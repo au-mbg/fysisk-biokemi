{
  "cells": [
    {
      "cell_type": "markdown",
      "metadata": {},
      "source": [
        "# Week 47"
      ],
      "id": "fed64be0-e741-4944-99e5-58cfc519ada0"
    },
    {
      "cell_type": "code",
      "execution_count": 2,
      "metadata": {},
      "outputs": [],
      "source": [
        "try:\n",
        "    import fysisk_biokemi\n",
        "    print(\"Already installed\")\n",
        "except ImportError:\n",
        "    %pip install -q \"fysisk_biokemi[colab] @ git+https://github.com/au-mbg/fysisk-biokemi.git\""
      ],
      "id": "a5cb2c5f"
    },
    {
      "cell_type": "markdown",
      "metadata": {},
      "source": [
        "------------------------------------------------------------------------\n",
        "\n",
        "## The fluorescent protein “mCherry”.\n",
        "\n",
        "The spectra of many fluorescent proteins can be found at the website:\n",
        "[www.fpbase.org](https://www.fpbase.org/). Go to FPbase and search for\n",
        "“mCherry”.\n",
        "\n",
        "#### (a) Find parameters.\n",
        "\n",
        "Find the following parameters for the protein\n",
        "\n",
        "-   Extinction coefficient at absorbance maximum\n",
        "-   Quantum yield\n",
        "-   The organism from which it was originally isolated\n",
        "-   Molecular weight\n",
        "\n",
        "Save them to seperate variables in the cell below."
      ],
      "id": "1f3d741a-c366-48b7-984e-5aeb68fcdd25"
    },
    {
      "cell_type": "code",
      "execution_count": 4,
      "metadata": {
        "exercise": true
      },
      "outputs": [],
      "source": [
        "... # Your answers here. "
      ],
      "id": "e7d4b56c"
    },
    {
      "cell_type": "markdown",
      "metadata": {},
      "source": [
        "#### (b) Adorbance\n",
        "\n",
        "What is the absorbance of a 1 µM solution of mCherry at its absorption\n",
        "maximum?"
      ],
      "id": "970d7302-d65e-489b-9a7d-462c76dd2430"
    },
    {
      "cell_type": "code",
      "execution_count": 5,
      "metadata": {
        "exercise": true
      },
      "outputs": [],
      "source": [
        "c = ... # Put the concentration in Molar\n",
        "l = ... # Path length in cm\n",
        "A_max = ... # Calculate the adsorbance.\n",
        "print(f\"{A_max = :3.3f}\")"
      ],
      "id": "8117fc8c"
    },
    {
      "cell_type": "markdown",
      "metadata": {},
      "source": [
        "#### (c) Extinction coefficient from sequence.\n",
        "\n",
        "The sequence of the protein is also given. From this determine the\n",
        "extinction coefficient at 280 nm.\n",
        "\n",
        "Start by taking the sequence from the website and assigning it to the\n",
        "variable `sequence` in the cell below."
      ],
      "id": "8f7913a5-54f5-4cc5-8d1b-b7a3b8d5922b"
    },
    {
      "cell_type": "code",
      "execution_count": 7,
      "metadata": {
        "exercise": true
      },
      "outputs": [],
      "source": [
        "sequence = ... # Your code here"
      ],
      "id": "73ff19aa"
    },
    {
      "cell_type": "markdown",
      "metadata": {},
      "source": [
        "Now use the sequence to calculate the extinction coefficient"
      ],
      "id": "33c07939-a7a7-4b59-910c-f61e4c678e47"
    },
    {
      "cell_type": "code",
      "execution_count": 9,
      "metadata": {
        "exercise": true
      },
      "outputs": [
        {
          "output_type": "display_data",
          "metadata": {},
          "data": {
            "text/plain": [
              "Ellipsis"
            ]
          }
        }
      ],
      "source": [
        "# This is \"dictionary\" with the extinction coefficients of the relevant \n",
        "# amino acid residues. Dictionaries are indexed with 'keys', so you can retrieve\n",
        "# the value for W as: ext_residue[\"W\"].\n",
        "ext_residue = {\"W\": 5500, \"Y\": 1490, \"C\": 125}\n",
        "\n",
        "# Write code to calculate the extinction coefficent\n",
        "..."
      ],
      "id": "8f7076c0"
    },
    {
      "cell_type": "markdown",
      "metadata": {},
      "source": [
        "#### (d) What is the concentration of a 1 µM solution of mCherry in mg/mL?"
      ],
      "id": "b0bb9aee-d565-45a9-9527-a88811bbfedb"
    },
    {
      "cell_type": "code",
      "execution_count": 11,
      "metadata": {
        "exercise": true
      },
      "outputs": [],
      "source": [
        "conc_molar = ... # Put the concentration in units of M. \n",
        "conc_mg_mL = ... # Calculate the concentration in uts of mg/mL.\n",
        "print(f\"{conc_mg_mL = }\")"
      ],
      "id": "2542a399"
    },
    {
      "cell_type": "markdown",
      "metadata": {},
      "source": [
        "------------------------------------------------------------------------\n",
        "\n",
        "The excitation and emission spectra can be downloaded as a csv-file by\n",
        "clicking the download icon as highlighted below\n",
        "\n",
        "<figure>\n",
        "<img\n",
        "src=\"https://raw.githubusercontent.com/au-mbg/fysisk-biokemi/refs/heads/main/lessons/figures/week_47/download_spectra.png\"\n",
        "alt=\"Download spectra\" />\n",
        "<figcaption aria-hidden=\"true\">Download spectra</figcaption>\n",
        "</figure>\n",
        "\n",
        "------------------------------------------------------------------------\n",
        "\n",
        "#### (e) Load the dataset\n",
        "\n",
        "Use the widget below to load the dataset as a `DataFrame`"
      ],
      "id": "a844a355-5e96-4d1d-ad2d-ae428a0e96db"
    },
    {
      "cell_type": "code",
      "execution_count": 13,
      "metadata": {},
      "outputs": [],
      "source": [
        "from fysisk_biokemi.widgets import DataUploader\n",
        "from IPython.display import display \n",
        "uploader = DataUploader()\n",
        "uploader.display()"
      ],
      "id": "3586e6b0"
    },
    {
      "cell_type": "markdown",
      "metadata": {},
      "source": [
        "Run the next cell **after** uploading the file"
      ],
      "id": "d0e716a9-af05-4683-9da4-445f89fdbd72"
    },
    {
      "cell_type": "code",
      "execution_count": 14,
      "metadata": {},
      "outputs": [],
      "source": [
        "df = uploader.get_dataframe()\n",
        "display(df)"
      ],
      "id": "1208133c"
    },
    {
      "cell_type": "markdown",
      "metadata": {},
      "source": [
        "#### (f) Plot spectra\n",
        "\n",
        "Make your own plot showing the excitation and emission spectra of\n",
        "“mCherry” using the above data.\n",
        "\n",
        "> **Tip**\n",
        ">\n",
        "> You don’t have to worry about the `NaN` values in the dataset when\n",
        "> plotting, matplotlib just skips plotting that line segment."
      ],
      "id": "990f9535-33ce-45aa-a756-7bd527c07555"
    },
    {
      "cell_type": "code",
      "execution_count": 16,
      "metadata": {
        "exercise": true
      },
      "outputs": [],
      "source": [
        "import matplotlib.pyplot as plt\n",
        "fig, ax = plt.subplots(figsize=(9, 4))\n",
        "ax.plot(..., ..., label='Excitation') # Replace ... with your code\n",
        "... # Replace ... with your code plotting the emission spectrum.\n",
        "ax.legend()\n",
        "ax.set_xlabel('Wavelength')\n",
        "ax.set_ylabel('Extinction & Emission')\n",
        "plt.show()"
      ],
      "id": "f5b4b191"
    },
    {
      "cell_type": "markdown",
      "metadata": {},
      "source": [
        "#### (g) Stokes shift\n",
        "\n",
        "What is the Stokes shift of mCherry?\n",
        "\n",
        "> **Tip**\n",
        ">\n",
        "> If you have two arrays `A` and `B` you can find the entry in `A`\n",
        "> corresponding to the largest value in `B` like this\n",
        ">\n",
        "> ``` python\n",
        "> A_at_B_max = A[np.argmax(B)]\n",
        "> ```"
      ],
      "id": "5bb22cf5-8831-4b6b-a623-175039629ee2"
    },
    {
      "cell_type": "code",
      "execution_count": 18,
      "metadata": {
        "exercise": true
      },
      "outputs": [],
      "source": [
        "import numpy as np\n",
        "lambda_ex = df['wavelength'][np.argmax(df['mCherry ex'])]\n",
        "lambda_em = df['wavelength'][np.argmax(df['mCherry em'])]\n",
        "stokes_shift = lambda_em - lambda_ex\n",
        "\n",
        "print(f\"{lambda_ex = :d}\")\n",
        "print(f\"{lambda_em = :d}\")\n",
        "print(f\"{stokes_shift = :d}\")"
      ],
      "id": "995bf7be"
    },
    {
      "cell_type": "markdown",
      "metadata": {},
      "source": [
        "#### (h) Colors\n",
        "\n",
        "What colors are the light that correspond to the excitation and emission\n",
        "maxima respectively?\n",
        "\n",
        "------------------------------------------------------------------------\n",
        "\n",
        "## Proteins in blood plasma.\n",
        "\n",
        "In this exercise we will learn how Python is excellent for handling\n",
        "datasets with many data points and how it can be used to apply the same\n",
        "procedure to all the data points at once.\n",
        "\n",
        "A researcher wants to determine the concentration of two proteins in\n",
        "blood plasma that is suspected to be involved in development of an\n",
        "autoimmune disease. 500 patients and 500 healthy individuals were\n",
        "included in the study and absorbance measurements of the two purified\n",
        "proteins from all blood plasma samples were measured at 280 nm. The\n",
        "molecular weight and extinction coefficients of the two proteins are\n",
        "given in the table below.\n",
        "\n",
        "| Protein | $M_w$ $[\\text{kDa}]$ | $\\epsilon$ $[\\text{M}^{-1}\\text{cm}^{-1}]$ |\n",
        "|-----------------------|---------------------|-----------------------------|\n",
        "| 1       | 130                  | 180000                                     |\n",
        "| 2       | 57                   | 80000                                      |\n",
        "\n",
        "Properties of the two proteins.\n",
        "\n",
        "#### (a) Load the dataset\n",
        "\n",
        "Use the widget to load the dataset as a dataframe from the file\n",
        "**protein_blood_plasma.xlsx**"
      ],
      "id": "12d48ac1-010a-460a-b62e-1506a5435cb2"
    },
    {
      "cell_type": "code",
      "execution_count": 20,
      "metadata": {},
      "outputs": [],
      "source": [
        "from IPython.display import display \n",
        "from fysisk_biokemi.widgets import DataUploader\n",
        "uploader = DataUploader()\n",
        "uploader.display()"
      ],
      "id": "0ba9eb65"
    },
    {
      "cell_type": "markdown",
      "metadata": {},
      "source": [
        "Run this cell **after** having uploaded the file in the cell above."
      ],
      "id": "8eea6e69-a197-40dd-9756-62d0cbacda79"
    },
    {
      "cell_type": "code",
      "execution_count": 21,
      "metadata": {},
      "outputs": [],
      "source": [
        "df = uploader.get_dataframe()\n",
        "display(df)"
      ],
      "id": "1b7a5328"
    },
    {
      "cell_type": "markdown",
      "metadata": {},
      "source": [
        "#### (b) Calculate concentrations\n",
        "\n",
        "Calculate the molar concentration of the two proteins in all samples,\n",
        "the light path for every measurement is 0.1 cm.\n",
        "\n",
        "Always a good idea to assign known values to variables"
      ],
      "id": "6969b5b6-238d-4a4c-a145-db92b77b0f5c"
    },
    {
      "cell_type": "code",
      "execution_count": 23,
      "metadata": {},
      "outputs": [],
      "source": [
        "protein_1_ext_coeff = 180000\n",
        "protein_2_ext_coeff = 80000\n",
        "l = 0.1"
      ],
      "id": "b1ac6e04"
    },
    {
      "cell_type": "markdown",
      "metadata": {},
      "source": [
        "> **Tip**\n",
        ">\n",
        "> You can set new columns in a `DataFrame` by just assigning to it\n",
        ">\n",
        "> ``` python\n",
        "> df['new_column'] = [1, 2, 3, ..., 42]\n",
        "> ```\n",
        ">\n",
        "> It can also be set as a computation of a property from another row\n",
        ">\n",
        "> ``` python\n",
        "> df['new_column'] = df['current_column'] / 4\n",
        "> ```"
      ],
      "id": "63493638-8e24-4cc9-85d3-6095b6e5fbf2"
    },
    {
      "cell_type": "code",
      "execution_count": 24,
      "metadata": {
        "exercise": true
      },
      "outputs": [],
      "source": [
        "df['protein1_healthy_molar_conc'] = ... # Calculate for concentration in healthy for protein 1.\n",
        "... # Your code that updates the data frame with the 3 other new columns.\n",
        "display(df)"
      ],
      "id": "a99b5c68"
    },
    {
      "cell_type": "markdown",
      "metadata": {},
      "source": [
        "#### (c). Concentrations in mg/mL\n",
        "\n",
        "Add another set of four columns containing the concentrations in mg/mL."
      ],
      "id": "b89d2e26-98b7-408e-b35f-469174596f7c"
    },
    {
      "cell_type": "code",
      "execution_count": 26,
      "metadata": {},
      "outputs": [],
      "source": [
        "protein_1_mw = 130 * 10**3\n",
        "protein_2_mw = 57 * 10**3"
      ],
      "id": "f07fefc7"
    },
    {
      "cell_type": "code",
      "execution_count": 27,
      "metadata": {
        "exercise": true
      },
      "outputs": [],
      "source": [
        "df['protein1_healthy_conc'] = ...\n",
        "df['protein1_patient_conc'] = ...\n",
        "df['protein2_healthy_conc'] = ...\n",
        "df['protein2_patient_conc'] = ...\n",
        "\n",
        "names = ['protein1_healthy_conc', 'protein1_patient_conc', 'protein2_healthy_conc', 'protein2_patient_conc']\n",
        "display(df[names])"
      ],
      "id": "a4878368"
    },
    {
      "cell_type": "markdown",
      "metadata": {},
      "source": [
        "#### (d) Mean concentration\n",
        "\n",
        "Now that we have the concentrations, calculate the concentration in the\n",
        "four categories.\n",
        "\n",
        "> **Tip**\n",
        ">\n",
        "> When displaying the dataframe above we used indexed it with `names` as\n",
        "> `df[names]`. We can do the same to compute something over just the\n",
        "> four rows.\n",
        ">\n",
        "> For example the if we have a `DataFrame` called `example_df`, we can\n",
        "> calculate the mean over the **rows** as:\n",
        ">\n",
        "> ``` python\n",
        "> df[names].mean(axis=0)\n",
        "> ```\n",
        ">\n",
        "> Here `axis=0` means that we apply the operation over the first axis\n",
        "> which by convention are the rows."
      ],
      "id": "31a7e121-5fb6-4707-88b7-717aba2e2de1"
    },
    {
      "cell_type": "code",
      "execution_count": 29,
      "metadata": {
        "exercise": true
      },
      "outputs": [],
      "source": [
        "mean = ...\n",
        "display(mean)"
      ],
      "id": "6df65fe0"
    },
    {
      "cell_type": "markdown",
      "metadata": {},
      "source": [
        "#### (e) Standard deviation\n",
        "\n",
        "Calculate the standard deviation\n",
        "\n",
        "> **Tip**\n",
        ">\n",
        "> The standard deviation can be calculated using the `.std`-method that\n",
        "> works in the same way as the `.mean`-method we used above."
      ],
      "id": "3e47f6d4-31ef-4308-ae84-be03ecc01e32"
    },
    {
      "cell_type": "code",
      "execution_count": 31,
      "metadata": {
        "exercise": true
      },
      "outputs": [],
      "source": [
        "std = ...\n",
        "display(std)"
      ],
      "id": "505fe34a"
    },
    {
      "cell_type": "markdown",
      "metadata": {},
      "source": [
        "#### (f) Analyze the results\n",
        "\n",
        "Consider the following questions\n",
        "\n",
        "-   By comparing healthy individuals with patients, would you expect\n",
        "    that any of the two proteins would be involved in disease\n",
        "    development?\n",
        "-   What additional information does the standard deviation provide\n",
        "    besides the average value of the protein concentration?\n",
        "\n",
        "------------------------------------------------------------------------\n",
        "\n",
        "## Dialysis experiment\n",
        "\n",
        "A dialysis experiment was set up where equal amounts of a protein were\n",
        "separately dialyzing against buffers containing different concentrations\n",
        "of a ligand – each measurement was done in triplicate. The average\n",
        "number of ligands bound per protein molecule, $\\bar{n}$ were obtained\n",
        "from these experiments. The corresponding concentrations of free ligand\n",
        "and values are given in dataset `dialysis_experiment.xlsx`.\n",
        "\n",
        "#### (a) Load the dataset"
      ],
      "id": "ab54931a-39a6-4903-8830-831bbafae66f"
    },
    {
      "cell_type": "code",
      "execution_count": 33,
      "metadata": {},
      "outputs": [],
      "source": [
        "from fysisk_biokemi.widgets import DataUploader\n",
        "from IPython.display import display \n",
        "uploader = DataUploader()\n",
        "uploader.display()"
      ],
      "id": "5f96f82e"
    },
    {
      "cell_type": "markdown",
      "metadata": {},
      "source": [
        "Run the next cell **after** uploading the file"
      ],
      "id": "16412103-c052-43b7-a519-428089a8589d"
    },
    {
      "cell_type": "code",
      "execution_count": 34,
      "metadata": {},
      "outputs": [],
      "source": [
        "df = uploader.get_dataframe()\n",
        "display(df)"
      ],
      "id": "80921949"
    },
    {
      "cell_type": "markdown",
      "metadata": {},
      "source": [
        "#### (b) Explain calculation of $\\bar{n}$\n",
        "\n",
        "Explain how the values of $\\bar{n}$ is calculated when knowing the\n",
        "concentrations of ligand inside and outside the dialysis bag, as well as\n",
        "the total concentration of the protein, \\[$\\text{P}_{\\text{tot}}$\\].\n",
        "\n",
        "#### (c) Molar concentrations\n",
        "\n",
        "Convert the concentrations of free ligand to SI-units given in M, add it\n",
        "as a row to the `DataFrame`.\n",
        "\n",
        "#### (c) Plot the data"
      ],
      "id": "9db4729d-1499-4f27-9ade-08e10ee1ae28"
    },
    {
      "cell_type": "code",
      "execution_count": 37,
      "metadata": {
        "exercise": true
      },
      "outputs": [],
      "source": [
        "import matplotlib.pyplot as plt\n",
        "\n",
        "fig, ax = plt.subplots()\n",
        "\n",
        "# The 'o' means we plot just the points and don't connect them.\n",
        "ax.plot(..., ..., 'o') # Replace ... with your code.\n",
        "\n",
        "ax.set_xlabel('Free ligand [L] (M)', fontsize=16)\n",
        "ax.set_ylabel(r'$\\bar{n}$', fontsize=16)"
      ],
      "id": "e2971e8a"
    },
    {
      "cell_type": "markdown",
      "metadata": {},
      "source": [
        "#### (d) Prepare for fitting\n",
        "\n",
        "Now we want to fit the data to extract $K_D$ and $\\nu_{\\text{max}}$, by\n",
        "using the equation\n",
        "\n",
        "$$\n",
        "\\nu([L_{\\text{free}}]) = \\nu_{\\text{max}} \\frac{[L_{\\text{free}}]}{K_D + [L_{\\text{free}}]}\n",
        "$$\n",
        "\n",
        "To do so we need to implmenet it as a Python function"
      ],
      "id": "5f97257c-8bad-4708-b894-2071541ab250"
    },
    {
      "cell_type": "code",
      "execution_count": 39,
      "metadata": {
        "exercise": true
      },
      "outputs": [],
      "source": [
        "def nu(L, nu_max, K_D):\n",
        "    # Replace ... with your code that calculates the above equation. \n",
        "    # Be careful with parenthesis!\n",
        "    result = ... \n",
        "    return result\n",
        "\n",
        "print(f\"{nu(1, 1, 1) = }\") # Should give 1/2\n",
        "print(f\"{nu(21, 47, 2.5) = }\") # Should give 42"
      ],
      "id": "eabe5c32"
    },
    {
      "cell_type": "markdown",
      "metadata": {},
      "source": [
        "#### (e) Actually fitting\n",
        "\n",
        "> **Important**\n",
        ">\n",
        "> Fitting refers to finding the parameters that make an assumed\n",
        "> functional form best ‘fit’ the data. Programmatically we will use the\n",
        "> `curve_fit` from the `scipy` package to do so. The signature of this\n",
        "> function looks like this\n",
        ">\n",
        "> ``` python\n",
        "> curve_fit(function, \n",
        ">             x_data, \n",
        ">             y_data, \n",
        ">             p0=[param_1, param_2, ...])\n",
        "> ```\n",
        ">\n",
        "> The arguments are\n",
        ">\n",
        "> -   `function`: A python function where the **first** argument is the\n",
        ">     independent variable, and other arguments are the parameters of\n",
        ">     the functions.\n",
        "> -   `x_data`: The observed values of the independent variable.\n",
        "> -   `y_data`: The observed values of the dependent variable.\n",
        "> -   `p0`: Initial guesses for the parameters.\n",
        ">\n",
        "> When called `curve_fit` starts by calculating how well the functions\n",
        "> fits the data with the initial parameters in `p0` and then iteratively\n",
        "> improves the fit by trying new values for the parameters in an\n",
        "> intelligent way.\n",
        ">\n",
        "> The found parameters will generally depend on `p0` and it is therefore\n",
        "> necessary to provide a good (or good enough) guess for `p0`.\n",
        "\n",
        "Finish the code to perform the fitting in the cell below."
      ],
      "id": "9bfbecf2-7ac9-4f1f-9620-f518c7d4e574"
    },
    {
      "cell_type": "code",
      "execution_count": 41,
      "metadata": {},
      "outputs": [
        {
          "output_type": "stream",
          "name": "stdout",
          "text": [
            "nu_max_fit = 2.009 \n",
            "K_D_fit = 3.395997e-06"
          ]
        }
      ],
      "source": [
        "from scipy.optimize import curve_fit\n",
        "\n",
        "# Choose the variables from the dataframe\n",
        "x = df['Free Ligand [L](M)']\n",
        "y = df['n-bar']\n",
        "\n",
        "# Initial guess\n",
        "K_D_guess = 10**(-5)\n",
        "nu_max_guess = 1\n",
        "p0 = [K_D_guess, nu_max_guess]\n",
        "\n",
        "# Curve fit\n",
        "popt, pcov = curve_fit(nu, x, y, p0=p0)\n",
        "nu_max_fit, K_D_fit = popt\n",
        "print(f\"{nu_max_fit = :1.3f} \")\n",
        "print(f\"{K_D_fit = :e}\")"
      ],
      "id": "466e8bf2"
    },
    {
      "cell_type": "markdown",
      "metadata": {},
      "source": [
        "Are the parameters you find reasonable? How can you tell if they are\n",
        "reasonable by looking at the plot you made earlier?\n",
        "\n",
        "#### (f) Plot with fit\n",
        "\n",
        "When we have the fitted parameters we can calculate and plot the\n",
        "function. To do so we make an array of values for the independent\n",
        "variable and use our function to calculate the dependent variable"
      ],
      "id": "d09ca1d6-2fc5-41e6-9fa3-e36b2463f490"
    },
    {
      "cell_type": "code",
      "execution_count": 42,
      "metadata": {
        "exercise": true
      },
      "outputs": [],
      "source": [
        "# This makes 50 equally spaced points between 0 and the highest concentration x 1.2\n",
        "L = np.linspace(0, x.max()*1.2, 50) \n",
        "\n",
        "# Calculate by plugging L and the found parameters into the function.\n",
        "nu_calc = ..."
      ],
      "id": "e0360f50"
    },
    {
      "cell_type": "markdown",
      "metadata": {},
      "source": [
        "Now that we calculated the dependent variable we can plot the fit along\n",
        "with the data."
      ],
      "id": "6f7e943b-4105-426e-8b8b-736c883bd4b0"
    }
  ],
  "nbformat": 4,
  "nbformat_minor": 5,
  "metadata": {
    "kernelspec": {
      "name": "python3",
      "display_name": "Python 3 (ipykernel)",
      "language": "python",
      "path": "/home/runner/work/fysisk-biokemi/fysisk-biokemi/.venv/share/jupyter/kernels/python3"
    },
    "language_info": {
      "name": "python",
      "codemirror_mode": {
        "name": "ipython",
        "version": "3"
      },
      "file_extension": ".py",
      "mimetype": "text/x-python",
      "nbconvert_exporter": "python",
      "pygments_lexer": "ipython3",
      "version": "3.11.13"
    }
  }
}