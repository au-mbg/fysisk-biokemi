{
  "cells": [
    {
      "cell_type": "markdown",
      "metadata": {},
      "source": [
        "# Week 47"
      ],
      "id": "f7b9bcc6-5f30-47dc-8b31-0ecdcb3873d7"
    },
    {
      "cell_type": "code",
      "execution_count": 2,
      "metadata": {},
      "outputs": [],
      "source": [
        "try:\n",
        "    import fysisk_biokemi\n",
        "    print(\"Already installed\")\n",
        "except ImportError:\n",
        "    %pip install -q \"fysisk_biokemi[colab] @ git+https://github.com/au-mbg/fysisk-biokemi.git\""
      ],
      "id": "903a2f7a"
    },
    {
      "cell_type": "markdown",
      "metadata": {},
      "source": [
        "------------------------------------------------------------------------\n",
        "\n",
        "## Estimation of binding affinity\n",
        "\n",
        "#### (a) Train estimation skills\n",
        "\n",
        "Train your estimation skills using the widget below."
      ],
      "id": "0d3628eb-5e8e-40de-a722-3e139eac6dba"
    },
    {
      "cell_type": "code",
      "execution_count": 3,
      "metadata": {},
      "outputs": [],
      "source": [
        "from fysisk_biokemi.widgets.utils.colab import enable_custom_widget_colab\n",
        "from fysisk_biokemi.widgets import estimate_kd\n",
        "\n",
        "enable_custom_widget_colab()\n",
        "estimate_kd()"
      ],
      "id": "14090e03"
    },
    {
      "cell_type": "markdown",
      "metadata": {},
      "source": [
        "#### (b) Compare to quadratic\n",
        "\n",
        "The widget below shows the curves for $\\theta$ using both the simple\n",
        "expression and the quadratic binding expression. Use it to determine how\n",
        "large \\[P\\] has to be for them to be notably different."
      ],
      "id": "65cc59fc-a332-4205-9a26-354e6132d833"
    },
    {
      "cell_type": "code",
      "execution_count": 4,
      "metadata": {},
      "outputs": [],
      "source": [
        "from fysisk_biokemi.widgets.utils.colab import enable_custom_widget_colab\n",
        "from fysisk_biokemi.widgets import visualize_simple_vs_quadratic\n",
        "\n",
        "enable_custom_widget_colab()\n",
        "visualize_simple_vs_quadratic()"
      ],
      "id": "03cba652"
    },
    {
      "cell_type": "markdown",
      "metadata": {},
      "source": [
        "------------------------------------------------------------------------\n",
        "\n",
        "## The fluorescent protein “mCherry”.\n",
        "\n",
        "The spectra of many fluorescent proteins can be found at the website:\n",
        "[www.fpbase.org](https://www.fpbase.org/). Go to FPbase and search for\n",
        "“mCherry”.\n",
        "\n",
        "#### (a) Find parameters.\n",
        "\n",
        "Find the following parameters for the protein\n",
        "\n",
        "-   Extinction coefficient at absorbance maximum\n",
        "-   Quantum yield\n",
        "-   The organism from which it was originally isolated\n",
        "-   Molecular weight\n",
        "\n",
        "Save them to seperate variables in the cell below."
      ],
      "id": "7497f55d-eff1-44e1-aead-e928647241d8"
    },
    {
      "cell_type": "code",
      "execution_count": 6,
      "metadata": {
        "exercise": true
      },
      "outputs": [],
      "source": [
        "... # Your answers here. "
      ],
      "id": "d1651efc"
    },
    {
      "cell_type": "markdown",
      "metadata": {},
      "source": [
        "#### (b) Adorbance\n",
        "\n",
        "What is the absorbance of a 1 µM solution of mCherry at its absorption\n",
        "maximum?"
      ],
      "id": "1b25fd46-9cc1-40d3-9b73-d8ef43318eb6"
    },
    {
      "cell_type": "code",
      "execution_count": 7,
      "metadata": {
        "exercise": true
      },
      "outputs": [],
      "source": [
        "c = ... # Put the concentration in Molar\n",
        "l = ... # Path length in cm\n",
        "A_max = ... # Calculate the adsorbance.\n",
        "print(f\"{A_max = :3.3f}\")"
      ],
      "id": "119fa9cb"
    },
    {
      "cell_type": "markdown",
      "metadata": {},
      "source": [
        "#### (c) Extinction coefficient from sequence.\n",
        "\n",
        "The sequence of the protein is also given. From this determine the\n",
        "extinction coefficient at 280 nm.\n",
        "\n",
        "Start by taking the sequence from the website and assigning it to the\n",
        "variable `sequence` in the cell below."
      ],
      "id": "0182eca3-19c9-420f-ae9c-99e189812e8f"
    },
    {
      "cell_type": "code",
      "execution_count": 9,
      "metadata": {
        "exercise": true
      },
      "outputs": [],
      "source": [
        "sequence = ... # Your code here"
      ],
      "id": "60f386ab"
    },
    {
      "cell_type": "markdown",
      "metadata": {},
      "source": [
        "Now use the sequence to calculate the extinction coefficient, finish the\n",
        "code below (or take the function you implemented in a previous\n",
        "exercise!)"
      ],
      "id": "35431254-03cd-479d-a64c-5544e7a7a1fd"
    },
    {
      "cell_type": "code",
      "execution_count": 11,
      "metadata": {
        "exercise": true
      },
      "outputs": [
        {
          "output_type": "display_data",
          "metadata": {},
          "data": {
            "text/plain": [
              "Ellipsis"
            ]
          }
        }
      ],
      "source": [
        "# This is \"dictionary\" with the extinction coefficients of the relevant \n",
        "# amino acid residues. Dictionaries are indexed with 'keys', so you can retrieve\n",
        "# the value for W as: ext_residue[\"W\"].\n",
        "ext_residue = {\"W\": 5500, \"Y\": 1490, \"C\": 125}\n",
        "\n",
        "# Write code to calculate the extinction coefficent\n",
        "..."
      ],
      "id": "074d5dba"
    },
    {
      "cell_type": "markdown",
      "metadata": {},
      "source": [
        "#### (d) What is the concentration of a 1 µM solution of mCherry in mg/mL?"
      ],
      "id": "6d8641bd-85fe-43e5-a4df-f3cc1666b86f"
    },
    {
      "cell_type": "code",
      "execution_count": 13,
      "metadata": {
        "exercise": true
      },
      "outputs": [],
      "source": [
        "conc_molar = ... # Put the concentration in units of M. \n",
        "conc_mg_mL = ... # Calculate the concentration in uts of mg/mL.\n",
        "print(f\"{conc_mg_mL = }\")"
      ],
      "id": "8a5d49ca"
    },
    {
      "cell_type": "markdown",
      "metadata": {},
      "source": [
        "------------------------------------------------------------------------\n",
        "\n",
        "The excitation and emission spectra can be downloaded as a csv-file by\n",
        "clicking the download icon as highlighted below\n",
        "\n",
        "<img width=300 src=\"https://raw.githubusercontent.com/au-mbg/fysisk-biokemi/refs/heads/main/lessons/figures/week_47/download_spectra.png\">\n",
        "\n",
        "Figure 1: Screenshot of the download button on fpbase\n",
        "\n",
        "------------------------------------------------------------------------\n",
        "\n",
        "#### (e) Load the dataset\n",
        "\n",
        "Use the widget below to load the dataset as a `DataFrame`"
      ],
      "id": "7a040363-0029-426c-8f00-3fbd92b25f17"
    },
    {
      "cell_type": "code",
      "execution_count": 15,
      "metadata": {},
      "outputs": [],
      "source": [
        "from fysisk_biokemi.widgets import DataUploader\n",
        "from IPython.display import display \n",
        "uploader = DataUploader()\n",
        "uploader.display()"
      ],
      "id": "18eb3133"
    },
    {
      "cell_type": "markdown",
      "metadata": {},
      "source": [
        "Run the next cell **after** uploading the file"
      ],
      "id": "2913bacd-8888-4300-a954-c1e583254ca1"
    },
    {
      "cell_type": "code",
      "execution_count": 16,
      "metadata": {},
      "outputs": [],
      "source": [
        "df = uploader.get_dataframe()\n",
        "display(df)"
      ],
      "id": "8df85f5a"
    },
    {
      "cell_type": "markdown",
      "metadata": {},
      "source": [
        "#### (f) Plot spectra\n",
        "\n",
        "Make your own plot showing the excitation and emission spectra of\n",
        "“mCherry” using the above data.\n",
        "\n",
        "> **Tip**\n",
        ">\n",
        "> To plot we use the `matplotlib` package. Plots are generally just\n",
        "> straight lines connecting points, with enough points we get a smooth\n",
        "> looking figure.\n",
        ">\n",
        "> For example, to plot a line connecting three datapoints\n",
        ">\n",
        "> ``` python\n",
        "> fig, ax = plt.subplots()\n",
        ">\n",
        "> x = np.array([1, 2, 3])\n",
        "> y = np.array([1, 4, 9])\n",
        "> ax.plot(x, y)\n",
        "> plt.show()\n",
        "> ```\n",
        ">\n",
        "> Line 1  \n",
        "> This creates a `fig` and an `ax`, the `ax`-object is the box where our\n",
        "> plot is created.\n",
        ">\n",
        "> Line 3  \n",
        "> Define the data to put on the x-axis.\n",
        ">\n",
        "> Line 5  \n",
        "> Does the actual plotting\n",
        ">\n",
        "> Line 6  \n",
        "> Shows the figure\n",
        ">\n",
        "> There are *many* ways of customizing plots, you will see different\n",
        "> ones in the exercises, but by no means all of them - if you are\n",
        "> interested you can find more information on the [matplotlib\n",
        "> documentation](https://matplotlib.org/stable/users/index).\n",
        ">\n",
        "> You don’t have to worry about the `NaN` values in the dataset when\n",
        "> plotting, matplotlib just skips plotting that line segment."
      ],
      "id": "28a923c2-d874-41fa-9f99-d3781eb74088"
    },
    {
      "cell_type": "code",
      "execution_count": 18,
      "metadata": {
        "exercise": true
      },
      "outputs": [],
      "source": [
        "import matplotlib.pyplot as plt\n",
        "fig, ax = plt.subplots(figsize=(9, 4))\n",
        "ax.plot(..., ..., label='Excitation') # Replace ... with your code\n",
        "... # Replace ... with your code plotting the emission spectrum.\n",
        "ax.legend()\n",
        "ax.set_xlabel('Wavelength')\n",
        "ax.set_ylabel('Extinction & Emission')\n",
        "plt.show()"
      ],
      "id": "217ef3d6"
    },
    {
      "cell_type": "markdown",
      "metadata": {},
      "source": [
        "#### (g) Stokes shift\n",
        "\n",
        "What is the Stokes shift of mCherry?\n",
        "\n",
        "> **Tip**\n",
        ">\n",
        "> If you have two arrays `A` and `B` you can find the entry in `A`\n",
        "> corresponding to the largest value in `B` like this\n",
        ">\n",
        "> ``` python\n",
        "> A_at_B_max = A[np.argmax(B)]\n",
        "> ```\n",
        ">\n",
        "> The `np.argmax` stands for **arg**ument **max**imum meaning that it\n",
        "> finds the index of the maximum value in a given array. The figure\n",
        "> below illustrates this\n",
        ">\n",
        "> <img width=300 src=\"https://raw.githubusercontent.com/au-mbg/fysisk-biokemi/refs/heads/main/lessons/figures/week_47/np_argmax.png\">\n",
        ">\n",
        "> Figure 2: Illustration of argmax"
      ],
      "id": "d86240b2-ad87-4571-86f8-cd3763e02a2d"
    },
    {
      "cell_type": "code",
      "execution_count": 20,
      "metadata": {
        "exercise": true
      },
      "outputs": [],
      "source": [
        "import numpy as np\n",
        "# Start by extracting the wavelengths from the DataFrame\n",
        "wavelengths = ...\n",
        "\n",
        "# Find the indices\n",
        "ex_max_idx = np.argmax(...)\n",
        "em_max_idx = ...\n",
        "\n",
        "# Use the index to find the corresponding wavelengths\n",
        "lambda_ex = wavelengths[...]\n",
        "lambda_em = ...\n",
        "\n",
        "stokes_shift = ...\n",
        "\n",
        "print(f\"{lambda_ex = :d}\")\n",
        "print(f\"{lambda_em = :d}\")\n",
        "print(f\"{stokes_shift = :d}\")"
      ],
      "id": "6f7fd4c2"
    },
    {
      "cell_type": "markdown",
      "metadata": {},
      "source": [
        "#### (h) Colors\n",
        "\n",
        "What colors are the light that correspond to the excitation and emission\n",
        "maxima respectively?\n",
        "\n",
        "------------------------------------------------------------------------\n",
        "\n",
        "## Proteins in blood plasma.\n",
        "\n",
        "In this exercise we will learn how Python is excellent for handling\n",
        "datasets with many data points and how it can be used to apply the same\n",
        "procedure to all the data points at once.\n",
        "\n",
        "A researcher wants to determine the concentration of two proteins in\n",
        "blood plasma that is suspected to be involved in development of an\n",
        "autoimmune disease. 500 patients and 500 healthy individuals were\n",
        "included in the study and absorbance measurements of the two purified\n",
        "proteins from all blood plasma samples were measured at 280 nm. The\n",
        "molecular weight and extinction coefficients of the two proteins are\n",
        "given in the table below.\n",
        "\n",
        "| Protein | $M_w$ $[\\text{kDa}]$ | $\\epsilon$ $[\\text{M}^{-1}\\text{cm}^{-1}]$ |\n",
        "|-----------------------|---------------------|-----------------------------|\n",
        "| 1       | 130                  | 180000                                     |\n",
        "| 2       | 57                   | 80000                                      |\n",
        "\n",
        "Properties of the two proteins.\n",
        "\n",
        "#### (a) Load the dataset\n",
        "\n",
        "Use the widget to load the dataset as a dataframe from the file\n",
        "**week47_3_protein_blood_plasma.xlsx**"
      ],
      "id": "806cbc5e-50fa-46e5-849a-a9a50441f528"
    },
    {
      "cell_type": "code",
      "execution_count": 22,
      "metadata": {},
      "outputs": [],
      "source": [
        "from IPython.display import display \n",
        "from fysisk_biokemi.widgets import DataUploader\n",
        "uploader = DataUploader()\n",
        "uploader.display()"
      ],
      "id": "7868b9ad"
    },
    {
      "cell_type": "markdown",
      "metadata": {},
      "source": [
        "Run this cell **after** having uploaded the file in the cell above."
      ],
      "id": "816480bf-e88c-4dab-8a0e-c52e50ccb830"
    },
    {
      "cell_type": "code",
      "execution_count": 23,
      "metadata": {},
      "outputs": [],
      "source": [
        "df = uploader.get_dataframe()\n",
        "display(df)"
      ],
      "id": "1237b5d5"
    },
    {
      "cell_type": "markdown",
      "metadata": {},
      "source": [
        "#### (b) Calculate concentrations\n",
        "\n",
        "Calculate the molar concentration of the two proteins in all samples,\n",
        "the light path for every measurement is 0.1 cm.\n",
        "\n",
        "Always a good idea to assign known values to variables"
      ],
      "id": "11fe3dfe-0f7f-47f3-bfdf-a747f609020d"
    },
    {
      "cell_type": "code",
      "execution_count": 25,
      "metadata": {},
      "outputs": [],
      "source": [
        "protein_1_ext_coeff = 180000\n",
        "protein_2_ext_coeff = 80000\n",
        "l = 0.1"
      ],
      "id": "7c31721b"
    },
    {
      "cell_type": "markdown",
      "metadata": {},
      "source": [
        "> **Tip**\n",
        ">\n",
        "> You can set new columns in a `DataFrame` by just assigning to it\n",
        ">\n",
        "> ``` python\n",
        "> df['new_column'] = [1, 2, 3, ..., 42]\n",
        "> ```\n",
        ">\n",
        "> It can also be set as a computation of a property from another row\n",
        ">\n",
        "> ``` python\n",
        "> df['new_column'] = df['current_column'] / 4\n",
        "> ```"
      ],
      "id": "53b4a912-6b02-4510-a3af-c4f6a885d3b8"
    },
    {
      "cell_type": "code",
      "execution_count": 26,
      "metadata": {
        "exercise": true
      },
      "outputs": [],
      "source": [
        "df['protein1_healthy_molar_conc'] = ... # Calculate for concentration in healthy for protein 1.\n",
        "... # Your code that updates the data frame with the 3 other new columns.\n",
        "display(df)"
      ],
      "id": "fabe1d7d"
    },
    {
      "cell_type": "markdown",
      "metadata": {},
      "source": [
        "#### (c). Concentrations in mg/mL\n",
        "\n",
        "Add another set of four columns containing the concentrations in mg/mL."
      ],
      "id": "65f40ac4-7b88-48ad-84cc-0c8cfdad49e3"
    },
    {
      "cell_type": "code",
      "execution_count": 28,
      "metadata": {},
      "outputs": [],
      "source": [
        "protein_1_mw = 130 * 10**3\n",
        "protein_2_mw = 57 * 10**3"
      ],
      "id": "4b18f8f9"
    },
    {
      "cell_type": "code",
      "execution_count": 29,
      "metadata": {
        "exercise": true
      },
      "outputs": [],
      "source": [
        "df['protein1_healthy_conc'] = ...\n",
        "df['protein1_patient_conc'] = ...\n",
        "df['protein2_healthy_conc'] = ...\n",
        "df['protein2_patient_conc'] = ...\n",
        "\n",
        "names = ['protein1_healthy_conc', 'protein1_patient_conc', 'protein2_healthy_conc', 'protein2_patient_conc']\n",
        "display(df[names])"
      ],
      "id": "8fb85c03"
    },
    {
      "cell_type": "markdown",
      "metadata": {},
      "source": [
        "#### (d) Mean concentration\n",
        "\n",
        "Now that we have the concentrations, calculate the concentration in the\n",
        "four categories.\n",
        "\n",
        "> **Tip**\n",
        ">\n",
        "> When displaying the dataframe above we used indexed it with `names` as\n",
        "> `df[names]`. We can do the same to compute something over just the\n",
        "> four rows.\n",
        ">\n",
        "> For example the if we have a `DataFrame` called `example_df`, we can\n",
        "> calculate the mean over the **rows** as:\n",
        ">\n",
        "> ``` python\n",
        "> df[names].mean(axis=0)\n",
        "> ```\n",
        ">\n",
        "> Here `axis=0` means that we apply the operation over the first axis\n",
        "> which by convention are the rows. The figure below visualizes this\n",
        ">\n",
        "> ![](https://numpy.org/doc/stable/_images/np_matrix_aggregation_row.png)"
      ],
      "id": "67926100-879c-4349-b479-e5d00fd66825"
    },
    {
      "cell_type": "code",
      "execution_count": 31,
      "metadata": {
        "exercise": true
      },
      "outputs": [],
      "source": [
        "mean = ...\n",
        "display(mean)"
      ],
      "id": "beb9210f"
    },
    {
      "cell_type": "markdown",
      "metadata": {},
      "source": [
        "#### (e) Standard deviation\n",
        "\n",
        "Calculate the standard deviation\n",
        "\n",
        "> **Tip**\n",
        ">\n",
        "> The standard deviation can be calculated using the `.std`-method that\n",
        "> works in the same way as the `.mean`-method we used above."
      ],
      "id": "b684c86a-6bd8-4b21-b781-2c4f75673675"
    },
    {
      "cell_type": "code",
      "execution_count": 33,
      "metadata": {
        "exercise": true
      },
      "outputs": [],
      "source": [
        "std = ...\n",
        "display(std)"
      ],
      "id": "dadb52a8"
    },
    {
      "cell_type": "markdown",
      "metadata": {},
      "source": [
        "#### (f) Analyze the results\n",
        "\n",
        "Consider the following questions\n",
        "\n",
        "-   By comparing healthy individuals with patients, would you expect\n",
        "    that any of the two proteins would be involved in disease\n",
        "    development?\n",
        "-   What additional information does the standard deviation provide\n",
        "    besides the average value of the protein concentration?\n",
        "\n",
        "------------------------------------------------------------------------\n",
        "\n",
        "## Dialysis experiment"
      ],
      "id": "fabab0e6-813b-4e76-b283-c753e44491ca"
    },
    {
      "cell_type": "code",
      "execution_count": 35,
      "metadata": {},
      "outputs": [],
      "source": [
        "import numpy as np"
      ],
      "id": "bb387d7a"
    },
    {
      "cell_type": "markdown",
      "metadata": {},
      "source": [
        "A dialysis experiment was set up where equal amounts of a protein were\n",
        "separately dialyzing against buffers containing different concentrations\n",
        "of a ligand – each measurement was done in triplicate. The average\n",
        "number of ligands bound per protein molecule, $\\bar{n}$ were obtained\n",
        "from these experiments. The corresponding concentrations of free ligand\n",
        "and values are given in dataset `week47_4_dialysis_experiment.xlsx`.\n",
        "\n",
        "#### (a) Load the dataset"
      ],
      "id": "2ccdcadb-713c-4a15-9396-932bd41618df"
    },
    {
      "cell_type": "code",
      "execution_count": 36,
      "metadata": {},
      "outputs": [],
      "source": [
        "from fysisk_biokemi.widgets import DataUploader\n",
        "from IPython.display import display \n",
        "uploader = DataUploader()\n",
        "uploader.display()"
      ],
      "id": "bd364a44"
    },
    {
      "cell_type": "markdown",
      "metadata": {},
      "source": [
        "Run the next cell **after** uploading the file"
      ],
      "id": "7a2b4fec-7d06-4574-8cf1-1d9c93d7d1b1"
    },
    {
      "cell_type": "code",
      "execution_count": 37,
      "metadata": {},
      "outputs": [],
      "source": [
        "df = uploader.get_dataframe()\n",
        "display(df)"
      ],
      "id": "01c66701"
    },
    {
      "cell_type": "markdown",
      "metadata": {},
      "source": [
        "#### (b) Explain calculation of $\\bar{n}$\n",
        "\n",
        "Explain how the values of $\\bar{n}$ is calculated when knowing the\n",
        "concentrations of ligand inside and outside the dialysis bag, as well as\n",
        "the total concentration of the protein, \\[$\\text{P}_{\\text{tot}}$\\].\n",
        "\n",
        "#### (c) Molar concentrations\n",
        "\n",
        "Convert the concentrations of free ligand to SI-units given in M, add it\n",
        "as a row to the `DataFrame`.\n",
        "\n",
        "#### (c) Plot the data"
      ],
      "id": "f802afc5-85f3-46b3-b351-5e0f74d8e78e"
    },
    {
      "cell_type": "code",
      "execution_count": 40,
      "metadata": {
        "exercise": true
      },
      "outputs": [],
      "source": [
        "import matplotlib.pyplot as plt\n",
        "\n",
        "fig, ax = plt.subplots()\n",
        "\n",
        "# The 'o' means we plot just the points and don't connect them.\n",
        "ax.plot(..., ..., 'o') # Replace ... with your code.\n",
        "\n",
        "ax.set_xlabel('Free ligand [L] (M)', fontsize=16)\n",
        "ax.set_ylabel(r'$\\bar{n}$', fontsize=16)"
      ],
      "id": "c4d90870"
    },
    {
      "cell_type": "markdown",
      "metadata": {},
      "source": [
        "#### (d) Prepare for fitting\n",
        "\n",
        "Now we want to fit the data to extract $K_D$ and $\\nu_{\\text{max}}$, by\n",
        "using the equation\n",
        "\n",
        "$$\n",
        "\\nu([L_{\\text{free}}]) = \\nu_{\\text{max}} \\frac{[L_{\\text{free}}]}{K_D + [L_{\\text{free}}]}\n",
        "$$\n",
        "\n",
        "To do so we need to implmenet it as a Python function"
      ],
      "id": "2f545b4b-0c84-4a54-a0b6-f9dd248e9127"
    },
    {
      "cell_type": "code",
      "execution_count": 42,
      "metadata": {
        "exercise": true
      },
      "outputs": [],
      "source": [
        "def nu(L, nu_max, K_D):\n",
        "    # Replace ... with your code that calculates the above equation. \n",
        "    # Be careful with parenthesis!\n",
        "    result = ... \n",
        "    return result\n",
        "\n",
        "print(f\"{nu(1, 1, 1) = }\") # Should give 1/2\n",
        "print(f\"{nu(21, 47, 2.5) = }\") # Should give 42"
      ],
      "id": "571fe301"
    },
    {
      "cell_type": "markdown",
      "metadata": {},
      "source": [
        "#### (e) Actually fitting\n",
        "\n",
        "> **Important**\n",
        ">\n",
        "> Fitting refers to finding the parameters that make an assumed\n",
        "> functional form best ‘fit’ the data. Programmatically we will use the\n",
        "> `curve_fit` from the `scipy` package to do so. The signature of this\n",
        "> function looks like this\n",
        ">\n",
        "> ``` python\n",
        "> curve_fit(function, \n",
        ">             x_data, \n",
        ">             y_data, \n",
        ">             p0=[param_1, param_2, ...])\n",
        "> ```\n",
        ">\n",
        "> The arguments are\n",
        ">\n",
        "> -   `function`: A python function where the **first** argument is the\n",
        ">     independent variable, and other arguments are the parameters of\n",
        ">     the functions.\n",
        "> -   `x_data`: The observed values of the independent variable.\n",
        "> -   `y_data`: The observed values of the dependent variable.\n",
        "> -   `p0`: Initial guesses for the parameters.\n",
        ">\n",
        "> When called `curve_fit` starts by calculating how well the functions\n",
        "> fits the data with the initial parameters in `p0` and then iteratively\n",
        "> improves the fit by trying new values for the parameters in an\n",
        "> intelligent way.\n",
        ">\n",
        "> The found parameters will generally depend on `p0` and it is therefore\n",
        "> necessary to provide a good (or good enough) guess for `p0`.\n",
        ">\n",
        "> Generally, the best way to learn more about a function is to read it’s\n",
        "> documentation and then play around with it. The documentation is in\n",
        "> this case on the [SciPy\n",
        "> website](https://docs.scipy.org/doc/scipy/reference/generated/scipy.optimize.curve_fit.html).\n",
        "> You don’t need to read it, unless you want more details.\n",
        "\n",
        "Finish the code to perform the fitting in the cell below."
      ],
      "id": "0cd91ce6-ddbc-4dd8-857e-012c8c723f0d"
    },
    {
      "cell_type": "code",
      "execution_count": 44,
      "metadata": {
        "exercise": true
      },
      "outputs": [],
      "source": [
        "from scipy.optimize import curve_fit\n",
        "\n",
        "# Choose the variables from the dataframe\n",
        "x = df['Free Ligand [L](M)']\n",
        "y = df['n-bar']\n",
        "\n",
        "# Initial guess\n",
        "K_D_guess = ... # Your initial guess for K_D \n",
        "nu_max_guess = ... # Your initial guess for nu_max\n",
        "p0 = [K_D_guess, nu_max_guess]\n",
        "\n",
        "# Curve fit\n",
        "# Replace the four ... with the correct arguments in the correct order.\n",
        "popt, pcov = curve_fit(..., ..., ..., ...) \n",
        "\n",
        "# Print the parameters\n",
        "nu_max_fit, K_D_fit = popt\n",
        "print(f\"{nu_max_fit = :1.3f} \")\n",
        "print(f\"{K_D_fit = :e}\")"
      ],
      "id": "f4d0bb24"
    },
    {
      "cell_type": "markdown",
      "metadata": {},
      "source": [
        "Are the parameters you find reasonable? How can you tell if they are\n",
        "reasonable by looking at the plot you made earlier?\n",
        "\n",
        "#### (f) Plot with fit\n",
        "\n",
        "When we have the fitted parameters we can calculate and plot the\n",
        "function. To do so we make an array of values for the independent\n",
        "variable and use our function to calculate the dependent variable"
      ],
      "id": "98b6f84a-128c-423e-ba50-430d3ee20006"
    },
    {
      "cell_type": "code",
      "execution_count": 46,
      "metadata": {
        "exercise": true
      },
      "outputs": [],
      "source": [
        "# This makes 50 equally spaced points between 0 and the highest concentration x 1.2\n",
        "L = np.linspace(0, x.max()*1.2, 50) \n",
        "\n",
        "# Calculate by plugging L and the found parameters into the function.\n",
        "nu_calc = ..."
      ],
      "id": "ef5abbb9"
    },
    {
      "cell_type": "markdown",
      "metadata": {},
      "source": [
        "Now that we calculated the dependent variable we can plot the fit along\n",
        "with the data.\n",
        "\n",
        "------------------------------------------------------------------------\n",
        "\n",
        "## ADP binding to pyruvate kinase.\n",
        "\n",
        "The binding of ADP to the enzyme pyruvate kinase was measured by\n",
        "fluorescence. The enzyme concentration was 4 μM throughout the\n",
        "titration, and each measurement was done in triplicate. The binding\n",
        "results were obtained at 310 K and are given in the `.csv`-file\n",
        "`week47_5_adp_pyruvate.csv`.\n",
        "\n",
        "#### (a) Load the dataset\n",
        "\n",
        "As always, use the widget to load the dataset"
      ],
      "id": "e6752c55-ea39-4cf8-8545-7d2925c6329a"
    },
    {
      "cell_type": "code",
      "execution_count": 49,
      "metadata": {},
      "outputs": [],
      "source": [
        "from fysisk_biokemi.widgets import DataUploader\n",
        "from IPython.display import display \n",
        "uploader = DataUploader()\n",
        "uploader.display()"
      ],
      "id": "a6fe38b2"
    },
    {
      "cell_type": "markdown",
      "metadata": {},
      "source": [
        "Run the next cell **after** uploading the file"
      ],
      "id": "06fff9c2-0ae5-4cf4-8ebd-5e6637241477"
    },
    {
      "cell_type": "code",
      "execution_count": 50,
      "metadata": {},
      "outputs": [],
      "source": [
        "df = uploader.get_dataframe()\n",
        "display(df)"
      ],
      "id": "a282afe8"
    },
    {
      "cell_type": "markdown",
      "metadata": {},
      "source": [
        "#### (b) Units\n",
        "\n",
        "The concentrations in the dataset are given in mM, add a new column to\n",
        "the `DataFrame` with the units given in M."
      ],
      "id": "b99f653a-f94e-4159-993c-279255eb5b5b"
    },
    {
      "cell_type": "code",
      "execution_count": 52,
      "metadata": {
        "exercise": true
      },
      "outputs": [],
      "source": [
        "df['[ADPtot](M)'] = ...\n",
        "display(df)"
      ],
      "id": "bd44be63"
    },
    {
      "cell_type": "markdown",
      "metadata": {},
      "source": [
        "#### (c) Free ADP concentration\n",
        "\n",
        "For each value of $\\bar{n}$ calculate the concentration of\n",
        "\\[ADP$_\\text{free}$\\] from \\[ADP$_\\text{tot}$\\] and \\[enzyme\\]."
      ],
      "id": "7084f97d-c051-46fe-a9a9-045527e23367"
    },
    {
      "cell_type": "code",
      "execution_count": 54,
      "metadata": {
        "exercise": true
      },
      "outputs": [],
      "source": [
        "enzyme_conc = ...\n",
        "df['[ADPfree](M)'] = ...\n",
        "display(df)"
      ],
      "id": "f9ba005e"
    },
    {
      "cell_type": "markdown",
      "metadata": {},
      "source": [
        "#### (d) Make a plot\n",
        "\n",
        "Make a plot of the free ligand concentration versus $\\bar{n}$."
      ],
      "id": "d92ba228-69b3-4def-bead-7192538aea74"
    },
    {
      "cell_type": "code",
      "execution_count": 56,
      "metadata": {
        "exercise": true
      },
      "outputs": [],
      "source": [
        "fig, ax = plt.subplots(figsize=(7, 4))\n",
        "\n",
        "# Write the code to make the plot.\n",
        "# Add the arguments:  marker='o', linestyle='none' to only plot points and not line segments.\n",
        "... # Add your code here!\n",
        "\n",
        "ax.set_xlabel(r'$[\\text{ADP}_{\\text{free}}]$', fontsize=14)\n",
        "ax.set_ylabel(r'$\\bar{n}$', fontsize=14)"
      ],
      "id": "c0ba7afb"
    },
    {
      "cell_type": "markdown",
      "metadata": {},
      "source": [
        "#### (f) Preparing for fitting\n",
        "\n",
        "To fit we need a implement the function we want to fit the parameters\n",
        "of, the functional form is\n",
        "\n",
        "$$\n",
        "n = n_{\\text{max}} \\frac{[L]^n}{K_D + [L]^n}\n",
        "$$"
      ],
      "id": "d67fa2a7-ed0a-4c12-a34f-ce244190918e"
    },
    {
      "cell_type": "code",
      "execution_count": 58,
      "metadata": {
        "exercise": true
      },
      "outputs": [],
      "source": [
        "def n_bound(L, n_max, K_D, n_exp):\n",
        "    return ...\n",
        "\n",
        "print(f\"{n_bound(1, 1, 1, 1) = }\") # Should give 1/2\n",
        "print(f\"{n_bound(21, 47, 2.5, 1) = }\") # Should give 42\n",
        "print(f\"{n_bound(21, 47, 2.5, 2) = }\") # Should give 46.73.."
      ],
      "id": "51132e59"
    },
    {
      "cell_type": "markdown",
      "metadata": {},
      "source": [
        "#### (e) Fitting\n",
        "\n",
        "Finish the code below to create a fit."
      ],
      "id": "f9e20e31-70e4-4b45-8ebf-a0ca3d4845a6"
    },
    {
      "cell_type": "code",
      "execution_count": 60,
      "metadata": {
        "exercise": true
      },
      "outputs": [],
      "source": [
        "from scipy.optimize import curve_fit\n",
        "\n",
        "# Choose the variables from the dataframe\n",
        "x = df['[ADPfree](M)']\n",
        "y = df['nbar']\n",
        "\n",
        "# Initial guess\n",
        "K_D_guess = ... # Your initial guess for K_D \n",
        "nu_max_guess = ... # Your initial guess for nu_max\n",
        "n_exp = ... # Your initial guess for the exponent.\n",
        "p0 = [K_D_guess, nu_max_guess, n_exp]\n",
        "\n",
        "# Bounds\n",
        "bounds = (0, np.inf) # We limit the parameters to be positve.\n",
        "\n",
        "# Curve fit\n",
        "popt, pcov = curve_fit(n_bound, x, y, p0=p0, bounds=bounds)\n",
        "\n",
        "# Print the parameters\n",
        "n_max_fit, K_D_fit, n_exp_fit = popt\n",
        "print(f\"{n_max_fit = :1.3f} \")\n",
        "print(f\"{K_D_fit = :e}\")\n",
        "print(f\"{n_exp_fit = :1.3f} \")"
      ],
      "id": "8f0f8c32"
    },
    {
      "cell_type": "markdown",
      "metadata": {},
      "source": [
        "Once we’ve obtained the fitted parameters we can plot the fit together\n",
        "with the data."
      ],
      "id": "a98f9b2a-60e9-442b-90a4-8517cbd12c78"
    },
    {
      "cell_type": "code",
      "execution_count": 62,
      "metadata": {
        "exercise": true
      },
      "outputs": [],
      "source": [
        "L = np.linspace(0, 1.2 * x.max(), 50)\n",
        "n = n_bound(L, n_max_fit, K_D_fit, 1)\n",
        "\n",
        "fig, ax = plt.subplots(figsize=(7, 4))\n",
        "ax.plot(df['[ADPfree](M)'], df['nbar'], 'o', label='Observations')\n",
        "ax.plot(L, n)\n",
        "ax.axvline(K_D_fit, color='k', linewidth=0.5, linestyle='--')\n",
        "ax.axhline(n_max_fit, color='k', linewidth=0.5, linestyle='--')\n",
        "\n",
        "\n",
        "ax.set_xlabel(r'$[\\text{ADP}_{\\text{free}}]$', fontsize=14)\n",
        "ax.set_ylabel(r'$\\bar{n}$', fontsize=14)\n",
        "ax.set_ylim([0, n.max()*1.1])"
      ],
      "id": "99a00f0a"
    },
    {
      "cell_type": "markdown",
      "metadata": {},
      "source": [
        "### Free energy\n",
        "\n",
        "Calculate the free energy for the association of the ADP-pyruvate kinase\n",
        "complex assuming\n",
        "$R = 8.314472 \\times 10^{-3} \\ \\frac{\\text{kJ}}{\\text{mol} \\cdot \\text{K}}$\n",
        "and $T = 310 \\ \\text{K}$.\n",
        "\n",
        "> **Tip**\n",
        ">\n",
        "> Consider the difference between association and dissociation\n",
        "\n",
        "Start by defining the two given constants as variables"
      ],
      "id": "20b45573-5e24-41c5-8aa4-2ac97a5dd04f"
    },
    {
      "cell_type": "code",
      "execution_count": 64,
      "metadata": {
        "exercise": true
      },
      "outputs": [],
      "source": [
        "R = ...\n",
        "T = ..."
      ],
      "id": "73511de3"
    },
    {
      "cell_type": "markdown",
      "metadata": {},
      "source": [
        "And do the calculation"
      ],
      "id": "7b22e8ab-9619-4500-a0cb-e42e8a7dff4c"
    },
    {
      "cell_type": "code",
      "execution_count": 66,
      "metadata": {
        "exercise": null
      },
      "outputs": [],
      "source": [
        "delta_G = ...\n",
        "print(f\"{delta_G = :.3f} kJ/mol\")"
      ],
      "id": "b59c9e6c"
    }
  ],
  "nbformat": 4,
  "nbformat_minor": 5,
  "metadata": {
    "kernelspec": {
      "name": "python3",
      "display_name": "Python 3 (ipykernel)",
      "language": "python",
      "path": "/home/runner/work/fysisk-biokemi/fysisk-biokemi/.venv/share/jupyter/kernels/python3"
    },
    "language_info": {
      "name": "python",
      "codemirror_mode": {
        "name": "ipython",
        "version": "3"
      },
      "file_extension": ".py",
      "mimetype": "text/x-python",
      "nbconvert_exporter": "python",
      "pygments_lexer": "ipython3",
      "version": "3.11.13"
    }
  }
}