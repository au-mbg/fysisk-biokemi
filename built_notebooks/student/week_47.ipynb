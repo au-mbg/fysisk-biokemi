{
  "cells": [
    {
      "cell_type": "markdown",
      "metadata": {},
      "source": [
        "# Week 47"
      ],
      "id": "9424135b-7b92-438e-8e3c-ae8e459f4726"
    },
    {
      "cell_type": "code",
      "execution_count": 2,
      "metadata": {},
      "outputs": [],
      "source": [
        "try:\n",
        "    import fysisk_biokemi\n",
        "    print(\"Already installed\")\n",
        "except ImportError:\n",
        "    %pip install -q \"fysisk_biokemi[colab] @ git+https://github.com/au-mbg/fysisk-biokemi.git\""
      ],
      "id": "aa90c506"
    },
    {
      "cell_type": "markdown",
      "metadata": {},
      "source": [
        "------------------------------------------------------------------------\n",
        "\n",
        "## The fluorescent protein “mCherry”.\n",
        "\n",
        "The spectra of many fluorescent proteins can be found at the website:\n",
        "[www.fpbase.org](https://www.fpbase.org/). Go to FPbase and search for\n",
        "“mCherry”.\n",
        "\n",
        "#### (a) Find parameters.\n",
        "\n",
        "Find the following parameters for the protein\n",
        "\n",
        "-   Extinction coefficient at absorbance maximum\n",
        "-   Quantum yield\n",
        "-   The organism from which it was originally isolated\n",
        "-   Molecular weight\n",
        "\n",
        "Save them to seperate variables in the cell below."
      ],
      "id": "d7f01ced-7b9d-4d57-b9a3-b8e920c8f9d9"
    },
    {
      "cell_type": "code",
      "execution_count": 4,
      "metadata": {
        "exercise": true
      },
      "outputs": [],
      "source": [
        "... # Your answers here. "
      ],
      "id": "6feaf241"
    },
    {
      "cell_type": "markdown",
      "metadata": {},
      "source": [
        "#### (b) Adorbance\n",
        "\n",
        "What is the absorbance of a 1 µM solution of mCherry at its absorption\n",
        "maximum?"
      ],
      "id": "0885f379-2951-4b54-8f5c-daf868517981"
    },
    {
      "cell_type": "code",
      "execution_count": 5,
      "metadata": {
        "exercise": true
      },
      "outputs": [],
      "source": [
        "c = ... # Put the concentration in Molar\n",
        "l = ... # Path length in cm\n",
        "A_max = ... # Calculate the adsorbance.\n",
        "print(f\"{A_max = :3.3f}\")"
      ],
      "id": "11551376"
    },
    {
      "cell_type": "markdown",
      "metadata": {},
      "source": [
        "#### (c) Extinction coefficient from sequence.\n",
        "\n",
        "The sequence of the protein is also given. From this determine the\n",
        "extinction coefficient at 280 nm.\n",
        "\n",
        "Start by taking the sequence from the website and assigning it to the\n",
        "variable `sequence` in the cell below."
      ],
      "id": "4324f245-b92d-423d-b8cb-beb1db4ce65f"
    },
    {
      "cell_type": "code",
      "execution_count": 7,
      "metadata": {
        "exercise": true
      },
      "outputs": [],
      "source": [
        "sequence = ... # Your code here"
      ],
      "id": "50e88c02"
    },
    {
      "cell_type": "markdown",
      "metadata": {},
      "source": [
        "Now use the sequence to calculate the extinction coefficient"
      ],
      "id": "c3b26356-1ae4-4ce4-89f7-7d3fc9a3ec3e"
    },
    {
      "cell_type": "code",
      "execution_count": 9,
      "metadata": {
        "exercise": true
      },
      "outputs": [
        {
          "output_type": "display_data",
          "metadata": {},
          "data": {
            "text/plain": [
              "Ellipsis"
            ]
          }
        }
      ],
      "source": [
        "# This is \"dictionary\" with the extinction coefficients of the relevant \n",
        "# amino acid residues. Dictionaries are indexed with 'keys', so you can retrieve\n",
        "# the value for W as: ext_residue[\"W\"].\n",
        "ext_residue = {\"W\": 5500, \"Y\": 1490, \"C\": 125}\n",
        "\n",
        "# Write code to calculate the extinction coefficent\n",
        "..."
      ],
      "id": "7aed9591"
    },
    {
      "cell_type": "markdown",
      "metadata": {},
      "source": [
        "#### (d) What is the concentration of a 1 µM solution of mCherry in mg/mL?"
      ],
      "id": "07723637-65bb-4a6d-9f7c-5d66dfeaef04"
    },
    {
      "cell_type": "code",
      "execution_count": 11,
      "metadata": {
        "exercise": true
      },
      "outputs": [],
      "source": [
        "conc_molar = ... # Put the concentration in units of M. \n",
        "conc_mg_mL = ... # Calculate the concentration in uts of mg/mL.\n",
        "print(f\"{conc_mg_mL = }\")"
      ],
      "id": "f88ec930"
    },
    {
      "cell_type": "markdown",
      "metadata": {},
      "source": [
        "------------------------------------------------------------------------\n",
        "\n",
        "The excitation and emission spectra can be downloaded as a csv-file by\n",
        "clicking the download icon as highlighted below\n",
        "\n",
        "<figure>\n",
        "<img\n",
        "src=\"https://raw.githubusercontent.com/au-mbg/fysisk-biokemi/refs/heads/main/lessons/figures/week_47/download_spectra.png\"\n",
        "alt=\"Download spectra\" />\n",
        "<figcaption aria-hidden=\"true\">Download spectra</figcaption>\n",
        "</figure>\n",
        "\n",
        "------------------------------------------------------------------------\n",
        "\n",
        "#### (e) Load the dataset\n",
        "\n",
        "Use the widget below to load the dataset as a `DataFrame`"
      ],
      "id": "e73b1790-054d-456e-b0b0-b5d800f8f1df"
    },
    {
      "cell_type": "code",
      "execution_count": 13,
      "metadata": {},
      "outputs": [],
      "source": [
        "from fysisk_biokemi.widgets import DataUploader\n",
        "from IPython.display import display \n",
        "uploader = DataUploader()\n",
        "uploader.display()"
      ],
      "id": "19f68dff"
    },
    {
      "cell_type": "markdown",
      "metadata": {},
      "source": [
        "Run the next cell **after** uploading the file"
      ],
      "id": "7d7c9343-01d0-4672-8222-3af60e3a08de"
    },
    {
      "cell_type": "code",
      "execution_count": 14,
      "metadata": {},
      "outputs": [],
      "source": [
        "df = uploader.get_dataframe()\n",
        "display(df)"
      ],
      "id": "bf96f66c"
    },
    {
      "cell_type": "markdown",
      "metadata": {},
      "source": [
        "#### (f) Plot spectra\n",
        "\n",
        "Make your own plot showing the excitation and emission spectra of\n",
        "“mCherry” using the above data.\n",
        "\n",
        "> **Tip**\n",
        ">\n",
        "> You don’t have to worry about the `NaN` values in the dataset when\n",
        "> plotting, matplotlib just skips plotting that line segment."
      ],
      "id": "3416ef57-e258-4d86-a4ac-78cadb0552bf"
    },
    {
      "cell_type": "code",
      "execution_count": 16,
      "metadata": {
        "exercise": true
      },
      "outputs": [],
      "source": [
        "import matplotlib.pyplot as plt\n",
        "fig, ax = plt.subplots(figsize=(9, 4))\n",
        "ax.plot(..., ..., label='Excitation') # Replace ... with your code\n",
        "... # Replace ... with your code plotting the emission spectrum.\n",
        "ax.legend()\n",
        "ax.set_xlabel('Wavelength')\n",
        "ax.set_ylabel('Extinction & Emission')\n",
        "plt.show()"
      ],
      "id": "6278f86b"
    },
    {
      "cell_type": "markdown",
      "metadata": {},
      "source": [
        "#### (g) Stokes shift\n",
        "\n",
        "What is the Stokes shift of mCherry?\n",
        "\n",
        "> **Tip**\n",
        ">\n",
        "> If you have two arrays `A` and `B` you can find the entry in `A`\n",
        "> corresponding to the largest value in `B` like this\n",
        ">\n",
        "> ``` python\n",
        "> A_at_B_max = A[np.argmax(B)]\n",
        "> ```"
      ],
      "id": "e3529b7c-2740-45c9-b5bd-03014c215760"
    },
    {
      "cell_type": "code",
      "execution_count": 18,
      "metadata": {
        "exercise": true
      },
      "outputs": [],
      "source": [
        "import numpy as np\n",
        "lambda_ex = df['wavelength'][np.argmax(df['mCherry ex'])]\n",
        "lambda_em = df['wavelength'][np.argmax(df['mCherry em'])]\n",
        "stokes_shift = lambda_em - lambda_ex\n",
        "\n",
        "print(f\"{lambda_ex = :d}\")\n",
        "print(f\"{lambda_em = :d}\")\n",
        "print(f\"{stokes_shift = :d}\")"
      ],
      "id": "6c7fdf37"
    },
    {
      "cell_type": "markdown",
      "metadata": {},
      "source": [
        "#### (h) Colors\n",
        "\n",
        "What colors are the light that correspond to the excitation and emission\n",
        "maxima respectively?\n",
        "\n",
        "------------------------------------------------------------------------\n",
        "\n",
        "## Proteins in blood plasma.\n",
        "\n",
        "In this exercise we will learn how Python is excellent for handling\n",
        "datasets with many data points and how it can be used to apply the same\n",
        "procedure to all the data points at once.\n",
        "\n",
        "A researcher wants to determine the concentration of two proteins in\n",
        "blood plasma that is suspected to be involved in development of an\n",
        "autoimmune disease. 500 patients and 500 healthy individuals were\n",
        "included in the study and absorbance measurements of the two purified\n",
        "proteins from all blood plasma samples were measured at 280 nm. The\n",
        "molecular weight and extinction coefficients of the two proteins are\n",
        "given in the table below.\n",
        "\n",
        "| Protein | $M_w$ $[\\text{kDa}]$ | $\\epsilon$ $[\\text{M}^{-1}\\text{cm}^{-1}]$ |\n",
        "|-----------------------|---------------------|-----------------------------|\n",
        "| 1       | 130                  | 180000                                     |\n",
        "| 2       | 57                   | 80000                                      |\n",
        "\n",
        "Properties of the two proteins.\n",
        "\n",
        "#### (a) Load the dataset\n",
        "\n",
        "Use the widget to load the dataset as a dataframe from the file\n",
        "**protein_blood_plasma.xlsx**"
      ],
      "id": "3b2f9031-f545-4f2b-8d5b-720e6247a7c2"
    },
    {
      "cell_type": "code",
      "execution_count": 20,
      "metadata": {},
      "outputs": [],
      "source": [
        "from IPython.display import display \n",
        "from fysisk_biokemi.widgets import DataUploader\n",
        "uploader = DataUploader()\n",
        "uploader.display()"
      ],
      "id": "6ec1f858"
    },
    {
      "cell_type": "markdown",
      "metadata": {},
      "source": [
        "Run this cell **after** having uploaded the file in the cell above."
      ],
      "id": "17f97869-e0b6-42dd-a900-2f01d0aa6da6"
    },
    {
      "cell_type": "code",
      "execution_count": 21,
      "metadata": {},
      "outputs": [],
      "source": [
        "df = uploader.get_dataframe()\n",
        "display(df)"
      ],
      "id": "04cf0ee2"
    },
    {
      "cell_type": "markdown",
      "metadata": {},
      "source": [
        "#### (b) Calculate concentrations\n",
        "\n",
        "Calculate the molar concentration of the two proteins in all samples,\n",
        "the light path for every measurement is 0.1 cm.\n",
        "\n",
        "Always a good idea to assign known values to variables"
      ],
      "id": "2fe7465e-262a-4cd8-b51d-38ef89232a6b"
    },
    {
      "cell_type": "code",
      "execution_count": 23,
      "metadata": {},
      "outputs": [],
      "source": [
        "protein_1_ext_coeff = 180000\n",
        "protein_2_ext_coeff = 80000\n",
        "l = 0.1"
      ],
      "id": "3c1b5de9"
    },
    {
      "cell_type": "markdown",
      "metadata": {},
      "source": [
        "> **Tip**\n",
        ">\n",
        "> You can set new columns in a `DataFrame` by just assigning to it\n",
        ">\n",
        "> ``` python\n",
        "> df['new_column'] = [1, 2, 3, ..., 42]\n",
        "> ```\n",
        ">\n",
        "> It can also be set as a computation of a property from another row\n",
        ">\n",
        "> ``` python\n",
        "> df['new_column'] = df['current_column'] / 4\n",
        "> ```"
      ],
      "id": "4f91e832-b990-4fb4-8751-f31649231f4c"
    },
    {
      "cell_type": "code",
      "execution_count": 24,
      "metadata": {
        "exercise": true
      },
      "outputs": [],
      "source": [
        "df['protein1_healthy_molar_conc'] = ... # Calculate for concentration in healthy for protein 1.\n",
        "... # Your code that updates the data frame with the 3 other new columns.\n",
        "display(df)"
      ],
      "id": "9b274f5e"
    },
    {
      "cell_type": "markdown",
      "metadata": {},
      "source": [
        "#### (c). Concentrations in mg/mL\n",
        "\n",
        "Add another set of four columns containing the concentrations in mg/mL."
      ],
      "id": "80093f12-2227-4fb0-89b3-38b93c1cbf5d"
    },
    {
      "cell_type": "code",
      "execution_count": 26,
      "metadata": {},
      "outputs": [],
      "source": [
        "protein_1_mw = 130 * 10**3\n",
        "protein_2_mw = 57 * 10**3"
      ],
      "id": "70f46dee"
    },
    {
      "cell_type": "code",
      "execution_count": 27,
      "metadata": {
        "exercise": true
      },
      "outputs": [],
      "source": [
        "df['protein1_healthy_conc'] = ...\n",
        "df['protein1_patient_conc'] = ...\n",
        "df['protein2_healthy_conc'] = ...\n",
        "df['protein2_patient_conc'] = ...\n",
        "\n",
        "names = ['protein1_healthy_conc', 'protein1_patient_conc', 'protein2_healthy_conc', 'protein2_patient_conc']\n",
        "display(df[names])"
      ],
      "id": "9ce62777"
    },
    {
      "cell_type": "markdown",
      "metadata": {},
      "source": [
        "#### (d) Mean concentration\n",
        "\n",
        "Now that we have the concentrations, calculate the concentration in the\n",
        "four categories.\n",
        "\n",
        "> **Tip**\n",
        ">\n",
        "> When displaying the dataframe above we used indexed it with `names` as\n",
        "> `df[names]`. We can do the same to compute something over just the\n",
        "> four rows.\n",
        ">\n",
        "> For example the if we have a `DataFrame` called `example_df`, we can\n",
        "> calculate the mean over the **rows** as:\n",
        ">\n",
        "> ``` python\n",
        "> df[names].mean(axis=0)\n",
        "> ```\n",
        ">\n",
        "> Here `axis=0` means that we apply the operation over the first axis\n",
        "> which by convention are the rows."
      ],
      "id": "83355021-2958-43c8-a4c7-157ab5ebea17"
    },
    {
      "cell_type": "code",
      "execution_count": 29,
      "metadata": {
        "exercise": true
      },
      "outputs": [],
      "source": [
        "mean = ...\n",
        "display(mean)"
      ],
      "id": "f0ad08b6"
    },
    {
      "cell_type": "markdown",
      "metadata": {},
      "source": [
        "#### (e) Standard deviation\n",
        "\n",
        "Calculate the standard deviation\n",
        "\n",
        "> **Tip**\n",
        ">\n",
        "> The standard deviation can be calculated using the `.std`-method that\n",
        "> works in the same way as the `.mean`-method we used above."
      ],
      "id": "6c142dcb-298b-40a0-8170-3270bd33ab18"
    },
    {
      "cell_type": "code",
      "execution_count": 31,
      "metadata": {
        "exercise": true
      },
      "outputs": [],
      "source": [
        "std = ...\n",
        "display(std)"
      ],
      "id": "98179fa2"
    },
    {
      "cell_type": "markdown",
      "metadata": {},
      "source": [
        "#### (f) Analyze the results\n",
        "\n",
        "Consider the following questions\n",
        "\n",
        "-   By comparing healthy individuals with patients, would you expect\n",
        "    that any of the two proteins would be involved in disease\n",
        "    development?\n",
        "-   What additional information does the standard deviation provide\n",
        "    besides the average value of the protein concentration?"
      ],
      "id": "cccdd2a9-ee91-42dc-b72b-933d0bbdab6d"
    }
  ],
  "nbformat": 4,
  "nbformat_minor": 5,
  "metadata": {
    "kernelspec": {
      "name": "python3",
      "display_name": "Python 3 (ipykernel)",
      "language": "python",
      "path": "/home/runner/work/fysisk-biokemi/fysisk-biokemi/.venv/share/jupyter/kernels/python3"
    },
    "language_info": {
      "name": "python",
      "codemirror_mode": {
        "name": "ipython",
        "version": "3"
      },
      "file_extension": ".py",
      "mimetype": "text/x-python",
      "nbconvert_exporter": "python",
      "pygments_lexer": "ipython3",
      "version": "3.11.13"
    }
  }
}