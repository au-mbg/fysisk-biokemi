{
  "cells": [
    {
      "cell_type": "markdown",
      "metadata": {},
      "source": [
        "# Week 47"
      ],
      "id": "4953ee1e-c68f-42a6-bfab-8bf6af9d4689"
    },
    {
      "cell_type": "code",
      "execution_count": 2,
      "metadata": {},
      "outputs": [],
      "source": [
        "try:\n",
        "    import fysisk_biokemi\n",
        "    print(\"Already installed\")\n",
        "except ImportError:\n",
        "    %pip install -q \"fysisk_biokemi[colab] @ git+https://github.com/au-mbg/fysisk-biokemi.git\""
      ],
      "id": "8a1ec612"
    },
    {
      "cell_type": "markdown",
      "metadata": {},
      "source": [
        "------------------------------------------------------------------------\n",
        "\n",
        "## 1 A tricky protein binding."
      ],
      "id": "0ac1a20e-a2bc-4e13-9563-0730ad05a4cc"
    },
    {
      "cell_type": "code",
      "execution_count": 3,
      "metadata": {},
      "outputs": [],
      "source": [
        "import numpy as np\n",
        "import matplotlib.pyplot as plt\n",
        "import pandas as pd\n",
        "from scipy.optimize import curve_fit\n",
        "pd.set_option('display.max_rows', 6)"
      ],
      "id": "7078e84f"
    },
    {
      "cell_type": "markdown",
      "metadata": {},
      "source": [
        "The dataset in `binding_data_sq.xlsx` contains the fraction bound\n",
        "measured at different ligand concentrations with the experiment repeated\n",
        "threefold.\n",
        "\n",
        "Load the dataset as usual using the widget below"
      ],
      "id": "7bc875ca-5b96-468d-beed-55afb70da983"
    },
    {
      "cell_type": "code",
      "execution_count": 4,
      "metadata": {},
      "outputs": [],
      "source": [
        "from fysisk_biokemi.widgets import DataUploader\n",
        "from IPython.display import display \n",
        "uploader = DataUploader()\n",
        "uploader.display()"
      ],
      "id": "54824c31"
    },
    {
      "cell_type": "markdown",
      "metadata": {},
      "source": [
        "Run the next cell **after** uploading the file"
      ],
      "id": "51e520a6-d1ec-4858-a873-b540758139af"
    },
    {
      "cell_type": "code",
      "execution_count": 5,
      "metadata": {},
      "outputs": [],
      "source": [
        "df = uploader.get_dataframe()\n",
        "display(df)"
      ],
      "id": "6cd99a37"
    },
    {
      "cell_type": "markdown",
      "metadata": {},
      "source": [
        "#### (a) Convert to SI\n",
        "\n",
        "Convert the ligand concentration to $\\mathrm{M}$ and add it to the\n",
        "dataframe as a new column named `'L_(m)'`."
      ],
      "id": "6a3ef1d2-d690-4d70-8617-46036259ec26"
    },
    {
      "cell_type": "code",
      "execution_count": 7,
      "metadata": {
        "exercise": true
      },
      "outputs": [],
      "source": [
        "..."
      ],
      "id": "f1296d46"
    },
    {
      "cell_type": "markdown",
      "metadata": {},
      "source": [
        "#### (b) Plot\n",
        "\n",
        "Make a scatter plot of the dataset"
      ],
      "id": "62d1920b-90ce-4513-8612-b03403afc128"
    },
    {
      "cell_type": "code",
      "execution_count": 9,
      "metadata": {
        "exercise": true
      },
      "outputs": [],
      "source": [
        "fig, ax = plt.subplots()\n",
        "\n",
        "..."
      ],
      "id": "1646d7dd"
    },
    {
      "cell_type": "markdown",
      "metadata": {},
      "source": [
        "#### (c) Fit and analyze.\n",
        "\n",
        "Fit the data using the simple binding expression\n",
        "\n",
        "$$\n",
        "\\theta = \\frac{[L]}{[L] + K_D}\n",
        "$$\n",
        "\n",
        "Start by defining a function, called `simple_binding`, that calculates\n",
        "this expression"
      ],
      "id": "092261f3-3750-4291-9cef-fccc78e51e3e"
    },
    {
      "cell_type": "code",
      "execution_count": 11,
      "metadata": {
        "exercise": true
      },
      "outputs": [],
      "source": [
        "def ...\n",
        "    ...\n",
        "    ..."
      ],
      "id": "308f323e"
    },
    {
      "cell_type": "markdown",
      "metadata": {},
      "source": [
        "Then use that function to fit the data using `curve_fit`"
      ],
      "id": "dd991957-a6a5-4b83-9f5a-728ae4511823"
    },
    {
      "cell_type": "code",
      "execution_count": 13,
      "metadata": {
        "exercise": true
      },
      "outputs": [],
      "source": [
        "... "
      ],
      "id": "285ad0af"
    },
    {
      "cell_type": "markdown",
      "metadata": {},
      "source": [
        "And evaluate the fit and plot it together with the dataset"
      ],
      "id": "7853c4c1-3bc4-4dcd-a5a4-022d8c733784"
    },
    {
      "cell_type": "code",
      "execution_count": 15,
      "metadata": {
        "exercise": true
      },
      "outputs": [],
      "source": [
        "# Evaluate the fit at L_smooth\n",
        "L_smooth = np.linspace(0, df['L_(M)'].max(), 100)\n",
        "theta_fit_simple = ...\n",
        "\n",
        "fig, ax = plt.subplots()\n",
        "... # Plot the fit together with the data - you can probably paste most of this code."
      ],
      "id": "932ff58e"
    },
    {
      "cell_type": "markdown",
      "metadata": {},
      "source": [
        "Is it a good fit?\n",
        "\n",
        "#### (d) Residuals\n",
        "\n",
        "To get a more quantitative view of the quality of the fit calculate\n",
        "residuals"
      ],
      "id": "1d7fc4fc-4ad5-418d-aae2-47c51af7e8a6"
    },
    {
      "cell_type": "code",
      "execution_count": 17,
      "metadata": {
        "exercise": true
      },
      "outputs": [],
      "source": [
        "# Calculate the residuals by evaluating the fit at the measured datapoints\n",
        "residuals_simple = ..."
      ],
      "id": "ac0111a1"
    },
    {
      "cell_type": "markdown",
      "metadata": {},
      "source": [
        "And plot them versus the measured $\\mathrm{[L]}$"
      ],
      "id": "68c060d1-3655-4d8f-8af0-b4633a59aa35"
    },
    {
      "cell_type": "code",
      "execution_count": 19,
      "metadata": {
        "exercise": true
      },
      "outputs": [],
      "source": [
        "fig, ax = plt.subplots()\n",
        "\n",
        "# Plot the residuals: \n",
        "\n",
        "# This makes a horizontal line through 0\n",
        "ax.axhline(0, color='black', linestyle='--')\n",
        "\n",
        "# Add any customization settings:"
      ],
      "id": "c7394cf0"
    },
    {
      "cell_type": "markdown",
      "metadata": {},
      "source": [
        "Are the residuals randomly distributed around zero? What does this tell\n",
        "you about the quality of the fit?\n",
        "\n",
        "#### (e) Choosing a better model\n",
        "\n",
        "Lets try fitting with a more expressive model, namely the quadratic\n",
        "binding expression, that is\n",
        "\n",
        "$$\n",
        "\\begin{aligned}\n",
        "\\theta &= \\frac{K_D + [P_{tot}] + [L_{tot}]}{2[P_{tot}]} - \\sqrt{\\left(\\frac{K_D + [P_{tot}] + [L_{tot}]}{2[P_{tot}]}\\right)^2 - \\frac{[L_{tot}]}{[P_{tot}]}} \\\\\n",
        "    &= \\frac{A}{B} - \\sqrt{\\left(\\frac{A}{B}\\right)^2 - C} \\\\\n",
        "    & = D - \\sqrt{D^2 - C}\n",
        "\\end{aligned}\n",
        "$$\n",
        "\n",
        "The value of $[P_{tot}]$ is $250 \\ \\mu\\mathrm{M}$.\n",
        "\n",
        "Start by implementing the expression as a Python function - remember\n",
        "that you need to be careful with parentheses with a function like this\n",
        "and it might be easier to do if you do it step by step (calculate $A$,\n",
        "$B$ and $C$, then calculate $D=\\frac{A}{B}$ and make the full expression\n",
        "from these bits.)"
      ],
      "id": "344df9dc-19a7-41f6-be09-710786f727d9"
    },
    {
      "cell_type": "code",
      "execution_count": 21,
      "metadata": {
        "exercise": true
      },
      "outputs": [],
      "source": [
        "def quadratic_binding(L, K_D):\n",
        "    P_tot = ... # Set to given value in the correct units. \n",
        "\n",
        "    A = ... # Numerator in fraction in the first term.\n",
        "    B = ... # Denominator in the same term.\n",
        "    C = ... # Second term in the square root.\n",
        "    D = ... # A divided by B.\n",
        "    theta = ... # Final expression.\n",
        "    return ...\n",
        "\n",
        "print(f\"{quadratic_binding(100, 138.09) = :.3f}\") # Should give 0.420"
      ],
      "id": "9d647277"
    },
    {
      "cell_type": "markdown",
      "metadata": {},
      "source": [
        "And now make a fit using this expression"
      ],
      "id": "44bc48b0-be05-423f-9f25-466666670490"
    },
    {
      "cell_type": "code",
      "execution_count": 24,
      "metadata": {
        "exercise": true
      },
      "outputs": [],
      "source": [
        "popt, pcov = ...\n",
        "K_D_fit_quad = popt[0]\n",
        "print(f'{K_D_fit_quad = :.3e}')"
      ],
      "id": "d370a003"
    },
    {
      "cell_type": "markdown",
      "metadata": {},
      "source": [
        "The cell below makes a figure of the data and the residuals for each\n",
        "case"
      ],
      "id": "288af7e5-67a2-44c9-8c11-997388aa6080"
    },
    {
      "cell_type": "code",
      "execution_count": 25,
      "metadata": {
        "exercise": true
      },
      "outputs": [],
      "source": [
        "theta_fit_quad = quadratic_binding(L_smooth, K_D_fit_quad)\n",
        "residuals_quad = df['theta'] - quadratic_binding(df['L_(M)'], K_D_fit_quad)\n",
        "\n",
        "fig, axes = plt.subplots(1, 2, figsize=(9, 4))\n",
        "\n",
        "# Data & Fit\n",
        "ax = axes[0]\n",
        "ax.plot(df['L_(M)'], df['theta'], 'o', label='Data')\n",
        "ax.plot(L_smooth, theta_fit_simple, label='Simple binding', linewidth=3)\n",
        "ax.plot(L_smooth, theta_fit_quad, label='Quadratic binding', linewidth=3)\n",
        "ax.set_xlabel('L (M)')\n",
        "ax.set_ylabel(r'$\\theta$')\n",
        "ax.legend()\n",
        "\n",
        "# Residuals\n",
        "ax = axes[1]\n",
        "ax.plot(df['L_(M)'], residuals_simple, 'o', color='C1', label='Simple binding')\n",
        "ax.plot(df['L_(M)'], residuals_quad, 'o', color='C2', label='Quadratic binding')\n",
        "ax.axhline(0, color='black', linestyle='--')\n",
        "ax.legend()\n",
        "\n",
        "plt.show()"
      ],
      "id": "83ddd5ae"
    },
    {
      "cell_type": "markdown",
      "metadata": {},
      "source": [
        "Consider the following questions:\n",
        "\n",
        "-   How does the quadratic binding expression fit the data?\n",
        "-   Whats the difference in how the residuals are distributed?\n",
        "-   What is the biochemical situation that makes quadratic expression\n",
        "    necessary?\n",
        "\n",
        "------------------------------------------------------------------------\n",
        "\n",
        "## 2 Determination of reaction orders."
      ],
      "id": "b203d776-9882-4414-8d06-9d090513fce7"
    },
    {
      "cell_type": "code",
      "execution_count": 27,
      "metadata": {},
      "outputs": [],
      "source": [
        "import matplotlib.pyplot as plt\n",
        "import numpy as np\n",
        "import pandas as pd\n",
        "pd.set_option('display.max_rows', 6)"
      ],
      "id": "ddc0094a"
    },
    {
      "cell_type": "markdown",
      "metadata": {},
      "source": [
        "#### (a) Load the dataset\n",
        "\n",
        "Load the dataset `deter-reacti-orders.xlsx` using the widget below"
      ],
      "id": "334cdfe6-d4fb-4081-8967-57554eb051fa"
    },
    {
      "cell_type": "code",
      "execution_count": 28,
      "metadata": {},
      "outputs": [],
      "source": [
        "from fysisk_biokemi.widgets import DataUploader\n",
        "from IPython.display import display \n",
        "uploader = DataUploader()\n",
        "uploader.display()"
      ],
      "id": "a4b92001"
    },
    {
      "cell_type": "markdown",
      "metadata": {},
      "source": [
        "Run the next cell **after** uploading the file"
      ],
      "id": "6edbee8b-a3f9-407f-95a5-1a3fc45bafd8"
    },
    {
      "cell_type": "code",
      "execution_count": 29,
      "metadata": {},
      "outputs": [],
      "source": [
        "df = uploader.get_dataframe()\n",
        "display(df)"
      ],
      "id": "f4fb2b79"
    },
    {
      "cell_type": "markdown",
      "metadata": {},
      "source": [
        "#### (b) SI units.\n",
        "\n",
        "Add two new columns with the concentrations given in M."
      ],
      "id": "c20db370-60f9-456d-823d-cdf107552845"
    },
    {
      "cell_type": "code",
      "execution_count": 31,
      "metadata": {
        "exercise": true
      },
      "outputs": [],
      "source": [
        "# Make the new columns in this cell. \n",
        "\n",
        "\n",
        "display(df)"
      ],
      "id": "d5cab1c1"
    },
    {
      "cell_type": "markdown",
      "metadata": {},
      "source": [
        "#### (c) Plotting\n",
        "\n",
        "For each reactant make a plot of\n",
        "\n",
        "-   $t$ vs. $[\\text{A}]$\n",
        "\n",
        "> **Note**\n",
        ">\n",
        "> We will be adding more elements to the plot in the following parts of\n",
        "> the exercise, therefore we will wrap the code for plotting in a\n",
        "> function such that it can be easily reused.\n",
        "\n",
        "The cell below defines the function for plotting, add the missing code\n",
        "in places with `...`."
      ],
      "id": "cb19fb6d-1322-4c77-ba8d-113bc00e5466"
    },
    {
      "cell_type": "code",
      "execution_count": 33,
      "metadata": {
        "exercise": null
      },
      "outputs": [],
      "source": [
        "def plot_dataframe(ax, df):\n",
        "    # Extract from dataframe\n",
        "    t = df['Time_(s)']\n",
        "    A1 = df['[A1]_(M)']\n",
        "    A2 = df['[A2]_(M)']\n",
        "\n",
        "    ax.plot(t, A1, 'o', label='[A1]')\n",
        "    ... # Your code here to plot A2\n",
        "\n",
        "    for ax in axes:\n",
        "        ax.set_xlabel('t [s]')\n",
        "        ax.legend()"
      ],
      "id": "7b1dbf5a"
    },
    {
      "cell_type": "markdown",
      "metadata": {},
      "source": [
        "Once we’ve written the plotting function we can make the plot as done in\n",
        "the cell below."
      ],
      "id": "170c1cb1-80ac-4422-87d6-ac7942f372a9"
    },
    {
      "cell_type": "code",
      "execution_count": 35,
      "metadata": {
        "exercise": true
      },
      "outputs": [],
      "source": [
        "fig, ax = plt.subplots(1, 1, figsize=(6, 4))\n",
        "\n",
        "plot_dataframe(ax, df)"
      ],
      "id": "6b664872"
    },
    {
      "cell_type": "markdown",
      "metadata": {},
      "source": [
        "#### (d) Determining reaction orders\n",
        "\n",
        "Now we want to determine the reaction orders by making fits to the data\n",
        "under the assumption of different integrated rate laws.\n",
        "\n",
        "In the cell below finish the code to define functions for the integrated\n",
        "rate laws of zeroth, first and second order."
      ],
      "id": "d0ea54c0-e0ac-4f4c-a11d-734f21be7e40"
    },
    {
      "cell_type": "code",
      "execution_count": 37,
      "metadata": {
        "exercise": true
      },
      "outputs": [],
      "source": [
        "def zeroth_order(t, k, A0):\n",
        "    result = ...\n",
        "    return result\n",
        "\n",
        "def first_order(t, k, A0):\n",
        "    result = ...\n",
        "    return result\n",
        "\n",
        "def second_order(t, k, A0):\n",
        "    result = ...\n",
        "    return result\n",
        "\n",
        "rate_laws = {0: zeroth_order, 1: first_order, 2:second_order}"
      ],
      "id": "d8cf8e46"
    },
    {
      "cell_type": "markdown",
      "metadata": {},
      "source": [
        "We can then use these to make fits, here it is helpful to define a small\n",
        "function to help us with that."
      ],
      "id": "11af13bd-8560-47b0-9e12-6888eaed6a89"
    },
    {
      "cell_type": "code",
      "execution_count": 39,
      "metadata": {},
      "outputs": [],
      "source": [
        "from scipy.optimize import curve_fit\n",
        "\n",
        "def make_fit(x_data, y_data, x_eval, A0, order):\n",
        "    # Don't worry about this line for now. \n",
        "    # It just picks the correct function for the given order and sets A0.\n",
        "    func = lambda t, k: rate_laws[order](t, k, A0)\n",
        "\n",
        "    # Make fit\n",
        "    popt, pcov = curve_fit(func, x_data, y_data)\n",
        "\n",
        "    # Evaluate fit\n",
        "    k = popt[0]\n",
        "    y_fit = func(x_eval, k)\n",
        "    return k, y_fit"
      ],
      "id": "85b12f5a"
    },
    {
      "cell_type": "markdown",
      "metadata": {},
      "source": [
        "Next we will define the known constants and extract a few things from\n",
        "the `DataFrame`. In the cell below put the initial concentrations in M."
      ],
      "id": "8658f37d-4195-4cec-8e00-97e83ddb4882"
    },
    {
      "cell_type": "code",
      "execution_count": 40,
      "metadata": {
        "exercise": true
      },
      "outputs": [],
      "source": [
        "A1_0 = ... # Set the initial concentration [A1]_0\n",
        "A2_0 = ... # Set the initial concentration [A2]_0\n",
        "\n",
        "# Extract data\n",
        "t = df['Time_(s)']\n",
        "A1 = df['[A1]_(M)']\n",
        "A2 = df['[A2]_(M)']\n",
        "orders = [0, 1, 2]\n",
        "t_eval = np.linspace(0, t.max()*1.1)"
      ],
      "id": "e0ee520a"
    },
    {
      "cell_type": "markdown",
      "metadata": {},
      "source": [
        "Now we can make and plot the fits"
      ],
      "id": "da9e7357-ea56-40a0-a4a1-64eb84f4d30b"
    },
    {
      "cell_type": "code",
      "execution_count": 42,
      "metadata": {
        "exercise": true
      },
      "outputs": [],
      "source": [
        "fig, axes = plt.subplots(1, 3, figsize=(8, 4), sharey=True, layout='constrained')\n",
        "\n",
        "axes[0].set_ylabel('Concentration (M)')\n",
        "\n",
        "for ax in axes:\n",
        "    plot_dataframe(ax, df)\n",
        "\n",
        "for ax, order in zip(axes, orders):\n",
        "    k1, y_fit = make_fit(t, A1, t_eval, A1_0, order)\n",
        "    ax.plot(t_eval, y_fit, color='C2', label=rf'k = {k1:.2e}')\n",
        "\n",
        "    k2, y_fit = make_fit(t, A2, t_eval, A2_0, order)\n",
        "    ax.plot(t_eval, y_fit, color='C3', label=rf'k = {k2:.2e}')\n",
        "    ax.legend()\n",
        "    ax.set_title(f'Reaction order: {order}')"
      ],
      "id": "027e8ca3"
    },
    {
      "cell_type": "markdown",
      "metadata": {},
      "source": [
        "Based on this plot;\n",
        "\n",
        "-   What do you believe is the reaction order for \\[A1\\]?\n",
        "-   What is the unit of the rate constant for \\[A1\\]?\n",
        "-   What do you believe is the reaction order for \\[A2\\]?\n",
        "-   What is the unit of the rate constant for \\[A2\\]?\n",
        "\n",
        "> **Note**\n",
        ">\n",
        "> The cell above used a `for`-loop. These are a powerful way of\n",
        "> performing the same operation with different inputs, you will learn\n",
        "> more about them later on.\n",
        "\n",
        "#### (e) Residuals\n",
        "\n",
        "By inspecting the plot we can make a qualitative judgement of the\n",
        "reaction orders. To get a more quantitative results we can look at the\n",
        "residuals, recall they are defined as\n",
        "\n",
        "$$\n",
        "r_i = y_i - f(x_i | \\theta)\n",
        "$$\n",
        "\n",
        "We can calculate these in much the same way we calculate the fits,\n",
        "except we don’t evaluate the fit at a new set of points but at the\n",
        "observations $x_i$."
      ],
      "id": "f4dcd44f-c276-465a-8057-b51ea559db61"
    },
    {
      "cell_type": "code",
      "execution_count": 44,
      "metadata": {
        "exercise": true
      },
      "outputs": [],
      "source": [
        "def calculate_residuals(x_data, y_data, A0, order):\n",
        "    # Don't worry about this line for now. \n",
        "    # It just picks the correct function for the given order and sets A0.\n",
        "    func = lambda t, k: rate_laws[order](t, k, A0)\n",
        "\n",
        "    # Make fit\n",
        "    popt, pcov = curve_fit(func, x_data, y_data)\n",
        "\n",
        "\n",
        "    # Evaluate fit\n",
        "    k = popt[0]\n",
        "    y_fit = ... # Calculate the fit at the x_data using `func`\n",
        "    residuals = ... # Calculate the residuals.\n",
        "    return residuals"
      ],
      "id": "28bcdd79"
    },
    {
      "cell_type": "markdown",
      "metadata": {},
      "source": [
        "We can then plot the residuals, here with the time on the x-axis and the\n",
        "residuals on the y-axis."
      ],
      "id": "e9e7fdfe-3344-48ba-8b61-54c6477be875"
    },
    {
      "cell_type": "code",
      "execution_count": 46,
      "metadata": {
        "exercise": true
      },
      "outputs": [],
      "source": [
        "fig, axes = plt.subplots(2, 3, figsize=(8, 4), sharey=True, layout='constrained', sharex=True)\n",
        "\n",
        "axes[0, 0].set_ylabel('Reaction 1: Residuals')\n",
        "axes[1, 0].set_ylabel('Reaction 2: Residuals')\n",
        "\n",
        "for ax_col, order in zip(axes.T, orders):\n",
        "    \n",
        "    residuals = calculate_residuals(t, A1, A1_0, order)\n",
        "    ax_col[0].plot(t, residuals, 'o', color='C0')\n",
        "    ax_col[0].axhline(0, color='black', linestyle='--')\n",
        "\n",
        "    ax_col[0].set_title(f'Reaction order: {order}')\n",
        "\n",
        "    residuals = calculate_residuals(t, A2, A2_0, order)\n",
        "    ax_col[1].plot(t, residuals, 'o', color='C1')\n",
        "    ax_col[1].axhline(0, color='black', linestyle='--')"
      ],
      "id": "ede5f322"
    },
    {
      "cell_type": "markdown",
      "metadata": {},
      "source": [
        "Does this support your conclusions about the reaction order from (d)?\n",
        "\n",
        "------------------------------------------------------------------------\n",
        "\n",
        "## 3 Analysis of a reversible reaction"
      ],
      "id": "8e23e04e-6bdb-48dc-9e53-ed469caf8f49"
    },
    {
      "cell_type": "code",
      "execution_count": 48,
      "metadata": {},
      "outputs": [],
      "source": [
        "import matplotlib.pyplot as plt\n",
        "import numpy as np"
      ],
      "id": "23b3ba1a"
    },
    {
      "cell_type": "markdown",
      "metadata": {},
      "source": [
        "Consider the following reaction\n",
        "\n",
        "$$\n",
        "A \\underset{k_{2}}{\\stackrel{k_1}{\\rightleftharpoons}} B\n",
        "$$\n",
        "\n",
        "The magnitudes of the rate constants are $k_1 = 10 \\ \\mathrm{s}^{-1}$\n",
        "and $k_2 = 1 \\ \\mathrm{s}^{-1}$.\n",
        "\n",
        "#### (a) Reaction order\n",
        "\n",
        "What is the reaction order in each direction?\n",
        "\n",
        "#### (b) Derive equilibrium constant\n",
        "\n",
        "Show mathematically how the equilibrium constant $K_{\\mathrm{eq}}$ is\n",
        "given by the ratio between the two rate constants.\n",
        "\n",
        "#### (c) Calculate $K_{\\mathrm{eq}}$"
      ],
      "id": "db0ce1d4-e97a-4cfe-b6bd-e6bbdbd49323"
    },
    {
      "cell_type": "code",
      "execution_count": 49,
      "metadata": {
        "exercise": true
      },
      "outputs": [],
      "source": [
        "k1 = ...\n",
        "k2 = ...\n",
        "K_eq = ...\n",
        "print(f\"{K_eq = }\")"
      ],
      "id": "00a4c98c"
    },
    {
      "cell_type": "markdown",
      "metadata": {},
      "source": [
        "#### (d) Equilibrium concentrations\n",
        "\n",
        "Calculate the concentrations of A and B at equilibrium,\n",
        "$[\\mathrm{A}]_{\\mathrm{eq}}$ and $[\\mathrm{B}]_\\mathrm{eq}$, if\n",
        "$[\\mathrm{A}]_0 = 10^{-3} \\text{M}$"
      ],
      "id": "f656237a-db5f-4b3f-8f2a-6c77615bc3aa"
    },
    {
      "cell_type": "code",
      "execution_count": 51,
      "metadata": {
        "exercise": true
      },
      "outputs": [],
      "source": [
        "A0 = ...\n",
        "A_eq = ...\n",
        "B_eq = ...\n",
        "print(f\"{A_eq = }\")\n",
        "print(f\"{B_eq = }\")"
      ],
      "id": "7b0b765b"
    },
    {
      "cell_type": "markdown",
      "metadata": {},
      "source": [
        "#### (e) Rates at equilibrium\n",
        "\n",
        "Calculate the forward and reverse rates at equilibrium at this\n",
        "concentration."
      ],
      "id": "6ead2f1d-425b-43bf-89d2-4a8643b5ce4d"
    },
    {
      "cell_type": "code",
      "execution_count": 53,
      "metadata": {
        "exercise": true
      },
      "outputs": [],
      "source": [
        "r_fwd = A_eq * k1\n",
        "r_bwd = B_eq * k2\n",
        "print(f\"{r_fwd = :.5f}\")\n",
        "print(f\"{r_bwd = :.5f}\")"
      ],
      "id": "6f411d5b"
    },
    {
      "cell_type": "markdown",
      "metadata": {},
      "source": [
        "#### (f) Initial rate of formation\n",
        "\n",
        "If $[\\mathrm{A}]_0 = 10^{-3} \\text{M}$ and\n",
        "$[\\mathrm{B}]_0 = 0 \\text{M}$, calculate the initial rate of formation\n",
        "of B."
      ],
      "id": "96d0f5d8-380b-4061-acd7-f53a60e25972"
    },
    {
      "cell_type": "code",
      "execution_count": 55,
      "metadata": {
        "exercise": true
      },
      "outputs": [
        {
          "output_type": "stream",
          "name": "stdout",
          "text": [
            "r_fwd = 0.01000"
          ]
        }
      ],
      "source": [
        "r_fwd = A0 * k1\n",
        "print(f\"{r_fwd = :.5f}\")"
      ],
      "id": "414e90e1"
    },
    {
      "cell_type": "markdown",
      "metadata": {},
      "source": [
        "#### (g) Time-dependence\n",
        "\n",
        "![](https://raw.githubusercontent.com/au-mbg/fysisk-biokemi/refs/heads/main/course/lessons/figures/week_48/reversible_reaction.png)\n",
        "\n",
        "We now want to calculate and plot the time-dependent concentrations\n",
        "using the above equations.\n",
        "\n",
        "In the cell below finish the implementation of the function `A_time`\n",
        "that calculates the concentration \\[A\\] as a function of time."
      ],
      "id": "7931b93f-8ffc-4dae-b47e-4bcc8503d0f4"
    },
    {
      "cell_type": "code",
      "execution_count": 57,
      "metadata": {
        "exercise": true
      },
      "outputs": [],
      "source": [
        "def A_time(t, A0, k_f, k_b):\n",
        "    return ..."
      ],
      "id": "a13d507d"
    },
    {
      "cell_type": "markdown",
      "metadata": {},
      "source": [
        "> **Caution**\n",
        ">\n",
        "> Be careful to correctly set parantheses when implementing this\n",
        "> function!\n",
        "\n",
        "And then we can use that function to calculate and plot the\n",
        "concentrations as a function of time."
      ],
      "id": "8e6b2a03-b04c-49ac-a361-fcf19f04412f"
    },
    {
      "cell_type": "code",
      "execution_count": 59,
      "metadata": {
        "exercise": true
      },
      "outputs": [],
      "source": [
        "fig, ax = plt.subplots()\n",
        "\n",
        "t_max = ... # Set the time in seconds\n",
        "t = np.linspace(0, t_max, 100)\n",
        "\n",
        "At = ... # Use your function to calculate [A](t)\n",
        "Bt = ... # Calculate [B](t)\n",
        "\n",
        "ax.plot(t, At, label='[A](t)')\n",
        "ax.plot(t, Bt, label='[B](t)')\n",
        "ax.set_ylabel('Concentrations (M)')\n",
        "ax.set_xlabel('Time (s)')\n",
        "ax.legend()"
      ],
      "id": "078d4a05"
    },
    {
      "cell_type": "markdown",
      "metadata": {},
      "source": [
        "------------------------------------------------------------------------\n",
        "\n",
        "## 4 Determination of reaction order and activation energy"
      ],
      "id": "c79b269a-0419-44c5-9a4c-84dbbbe9e980"
    },
    {
      "cell_type": "code",
      "execution_count": 61,
      "metadata": {},
      "outputs": [],
      "source": [
        "import numpy as np  \n",
        "import matplotlib.pyplot as plt\n",
        "import pandas as pd\n",
        "pd.set_option('display.max_rows', 6)"
      ],
      "id": "5dcf4353"
    },
    {
      "cell_type": "markdown",
      "metadata": {},
      "source": [
        "The irreversible isomerization of compound A to compound B results in a\n",
        "decreasing absorbance. The isomerization was followed in a time course\n",
        "at two different temperatures (T1 = 25 °C and T2 = 40 °C). The\n",
        "absorbance ($\\epsilon$ = 16700 $\\mathrm{cm}^{-1} \\mathrm{M}^{-1}$) was\n",
        "used to calculate the concentration of compound A in a spectrophotometer\n",
        "with a pathlength of 1 cm. The obtained dataset is given in the file\n",
        "`deter-reacti-order-activ.csv`.\n",
        "\n",
        "#### (a) Temperatures\n",
        "\n",
        "What are the two temperatures in Kelvin? Set them as varilabes in the\n",
        "cell below."
      ],
      "id": "bbd8d94b-94ef-47a0-8406-7b2d58dc15a2"
    },
    {
      "cell_type": "code",
      "execution_count": 62,
      "metadata": {
        "exercise": true
      },
      "outputs": [],
      "source": [
        "T1 = 25 + 273.15\n",
        "T2 = 40 + 273.15"
      ],
      "id": "12d21533"
    },
    {
      "cell_type": "markdown",
      "metadata": {},
      "source": [
        "#### (b) Load the dataset\n",
        "\n",
        "Load the dataset using the widget below"
      ],
      "id": "9e06dfbd-2536-4ef3-87dc-722a57075492"
    },
    {
      "cell_type": "code",
      "execution_count": 64,
      "metadata": {},
      "outputs": [],
      "source": [
        "from fysisk_biokemi.widgets import DataUploader\n",
        "from IPython.display import display \n",
        "uploader = DataUploader()\n",
        "uploader.display()"
      ],
      "id": "3470504e"
    },
    {
      "cell_type": "markdown",
      "metadata": {},
      "source": [
        "Run the next cell **after** uploading the file"
      ],
      "id": "a41e20cf-b866-47d2-b55e-84b08020f434"
    },
    {
      "cell_type": "code",
      "execution_count": 65,
      "metadata": {},
      "outputs": [],
      "source": [
        "df = uploader.get_dataframe()\n",
        "display(df)"
      ],
      "id": "0d8d2c97"
    },
    {
      "cell_type": "markdown",
      "metadata": {},
      "source": [
        "#### (c) SI Units\n",
        "\n",
        "Calculate the concentration of A at each timepoint in SI units, by\n",
        "adding new columns to the `DataFrame`."
      ],
      "id": "9b765492-610a-4ac3-be33-18417bff4c6e"
    },
    {
      "cell_type": "code",
      "execution_count": 67,
      "metadata": {
        "exercise": true
      },
      "outputs": [],
      "source": [
        "extinction_coeff = ...\n",
        "L = 1 # Path length\n",
        "\n",
        "df['[A]_(M)_25C'] = ... # For 25 C\n",
        "... # For 40 C\n",
        "display(df)"
      ],
      "id": "81fdb47f"
    },
    {
      "cell_type": "markdown",
      "metadata": {},
      "source": [
        "#### (d) Plot the data\n",
        "\n",
        "We will be resuing the plot, so we will put the code for it in a\n",
        "function."
      ],
      "id": "64ee5107-4a4b-4421-9662-fde6468709ed"
    },
    {
      "cell_type": "code",
      "execution_count": 69,
      "metadata": {
        "exercise": true
      },
      "outputs": [],
      "source": [
        "def plot_dataframe(ax, df):\n",
        "    # Extract from dataframe\n",
        "    t = ...\n",
        "    A_25 = ...\n",
        "    A_40 = ...\n",
        "\n",
        "    # First subfigure: t vs [A]\n",
        "    ax.plot(..., ..., 'o', label='[A]_25C')\n",
        "    ... # Add the code to plot the 40C data.\n",
        "    ax.set_xlabel('t (s)')\n",
        "    ax.set_ylabel('[A] (M)')\n",
        "    ax.legend()"
      ],
      "id": "c70e9fbc"
    },
    {
      "cell_type": "markdown",
      "metadata": {},
      "source": [
        "You can run this next cell to see your plot and adjust as neccesarry."
      ],
      "id": "a368f7ef-84fb-4740-80f3-824b138bd990"
    },
    {
      "cell_type": "code",
      "execution_count": 71,
      "metadata": {},
      "outputs": [
        {
          "output_type": "display_data",
          "metadata": {},
          "data": {
            "image/png": "[encoded data removed]"
          }
        }
      ],
      "source": [
        "fig, ax = plt.subplots()\n",
        "plot_dataframe(ax, df)"
      ],
      "id": "d080a8f7"
    },
    {
      "cell_type": "markdown",
      "metadata": {},
      "source": [
        "#### (e) Determine reaction order\n",
        "\n",
        "In the exercise on “Determination of reaction orders” we saw how we can\n",
        "fit to the expressions for the integrated rate laws to determine the\n",
        "reaction order.\n",
        "\n",
        "In that exercise we wrote the functions in the next two cells, we will\n",
        "reuse them here"
      ],
      "id": "5235aac5-323d-450b-9765-b221a02d868f"
    },
    {
      "cell_type": "code",
      "execution_count": 72,
      "metadata": {},
      "outputs": [],
      "source": [
        "def zeroth_order(t, k, A0):\n",
        "    return A0 - k*t\n",
        "\n",
        "def first_order(t, k, A0):\n",
        "    return A0 * np.exp(-k*t)\n",
        "\n",
        "def second_order(t, k, A0):\n",
        "    return A0 / (1 + 2*k*t*A0)\n",
        "\n",
        "rate_laws = {0: zeroth_order, 1: first_order, 2:second_order}"
      ],
      "id": "b5eb9ad8"
    },
    {
      "cell_type": "code",
      "execution_count": 73,
      "metadata": {},
      "outputs": [],
      "source": [
        "from scipy.optimize import curve_fit\n",
        "\n",
        "def make_fit(x_data, y_data, x_eval, A0, order):\n",
        "    func = lambda t, k: rate_laws[order](t, k, A0)\n",
        "    popt, pcov = curve_fit(func, x_data, y_data)\n",
        "\n",
        "    # Evaluate fit at new points\n",
        "    k = popt[0]\n",
        "    y_fit_new = func(x_eval, k)\n",
        "    \n",
        "    # Evaluate fit at data-points to calculate residuals\n",
        "    y_fit_data = func(x_data, k)\n",
        "    residuals = y_data - y_fit_data\n",
        "\n",
        "    return k, y_fit_new, residuals"
      ],
      "id": "2e8400c0"
    },
    {
      "cell_type": "markdown",
      "metadata": {},
      "source": [
        "Now we need to set a few things before we can do the fitting"
      ],
      "id": "f687d3fb-f0ac-4004-98ba-5685ecd8b152"
    },
    {
      "cell_type": "code",
      "execution_count": 74,
      "metadata": {
        "exercise": true
      },
      "outputs": [],
      "source": [
        "t = ... # Extract the time from the dataframe\n",
        "A_25 = ... # Extract the concentration at 25C\n",
        "A_40 = ... # Extract the concentration at 40C\n",
        "A0_25 = ... # Set the initial concentration at 25C\n",
        "A0_40 = ... # Set the initial concentration at 40C"
      ],
      "id": "e4ae67d0"
    },
    {
      "cell_type": "markdown",
      "metadata": {},
      "source": [
        "> **Tip**\n",
        ">\n",
        "> You’ve already calculated the initial concentration, it is contained\n",
        "> in the `DataFrame`.\n",
        "\n",
        "Now we can use our plotting and fitting functions to analyze the data"
      ],
      "id": "00ebea7a-a9d6-46fa-ae58-8c59b6f7d905"
    },
    {
      "cell_type": "code",
      "execution_count": 76,
      "metadata": {
        "exercise": true
      },
      "outputs": [],
      "source": [
        "fig, axes = plt.subplots(2, 3, figsize=(8, 6), sharey='row', layout='constrained')\n",
        "\n",
        "for ax in axes.T:\n",
        "    plot_dataframe(ax[1], df)\n",
        "\n",
        "orders = [0, 1, 2]\n",
        "t_eval = np.linspace(0, t.max()*1.05)\n",
        "\n",
        "for ax_col, order in zip(axes.T, orders):\n",
        "    # Calculate the fits\n",
        "    k25, y_fit_25, residuals_25 = make_fit(t, A_25, t_eval, A0_25, order)\n",
        "    k40, y_fit_40, residuals_40 = make_fit(t, A_40, t_eval, A0_40, order)\n",
        "\n",
        "    # Plot the fits\n",
        "    ax = ax_col[1]\n",
        "    ax.plot(t_eval, y_fit_25, color='k')\n",
        "    ax.plot(t_eval, y_fit_40, color='k')\n",
        "    ax.text(0.05, 0.15, f'k (25 C) = {k25:.4f}', transform=ax.transAxes)\n",
        "    ax.text(0.05, 0.05, f'k (40 C) = {k40:.4f}', transform=ax.transAxes)\n",
        "\n",
        "    ax.legend()\n",
        "\n",
        "    # Plot the residuals\n",
        "    ax = ax_col[0]\n",
        "    ax.plot(t, residuals_25, 'o', color='C0', label='25 C')\n",
        "    ax.plot(t, residuals_40, 'o', color='C1', label='40 C')\n",
        "    ax.set_xlabel('Residual')    \n",
        "    ax.set_ylabel('Count')\n",
        "    ax.legend()\n",
        "\n",
        "    ax.set_title(f'Reaction order: {order}')"
      ],
      "id": "685dc4eb"
    },
    {
      "cell_type": "markdown",
      "metadata": {},
      "source": [
        "Based on these plots\n",
        "\n",
        "-   What do you think the reaction order of the reaction is?\n",
        "-   What’s the rate constant?\n",
        "-   What the unit of the rate constant?\n",
        "\n",
        "#### (f) Half-life\n",
        "\n",
        "What is the half-life of the reaction at these temperatures and is it\n",
        "constant through-out the reaction?"
      ],
      "id": "611b806f-280d-46fe-835c-aa485f71e7fe"
    },
    {
      "cell_type": "code",
      "execution_count": 78,
      "metadata": {},
      "outputs": [],
      "source": [
        "... "
      ],
      "id": "29f5d042"
    },
    {
      "cell_type": "markdown",
      "metadata": {},
      "source": [
        "#### (g) Activation energy\n",
        "\n",
        "With the assumption that the Arrhenius constant A and the activation\n",
        "energy are temperature independent in the interval measured, use the\n",
        "Arrhenius equation to calculate the activation energy of the\n",
        "isomerization of the compound A.\n",
        "\n",
        "Perform the calculation in the cell below."
      ],
      "id": "613ea5c4-cc9f-4905-985a-d6cbf533623c"
    },
    {
      "cell_type": "code",
      "execution_count": 79,
      "metadata": {},
      "outputs": [],
      "source": [
        "..."
      ],
      "id": "f2f0efb0"
    },
    {
      "cell_type": "markdown",
      "metadata": {},
      "source": [
        "------------------------------------------------------------------------\n",
        "\n",
        "## 5 The pH effect on an active site histidine residue\n",
        "\n",
        "Assume that a compound R can react with the unprotonated form of\n",
        "Histidine, $\\text{His}$, to form a covalent reaction product,\n",
        "$\\text{P}$: $$\n",
        "\\text{His} + \\text{R} \\rightarrow \\text{P}\n",
        "$$\n",
        "\n",
        "The protonated form of Histidine, $\\text{HisH}^+$, is in equilibrium\n",
        "with $\\text{His}$:\n",
        "\n",
        "$$\n",
        "\\text{HisH}^+ \\rightleftharpoons \\text{His} + \\text{H}^+\n",
        "$$\n",
        "\n",
        "The pKa value for this acid-base equilibrium is 6.0. Further assume that\n",
        "the total concentration of Histidine, is\n",
        "\n",
        "$$\n",
        "[\\text{HisH}^+] + [\\text{His}] = 10^{-3} \\ \\text{M}\n",
        "$$\n",
        "\n",
        "#### (a) Percentage unprotonated\n",
        "\n",
        "Using the Henderson-Hasselbach equation, calculate the percentage of\n",
        "unprotonated Histidine, $\\text{His}$, at pH 6.0."
      ],
      "id": "d334fbb9-8f17-496d-a8f3-2c98a7a67f9b"
    },
    {
      "cell_type": "code",
      "execution_count": 80,
      "metadata": {
        "exercise": true
      },
      "outputs": [],
      "source": [
        "pKa = ...\n",
        "pH = ...\n",
        "\n",
        "... # Possible intermediate calculation, otherwise delete this line.\n",
        "\n",
        "percentage_unprotonated = ...\n",
        "print(f\"{percentage_unprotonated = } %\")"
      ],
      "id": "169c1352"
    },
    {
      "cell_type": "markdown",
      "metadata": {},
      "source": [
        "#### (b) Concentration\n",
        "\n",
        "Calculate $[\\text{His}]$ at pH 6"
      ],
      "id": "c2362ba9-9947-44ca-8c12-4612c0d75263"
    },
    {
      "cell_type": "code",
      "execution_count": 82,
      "metadata": {
        "exercise": true
      },
      "outputs": [],
      "source": [
        "total_conc = ...\n",
        "his_conc = ...\n",
        "print(f\"{his_conc = } M\")"
      ],
      "id": "826b1c8a"
    },
    {
      "cell_type": "markdown",
      "metadata": {},
      "source": [
        "#### (c) Reaction order\n",
        "\n",
        "The reaction equation for the reaction between $\\text{His}$ and\n",
        "$\\text{R}$ is\n",
        "\n",
        "$$\n",
        "v = - \\frac{d[\\text{His}]}{dt} = k \\cdot [\\text{His}] \\cdot [\\text{R}]\n",
        "$$\n",
        "\n",
        "What’s the reaction order?\n",
        "\n",
        "#### (d) High concentrations\n",
        "\n",
        "If $[\\text{R}]$ is much higher than $[\\text{His}]$, what can then be\n",
        "concluded regarding the order of the reaction?\n",
        "\n",
        "#### (e) New rate constant\n",
        "\n",
        "Show how a new rate constant, $k'$, can be defined in these conditions.\n",
        "How does $k'$ depend on $\\text{R}$?\n",
        "\n",
        "#### (f) SI Units\n",
        "\n",
        "At pH 6.0 the reaction rate $v = 1 \\ \\text{mM}\\cdot \\text{s}^{-1}$ and\n",
        "constant $[\\text{R}] = 0.2 \\ \\text{M}$\n",
        "\n",
        "Convert the reaction rate to SI-units given in\n",
        "$\\text{M}\\cdot \\text{s}^{-1}$."
      ],
      "id": "3957fda2-885f-4388-b9aa-5f602ba3be40"
    },
    {
      "cell_type": "code",
      "execution_count": 84,
      "metadata": {},
      "outputs": [],
      "source": [
        "..."
      ],
      "id": "bba22d16"
    },
    {
      "cell_type": "markdown",
      "metadata": {},
      "source": [
        "#### (g) Calculate the rate constant\n",
        "\n",
        "Use the concentration of $[\\text{His}]$ at pH 6 calculated in question\n",
        "(b) and calculate the rate constant k."
      ],
      "id": "600bf198-1c73-4449-9ede-99377afb7989"
    },
    {
      "cell_type": "code",
      "execution_count": 85,
      "metadata": {},
      "outputs": [],
      "source": [
        "..."
      ],
      "id": "6d9cfee1"
    },
    {
      "cell_type": "markdown",
      "metadata": {},
      "source": [
        "------------------------------------------------------------------------\n",
        "\n",
        "## 6 Design of an enzyme kinetics experiment"
      ],
      "id": "8abf7b17-8808-42cd-8d53-37b64b6af20e"
    },
    {
      "cell_type": "code",
      "execution_count": 86,
      "metadata": {},
      "outputs": [],
      "source": [
        "import matplotlib.pyplot as plt\n",
        "from scipy.optimize import curve_fit\n",
        "import numpy as np\n",
        "import pandas as pd"
      ],
      "id": "5d743c8c"
    },
    {
      "cell_type": "markdown",
      "metadata": {},
      "source": [
        "In the Excel document `design-enzyme-kineti-exper.xlsx` you will find a\n",
        "data set in which an enzyme catalyzed formation of product P, with\n",
        "varying start concentration of substrates, \\[S\\], was followed over\n",
        "time. The product absorbs light at a specific wavelength with an\n",
        "extinction coefficient of 0.068 $\\mu\\text{M}^{-1}\\cdot \\text{cm}^{-1}$,\n",
        "and the absorbance was measured in a light path of 1 cm throughout the\n",
        "time course.\n",
        "\n",
        "You can load the dataset using the cells below;"
      ],
      "id": "de7a79bf-1242-4fc0-9973-6b5f7e7fc882"
    },
    {
      "cell_type": "code",
      "execution_count": 87,
      "metadata": {},
      "outputs": [],
      "source": [
        "from fysisk_biokemi.widgets import DataUploader\n",
        "from IPython.display import display \n",
        "uploader = DataUploader()\n",
        "uploader.display()"
      ],
      "id": "a3cfb3c6"
    },
    {
      "cell_type": "markdown",
      "metadata": {},
      "source": [
        "Run the next cell **after** uploading the file"
      ],
      "id": "b2bda3a5-9e39-4442-a71e-02a87c6e1e51"
    },
    {
      "cell_type": "code",
      "execution_count": 88,
      "metadata": {},
      "outputs": [],
      "source": [
        "df = uploader.get_dataframe()\n",
        "display(df)"
      ],
      "id": "cb3e10a4"
    },
    {
      "cell_type": "markdown",
      "metadata": {},
      "source": [
        "The headers, like `Abs_S1` refer to the substrate concentration so `S1`\n",
        "means a substrate concentration of 1 $\\mu\\text{M}$.\n",
        "\n",
        "#### (a)\n",
        "\n",
        "Convert the extinction coefficient to units given in\n",
        "$\\text{M}^{-1}\\cdot \\text{cm}^{-1}$ and assign it to a variable. Also\n",
        "assign the light path length to a variable."
      ],
      "id": "998102cb-9385-4d75-ab1a-54a8a3884474"
    },
    {
      "cell_type": "code",
      "execution_count": 90,
      "metadata": {
        "exercise": true
      },
      "outputs": [],
      "source": [
        "...\n",
        "..."
      ],
      "id": "fd405d2a"
    },
    {
      "cell_type": "markdown",
      "metadata": {},
      "source": [
        "#### (b) Calculate concentrations\n",
        "\n",
        "Using Lambert-Beers law, calculate the concentration of product, \\[P\\],\n",
        "in M for each time series.\n",
        "\n",
        "> **Loops**\n",
        ">\n",
        "> Loops are one of the most useful parts of programming, loops allows us\n",
        "> to repeat an operation on many different elements. This allows us to\n",
        "> not have to repeat code many times, making it simpler to understand\n",
        "> and less prone to error - and at the same time more flexible.\n",
        ">\n",
        "> A common type of loop in Python is the `for` loop, which does\n",
        "> something `for` every item it is told to consider. The syntax of a\n",
        "> `for`-loop is like so:\n",
        ">\n",
        "> ``` python\n",
        "> total = 0\n",
        "> for count in [1, 2, 3, 4, 5]:\n",
        ">     print(f\"I have {count} apples.\")\n",
        "> ```\n",
        ">\n",
        "> Which will print\n",
        ">\n",
        ">     I have 1 apples\n",
        ">     I have 2 apples\n",
        ">     I have 3 apples\n",
        ">     I have 4 apples\n",
        ">     I have 5 apples\n",
        ">\n",
        "> So the `for`-loop did the operation of printing a string for each\n",
        "> value of `count`.\n",
        ">\n",
        "> When working with a `DataFrame` like in this exercise, we may for\n",
        "> example want to do something `for` each column, one way of doing that\n",
        "> is to loop over the column names, say we want we have a `DataFrame`\n",
        "> `df` with columns named `\"col1\", \"col2\", \"col3\"` we can loop over that\n",
        "> as\n",
        ">\n",
        "> ``` python\n",
        "> for name in ['col1', 'col2', 'col3']\n",
        ">     df[name] = ... # Some operation\n",
        "> ```\n",
        "\n",
        "The cell below setups a loop calculate the concentrations for each of\n",
        "these current columns in the dataframe."
      ],
      "id": "73fb10e7-e332-4672-b6ae-ecf3a9007d40"
    },
    {
      "cell_type": "code",
      "execution_count": 92,
      "metadata": {
        "exercise": true
      },
      "outputs": [],
      "source": [
        "substrate_concentrations = [1, 2, 4, 8, 16, 32, 64, 128, 256]\n",
        "for s in substrate_concentrations:\n",
        "    abs_col_name = f'Abs_S{s}' # This creates a string where the value of 's' is put instead of \"{s}\"\".\n",
        "    conc_col_name = f'C_S{s}' # Same type string creation \n",
        "    df[conc_col_name] = ... # Your code here\n",
        "\n",
        "    # We can print in each iteration of the loop to see what's going on.\n",
        "    print(s, abs_col_name, conc_col_name) "
      ],
      "id": "ece20693"
    },
    {
      "cell_type": "markdown",
      "metadata": {},
      "source": [
        "And we can check that the columns we expect have been added to the\n",
        "`DataFrame`."
      ],
      "id": "7f7a77f7-447f-43a1-ad44-badd65a3b26c"
    },
    {
      "cell_type": "code",
      "execution_count": 94,
      "metadata": {
        "exercise": true
      },
      "outputs": [],
      "source": [
        "display(df)"
      ],
      "id": "6593b056"
    },
    {
      "cell_type": "markdown",
      "metadata": {},
      "source": [
        "#### (c) Plot\n",
        "\n",
        "Plot \\[P\\] as a function of time for all experiments in one single\n",
        "graph.\n",
        "\n",
        "Here it is again very useful to use a `for`-loop"
      ],
      "id": "923b0661-cd5b-4a62-b9ce-6fac4e9c10de"
    },
    {
      "cell_type": "code",
      "execution_count": 96,
      "metadata": {},
      "outputs": [
        {
          "output_type": "display_data",
          "metadata": {},
          "data": {
            "image/png": "[encoded data removed]"
          }
        }
      ],
      "source": [
        "fig, ax = plt.subplots(figsize=(7, 4))\n",
        "\n",
        "x_axis = df['time_(s)']\n",
        "substrate_concentrations = [1, 2, 4, 8, 16, 32, 64, 128, 256]\n",
        "for s in substrate_concentrations:\n",
        "    conc_col_name = f'C_S{s}'\n",
        "    y_axis = df[conc_col_name]\n",
        "\n",
        "    ax.plot(x_axis, y_axis, label=conc_col_name)    \n",
        "\n",
        "    ax.set_xlabel('Time (s)')\n",
        "    ax.set_ylabel('Concentration (M)')\n",
        "\n",
        "\n",
        "ax.legend()    "
      ],
      "id": "2b051fc1"
    },
    {
      "cell_type": "markdown",
      "metadata": {},
      "source": [
        "#### (d) Extracting $V_0$.\n",
        "\n",
        "We want to use Python to determine $V_0$ for each concentration of $S$,\n",
        "in order to create a table of $V_0$ vs $[S]$. To do so we will fit\n",
        "linear functions to the initial parts of the curves, as the slope of\n",
        "these is then $V_0$.\n",
        "\n",
        "Start by defining a linear function;"
      ],
      "id": "bfd39a64-e857-448b-a378-50bb1d577afb"
    },
    {
      "cell_type": "code",
      "execution_count": 97,
      "metadata": {
        "exercise": true
      },
      "outputs": [],
      "source": [
        "def linear_func(x, a, b):\n",
        "    return ..."
      ],
      "id": "6c4b7676"
    },
    {
      "cell_type": "markdown",
      "metadata": {},
      "source": [
        "As mentioned we want to to get the slope in the initial part of the\n",
        "reaction, where the curves are approximately linear. To do so we need to\n",
        "fit not on all the data-points but only some of them.\n",
        "\n",
        "In the cell below `n_points` determines the number of data-points used\n",
        "for the linear fit. Use this cell to find an appropriate value of\n",
        "`n_points`."
      ],
      "id": "11789a88-f83f-4cfd-be0f-5a9252623259"
    },
    {
      "cell_type": "code",
      "execution_count": 99,
      "metadata": {
        "exercise": true
      },
      "outputs": [],
      "source": [
        "# The number of points used to make the fit\n",
        "n_points = ...\n",
        "\n",
        "# Variables to store calculated values.\n",
        "slopes = []\n",
        "concentrations = []\n",
        "\n",
        "fig, axes = plt.subplots(3, 3, figsize=(8, 8), sharex=True, sharey='row') # We make the figure while also finding the slopes.\n",
        "for i, (s, ax) in enumerate(zip(substrate_concentrations, axes.flatten())): # Don't worry about the details of this.\n",
        "\n",
        "    # Make the\n",
        "    conc_col_name = f'C_S{s}'\n",
        "    x_data = df['time_(s)'][:n_points]\n",
        "    y_data = df[conc_col_name][:n_points]\n",
        "    popt, pcov = curve_fit(linear_func, x_data, y_data)\n",
        "\n",
        "    # Plot the data\n",
        "    ax.plot(df['time_(s)'], df[conc_col_name], 'o', color=f'C{i}', label=f'[S]={s} uM')\n",
        "\n",
        "    # Plot the fit\n",
        "    t_smooth = np.linspace(0, 10, 10)\n",
        "    ax.plot(t_smooth, linear_func(t_smooth, *popt), color='black', linestyle='-')\n",
        "\n",
        "    # Customize\n",
        "    ax.set_xlabel('Time (s)')\n",
        "    ax.set_ylabel('Concentration (M)')\n",
        "    ax.legend()\n",
        "\n",
        "    # Store calculated slopes and concentrations, concentration converted to molar.\n",
        "    slopes.append(popt[0])\n",
        "    concentrations.append(s * 10**(-6))"
      ],
      "id": "7eea9814"
    },
    {
      "cell_type": "markdown",
      "metadata": {},
      "source": [
        "Once you’re satisfied with the fit you can display the collected slopes\n",
        "with the cell below\n",
        "\n",
        "#### (e) Understanding of $V_0$\n",
        "\n",
        "Why is it important to use $V_0$ rather than $V$ at a later time point\n",
        "when creating the Michaelis-Menten plot?\n",
        "\n",
        "#### (f) Plotting again.\n",
        "\n",
        "Plot $V_0$ against substrate concentration and estimate $k_{cat}$ and\n",
        "$K_M$ visually (remember units)"
      ],
      "id": "9a08a0f9-6d5e-42c5-a0e4-17528c7df2c2"
    },
    {
      "cell_type": "code",
      "execution_count": 102,
      "metadata": {
        "exercise": true
      },
      "outputs": [],
      "source": [
        "fig, ax = plt.subplots()\n",
        "\n",
        "# Make the plot\n",
        "...\n",
        "\n",
        "# Customize with axis labels\n",
        "...\n",
        "..."
      ],
      "id": "4d876719"
    },
    {
      "cell_type": "code",
      "execution_count": 104,
      "metadata": {
        "exercise": true
      },
      "outputs": [],
      "source": [
        "# Put your estimated values here: \n",
        "k_cat_estimate = ...\n",
        "K_M_estimate = ..."
      ],
      "id": "84ddd701"
    },
    {
      "cell_type": "markdown",
      "metadata": {},
      "source": [
        "------------------------------------------------------------------------\n",
        "\n",
        "## 7 Analysis of a data set obeying Michaelis-Menten kinetics"
      ],
      "id": "8a1478f8-b320-4f60-9ac3-9da9a8497ad9"
    },
    {
      "cell_type": "code",
      "execution_count": 105,
      "metadata": {},
      "outputs": [],
      "source": [
        "import pandas as pd\n",
        "import numpy as np\n",
        "import matplotlib.pyplot as plt\n",
        "from scipy.optimize import curve_fit\n",
        "pd.set_option('display.max_rows', 6)"
      ],
      "id": "b7d44224"
    },
    {
      "cell_type": "markdown",
      "metadata": {},
      "source": [
        "The kinetics for an enzyme were investigated using the absorbance of the\n",
        "product to calculate the initial velocities for a range of different\n",
        "initial concentrations of the substrate. The data given in the dataset\n",
        "`analys-data-set-obeyin.xlsx` was obtained. Use these data to answer the\n",
        "following questions."
      ],
      "id": "9eee1d4f-bd15-405b-a8cc-6a928f8d2ee8"
    },
    {
      "cell_type": "code",
      "execution_count": 106,
      "metadata": {},
      "outputs": [],
      "source": [
        "from fysisk_biokemi.widgets import DataUploader\n",
        "from IPython.display import display \n",
        "uploader = DataUploader()\n",
        "uploader.display()"
      ],
      "id": "018248fa"
    },
    {
      "cell_type": "markdown",
      "metadata": {},
      "source": [
        "Run the next cell **after** uploading the file"
      ],
      "id": "99a3c247-f903-4398-9c23-d2d3351f5fb8"
    },
    {
      "cell_type": "code",
      "execution_count": 107,
      "metadata": {},
      "outputs": [],
      "source": [
        "df = uploader.get_dataframe()\n",
        "display(df)"
      ],
      "id": "93568972"
    },
    {
      "cell_type": "markdown",
      "metadata": {},
      "source": [
        "#### (a) SI Units\n",
        "\n",
        "Convert the concentrations of substrate and the velocities to the SI\n",
        "units $\\text{M}$ and $\\text{M}\\cdot\\text{s}^{-1}$, respectively."
      ],
      "id": "86b586da-52e3-4e6a-9990-8b898e04f710"
    },
    {
      "cell_type": "code",
      "execution_count": 109,
      "metadata": {
        "exercise": true
      },
      "outputs": [],
      "source": [
        "...\n",
        "...\n",
        "display(df)"
      ],
      "id": "9dc998f0"
    },
    {
      "cell_type": "markdown",
      "metadata": {},
      "source": [
        "#### (b) Plot & estimate\n",
        "\n",
        "Plot the initial velocities, $V_0$, as a function of substrate\n",
        "concentrations, $[S]$. Estimate $K_M$ and $V_\\mathrm{max}$ from this\n",
        "plot."
      ],
      "id": "15d03fbf-97cb-482d-a1aa-c2f7752ea688"
    },
    {
      "cell_type": "code",
      "execution_count": 111,
      "metadata": {
        "exercise": true
      },
      "outputs": [],
      "source": [
        "fig, ax = plt.subplots()\n",
        "\n",
        "... # Your code here. \n",
        "\n",
        "# Some settings to make the plot nicer..\n",
        "ax.set_xlabel('[S] (M)')\n",
        "ax.set_ylabel('$V_0$ (M/s)')\n",
        "ax.grid('on')\n",
        "ax.set_ylim(0, df['V0_(M/s)'].max()*1.2)"
      ],
      "id": "cb3f35b7"
    },
    {
      "cell_type": "markdown",
      "metadata": {},
      "source": [
        "#### (c) Fit\n",
        "\n",
        "Now we want to fit using the Michaelis-Menten equation, as per usual\n",
        "when the task is fitting we have to define the function we are fitting\n",
        "with"
      ],
      "id": "8a7ab662-1c3f-4d47-95f6-2c649c79963c"
    },
    {
      "cell_type": "code",
      "execution_count": 113,
      "metadata": {
        "exercise": true
      },
      "outputs": [],
      "source": [
        "def michaelis_menten(S, Vmax, Km):\n",
        "    return ... # Replace ..."
      ],
      "id": "c4064419"
    },
    {
      "cell_type": "markdown",
      "metadata": {},
      "source": [
        "> **Caution**\n",
        ">\n",
        "> This is one of those places were parentheses are crucial.\n",
        "\n",
        "And then we can follow our usual procedure to make the fit"
      ],
      "id": "4ad449ce-8190-4951-bc26-1ee720364de0"
    },
    {
      "cell_type": "code",
      "execution_count": 115,
      "metadata": {
        "exercise": true
      },
      "outputs": [],
      "source": [
        "x_data = ...\n",
        "y_data = ...\n",
        "\n",
        "popt, pcov = ...\n",
        "Vmax, Km = popt\n",
        "\n",
        "print(f\"{Vmax = :03f}\")\n",
        "print(f\"{Km = :03f}\")"
      ],
      "id": "13f8ad39"
    },
    {
      "cell_type": "markdown",
      "metadata": {},
      "source": [
        "How do these values compare to your estimate?\n",
        "\n",
        "#### (d) Enzyme concentration\n",
        "\n",
        "The $k_{cat}$ of the enzyme was determined to be\n",
        "$20000 \\ \\text{s}^{-1}$. Calculate, in the cell below, the concentration\n",
        "of the enzyme used in the assay."
      ],
      "id": "f85b7672-369c-48d4-a18b-af9881e10c2e"
    },
    {
      "cell_type": "code",
      "execution_count": 117,
      "metadata": {
        "exercise": true
      },
      "outputs": [],
      "source": [
        "kcat = ...\n",
        "... # Calculate the enzyme_concentration\n",
        "print(...) # Print the concentration."
      ],
      "id": "27c79fa9"
    },
    {
      "cell_type": "markdown",
      "metadata": {},
      "source": [
        "------------------------------------------------------------------------\n",
        "\n",
        "## 8 Lab Exercise Analysis: Michaelis Menten"
      ],
      "id": "d2e90a7c-2d21-49fa-a071-c89b20d61c94"
    },
    {
      "cell_type": "code",
      "execution_count": 119,
      "metadata": {},
      "outputs": [],
      "source": [
        "import numpy as np\n",
        "import pandas as pd\n",
        "import matplotlib.pyplot as plt\n",
        "from scipy.optimize import curve_fit"
      ],
      "id": "569bef19"
    },
    {
      "cell_type": "markdown",
      "metadata": {},
      "source": [
        "In the “Introduction to the Molecules of Life”-course you performed an\n",
        "experiment where you measured absorption for different substrate\n",
        "concentrations as a function of time. The experiment was done with\n",
        "p-nitrophenylphosphat as the substrate and turns into p-nitrophenol when\n",
        "the enzyme (alkaline phosphatase) acts on it.\n",
        "\n",
        "Load your dataset using the widget below"
      ],
      "id": "2af4e5e9-ff05-45a4-b30d-4de0d53697d0"
    },
    {
      "cell_type": "code",
      "execution_count": 120,
      "metadata": {},
      "outputs": [],
      "source": [
        "import numpy as np\n",
        "from fysisk_biokemi.widgets import DataUploader\n",
        "from IPython.display import display \n",
        "uploader = DataUploader()\n",
        "uploader.display()"
      ],
      "id": "b3ebbbec"
    },
    {
      "cell_type": "markdown",
      "metadata": {},
      "source": [
        "Run the next cell **after** uploading the file"
      ],
      "id": "ed11118c-41b3-4a91-ae10-e44ba83b6e7b"
    },
    {
      "cell_type": "code",
      "execution_count": 121,
      "metadata": {},
      "outputs": [],
      "source": [
        "df = uploader.get_dataframe()\n",
        "display(df)"
      ],
      "id": "81b71b7b"
    },
    {
      "cell_type": "markdown",
      "metadata": {},
      "source": [
        "#### (a) Units\n",
        "\n",
        "The measured absorbances are unitless, they are the log of the ratio\n",
        "between the incoming light intensity and the transmitted light\n",
        "intensity. We would like to work with concentrations instead, so we need\n",
        "to convert the absorbance to concentration. The conversion is done using\n",
        "Lambert-Beer’s law.\n",
        "\n",
        "The extinction coefficient of the product p-nitrophenol is\n",
        "$\\varepsilon = 18000 \\, \\text{M}^{-1} \\text{cm}^{-1}$ at\n",
        "$405 \\ \\text{nm}$ and the path length of the cuvette is\n",
        "$l = 1\\, \\text{cm}$. We will construct a new `DataFrame` with\n",
        "concentrations\n",
        "\n",
        "We will start by definining a function `lambert_beers` to calculate the\n",
        "concentrations"
      ],
      "id": "8491cdb3-a116-43e4-801c-43fa66006753"
    },
    {
      "cell_type": "code",
      "execution_count": 123,
      "metadata": {
        "exercise": true
      },
      "outputs": [],
      "source": [
        "def lambert_beers(absorbance):    \n",
        "    L = ... # Units: cm\n",
        "    ext_coeff = ... # Units: 1 / (M cm)\n",
        "    conc = ... # Units: M\n",
        "    return conc"
      ],
      "id": "066f25a5"
    },
    {
      "cell_type": "markdown",
      "metadata": {},
      "source": [
        "The next cell makes a new `DataFrame` by applying the lambert_beers\n",
        "function to every column in the original"
      ],
      "id": "5e34f26e-baef-41c1-b906-794407116b30"
    },
    {
      "cell_type": "code",
      "execution_count": 125,
      "metadata": {
        "exercise": true
      },
      "outputs": [],
      "source": [
        "data = {\n",
        "    'time': df['time'],\n",
        "    'S_0.8_mM': lambert_beers(df['0.8']),\n",
        "    'S_0.4_mM': lambert_beers(df['0.4']),\n",
        "    'S_0.2_mM': lambert_beers(df['0.2']),\n",
        "    'S_0.12_mM': lambert_beers(df['0.12']),\n",
        "    'S_0.05_mM': lambert_beers(df['0.05']),\n",
        "    'S_0.02_mM': lambert_beers(df['0.02']),\n",
        "    'S_0.01_mM': lambert_beers(df['0.01']),\n",
        "    'S_0.003_mM': lambert_beers(df['0.003']),\n",
        "}\n",
        "\n",
        "df = pd.DataFrame(data)\n",
        "display(df)"
      ],
      "id": "f0170360"
    },
    {
      "cell_type": "markdown",
      "metadata": {},
      "source": [
        "#### (b) Plot\n",
        "\n",
        "Now lets plot the data. Plot each column seperately as a function of\n",
        "time."
      ],
      "id": "d6175c2d-b745-4a98-882a-69b77babca02"
    },
    {
      "cell_type": "code",
      "execution_count": 127,
      "metadata": {
        "exercise": true
      },
      "outputs": [],
      "source": [
        "fig, ax = plt.subplots()\n",
        "\n",
        "# Your code here, one line for each column, \n",
        "# except for the time column, so 8 lines total.)\n",
        "...\n",
        "\n",
        "ax.set_xlabel('Time [s]')\n",
        "ax.set_ylabel('Concentration [M]')\n",
        "ax.legend()\n",
        "plt.show()"
      ],
      "id": "a807bb92"
    },
    {
      "cell_type": "markdown",
      "metadata": {},
      "source": [
        "#### (c) Finding the slopes\n",
        "\n",
        "In order to apply the Michaelis Menten equation we need the slopes of\n",
        "this curves as that is the reaction velocity $V_0$, luckily we have\n",
        "learned how to make fit! So we make a fit to the linear function to\n",
        "determine the slope $a$ in, $$\n",
        "y(x) = a x + b\n",
        "$$ As always, start by writing the function\n",
        "\n",
        "Now we want to find the slope for each column, to help with that we will\n",
        "introduce a function that takes the time column and one of the\n",
        "absorbance columns and returns the slope"
      ],
      "id": "75650573-3c90-46da-a878-93dcb5a733a7"
    },
    {
      "cell_type": "code",
      "execution_count": 131,
      "metadata": {
        "exercise": true
      },
      "outputs": [],
      "source": [
        "def find_slope(time_data, abs_data):\n",
        "    # This selects the times and absorbances that have been measured (not NaN)\n",
        "    indices = np.where(~abs_data.isna())[0]\n",
        "    time_data = time_data[indices]\n",
        "    abs_data = abs_data[indices]\n",
        "\n",
        "    # Find the slope and the intercept using curve_fit and return the slope    \n",
        "    ...\n",
        "    return slope"
      ],
      "id": "ffdf33ec"
    },
    {
      "cell_type": "markdown",
      "metadata": {},
      "source": [
        "Now we want to use this for each set of measurements at different\n",
        "substrate concentrations."
      ],
      "id": "a78f36e9-2364-4b4a-9926-8ac3f3ab7b40"
    },
    {
      "cell_type": "code",
      "execution_count": 133,
      "metadata": {
        "exercise": true
      },
      "outputs": [],
      "source": [
        "slope_08 = ...\n",
        "slope_04 = ...\n",
        "slope_02 = ...\n",
        "slope_012 = ...\n",
        "slope_005 = ...\n",
        "slope_002 = ...\n",
        "slope_001 = ...\n",
        "slope_0003 = ...\n",
        "\n",
        "substrate_concentrations = np.array([0.8, 0.4, 0.2, 0.12, 0.05, 0.02, 0.01, 0.003]) * 10**(-3) # Converted from mM to M.\n",
        "slopes = np.array([slope_08, slope_04, slope_02, slope_012, slope_005, slope_002, slope_001, slope_0003])"
      ],
      "id": "e8e7c3ce"
    },
    {
      "cell_type": "markdown",
      "metadata": {},
      "source": [
        "Now make a plot of the slopes versus the substrate concentrations"
      ],
      "id": "09370bcf-1d85-41b3-b953-15a2333b3b8d"
    },
    {
      "cell_type": "code",
      "execution_count": 135,
      "metadata": {
        "exercise": true
      },
      "outputs": [],
      "source": [
        "fig, ax = plt.subplots() \n",
        "\n",
        "# Plot the slopes \n",
        "...\n",
        "\n",
        "# Set the x and y labels\n",
        "...\n",
        "\n",
        "plt.show()"
      ],
      "id": "607be0d2"
    },
    {
      "cell_type": "markdown",
      "metadata": {},
      "source": [
        "#### (d) Michaelis Menten\n",
        "\n",
        "Now that we have the slopes we can fit to the Michaelis Menten equation,\n",
        "again we need to implement the equation"
      ],
      "id": "129e47af-d032-48df-b7f8-0e19da09a301"
    },
    {
      "cell_type": "code",
      "execution_count": 137,
      "metadata": {
        "exercise": true
      },
      "outputs": [],
      "source": [
        "def mich_menten(S, V_max, K_M):\n",
        "    return ..."
      ],
      "id": "6b306f59"
    },
    {
      "cell_type": "markdown",
      "metadata": {},
      "source": [
        "Then fit to the slopes we extracted"
      ],
      "id": "2e9c907d-fa33-406d-98b1-393fc28883a8"
    },
    {
      "cell_type": "code",
      "execution_count": 139,
      "metadata": {
        "exercise": true
      },
      "outputs": [],
      "source": [
        "popt, pcov = ...\n",
        "V_max_fit, K_M_fit = popt\n",
        "\n",
        "print(f'{V_max_fit = :.3e}')\n",
        "print(f'{K_M_fit = :.3e}')"
      ],
      "id": "87af3be5"
    },
    {
      "cell_type": "markdown",
      "metadata": {},
      "source": [
        "-   What is the physical meaning of $K_M$ and how does it relate to\n",
        "    binding affinity?\n",
        "-   What’s the meaning of $V_{max}$? Why does the curve saturate?\n",
        "\n",
        "#### (e) Plot with fit"
      ],
      "id": "1a1ed717-1e3d-4a21-98ba-894b1a1e47c7"
    },
    {
      "cell_type": "code",
      "execution_count": 141,
      "metadata": {
        "exercise": true
      },
      "outputs": [],
      "source": [
        "S_smooth = np.linspace(0, substrate_concentrations.max())\n",
        "V0_fit = ..."
      ],
      "id": "8b6cc90e"
    },
    {
      "cell_type": "code",
      "execution_count": 143,
      "metadata": {
        "exercise": true
      },
      "outputs": [],
      "source": [
        "fig, ax = plt.subplots() \n",
        "\n",
        "# Put code to plot:\n",
        "...\n",
        "\n",
        "# Put code to customize:\n",
        "...\n",
        "\n",
        "plt.show()"
      ],
      "id": "743b8c5f"
    },
    {
      "cell_type": "markdown",
      "metadata": {},
      "source": [
        "#### Turnover number\n",
        "\n",
        "Given that the enzyme concentration was\n",
        "$3.33 \\frac{\\text{mg}}{\\text{L}}$ and the molecular weight of the enzyme\n",
        "(alkaline phosphatase) is 496.6 $\\frac{\\text{g}}{\\text{mol}}$, calculate\n",
        "the turnover number.\n",
        "\n",
        "Stary by converting the enzyme concentration to molar units and then\n",
        "calculate turnover number."
      ],
      "id": "ec7fa480-1398-44f2-bb74-0caece7c5d9f"
    },
    {
      "cell_type": "code",
      "execution_count": 145,
      "metadata": {
        "exercise": true
      },
      "outputs": [],
      "source": [
        "enzyme_conc = ... # Your code here.\n",
        "\n",
        "kcat = ... # Your code here.\n",
        "\n",
        "print(f\"{kcat = :.3e} 1/s\")"
      ],
      "id": "02aa0dd5"
    },
    {
      "cell_type": "markdown",
      "metadata": {},
      "source": [
        "-   What is the biochemical meaning of this number?"
      ],
      "id": "ab9c604a-4cc5-49df-a8cf-773ef2ec240f"
    }
  ],
  "nbformat": 4,
  "nbformat_minor": 5,
  "metadata": {
    "kernelspec": {
      "name": "python3",
      "display_name": "Python 3 (ipykernel)",
      "language": "python",
      "path": "/home/runner/work/fysisk-biokemi/fysisk-biokemi/.venv/share/jupyter/kernels/python3"
    },
    "language_info": {
      "name": "python",
      "codemirror_mode": {
        "name": "ipython",
        "version": "3"
      },
      "file_extension": ".py",
      "mimetype": "text/x-python",
      "nbconvert_exporter": "python",
      "pygments_lexer": "ipython3",
      "version": "3.11.13"
    }
  }
}