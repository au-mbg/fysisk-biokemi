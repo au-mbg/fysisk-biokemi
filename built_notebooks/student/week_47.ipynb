{
  "cells": [
    {
      "cell_type": "markdown",
      "metadata": {},
      "source": [
        "# Week 47"
      ],
      "id": "5523461e-e7fb-42e2-92c1-e89d09ee945b"
    },
    {
      "cell_type": "code",
      "execution_count": 2,
      "metadata": {},
      "outputs": [],
      "source": [
        "try:\n",
        "    import fysisk_biokemi\n",
        "    print(\"Already installed\")\n",
        "except ImportError:\n",
        "    %pip install -q \"fysisk_biokemi[colab] @ git+https://github.com/au-mbg/fysisk-biokemi.git\""
      ],
      "id": "9073b5a4"
    },
    {
      "cell_type": "markdown",
      "metadata": {},
      "source": [
        "------------------------------------------------------------------------\n",
        "\n",
        "## Determination of reaction orders."
      ],
      "id": "cdea4489-b8f1-4638-b1f6-db886e564e39"
    },
    {
      "cell_type": "code",
      "execution_count": 3,
      "metadata": {},
      "outputs": [],
      "source": [
        "import matplotlib.pyplot as plt\n",
        "import numpy as np"
      ],
      "id": "7a4567e1"
    },
    {
      "cell_type": "markdown",
      "metadata": {},
      "source": [
        "#### (a) Load the dataset\n",
        "\n",
        "Load the dataset `deter-reacti-orders.xlsx` using the widget below"
      ],
      "id": "1e00f6b2-6e61-4c24-84b1-54688c9a8ea5"
    },
    {
      "cell_type": "code",
      "execution_count": 4,
      "metadata": {},
      "outputs": [],
      "source": [
        "from fysisk_biokemi.widgets import DataUploader\n",
        "from IPython.display import display \n",
        "uploader = DataUploader()\n",
        "uploader.display()"
      ],
      "id": "8b4e28c3"
    },
    {
      "cell_type": "markdown",
      "metadata": {},
      "source": [
        "Run the next cell **after** uploading the file"
      ],
      "id": "0e7035ef-159a-42ac-b365-d6395f3d6126"
    },
    {
      "cell_type": "code",
      "execution_count": 5,
      "metadata": {},
      "outputs": [],
      "source": [
        "df = uploader.get_dataframe()\n",
        "display(df)"
      ],
      "id": "392ed52a"
    },
    {
      "cell_type": "markdown",
      "metadata": {},
      "source": [
        "#### (b) SI units.\n",
        "\n",
        "Add two new columns with the concentrations given in M."
      ],
      "id": "de28323a-1b5f-4f34-a87c-6cbfc0006dc5"
    },
    {
      "cell_type": "code",
      "execution_count": 7,
      "metadata": {
        "exercise": true
      },
      "outputs": [],
      "source": [
        "# Make the new columns in this cell. \n",
        "\n",
        "\n",
        "display(df)"
      ],
      "id": "b6a0be30"
    },
    {
      "cell_type": "markdown",
      "metadata": {},
      "source": [
        "#### (c) Plotting\n",
        "\n",
        "For each reactant make a plot of\n",
        "\n",
        "-   $t$ vs. $[\\text{A}]$\n",
        "\n",
        "> **Note**\n",
        ">\n",
        "> We will be adding more elements to the plot in the following parts of\n",
        "> the exercise, therefore we will wrap the code for plotting in a\n",
        "> function such that it can be easily reused.\n",
        "\n",
        "The cell below defines the function for plotting, add the missing code\n",
        "in places with `...`."
      ],
      "id": "e6517d54-043d-4dbc-b127-bfc318fc465c"
    },
    {
      "cell_type": "code",
      "execution_count": 9,
      "metadata": {
        "exercise": null
      },
      "outputs": [],
      "source": [
        "def plot_dataframe(ax, df):\n",
        "    # Extract from dataframe\n",
        "    t = df['Time_(s)']\n",
        "    A1 = df['[A1]_(M)']\n",
        "    A2 = df['[A2]_(M)']\n",
        "\n",
        "    ax.plot(t, A1, 'o', label='[A1]')\n",
        "    ... # Your code here to plot A2\n",
        "\n",
        "    for ax in axes:\n",
        "        ax.set_xlabel('t [s]')\n",
        "        ax.legend()"
      ],
      "id": "a966d362"
    },
    {
      "cell_type": "markdown",
      "metadata": {},
      "source": [
        "Once we’ve written the plotting function we can make the plot as done in\n",
        "the cell below."
      ],
      "id": "e8098519-4d47-4330-ad26-5dd29640bd6c"
    },
    {
      "cell_type": "code",
      "execution_count": 11,
      "metadata": {
        "exercise": true
      },
      "outputs": [],
      "source": [
        "fig, ax = plt.subplots(1, 1, figsize=(6, 4))\n",
        "\n",
        "plot_dataframe(ax, df)"
      ],
      "id": "c0ea3ed5"
    },
    {
      "cell_type": "markdown",
      "metadata": {},
      "source": [
        "#### (d) Determining reaction orders\n",
        "\n",
        "Now we want to determine the reaction orders by making fits to the data\n",
        "under the assumption of different integrated rate laws.\n",
        "\n",
        "In the cell below finish the code to define functions for the integrated\n",
        "rate laws of zeroth, first and second order."
      ],
      "id": "46cab648-e3c3-4b5b-91cc-73f3c4d2074b"
    },
    {
      "cell_type": "code",
      "execution_count": 13,
      "metadata": {
        "exercise": true
      },
      "outputs": [],
      "source": [
        "def zeroth_order(t, k, A0):\n",
        "    result = ...\n",
        "    return result\n",
        "\n",
        "def first_order(t, k, A0):\n",
        "    result = ...\n",
        "    return result\n",
        "\n",
        "def second_order(t, k, A0):\n",
        "    result = ...\n",
        "    return result\n",
        "\n",
        "rate_laws = {0: zeroth_order, 1: first_order, 2:second_order}"
      ],
      "id": "ebf57612"
    },
    {
      "cell_type": "markdown",
      "metadata": {},
      "source": [
        "We can then use these to make fits, here it is helpful to define a small\n",
        "function to help us with that."
      ],
      "id": "c88c7f25-74dc-4bc5-9154-0bfb376c7051"
    },
    {
      "cell_type": "code",
      "execution_count": 15,
      "metadata": {},
      "outputs": [],
      "source": [
        "from scipy.optimize import curve_fit\n",
        "\n",
        "def make_fit(x_data, y_data, x_eval, A0, order):\n",
        "    # Don't worry about this line for now. \n",
        "    # It just picks the correct function for the given order and sets A0.\n",
        "    func = lambda t, k: rate_laws[order](t, k, A0)\n",
        "\n",
        "    # Make fit\n",
        "    popt, pcov = curve_fit(func, x_data, y_data)\n",
        "\n",
        "    # Evaluate fit\n",
        "    k = popt[0]\n",
        "    y_fit = func(x_eval, k)\n",
        "    return k, y_fit"
      ],
      "id": "4543a1df"
    },
    {
      "cell_type": "markdown",
      "metadata": {},
      "source": [
        "Next we will define the known constants and extract a few things from\n",
        "the `DataFrame`. In the cell below put the initial concentrations in M."
      ],
      "id": "2df7fec8-cc21-4437-ac02-3d03b7885318"
    },
    {
      "cell_type": "code",
      "execution_count": 16,
      "metadata": {
        "exercise": true
      },
      "outputs": [],
      "source": [
        "A1_0 = ... # Set the initial concentration [A1]_0\n",
        "A2_0 = ... # Set the initial concentration [A2]_0\n",
        "\n",
        "# Extract data\n",
        "t = df['Time_(s)']\n",
        "A1 = df['[A1]_(M)']\n",
        "A2 = df['[A2]_(M)']\n",
        "orders = [0, 1, 2]\n",
        "t_eval = np.linspace(0, t.max()*1.1)"
      ],
      "id": "4839f9e1"
    },
    {
      "cell_type": "markdown",
      "metadata": {},
      "source": [
        "Now we can make and plot the fits"
      ],
      "id": "dfecc616-8f53-4db4-ae11-e47d2317da69"
    },
    {
      "cell_type": "code",
      "execution_count": 18,
      "metadata": {
        "exercise": true
      },
      "outputs": [],
      "source": [
        "fig, axes = plt.subplots(1, 3, figsize=(8, 4), sharey=True, layout='constrained')\n",
        "\n",
        "axes[0].set_ylabel('Concentration (M)')\n",
        "\n",
        "for ax in axes:\n",
        "    plot_dataframe(ax, df)\n",
        "\n",
        "for ax, order in zip(axes, orders):\n",
        "    k1, y_fit = make_fit(t, A1, t_eval, A1_0, order)\n",
        "    ax.plot(t_eval, y_fit, color='C2', label=rf'k = {k1:.2e}')\n",
        "\n",
        "    k2, y_fit = make_fit(t, A2, t_eval, A2_0, order)\n",
        "    ax.plot(t_eval, y_fit, color='C3', label=rf'k = {k2:.2e}')\n",
        "    ax.legend()\n",
        "    ax.set_title(f'Reaction order: {order}')"
      ],
      "id": "8b080751"
    },
    {
      "cell_type": "markdown",
      "metadata": {},
      "source": [
        "Based on this plot;\n",
        "\n",
        "-   What do you believe is the reaction order for \\[A1\\]?\n",
        "-   What is the unit of the rate constant for \\[A1\\]?\n",
        "-   What do you believe is the reaction order for \\[A2\\]?\n",
        "-   What is the unit of the rate constant for \\[A2\\]?\n",
        "\n",
        "> **Note**\n",
        ">\n",
        "> The cell above used a `for`-loop. These are a powerful way of\n",
        "> performing the same operation with different inputs, you will learn\n",
        "> more about them later on.\n",
        "\n",
        "#### (e) Residuals\n",
        "\n",
        "By inspecting the plot we can make a qualitative judgement of the\n",
        "reaction orders. To get a more quantitative results we can look at the\n",
        "residuals, recall they are defined as\n",
        "\n",
        "$$\n",
        "r_i = y_i - f(x_i | \\theta)\n",
        "$$\n",
        "\n",
        "We can calculate these in much the same way we calculate the fits,\n",
        "except we don’t evaluate the fit at a new set of points but at the\n",
        "observations $x_i$."
      ],
      "id": "97e8fd1f-6a1f-4f8c-a7bd-17ecaafec25f"
    },
    {
      "cell_type": "code",
      "execution_count": 20,
      "metadata": {
        "exercise": true
      },
      "outputs": [],
      "source": [
        "def calculate_residuals(x_data, y_data, A0, order):\n",
        "    # Don't worry about this line for now. \n",
        "    # It just picks the correct function for the given order and sets A0.\n",
        "    func = lambda t, k: rate_laws[order](t, k, A0)\n",
        "\n",
        "    # Make fit\n",
        "    popt, pcov = curve_fit(func, x_data, y_data)\n",
        "\n",
        "\n",
        "    # Evaluate fit\n",
        "    k = popt[0]\n",
        "    y_fit = ... # Calculate the fit at the x_data using `func`\n",
        "    residuals = ... # Calculate the residuals.\n",
        "    return residuals"
      ],
      "id": "2e8f5e88"
    },
    {
      "cell_type": "markdown",
      "metadata": {},
      "source": [
        "We can then plot the residuals, here using a histogram where the x-axis\n",
        "is the value of the residual and the bars indicate the number of\n",
        "residuals within that range of values."
      ],
      "id": "1e867079-6633-4c50-a422-3872028d037c"
    },
    {
      "cell_type": "code",
      "execution_count": 22,
      "metadata": {
        "exercise": true
      },
      "outputs": [],
      "source": [
        "fig, axes = plt.subplots(2, 3, figsize=(8, 4), sharey=True, layout='constrained', sharex=True)\n",
        "\n",
        "axes[0, 0].set_ylabel('Count')\n",
        "axes[1, 0].set_ylabel('Count')\n",
        "\n",
        "for ax_col, order in zip(axes.T, orders):\n",
        "\n",
        "    residuals = calculate_residuals(t, A1, A1_0, order)\n",
        "    ax_col[0].hist(residuals, alpha=0.75, color='C0')\n",
        "\n",
        "    residuals = calculate_residuals(t, A2, A2_0, order)\n",
        "    ax_col[1].hist(residuals, alpha=0.75, color='C1')\n",
        "\n",
        "    ax_col[1].set_xlabel('Residual')"
      ],
      "id": "a09b8e44"
    },
    {
      "cell_type": "markdown",
      "metadata": {},
      "source": [
        "Does this support your conclusions about the reaction order from (d)?\n",
        "\n",
        "------------------------------------------------------------------------\n",
        "\n",
        "## Analysis of a reversible reaction"
      ],
      "id": "53890548-0882-4b58-a4c5-a2526533ad1d"
    },
    {
      "cell_type": "code",
      "execution_count": 24,
      "metadata": {},
      "outputs": [],
      "source": [
        "import matplotlib.pyplot as plt\n",
        "import numpy as np"
      ],
      "id": "47093add"
    },
    {
      "cell_type": "markdown",
      "metadata": {},
      "source": [
        "Consider the following reaction\n",
        "\n",
        "$$\n",
        "A \\underset{k_{2}}{\\stackrel{k_1}{\\rightleftharpoons}} B\n",
        "$$\n",
        "\n",
        "The magnitudes of the rate constants are $k_1 = 10 \\ \\mathrm{s}^{-1}$\n",
        "and $k_2 = 1 \\ \\mathrm{s}^{-1}$.\n",
        "\n",
        "#### (a) Reaction order\n",
        "\n",
        "What is the reaction order in each direction?\n",
        "\n",
        "#### (b) Derive equilibrium constant\n",
        "\n",
        "Show mathematically how the equilibrium constant $K_{\\mathrm{eq}}$ is\n",
        "given by the ratio between the two rate constants.\n",
        "\n",
        "#### (c) Calculate $K_{\\mathrm{eq}}$"
      ],
      "id": "1c498b50-8cc7-43a7-98da-62b14b1d037a"
    },
    {
      "cell_type": "code",
      "execution_count": 25,
      "metadata": {
        "exercise": true
      },
      "outputs": [],
      "source": [
        "k1 = ...\n",
        "k2 = ...\n",
        "K_eq = ...\n",
        "print(f\"{K_eq = }\")"
      ],
      "id": "c2a34553"
    },
    {
      "cell_type": "markdown",
      "metadata": {},
      "source": [
        "#### (d) Equilibrium concentrations\n",
        "\n",
        "Calculate the concentrations of A and B at equilibrium,\n",
        "$[\\mathrm{A}]_{\\mathrm{eq}}$ and $[\\mathrm{B}]_\\mathrm{eq}$, if\n",
        "$[\\mathrm{A}]_0 = 10^{-3} \\text{M}$"
      ],
      "id": "09086219-a9b8-4a04-9f13-6612654900bf"
    },
    {
      "cell_type": "code",
      "execution_count": 27,
      "metadata": {
        "exercise": true
      },
      "outputs": [],
      "source": [
        "A0 = ...\n",
        "A_eq = ...\n",
        "B_eq = ...\n",
        "print(f\"{A_eq = }\")\n",
        "print(f\"{B_eq = }\")"
      ],
      "id": "42696a83"
    },
    {
      "cell_type": "markdown",
      "metadata": {},
      "source": [
        "#### (e) Rates at equilibrium\n",
        "\n",
        "Calculate the forward and reverse rates at equilibrium at this\n",
        "concentration."
      ],
      "id": "7c4519e2-e246-4932-957d-cfb65432f660"
    },
    {
      "cell_type": "code",
      "execution_count": 29,
      "metadata": {
        "exercise": true
      },
      "outputs": [],
      "source": [
        "r_fwd = A_eq * k1\n",
        "r_bwd = B_eq * k2\n",
        "print(f\"{r_fwd = :.5f}\")\n",
        "print(f\"{r_bwd = :.5f}\")"
      ],
      "id": "85e7ae10"
    },
    {
      "cell_type": "markdown",
      "metadata": {},
      "source": [
        "#### (f) Initial rate of formation\n",
        "\n",
        "If $[\\mathrm{A}]_0 = 10^{-3} \\text{M}$ and\n",
        "$[\\mathrm{B}]_0 = 0 \\text{M}$, calculate the initial rate of formation\n",
        "of B."
      ],
      "id": "0ba6d5df-f8c2-4707-9bdb-1ecc7f3de5b6"
    },
    {
      "cell_type": "code",
      "execution_count": 31,
      "metadata": {
        "exercise": true
      },
      "outputs": [
        {
          "output_type": "stream",
          "name": "stdout",
          "text": [
            "r_fwd = 0.01000"
          ]
        }
      ],
      "source": [
        "r_fwd = A0 * k1\n",
        "print(f\"{r_fwd = :.5f}\")"
      ],
      "id": "79fcf78a"
    },
    {
      "cell_type": "markdown",
      "metadata": {},
      "source": [
        "#### (g) Time-dependence\n",
        "\n",
        "![](https://raw.githubusercontent.com/au-mbg/fysisk-biokemi/refs/heads/main/lessons/figures/week_48/reversible_reaction.png)\n",
        "\n",
        "We now want to calculate and plot the time-dependent concentrations\n",
        "using the above equations.\n",
        "\n",
        "In the cell below finish the implementation of the function `A_time`\n",
        "that calculates the concentration \\[A\\] as a function of time."
      ],
      "id": "78c34115-8fdf-4cd1-a25d-0ff02d66f0d7"
    },
    {
      "cell_type": "code",
      "execution_count": 33,
      "metadata": {
        "exercise": true
      },
      "outputs": [],
      "source": [
        "def A_time(t, A0, k_f, k_b):\n",
        "    return ..."
      ],
      "id": "21611a8a"
    },
    {
      "cell_type": "markdown",
      "metadata": {},
      "source": [
        "> **Caution**\n",
        ">\n",
        "> Be careful to correctly set parantheses when implementing this\n",
        "> function!\n",
        "\n",
        "And then we can use that function to calculate and plot the\n",
        "concentrations as a function of time."
      ],
      "id": "bb6ab91c-e953-40ba-ae71-93052d762762"
    },
    {
      "cell_type": "code",
      "execution_count": 35,
      "metadata": {
        "exercise": true
      },
      "outputs": [],
      "source": [
        "fig, ax = plt.subplots()\n",
        "\n",
        "t_max = ... # Set the time in seconds\n",
        "t = np.linspace(0, t_max, 100)\n",
        "\n",
        "At = ... # Use your function to calculate [A](t)\n",
        "Bt = ... # Calculate [B](t)\n",
        "\n",
        "ax.plot(t, At, label='[A](t)')\n",
        "ax.plot(t, Bt, label='[B](t)')\n",
        "ax.set_ylabel('Concentrations (M)')\n",
        "ax.set_xlabel('Time (s)')\n",
        "ax.legend()"
      ],
      "id": "01224075"
    },
    {
      "cell_type": "markdown",
      "metadata": {},
      "source": [
        "------------------------------------------------------------------------\n",
        "\n",
        "## Determination of reaction order and activation energy"
      ],
      "id": "2b3472e2-6ad0-43a7-a5e3-acde2765cba8"
    },
    {
      "cell_type": "code",
      "execution_count": 37,
      "metadata": {},
      "outputs": [],
      "source": [
        "import numpy as np  \n",
        "import matplotlib.pyplot as plt"
      ],
      "id": "4a3c276d"
    },
    {
      "cell_type": "markdown",
      "metadata": {},
      "source": [
        "The irreversible isomerization of compound A to compound B results in a\n",
        "decreasing absorbance. The isomerization was followed in a time course\n",
        "at two different temperatures (T1 = 25 °C and T2 = 40 °C). The\n",
        "absorbance ($\\epsilon$ = 16700 $\\mathrm{cm}^{-1} \\mathrm{M}^{-1}$) was\n",
        "used to calculate the concentration of compound A in a spectrophotometer\n",
        "with a pathlength of 1 cm. The obtained dataset is given in the file\n",
        "`deter-reacti-order-activ.csv`.\n",
        "\n",
        "#### (a) Temperatures\n",
        "\n",
        "What are the two temperatures in Kelvin? Set them as varilabes in the\n",
        "cell below."
      ],
      "id": "5f998fbf-49af-491c-ae08-d3d01d679812"
    },
    {
      "cell_type": "code",
      "execution_count": 38,
      "metadata": {
        "exercise": true
      },
      "outputs": [],
      "source": [
        "T1 = 25 + 273.15\n",
        "T2 = 40 + 273.15"
      ],
      "id": "b8efee07"
    },
    {
      "cell_type": "markdown",
      "metadata": {},
      "source": [
        "#### (b) Load the dataset\n",
        "\n",
        "Load the dataset using the widget below"
      ],
      "id": "9067d5d8-38c9-4d9c-a50d-5e19f25c2f05"
    },
    {
      "cell_type": "code",
      "execution_count": 40,
      "metadata": {},
      "outputs": [],
      "source": [
        "from fysisk_biokemi.widgets import DataUploader\n",
        "from IPython.display import display \n",
        "uploader = DataUploader()\n",
        "uploader.display()"
      ],
      "id": "11d728da"
    },
    {
      "cell_type": "markdown",
      "metadata": {},
      "source": [
        "Run the next cell **after** uploading the file"
      ],
      "id": "48f846fc-28ca-42c0-b91e-378e9457322e"
    },
    {
      "cell_type": "code",
      "execution_count": 41,
      "metadata": {},
      "outputs": [],
      "source": [
        "df = uploader.get_dataframe()\n",
        "display(df)"
      ],
      "id": "9df6a84d"
    },
    {
      "cell_type": "markdown",
      "metadata": {},
      "source": [
        "#### (c) SI Units\n",
        "\n",
        "Calculate the concentration of A at each timepoint in SI units, by\n",
        "adding new columns to the `DataFrame`."
      ],
      "id": "1f7f1c5b-7da6-4274-bb6e-4d72974f6338"
    },
    {
      "cell_type": "code",
      "execution_count": 43,
      "metadata": {
        "exercise": true
      },
      "outputs": [],
      "source": [
        "extinction_coeff = ...\n",
        "L = 1 # Path length\n",
        "\n",
        "df['[A]_(M)_25C'] = ... # For 25 C\n",
        "... # For 40 C\n",
        "display(df)"
      ],
      "id": "ace5abe6"
    },
    {
      "cell_type": "markdown",
      "metadata": {},
      "source": [
        "#### (d) Plot the data\n",
        "\n",
        "We will be resuing the plot, so we will put the code for it in a\n",
        "function."
      ],
      "id": "1c6c021a-95b5-428a-963c-a8e0cd4e2dbb"
    },
    {
      "cell_type": "code",
      "execution_count": 45,
      "metadata": {
        "exercise": true
      },
      "outputs": [],
      "source": [
        "def plot_dataframe(ax, df):\n",
        "    # Extract from dataframe\n",
        "    t = ...\n",
        "    A_25 = ...\n",
        "    A_40 = ...\n",
        "\n",
        "    # First subfigure: t vs [A]\n",
        "    ax.plot(..., ..., 'o', label='[A]_25C')\n",
        "    ... # Add the code to plot the 40C data.\n",
        "    ax.set_xlabel('t (s)')\n",
        "    ax.set_ylabel('[A] (M)')\n",
        "    ax.legend()"
      ],
      "id": "86523633"
    },
    {
      "cell_type": "markdown",
      "metadata": {},
      "source": [
        "You can run this next cell to see your plot and adjust as neccesarry."
      ],
      "id": "a41c24c8-e0a9-4156-98ea-a6bf8e15580e"
    },
    {
      "cell_type": "code",
      "execution_count": 47,
      "metadata": {},
      "outputs": [
        {
          "output_type": "display_data",
          "metadata": {},
          "data": {
            "image/png": "[encoded data removed]"
          }
        }
      ],
      "source": [
        "fig, ax = plt.subplots()\n",
        "plot_dataframe(ax, df)"
      ],
      "id": "d052203f"
    },
    {
      "cell_type": "markdown",
      "metadata": {},
      "source": [
        "#### (e) Determine reaction order\n",
        "\n",
        "In the exercise on “Determination of reaction orders” we saw how we can\n",
        "fit to the expressions for the integrated rate laws to determine the\n",
        "reaction order.\n",
        "\n",
        "In that exercise we wrote the functions in the next two cells, we will\n",
        "reuse them here"
      ],
      "id": "3f1ca400-2126-4421-a433-b03aef827fe1"
    },
    {
      "cell_type": "code",
      "execution_count": 48,
      "metadata": {},
      "outputs": [],
      "source": [
        "def zeroth_order(t, k, A0):\n",
        "    return A0 - k*t\n",
        "\n",
        "def first_order(t, k, A0):\n",
        "    return A0 * np.exp(-k*t)\n",
        "\n",
        "def second_order(t, k, A0):\n",
        "    return A0 / (1 + 2*k*t*A0)\n",
        "\n",
        "rate_laws = {0: zeroth_order, 1: first_order, 2:second_order}"
      ],
      "id": "121a4002"
    },
    {
      "cell_type": "code",
      "execution_count": 49,
      "metadata": {},
      "outputs": [],
      "source": [
        "from scipy.optimize import curve_fit\n",
        "\n",
        "def make_fit(x_data, y_data, x_eval, A0, order):\n",
        "    func = lambda t, k: rate_laws[order](t, k, A0)\n",
        "    popt, pcov = curve_fit(func, x_data, y_data)\n",
        "\n",
        "    # Evaluate fit at new points\n",
        "    k = popt[0]\n",
        "    y_fit_new = func(x_eval, k)\n",
        "    \n",
        "    # Evaluate fit at data-points to calculate residuals\n",
        "    y_fit_data = func(x_data, k)\n",
        "    residuals = y_data - y_fit_data\n",
        "\n",
        "    return k, y_fit_new, residuals"
      ],
      "id": "35c9e2a8"
    },
    {
      "cell_type": "markdown",
      "metadata": {},
      "source": [
        "Now we need to set a few things before we can do the fitting"
      ],
      "id": "1ea03be3-50b7-47a4-8117-9c62c1714412"
    },
    {
      "cell_type": "code",
      "execution_count": 50,
      "metadata": {
        "exercise": true
      },
      "outputs": [],
      "source": [
        "t = ... # Extract the time from the dataframe\n",
        "A_25 = ... # Extract the concentration at 25C\n",
        "A_40 = ... # Extract the concentration at 40C\n",
        "A0_25 = ... # Set the initial concentration at 25C\n",
        "A0_40 = ... # Set the initial concentration at 40C"
      ],
      "id": "ac4941eb"
    },
    {
      "cell_type": "markdown",
      "metadata": {},
      "source": [
        "> **Tip**\n",
        ">\n",
        "> You’ve already calculated the initial concentration, it is contained\n",
        "> in the `DataFrame`.\n",
        "\n",
        "Now we can use our plotting and fitting functions to analyze the data"
      ],
      "id": "68498189-2db9-41c8-90e2-92bd28ac8360"
    },
    {
      "cell_type": "code",
      "execution_count": 52,
      "metadata": {
        "exercise": true
      },
      "outputs": [],
      "source": [
        "fig, axes = plt.subplots(2, 3, figsize=(8, 6), sharey='row', layout='constrained')\n",
        "\n",
        "for ax in axes.T:\n",
        "    plot_dataframe(ax[1], df)\n",
        "\n",
        "orders = [0, 1, 2]\n",
        "t_eval = np.linspace(0, t.max()*1.05)\n",
        "\n",
        "for ax_col, order in zip(axes.T, orders):\n",
        "    # Calculate the fits\n",
        "    k25, y_fit_25, residuals_25 = make_fit(t, A_25, t_eval, A0_25, order)\n",
        "    k40, y_fit_40, residuals_40 = make_fit(t, A_40, t_eval, A0_40, order)\n",
        "\n",
        "    # Plot the fits\n",
        "    ax = ax_col[1]\n",
        "    ax.plot(t_eval, y_fit_25, color='k')\n",
        "    ax.plot(t_eval, y_fit_40, color='k')\n",
        "    ax.text(0.05, 0.15, f'k (25 C) = {k25:.4f}', transform=ax.transAxes)\n",
        "    ax.text(0.05, 0.05, f'k (40 C) = {k40:.4f}', transform=ax.transAxes)\n",
        "\n",
        "    ax.legend()\n",
        "\n",
        "    # Plot the residuals\n",
        "    ax = ax_col[0]\n",
        "    ax.hist(residuals_25, facecolor='C0', alpha=0.75, edgecolor='k', label='25 C')\n",
        "    ax.hist(residuals_40, facecolor='C1', alpha=0.75, edgecolor='k', label='40 C')\n",
        "    ax.set_xlabel('Residual')    \n",
        "    ax.set_ylabel('Count')\n",
        "    ax.legend()\n",
        "\n",
        "    ax.set_title(f'Reaction order: {order}')"
      ],
      "id": "d10cb739"
    },
    {
      "cell_type": "markdown",
      "metadata": {},
      "source": [
        "Based on these plots\n",
        "\n",
        "-   What do you think the reaction order of the reaction is?\n",
        "-   What’s the rate constant?\n",
        "-   What the unit of the rate constant?\n",
        "\n",
        "#### (f) Half-life\n",
        "\n",
        "What is the half-life of the reaction at these temperatures and is it\n",
        "constant through-out the reaction?\n",
        "\n",
        "#### (g) Activation energy\n",
        "\n",
        "With the assumption that the Arrhenius constant A and the activation\n",
        "energy are temperature independent in the interval measured, use the\n",
        "Arrhenius equation to calculate the activation energy of the\n",
        "isomerization of the compound A.\n",
        "\n",
        "Perform the calculation in the cell below."
      ],
      "id": "d12237cd-cf0d-49d1-8e6a-c694db3f6f52"
    },
    {
      "cell_type": "code",
      "execution_count": 54,
      "metadata": {},
      "outputs": [],
      "source": [
        "..."
      ],
      "id": "b3657424"
    },
    {
      "cell_type": "markdown",
      "metadata": {},
      "source": [
        "------------------------------------------------------------------------\n",
        "\n",
        "## The pH effect on an active site histidine residue\n",
        "\n",
        "Assume that a compound R can react with the unprotonated form of\n",
        "Histidine, $\\text{His}$, to form a covalent reaction product,\n",
        "$\\text{P}$: $$\n",
        "\\text{His} + \\text{R} \\rightarrow \\text{P}\n",
        "$$\n",
        "\n",
        "The protonated form of Histidine, $\\text{HisH}^+$, is in equilibrium\n",
        "with $\\text{His}$:\n",
        "\n",
        "$$\n",
        "\\text{HisH}^+ \\rightleftharpoons \\text{His} + \\text{H}^+\n",
        "$$\n",
        "\n",
        "The pKa value for this acid-base equilibrium is 6.0. Further assume that\n",
        "the total concentration of Histidine, is\n",
        "\n",
        "$$\n",
        "[\\text{HisH}^+] + [\\text{His}] = 10^{-3} \\ \\text{M}\n",
        "$$\n",
        "\n",
        "#### (a) Percentage unprotonated\n",
        "\n",
        "Using the Henderson-Hasselbach equation, calculate the percentage of\n",
        "unprotonated Histidine, $\\text{His}$, at pH 6.0."
      ],
      "id": "abcf289c-106b-4976-9d58-505c37ec71c8"
    },
    {
      "cell_type": "code",
      "execution_count": 55,
      "metadata": {
        "exercise": true
      },
      "outputs": [],
      "source": [
        "pKa = ...\n",
        "pH = ...\n",
        "\n",
        "... # Possible intermediate calculation, otherwise delete this line.\n",
        "\n",
        "percentage_unprotonated = ...\n",
        "print(f\"{percentage_unprotonated = } %\")"
      ],
      "id": "018962ec"
    },
    {
      "cell_type": "markdown",
      "metadata": {},
      "source": [
        "#### (b) Concentration\n",
        "\n",
        "Calculate $[\\text{His}]$ at pH 6"
      ],
      "id": "09898132-7f33-4512-856e-bafbc3ca6f5c"
    },
    {
      "cell_type": "code",
      "execution_count": 57,
      "metadata": {
        "exercise": true
      },
      "outputs": [],
      "source": [
        "total_conc = ...\n",
        "his_conc = ...\n",
        "print(f\"{his_conc = } M\")"
      ],
      "id": "91fab333"
    },
    {
      "cell_type": "markdown",
      "metadata": {},
      "source": [
        "#### (c) Reaction order\n",
        "\n",
        "The reaction equation for the reaction between $\\text{His}$ and\n",
        "$\\text{R}$ is\n",
        "\n",
        "$$\n",
        "v = - \\frac{d[\\text{His}]}{dt} = k \\cdot [\\text{His}] \\cdot [\\text{R}]\n",
        "$$\n",
        "\n",
        "What’s the reaction order?\n",
        "\n",
        "#### (d) High concentrations\n",
        "\n",
        "If $[\\text{R}]$ is much higher than $[\\text{His}]$, what can then be\n",
        "concluded regarding the order of the reaction?\n",
        "\n",
        "#### (e) New rate constant\n",
        "\n",
        "Show how a new rate constant, $k'$, can be defined in these conditions.\n",
        "How does $k'$ depend on $\\text{R}$?\n",
        "\n",
        "#### (f) SI Units\n",
        "\n",
        "At pH 6.0 the reaction rate $v = 1 \\ \\text{mM}\\cdot \\text{s}^{-1}$ and\n",
        "constant $[\\text{R}] = 0.2 \\ \\text{M}$\n",
        "\n",
        "Convert the reaction rate to SI-units given in\n",
        "$\\text{M}\\cdot \\text{s}^{-1}$."
      ],
      "id": "8b3d8c7a-4182-49e6-b5be-ec5da4dcb077"
    },
    {
      "cell_type": "code",
      "execution_count": 59,
      "metadata": {},
      "outputs": [],
      "source": [
        "..."
      ],
      "id": "e41513a3"
    },
    {
      "cell_type": "markdown",
      "metadata": {},
      "source": [
        "#### (g) Calculate the rate constant\n",
        "\n",
        "Use the concentration of $[\\text{His}]$ at pH 6 calculated in question\n",
        "(b) and calculate the rate constant k."
      ],
      "id": "c5106302-b7ca-4f63-80b7-84c620ec3b74"
    },
    {
      "cell_type": "code",
      "execution_count": 60,
      "metadata": {},
      "outputs": [],
      "source": [
        "..."
      ],
      "id": "1459ed07"
    },
    {
      "cell_type": "markdown",
      "metadata": {},
      "source": [
        "------------------------------------------------------------------------\n",
        "\n",
        "## Design of an enzyme kinetics experiment (Unfinished)"
      ],
      "id": "b11976ae-bdb0-4077-94a3-364d69a0b615"
    },
    {
      "cell_type": "code",
      "execution_count": 61,
      "metadata": {},
      "outputs": [],
      "source": [
        "import matplotlib.pyplot as plt"
      ],
      "id": "69c8b5cd"
    },
    {
      "cell_type": "markdown",
      "metadata": {},
      "source": [
        "In the Excel document tø12_week49_data you will find a data set in which\n",
        "an enzyme catalyzed formation of product P, with varying start\n",
        "concentration of substrates, \\[S\\], was followed over time. The product\n",
        "absorbs light at a specific wavelength with an extinction coefficient of\n",
        "0.068 $\\mu\\text{M}^{-1}\\cdot \\text{cm}^{-1}$, and the absorbance was\n",
        "measured in a light path of 1 cm throughout the time course.\n",
        "\n",
        "You can load the dataset using the cells below;"
      ],
      "id": "7d9b3998-e529-4e47-9761-9fad562b5c46"
    },
    {
      "cell_type": "code",
      "execution_count": 62,
      "metadata": {},
      "outputs": [],
      "source": [
        "from fysisk_biokemi.widgets import DataUploader\n",
        "from IPython.display import display \n",
        "uploader = DataUploader()\n",
        "uploader.display()"
      ],
      "id": "918b1988"
    },
    {
      "cell_type": "markdown",
      "metadata": {},
      "source": [
        "Run the next cell **after** uploading the file"
      ],
      "id": "675de0f9-f3ef-4e5d-80e8-76eb3cbc83da"
    },
    {
      "cell_type": "code",
      "execution_count": 63,
      "metadata": {},
      "outputs": [],
      "source": [
        "df = uploader.get_dataframe()\n",
        "display(df)"
      ],
      "id": "0f55c57e"
    },
    {
      "cell_type": "markdown",
      "metadata": {},
      "source": [
        "The headers, like `Abs_S1` refer to the substrate concentration so `S1`\n",
        "means a substrate concentration of 1 $\\mu\\text{M}$.\n",
        "\n",
        "#### (a)\n",
        "\n",
        "Convert the extinction coefficient to units given in\n",
        "$\\text{M}^{-1}\\cdot \\text{cm}^{-1}$ and assign it to a variable. Also\n",
        "assign the light path length to a variable."
      ],
      "id": "186f5b4f-f56e-4ee6-b37c-a4946d8d0da3"
    },
    {
      "cell_type": "code",
      "execution_count": 65,
      "metadata": {
        "exercise": true
      },
      "outputs": [],
      "source": [
        "...\n",
        "..."
      ],
      "id": "7375747a"
    },
    {
      "cell_type": "markdown",
      "metadata": {},
      "source": [
        "#### (b) Calculate concentrations\n",
        "\n",
        "Using Lambert-Beers law, calculate the concentration of product, \\[P\\],\n",
        "in M for each time series.\n",
        "\n",
        "> **Loops**\n",
        ">\n",
        "> Loops are one of the most useful parts of programming, loops allows us\n",
        "> to repeat an operation on many different elements. This allows us to\n",
        "> not have to repeat code many times, making it simpler to understand\n",
        "> and less prone to error - and at the same time more flexible.\n",
        ">\n",
        "> A common type of loop in Python is the `for` loop, which does\n",
        "> something `for` every item it is told to consider. The syntax of a\n",
        "> `for`-loop is like so:\n",
        ">\n",
        "> ``` python\n",
        "> total = 0\n",
        "> for count in [1, 2, 3, 4, 5]:\n",
        ">     print(f\"I have {count} apples.\")\n",
        "> ```\n",
        ">\n",
        "> Which will print\n",
        ">\n",
        ">     I have 1 apples\n",
        ">     I have 2 apples\n",
        ">     I have 3 apples\n",
        ">     I have 4 apples\n",
        ">     I have 5 apples\n",
        ">\n",
        "> So the `for`-loop did the operation of printing a string for each\n",
        "> value of `count`.\n",
        ">\n",
        "> When working with a `DataFrame` like in this exercise, we may for\n",
        "> example want to do something `for` each column, one way of doing that\n",
        "> is to loop over the column names, say we want we have a `DataFrame`\n",
        "> `df` with columns named `\"col1\", \"col2\", \"col3\"` we can loop over that\n",
        "> as\n",
        ">\n",
        "> ``` python\n",
        "> for name in ['col1', 'col2', 'col3']\n",
        ">     df[name] = ... # Some operation\n",
        "> ```\n",
        "\n",
        "The cell below setups a loop calculate the concentrations for each of\n",
        "these current columns in the dataframe."
      ],
      "id": "af3ae0b5-ae8b-4e12-856b-b9853db21ad8"
    },
    {
      "cell_type": "code",
      "execution_count": 67,
      "metadata": {
        "exercise": true
      },
      "outputs": [],
      "source": [
        "substrate_concentrations = [1, 3, 5, 7, 9, 11, 13, 15]\n",
        "for s in substrate_concentrations:\n",
        "    abs_col_name = f'Abs_S{s}' # This creates a string where the value of 's' is put instead of \"{s}\"\".\n",
        "    conc_col_name = f'C_S{s}' # Same type string creation \n",
        "    df[conc_col_name] = ... # Your code here\n",
        "\n",
        "    # We can print in each iteration of the loop to see what's going on.\n",
        "    print(s, abs_col_name, conc_col_name) "
      ],
      "id": "1de3cbb3"
    },
    {
      "cell_type": "markdown",
      "metadata": {},
      "source": [
        "And we can check that the columns we expect have been added to the\n",
        "`DataFrame`."
      ],
      "id": "d324e85a-2ec5-40fb-bd44-28dc9350a576"
    },
    {
      "cell_type": "code",
      "execution_count": 69,
      "metadata": {
        "exercise": true
      },
      "outputs": [],
      "source": [
        "display(df)"
      ],
      "id": "e73e1441"
    },
    {
      "cell_type": "markdown",
      "metadata": {},
      "source": [
        "#### (c) Plot\n",
        "\n",
        "Plot \\[P\\] as a function of time for all experiments in one single\n",
        "graph.\n",
        "\n",
        "Here it is again very useful to use a `for`-loop"
      ],
      "id": "69be9165-6a55-478a-99f3-9fcd85eb838e"
    },
    {
      "cell_type": "code",
      "execution_count": 71,
      "metadata": {},
      "outputs": [
        {
          "output_type": "display_data",
          "metadata": {},
          "data": {
            "image/png": "[encoded data removed]"
          }
        }
      ],
      "source": [
        "fig, ax = plt.subplots(figsize=(7, 4))\n",
        "\n",
        "x_axis = df['time_(s)']\n",
        "substrate_concentrations = [1, 3, 5, 7, 9, 11, 13, 15]\n",
        "for s in substrate_concentrations:\n",
        "    conc_col_name = f'C_S{s}'\n",
        "    y_axis = df[conc_col_name]\n",
        "\n",
        "    ax.plot(x_axis, y_axis, label=conc_col_name)\n",
        "\n",
        "ax.legend()    "
      ],
      "id": "417061f6"
    },
    {
      "cell_type": "markdown",
      "metadata": {},
      "source": [
        "#### (d)\n",
        "\n",
        "How could you use Excel to determine $V_0$ for each concentration of\n",
        "$S$? Create a table of $V_0$ vs $[S]$\n",
        "\n",
        "#### (e)\n",
        "\n",
        "Why is it important to use $V_0$ rather than $V$ at a later time point\n",
        "when creating the Michaelis-Menten plot?\n",
        "\n",
        "#### (f)\n",
        "\n",
        "Plot $V_0$ against substrate concentration and estimate $k_{cat}$ and\n",
        "$K_M$ visually (remember units)\n",
        "\n",
        "------------------------------------------------------------------------\n",
        "\n",
        "## Analysis of a data set obeying Michaelis-Menten kinetics (Unfinished)"
      ],
      "id": "cf9d0940-f305-4d88-b371-ba3652c1e530"
    },
    {
      "cell_type": "code",
      "execution_count": 72,
      "metadata": {},
      "outputs": [],
      "source": [
        "import pandas as pd\n",
        "import numpy as np\n",
        "import matplotlib.pyplot as plt\n",
        "from scipy.optimize import curve_fit\n",
        "pd.set_option('display.max_rows', 6)"
      ],
      "id": "89fd41cf"
    },
    {
      "cell_type": "markdown",
      "metadata": {},
      "source": [
        "The kinetics for an enzyme were investigated using the absorbance of the\n",
        "product to calculate the initial velocities for a range of different\n",
        "initial concentrations of the substrate. The data given in the dataset\n",
        "`analys-data-set-obeyin.xlsx` was obtained. Use these data to answer the\n",
        "following questions."
      ],
      "id": "adb2e1d5-7117-4ea4-a75f-3a6fcd14d281"
    },
    {
      "cell_type": "code",
      "execution_count": 73,
      "metadata": {},
      "outputs": [],
      "source": [
        "from fysisk_biokemi.widgets import DataUploader\n",
        "from IPython.display import display \n",
        "uploader = DataUploader()\n",
        "uploader.display()"
      ],
      "id": "b2a28679"
    },
    {
      "cell_type": "markdown",
      "metadata": {},
      "source": [
        "Run the next cell **after** uploading the file"
      ],
      "id": "e4a68bf6-a6c1-4395-9ef8-ed7b03f4bc25"
    },
    {
      "cell_type": "code",
      "execution_count": 74,
      "metadata": {},
      "outputs": [],
      "source": [
        "df = uploader.get_dataframe()\n",
        "display(df)"
      ],
      "id": "37cb0f2a"
    },
    {
      "cell_type": "markdown",
      "metadata": {},
      "source": [
        "#### (a) SI Units\n",
        "\n",
        "Convert the concentrations of substrate and the velocities to the SI\n",
        "units $\\text{M}$ and $\\text{M}\\cdot\\text{s}^{-1}$, respectively."
      ],
      "id": "b72ce94b-f65d-4f8a-b2df-852607a2f168"
    },
    {
      "cell_type": "code",
      "execution_count": 76,
      "metadata": {
        "exercise": true
      },
      "outputs": [],
      "source": [
        "...\n",
        "...\n",
        "display(df)"
      ],
      "id": "de93b59d"
    },
    {
      "cell_type": "markdown",
      "metadata": {},
      "source": [
        "#### (b) Plot & estimate\n",
        "\n",
        "Plot the initial velocities, $V_0$, as a function of substrate\n",
        "concentrations, $[S]$. Estimate $K_M$ and $V_\\mathrm{max}$ from this\n",
        "plot."
      ],
      "id": "832147ad-bee2-4c0a-bea3-8dff87c32abb"
    },
    {
      "cell_type": "code",
      "execution_count": 78,
      "metadata": {
        "exercise": true
      },
      "outputs": [],
      "source": [
        "fig, ax = plt.subplots()\n",
        "\n",
        "... # Your code here. \n",
        "\n",
        "# Some settings to make the plot nicer..\n",
        "ax.set_xlabel('[S] (M)')\n",
        "ax.set_ylabel('$V_0$ (M/s)')\n",
        "ax.grid('on')\n",
        "ax.set_ylim(0, df['V0_(M/s)'].max()*1.2)"
      ],
      "id": "feb28f9e"
    },
    {
      "cell_type": "markdown",
      "metadata": {},
      "source": [
        "#### (c) Fit\n",
        "\n",
        "Now we want to fit using the Michaelis-Menten equation, as per usual\n",
        "when the task is fitting we have to define the function we are fitting\n",
        "with"
      ],
      "id": "93292065-58ec-4c10-a4d3-7254d439d1ae"
    },
    {
      "cell_type": "code",
      "execution_count": 80,
      "metadata": {
        "exercise": true
      },
      "outputs": [],
      "source": [
        "def michaelis_menten(S, Vmax, Km):\n",
        "    return ... # Replace ..."
      ],
      "id": "2f7b5b51"
    },
    {
      "cell_type": "markdown",
      "metadata": {},
      "source": [
        "> **Caution**\n",
        ">\n",
        "> This is one of those places were parentheses are crucial.\n",
        "\n",
        "And then we can follow our usual procedure to make the fit"
      ],
      "id": "4cd1de31-c510-4f3e-80ea-2f55b5dd2607"
    },
    {
      "cell_type": "code",
      "execution_count": 82,
      "metadata": {
        "exercise": true
      },
      "outputs": [],
      "source": [
        "x_data = ...\n",
        "y_data = ...\n",
        "\n",
        "popt, pcov = ...\n",
        "Vmax, Km = popt\n",
        "\n",
        "print(f\"{Vmax = :03f}\")\n",
        "print(f\"{Km = :03f}\")"
      ],
      "id": "2e9a9e41"
    },
    {
      "cell_type": "markdown",
      "metadata": {},
      "source": [
        "How do these values compare to your estimate?\n",
        "\n",
        "#### (d) Enzyme concentration\n",
        "\n",
        "The $k_{cat}$ of the enzyme was determined to be\n",
        "$20000 \\ \\text{s}^{-1}$. Calculate, in the cell below, the concentration\n",
        "of the enzyme used in the assay."
      ],
      "id": "07659660-995f-4447-8dd5-198007e2a53c"
    },
    {
      "cell_type": "code",
      "execution_count": 84,
      "metadata": {
        "exercise": true
      },
      "outputs": [],
      "source": [
        "kcat = ...\n",
        "... # Calculate the enzyme_concentration\n",
        "print(...) # Print the concentration."
      ],
      "id": "3aba936b"
    }
  ],
  "nbformat": 4,
  "nbformat_minor": 5,
  "metadata": {
    "kernelspec": {
      "name": "python3",
      "display_name": "Python 3 (ipykernel)",
      "language": "python",
      "path": "/home/runner/work/fysisk-biokemi/fysisk-biokemi/.venv/share/jupyter/kernels/python3"
    },
    "language_info": {
      "name": "python",
      "codemirror_mode": {
        "name": "ipython",
        "version": "3"
      },
      "file_extension": ".py",
      "mimetype": "text/x-python",
      "nbconvert_exporter": "python",
      "pygments_lexer": "ipython3",
      "version": "3.11.13"
    }
  }
}